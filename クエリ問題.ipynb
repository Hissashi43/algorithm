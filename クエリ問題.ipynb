{
 "cells": [
  {
   "cell_type": "code",
   "execution_count": 3,
   "id": "b6cb672e-bf86-4bf8-aaa5-97ae37f7b0ca",
   "metadata": {
    "tags": []
   },
   "outputs": [
    {
     "name": "stdin",
     "output_type": "stream",
     "text": [
      " 2\n",
      " FLIP\n",
      " 2\n",
      " 2 0 0\n",
      " 1 1 4\n"
     ]
    },
    {
     "name": "stdout",
     "output_type": "stream",
     "text": [
      "LPFI\n"
     ]
    }
   ],
   "source": [
    "# 199 D クエリ、文字列操作。反転をうまく処理する。\n",
    "n = int(input())\n",
    "s = input()\n",
    "q = int(input())\n",
    "d1 = []\n",
    "d2 = []\n",
    "\n",
    "for i in range(2*n):\n",
    "    if i < n:\n",
    "        d1.append(s[i])\n",
    "    else:\n",
    "        d2.append(s[i])\n",
    "#print(d1+d2)\n",
    "for i in range(q):\n",
    "    t, a, b = map(int, input().split())\n",
    "    a -= 1\n",
    "    b -= 1\n",
    "\n",
    "    if t == 1:\n",
    "        if a < n and b < n:\n",
    "            x = d1[a]\n",
    "            y = d1[b]\n",
    "            d1[a] = y\n",
    "            d1[b] = x\n",
    "        if a < n and b >= n:\n",
    "            x = d1[a]\n",
    "            y = d2[b-n]\n",
    "            d1[a] = y\n",
    "            d2[b-n] = x\n",
    "        if a >= n and b >= n:\n",
    "            x = d2[a-n]\n",
    "            y = d2[b-n]\n",
    "            d2[a-n] = y\n",
    "            d2[b-n] = x\n",
    "    if t == 2:\n",
    "        tmp = d1\n",
    "        d1 = d2\n",
    "        d2 = tmp\n",
    "\n",
    "ans = d1+d2\n",
    "ans = ''.join(ans)\n",
    "print(ans)"
   ]
  },
  {
   "cell_type": "code",
   "execution_count": 26,
   "id": "08676b86-83ad-47f4-81a9-35eea74494e7",
   "metadata": {
    "tags": []
   },
   "outputs": [
    {
     "data": {
      "text/plain": [
       "-1"
      ]
     },
     "execution_count": 26,
     "metadata": {},
     "output_type": "execute_result"
    }
   ],
   "source": [
    "# 158 D 文字列操作。反転が処理時間を食うので、最後の反転までをスイッチで処理する。\n",
    "# それまでは先頭か最後に文字を追加するので、キューのappend, leftappendを用いる\n",
    "from collections import deque\n",
    "s = deque((input()))\n",
    "q = int(input())\n",
    "flag = True\n",
    "queries = [ list(map(str, input().split())) for _ in range(q)]\n",
    "idx = q\n",
    "for i in reversed(range(q-1)):\n",
    "    if queries[0]==1:\n",
    "        idx = q-1-i\n",
    "        break\n",
    "for i in range(0, idx):\n",
    "    query = queries[i]\n",
    "    if query[0]==\"1\":\n",
    "        flag = not flag\n",
    "    else:\n",
    "        if flag:\n",
    "            if query[1]==\"1\":\n",
    "                s.appendleft(query[2])\n",
    "            else:\n",
    "                s.append(query[2])\n",
    "        else:\n",
    "            if query[1]==\"1\":\n",
    "                s.append(query[2])\n",
    "            else:\n",
    "                s.appendleft(query[2])\n",
    "if idx==q and flag == False:\n",
    "    s = reversed(s)\n",
    "elif idx!=q:\n",
    "    s = reversed(s)\n",
    "    for i in range(idx+1, q):\n",
    "        query = queries[i]\n",
    "        if query[1]==1:\n",
    "            s.appendleft(query[2])\n",
    "        else:\n",
    "            s.append(query[2])\n",
    "print(''.join(map(str, s)))"
   ]
  },
  {
   "cell_type": "code",
   "execution_count": 11,
   "id": "2b0959d1-e949-4edd-af71-d3bc6e050007",
   "metadata": {},
   "outputs": [
    {
     "name": "stdin",
     "output_type": "stream",
     "text": [
      " 2\n",
      " FLIP\n",
      " 2\n",
      " 2 0 0\n",
      " 1 1 4\n"
     ]
    },
    {
     "name": "stdout",
     "output_type": "stream",
     "text": [
      "FILP\n"
     ]
    }
   ],
   "source": [
    "n = int(input())\n",
    "s = input()\n",
    "sl = s[:n]\n",
    "sr = s[n:]\n",
    "q = int(input())\n",
    "dic = {}\n",
    "for i in range(len(s)):\n",
    "    dic[i]=i\n",
    "flag = True\n",
    "for i in range(q):\n",
    "    t, a, b = map(str, input().split())\n",
    "    a = int(a)\n",
    "    b = int(b)\n",
    "    # if flag:\n",
    "    if t==\"1\":\n",
    "        if flag:\n",
    "            ta = dic[a-1]\n",
    "            tb = dic[b-1]\n",
    "            dic[tb] = ta\n",
    "            dic[ta] = tb\n",
    "        else:\n",
    "            if a<n:\n",
    "                ta = dic[n+a-1]\n",
    "            if a>=n:\n",
    "                ta = dic[a-n-1]\n",
    "            if b<n:\n",
    "                tb = dic[n+b-1]\n",
    "            if b>=n:\n",
    "                tb = dic[b-n-1]\n",
    "            dic[ta]=tb\n",
    "            dic[tb]=ta\n",
    "    else:\n",
    "        flag = not flag\n",
    "ans = \"\"\n",
    "for i in \n",
    "for i in range(2*n):\n",
    "    ans += s[dic[i]]\n",
    "print(ans)"
   ]
  },
  {
   "cell_type": "code",
   "execution_count": 5,
   "id": "6a148b2c-e98e-4c8c-adc2-a4d8c74e1345",
   "metadata": {
    "tags": []
   },
   "outputs": [
    {
     "data": {
      "text/plain": [
       "{0: 0, 1: 1, 2: 5, 3: 3, 4: 4, 5: 2, 6: 6, 7: 7, 8: 8, 9: 9}"
      ]
     },
     "execution_count": 5,
     "metadata": {},
     "output_type": "execute_result"
    }
   ],
   "source": [
    "dic = {}\n",
    "for i in range(2*5):\n",
    "    dic[i]=i\n",
    "a = dic[2]\n",
    "b = dic[5]\n",
    "dic[5] = a\n",
    "dic[2] = b\n",
    "dic"
   ]
  },
  {
   "cell_type": "code",
   "execution_count": 13,
   "id": "53434656-4c5d-4c06-8b44-ddd3c6f15e34",
   "metadata": {
    "tags": []
   },
   "outputs": [
    {
     "data": {
      "text/plain": [
       "2"
      ]
     },
     "execution_count": 13,
     "metadata": {},
     "output_type": "execute_result"
    }
   ],
   "source": [
    "# 205 D 配列Aにある要素を除いてk番目の正整数を求める問題\n",
    "import bisect\n",
    "\n",
    "n, q = map(int, input().split())\n",
    "A = list(map(int, input().split()))\n",
    "Ac = []\n",
    "for i in range(n):\n",
    "    Ac.append(A[i]-i-1)\n",
    "ans = []\n",
    "for i in range(q):\n",
    "    k = int(input())\n",
    "    if k<A[0]:\n",
    "        ans.append(k)\n",
    "    elif k>=A[-1]:\n",
    "        ans.append(k+n)\n",
    "    else:\n",
    "        idx = bisect.bisect_left(Ac, k)\n",
    "        ans.append(k-Ac[idx-1]+A[idx-1])\n",
    "for i in range(q):\n",
    "    print(ans[i])"
   ]
  },
  {
   "cell_type": "code",
   "execution_count": 15,
   "id": "702e4989-4933-44a1-9740-cfd655904f58",
   "metadata": {
    "tags": []
   },
   "outputs": [
    {
     "name": "stdin",
     "output_type": "stream",
     "text": [
      " 20\n",
      " 7 8 1 1 4 9 9 6 8 2 4 1 1 9 5 5 5 3 6 4\n"
     ]
    },
    {
     "name": "stdout",
     "output_type": "stream",
     "text": [
      "173\n"
     ]
    }
   ],
   "source": [
    "from collections import defaultdict\n",
    "dic = defaultdict(lambda: 0)\n",
    "n = int(input())\n",
    "A = list(map(int, input().split()))\n",
    "for i in range(n):\n",
    "    dic[A[i]]+=1\n",
    "m = len(dic.keys())\n",
    "ans = n*(n-1)//2\n",
    "for key in dic.keys():\n",
    "    a = dic[key]\n",
    "    if a>=2:\n",
    "        ans -= a*(a-1)//2\n",
    "print(ans)\n",
    "    "
   ]
  },
  {
   "cell_type": "code",
   "execution_count": 15,
   "id": "a8180a2e-dc70-4631-8b00-048d408bb38e",
   "metadata": {
    "tags": []
   },
   "outputs": [
    {
     "data": {
      "text/plain": [
       "{0: 0, 1: 2, 2: 1, 3: 3}"
      ]
     },
     "execution_count": 15,
     "metadata": {},
     "output_type": "execute_result"
    }
   ],
   "source": [
    "dic"
   ]
  },
  {
   "cell_type": "code",
   "execution_count": 16,
   "id": "68489863-48c4-4728-a106-3430af8f0653",
   "metadata": {
    "tags": []
   },
   "outputs": [],
   "source": [
    "dic[2]=1\n",
    "dic[1]=2"
   ]
  },
  {
   "cell_type": "code",
   "execution_count": 3,
   "id": "d9022119-6c58-4d34-b201-89f716cab1d9",
   "metadata": {
    "tags": []
   },
   "outputs": [
    {
     "name": "stdin",
     "output_type": "stream",
     "text": [
      " <>>\n"
     ]
    },
    {
     "name": "stdout",
     "output_type": "stream",
     "text": [
      "No\n"
     ]
    }
   ],
   "source": [
    "s = input()\n",
    "if s[0]==\"<\" and s[-1]==\">\" and s[1:-1]==\"=\"*(len(s)-2):\n",
    "    print(\"Yes\")\n",
    "else:\n",
    "    print(\"No\")"
   ]
  },
  {
   "cell_type": "code",
   "execution_count": 26,
   "id": "f7f0cf41-aa24-4a6d-8bd2-d593687f680d",
   "metadata": {},
   "outputs": [
    {
     "name": "stdin",
     "output_type": "stream",
     "text": [
      " 123456789123456789\n"
     ]
    },
    {
     "name": "stdout",
     "output_type": "stream",
     "text": [
      "12345678912345679\n"
     ]
    }
   ],
   "source": [
    "import math\n",
    "from decimal import Decimal\n",
    "x = Decimal(input())\n",
    "ans = Decimal(math.ceil(x/10))\n",
    "# if x[-1]==\"0\":\n",
    "#     ans = x[:-1]\n",
    "# elif x[0]==\"-\":\n",
    "#     ans = x[:-1]\n",
    "# else:\n",
    "#     ans = int(x)//10+1\n",
    "print(ans)"
   ]
  },
  {
   "cell_type": "code",
   "execution_count": 33,
   "id": "674ab519-112d-47bf-b002-5485ff540e6c",
   "metadata": {
    "tags": []
   },
   "outputs": [
    {
     "name": "stdin",
     "output_type": "stream",
     "text": [
      " aaaaa\n"
     ]
    },
    {
     "name": "stdout",
     "output_type": "stream",
     "text": [
      "1\n"
     ]
    }
   ],
   "source": [
    "from collections import defaultdict\n",
    "s = input()\n",
    "dic = defaultdict(lambda: 0)\n",
    "for i in range(len(s)):\n",
    "    dic[s[i]]+=1\n",
    "n = len(s)\n",
    "ans = n*(n-1)//2\n",
    "flag = False\n",
    "for key in dic.keys():\n",
    "    a = dic[key]\n",
    "    if a>=2:\n",
    "        flag = True\n",
    "        ans -= a*(a-1)//2\n",
    "if flag:\n",
    "    ans +=1\n",
    "print(ans)"
   ]
  },
  {
   "cell_type": "code",
   "execution_count": null,
   "id": "4cd81d8d-5956-4ba0-abaf-74542938ccfc",
   "metadata": {},
   "outputs": [],
   "source": [
    "\n",
    "n, h, w =map(int, input().split())\n",
    "A = []\n",
    "B = []\n",
    "for i in range(n):\n",
    "    a, b = map(int, input().split())\n",
    "    A.append((a, b))\n",
    "    B.append((b, a))\n",
    "kara = [ [0]*w for _ in range(h) ]\n",
    "C = [ [1]*w for _ in range(h) ]\n",
    "\n",
    "# size=4\n",
    "# A=[input() for _ in range(size)]\n",
    "# B=[input() for _ in range(size)]\n",
    "# C=[input() for _ in range(size)]\n",
    "# collectset={(0, 0),(0, 1),(0, 2),(0, 3),(1, 0),(1, 1),(1, 2),(1, 3),(2, 0),(2, 1),(2, 2),(2, 3),(3, 0),(3, 1),(3, 2),(3, 3)}\n",
    "\n",
    "# def returnset(S):\n",
    "#     retset=set()\n",
    "#     for i in range(size):\n",
    "#         for j in range(size):\n",
    "#             if S[i][j]=='#':\n",
    "#                 retset.add((i,j))\n",
    "#     return retset\n",
    "    \n",
    "# A=returnset(A)\n",
    "# B=returnset(B)\n",
    "# C=returnset(C)\n",
    "\n",
    "# if len(A)+len(B)+len(C)!=16:\n",
    "#     print(\"No\")\n",
    "#     exit()\n",
    "    \n",
    "# def minimize(S):\n",
    "#     mx,my=min(S)\n",
    "#     retset=set()\n",
    "#     for x,y in S:\n",
    "#         retset.add((x-mx,y-my))\n",
    "#     return retset\n",
    "    \n",
    "# A=minimize(A)\n",
    "# def rotate(S):\n",
    "#     retset=set()\n",
    "#     for x,y in S:\n",
    "#         retset.add((y,-x))\n",
    "#     return minimize(retset)\n",
    "\n",
    "# def parallelmove(S,p,q):\n",
    "#     retset=set()\n",
    "#     for x,y in S:\n",
    "#         retset.add((x+p,y+q))\n",
    "#     return retset\n",
    "\n",
    "# for i in range(4):\n",
    "#     B=rotate(B)\n",
    "#     for j in range(4):\n",
    "#         C=rotate(C)\n",
    "#         for k in range(5):\n",
    "#             for l in range(5):\n",
    "#                 u1=parallelmove(A,k,l)\n",
    "#                 for m in range(5):\n",
    "#                     for n in range(5):\n",
    "#                         u2=parallelmove(B,m,n)\n",
    "#                         for o in range(5):\n",
    "#                             for p in range(5):\n",
    "#                                 u3=parallelmove(C,o,p)\n",
    "#                                 #print(A|u1|u2)\n",
    "#                                 if u1.union(u2,u3)==collectset:\n",
    "#                                     print(\"Yes\")\n",
    "#                                     exit()\n",
    "                        \n",
    "# print(\"No\")"
   ]
  },
  {
   "cell_type": "code",
   "execution_count": 34,
   "id": "188109fc-f442-4d52-ad66-19c7859ad746",
   "metadata": {
    "tags": []
   },
   "outputs": [
    {
     "data": {
      "text/plain": [
       "[[1, 1, 1, 1, 1],\n",
       " [1, 1, 1, 1, 1],\n",
       " [1, 1, 1, 1, 1],\n",
       " [1, 1, 1, 1, 1],\n",
       " [1, 1, 1, 1, 1],\n",
       " [1, 1, 1, 1, 1],\n",
       " [1, 1, 1, 1, 1],\n",
       " [1, 1, 1, 1, 1],\n",
       " [1, 1, 1, 1, 1],\n",
       " [1, 1, 1, 1, 1]]"
      ]
     },
     "execution_count": 34,
     "metadata": {},
     "output_type": "execute_result"
    }
   ],
   "source": [
    "A = [ [1]*5 for _ in range(10)]\n",
    "A"
   ]
  },
  {
   "cell_type": "code",
   "execution_count": 42,
   "id": "01d4b33a-d96b-4849-9dcc-441407aa806a",
   "metadata": {
    "tags": []
   },
   "outputs": [
    {
     "data": {
      "text/plain": [
       "5040"
      ]
     },
     "execution_count": 42,
     "metadata": {},
     "output_type": "execute_result"
    }
   ],
   "source": [
    "import itertools\n",
    "it = list(itertools.permutations(range(1, 8)))\n",
    "len(it)"
   ]
  },
  {
   "cell_type": "code",
   "execution_count": 52,
   "id": "c0f77cf5-e0a4-4626-8c77-865b93c86756",
   "metadata": {
    "tags": []
   },
   "outputs": [
    {
     "data": {
      "text/plain": [
       "array([[2, 6, 8],\n",
       "       [7, 7, 7]])"
      ]
     },
     "execution_count": 52,
     "metadata": {},
     "output_type": "execute_result"
    }
   ],
   "source": [
    "import numpy as np\n",
    "A = np.array([[2, 3, 4], [4, 5, 6]])\n",
    "B = np.array([[0, 3, 4], [3, 2, 1]])\n",
    "A+B"
   ]
  },
  {
   "cell_type": "code",
   "execution_count": null,
   "id": "15bd6f77-6673-4505-ae75-62cd97462ca7",
   "metadata": {},
   "outputs": [],
   "source": []
  }
 ],
 "metadata": {
  "kernelspec": {
   "display_name": "Python 3 (ipykernel)",
   "language": "python",
   "name": "python3"
  },
  "language_info": {
   "codemirror_mode": {
    "name": "ipython",
    "version": 3
   },
   "file_extension": ".py",
   "mimetype": "text/x-python",
   "name": "python",
   "nbconvert_exporter": "python",
   "pygments_lexer": "ipython3",
   "version": "3.11.4"
  }
 },
 "nbformat": 4,
 "nbformat_minor": 5
}
