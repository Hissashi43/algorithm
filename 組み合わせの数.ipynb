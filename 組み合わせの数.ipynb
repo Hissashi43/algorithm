{
 "cells": [
  {
   "cell_type": "code",
   "execution_count": null,
   "id": "7c12f783-9101-4d6e-bd22-43e0ce4bb281",
   "metadata": {},
   "outputs": [],
   "source": [
    "# 152 D, 2つの数字で、それぞれ末尾と先頭の数が等しいものの数\n",
    "N=int(input())\n",
    "T=[[0]*10 for _ in range(10)]\n",
    "for i in range(1,N+1):\n",
    "    S=str(i)\n",
    "    t=int(S[0])\n",
    "    b=int(S[-1])\n",
    "    T[t][b]+=1\n",
    "ans=0\n",
    "for i in range(1,10):\n",
    "    for j in range(1,10):\n",
    "        ans+=T[i][j]*T[j][i]\n",
    "print(ans)"
   ]
  },
  {
   "cell_type": "code",
   "execution_count": null,
   "id": "289ee9e8-aa2e-42fe-b1c1-9acfa5314a78",
   "metadata": {},
   "outputs": [],
   "source": [
    "# 156 D n種類のものから１以上を選ぶ組み合わせの数。ただしa, bの２つの数は選ぶことが出来ない\n",
    "\n",
    "import math\n",
    "n, a, b = map(int, input().split())\n",
    "\n",
    "mod = 1000000007\n",
    "\n",
    "def Division(n, mod):\n",
    "    return pow(n, mod-2, mod)\n",
    "\n",
    "def combination_a(n, k, mod):\n",
    "    bunshi = 1\n",
    "    bunbo = 1\n",
    "    for i in range(k):\n",
    "        bunshi = bunshi*(n-i)%mod\n",
    "        bunbo = bunbo*(i+1)%mod\n",
    "    return bunshi*Division(bunbo, mod)\n",
    "ans = pow(2, n, mod)-1\n",
    "ans -= combination_a(n, a, mod)\n",
    "ans -= combination_a(n, b, mod)\n",
    "print(ans%mod)"
   ]
  },
  {
   "cell_type": "code",
   "execution_count": null,
   "id": "0be1f7c3-39be-4d60-b7a5-41973656f037",
   "metadata": {},
   "outputs": [],
   "source": [
    "# 156 E n個の部屋に１人ずつ人がいて、k回移動をした後のあり得る各部屋の人数の組み合わせ\n",
    "\n",
    "n,K = map(int,input().split())\n",
    "\n",
    "mod = 10**9+7\n",
    "k = [1,1]\n",
    "k_inv = []\n",
    "\n",
    "M = 2*10**5+10\n",
    "for i in range(2,M):\n",
    "    k.append((k[-1]*i)%mod)\n",
    "\n",
    "for i in range(len(k)):\n",
    "    k_inv.append(pow(k[i],mod-2,mod))\n",
    "\n",
    "def comb(m,b):\n",
    "    return k[m]*k_inv[m-b]*k_inv[b]%mod\n",
    "\n",
    "ans = 0\n",
    "\n",
    "for x in range(min(n-1,K)+1):\n",
    "    ans += comb(n,x)*comb(n-1,x)\n",
    "    ans%=mod\n",
    "\n",
    "print(ans)"
   ]
  },
  {
   "cell_type": "code",
   "execution_count": null,
   "id": "8b2ebe1b-9acd-47e4-845c-9ee6619580ce",
   "metadata": {},
   "outputs": [],
   "source": [
    "# 198 D N1+N2=N3を満たす組合わせを一つ出力。問題はS1＋S2＝S3の覆面算で与えられ、\n",
    "# S1のi文字目とS2のj文字目が等しい（例えば\"a\")の時、同じ数字を当てはめる\n",
    "# 全探索\n",
    "import itertools\n",
    "\n",
    "s1 = list(input())\n",
    "s2 = list(input())\n",
    "s3 = list(input())\n",
    "dic = {}\n",
    "for i in range(len(s1)):\n",
    "    if s1[i] not in dic:\n",
    "        dic[s1[i]]=0\n",
    "for i in range(len(s2)):\n",
    "    if s2[i] not in dic:\n",
    "        dic[s2[i]]=0\n",
    "for i in range(len(s3)):\n",
    "    if s3[i] not in dic:\n",
    "        dic[s3[i]]=0\n",
    "\n",
    "it = list(itertools.permutations(range(0, 10), r=len(dic)))\n",
    "flag = False\n",
    "for item in it:\n",
    "    for key, i in zip(dic.keys(), range(len(dic))):\n",
    "        dic[key]=item[i]\n",
    "    s1t = \"\"\n",
    "    s2t = \"\"\n",
    "    s3t = \"\"\n",
    "    for i in range(len(s1)):\n",
    "        s1t = s1t + str(dic[s1[i]])\n",
    "    for i in range(len(s2)):\n",
    "        s2t = s2t + str(dic[s2[i]])\n",
    "    for i in range(len(s3)):\n",
    "        s3t = s3t + str(dic[s3[i]])\n",
    "    if s1t[0]==\"0\" or s2t[0]==\"0\" or s3t[0]==\"0\":\n",
    "        continue\n",
    "    s1t, s2t, s3t = int(s1t), int(s2t), int(s3t)\n",
    "    if s1t==0 or s2t==0 or s3t==0:\n",
    "        continue\n",
    "    if s1t+s2t==s3t:\n",
    "        flag = True\n",
    "        break\n",
    "if flag:\n",
    "    print(s1t)\n",
    "    print(s2t)\n",
    "    print(s3t)\n",
    "else:\n",
    "    print(\"UNSOLVABLE\")"
   ]
  },
  {
   "cell_type": "code",
   "execution_count": null,
   "id": "0187cd1b-35d3-4353-b693-6f9e4e9989b4",
   "metadata": {},
   "outputs": [],
   "source": [
    "# 200 D 配列Aの要素から異なる2つの組み合わせの配列を作成して、その総和の200で割ったあまりが\n",
    "# 等しい配列の組み合わせを見つける。bit全探索\n",
    "\n",
    "N = int(input())\n",
    "A = list(map(int, input().split()))\n",
    "\n",
    "new_A = A[:8]\n",
    "from collections import defaultdict\n",
    "\n",
    "d = defaultdict(list)\n",
    "for i in range(1,2**len(new_A)):\n",
    "    tmp = []\n",
    "    nu = 0\n",
    "    for j in range(len(new_A)):\n",
    "        if (i >> j) & 1:\n",
    "            tmp.append(j+1)\n",
    "            nu += new_A[j]\n",
    "            nu %= 200\n",
    "\n",
    "    d[nu].append(tmp)\n",
    "#print(d)\n",
    "\n",
    "d = d.values()\n",
    "#print(d)\n",
    "\n",
    "for i in d:\n",
    "    if len(i) >= 2:\n",
    "        print(\"Yes\")\n",
    "        a = i[0]\n",
    "        b = i[1]\n",
    "        a = [len(a)] + a\n",
    "        b = [len(b)] + b\n",
    "        print(*a)\n",
    "        print(*b)\n",
    "        exit()\n",
    "print(\"No\")"
   ]
  },
  {
   "cell_type": "code",
   "execution_count": null,
   "id": "1c4bf7f6-888d-4814-9f22-f5556f932a16",
   "metadata": {},
   "outputs": [],
   "source": [
    "# 202 D n個のaとm個のbからなる文字列の内、辞書順でｋ番目の文字列を出力\n",
    "\n",
    "from math import comb\n",
    "\n",
    "A, B, K = map(int, input().split())\n",
    "N = A + B\n",
    "S =\"\"\n",
    "\n",
    "while A != 0 and B != 0:\n",
    "    t = comb(N-1,A-1)\n",
    "    if t >= K: \n",
    "        S += \"a\"\n",
    "        A -= 1\n",
    "    else:\n",
    "        S += \"b\"\n",
    "        B -= 1\n",
    "        K -= t\n",
    "    N -= 1\n",
    "\n",
    "for _ in range(A):\n",
    "    S += \"a\"\n",
    "for _ in range(B):\n",
    "    S += \"b\"\n",
    "    \n",
    "print(S)"
   ]
  },
  {
   "cell_type": "code",
   "execution_count": 16,
   "id": "85006009-ee76-4336-96a7-3bf1d1b28bf5",
   "metadata": {
    "tags": []
   },
   "outputs": [
    {
     "data": {
      "text/plain": [
       "5999999985"
      ]
     },
     "execution_count": 16,
     "metadata": {},
     "output_type": "execute_result"
    }
   ],
   "source": [
    "#しゃくとり法の実装\n",
    "N, K = map(int, input().split())\n",
    "array_A = list(map(int, input().split()))\n",
    "R = [0] * N\n",
    "answer = 0\n",
    "for i in range(0, N-1):\n",
    "    if i==0:\n",
    "        R[0] = 1\n",
    "    else:\n",
    "        R[i] = R[i-1]\n",
    "    while R[i] < N and array_A[i]+K>=array_A[R[i]]:\n",
    "        R[i] += 1\n",
    "        answer += (R[i]-(i+1))\n",
    "print(answer)"
   ]
  },
  {
   "cell_type": "code",
   "execution_count": null,
   "id": "fb07d882-6d33-4a96-9f79-7fe1b50d4430",
   "metadata": {},
   "outputs": [],
   "source": [
    "# 典型90 15 1からNまでのkについて、k以上差のある数値を選ぶ組み合わせの数を出力\n",
    "mod=10**9+7\n",
    "fact=[1,1]\n",
    "inv=[0,1]\n",
    "f_inv=[1,1]\n",
    "\n",
    "for i in range(2,10**5+1):\n",
    "    fact.append(fact[-1]*i%mod)\n",
    "    inv.append(mod-inv[mod%i]*(mod//i)%mod)\n",
    "    f_inv.append(f_inv[-1]*inv[-1]%mod)\n",
    "def nCr(n,r):\n",
    "    if r<0 or n<r:\n",
    "        return 0\n",
    "    return fact[n]*f_inv[n-r]%mod*f_inv[r]%mod\n",
    "    \n",
    "N=int(input())\n",
    "for k in range(1,N+1):\n",
    "    ans=0\n",
    "    for tmp in range(1,N+1):\n",
    "        n=N-(k-1)*(tmp-1)\n",
    "        if n<tmp: break\n",
    "        ans+=nCr(n,tmp)\n",
    "        ans%=mod\n",
    "        #print(k,tmp,ans)\n",
    "    print(ans)"
   ]
  },
  {
   "cell_type": "code",
   "execution_count": null,
   "id": "d31ce82e-5f2d-48fb-a459-726b09bee306",
   "metadata": {},
   "outputs": [],
   "source": [
    "# 334 両端からの累積和\n",
    "from itertools import accumulate\n",
    "N, K = map(int, input().split())\n",
    "A = list(map(int, input().split()))\n",
    "colors = []\n",
    "now = 0\n",
    "\n",
    "for i in range(N):\n",
    "    if now<K and A[now]==i+1:\n",
    "        colors.append(i)\n",
    "        now += 1\n",
    "    else:\n",
    "        colors.append(i)\n",
    "        colors.append(i)\n",
    "D = []\n",
    "for i in range(2*N-K-1):\n",
    "    sa = colors[i+1]-colors[i]\n",
    "    D.append(sa)\n",
    "L = []\n",
    "R = []\n",
    "for i in range(len(D)):\n",
    "    if i==0:\n",
    "        L.append(D[i])\n",
    "    elif i==1:\n",
    "        R.append(D[len(D)-i])\n",
    "    elif i%2==0:\n",
    "        L.append(L[-1]+D[i])\n",
    "    elif i%2==1:\n",
    "        R.append(R[-1]+D[len(D)-i])\n",
    "ans = int(1e18)\n",
    "for i in range(len(L)+1):\n",
    "    if i==0:\n",
    "        tmp = R[-1]\n",
    "    elif i==len(L):\n",
    "        tmp = L[-1]\n",
    "    else:\n",
    "        tmp = L[i-1]+R[len(L)-1-i]\n",
    "    ans = min(ans, tmp)\n",
    "if (2*N-K)%2==0:\n",
    "    print(L[-1])\n",
    "else:\n",
    "    print(ans)"
   ]
  },
  {
   "cell_type": "code",
   "execution_count": 69,
   "id": "8023f092-ca12-4a5b-a9d6-263968c9fd9e",
   "metadata": {
    "tags": []
   },
   "outputs": [
    {
     "name": "stdin",
     "output_type": "stream",
     "text": [
      " 4\n",
      " 1 5 4\n",
      " 7 8\n",
      " 6\n"
     ]
    },
    {
     "ename": "IndexError",
     "evalue": "list index out of range",
     "output_type": "error",
     "traceback": [
      "\u001b[1;31m---------------------------------------------------------------------------\u001b[0m",
      "\u001b[1;31mIndexError\u001b[0m                                Traceback (most recent call last)",
      "Cell \u001b[1;32mIn[69], line 29\u001b[0m\n\u001b[0;32m     27\u001b[0m     array \u001b[38;5;241m=\u001b[39m [ i \u001b[38;5;28;01mfor\u001b[39;00m i \u001b[38;5;129;01min\u001b[39;00m \u001b[38;5;28mrange\u001b[39m(N) ]\n\u001b[0;32m     28\u001b[0m     h_score \u001b[38;5;241m=\u001b[39m \u001b[38;5;241m0\u001b[39m\n\u001b[1;32m---> 29\u001b[0m     solve(array, \u001b[38;5;241m0\u001b[39m)\n\u001b[0;32m     30\u001b[0m \u001b[38;5;28mprint\u001b[39m(h_score)\n",
      "Cell \u001b[1;32mIn[69], line 18\u001b[0m, in \u001b[0;36msolve\u001b[1;34m(array, score)\u001b[0m\n\u001b[0;32m     16\u001b[0m \u001b[38;5;28;01mif\u001b[39;00m l\u001b[38;5;241m>\u001b[39m\u001b[38;5;241m=\u001b[39m\u001b[38;5;241m2\u001b[39m:\n\u001b[0;32m     17\u001b[0m     \u001b[38;5;28;01mfor\u001b[39;00m i \u001b[38;5;129;01min\u001b[39;00m \u001b[38;5;28mrange\u001b[39m(\u001b[38;5;241m1\u001b[39m, l):\n\u001b[1;32m---> 18\u001b[0m         new_score \u001b[38;5;241m=\u001b[39m score \u001b[38;5;241m+\u001b[39m D[p][array[i]\u001b[38;5;241m-\u001b[39mp\u001b[38;5;241m-\u001b[39m\u001b[38;5;241m1\u001b[39m]\n\u001b[0;32m     19\u001b[0m         array \u001b[38;5;241m=\u001b[39m d_array(array, p, array[i])\n\u001b[0;32m     20\u001b[0m         \u001b[38;5;28;01mif\u001b[39;00m \u001b[38;5;28mlen\u001b[39m(array)\u001b[38;5;241m>\u001b[39m\u001b[38;5;241m1\u001b[39m:\n",
      "\u001b[1;31mIndexError\u001b[0m: list index out of range"
     ]
    }
   ],
   "source": [
    "# import heapq\n",
    "# import itertools\n",
    "# N = int(input())\n",
    "# n = N//2\n",
    "# D = [ list(map(int, input().split())) for _ in range(N-1) ]\n",
    "\n",
    "# def d_array(array, p, q):\n",
    "#     del array[array.index(p)]\n",
    "#     del array[array.index(q)]\n",
    "#     return array\n",
    "\n",
    "# def solve(array, score):\n",
    "#     global h_score \n",
    "#     p = array[0]\n",
    "#     l = len(array)\n",
    "#     if l>=2:\n",
    "#         for i in range(1, l):\n",
    "#             new_score = score + D[p][array[i]-p-1]\n",
    "#             array = d_array(array, p, array[i])\n",
    "#             if len(array)>1:\n",
    "#                 solve(array, new_score)\n",
    "#             else:\n",
    "#                 if new_score>h_score:\n",
    "#                     h_score = new_score\n",
    "        \n",
    "# for i in range(N-1):\n",
    "#     array = [ i for i in range(N) ]\n",
    "#     h_score = 0\n",
    "#     solve(array, 0)\n",
    "# print(h_score)\n",
    "# # edges = []\n",
    "# # for i in range(N-1):\n",
    "# #     for j in range(N-1-i):\n",
    "# #         heapq.heappush(edges, (-D[i][j], i, j+i+1))\n",
    "# # for i in range(N-1):\n",
    "# #     if \n",
    "# # flag = [False]*N\n",
    "# # C = itertools.permutation(range(16))\n",
    "# # for i in range(N*(N-1)//2):\n",
    "# #     w, pos1, pos2 = heapq.heappop(edges)\n",
    "# #     if not flag[pos1] and not flag[pos2]:\n",
    "# #         ans -= w\n",
    "# #         flag[pos1], flag[pos2] = True, True\n",
    "# # print(ans)"
   ]
  },
  {
   "cell_type": "code",
   "execution_count": 70,
   "id": "cf30274e-e85f-4dfc-b04a-3715c4b615fd",
   "metadata": {
    "tags": []
   },
   "outputs": [
    {
     "data": {
      "text/plain": [
       "[]"
      ]
     },
     "execution_count": 70,
     "metadata": {},
     "output_type": "execute_result"
    }
   ],
   "source": [
    "array"
   ]
  },
  {
   "cell_type": "code",
   "execution_count": 63,
   "id": "3199b94f-c671-4254-9d0a-0e4b41d875a6",
   "metadata": {
    "tags": []
   },
   "outputs": [
    {
     "data": {
      "text/plain": [
       "[2]"
      ]
     },
     "execution_count": 63,
     "metadata": {},
     "output_type": "execute_result"
    }
   ],
   "source": [
    "array"
   ]
  },
  {
   "cell_type": "code",
   "execution_count": 66,
   "id": "2d9e828e-c516-4c4d-b0ea-ab4b136017fd",
   "metadata": {
    "tags": []
   },
   "outputs": [
    {
     "data": {
      "text/plain": [
       "[2]"
      ]
     },
     "execution_count": 66,
     "metadata": {},
     "output_type": "execute_result"
    }
   ],
   "source": [
    "array"
   ]
  },
  {
   "cell_type": "code",
   "execution_count": 68,
   "id": "9d6c581e-8c83-4503-b0d3-915107b4b41e",
   "metadata": {
    "tags": []
   },
   "outputs": [
    {
     "ename": "NameError",
     "evalue": "name 'l' is not defined",
     "output_type": "error",
     "traceback": [
      "\u001b[1;31m---------------------------------------------------------------------------\u001b[0m",
      "\u001b[1;31mNameError\u001b[0m                                 Traceback (most recent call last)",
      "Cell \u001b[1;32mIn[68], line 1\u001b[0m\n\u001b[1;32m----> 1\u001b[0m l\n",
      "\u001b[1;31mNameError\u001b[0m: name 'l' is not defined"
     ]
    }
   ],
   "source": [
    "l"
   ]
  },
  {
   "cell_type": "code",
   "execution_count": 16,
   "id": "4d281a57-f5d3-4732-ac14-82c8491e46df",
   "metadata": {
    "tags": []
   },
   "outputs": [
    {
     "data": {
      "text/plain": [
       "2027025"
      ]
     },
     "execution_count": 16,
     "metadata": {},
     "output_type": "execute_result"
    }
   ],
   "source": [
    "15*13*11*9*7*5*3"
   ]
  },
  {
   "cell_type": "code",
   "execution_count": null,
   "id": "c35dcc59-0645-4df7-8314-5938213f042a",
   "metadata": {},
   "outputs": [],
   "source": []
  }
 ],
 "metadata": {
  "kernelspec": {
   "display_name": "Python 3 (ipykernel)",
   "language": "python",
   "name": "python3"
  },
  "language_info": {
   "codemirror_mode": {
    "name": "ipython",
    "version": 3
   },
   "file_extension": ".py",
   "mimetype": "text/x-python",
   "name": "python",
   "nbconvert_exporter": "python",
   "pygments_lexer": "ipython3",
   "version": "3.11.4"
  }
 },
 "nbformat": 4,
 "nbformat_minor": 5
}
