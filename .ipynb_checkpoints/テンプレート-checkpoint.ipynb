{
 "cells": [
  {
   "cell_type": "markdown",
   "id": "25a3af2f-e34c-4f54-9f17-791006e6aeab",
   "metadata": {},
   "source": []
  },
  {
   "cell_type": "code",
   "execution_count": null,
   "id": "01c242b7-622a-4f63-8113-e9aeb85a1f3c",
   "metadata": {},
   "outputs": [],
   "source": [
    "# 幅優先探索、\".\"と \"#\"からなる迷路。スタートからゴールまでの距離を出力する\n",
    "from collections import deque\n",
    "\n",
    "r, c = map(int, input().split())\n",
    "sx, sy = map(int, input().split())\n",
    "gx, gy = map(int, input().split())\n",
    "maze = [list(input()) for _ in range(r)]\n",
    "\n",
    "\n",
    "que = deque()\n",
    "que.append([sx-1, sy-1])\n",
    "dist = [ [-1]*c for _ in range(r)]\n",
    "dist[sx-1][sy-1]=0\n",
    "# for i in range(r):\n",
    "#     for j in range(c):\n",
    "#         pos = maze[i][j]\n",
    "#         if pos==\".\":\n",
    "#             G[i, j].append([i-1, j]); G.append\n",
    "\n",
    "while len(que)>0:\n",
    "    pos = que.popleft()\n",
    "    [a, b] = pos\n",
    "    if a==gx-1 and b==gy-1:\n",
    "        break\n",
    "    if maze[a][b+1]==\".\" and dist[a][b+1]==-1:\n",
    "        que.append([a, b+1])\n",
    "        dist[a][b+1] = dist[a][b]+1\n",
    "    if maze[a][b-1]==\".\" and dist[a][b-1]==-1:\n",
    "        que.append([a, b-1])\n",
    "        dist[a][b-1] = dist[a][b]+1\n",
    "    if maze[a+1][b]==\".\" and dist[a+1][b]==-1:\n",
    "        que.append([a+1, b])\n",
    "        dist[a+1][b] = dist[a][b]+1\n",
    "    if maze[a-1][b]==\".\" and dist[a-1][b]==-1:\n",
    "        que.append([a-1, b])\n",
    "        dist[a-1][b] = dist[a][b]+1\n",
    "\n",
    "print(int(dist[gx-1][gy-1]))"
   ]
  },
  {
   "cell_type": "code",
   "execution_count": null,
   "id": "1bf05ac3-0067-4be1-b0ad-e0a1aae5df5e",
   "metadata": {},
   "outputs": [],
   "source": [
    "# ダイクストラ法。重み付きの辺と頂点からなるグラフについて、１から各頂点までの最短距離を出力。\n",
    "# もし経路がない場合は-1を出力する\n",
    "# ポイント１： heapq(優先度付きキュー)を使って、posから最も近い順に処理する。\n",
    "# ポイント2: 上記のキューにはタプルを保管していく。タプルの第一要素が距離、第二要素がposとなる\n",
    "# 可能な経路の内、距離が短い方から処理していくため、必然的に最短経路が求められる。\n",
    "\n",
    "# kakutei == 各頂点までの最短距離が設定された際のフラグ。Falseで初期化\n",
    "# cur == 各頂点までの距離を格納するリスト。infで初期化\n",
    "# Q == 優先度付きキュー。処理するposの（距離、pos名）のタプルを保管する。\n",
    "\n",
    "import heapq\n",
    "\n",
    "n, m = map(int, input().split())\n",
    "edges = [ list(map(int, input().split())) for i in range(m) ]\n",
    "\n",
    "G = [ list() for i in range(n + 1)]\n",
    "for a, b, c in edges:\n",
    "    G[a].append((b, c))\n",
    "    G[b].append((a, c))\n",
    "\n",
    "# 配列・キューの初期化（キューには（頂点、頂点番号）のタプルを記録）\n",
    "inf = 10**10\n",
    "kakutei = [False]*(n+1)\n",
    "cur = [inf]*(n+1)\n",
    "cur[1] = 0\n",
    "Q = []\n",
    "heapq.heappush(Q, (cur[1], 1))\n",
    "\n",
    "# ダイクストラ法\n",
    "while len(Q) >= 1:\n",
    "    pos = heapq.heappop(Q)[1]\n",
    "    \n",
    "    if kakutei[pos]==True:\n",
    "        continue\n",
    "    \n",
    "    kakutei[pos] = True\n",
    "    for e in G[pos]:\n",
    "        if cur[e[0]] > cur[pos] + e[1]:\n",
    "            cur[e[0]] = cur[pos] + e[1]\n",
    "            heapq.heappush(Q, (cur[e[0]], e[0]))\n",
    "\n",
    "for i in range(1, n+1):\n",
    "    if cur[i] != inf:\n",
    "        print(cur[i])\n",
    "    else:\n",
    "        print(\"-1\")\n"
   ]
  },
  {
   "cell_type": "code",
   "execution_count": null,
   "id": "b91bfac8-560e-4bfe-a6c6-14a12cd2d086",
   "metadata": {},
   "outputs": [],
   "source": [
    "# ダイクストラ法の経路復元。\n",
    "# 基本的には普通のダイクストラ法と同じで、最後に経路復元の繰り返し処理が入る\n",
    "\n",
    "import heapq\n",
    "\n",
    "n, m = map(int, input().split())\n",
    "edges = [ list(map(int, input().split())) for i in range(m) ]\n",
    "\n",
    "G = [ list() for i in range(n + 1)]\n",
    "for a, b, c in edges:\n",
    "    G[a].append((b, c))\n",
    "    G[b].append((a, c))\n",
    "\n",
    "# 配列・キューの初期化（キューには（頂点、頂点番号）のタプルを記録）\n",
    "inf = 10**10\n",
    "kakutei = [False]*(n+1)\n",
    "cur = [inf]*(n+1)\n",
    "cur[1] = 0\n",
    "Q = []\n",
    "heapq.heappush(Q, (cur[1], 1))\n",
    "\n",
    "# ダイクストラ法\n",
    "while len(Q) >= 1:\n",
    "    pos = heapq.heappop(Q)[1]\n",
    "    \n",
    "    if kakutei[pos]==True:\n",
    "        continue\n",
    "    \n",
    "    kakutei[pos] = True\n",
    "    for e in G[pos]:\n",
    "        if cur[e[0]] > cur[pos] + e[1]:\n",
    "            cur[e[0]] = cur[pos] + e[1]\n",
    "            heapq.heappush(Q, (cur[e[0]], e[0]))\n",
    "\n",
    "# 経路の復元\n",
    "route = [n]\n",
    "t = n\n",
    "while t!=1:\n",
    "    for e in G[t]:\n",
    "        if cur[e[0]] == cur[t] - e[1]:\n",
    "            route.append(e[0])\n",
    "            t = e[0]\n",
    "route = route[::-1]\n",
    "print(*route)"
   ]
  },
  {
   "cell_type": "code",
   "execution_count": null,
   "id": "0534c241-5792-4a1e-bc38-6d7d4e874cbd",
   "metadata": {},
   "outputs": [],
   "source": []
  },
  {
   "cell_type": "code",
   "execution_count": null,
   "id": "6ea63b01-2a7d-430e-a42a-a84d2856019d",
   "metadata": {},
   "outputs": [],
   "source": [
    "# Union-Find木。ある点とある点が同じ連結成分に含まれるか否かを高速に処理。\n",
    "# ポイント１： 各点はheap構造で接続されており、根以外には必ず親(par)が存在する\n",
    "# ポイント２：　uniteで接続処理する際、size(各点と繋がっている点の数)の大きい方を親とする\n",
    "\n",
    "\n",
    "class unionfind:\n",
    "    def __init__(self, n):\n",
    "        self.n = n\n",
    "        self.par = [-1] * (n+1)\n",
    "        self.size = [1] * (n+1)\n",
    "        \n",
    "    def root(self, x):\n",
    "        while self.par[x] != -1:\n",
    "            x = self.par[x]\n",
    "        return x\n",
    "    \n",
    "    def unite(self, u, v):\n",
    "        rootu = self.root(u)\n",
    "        rootv = self.root(v)\n",
    "        if rootu != rootv:\n",
    "            if self.size[rootu] < self.size[rootv]:\n",
    "                self.par[rootu] = rootv\n",
    "                self.size[rootv] += self.size[rootu]\n",
    "            else:\n",
    "                self.par[rootv] = rootu\n",
    "                self.size[rootu] += self.size[rootv]\n",
    "        \n",
    "    def same(self, u, v):\n",
    "        return self.root(u) == self.root(v)\n",
    "\n",
    "n, q = map(int, input().split())\n",
    "queries = [ list(map(int, input().split())) for i in range(q) ]\n",
    "\n",
    "uf = unionfind(n)\n",
    "for tp, u, v in queries:\n",
    "    if tp == 1:\n",
    "        uf.unite(u, v)\n",
    "    if tp == 2:\n",
    "        if uf.same(u, v):\n",
    "            print(\"Yes\")\n",
    "        else:\n",
    "            print(\"No\")"
   ]
  },
  {
   "cell_type": "code",
   "execution_count": null,
   "id": "940e69ba-6473-4d66-8b03-89f73c3edae4",
   "metadata": {},
   "outputs": [],
   "source": [
    "# itertools.permutationsを使って、与えられた配列の全体における順番を求める問題\n",
    "import itertools\n",
    "n = int(input())\n",
    "p = tuple(map(int, input().split()))\n",
    "q = tuple(map(int, input().split()))\n",
    "it = list(itertools.permutations(range(1, n+1)))\n",
    "print(abs(it.index(q)-it.index(p)))"
   ]
  },
  {
   "cell_type": "code",
   "execution_count": null,
   "id": "c2bb3f75-513a-4bcf-a73e-cad92a5206f1",
   "metadata": {},
   "outputs": [],
   "source": [
    "# アルファベットの入力に対して、次のアルファベットを出力\n",
    "tmp = ord(input())\n",
    "print(chr(tmp+1))"
   ]
  },
  {
   "cell_type": "code",
   "execution_count": null,
   "id": "dc395898-78cd-42bd-baea-ee45c91a61d3",
   "metadata": {},
   "outputs": [],
   "source": [
    "# .と#の迷路でWFSを使う問題、ただしスタートとゴールの位置が決まっておらず\n",
    "#距離が最大になるように設定してその距離を求める問題。スタート位置全てについて全探索する\n",
    "# インデックスエラー回避のために壁を作る\n",
    "\n",
    "from collections import deque\n",
    "\n",
    "r, c = map(int, input().split())\n",
    "# sx, sy = map(int, input().split())\n",
    "# gx, gy = map(int, input().split())\n",
    "maze = [list(input()) for _ in range(r)]\n",
    "\n",
    "for i in range(r):\n",
    "    maze[i].insert(0, \"#\")\n",
    "    maze[i].append(\"#\")\n",
    "kabe = [\"#\"]*(c+2)\n",
    "maze.insert(0, kabe)\n",
    "maze.append(kabe)\n",
    "que = deque()\n",
    "s_cand = []\n",
    "for i in range(1, r+1):\n",
    "    for j in range(1, c+1):\n",
    "        if maze[i][j]==\".\":\n",
    "            s_cand.append([i, j])\n",
    "ans = 0\n",
    "for item in s_cand:\n",
    "    que.append([item[0], item[1]])\n",
    "    dist = [ [-1]*(c+2) for _ in range(r+2)]\n",
    "    dist[item[0]][item[1]]=0\n",
    "# for i in range(r):\n",
    "#     for j in range(c):\n",
    "#         pos = maze[i][j]\n",
    "#         if pos==\".\":\n",
    "#             G[i, j].append([i-1, j]); G.append\n",
    "\n",
    "    while len(que)>0:\n",
    "        pos = que.popleft()\n",
    "        [a, b] = pos\n",
    "        if maze[a][b+1]==\".\" and dist[a][b+1]==-1:\n",
    "            que.append([a, b+1])\n",
    "            dist[a][b+1] = dist[a][b]+1\n",
    "        if maze[a][b-1]==\".\" and dist[a][b-1]==-1:\n",
    "            que.append([a, b-1])\n",
    "            dist[a][b-1] = dist[a][b]+1\n",
    "        if maze[a+1][b]==\".\" and dist[a+1][b]==-1:\n",
    "            que.append([a+1, b])\n",
    "            dist[a+1][b] = dist[a][b]+1\n",
    "        if maze[a-1][b]==\".\" and dist[a-1][b]==-1:\n",
    "            que.append([a-1, b])\n",
    "            dist[a-1][b] = dist[a][b]+1\n",
    "    for i in range(1, r+1):\n",
    "        for j in range(1, c+1):\n",
    "            if dist[i][j]>ans:\n",
    "                ans = dist[i][j]\n",
    "print(ans)"
   ]
  },
  {
   "cell_type": "code",
   "execution_count": null,
   "id": "edd29dc7-3b8c-48f1-9a85-e2eeadc5152f",
   "metadata": {},
   "outputs": [],
   "source": [
    "n = int(input())\n",
    "\n",
    "C = [ list() for i in range(38) ]\n",
    "A = []\n",
    "for i in range(n):\n",
    "    c = int(input())\n",
    "    a = list(map(int, input().split()))\n",
    "    for item in a:\n",
    "        C[item].append((c, i+1))\n",
    "    \n",
    "X = int(input())\n",
    "C[X].sort(key = lambda x:x[0])\n",
    "ans = []\n",
    "if len(C[X])==0:\n",
    "    print(0)\n",
    "else:\n",
    "    tar = C[X][0][0]\n",
    "    for item in C[X]:\n",
    "        if item[0]==tar:\n",
    "            ans.append(item[1])\n",
    "    ans.sort()\n",
    "    print(len(ans))\n",
    "    print(*ans)"
   ]
  },
  {
   "cell_type": "code",
   "execution_count": null,
   "id": "0a70919b-893f-40b5-93fc-b31f202f0333",
   "metadata": {},
   "outputs": [],
   "source": [
    "import copy\n",
    "n, m = map(int, input().split())\n",
    "s = input()\n",
    "C = list(map(int, input().split()))\n",
    "t = max(C)\n",
    "G = [ list() for i in range(t+1) ]\n",
    "for i in range(n):\n",
    "    G[C[i]].append(i)\n",
    "H = copy.deepcopy(G)\n",
    "for item in H:\n",
    "    if len(item)>0:\n",
    "        item.insert(0, item[-1])\n",
    "        del item[-1]\n",
    "ans = [ list() for i in range(n+1) ]\n",
    "S = [ list() for i in range(n+1) ]\n",
    "for i in range(len(H)):\n",
    "    for j in range(len(H[i])):\n",
    "        ans[H[i][j]] = G[i][j]\n",
    "for i in range(1, len(G)):\n",
    "    for j in range(len(G[i])):\n",
    "        S[G[i][j]] = s[H[i][j]]\n",
    "del S[-1]\n",
    "print(''.join(map(str, S)))"
   ]
  },
  {
   "cell_type": "code",
   "execution_count": null,
   "id": "2ba4e804-64bb-4468-b9fa-18861232342b",
   "metadata": {},
   "outputs": [],
   "source": [
    "n, k = map(int, input().split())\n",
    "P = list(map(int, input().split()))\n",
    "kitai = []\n",
    "for i in range(n):\n",
    "    kitai.append((P[i]+1)/2)\n",
    "cum = [0, kitai[0]]\n",
    "for i in range(1, n):\n",
    "    cum.append(cum[i]+kitai[i])\n",
    "cand = []\n",
    "largest = 0\n",
    "for i in range(n-k+1):\n",
    "    tmp = cum[i+k]-cum[i]\n",
    "    if tmp>largest:\n",
    "        idx = i\n",
    "        largest = tmp\n",
    "ans = cum[idx+k] - cum[idx]\n",
    "print(ans)"
   ]
  },
  {
   "cell_type": "code",
   "execution_count": null,
   "id": "49fd2c91-22e4-449f-a843-20e5ef0ecfbc",
   "metadata": {},
   "outputs": [],
   "source": [
    "a, b, c = map(int, input().split())\n",
    "ans = \"No\"\n",
    "if a==b and a!=c:\n",
    "    ans = \"Yes\"\n",
    "elif a==c and a!=b:\n",
    "    ans = \"Yes\"\n",
    "elif b==c and a!=b:\n",
    "    ans = \"Yes\"\n",
    "print(ans)"
   ]
  },
  {
   "cell_type": "code",
   "execution_count": null,
   "id": "e685296d-fd88-4d58-8ee9-e40696cee6eb",
   "metadata": {},
   "outputs": [],
   "source": [
    "n = int(input())\n",
    "A = list(map(int, input().split()))\n",
    "ans = \"APPROVED\"\n",
    "for a in A:\n",
    "    if a%2==0:\n",
    "        if a%3!=0 and a%5!=0:\n",
    "            ans = \"DENIED\"\n",
    "            break\n",
    "print(ans)"
   ]
  },
  {
   "cell_type": "code",
   "execution_count": null,
   "id": "265403a9-bc51-412b-8a28-19de0a1e9be3",
   "metadata": {},
   "outputs": [],
   "source": [
    "n, k = map(int, input().split())\n",
    "A = list(map(int, input().split()))\n",
    "\n",
    "import itertools\n",
    "n = int(input())\n",
    "p = tuple(map(int, input().split()))\n",
    "q = tuple(map(int, input().split()))\n",
    "it = list(itertools.permutations(range(1, n+1)))\n",
    "print(abs(it.index(q)-it.index(p)))"
   ]
  },
  {
   "cell_type": "code",
   "execution_count": null,
   "id": "a4dca30d-c377-4d42-9140-832a280b38c1",
   "metadata": {},
   "outputs": [],
   "source": [
    "#x以下のものがK個以上あるか？→二分探索\n",
    "N,K = map(int,input().split())\n",
    "A = list(map(int,input().split()))\n",
    "AA = [A[i]**2 for i in range(N) if A[i] != 0]\n",
    "AA.sort()\n",
    "PA = [A[i] for i in range(N) if A[i] > 0] #非負\n",
    "MA = [-A[i] for i in range(N) if A[i] < 0] #負\n",
    "lpa = len(PA)\n",
    "lma = len(MA)\n",
    "lzero = N - lpa - lma\n",
    "ll = lpa*lma + lzero*(lpa+lma) + lzero*(lzero-1)//2\n",
    "MA_M = [-MA[i] for i in range(lma)]\n",
    "MA_M.sort()\n",
    "PA.sort()\n",
    "MA.sort()\n",
    " \n",
    "top = 10**18+1\n",
    "bot = -10**18-1\n",
    " \n",
    "from bisect import bisect\n",
    " \n",
    "def simple_bisect(L,val,l):\n",
    "    if l == 0:\n",
    "        return 0\n",
    "    if L[0]>val:\n",
    "        return 0\n",
    "    upper = l\n",
    "    lower = 0\n",
    "    while upper-lower>1:\n",
    "        cen = (upper+lower)//2\n",
    "        if L[cen] > val:\n",
    "            upper = cen\n",
    "        else:\n",
    "            lower = cen\n",
    "    return upper\n",
    " \n",
    "while top-bot > 1:\n",
    "    cen = (top+bot)//2\n",
    "    if cen >= 0:\n",
    "        S = 0\n",
    "        for a in PA:\n",
    "            S += simple_bisect(PA,cen//a,lpa)\n",
    "        for a in MA:\n",
    "            S += simple_bisect(MA,cen//a,lma)\n",
    "        S -= bisect(AA,cen)\n",
    "        S//=2\n",
    "        S += ll\n",
    "        #print(S)\n",
    "        if S >= K:\n",
    "            top = cen\n",
    "        else:\n",
    "            bot = cen\n",
    "    else:\n",
    "        S = 0\n",
    "        for a in PA:\n",
    "            S += simple_bisect(MA_M,cen//a,lma)\n",
    "        if S >= K:\n",
    "            top = cen\n",
    "        else:\n",
    "            bot = cen\n",
    "print(top)"
   ]
  },
  {
   "cell_type": "code",
   "execution_count": null,
   "id": "40b6d0fb-83b0-437e-941d-56351ed75902",
   "metadata": {},
   "outputs": [],
   "source": [
    "import sys,bisect,collections,copy,heapq,itertools,math,string\n",
    "from functools import lru_cache\n",
    "def I(): return int(sys.stdin.readline().rstrip())\n",
    "def LI(): return list(map(int,sys.stdin.readline().rstrip().split()))\n",
    "def S(): return sys.stdin.readline().rstrip()\n",
    "def LS(): return list(sys.stdin.readline().rstrip().split())\n",
    "sys.setrecursionlimit(10**6)\n",
    " \n",
    "# 小さい順に並べ替えたときK番目にくる数\n",
    "# = その数未満のものがK-1個ある\n",
    " \n",
    "N, K = LI()\n",
    "A = LI()\n",
    "A.sort()\n",
    " \n",
    "left = -10**18\n",
    "right = 10**18\n",
    "# left = -20 - 1\n",
    "# right = 20 + 1\n",
    " \n",
    "while left + 1 < right:\n",
    "    mid = (left+right)//2\n",
    "    \n",
    "    total = 0\n",
    "    # for i in range(N):\n",
    "    for i, a in enumerate(A):\n",
    "        l = i\n",
    "        r = N\n",
    "        if A[i] >= 0:\n",
    "            while l + 1 < r:\n",
    "                c = (l+r)//2\n",
    "                if A[i] * A[c] < mid:\n",
    "                    l = c\n",
    "                else:\n",
    "                    r = c\n",
    " \n",
    "            total += l - i\n",
    "        else:\n",
    "            while l + 1 < r:\n",
    "                c = (l+r)//2\n",
    "                if A[i] * A[c] < mid:\n",
    "                    r = c\n",
    "                else:\n",
    "                    l = c\n",
    " \n",
    "            total += N - r\n",
    "    result = total <= K - 1\n",
    "    \n",
    "    # if C(mid):\n",
    "    if result:\n",
    "        left = mid\n",
    "    else:\n",
    "        right = mid\n",
    " \n",
    "print(left)"
   ]
  },
  {
   "cell_type": "code",
   "execution_count": null,
   "id": "4bc32fbd-49bd-41ca-9002-ce77e4399555",
   "metadata": {},
   "outputs": [],
   "source": [
    "import math\n",
    "n, a, b = map(int, input().split())\n",
    "\n",
    "mod = 1000000007\n",
    "\n",
    "def Division(n, mod):\n",
    "    return pow(n, mod-2, mod)\n",
    "\n",
    "def combination_a(n, k, mod):\n",
    "    bunshi = 1\n",
    "    bunbo = 1\n",
    "    for i in range(k):\n",
    "        bunshi = bunshi*(n-i)%mod\n",
    "        bunbo = bunbo*(i+1)%mod\n",
    "    return bunshi*Division(bunbo, mod)\n",
    "ans = pow(2, n, mod)-1\n",
    "ans -= combination_a(n, a, mod)\n",
    "ans -= combination_a(n, b, mod)\n",
    "print(ans%mod)\n"
   ]
  },
  {
   "cell_type": "code",
   "execution_count": null,
   "id": "41c5d548-abe8-425e-9626-81efd430d1e9",
   "metadata": {},
   "outputs": [],
   "source": [
    "mod = 10**9+7\n",
    "def power(a:int, b:int, mod:int):\n",
    "    p = int(a)\n",
    "    ans = int(1)\n",
    "    for i in range(60):\n",
    "        wari = 1 << i\n",
    "        if (b//wari) % 2 == 1:\n",
    "            ans = (ans * p) % mod\n",
    "        p = (p*p) % mod\n",
    "    return ans\n",
    "\n",
    "def Division(a, b, mod):\n",
    "    return (a * power(b, m-2, m)) % mod\n",
    "def combination_a(n, k):\n",
    "    bunshi = 1\n",
    "    bunbo = 1\n",
    "    for i in range(1, n+1):\n",
    "        bunshi = bunshi*i%mod\n",
    "    for i in range(1, k+1):\n",
    "        bunbo = bunbo*i%mod\n",
    "    for i in range(1, n-k+1):\n",
    "        bunbo = bunbo*i%mod\n",
    "    return bunshi*pow(bunbo, mod-2, mod) % mod\n",
    "ans = combination_a(1000000000, 1000000)\n",
    "ans"
   ]
  },
  {
   "cell_type": "code",
   "execution_count": null,
   "id": "b0b275c9-4c6f-4d9b-93e3-8ba3c16848e3",
   "metadata": {},
   "outputs": [],
   "source": [
    "import math\n",
    "print(math.ceil(int(input())/2))"
   ]
  },
  {
   "cell_type": "code",
   "execution_count": null,
   "id": "86c1351f-cc6f-433c-94bf-30217a76f0d3",
   "metadata": {},
   "outputs": [],
   "source": [
    "bingo = []\n",
    "bingo_flag = [False] * 9\n",
    "for _ in range(3):\n",
    "    tmp = list(map(int, input().split()))\n",
    "    bingo.extend(tmp)\n",
    "N = int(input())\n",
    "for i in range(N):\n",
    "    b = int(input())\n",
    "    if b in bingo:\n",
    "        tmp = bingo.index(b)\n",
    "        bingo_flag[tmp] = True\n",
    "if bingo_flag[0:3] == [True,True,True] or bingo_flag[3:6] == [True,True,True] or bingo_flag[6:] == [True,True,True]:\n",
    "    print(\"Yes\")\n",
    "elif bingo_flag[0:7:3] == [True,True,True] or bingo_flag[1:8:3] == [True,True,True] or bingo_flag[2::3] == [True,True,True]:\n",
    "    print(\"Yes\")\n",
    "elif bingo_flag[0::4] ==[True,True,True] or bingo_flag[2:7:2] == [True,True,True]:\n",
    "    print(\"Yes\")\n",
    "else:\n",
    "    print(\"No\") \n"
   ]
  },
  {
   "cell_type": "code",
   "execution_count": null,
   "id": "a8c8b650-a444-4ffe-9b85-ac430f509ae7",
   "metadata": {},
   "outputs": [],
   "source": [
    "n,m=map(int,input().split())\n",
    "t=[-1]*n\n",
    "for _ in range(m):\n",
    "    s,c=map(int,input().split())\n",
    "    if s==1 and c==0 and n!=1:\n",
    "        print(-1)\n",
    "        exit()\n",
    "    elif t[s-1]!=-1 and t[s-1]!=c:\n",
    "        print(-1)\n",
    "        exit()\n",
    "    else:\n",
    "        t[s-1]=c\n",
    "for i in range(n):\n",
    "    if t[i]==-1:\n",
    "        if i==0 and n!=1:\n",
    "            t[i]=1\n",
    "        else:\n",
    "            t[i]=0\n",
    "\n",
    "print(''.join([str(i) for i in t]))"
   ]
  },
  {
   "cell_type": "code",
   "execution_count": null,
   "id": "0e236575-10ae-4a1b-8d18-83c116301078",
   "metadata": {},
   "outputs": [],
   "source": [
    "# 交友関係の内、直接の関係を持たない人（友達候補）の数を数える.\n",
    "# ブロック関係があり、同じグループの中にブロック相手がいる場合のみ、答えから差し引く\n",
    "# nが10**5, M(友達関係)とK(ブロック関係)も10**5で、DFSだと間に合わないので、\n",
    "# Union-findを用いる\n",
    "class unionfind:\n",
    "    def __init__(self, n):\n",
    "        self.n = n\n",
    "        self.par = [-1] * (n+1)\n",
    "        self.size = [1] * (n+1)\n",
    "        \n",
    "    def root(self, x):\n",
    "        while self.par[x] != -1:\n",
    "            x = self.par[x]\n",
    "        return x\n",
    "    \n",
    "    def unite(self, u, v):\n",
    "        rootu = self.root(u)\n",
    "        rootv = self.root(v)\n",
    "        if rootu != rootv:\n",
    "            if self.size[rootu] < self.size[rootv]:\n",
    "                self.par[rootu] = rootv\n",
    "                self.size[rootv] += self.size[rootu]\n",
    "            else:\n",
    "                self.par[rootv] = rootu\n",
    "                self.size[rootu] += self.size[rootv]\n",
    "        \n",
    "    def same(self, u, v):\n",
    "        return self.root(u) == self.root(v)\n",
    "\n",
    "n, m, k = map(int, input().split())\n",
    "friends = [ list(map(int, input().split())) for _ in range(m)]\n",
    "blocks = [ list(map(int, input().split())) for _ in range(k)]\n",
    "\n",
    "G = [ list() for _ in range(n+1)]\n",
    "for a, b in friends:\n",
    "    G[a].append(b)\n",
    "    G[b].append(a)\n",
    "# ブロック\n",
    "B = [ list() for _ in range(n+1)]\n",
    "for a, b in blocks:\n",
    "    B[a].append(b)\n",
    "    B[b].append(a)    \n",
    "\n",
    "uf = unionfind(n)\n",
    "for item in friends:\n",
    "    uf.unite(item[0], item[1])\n",
    "for i in range(1, n+1):\n",
    "    ans = uf.size[uf.root(i)]-len(G[i])-1\n",
    "    for item in B[i]:\n",
    "        if uf.same(i, item):\n",
    "            ans -= 1\n",
    "    print(ans)"
   ]
  },
  {
   "cell_type": "code",
   "execution_count": null,
   "id": "1ddf5f5a-bf5a-44d9-b9db-b846856958f0",
   "metadata": {},
   "outputs": [],
   "source": [
    "uf2.unite(2, 1)\n",
    "uf2.unite(1, 3)\n",
    "uf2.unite(3, 2)\n",
    "uf2.unite(3, 4)"
   ]
  },
  {
   "cell_type": "code",
   "execution_count": null,
   "id": "8633b247-d846-4e5a-a3ae-a51b86d07be1",
   "metadata": {},
   "outputs": [],
   "source": [
    "S = list(input())\n",
    "ans = []\n",
    "for item in S:\n",
    "    if item!=\"a\" and item!=\"e\" and item!=\"i\" and item!=\"o\" and item!=\"u\":\n",
    "        ans.append(item)\n",
    "print(''.join(map(str, ans)))"
   ]
  },
  {
   "cell_type": "code",
   "execution_count": null,
   "id": "1816d063-de59-4a75-a11c-4dc92c9e7240",
   "metadata": {},
   "outputs": [],
   "source": [
    "m = int(input())\n",
    "D = list(map(int, input().split()))\n",
    "cum = [None]*m\n",
    "cum[0] = D[0]\n",
    "for i in range(1, m):\n",
    "    cum[i] = cum[i-1]+D[i]\n",
    "sm = sum(D)\n",
    "cand = []\n",
    "sm_half = sm//2+1\n",
    "for i in range(len(cum)):\n",
    "    if cum[i]<sm_half:\n",
    "        cand.append(i)\n",
    "if len(cand)>0:\n",
    "    ans_a = cand[-1]+2\n",
    "    ans_b = sm_half-cum[cand[-1]]\n",
    "    if D[ans_a-1]<ans_b:\n",
    "        ans_a+=1\n",
    "        ans_b=1\n",
    "else:\n",
    "    ans_a = 1\n",
    "    ans_b = sm_half+1\n",
    "\n",
    "print(str(ans_a) + \" \" + str(ans_b))"
   ]
  },
  {
   "cell_type": "code",
   "execution_count": null,
   "id": "2fcbfb3b-233f-453d-b92f-165ebf12a800",
   "metadata": {},
   "outputs": [],
   "source": [
    "m = int(input())\n",
    "D = list(map(int, input().split()))\n",
    "sm_half = sum(D)//2+1\n",
    "t = 1\n",
    "cum = 0\n",
    "month=[]\n",
    "for i in range(m):\n",
    "    if cum<sm_half:\n",
    "        cum+=D[i]\n",
    "        month.append(i)\n",
    "cum -= D[month[-1]]\n",
    "ans_a = month[-1]+1\n",
    "ans_b = sm_half - cum\n",
    "\n",
    "print(str(ans_a) + \" \" + str(ans_b))\n",
    "\n"
   ]
  },
  {
   "cell_type": "code",
   "execution_count": null,
   "id": "ebc3d074-4ad7-49ed-acb4-34d1e4d365f2",
   "metadata": {},
   "outputs": [],
   "source": [
    "n = int(input())\n",
    "ice = [list() for _ in range(n)]\n",
    "for _ in range(n):\n",
    "    f, s = map(int, input().split())\n",
    "    if ice[f-1]==[0]:\n",
    "        ice[f-1] = [s]\n",
    "    else:\n",
    "        ice[f-1].append(s)\n",
    "for i in range(len(ice)):\n",
    "    if ice[i]==[]:\n",
    "        ice[i]=[0, 0]\n",
    "    else:\n",
    "        ice[i].sort(reverse=True)\n",
    "ice.sort(key=lambda x: x[0], reverse=True)\n",
    "if len(ice[0])==1:\n",
    "    ans = ice[0][0]+ice[1][0]\n",
    "elif len(ice)>1:\n",
    "    ans = max(ice[0][0]+ice[0][1]/2, ice[0][0]+ice[1][0])\n",
    "else:\n",
    "    ans = ice[0][0]+ice[0][1]/2\n",
    "print(int(ans))"
   ]
  },
  {
   "cell_type": "code",
   "execution_count": null,
   "id": "299191ac-55c2-47f3-9e67-54da674768e0",
   "metadata": {},
   "outputs": [],
   "source": [
    "import numpy as np\n",
    "\n",
    "h, w = map(int, input().split())\n",
    "for _ in range(h):\n",
    "    tmp = list(input())\n",
    "    tmp_u = np.array(tmp)\n",
    "    if len(tmp_u)!=1:\n",
    "    np\n",
    "        \n",
    "for i"
   ]
  },
  {
   "cell_type": "code",
   "execution_count": null,
   "id": "3ffc76e9-0b22-44df-a0bf-bd9ed5e1a476",
   "metadata": {},
   "outputs": [],
   "source": [
    "n = int(input())\n",
    "A = list(map(int, input().split()))\n",
    " \n",
    "G = [[] for _ in range(n+1)]\n",
    " \n",
    "for i in range(2, n+1):\n",
    "    G[A[i-2]].append(i)\n",
    " \n",
    "dp = [0]*(n+1)\n",
    "dp[n] = A[-1]\n",
    "for i in range(n, 0, -1):\n",
    "    if len(G[i])==0:\n",
    "        dp[i] = 0\n",
    "    else:\n",
    "        for j in range(len(G[i])):\n",
    "            dp[i] += (dp[G[i][j]]+1)\n",
    "print(*dp[1:])"
   ]
  },
  {
   "cell_type": "code",
   "execution_count": null,
   "id": "88d5dfe7-4d60-4745-9a85-18f5c6058956",
   "metadata": {},
   "outputs": [],
   "source": [
    "# 本１を読むために必要な本の読む順\n",
    "# DFSにおいて、隣接リスト全てがTrueになった時点で（繰り返しの最後）、ansにappendするように小変更するだけで正解出来る\n",
    "# 隣接リストがない（最下層の）本が真っ先にTrueになる\n",
    "\n",
    "import sys\n",
    "sys.setrecursionlimit(10**6)\n",
    " \n",
    "def dfs(now):\n",
    "    global ans\n",
    "    for to in graph[now]:\n",
    "        if not seen[to]:\n",
    "            seen[to] = True\n",
    "            dfs(to)\n",
    "    ans.append(now)\n",
    " \n",
    " \n",
    "n = int(input())\n",
    " \n",
    "graph = [[] for _ in range(n+1)]\n",
    "seen = [False] * (n+1)\n",
    "for i in range(1, n+1):\n",
    "    inputs = list(map(int, input().split()))\n",
    "    c = inputs[0]\n",
    "    for j in range(1, c+1):\n",
    "        graph[i].append(inputs[j])\n",
    " \n",
    "ans = []\n",
    "dfs(1)\n",
    "print(*ans[:-1])"
   ]
  },
  {
   "cell_type": "code",
   "execution_count": null,
   "id": "5298a775-8a9a-40fd-9306-0b1f32b74353",
   "metadata": {},
   "outputs": [],
   "source": [
    "n = int(input())\n",
    "A = list(map(int, input().split()))\n",
    "al = []\n",
    "for i in range(n):\n",
    "    t = int(1)\n",
    "    while A[i]%(1<<t)==0:\n",
    "        t+=1\n",
    "    al.append(t-1)\n",
    "print(min(al))\n",
    "    "
   ]
  },
  {
   "cell_type": "code",
   "execution_count": null,
   "id": "7eef3b3d-8b7a-455e-9d01-2ce08ece72ec",
   "metadata": {},
   "outputs": [],
   "source": [
    "a = int(input())\n",
    "b = int(input())\n",
    "c = int(input())\n",
    "x = int(input())\n",
    "count = 0\n",
    "for i in range(a+1):\n",
    "    for j in range(b+1):\n",
    "        for k in range(c+1):\n",
    "            if i*500 + j*100 + k*50 == x:\n",
    "                count += 1\n",
    "print(count)\n",
    "\n",
    "    \n",
    "\n"
   ]
  },
  {
   "cell_type": "code",
   "execution_count": null,
   "id": "d98b0059-b7bd-4fe1-8d71-2401fcc6d459",
   "metadata": {},
   "outputs": [],
   "source": [
    "s = input()\n",
    "# t = \"\"\n",
    "# a = \"dreamer\"\n",
    "# b = \"eraser\"\n",
    "# c = \"dream\"\n",
    "# d = \"erase\"\n",
    "# cp = 0\n",
    "# s = s.replace(\"dreameraser\", \"\").replace(\"dreamerase\", \"\")\n",
    "s = s.replace(\"eraser\", \"\").replace(\"erase\", \"\").replace(\"dreamer\", \"\").replace(\"dream\", \"\")\n",
    "if s==\"\":\n",
    "    ans = \"YES\"\n",
    "else:\n",
    "    ans = \"NO\"\n",
    "print(ans)"
   ]
  },
  {
   "cell_type": "code",
   "execution_count": null,
   "id": "ffc966a3-d3ad-47c8-920e-181d97507ad7",
   "metadata": {},
   "outputs": [],
   "source": [
    "n = int(input())\n",
    "ct = 0\n",
    "cx = 0\n",
    "cy = 0\n",
    "ans = \"Yes\"\n",
    "for i in range(n):\n",
    "    t, x, y = map(int, input().split())\n",
    "    take_t = t - ct\n",
    "    dist_x = abs(x - cx)\n",
    "    dist_y = abs(y - cy)\n",
    "    dist = dist_x + dist_y\n",
    "    if dist%2==0:\n",
    "        if dist<=take_t and take_t%2==0:\n",
    "            ct = t\n",
    "            cx = x\n",
    "            cy = y\n",
    "        else:\n",
    "            ans = \"No\"\n",
    "    else:\n",
    "        if dist<=take_t and take_t%2==1:\n",
    "            ct = t\n",
    "            cx = x\n",
    "            cy = y\n",
    "        else:\n",
    "            ans = \"No\"\n",
    "print(ans)"
   ]
  },
  {
   "cell_type": "code",
   "execution_count": null,
   "id": "f8e50d53-36cd-46a1-aa7b-a2729412fca4",
   "metadata": {},
   "outputs": [],
   "source": [
    "s = input()\n",
    "na = s.count(\"A\")\n",
    "nb = s.count(\"B\")\n",
    "if na!=0 and nb!=0:\n",
    "    ans = \"Yes\"\n",
    "else:\n",
    "    ans = \"No\"\n",
    "print(ans)"
   ]
  },
  {
   "cell_type": "code",
   "execution_count": null,
   "id": "e5061089-8cb5-4e47-af1a-ae441cd743fc",
   "metadata": {},
   "outputs": [],
   "source": [
    "n, a, b = map(int, input().split())\n",
    "unit = a+b\n",
    "num = n//unit\n",
    "mod = n%unit\n",
    "if mod<=a:\n",
    "    ans = num*a+mod\n",
    "else:\n",
    "    ans = (num+1)*a\n",
    "print(ans)"
   ]
  },
  {
   "cell_type": "code",
   "execution_count": null,
   "id": "dd02daf5-c6aa-40b2-b897-6919f5fe1349",
   "metadata": {},
   "outputs": [],
   "source": [
    "import math\n",
    "a, b = map(int, input().split())\n",
    "ans = []\n",
    "for i in range(1, 10001):\n",
    "    if math.floor(i*0.08)==a and math.floor(i*0.10)==b:\n",
    "        ans.append(i)\n",
    "        break\n",
    "if len(ans)==0:\n",
    "    print(-1)\n",
    "else:\n",
    "    print(ans[0])"
   ]
  },
  {
   "cell_type": "code",
   "execution_count": null,
   "id": "cb2c8992-d5ae-436f-b87b-dbc6952e76bc",
   "metadata": {},
   "outputs": [],
   "source": [
    "from collections import deque\n",
    "s = deque((input()))\n",
    "q = int(input())\n",
    "flag = True\n",
    "queries = [ list(map(str, input().split())) for _ in range(q)]\n",
    "idx = q\n",
    "for i in reversed(range(q-1)):\n",
    "    if queries[0]==1:\n",
    "        idx = q-1-i\n",
    "        break\n",
    "for i in range(0, idx):\n",
    "    query = queries[i]\n",
    "    if query[0]==\"1\":\n",
    "        flag = not flag\n",
    "    else:\n",
    "        if flag:\n",
    "            if query[1]==\"1\":\n",
    "                s.appendleft(query[2])\n",
    "            else:\n",
    "                s.append(query[2])\n",
    "        else:\n",
    "            if query[1]==\"1\":\n",
    "                s.append(query[2])\n",
    "            else:\n",
    "                s.appendleft(query[2])\n",
    "if idx==q and flag == False:\n",
    "    s = reversed(s)\n",
    "elif idx!=q:\n",
    "    s = reversed(s)\n",
    "    for i in range(idx+1, q):\n",
    "        query = queries[i]\n",
    "        if query[1]==1:\n",
    "            s.appendleft(query[2])\n",
    "        else:\n",
    "            s.append(query[2])\n",
    "print(''.join(map(str, s)))"
   ]
  },
  {
   "cell_type": "code",
   "execution_count": null,
   "id": "0289425f-51c9-4fe8-9622-c6dbc5363dfe",
   "metadata": {},
   "outputs": [],
   "source": [
    "s = \"1, 1, 1, 2, 1, 2, 1, 5, 2, 2, 1, 5, 1, 2, 1, 14, 1, 5, 1, 5, 2, 2, 1, 15, 2, 2, 5, 4, 1, 4, 1, 51\".replace(\",\", \"\")\n",
    "s = list(map(int, s.split()))\n",
    "# s\n",
    "k = int(input())-1\n",
    "print(s[k])"
   ]
  },
  {
   "cell_type": "code",
   "execution_count": null,
   "id": "fd125f5e-e203-4e63-b245-a21cbbefe382",
   "metadata": {},
   "outputs": [],
   "source": [
    "import math\n",
    "h, w = map(int, input().split())\n",
    "a = h*w\n",
    "if h==1 or w==1:\n",
    "    print(1)\n",
    "elif a%2==1:\n",
    "    print(int(h*w/2+1))\n",
    "else:\n",
    "    print(int(h*w/2))"
   ]
  },
  {
   "cell_type": "code",
   "execution_count": null,
   "id": "20a88f2b-dc2d-49c9-b1d1-a0158cec3372",
   "metadata": {},
   "outputs": [],
   "source": [
    "# 小数点以下の桁が多い時にも正確な計算結果を出力する\n",
    "\n",
    "import math\n",
    "from decimal import Decimal, getcontext\n",
    "a, b, c = map(int, input().split())\n",
    "root_a = Decimal(a)**Decimal(0.5)\n",
    "root_b = Decimal(b)**Decimal(0.5)\n",
    "root_c = Decimal(c)**Decimal(0.5)\n",
    "if root_a+root_b<root_c:\n",
    "    print(\"Yes\")\n",
    "else:\n",
    "    print(\"No\")"
   ]
  },
  {
   "cell_type": "code",
   "execution_count": null,
   "id": "83f504c8-7515-4e23-8b42-98e3b228e656",
   "metadata": {},
   "outputs": [],
   "source": [
    "# 辞書順で最初にくる文字列（非同型）を出力する（DFS）\n",
    "def dfs(s, n):\n",
    "    if len(s)==n:\n",
    "        ans.append(s)\n",
    "        return\n",
    "    cand = set()\n",
    "    for item in s:\n",
    "        cand.add(item)\n",
    "    cand.add(chr(ord(\"a\") + len(cand)))\n",
    "    for c in cand:\n",
    "        dfs(s+c, n)\n",
    "\n",
    "n = int(input())\n",
    "ans = []\n",
    "dfs(\"\", n)\n",
    "print(*ans)"
   ]
  },
  {
   "cell_type": "code",
   "execution_count": null,
   "id": "59669985-f29b-4fad-8970-82f6c6fc5ad5",
   "metadata": {},
   "outputs": [],
   "source": [
    "edges = [[1, 2], [2, 3], [3, 4], [3, 8], [2, 5], [5, 6], [6, 7], [6, 10], [7, 9]]\n",
    "G = [ list() for _ in range(11)]\n",
    "for item in edges:\n",
    "    G[item[0]].append(item[1])\n",
    "    G[item[1]].append(item[0])\n",
    "\n",
    "first_order = [ list() for _ in range(11)]\n",
    "last_order = [ list() for _ in range(11) ]\n",
    "f_ptr = 0\n",
    "l_ptr = 0\n",
    "def dfs(v):\n",
    "    global f_ptr, l_ptr\n",
    "    f_ptr += 1\n",
    "    first_order[v] =f_ptr\n",
    "    \n",
    "    seen[v] = True\n",
    "    for next in G[v]:\n",
    "        if seen[next]:\n",
    "            continue\n",
    "        else:\n",
    "            dfs(next)\n",
    "    l_ptr+=1\n",
    "    last_order[v] = l_ptr\n",
    "seen = [False] * 11\n",
    "dfs(1)"
   ]
  },
  {
   "cell_type": "code",
   "execution_count": null,
   "id": "f8c100dd-81eb-45b8-b980-e27b79610581",
   "metadata": {},
   "outputs": [],
   "source": [
    "from decimal import Decimal\n",
    "l = int(input())\n",
    "length = Decimal(l)/Decimal(3)\n",
    "ans = length**Decimal(3)\n",
    "print(Decimal(ans))"
   ]
  },
  {
   "cell_type": "code",
   "execution_count": null,
   "id": "b43472e3-c1e0-498a-b564-9d2774dbdce5",
   "metadata": {},
   "outputs": [],
   "source": [
    "n = int(input())\n",
    "A = list(map(int, input().split()))\n",
    "dic = {}\n",
    "for item in A:\n",
    "    if item not in dic:\n",
    "        dic[item]=1\n",
    "    else:\n",
    "        dic[item]+=1\n",
    "all_ = 0\n",
    "for key in dic:\n",
    "    all_ += dic[key]*(dic[key]-1)/2\n",
    "for item in A:\n",
    "    b = dic[item]\n",
    "    ans = int(all_-b*(b-1)/2+(b-1)*(b-2)/2)\n",
    "    print(ans)"
   ]
  },
  {
   "cell_type": "code",
   "execution_count": null,
   "id": "df45df75-296a-4841-9b32-2c6c4c6cd640",
   "metadata": {},
   "outputs": [],
   "source": [
    "n, m = map(int, input().split())\n",
    "edges = [ list(map(int, input().split())) for i in range(m) ]\n",
    "\n",
    "#隣接リスト\n",
    "G = [ list() for i in range(n + 1)　]\n",
    "for a, b in edges:\n",
    "    G[a].append(b)\n",
    "    G[b].append(a)\n",
    "    \n",
    "dist = [-1] * (n+1)\n",
    "dist[1] = 0\n",
    "q = deque()\n",
    "q.append(1)\n",
    "\n",
    "while len(q)>0:\n",
    "    pos = q.popleft()\n",
    "    for nex in G[pos]:\n",
    "        if dist[nex] == -1:\n",
    "            dist[nex] = dist[pos] + 1\n",
    "            q.append(nex)\n",
    "for item in dist[1:]:\n",
    "    print(item)   "
   ]
  },
  {
   "cell_type": "code",
   "execution_count": null,
   "id": "db58547c-294e-4544-ae4a-c302cb0c24a2",
   "metadata": {},
   "outputs": [],
   "source": [
    "import heapq\n",
    "\n",
    "n, m = map(int, input().split())\n",
    "edges = [ list(map(int, input().split())) for i in range(m) ]\n",
    "\n",
    "G = [ list() for i in range(n + 1)]\n",
    "for a, b, c in edges:\n",
    "    G[a].append((b, c))\n",
    "    G[b].append((a, c))\n",
    "\n",
    "# 配列・キューの初期化（キューには（頂点、頂点番号）のタプルを記録）\n",
    "\n",
    "def dfs(G, start, path, visited, cand):\n",
    "    \n",
    "    for next in G[start]:\n",
    "        if next not in visited:\n",
    "            dist += next[1]\n",
    "            dfs(G, next, path + [next], visited + [next])\n",
    "\n",
    "for i in range(1, n+1):\n",
    "    A = dfs(G, i, [i], [i])\n",
    "    for path in A:\n",
    "        "
   ]
  },
  {
   "cell_type": "code",
   "execution_count": null,
   "id": "d70a9eea-21b5-4b67-8580-f09326b40529",
   "metadata": {},
   "outputs": [],
   "source": [
    "import sys\n",
    "from collections import deque\n",
    "\n",
    "# 探索がある程度多くなる場合、下記のコードが必要（探索回数制限の設定）\n",
    "sys.setrecursionlimit(120000)\n",
    "\n",
    "# ルートの記録が必要な場合\n",
    "roots = deque()\n",
    "\n",
    "# 入力\n",
    "n, m = list(map(int, input().split()))\n",
    "edges = [ list(map(int, input().split())) for _ in range(m)]\n",
    "\n",
    "# 隣接リスト\n",
    "G = [ list() for _ in range(n+1)]\n",
    "for a, b, c in edges:\n",
    "    G[a].append(b, c)\n",
    "    G[b].append(a, c)\n",
    "\n",
    "# # 通常のdfs(全ての要素が接続しているかが分かる)\n",
    "# def dfs(pos, visited, G):\n",
    "#     visited[pos] = True\n",
    "#     for i in G[pos]:\n",
    "#         if visited[i]==False:\n",
    "#             dfs(i, visited, G)\n",
    "\n",
    "       \n",
    "# nまでの探索経路を記録\n",
    "def dfs(pos, visited, G):\n",
    "    roots.append(pos)\n",
    "    if pos == n:\n",
    "        print(*roots)\n",
    "        exit()\n",
    "    visited[pos] = True\n",
    "    \n",
    "    for nex in G[pos]:\n",
    "        if not visited[nex]:\n",
    "            dfs(nex, visited, G)\n",
    "    roots.pop()\n",
    "\n",
    "visited = [False] * (n + 1)\n",
    "dfs(1, G, visited)\n",
    "        "
   ]
  },
  {
   "cell_type": "code",
   "execution_count": null,
   "id": "f3a0d5da-6bbc-4f8b-878f-4a5bb98e02e3",
   "metadata": {},
   "outputs": [],
   "source": [
    "# DFSを使う問題で、同じ頂点を２度通らずない経路の内、最大距離を求める問題\n",
    "# dfsの繰り返しに(G[pos])ではなく、for i in range(1, n+1)と全ての可能な経路を行う\n",
    "# 距離はDFSの第二引数として保存する\n",
    "N,M=map(int,input().split())\n",
    "E=[[0]*(N+1) for _ in range(N+1)]\n",
    "for _ in range(M):\n",
    "  a,b,c=map(int,input().split())\n",
    "  E[a][b]=c\n",
    "  E[b][a]=c\n",
    "ans=0\n",
    "used=[False]*(N+1)\n",
    "def dfs(v,s):\n",
    "  global ans\n",
    "  used[v]=True\n",
    "  if s>ans: ans=s\n",
    "  for i in range(1,N+1):\n",
    "    if not used[i] and E[v][i]:\n",
    "      dfs(i,s+E[v][i])\n",
    "  used[v]=False\n",
    "for i in range(1,N+1):\n",
    "  dfs(i,0)\n",
    "print(ans)"
   ]
  },
  {
   "cell_type": "code",
   "execution_count": null,
   "id": "577c8aaf-2fa0-4051-b2b9-8b061f231592",
   "metadata": {},
   "outputs": [],
   "source": [
    "# DP問題、選挙において、相手を上回る得票を得るには、最低何人自分に投票させれば良いか\n",
    "# 選挙人の数をDPの一次元、格納するデータをそれを得るための得票数とする\n",
    "n = int(input())\n",
    "poll = [ list(map(int, input().split())) for _ in range(n)]\n",
    "ttl = 0\n",
    "tak = 0\n",
    "for i in range(n):\n",
    "    ttl +=poll[i][2]\n",
    "    if poll[i][0]>poll[i][1]:\n",
    "        tak += poll[i][2]\n",
    "target = ttl//2+1\n",
    "need = target-tak\n",
    "inf = 1.0E+18\n",
    "dp = [inf]* (ttl+1)\n",
    "dp[0]=0\n",
    "for i in range(n):\n",
    "    x = poll[i][0]; y = poll[i][1]; z = poll[i][2]\n",
    "    w = max(0, (x+y)//2+1 - x)\n",
    "    for j in reversed(range(ttl+1)):\n",
    "        dp[j] = min(dp[j], dp[j-z]+w)\n",
    "ans = inf    \n",
    "for i in range(target, ttl+1):\n",
    "    ans = min(ans, dp[i])\n",
    "print(ans)"
   ]
  },
  {
   "cell_type": "code",
   "execution_count": null,
   "id": "95d1804d-de38-433a-b4a8-4d4db9646183",
   "metadata": {},
   "outputs": [],
   "source": [
    "n, m = map(int, input().split())\n",
    "edges = [ list(map(int, input().split())) for _ in range(m)]\n",
    "\n",
    "G = [ list() for _ in range(n+1)]\n",
    "D = [ list() for _ in range(n+1)]\n",
    "for a, b, c in edges:\n",
    "    G[a].append((b, c))\n",
    "    G[b].append((a, c))\n",
    "ans = 0\n",
    "jisuu = [ list() for _ in range(n+1) ]\n",
    "def dfs(pos, parent, d):\n",
    "    visited[parant]=True\n",
    "    global ans\n",
    "    if len(G[parant])==0:\n",
    "    visited[pos] = True\n",
    "    ans = max(d, ans)\n",
    "    for next in G[pos]:\n",
    "        if visited[next[0]]==False:\n",
    "            dfs(next[0], d+next[1])\n",
    "    visited[pos] = False\n",
    "    jisuu[pos] = d\n",
    "for i in range(1, n+1):\n",
    "    visited = [False]*(n+1)\n",
    "    d = 0\n",
    "    dfs(i, d)\n",
    "print(jisuu)"
   ]
  },
  {
   "cell_type": "code",
   "execution_count": null,
   "id": "1b2cd519-939e-4c4e-9c32-31494547dff2",
   "metadata": {},
   "outputs": [],
   "source": [
    "x = int(input())\n",
    "a500 = x//500\n",
    "a5 = (x-a500*500)//5\n",
    "ans = a500*1000 + a5*5\n",
    "print(ans)"
   ]
  },
  {
   "cell_type": "code",
   "execution_count": null,
   "id": "07581ca1-7458-419a-83a0-2c218ea29258",
   "metadata": {},
   "outputs": [],
   "source": [
    "from collections import deque\n",
    "import heapq\n",
    "\n",
    "n, x, y = map(int, input().split())\n",
    "G = [ list() for _ in range(n+1) ]\n",
    "for i in range(1, n):\n",
    "    G[i].append((i+1, 1))\n",
    "    G[i+1].append((i, 1))\n",
    "G[x].append((y, 1))\n",
    "G[y].append((x, 1))\n",
    "ans = [ 0 for _ in range(n+1)]\n",
    "inf = 10**10\n",
    "for i in range(1, n):\n",
    "    kakutei = [False]*(n+1)\n",
    "    cur = [inf]*(n+1)\n",
    "    cur[i] = 0\n",
    "    Q = []\n",
    "    heapq.heappush(Q, (cur[i], i))\n",
    "\n",
    "# ダイクストラ法\n",
    "    while len(Q) >= 1:\n",
    "        pos = heapq.heappop(Q)[1]\n",
    "    \n",
    "        if kakutei[pos]==True:\n",
    "            continue\n",
    "    \n",
    "        kakutei[pos] = True\n",
    "        for e in G[pos]:\n",
    "            if cur[e[0]] > cur[pos] + e[1]:\n",
    "                cur[e[0]] = cur[pos] + e[1]\n",
    "                heapq.heappush(Q, (cur[e[0]], e[0]))\n",
    "    for i in range(i, n+1):\n",
    "        ans[cur[i]]+=1\n",
    "for i in range(1, n):\n",
    "    print(ans[i])   "
   ]
  },
  {
   "cell_type": "code",
   "execution_count": null,
   "id": "5fde7fe3-9b02-411d-86c9-04221042a86d",
   "metadata": {},
   "outputs": [],
   "source": [
    "n, m = map(int, input().split())\n",
    "A = list(map(int, input().split()))\n",
    "A = sorted(A, reverse=True)\n",
    "target = sum(A)/(4*m)\n",
    "ans = \"Yes\"\n",
    "if A[m-1]<target:\n",
    "    ans = \"No\"\n",
    "print(ans)"
   ]
  },
  {
   "cell_type": "code",
   "execution_count": null,
   "id": "2fef1803-3970-46cf-89e9-c0088cf494d0",
   "metadata": {},
   "outputs": [],
   "source": [
    "import itertools\n",
    "n = int(input())\n",
    "# p = tuple(map(int, input().split()))\n",
    "# q = tuple(map(int, input().split()))\n",
    "it = list(itertools.permutations(range(1, n+1)))\n",
    "print(it)"
   ]
  },
  {
   "cell_type": "code",
   "execution_count": null,
   "id": "39a69296-1c3e-43fb-a7b2-9f81ec7a513e",
   "metadata": {},
   "outputs": [],
   "source": [
    "def gcd(x, y):\n",
    "  g, G = min(x, y), max(x, y)\n",
    "  _, amari = G//g, G%g\n",
    "  if amari == 0:\n",
    "    return g\n",
    "  else:\n",
    "    return gcd(amari, g)\n",
    "\n",
    "K = int(input())\n",
    "d = dict()\n",
    "for i in range(1, K+1):\n",
    "  for j in range(i, K+1):\n",
    "    G = gcd(i, j)\n",
    "    d[(i, j)] = G\n",
    "    d[(j, i)] = G\n",
    "\n",
    "ans = 0\n",
    "for i in range(1, K+1):\n",
    "  ans += i\n",
    "for i in range(1, K+1):\n",
    "  for j in range(i+1, K+1):\n",
    "    ans += 6*d[(i, j)]\n",
    "for i in range(1, K+1):\n",
    "  for j in range(i+1, K+1):\n",
    "    for k in range(j+1, K+1):\n",
    "      g = d[(i, j)]\n",
    "      ans += 6*d[(g, k)]\n",
    "    \n",
    "print(ans)  "
   ]
  },
  {
   "cell_type": "code",
   "execution_count": null,
   "id": "493dd4b4-2f2a-4fa8-8bf1-ca3e233dd3e0",
   "metadata": {},
   "outputs": [],
   "source": [
    "import math\n",
    "\n",
    "def main():\n",
    "    n = int(input())\n",
    "    ans = 0\n",
    "    for i in range(1, n+1):\n",
    "        for j in range(1, n+1):\n",
    "            for k in range(1, n+1):\n",
    "                ans += math.gcd(math.gcd(i, j), k)\n",
    "    print(ans)\n",
    "\n",
    "main()"
   ]
  },
  {
   "cell_type": "code",
   "execution_count": null,
   "id": "bd3453ca-2d1d-4899-8b7f-724a380b5a10",
   "metadata": {},
   "outputs": [],
   "source": [
    "n=int(input())\n",
    "s=input()\n",
    "ans=s.count(\"R\")*s.count(\"G\")*s.count(\"B\")\n",
    "for i in range(n-2):\n",
    "  for j in range(1,(n-1-i)//2+1):\n",
    "    if s[i]!=s[i+j] and s[i]!=s[i+2*j] and s[i+j]!=s[i+2*j]:\n",
    "      ans-=1\n",
    "print(ans)"
   ]
  },
  {
   "cell_type": "code",
   "execution_count": null,
   "id": "6340ed12-0292-43b7-a797-af34802b920b",
   "metadata": {},
   "outputs": [],
   "source": [
    "n = int(input())\n",
    "whole = [ [0]*(101) for _ in range(101) ]\n",
    "for i in range(n):\n",
    "    a, b, c, d = map(int, input().split())\n",
    "    for i in range(a, b):\n",
    "        for j in range(c, d):\n",
    "            whole[i][j]=1\n",
    "ans = 0                \n",
    "for i in range(101):\n",
    "    ans += sum(whole[i])\n",
    "print(ans)"
   ]
  },
  {
   "cell_type": "code",
   "execution_count": null,
   "id": "b1c8c335-5799-4f6a-9247-23946917b3aa",
   "metadata": {},
   "outputs": [],
   "source": [
    "import bisect\n",
    "import math\n",
    "n, d, p = map(int, input().split())\n",
    "F = list(map(int, input().split()))\n",
    "\n",
    "F.sort()\n",
    "av = p/d\n",
    "\n",
    "idx = bisect.bisect_left(F, av)\n",
    "num = (n-idx)//d\n",
    "zenbu = math.ceil(n/d)*p\n",
    "if idx==n:\n",
    "    ans = min(sum(F), zenbu)\n",
    "else:\n",
    "    ans = min(zenbu, (num*p + sum(F[:n-(num*d)])), (num+1)*p+sum(F[:n-d*(num+1)]))\n",
    "print(int(ans))"
   ]
  },
  {
   "cell_type": "code",
   "execution_count": null,
   "id": "8e08e6e1-a124-4cdc-8918-32b44e72f341",
   "metadata": {},
   "outputs": [],
   "source": [
    "N = int(input())\n",
    "S = input()\n",
    "\n",
    "p = {k:[0]*(N+1) for k in ['R', 'G', 'B']}\n",
    "for i in range(N-1, -1, -1):\n",
    "    for j in ['R', 'G', 'B']:\n",
    "        p[j][i] = p[j][i+1]    \n",
    "    p[S[i]][i] += 1\n",
    "        \n",
    "ans = 0\n",
    "s = {'R', 'G', 'B'}\n",
    "for i in range(N-2):\n",
    "    for j in range(i+1, N-1):\n",
    "        if S[i] == S[j]:\n",
    "            continue\n",
    "        x = s ^ {S[i], S[j]}\n",
    "        x = x.pop()\n",
    "        ans += p[x][j+1]\n",
    "        if j+j-i < N and S[j+j-i] == x:\n",
    "            ans -= 1\n",
    "print(ans)\n"
   ]
  },
  {
   "cell_type": "code",
   "execution_count": null,
   "id": "c288be59-d37f-49fd-88fe-d1159a5f79a3",
   "metadata": {},
   "outputs": [],
   "source": [
    "import networkx as nx\n",
    "n = int(input())\n",
    "G = nx.Graph()\n",
    "D_list=[]\n",
    "for i in range(n-1):\n",
    "  D = list(map(int,input().split()))\n",
    "  D_list.append(D)\n",
    "  for k,j in enumerate(range(i+1,n)):\n",
    "    G.add_edge(i,j,weight= D[k])\n",
    "    G.add_edge(j,i,weight= D[k])\n",
    "\n",
    "def max_weight_matching(G):\n",
    "    # graphは、辺の重みを持つ無向完全グラフを表す辞書です。\n",
    "    matching = nx.algorithms.max_weight_matching(G, maxcardinality=True)\n",
    "    return matching\n",
    "S =0\n",
    "\n",
    "for i,j in max_weight_matching(G):\n",
    "  if i<j:\n",
    "    S +=D_list[i][j-i-1]\n",
    "  else:\n",
    "    S += D_list[j][i-j-1]\n",
    "print(S)"
   ]
  },
  {
   "cell_type": "code",
   "execution_count": null,
   "id": "549d1406-1154-493d-8f24-fa0b361b7e67",
   "metadata": {},
   "outputs": [],
   "source": [
    "t = 100\n",
    "X = int(input())\n",
    "\n",
    "ans = 0\n",
    "while t < X:\n",
    "    ans += 1\n",
    "    t = t * 101 // 100\n",
    "\n",
    "print(ans)"
   ]
  },
  {
   "cell_type": "code",
   "execution_count": null,
   "id": "3732e7b2-1a18-45ae-9a44-618421eac741",
   "metadata": {},
   "outputs": [],
   "source": [
    "# 上限M, 長さnの昇順整数配列において、いくつかのqueryが与えられ、\n",
    "# それを満たすときの得点の合計の最大値を求める問題\n",
    "# n, mがあまり大きくないので、全探索を用いる\n",
    "# 長さn, 上限mの昇順配列を列挙するには、深さ優先探索を用いる\n",
    "# 深さ優先探索を用いて重複配列を作成できるというのを知っているか否かを問う問題っぽい\n",
    "\n",
    "import sys\n",
    "\n",
    "# 探索がある程度多くなる場合、下記のコードが必要（探索回数制限の設定）\n",
    "sys.setrecursionlimit(120000)\n",
    "\n",
    "n, m, q = map(int, input().split())\n",
    "q = [ list(map(int, input().split())) for _ in range(q) ]\n",
    "ans = 0\n",
    "def dfs(array, n, m):\n",
    "    global ans\n",
    "    if len(array) == n:\n",
    "        # print(array)\n",
    "        tmp = 0\n",
    "        for a, b, c, d in q:\n",
    "            if array[b-1]-array[a-1]==c:\n",
    "                tmp+=d\n",
    "        ans = max(ans, tmp)\n",
    "        return\n",
    "\n",
    "    start = 1 if not array else array[-1]\n",
    "    for i in range(start, m+1):\n",
    "        dfs(array + [i], n, m)\n",
    "\n",
    "# DFSを開始\n",
    "dfs([], n, m)\n",
    "print(ans)"
   ]
  },
  {
   "cell_type": "code",
   "execution_count": null,
   "id": "068b792d-2b19-4c58-a951-48a18fe5973c",
   "metadata": {},
   "outputs": [],
   "source": [
    "import math\n",
    "a, b, n = map(int, input().split())\n",
    "if n<b:\n",
    "    ans = math.floor(a*n/b)-a*math.floor(n/b)\n",
    "else:\n",
    "    if a<b:\n",
    "        x = min(b-1, n)\n",
    "        ans = math.floor(a*x/b)-a*math.floor(x/b)\n",
    "    else:\n",
    "        x = b-1\n",
    "        ans = math.floor(a*x/b)-a*math.floor(x/b)\n",
    "print(int(ans))"
   ]
  },
  {
   "cell_type": "code",
   "execution_count": null,
   "id": "a85e747b-9ca8-4922-a45f-0d0c3fc998a7",
   "metadata": {},
   "outputs": [],
   "source": [
    "n, m = map(int, input().split())\n",
    "H = list(map(int, input().split()))\n",
    "G = [ 0 for _ in range(n+1) ]\n",
    "for i in range(m):\n",
    "    a, b = map(int, input().split())\n",
    "    G[a] = max(G[a], H[b-1])\n",
    "    G[b] = max(G[b], H[a-1])\n",
    "ans=0\n",
    "for i in range(1, n+1):\n",
    "    if H[i-1]>G[i]:\n",
    "        ans+=1\n",
    "print(ans)\n",
    "    \n",
    "    \n",
    "        "
   ]
  },
  {
   "cell_type": "code",
   "execution_count": null,
   "id": "ed02b31f-baf4-4a39-b908-acf940bbf9e3",
   "metadata": {},
   "outputs": [],
   "source": [
    "x = int(input())\n",
    "for i in range(-1000, 1001):\n",
    "    for j in range(-1000, 1001):\n",
    "        if i**5 - j**5 ==x:\n",
    "            ans = (str(i) + \" \" + str(j))\n",
    "            break\n",
    "print(ans)"
   ]
  },
  {
   "cell_type": "code",
   "execution_count": null,
   "id": "d3a0c9f8-3665-48fa-acfa-4ce86e1b6867",
   "metadata": {},
   "outputs": [],
   "source": [
    "# ビット全探索問題\n",
    "# nは十数個くらいで選ぶか選ばないかを調べる場合はまずbit全探索\n",
    "n, m, x = map(int, input().split())\n",
    "alg = [ list(map(int, input().split())) for _ in range(n)]\n",
    "inf = 1e+19\n",
    "ans = inf\n",
    "for i in range(1<<n):\n",
    "    tmp = [0]*m\n",
    "    ttl=0\n",
    "    for j in range(n):\n",
    "        if i & (1 << j):\n",
    "            ttl += alg[j][0]\n",
    "            for k in range(m):\n",
    "                tmp[k]+=alg[j][k+1]\n",
    "    if all(item > x for item in tmp):\n",
    "        ans = min(ttl, ans)\n",
    "if ans ==inf:\n",
    "    print(-1)\n",
    "else:\n",
    "    print(ans)"
   ]
  },
  {
   "cell_type": "code",
   "execution_count": null,
   "id": "47ee2987-6c51-42d4-a01a-5b3f10fb463d",
   "metadata": {},
   "outputs": [],
   "source": [
    "# 167 D 別解　ループの経路数と余りを計算して答えを導く\n",
    "n, k = map(int, input().split())\n",
    "A = list(map(int, input().split()))\n",
    "root = [1]\n",
    "flag = [False]*(n+1)\n",
    "for i in range(n):\n",
    "    pos = root[-1]\n",
    "    if flag[pos]==True:\n",
    "        start_idx = root.index(A[pos-1])\n",
    "        end_idx = i+1\n",
    "        loop = end_idx-start_idx\n",
    "        break\n",
    "    else:\n",
    "        root.append(A[pos-1])\n",
    "        flag[pos]=True\n",
    "num_loop = (k-(start_idx-1))//loop\n",
    "mod = (k-(start_idx))%loop\n",
    "if num_loop<0:\n",
    "    ans = root[k]\n",
    "else:\n",
    "    ans = root[start_idx+mod]\n",
    "print(ans)"
   ]
  },
  {
   "cell_type": "code",
   "execution_count": null,
   "id": "7b56052b-2a41-4155-b495-5922a8eddd38",
   "metadata": {},
   "outputs": [],
   "source": [
    "# 167 D ダブリング\n",
    "n, k = map(int, input().split())\n",
    "A = list(map(int, input().split()))\n",
    "A = list(map(lambda x: x-1, A))\n",
    "dp = [[0]*n for _ in range(100)]\n",
    "for i in range(100):\n",
    "    for j in range(n):\n",
    "        if i == 0:\n",
    "            dp[i][j] = A[j]\n",
    "        else:\n",
    "            dp[i][j] = dp[i-1][dp[i-1][j]]\n",
    "pos = 0\n",
    "for j in range(100):\n",
    "    if k>>j&1:\n",
    "        pos = dp[j][pos]\n",
    "print(pos+1)"
   ]
  },
  {
   "cell_type": "code",
   "execution_count": null,
   "id": "d75363e6-4c16-4326-b497-fa90cec095ff",
   "metadata": {},
   "outputs": [],
   "source": [
    "# ３１９　C問題\n",
    "\n",
    "import math\n",
    "from itertools import permutations\n",
    "A = list(map(int, input().split()))\n",
    "A+=list(map(int, input().split()))\n",
    "A+=list(map(int, input().split()))\n",
    "C = [0, 1, 2, 3, 4, 5, 6, 7, 8]\n",
    "B = []\n",
    "cand = []\n",
    "B = [[0, 1, 2], [3, 4, 5], [6, 7, 8], [0, 3, 6], [1, 4, 7], [2, 5, 8], [0, 4, 8], [2, 4, 6]]\n",
    "for i in range(8):\n",
    "    if A[B[i][0]]==A[B[i][1]]:\n",
    "        cand.append([B[i][2], B[i][0], B[i][1]])\n",
    "    if A[B[i][1]]==A[B[i][2]]:\n",
    "        cand.append([B[i][0], B[i][1], B[i][2]])\n",
    "    if A[B[i][0]]==A[B[i][2]]:\n",
    "        cand.append([B[i][1], B[i][0], B[i][2]])\n",
    "ans = 0\n",
    "for perm in permutations(C):\n",
    "    for item in cand:\n",
    "        a = perm.index(item[0])\n",
    "        b = perm.index(item[1])\n",
    "        c = perm.index(item[2])\n",
    "        if b<a and c<a:\n",
    "            ans+=1\n",
    "            break\n",
    "\n",
    "whole = math.factorial(9)\n",
    "ans = 1 - ans/whole\n",
    "print(ans)\n",
    "        \n",
    "    "
   ]
  },
  {
   "cell_type": "code",
   "execution_count": null,
   "id": "b1355a8c-4447-4a6e-9494-d8c64d4def04",
   "metadata": {},
   "outputs": [],
   "source": [
    "# ３１９ D問題\n",
    "# 二分探索\n",
    "\n",
    "def Width(word_lengths, N, M):\n",
    "    left = max(word_lengths) \n",
    "    right = sum(word_lengths) + N - 1 \n",
    "    \n",
    "    while left < right:\n",
    "        mid = (left + right) // 2\n",
    "        lines = 1\n",
    "        current_line_length = 0\n",
    "\n",
    "        for i in range(N):\n",
    "            if current_line_length + word_lengths[i] > mid:\n",
    "                lines += 1\n",
    "                current_line_length = word_lengths[i] + 1\n",
    "            else:\n",
    "                current_line_length += word_lengths[i] + 1\n",
    "\n",
    "        if lines > M:\n",
    "            left = mid + 1\n",
    "        else:\n",
    "            right = mid\n",
    "\n",
    "    return left\n",
    "\n",
    "\n",
    "N, M = map(int, input().split())\n",
    "L = list(map(int, input().split()))\n",
    "result = Width(L, N, M)\n",
    "print(result)"
   ]
  },
  {
   "cell_type": "code",
   "execution_count": null,
   "id": "eed9475b-b5c4-4991-bedd-50f26681e9f1",
   "metadata": {},
   "outputs": [],
   "source": [
    "# 168 C問題\n",
    "# 余弦定理\n",
    "\n",
    "import math\n",
    "\n",
    "a, b, h, m = map(int, input().split())\n",
    "theta = min(abs(m/60-(h/12+m/60/12))*360, abs(1-(m/60-(h/12+m/60/12)))*360)\n",
    "theta_rad = math.radians(theta)\n",
    "c = math.sqrt(a**2 + b**2 - 2*a*b*math.cos(theta_rad))\n",
    "print(c)"
   ]
  },
  {
   "cell_type": "code",
   "execution_count": null,
   "id": "b24d1317-bd8a-42b5-9bcd-f03b427834c1",
   "metadata": {},
   "outputs": [],
   "source": [
    "# 168 D問題\n",
    "# BFS ＋　前の場所を記録\n",
    "from collections import deque\n",
    "\n",
    "n, m = map(int, input().split())\n",
    "edges = [ list(map(int, input().split())) for i in range(m) ]\n",
    "\n",
    "#隣接リスト\n",
    "G = [list() for i in range(n + 1)]\n",
    "for a, b in edges:\n",
    "    G[a].append(b)\n",
    "    G[b].append(a)\n",
    "    \n",
    "dist = [-1] * (n+1)\n",
    "dist[1] = 0\n",
    "q = deque()\n",
    "q.append(1)\n",
    "pre = [0]*(n+1)\n",
    "\n",
    "while len(q)>0:\n",
    "    pos = q.popleft()\n",
    "    for nex in G[pos]:\n",
    "        if dist[nex] == -1:\n",
    "            dist[nex] = dist[pos] + 1\n",
    "            pre[nex]=pos\n",
    "            q.append(nex)\n",
    "print(\"Yes\")\n",
    "for i in range(2, n+1):\n",
    "    print(pre[i])  "
   ]
  },
  {
   "cell_type": "code",
   "execution_count": null,
   "id": "0940a130-057e-4fec-9da7-71e2027974c0",
   "metadata": {},
   "outputs": [],
   "source": [
    "n = int(input())\n",
    "A = list(map(int, input().split()))\n",
    "A = sorted(A)\n",
    "ans = 1\n",
    "for item in A:\n",
    "    ans = ans*item\n",
    "    if ans>1.0e18:\n",
    "        ans = -1\n",
    "        break\n",
    "print(ans)"
   ]
  },
  {
   "cell_type": "code",
   "execution_count": null,
   "id": "d70849cb-8d4e-4fbe-b5d9-7844c6fff1c3",
   "metadata": {},
   "outputs": [],
   "source": [
    "from decimal import Decimal\n",
    "import math\n",
    "a, b = input().split()\n",
    "a = int(a)\n",
    "b = int(float(b)*100)\n",
    "ans = int(a*b)//100\n",
    "print(ans)"
   ]
  },
  {
   "cell_type": "code",
   "execution_count": null,
   "id": "e6101329-1b95-495c-8fcc-f4af693d7629",
   "metadata": {},
   "outputs": [],
   "source": [
    "# 169 D問題\n",
    "# 因数分解さえできればどうとでもなる\n",
    "# 因数分解の関数はここ\n",
    "\n",
    "def factorize(n):\n",
    "    i = 2\n",
    "    factors = []\n",
    "    while i * i <= n:\n",
    "        if n % i:\n",
    "            i += 1\n",
    "        else:\n",
    "            n //= i\n",
    "            factors.append(i)\n",
    "    if n > 1:\n",
    "        factors.append(n)\n",
    "    return factors\n",
    "z = []\n",
    "ans = 0\n",
    "n = int(input())\n",
    "factors = factorize(n)\n",
    "for item in factors:\n",
    "    if item not in z:\n",
    "        z.append(item)\n",
    "        tmp = factors.count(item)\n",
    "        t = 1\n",
    "        while tmp>=t:\n",
    "            tmp -= t\n",
    "            t+=1\n",
    "            ans+=1\n",
    "print(ans)"
   ]
  },
  {
   "cell_type": "code",
   "execution_count": null,
   "id": "19119d6e-9e24-4c68-a222-481cbf29a283",
   "metadata": {},
   "outputs": [],
   "source": [
    "round(3.8)"
   ]
  },
  {
   "cell_type": "code",
   "execution_count": null,
   "id": "814b9977-2de8-4f8a-88d8-758e31abdd9d",
   "metadata": {},
   "outputs": [],
   "source": [
    "n, l = map(int, input().split())\n",
    "k = int(input())\n",
    "A = list(map(int, input().split()))\n",
    "A.append(l)\n",
    "def check(n, k):\n",
    "    left = 1\n",
    "    right = l+1\n",
    "    while right-left>1:\n",
    "        m = (right+left)//2\n",
    "        pre = 0\n",
    "        cut=0\n",
    "        for i in range(n+1):\n",
    "            if A[i]-pre<m:\n",
    "                continue\n",
    "            else:\n",
    "                pre = A[i]\n",
    "                cut+=1\n",
    "        if cut<=k:\n",
    "            right = m\n",
    "        else:\n",
    "            left = m\n",
    "    return left\n",
    "ans = check(n, k)\n",
    "print(ans)"
   ]
  },
  {
   "cell_type": "code",
   "execution_count": null,
   "id": "e4510fd3-9bf3-4166-bf8f-f08fb211e422",
   "metadata": {},
   "outputs": [],
   "source": [
    "s = input()\n",
    "ans = 1\n",
    "for i in range(len(s)+1):\n",
    "    for j in range(1, len(s)+1):\n",
    "        tmp = s[i:j]\n",
    "        if tmp==tmp[::-1]:\n",
    "            ans = max(ans, len(tmp))\n",
    "print(ans)\n",
    "    "
   ]
  },
  {
   "cell_type": "code",
   "execution_count": null,
   "id": "e418d57b-35c5-4c29-86c9-6300c0d8ba5f",
   "metadata": {},
   "outputs": [],
   "source": [
    "from collections import deque\n",
    "\n",
    "n, m = map(int, input().split())\n",
    "G = [ list() for _ in range(n) ]\n",
    "for _ in range(m):\n",
    "    a, b, x, y = map(int, input().split())\n",
    "    G[a-1].append([b-1, x, y])\n",
    "    G[b-1].append([a-1, -x, -y])\n",
    "inf = int(1e12)\n",
    "dist = [ [False] for _ in range(n) ]\n",
    "dist[0] = [0, 0]\n",
    "que = deque()\n",
    "que.append((0, 0, 0))\n",
    "\n",
    "while que:\n",
    "    pos, x, y = que.pop()\n",
    "    dist[pos] = (x, y)\n",
    "    for nex, dx, dy in G[pos]:\n",
    "        if dist[nex]==[False]:\n",
    "            que.append((nex, x+dx, y+dy))\n",
    "for i in range(n):\n",
    "    if dist[i]==[False]:\n",
    "        print(\"undecidable\")\n",
    "    else:\n",
    "        print(*dist[i])"
   ]
  },
  {
   "cell_type": "code",
   "execution_count": null,
   "id": "ed96299e-4ff7-4bb2-9384-2b2f1d5888f1",
   "metadata": {},
   "outputs": [],
   "source": [
    "m = int(input())\n",
    "s1 = input()\n",
    "s2 = input()\n",
    "s3 = input()\n",
    "t1, t2, t3 = [], [], []\n",
    "inf = 1e12\n",
    "ans = inf\n",
    "for i in range(m):\n",
    "    t1.append(s1[i%m])\n",
    "    t2.append(s2[i%m])\n",
    "    t3.append(s3[i%m])\n",
    "t1=t1*3\n",
    "t2=t2*3\n",
    "t3=t3*3\n",
    "inf = 1e12\n",
    "def minimize(A, B, C):\n",
    "    value = inf\n",
    "    A.sort()\n",
    "    B.sort()\n",
    "    C.sort()\n",
    "    for a in tmp1:\n",
    "        for b in tmp2:\n",
    "            if b!=a:\n",
    "                for c in tmp3:\n",
    "                    if c!=a and c!=b:\n",
    "                        value = min(value, max(a, b, c))\n",
    "    return value\n",
    "   \n",
    "inf = 1e12\n",
    "ans = inf\n",
    "for item in t1:\n",
    "    tmp1 = [i for i, x in enumerate(t1) if x==item]\n",
    "    tmp2 = [i for i, x in enumerate(t2) if x==item]\n",
    "    tmp3 = [i for i, x in enumerate(t3) if x==item]\n",
    "    tmp = minimize(tmp1, tmp2, tmp3)\n",
    "    ans = min(tmp, ans)\n",
    "                        \n",
    "if ans==inf:  \n",
    "    print(-1)\n",
    "else:\n",
    "    print(ans)\n",
    "                "
   ]
  },
  {
   "cell_type": "code",
   "execution_count": null,
   "id": "a34391fd-de74-4223-996a-64176e6efe4c",
   "metadata": {
    "tags": []
   },
   "outputs": [],
   "source": [
    "# 与えられた文字列を任意の箇所で切り取ったとき、２０１９の倍数はいくつあるか？\n",
    "\n",
    "S = input().strip()\n",
    "N = len(S)\n",
    "\n",
    "# 初期化\n",
    "ans = 0\n",
    "cnt = [0] * 2020\n",
    "cnt[0] = 1\n",
    "tot = 0\n",
    "p = 1\n",
    "\n",
    "# 逆順にループ\n",
    "for i in range(N-1, -1, -1):\n",
    "    tot = (tot + int(S[i]) * p) % 2019\n",
    "    ans += cnt[tot]\n",
    "    p = (p * 10) % 2019\n",
    "    cnt[tot] += 1\n",
    "\n",
    "print(ans)"
   ]
  },
  {
   "cell_type": "code",
   "execution_count": null,
   "id": "43b81cba-7f8b-4997-bc6b-d4bcd1dbb6bc",
   "metadata": {
    "tags": []
   },
   "outputs": [],
   "source": [
    "# 170 D リスト中の整数で割り切れない要素の数。倍数を使う\n",
    "\n",
    "from collections import Counter\n",
    "n = int(input())\n",
    "\n",
    "a = list(map(int,input().split()))\n",
    "d = Counter(a)\n",
    "keys = sorted(d.keys())\n",
    "max_key = max(keys)\n",
    "check = [False] * (max_key + 1)\n",
    "ans = 0\n",
    "for i in range(len(keys)):\n",
    "    if d[keys[i]] > 1:\n",
    "        for j in range(keys[i],max_key+1,keys[i]):\n",
    "            check[j] = True\n",
    "        continue\n",
    "    if check[keys[i]]:\n",
    "        continue\n",
    "    ans += 1\n",
    "    for j in range(keys[i],max_key+1,keys[i]):\n",
    "        check[j] = True\n",
    "print(ans)"
   ]
  },
  {
   "cell_type": "code",
   "execution_count": null,
   "id": "fea605c7-7734-420f-ac6c-a4dffd258e65",
   "metadata": {
    "tags": []
   },
   "outputs": [],
   "source": [
    "# 171 C\n",
    "\n",
    "n = int(input())\n",
    "\n",
    "m = n\n",
    "mod = []\n",
    "k = 1\n",
    "\n",
    "# 1桁だったとき\n",
    "if n <= 26:\n",
    "    exit(print(chr(ord(\"a\") + (n - 1))))\n",
    "    \n",
    "# 2桁以上だった時、桁数を判明させる ここでもう引いちゃってよい\n",
    "while n - (26 ** k) > 0:\n",
    "    n -= (26 ** k)\n",
    "    k += 1\n",
    "\n",
    "# # kけたのところに何がハマるか 1けためは絶対にn % 26がハマる\n",
    "# # 0 ~ 25にするために1ひく\n",
    "# n -= 1\n",
    "\n",
    "# for i in range(k):\n",
    "#     mod.append(chr(ord(\"a\") + n % 26))\n",
    "#     n //= 26\n",
    "\n",
    "# print(*mod[::-1], sep=\"\")"
   ]
  },
  {
   "cell_type": "code",
   "execution_count": null,
   "id": "f4dfb97f-01ed-4e58-a383-ce4563a47ae2",
   "metadata": {
    "tags": []
   },
   "outputs": [],
   "source": [
    "# 171 D\n",
    "from collections import Counter\n",
    "\n",
    "n = int(input())\n",
    "A = list(map(int, input().split()))\n",
    "ans = sum(A)\n",
    "d = Counter(A)\n",
    "keys = d.keys()\n",
    "q = int(input())\n",
    "dic = {}\n",
    "for i in range(q):\n",
    "    b, c = map(int, input().split())\n",
    "    if d[b]:\n",
    "        ans -= (b - c)*d[b]\n",
    "        if d[c]:\n",
    "            d[c]+=d[b]\n",
    "            d[b]=0\n",
    "        else:\n",
    "            d[c]=d[b]\n",
    "            d[b]=0\n",
    "    print(ans)\n",
    "        "
   ]
  },
  {
   "cell_type": "code",
   "execution_count": null,
   "id": "386a83eb-d80e-4ab5-b78f-e7c1565f76bc",
   "metadata": {
    "tags": []
   },
   "outputs": [],
   "source": [
    "import itertools\n",
    "from functools import reduce\n",
    "from operator import xor\n",
    "# import numpy as np\n",
    "\n",
    "n = int(input())\n",
    "a = list(map(int, input().split()))\n",
    "tot = reduce(xor, a)\n",
    "ans = []\n",
    "for i in range(n):\n",
    "    ans.append(tot^a[i])\n",
    "print(*ans)\n",
    "# cands = list(itertools.permutations(range(1, 1000)))\n",
    "# cands2 = []\n",
    "# for i in range(int(1e9+1)):\n",
    "#     tmp = a^i\n",
    "#     if reduce(xor, tmp)==i:\n",
    "#         print(*tmp)\n",
    "#         break\n",
    "    \n"
   ]
  },
  {
   "cell_type": "code",
   "execution_count": null,
   "id": "0120f76c-b19f-4001-a76b-ca2ae3944a8e",
   "metadata": {
    "tags": []
   },
   "outputs": [],
   "source": [
    "import numpy as np\n",
    "a = np.array([1, 2, 3])\n",
    "b = 2\n",
    "c = a^b\n",
    "c"
   ]
  },
  {
   "cell_type": "code",
   "execution_count": null,
   "id": "9571a067-e26d-4ef1-8128-564ed12bf83c",
   "metadata": {
    "tags": []
   },
   "outputs": [],
   "source": [
    "import itertools\n",
    "from functools import reduce\n",
    "from operator import xor\n",
    "\n",
    "it = list(itertools.permutations(range(1, 4)))\n",
    "for "
   ]
  },
  {
   "cell_type": "code",
   "execution_count": null,
   "id": "948ebdda-e41e-485e-8593-07625a1f1c2f",
   "metadata": {
    "tags": []
   },
   "outputs": [],
   "source": [
    "list(it[1][1:])"
   ]
  },
  {
   "cell_type": "code",
   "execution_count": null,
   "id": "04726f86-bc25-4ff9-98f8-d7d09fbe0b3e",
   "metadata": {
    "tags": []
   },
   "outputs": [],
   "source": [
    "N = int(input())\n",
    "\n",
    "def f(x):\n",
    "  return x * (x+1) // 2\n",
    "\n",
    "ans = 0\n",
    "for x in range(1, N+1):\n",
    "  if x * x > N:\n",
    "    break\n",
    "  # x = y\n",
    "  ans += x * x\n",
    "  # x < y の 2 倍\n",
    "  y_high = N//x\n",
    "  ans += 2 * x * (f(y_high) - f(x))\n",
    "\n",
    "print(ans)"
   ]
  },
  {
   "cell_type": "code",
   "execution_count": null,
   "id": "2d7e75af-becf-44cb-875d-f43e2fb3ce57",
   "metadata": {
    "tags": []
   },
   "outputs": [],
   "source": [
    "# 約数を出力する関数\n",
    "def sieve_of_eratosthenes(limit):\n",
    "    is_prime = [True] * (limit + 1)\n",
    "    is_prime[0] = is_prime[1] = False\n",
    "    for num in range(2, int(limit**0.5) + 1):\n",
    "        if is_prime[num]:\n",
    "            for multiple in range(num*2, limit + 1, num):\n",
    "                is_prime[multiple] = False\n",
    "    return is_prime\n",
    "\n",
    "def prime_factorization(n, is_prime):\n",
    "    factors = {}\n",
    "    for i in range(2, n + 1):\n",
    "        if is_prime[i]:\n",
    "            while n % i == 0:\n",
    "                factors[i] = factors.get(i, 0) + 1\n",
    "                n //= i\n",
    "        if n == 1:\n",
    "            break\n",
    "    return factors\n",
    "\n",
    "def divisors(n, is_prime):\n",
    "    res = [1]\n",
    "    pf = prime_factorization(n, is_prime)\n",
    "    for p, exp in pf.items():\n",
    "        s = len(res)\n",
    "        for i in range(s):\n",
    "            v = 1\n",
    "            for j in range(exp):\n",
    "                v *= p\n",
    "                res.append(res[i] * v)\n",
    "    return res\n",
    "\n",
    "# 使用例\n",
    "limit = int(input())+1  # 適切な上限を設定\n",
    "is_prime = sieve_of_eratosthenes(limit)\n",
    "# ans = 0\n",
    "# for i in range(1, limit):\n",
    "#     a = len(divisors(i, is_prime))\n",
    "#     ans+=a*i\n",
    "# print(ans)"
   ]
  },
  {
   "cell_type": "code",
   "execution_count": null,
   "id": "28e5a1cb-8ad5-4e1f-8e1c-155eed3d4c16",
   "metadata": {},
   "outputs": [],
   "source": [
    "# 172 D\n",
    "\n",
    "def prime(n):\n",
    "    res = []\n",
    "    p = [True] * n\n",
    "    for i in range(2, n):\n",
    "        if p[i]:\n",
    "            res.append(i)\n",
    "            j = i * i\n",
    "            while j < n:\n",
    "                p[j] = False\n",
    "                j += i\n",
    "    return res\n",
    "\n",
    "\n",
    "n = int(input()) + 1\n",
    "cnt = [1] * n\n",
    "\n",
    "for i in prime(n):\n",
    "    for j in range(1, (n - 1) // i + 1):\n",
    "        cnt[i * j] += cnt[j]\n",
    "\n",
    "print(sum([idx * i for idx, i in enumerate(cnt)]))"
   ]
  },
  {
   "cell_type": "code",
   "execution_count": 58,
   "id": "f48dbfbf-6589-453f-8f6f-caf3c80cefe5",
   "metadata": {
    "tags": []
   },
   "outputs": [
    {
     "name": "stdout",
     "output_type": "stream",
     "text": [
      "[2, 3, 5, 7]\n"
     ]
    },
    {
     "name": "stdin",
     "output_type": "stream",
     "text": [
      " 10\n"
     ]
    },
    {
     "data": {
      "text/plain": [
       "[1, 1, 2, 2, 3, 2, 4, 2, 4, 3, 4]"
      ]
     },
     "execution_count": 58,
     "metadata": {},
     "output_type": "execute_result"
    }
   ],
   "source": [
    "def prime(n):\n",
    "    res = []\n",
    "    p = [True] * n\n",
    "    for i in range(2, n):\n",
    "        if p[i]:\n",
    "            res.append(i)\n",
    "            j = i * i\n",
    "            while j < n:\n",
    "                p[j] = False\n",
    "                j += i\n",
    "    return res\n",
    "a = prime(10)\n",
    "print(a)\n",
    "n = int(input()) + 1\n",
    "cnt = [1] * n\n",
    "\n",
    "for i in prime(n):\n",
    "    for j in range(1, (n - 1) // i + 1):\n",
    "        cnt[i * j] += cnt[j]\n",
    "cnt"
   ]
  },
  {
   "cell_type": "code",
   "execution_count": null,
   "id": "f1ae1477-cf1e-47f3-b779-ba7316b0b0a9",
   "metadata": {
    "tags": []
   },
   "outputs": [],
   "source": [
    "#### 322 E問題。タプル型のDP実装\n",
    "\n",
    "from collections import defaultdict\n",
    "N, K, P = map(int, input().split())\n",
    "C = []\n",
    "A = []\n",
    "for _ in range(N):\n",
    "    a = list(map(int, input().split()))\n",
    "    C.append(a[0])\n",
    "    A.append(a[1:])\n",
    "\n",
    "INF = 10**18\n",
    "dp = defaultdict(lambda: INF)\n",
    "dp[tuple([0]*K)] = 0\n",
    "for i in range(N):\n",
    "    c = C[i]\n",
    "    a = A[i]\n",
    "    ndp = defaultdict(lambda: INF)\n",
    "    for k in dp:\n",
    "        if dp[k] >= INF:\n",
    "            continue\n",
    "        ndp[k] = min(ndp[k], dp[k])\n",
    "        nk = tuple(min(P, x+y) for x, y in zip(a, k))\n",
    "        ndp[nk] = min(ndp[nk], dp[k]+c)\n",
    "    dp = ndp\n",
    "\n",
    "print(-1 if dp[tuple([P]*K)] >= INF else dp[tuple([P]*K)])"
   ]
  },
  {
   "cell_type": "code",
   "execution_count": null,
   "id": "d2aafce7-7ea8-4f5a-9f0d-e7bf2e18444f",
   "metadata": {
    "tags": []
   },
   "outputs": [],
   "source": [
    "# 322 D 二次元のパズル問題。３つの図形が４ｘ４マスにピタリはまるかどうか\n",
    "# 3つの図形を９０度回転、横・縦移動したパターンを全部探索する必要がある\n",
    "# セット型を使うとこの手の問題を効率的に解ける。あと９０度回転は(x, y)=(y, -x)とするのは覚えておく\n",
    "# バックトラッキングというらしい\n",
    "def board_to_set(H,W):\n",
    "    blocks = set()\n",
    "    S = [input() for _ in range(H)]\n",
    "    for i in range(H):\n",
    "        for j in range(W):\n",
    "            if S[i][j] == \"#\":\n",
    "                blocks.add((i,j))\n",
    "    return blocks\n",
    "\n",
    "def normalize_coordinate(S):\n",
    "    min_x, min_y = min(S)\n",
    "    return set([(x-min_x, y-min_y) for x,y in S])\n",
    "\n",
    "def clockwise_rotate(S):\n",
    "    return set([(y, -x) for x,y in S])\n",
    "\n",
    "def move_on_board(S,dx,dy):\n",
    "    return set([(x+dx, y+dy) for x,y in S])\n",
    "\n",
    "H,W = 4,4\n",
    "P1 = normalize_coordinate(board_to_set(W,H))\n",
    "P2 = normalize_coordinate(board_to_set(W,H))\n",
    "P3 = normalize_coordinate(board_to_set(W,H))\n",
    "\n",
    "for i in range(4): #P1の回転\n",
    "    P1 = normalize_coordinate(clockwise_rotate(P1))\n",
    "    for j in range(4): #P2の回転\n",
    "        P2 = normalize_coordinate(clockwise_rotate(P2))\n",
    "        for k in range(4): #P3の回転\n",
    "            P3 = normalize_coordinate(clockwise_rotate(P3))\n",
    "            for P1_dx in range(W):\n",
    "                for P1_dy in range(H):\n",
    "                    for P2_dx in range(W):\n",
    "                        for P2_dy in range(H):\n",
    "                            for P3_dx in range(W):\n",
    "                                for P3_dy in range(H):\n",
    "                                    Q1 = move_on_board(P1,P1_dx,P1_dy)\n",
    "                                    Q2 = move_on_board(P2,P2_dx,P2_dy)\n",
    "                                    Q3 = move_on_board(P3,P3_dx,P3_dy)\n",
    "                                    if Q1 & Q2 or Q1 & Q3 or Q2 & Q3:\n",
    "                                        continue\n",
    "                                    if set([(j, k) for j in range(4) for k in range(4)]) == (Q1 | Q2 | Q3):\n",
    "                                        print(\"Yes\")\n",
    "                                        exit()\n",
    "print(\"No\")"
   ]
  },
  {
   "cell_type": "code",
   "execution_count": null,
   "id": "86cd83a6-cb75-4f5e-a2f7-e387c101d557",
   "metadata": {
    "tags": []
   },
   "outputs": [],
   "source": [
    "# 322 E\n",
    "from collections import defaultdict\n",
    "\n",
    "n, k, p = map(int, input().split())\n",
    "C = []\n",
    "A = []\n",
    "for _ in range(n):\n",
    "    a = list(map(int, input().split()))\n",
    "    C.append(a[0])\n",
    "    A.append(a[1:])\n",
    "    \n",
    "inf = int(1e18)\n",
    "dp = defaultdict(lambda: inf)\n",
    "dp[tuple([0]*k)] = 0\n",
    "for i in range(n):\n",
    "    a=A[i]\n",
    "    c=C[i]\n",
    "    ndp = defaultdict(lambda: inf)\n",
    "    for item in dp:\n",
    "        if dp[item]>=inf:\n",
    "            continue\n",
    "        ndp[item] = min(dp[item], ndp[item])\n",
    "        nk = tuple(min(p, x+y) for x, y in zip(a, item))\n",
    "        ndp[nk] = min(ndp[nk], dp[item]+c)\n",
    "    dp = ndp\n",
    "print(-1 if dp[tuple([p]*k)]==inf else dp[tuple([p]*k)] )            "
   ]
  },
  {
   "cell_type": "code",
   "execution_count": null,
   "id": "588660f5-7a22-4c08-9477-76fc0f0cc7fa",
   "metadata": {
    "tags": []
   },
   "outputs": [],
   "source": [
    "import bisect\n",
    "N, M, K = map(int, input().split())\n",
    "A = list(map(int, input().split()))\n",
    "B = list(map(int, input().split()))\n",
    "SA = [0]\n",
    "SB = [0]\n",
    "for a in A:\n",
    "    SA.append(SA[-1]+a)\n",
    "for b in B:\n",
    "    SB.append(SB[-1]+b)\n",
    "pos = bisect.bisect_right(SA, K)\n",
    "nokori = K-SA[pos-1]\n",
    "pos_b = bisect.bisect_right(SB, nokori)\n",
    "ans = pos-1 + pos_b-1\n",
    "for i in range(pos-1, -1, -1):\n",
    "    nokori = K-SA[i-1]\n",
    "    pos_b = bisect.bisect_right(SB, nokori)\n",
    "    ans = max(ans, i-1 + pos_b-1)\n",
    "print(ans)"
   ]
  },
  {
   "cell_type": "code",
   "execution_count": 21,
   "id": "a3f13b8e-3640-433e-9ac4-1a51457ed65b",
   "metadata": {
    "tags": []
   },
   "outputs": [
    {
     "name": "stdin",
     "output_type": "stream",
     "text": [
      " 6 6 8\n",
      " ..##..\n",
      " .#..#.\n",
      " #....#\n",
      " ######\n",
      " #....#\n",
      " #....#\n"
     ]
    },
    {
     "name": "stdout",
     "output_type": "stream",
     "text": [
      "208\n"
     ]
    }
   ],
   "source": [
    "import copy\n",
    "h, w, k = map(int, input().split())\n",
    "whole = []\n",
    "for i in range(h):\n",
    "    whole.append(list(input()))\n",
    "ans = 0\n",
    "cand = []\n",
    "for i in range(1<<h):\n",
    "    now = copy.deepcopy(whole)\n",
    "    count = 0\n",
    "    for j in range(h):\n",
    "        if i&1<<j:\n",
    "            now[j]=[\"r\"]*w\n",
    "    cand.append(now)\n",
    "    # print(now)\n",
    "for item in cand:\n",
    "    for i in range(1<<w):\n",
    "        now = copy.deepcopy(item)\n",
    "        for j in range(w):\n",
    "            if i&1<<j:\n",
    "                for l in range(h):\n",
    "                    now[l][j]=\"r\"\n",
    "        tmp = 0\n",
    "        # print(now)\n",
    "        for o in range(h):\n",
    "            tmp+=now[o].count(\"#\")\n",
    "        if tmp==k:\n",
    "            ans+=1\n",
    "\n",
    "print(ans)"
   ]
  },
  {
   "cell_type": "code",
   "execution_count": 19,
   "id": "7284b0eb-2b26-4d7b-9b41-052ddd105e69",
   "metadata": {
    "tags": []
   },
   "outputs": [
    {
     "data": {
      "text/plain": [
       "[['..#', '###']]"
      ]
     },
     "execution_count": 19,
     "metadata": {},
     "output_type": "execute_result"
    }
   ],
   "source": [
    "transposed = [[row[i] for row in whole] for i in range(len(whole[0]))]\n",
    "transposed"
   ]
  },
  {
   "cell_type": "code",
   "execution_count": 14,
   "id": "b5fd12bc-f97a-41a0-aad2-21a628349d2f",
   "metadata": {
    "tags": []
   },
   "outputs": [
    {
     "name": "stdin",
     "output_type": "stream",
     "text": [
      " 999983\n"
     ]
    },
    {
     "name": "stdout",
     "output_type": "stream",
     "text": [
      "999982\n"
     ]
    }
   ],
   "source": [
    "k = int(input())\n",
    "p = [0]*(10*k)\n",
    "ans = -1\n",
    "# if k%2==0:\n",
    "#     print(-1)\n",
    "for i in range(1, 10*k):\n",
    "    p[i] = (p[i-1]*10+7)%k\n",
    "    if p[i]==0:\n",
    "        ans = i\n",
    "        break\n",
    "print(ans)\n",
    "\n"
   ]
  },
  {
   "cell_type": "code",
   "execution_count": 37,
   "id": "9f130940-70a2-4836-9150-465e4c2435ca",
   "metadata": {
    "tags": []
   },
   "outputs": [
    {
     "name": "stdin",
     "output_type": "stream",
     "text": [
      " 4 4\n",
      " 1 1\n",
      " 4 4\n",
      " ..#.\n",
      " ..#.\n",
      " .#..\n",
      " .#..\n"
     ]
    },
    {
     "name": "stdout",
     "output_type": "stream",
     "text": [
      "1\n"
     ]
    }
   ],
   "source": [
    "from collections import deque\n",
    "\n",
    "H, W = map(int, input().split())\n",
    "Ch, Cw = map(lambda x: int(x) - 1, input().split())\n",
    "Dh, Dw = map(lambda x: int(x) - 1, input().split())\n",
    "S = [input() for _ in range(H)]\n",
    "cost = [[1 << 60] * W for _ in range(H)]\n",
    "cost[Ch][Cw] = 0\n",
    "di, dj = [-1, 1, 0, 0], [0, 0, -1, 1]\n",
    "que = deque([(Ch, Cw)])\n",
    "while que:\n",
    "    i, j = que.popleft()\n",
    "    # 移動\n",
    "    for d in range(4):\n",
    "        ni, nj = i + di[d], j + dj[d]\n",
    "        if 0 <= ni < H and 0 <= nj < W and S[ni][nj] == '.' and cost[i][j] < cost[ni][nj]:\n",
    "            cost[ni][nj] = cost[i][j]\n",
    "            que.appendleft((ni, nj))\n",
    "    # ワープ\n",
    "    for ii in range(max(i - 2, 0), min(i + 3, H)):\n",
    "        for jj in range(max(j - 2, 0), min(j + 3, W)):\n",
    "            if S[ii][jj] == '.' and cost[i][j] + 1 < cost[ii][jj]:\n",
    "                cost[ii][jj] = cost[i][j] + 1\n",
    "                que.append((ii, jj))\n",
    "print(cost[Dh][Dw] if cost[Dh][Dw] < 1 << 60 else -1)"
   ]
  },
  {
   "cell_type": "code",
   "execution_count": 10,
   "id": "d1ac485e-4b3d-4c64-ac55-f90443e15d8c",
   "metadata": {
    "tags": []
   },
   "outputs": [
    {
     "name": "stdin",
     "output_type": "stream",
     "text": [
      " 7\n",
      " -oxoxox\n",
      " x-xxxox\n",
      " oo-xoox\n",
      " xoo-ooo\n",
      " ooxx-ox\n",
      " xxxxx-x\n",
      " oooxoo-\n"
     ]
    },
    {
     "name": "stdout",
     "output_type": "stream",
     "text": [
      "4\n",
      "7\n",
      "3\n",
      "1\n",
      "5\n",
      "2\n",
      "6\n"
     ]
    }
   ],
   "source": [
    "n = int(input())\n",
    "results = [False]*n\n",
    "stats = [0]*n\n",
    "for i in range(n):\n",
    "    tmp = input()\n",
    "    for j in range(n):\n",
    "        if tmp[j]==\"o\":\n",
    "            stats[i]+=1\n",
    "juni = [(key, value) for key, value in enumerate(stats)]\n",
    "juni = sorted(juni, key=lambda x: x[1], reverse=True)\n",
    "for i in (range(n)):\n",
    "    print(juni[i][0]+1)"
   ]
  },
  {
   "cell_type": "code",
   "execution_count": 38,
   "id": "a9894b29-3df9-4809-b805-acd18d3e65ef",
   "metadata": {
    "tags": []
   },
   "outputs": [
    {
     "name": "stdin",
     "output_type": "stream",
     "text": [
      " 3 4\n",
      " 1000 500 700 2000\n",
      " xxxo\n",
      " ooxx\n",
      " oxox\n"
     ]
    },
    {
     "name": "stdout",
     "output_type": "stream",
     "text": [
      "0\n",
      "1\n",
      "1\n"
     ]
    }
   ],
   "source": [
    "import bisect\n",
    "n, m = map(int, input().split())\n",
    "A = list(map(int, input().split()))\n",
    "stats = [ i+1 for i in range(n) ]\n",
    "complist = [[False]*m for _ in range(n)]\n",
    "for i in range(n):\n",
    "    tmp = input()\n",
    "    for j in range(m):\n",
    "        if tmp[j]==\"o\":\n",
    "            stats[i]+=A[j]\n",
    "            complist[i][j]=True #出場者iはj番目は既に解いている\n",
    "copyA = [ (key, value) for key, value in enumerate(A) ]\n",
    "copyA = sorted(copyA, key=lambda x: x[1], reverse=True)\n",
    "# for i in range(m-1):\n",
    "#     cumA.append(cumA[-1]+A[i+1])\n",
    "target = max(stats)\n",
    "for i in range(n):\n",
    "    score = stats[i]\n",
    "    idx = 0\n",
    "    t = 0\n",
    "    # for j in range(m):\n",
    "    #     if score<target:\n",
    "    #         num = copyA[j][0]\n",
    "    #         if not complist[i][num]:\n",
    "    #             score+=copyA[j][1]\n",
    "    #             t+=1\n",
    "    #         else:\n",
    "    #             continue\n",
    "    #     else:\n",
    "    #         print(t)\n",
    "    #         break\n",
    "    while score<target:\n",
    "        if not complist[i][copyA[idx][0]]:\n",
    "            score+=copyA[idx][1]\n",
    "            idx+=1\n",
    "            t+=1\n",
    "        else:\n",
    "            idx+=1\n",
    "    print(t)\n",
    "        \n",
    "\n",
    "\n"
   ]
  },
  {
   "cell_type": "code",
   "execution_count": 24,
   "id": "73ba23ad-2cdc-4d2b-b5a3-a02a67a289ff",
   "metadata": {},
   "outputs": [
    {
     "name": "stdin",
     "output_type": "stream",
     "text": [
      " 2\n",
      " 45 3\n",
      " 36 2\n"
     ]
    },
    {
     "name": "stdout",
     "output_type": "stream",
     "text": [
      "3\n"
     ]
    }
   ],
   "source": [
    "from collections import deque, Counter, defaultdict\n",
    "# from bisect import bisect_left, bisect_right\n",
    "# from itertools import accumulate, product, permutations, combinations\n",
    "# import heapq\n",
    "# import sys\n",
    "# sys.setrecursionlimit(10**6)\n",
    "\n",
    "N = int(input())\n",
    "SC = [[*map(int, input().split())] for _ in range(N)]\n",
    "\n",
    "s2c = defaultdict(int)\n",
    "for i in range(N):\n",
    "    s, c = SC[i]\n",
    "    # print(f'>> i {i} s,c {s,c}')\n",
    "    while s & 1 == 0:\n",
    "        c <<= 1\n",
    "        s >>= 1\n",
    "    # print(f'<< i {i} s,c {s,c}')\n",
    "    s2c[s] += c\n",
    "\n",
    "# print(s2c)\n",
    "\n",
    "ans = 0\n",
    "for s, c in s2c.items():\n",
    "    ans += c.bit_count()\n",
    "print(ans)\n",
    "        \n",
    "    "
   ]
  },
  {
   "cell_type": "code",
   "execution_count": 20,
   "id": "a24ba398-005d-49ad-b941-547bc4045108",
   "metadata": {
    "tags": []
   },
   "outputs": [
    {
     "name": "stdin",
     "output_type": "stream",
     "text": [
      " 10 4\n",
      " 3 1\n",
      " 4 1\n",
      " 5 9\n",
      " 2 6\n"
     ]
    },
    {
     "name": "stdout",
     "output_type": "stream",
     "text": [
      "3\n"
     ]
    }
   ],
   "source": [
    "# 177 C\n",
    "class unionfind:\n",
    "    def __init__(self, n):\n",
    "        self.n = n\n",
    "        self.par = [-1]*(n+1)\n",
    "        self.size = [1] * (n+1)\n",
    "        \n",
    "    def root(self, x):\n",
    "        while self.par[x]!=-1:\n",
    "            x = self.par[x]\n",
    "        return x\n",
    "    \n",
    "    def unite(self, u, v):\n",
    "        rootu = self.root(u)\n",
    "        rootv = self.root(v)\n",
    "        if rootu!=rootv:\n",
    "            if self.size[rootu]<self.size[rootv]:\n",
    "                self.par[rootu] = rootv\n",
    "                self.size[rootv]+=self.size[rootu]\n",
    "            else:\n",
    "                self.par[rootv] = rootu\n",
    "                self.size[rootu]+=self.size[rootv]\n",
    "                \n",
    "    def sama(self, u, v):\n",
    "        return self.root(u)==self.root(v)\n",
    "n, m = map(int, input().split())\n",
    "uf = unionfind(n)\n",
    "ans = 1\n",
    "for i in range(m):\n",
    "    a, b = map(int, input().split())\n",
    "    uf.unite(a, b)\n",
    "for i in range(1, n+1):\n",
    "    ans = max(uf.size[i], ans)\n",
    "print(ans)"
   ]
  },
  {
   "cell_type": "code",
   "execution_count": 23,
   "id": "2d2fee31-1fa9-4de0-bd88-7bb32ccf8f61",
   "metadata": {
    "tags": []
   },
   "outputs": [
    {
     "name": "stdin",
     "output_type": "stream",
     "text": [
      " 10\n",
      " 1 1 1 1 1 1 1 1 1 3\n"
     ]
    },
    {
     "name": "stdout",
     "output_type": "stream",
     "text": [
      "setwise coprime\n"
     ]
    }
   ],
   "source": [
    "# 177 D\n",
    "from collections import Counter, defaultdict\n",
    "n = int(input())\n",
    "\n",
    "a = list(map(int,input().split()))\n",
    "factors = defaultdict(lambda: 0)\n",
    "# t = max(a)+1\n",
    "# flag = [False]*t\n",
    "def factorize(n):\n",
    "    subfactors = defaultdict(lambda: 0)\n",
    "    if n==1:\n",
    "        subfactors[1]=1\n",
    "    else:\n",
    "        i = 2\n",
    "        # subfactors = defaultdict(lambda: 0)\n",
    "        while i * i <= n:\n",
    "            if n % i:\n",
    "                i += 1\n",
    "            else:\n",
    "                n //= i\n",
    "                subfactors[i]=1\n",
    "        if n > 1:\n",
    "            subfactors[n]=1\n",
    "    return subfactors\n",
    "    \n",
    "for item in a:\n",
    "    tmp = factorize(item)\n",
    "    if tmp:\n",
    "        for key in tmp.keys():\n",
    "            factors[key]+=1\n",
    "\n",
    "res = max(factors.values())\n",
    "if res==1 or factors[1]>=n-1:\n",
    "    print(\"pairwise coprime\")\n",
    "elif res<n:\n",
    "    print(\"setwise coprime\")\n",
    "else:\n",
    "    print(\"not coprime\")"
   ]
  },
  {
   "cell_type": "code",
   "execution_count": 26,
   "id": "91a1a1f9-f1aa-4bf1-8175-3c3833a5c08b",
   "metadata": {},
   "outputs": [
    {
     "name": "stdin",
     "output_type": "stream",
     "text": [
      " 3\n",
      " 1 2 3\n",
      " 1 2 3\n"
     ]
    },
    {
     "name": "stdout",
     "output_type": "stream",
     "text": [
      "0\n"
     ]
    }
   ],
   "source": [
    "import itertools\n",
    "n = int(input())\n",
    "p = tuple(map(int, input().split()))\n",
    "q = tuple(map(int, input().split()))\n",
    "it = list(itertools.permutations(range(1, n+1)))\n",
    "ans = abs(it.index(q)-it.index(p))\n",
    "print(ans)"
   ]
  },
  {
   "cell_type": "code",
   "execution_count": 3,
   "id": "a4591cac-a9e9-4eee-b74d-1c5eef8067f2",
   "metadata": {
    "tags": []
   },
   "outputs": [
    {
     "name": "stdin",
     "output_type": "stream",
     "text": [
      " 10\n",
      " 73 8 55 26 97 48 37 47 35 55\n"
     ]
    },
    {
     "name": "stdout",
     "output_type": "stream",
     "text": [
      "No\n"
     ]
    }
   ],
   "source": [
    "n = int(input())\n",
    "A = list(map(int, input().split()))\n",
    "a = A[0]\n",
    "ans = \"Yes\"\n",
    "for i in range(n):\n",
    "    if A[i]!=a:\n",
    "        ans = \"No\"\n",
    "        break\n",
    "print(ans)"
   ]
  },
  {
   "cell_type": "code",
   "execution_count": 8,
   "id": "7345dd8c-68cd-40d2-872a-f3038adf7938",
   "metadata": {},
   "outputs": [
    {
     "name": "stdin",
     "output_type": "stream",
     "text": [
      " 37748736\n"
     ]
    },
    {
     "name": "stdout",
     "output_type": "stream",
     "text": [
      "Yes\n"
     ]
    }
   ],
   "source": [
    "from collections import defaultdict\n",
    "def factorize(n):\n",
    "    subfactors = defaultdict(lambda: 0)\n",
    "    # if n==1:\n",
    "    #     subfactors[1]=1\n",
    "    # else:\n",
    "    i = 2\n",
    "        # subfactors = defaultdict(lambda: 0)\n",
    "    while n>1:\n",
    "        if n % i:\n",
    "            i += 1\n",
    "            if i>3:\n",
    "                break\n",
    "        else:\n",
    "            n //= i\n",
    "            subfactors[i]=1\n",
    "        if n > 1:\n",
    "            subfactors[n]=1\n",
    "    \n",
    "    return n\n",
    "\n",
    "n = int(input())\n",
    "ans = factorize(n)\n",
    "if ans==1:\n",
    "    print(\"Yes\")\n",
    "else:\n",
    "    print(\"No\")\n"
   ]
  },
  {
   "cell_type": "code",
   "execution_count": null,
   "id": "8a4fb764-2167-457b-bd40-e216e5ba0dd4",
   "metadata": {},
   "outputs": [],
   "source": []
  },
  {
   "cell_type": "code",
   "execution_count": null,
   "id": "3be05c1a-ada3-420b-9ee9-44921af8ffe5",
   "metadata": {},
   "outputs": [],
   "source": []
  },
  {
   "cell_type": "code",
   "execution_count": 82,
   "id": "7768d207-c932-4992-b458-ab66fb7d881b",
   "metadata": {
    "tags": []
   },
   "outputs": [
    {
     "name": "stdin",
     "output_type": "stream",
     "text": [
      " 9 atcoder\n",
      " atoder\n",
      " atcode\n",
      " athqcoder\n",
      " atcoder\n",
      " tacoder\n",
      " jttcoder\n",
      " atoder\n",
      " atceoder\n",
      " atcoer\n"
     ]
    },
    {
     "name": "stdout",
     "output_type": "stream",
     "text": [
      "5\n",
      "1 2 7 8 9\n"
     ]
    }
   ],
   "source": [
    "n, t = map(str, input().split())\n",
    "n = int(n)\n",
    "def check(s):\n",
    "    h = 0\n",
    "    ta = 0\n",
    "    length = min(len(t), len(s))\n",
    "    if len(s)>len(t)+1:\n",
    "        h=0\n",
    "        ta=0\n",
    "    else:\n",
    "        while h<length and s[h]==t[h]:\n",
    "            h+=1\n",
    "        \n",
    "        while abs(ta-1)<=length and s[-1+ta]==t[-1+ta]:\n",
    "            ta-=1\n",
    "    if len(s)>len(t):\n",
    "        if h+abs(ta)>=len(t):\n",
    "            ans = True\n",
    "        else:\n",
    "            ans = False\n",
    "    else:\n",
    "        if h+abs(ta)>=len(t)-1:\n",
    "            ans = True\n",
    "        else:\n",
    "            ans = False\n",
    "    return ans\n",
    "ans = []\n",
    "for i in range(n):\n",
    "    s = input()\n",
    "    res = check(s)\n",
    "    if res:\n",
    "        ans.append(i+1)\n",
    "print(len(ans))\n",
    "print(\" \".join(map(str, ans)))"
   ]
  },
  {
   "cell_type": "code",
   "execution_count": 84,
   "id": "20054945-d054-43bb-813f-d42e82ad562b",
   "metadata": {
    "tags": []
   },
   "outputs": [
    {
     "name": "stdout",
     "output_type": "stream",
     "text": [
      "k\n",
      "h\n",
      "d\n",
      "v\n",
      "r\n",
      "c\n",
      "v\n",
      "g\n",
      "h\n",
      "a\n"
     ]
    }
   ],
   "source": [
    "n = 10\n",
    "s = \"ahgvcrvdhk\"\n",
    "for i in range(n):\n",
    "    print(s[~i])"
   ]
  },
  {
   "cell_type": "code",
   "execution_count": 111,
   "id": "46a8f5cd-5f0f-406f-bc47-1e2689261303",
   "metadata": {
    "tags": []
   },
   "outputs": [
    {
     "name": "stdin",
     "output_type": "stream",
     "text": [
      " 4\n",
      " 4320\n"
     ]
    },
    {
     "name": "stdout",
     "output_type": "stream",
     "text": [
      "2\n"
     ]
    }
   ],
   "source": [
    "import itertools\n",
    "from collections import defaultdict, Counter\n",
    "n = int(input())\n",
    "s = list(str(input()))\n",
    "s.sort()\n",
    "# for i in range(len(s)):\n",
    "#     s[i] = int(s[i])\n",
    "\n",
    "ans = 0\n",
    "dic = defaultdict(lambda: 0)\n",
    "for i in range(3500000):\n",
    "    t = int(i**2)\n",
    "    t = str(t)\n",
    "    p = (n - len(t))*\"0\"\n",
    "    t +=p\n",
    "    t = list(t)\n",
    "    t.sort()\n",
    "    if t==s:\n",
    "        ans += 1\n",
    "# cand = list(itertools.permutations(s))\n",
    "# ans = 0\n",
    "# for i in range(len(cand)):\n",
    "#     d = \"\".join(map(str, cand[i]))\n",
    "#     d = int(d)\n",
    "#     e = int(d**0.5)\n",
    "#     if e**2==d:\n",
    "#         dic[d]=1\n",
    "print(ans)"
   ]
  },
  {
   "cell_type": "code",
   "execution_count": 109,
   "id": "d4a932b6-2eba-47b6-b532-65defc2cdf02",
   "metadata": {
    "tags": []
   },
   "outputs": [
    {
     "data": {
      "text/plain": [
       "[]"
      ]
     },
     "execution_count": 109,
     "metadata": {},
     "output_type": "execute_result"
    }
   ],
   "source": [
    "t"
   ]
  },
  {
   "cell_type": "code",
   "execution_count": 106,
   "id": "dac3a9c3-d5ef-4d85-b6b4-120242d57014",
   "metadata": {
    "tags": []
   },
   "outputs": [
    {
     "data": {
      "text/plain": [
       "['0', '0', '0', '0', '0', '1', '1', '2', '2', '3', '4', '9', '9', '9']"
      ]
     },
     "execution_count": 106,
     "metadata": {},
     "output_type": "execute_result"
    }
   ],
   "source": [
    "s = list(s)\n",
    "s.sort()\n",
    "s"
   ]
  },
  {
   "cell_type": "code",
   "execution_count": null,
   "id": "7f82d5be-e929-40cf-bbdf-969c60d2739c",
   "metadata": {},
   "outputs": [],
   "source": []
  },
  {
   "cell_type": "code",
   "execution_count": null,
   "id": "4a3f5b74-e2da-460f-bf2d-502b9477e522",
   "metadata": {},
   "outputs": [],
   "source": []
  },
  {
   "cell_type": "code",
   "execution_count": 56,
   "id": "33e24262-1134-41ca-8ba4-c497971d92d2",
   "metadata": {
    "tags": []
   },
   "outputs": [
    {
     "name": "stdin",
     "output_type": "stream",
     "text": [
      " 5 ababc\n",
      " ababc\n",
      " babc\n",
      " abacbc\n",
      " abdbc\n",
      " abbac\n"
     ]
    },
    {
     "name": "stdout",
     "output_type": "stream",
     "text": [
      "4\n",
      "1 2 3 4\n"
     ]
    }
   ],
   "source": [
    "n, t = map(str, input().split())\n",
    "n = int(n)\n",
    "\n",
    "def generate_variations(s):\n",
    "    variations = set()\n",
    "\n",
    "    # 置換\n",
    "    for i in range(len(s)):\n",
    "        for j in range(ord(\"a\"), ord(\"z\") + 1):\n",
    "            variations.add(s[:i] + chr(j) + s[i+1:])\n",
    "\n",
    "    # 挿入\n",
    "    for i in range(len(s) + 1):\n",
    "        for j in range(ord(\"a\"), ord(\"z\") + 1):\n",
    "            variations.add(s[:i] + chr(j) + s[i:])\n",
    "\n",
    "    # 削除\n",
    "    for i in range(len(s)):\n",
    "        variations.add(s[:i] + s[i+1:])\n",
    "\n",
    "    return variations\n",
    "d = generate_variations(t)\n",
    "ans = []\n",
    "for i in range(n):\n",
    "    s = input()\n",
    "    if s in d:\n",
    "        ans.append(i + 1)\n",
    "\n",
    "print(len(ans))\n",
    "print(\" \".join(map(str, ans)))"
   ]
  },
  {
   "cell_type": "code",
   "execution_count": 15,
   "id": "adc2563a-9964-4220-9be8-b939b6044c0f",
   "metadata": {
    "tags": []
   },
   "outputs": [
    {
     "data": {
      "text/plain": [
       "['a', 's', 'a', 'b', 'a']"
      ]
     },
     "execution_count": 15,
     "metadata": {},
     "output_type": "execute_result"
    }
   ],
   "source": [
    "a, b, c, d = map(int, input().split())\n",
    "ans = max(a*c, a*d, b*c, b*d)\n",
    "print(ans)"
   ]
  },
  {
   "cell_type": "code",
   "execution_count": 37,
   "id": "0b0090cd-25f1-44b7-a654-444368bcaf58",
   "metadata": {
    "tags": []
   },
   "outputs": [
    {
     "name": "stdout",
     "output_type": "stream",
     "text": [
      "(2, 3, 4)\n",
      "(2, 4, 3)\n",
      "(3, 2, 4)\n",
      "(3, 4, 2)\n",
      "(4, 2, 3)\n",
      "(4, 3, 2)\n"
     ]
    }
   ],
   "source": [
    "import itertools\n",
    "c = [2, 3, 4]\n",
    "d = list(itertools.permutations(c))\n",
    "for i in range(len(d)):\n",
    "    print(d[i])"
   ]
  },
  {
   "cell_type": "code",
   "execution_count": 7,
   "id": "34f1da18-4ef0-447d-b75d-b120867815c6",
   "metadata": {},
   "outputs": [
    {
     "name": "stdin",
     "output_type": "stream",
     "text": [
      " 869121\n"
     ]
    },
    {
     "name": "stdout",
     "output_type": "stream",
     "text": [
      "2511445\n"
     ]
    }
   ],
   "source": [
    "n = int(input())\n",
    "mod = int(1e9+7)\n",
    "U = 1\n",
    "wa = 1\n",
    "_A = 1\n",
    "for i in range(n):\n",
    "    U = U*10%mod\n",
    "    wa = wa*8%mod\n",
    "    _A = _A*9%mod\n",
    "ans = (U-2*_A+wa)%mod\n",
    "print(ans)\n"
   ]
  },
  {
   "cell_type": "code",
   "execution_count": 1,
   "id": "3ff58411-64f1-4263-86eb-9247a8403c91",
   "metadata": {
    "tags": []
   },
   "outputs": [
    {
     "name": "stdin",
     "output_type": "stream",
     "text": [
      " 20\n"
     ]
    },
    {
     "name": "stdout",
     "output_type": "stream",
     "text": [
      "406\n"
     ]
    },
    {
     "data": {
      "text/plain": [
       "20"
      ]
     },
     "execution_count": 1,
     "metadata": {},
     "output_type": "execute_result"
    }
   ],
   "source": [
    "# 178 D\n",
    "S = int(input())\n",
    "MOD = 10**9+7\n",
    "\n",
    "\n",
    "dp = [0] * (S+1)\n",
    "dp[0] = 1\n",
    "\n",
    "for i in range(S+1):\n",
    "    for j in range(i-2):\n",
    "        dp[i] += dp[j]\n",
    "        dp[i] %= MOD\n",
    "\n",
    "print(dp[S])\n",
    "20\n"
   ]
  },
  {
   "cell_type": "code",
   "execution_count": 2,
   "id": "3888bbaf-60be-4bc0-b0d7-026e574c5d18",
   "metadata": {
    "tags": []
   },
   "outputs": [
    {
     "data": {
      "text/plain": [
       "[1, 0, 0, 1, 1, 1, 2, 3, 4, 6, 9, 13, 19, 28, 41, 60, 88, 129, 189, 277, 406]"
      ]
     },
     "execution_count": 2,
     "metadata": {},
     "output_type": "execute_result"
    }
   ],
   "source": [
    "dp"
   ]
  },
  {
   "cell_type": "code",
   "execution_count": 5,
   "id": "8f898565-37d3-43ea-bc84-f1378b02f68a",
   "metadata": {
    "tags": []
   },
   "outputs": [
    {
     "name": "stdin",
     "output_type": "stream",
     "text": [
      " 3\n",
      " 1 1\n",
      " 2 4\n",
      " 3 2\n"
     ]
    },
    {
     "name": "stdout",
     "output_type": "stream",
     "text": [
      "4\n"
     ]
    }
   ],
   "source": [
    "n = int(input())\n",
    "zmax, wmax = -int(1e9), -int(1e9)\n",
    "zmin, wmin = int(1e10), int(1e10)\n",
    "\n",
    "for i in range(n):\n",
    "  x, y = map(int, input().split())\n",
    "  z = x+y\n",
    "  w = x-y\n",
    "  zmax = max(zmax, z)\n",
    "  zmin = min(zmin, z)\n",
    "  wmax = max(wmax, w)\n",
    "  wmin = min(wmin, w)\n",
    "  \n",
    "ans = max(zmax-zmin, wmax-wmin)\n",
    "print(ans)"
   ]
  },
  {
   "cell_type": "code",
   "execution_count": 12,
   "id": "f42df2fa-a1ee-400b-b195-7010705376d4",
   "metadata": {},
   "outputs": [
    {
     "name": "stdin",
     "output_type": "stream",
     "text": [
      " 5\n",
      " 1 2\n",
      " 6 6\n",
      " 4 4\n",
      " 3 3\n",
      " 3 2\n"
     ]
    },
    {
     "name": "stdout",
     "output_type": "stream",
     "text": [
      "Yes\n"
     ]
    }
   ],
   "source": [
    "n = int(input())\n",
    "count = 0\n",
    "score = 0\n",
    "for i in range(n):\n",
    "  d1, d2 = map(int, input().split())\n",
    "  if d1==d2:\n",
    "    count+=1\n",
    "  else:\n",
    "    count=0\n",
    "  score = max(score, count)\n",
    "if score>=3:\n",
    "  print(\"Yes\")\n",
    "else:\n",
    "  print(\"No\")"
   ]
  },
  {
   "cell_type": "code",
   "execution_count": 17,
   "id": "e1a96bcc-f5f0-4479-b1f3-493743647f8f",
   "metadata": {
    "tags": []
   },
   "outputs": [
    {
     "name": "stdin",
     "output_type": "stream",
     "text": [
      " 1000000\n"
     ]
    },
    {
     "name": "stdout",
     "output_type": "stream",
     "text": [
      "13969985\n"
     ]
    }
   ],
   "source": [
    "# 179 D DP問題、　目的地に行く移動の組み合わせの数\n",
    "import sys\n",
    "input = sys.stdin.readline\n",
    "def ip():return int(input())\n",
    "def mp():return map(int, input().split())\n",
    "def lmp():return list(map(int, input().split()))\n",
    "# ABC179 D 1251 - Leaping Tak\n",
    "# 一列に並んだ N マスから成るマス目があり、マスには左から順番に 1,2,…,N の番号がついています。\n",
    "# このマス目で暮らしている高橋君は、現在マス 1 にいて、後述の方法で移動を繰り返してマス N へ行こうとしています。\n",
    "# 10 以下の整数 K と、共通部分を持たない K 個の区間 [L1,R1],[L2,R2],…,[LK,RK] が与えられ、これらの区間の和集合を S とします。\n",
    "# ただし、区間 [l,r] は l 以上 r 以下の整数の集合を表します。\n",
    "# ・マス i にいるとき、S から整数を 1 つ選んで (d とする)、マス i+d に移動する。ただし、マス目の外に出るような移動を行ってはならない。\n",
    "# 高橋君のために、マス N に行く方法の個数を 998244353 で割った余りを求めてください。\n",
    "# ・2 ≤ N ≤ 2×10^5\n",
    "# ・1 ≤ K ≤ min(N,10)\n",
    "N, K = mp()\n",
    "LR = [lmp() for _ in range(K)]\n",
    "MOD = 998244353\n",
    "dp = [0] * (N+1)\n",
    "# dp[i]: マス i に移動する方法の個数\n",
    "dp[1] = 1\n",
    "for i in range(1, N):\n",
    "    dp[i] += dp[i-1]\n",
    "    dp[i] %= MOD\n",
    "    for l, r in LR:\n",
    "        if i+l <= N:\n",
    "            dp[i+l] += dp[i]\n",
    "            dp[i+l] %= MOD\n",
    "        if i+r+1 <= N:\n",
    "            dp[i+r+1] -= dp[i]\n",
    "            dp[i+r+1] %= MOD\n",
    "print(dp[N] % MOD)"
   ]
  },
  {
   "cell_type": "code",
   "execution_count": 20,
   "id": "371106f5-586f-4b55-b8c1-71098a459fa2",
   "metadata": {},
   "outputs": [
    {
     "name": "stdin",
     "output_type": "stream",
     "text": [
      " 5000 3 17\n"
     ]
    },
    {
     "name": "stdout",
     "output_type": "stream",
     "text": [
      "42\n"
     ]
    }
   ],
   "source": [
    "N,X,mod = map(int,input().split())\n",
    "\n",
    "tmp = X\n",
    "dict = {}\n",
    "tmpans = []\n",
    "\n",
    "for i in range(N):\n",
    "    if tmp in dict:\n",
    "        tmp1 = sum(tmpans[:dict[tmp]])\n",
    "        tmp2 = sum(tmpans[dict[tmp]:i])\n",
    "        cnt = dict[tmp]+1\n",
    "        nokori = N-cnt\n",
    "        katamari = nokori//len(tmpans[dict[tmp]:i])\n",
    "        amari = nokori%len(tmpans[dict[tmp]:i])\n",
    "        tmp3 = sum(tmpans[dict[tmp]:dict[tmp]+amari+1])\n",
    "        print(tmp1 + tmp2*katamari + tmp3)\n",
    "        exit()\n",
    "    else:\n",
    "        tmpans.append(tmp)\n",
    "        dict[tmp] = i"
   ]
  },
  {
   "cell_type": "code",
   "execution_count": 2,
   "id": "0316c968-1235-42ac-831e-f7b5cea6fa91",
   "metadata": {
    "jp-MarkdownHeadingCollapsed": true,
    "tags": []
   },
   "outputs": [
    {
     "name": "stdin",
     "output_type": "stream",
     "text": [
      " K Eyence\n"
     ]
    },
    {
     "name": "stdout",
     "output_type": "stream",
     "text": [
      "K san\n"
     ]
    }
   ],
   "source": [
    "s, t = map(str, input().split())\n",
    "\n",
    "ans = s + \" \" + \"san\"\n",
    "print(ans)"
   ]
  },
  {
   "cell_type": "code",
   "execution_count": 60,
   "id": "42a03d7a-fdf8-40b1-a6ec-b74d1d29c970",
   "metadata": {
    "tags": []
   },
   "outputs": [
    {
     "name": "stdin",
     "output_type": "stream",
     "text": [
      " 5 47\n",
      " .#..#..#####..#...#..#####..#...#...###...#####\n",
      " .#.#...#.......#.#...#......##..#..#...#..#....\n",
      " .##....#####....#....#####..#.#.#..#......#####\n",
      " .#.#...#........#....#......#..##..#...#..#....\n",
      " .#..#..#####....#....#####..#...#...###...#####\n"
     ]
    },
    {
     "name": "stdout",
     "output_type": "stream",
     "text": [
      "7\n"
     ]
    }
   ],
   "source": [
    "# 325 C タプルunionfind\n",
    "from collections import deque\n",
    "import copy\n",
    "h, w = map(int, input().split())\n",
    "S = [ list(input()) for _ in range(h)]\n",
    "cand = []\n",
    "que = []\n",
    "dic1 = {}\n",
    "for i in range(h):\n",
    "    for j in range(w):\n",
    "        if S[i][j]==\"#\":\n",
    "            d = int(str(i)+str(j))\n",
    "            que.append((i, j))\n",
    "            cand.append(d)\n",
    "            dic1[(i, j)]=0\n",
    "            \n",
    "class unionfind:\n",
    "    def __init__(self, n, m):\n",
    "        self.n = n\n",
    "        self.m = m\n",
    "        self.par = [ [-1] *(m+1) for _ in range(n+1) ]\n",
    "        self.size = [ [1] * (m+1) for _ in range(n+1) ]\n",
    "        \n",
    "    def root(self, x, y):\n",
    "        while self.par[x][y] != -1:\n",
    "            x, y = self.par[x][y]\n",
    "        return (x, y)\n",
    "    \n",
    "    def unite(self, s, t, u, v):\n",
    "        r1, r2 = self.root(s, t)\n",
    "        q1, q2 = self.root(u, v)\n",
    "        if (r1, r2) != (q1, q2):\n",
    "            if self.size[r1][r2] < self.size[q1][q2]:\n",
    "                self.par[r1][r2] = (q1, q2)\n",
    "                self.size[q1][q2] += self.size[r1][r2]\n",
    "            else:\n",
    "                self.par[q1][q2] = (r1, r2)\n",
    "                self.size[r1][r2] += self.size[q1][q2]\n",
    "\n",
    "# def to_int(x, y):\n",
    "#     return int(str(x)+str(y))\n",
    "\n",
    "n = int(1e7)\n",
    "uf = unionfind(h, w)\n",
    "\n",
    "for x, y in que:\n",
    "    for i in range(-1, 2):\n",
    "        for j in range(-1, 2):\n",
    "            if x+i>=0 and y+j>=0:\n",
    "                if (x+i, y+j) in dic1:\n",
    "                    uf.unite(x, y, x+i, y+j)\n",
    "ans = {}\n",
    "for x, y in que:\n",
    "    f, g = uf.root(x, y)\n",
    "    ans[(f, g)]=0       \n",
    "print(len(ans))\n",
    "                    \n"
   ]
  },
  {
   "cell_type": "code",
   "execution_count": 62,
   "id": "3868c1eb-e950-4744-beec-f4fae0bcd774",
   "metadata": {},
   "outputs": [
    {
     "name": "stdin",
     "output_type": "stream",
     "text": [
      " 4\n",
      " 20000000000 20000000000\n",
      " 5000000000000 5000000000000\n",
      " 300000000000000 300000000000000\n",
      " 50000000000000000 50000000000000000\n"
     ]
    },
    {
     "name": "stdout",
     "output_type": "stream",
     "text": [
      "4\n"
     ]
    }
   ],
   "source": [
    "from collections import deque\n",
    "import heapq\n",
    "n = int(input())\n",
    "items = []\n",
    "limit = 0\n",
    "kaishi = int(1e19)\n",
    "for i in range(n):\n",
    "    t,d = map(int, input().split())\n",
    "    items.append((t, t+d))\n",
    "    limit = max(limit, t+d)\n",
    "    kaishi = min(kaishi, t)\n",
    "items.sort(key= lambda x: x[0])\n",
    "que = []\n",
    "ans = 0\n",
    "p = 0\n",
    "i = kaishi\n",
    "while i<=limit and ans!=n:\n",
    "    while len(items)>p and items[p][0]==i:\n",
    "        heapq.heappush(que, items[p][1])\n",
    "        p+=1\n",
    "    if que:\n",
    "        a = heapq.heappop(que)\n",
    "        ans+=1\n",
    "        if ans==n:\n",
    "            break\n",
    "            # print(ans)\n",
    "            # exit()\n",
    "    if len(que)==0:\n",
    "        if p<len(items):\n",
    "            i = items[p][0]\n",
    "        else:\n",
    "            break\n",
    "        continue\n",
    "    while len(que)>0 and que[0]==i:\n",
    "        heapq.heappop(que)\n",
    "    i+=1\n",
    "print(ans)"
   ]
  },
  {
   "cell_type": "code",
   "execution_count": 2,
   "id": "4def2121-a1a6-4fff-8fdb-c03e2fa36a62",
   "metadata": {
    "tags": []
   },
   "outputs": [
    {
     "name": "stdin",
     "output_type": "stream",
     "text": [
      " 8 1000000000 1000000000\n",
      " bcdfcgaa\n"
     ]
    },
    {
     "name": "stdout",
     "output_type": "stream",
     "text": [
      "4000000000\n"
     ]
    }
   ],
   "source": [
    "n, a, b = map(int, input().split())\n",
    "s = input()\n",
    "s += s\n",
    "ans = 1<<60\n",
    "for i in range(n):\n",
    "    tmp = a*i\n",
    "    for j in range(n//2):\n",
    "        if s[i+j]!=s[n+i-1-j]:\n",
    "            tmp +=b\n",
    "    ans = min(ans, tmp)\n",
    "print(ans)"
   ]
  },
  {
   "cell_type": "code",
   "execution_count": 31,
   "id": "a21a9836-5b8e-4b8b-98d7-81c014d775d0",
   "metadata": {
    "jp-MarkdownHeadingCollapsed": true,
    "tags": []
   },
   "outputs": [
    {
     "data": {
      "text/plain": [
       "2"
      ]
     },
     "execution_count": 31,
     "metadata": {},
     "output_type": "execute_result"
    }
   ],
   "source": [
    "ans"
   ]
  },
  {
   "cell_type": "code",
   "execution_count": 2,
   "id": "3604a9e8-9efa-49af-a009-66391dea01fe",
   "metadata": {
    "tags": []
   },
   "outputs": [
    {
     "data": {
      "text/plain": [
       "0"
      ]
     },
     "execution_count": 2,
     "metadata": {},
     "output_type": "execute_result"
    }
   ],
   "source": [
    "len(que)"
   ]
  },
  {
   "cell_type": "code",
   "execution_count": 4,
   "id": "2073207a-a8ca-4b1e-b638-c67de453c2d2",
   "metadata": {},
   "outputs": [
    {
     "name": "stdin",
     "output_type": "stream",
     "text": [
      " 2\n",
      " 2 -1\n"
     ]
    },
    {
     "name": "stdout",
     "output_type": "stream",
     "text": [
      "3\n",
      "2.23606797749979\n",
      "2\n"
     ]
    }
   ],
   "source": [
    "n = int(input())\n",
    "X = list(map(int, input().split()))\n",
    "m = 0\n",
    "u = 0\n",
    "c = 0\n",
    "for i in range(n):\n",
    "    m += abs(X[i])\n",
    "    u += (X[i])**2\n",
    "    c = max(abs(X[i]), c)\n",
    "u = u**(1/2)\n",
    "print(m)\n",
    "print(u)\n",
    "print(c)\n"
   ]
  },
  {
   "cell_type": "code",
   "execution_count": 19,
   "id": "495998be-322a-4d04-97fb-0c22969e41df",
   "metadata": {
    "tags": []
   },
   "outputs": [
    {
     "name": "stdin",
     "output_type": "stream",
     "text": [
      " 1000000007\n"
     ]
    },
    {
     "name": "stdout",
     "output_type": "stream",
     "text": [
      "1\n",
      "1000000007\n"
     ]
    }
   ],
   "source": [
    "# 180 C 約数\n",
    "N = int(input())\n",
    "\n",
    "def divisors(n):\n",
    "    lower_divisors, upper_divisors = [], []\n",
    "    i = 1\n",
    "    while i*i <= n:\n",
    "        if n % i == 0:\n",
    "            lower_divisors.append(i)\n",
    "            if i != n//i:\n",
    "                upper_divisors.append(n//i)\n",
    "        i += 1\n",
    "    return lower_divisors + upper_divisors[::-1]\n",
    "  \n",
    "for i in divisors(N):\n",
    "    print(i)\n",
    "# print(*factorize(n))"
   ]
  },
  {
   "cell_type": "code",
   "execution_count": 26,
   "id": "74ff7e02-9140-46e8-8532-3b1de8560c87",
   "metadata": {
    "tags": []
   },
   "outputs": [
    {
     "name": "stdin",
     "output_type": "stream",
     "text": [
      " 4 20 2 10\n"
     ]
    },
    {
     "name": "stdout",
     "output_type": "stream",
     "text": [
      "2\n"
     ]
    }
   ],
   "source": [
    "x, y, a, b = map(int, input().split())\n",
    "ans = 0\n",
    "while (x*a-x)<=b and x<y:\n",
    "    x *=a\n",
    "    ans +=1\n",
    "if x<y:\n",
    "    ans = ans + (y-x-1)//b\n",
    "if x>=y:\n",
    "    ans -=1\n",
    "print(ans)"
   ]
  },
  {
   "cell_type": "code",
   "execution_count": 12,
   "id": "18601d74-d9c0-4a43-a554-c8549e15da1b",
   "metadata": {},
   "outputs": [
    {
     "name": "stdin",
     "output_type": "stream",
     "text": [
      " 9\n",
      " 8 2\n",
      " 2 3\n",
      " 1 3\n",
      " 3 7\n",
      " 1 0\n",
      " 8 8\n",
      " 5 6\n",
      " 9 7\n",
      " 0 1\n"
     ]
    },
    {
     "name": "stdout",
     "output_type": "stream",
     "text": [
      "Yes\n"
     ]
    }
   ],
   "source": [
    "n = int(input())\n",
    "xy = []\n",
    "for i in range(n):\n",
    "    x, y = map(int, input().split())\n",
    "    xy.append((x, y))\n",
    "ans = \"No\"\n",
    "for i in range(n):\n",
    "    x1, y1 = xy[i]\n",
    "    for j in range(n):\n",
    "        if i!=j:\n",
    "            x2, y2 = xy[j]\n",
    "            if x2!=x1 and y2!=y1:\n",
    "                a = (y2-y1)/(x2-x1)\n",
    "                b = y1-a*x1\n",
    "                for k in range(n):\n",
    "                    if i!=k and j!=k:\n",
    "                        x3, y3 = xy[k]\n",
    "                        if a*x3+b==y3:\n",
    "                            ans = \"Yes\"\n",
    "                            break\n",
    "            elif x1==x2:\n",
    "                X = x1\n",
    "                for k in range(n):\n",
    "                    if i!=k and j!=k:\n",
    "                        x3, _ = xy[k]\n",
    "                        if X==x3:\n",
    "                            ans = \"Yes\"\n",
    "                            break\n",
    "            elif y1==y2:\n",
    "                Y = y1\n",
    "                for k in range(n):\n",
    "                    if i!=k and j!=k:\n",
    "                        _, y3 = xy[k]\n",
    "                        if Y==y3:\n",
    "                            ans = \"Yes\"\n",
    "                            break\n",
    "print(ans)"
   ]
  },
  {
   "cell_type": "code",
   "execution_count": 43,
   "id": "bb11589c-4ca9-4652-8778-53f5cb591b9f",
   "metadata": {},
   "outputs": [
    {
     "name": "stdin",
     "output_type": "stream",
     "text": [
      " 34\n"
     ]
    },
    {
     "name": "stdout",
     "output_type": "stream",
     "text": [
      "No\n"
     ]
    }
   ],
   "source": [
    "from collections import Counter\n",
    "s = input()\n",
    "s_count = Counter(s)\n",
    "\n",
    "# c = []\n",
    "# for i in range(len(s)):\n",
    "#     c.append(s[i])\n",
    "ans = \"No\"\n",
    "if len(s)>=3:\n",
    "    for i in range(112, 1000, 8):\n",
    "        i = str(i)\n",
    "        cand = Counter(i)\n",
    "        flag = True\n",
    "        for key in cand.keys():\n",
    "            if key==0:\n",
    "                flag = False\n",
    "            if cand[key]>s_count[key]:\n",
    "                flag = False\n",
    "        if flag:\n",
    "            ans = \"Yes\"\n",
    "            break\n",
    "        \n",
    "elif len(s)==1:\n",
    "    if s==\"8\":\n",
    "        ans = \"Yes\"\n",
    "elif len(s)==2:\n",
    "    a = s[0]+s[1]\n",
    "    a = int(a)\n",
    "    b = s[1]+s[0]\n",
    "    b = int(b)\n",
    "    if a%8==0 or b%8==0:\n",
    "        ans=\"Yes\"\n",
    "print(ans)"
   ]
  },
  {
   "cell_type": "code",
   "execution_count": 41,
   "id": "e3ccb5aa-252b-4a7f-a8a9-2a283c05bcab",
   "metadata": {
    "tags": []
   },
   "outputs": [
    {
     "data": {
      "text/plain": [
       "'66'"
      ]
     },
     "execution_count": 41,
     "metadata": {},
     "output_type": "execute_result"
    }
   ],
   "source": [
    "n, m = map(int, input().split())\n",
    "H = list(map(int, input().split()))\n",
    "W = list(map(int, input().split()))\n",
    "\n",
    "import bisect\n",
    "H.sort()\n",
    "W.sort()\n",
    "left = []\n",
    "right = []\n",
    "for i in range(n-1):\n",
    "    if i%2==0:\n",
    "        left.append(H[i+1]-H[i])\n",
    "    else:\n",
    "        right.append(H[i+1]-H[i])\n",
    "for i in range(m):\n",
    "    w = W[i]\n",
    "    idx = bisect.bisect_left(H, w)\n",
    "    kugiri = idx//2\n",
    "    if n>kugiri>=1:\n",
    "        if idx%2==0:\n",
    "            tmp = sum(left[:kugiri])+H[idx]-w+sum(right[kugiri+1:])\n",
    "        else:\n",
    "            tmp = sum(left[:kugiri])+w-H[idx-1]+sum(right[kugiri+1:])\n",
    "    elif"
   ]
  },
  {
   "cell_type": "code",
   "execution_count": 46,
   "id": "e406525d-5327-4bbb-a892-f707d3fa4377",
   "metadata": {
    "tags": []
   },
   "outputs": [
    {
     "name": "stdin",
     "output_type": "stream",
     "text": [
      " 100 1\n"
     ]
    },
    {
     "name": "stdout",
     "output_type": "stream",
     "text": [
      "No\n"
     ]
    }
   ],
   "source": [
    "x, y = map(int, input().split())\n",
    "\n",
    "a = x-y\n",
    "if a>3 or a<-2:\n",
    "    print(\"No\")\n",
    "else:\n",
    "    print(\"Yes\")"
   ]
  },
  {
   "cell_type": "code",
   "execution_count": 50,
   "id": "f732710c-c224-4018-b4a2-db974f1dc141",
   "metadata": {
    "tags": []
   },
   "outputs": [
    {
     "name": "stdin",
     "output_type": "stream",
     "text": [
      " 526\n"
     ]
    },
    {
     "name": "stdout",
     "output_type": "stream",
     "text": [
      "600\n"
     ]
    }
   ],
   "source": [
    "n = int(input())\n",
    "for i in range(n, 1000):\n",
    "    s = str(i)\n",
    "    a, b, c = int(s[0]), int(s[1]), int(s[2])\n",
    "    if a*b==c:\n",
    "        print(i)\n",
    "        break"
   ]
  },
  {
   "cell_type": "code",
   "execution_count": 46,
   "id": "3b95c66a-501d-49fb-b3db-50a886119855",
   "metadata": {
    "tags": []
   },
   "outputs": [
    {
     "name": "stdin",
     "output_type": "stream",
     "text": [
      " 5\n",
      " ABCBC\n",
      " ACAAB\n"
     ]
    },
    {
     "name": "stdout",
     "output_type": "stream",
     "text": [
      "Yes\n",
      "AC..B\n",
      ".BA.C\n",
      "C.BA.\n",
      "BA.C.\n",
      "..CBA\n",
      "No\n"
     ]
    }
   ],
   "source": [
    "from itertools import permutations, product\n",
    "\n",
    "N = int(input())\n",
    "R_input = input()\n",
    "C_input = input()\n",
    "\n",
    "\n",
    "def head(s):\n",
    "    for c in s:\n",
    "        if c != \".\":\n",
    "            return c\n",
    "\n",
    "\n",
    "for A, B, C in product(permutations(range(N)), repeat=3):\n",
    "    if any(a == b or b == c or a == c for a, b, c in zip(A, B, C)):\n",
    "        continue\n",
    "    S = [[\".\"] * N for _ in range(N)]\n",
    "    for i, j in enumerate(A):\n",
    "        S[i][j] = \"A\"\n",
    "    for i, j in enumerate(B):\n",
    "        S[i][j] = \"B\"\n",
    "    for i, j in enumerate(C):\n",
    "        S[i][j] = \"C\"\n",
    "\n",
    "    if \"\".join(map(head, S)) == R_input and \"\".join(map(head, zip(*S))) == C_input:\n",
    "        print(\"Yes\")\n",
    "        print(*map(lambda s: \"\".join(s), S), sep=\"\\n\")\n",
    "        exit()\n",
    "print(\"No\")\n",
    "                            "
   ]
  },
  {
   "cell_type": "code",
   "execution_count": 5,
   "id": "d0ed1206-cf81-4daf-ba74-1f5117f264b9",
   "metadata": {
    "tags": []
   },
   "outputs": [
    {
     "name": "stdout",
     "output_type": "stream",
     "text": [
      "((0, 1, 2), (0, 1, 2), (0, 1, 2))\n",
      "((0, 1, 2), (0, 1, 2), (0, 2, 1))\n",
      "((0, 1, 2), (0, 1, 2), (1, 0, 2))\n",
      "((0, 1, 2), (0, 1, 2), (1, 2, 0))\n",
      "((0, 1, 2), (0, 1, 2), (2, 0, 1))\n",
      "((0, 1, 2), (0, 1, 2), (2, 1, 0))\n",
      "((0, 1, 2), (0, 2, 1), (0, 1, 2))\n",
      "((0, 1, 2), (0, 2, 1), (0, 2, 1))\n",
      "((0, 1, 2), (0, 2, 1), (1, 0, 2))\n",
      "((0, 1, 2), (0, 2, 1), (1, 2, 0))\n",
      "((0, 1, 2), (0, 2, 1), (2, 0, 1))\n",
      "((0, 1, 2), (0, 2, 1), (2, 1, 0))\n",
      "((0, 1, 2), (1, 0, 2), (0, 1, 2))\n",
      "((0, 1, 2), (1, 0, 2), (0, 2, 1))\n",
      "((0, 1, 2), (1, 0, 2), (1, 0, 2))\n",
      "((0, 1, 2), (1, 0, 2), (1, 2, 0))\n",
      "((0, 1, 2), (1, 0, 2), (2, 0, 1))\n",
      "((0, 1, 2), (1, 0, 2), (2, 1, 0))\n",
      "((0, 1, 2), (1, 2, 0), (0, 1, 2))\n",
      "((0, 1, 2), (1, 2, 0), (0, 2, 1))\n",
      "((0, 1, 2), (1, 2, 0), (1, 0, 2))\n",
      "((0, 1, 2), (1, 2, 0), (1, 2, 0))\n",
      "((0, 1, 2), (1, 2, 0), (2, 0, 1))\n",
      "((0, 1, 2), (1, 2, 0), (2, 1, 0))\n",
      "((0, 1, 2), (2, 0, 1), (0, 1, 2))\n",
      "((0, 1, 2), (2, 0, 1), (0, 2, 1))\n",
      "((0, 1, 2), (2, 0, 1), (1, 0, 2))\n",
      "((0, 1, 2), (2, 0, 1), (1, 2, 0))\n",
      "((0, 1, 2), (2, 0, 1), (2, 0, 1))\n",
      "((0, 1, 2), (2, 0, 1), (2, 1, 0))\n",
      "((0, 1, 2), (2, 1, 0), (0, 1, 2))\n",
      "((0, 1, 2), (2, 1, 0), (0, 2, 1))\n",
      "((0, 1, 2), (2, 1, 0), (1, 0, 2))\n",
      "((0, 1, 2), (2, 1, 0), (1, 2, 0))\n",
      "((0, 1, 2), (2, 1, 0), (2, 0, 1))\n",
      "((0, 1, 2), (2, 1, 0), (2, 1, 0))\n",
      "((0, 2, 1), (0, 1, 2), (0, 1, 2))\n",
      "((0, 2, 1), (0, 1, 2), (0, 2, 1))\n",
      "((0, 2, 1), (0, 1, 2), (1, 0, 2))\n",
      "((0, 2, 1), (0, 1, 2), (1, 2, 0))\n",
      "((0, 2, 1), (0, 1, 2), (2, 0, 1))\n",
      "((0, 2, 1), (0, 1, 2), (2, 1, 0))\n",
      "((0, 2, 1), (0, 2, 1), (0, 1, 2))\n",
      "((0, 2, 1), (0, 2, 1), (0, 2, 1))\n",
      "((0, 2, 1), (0, 2, 1), (1, 0, 2))\n",
      "((0, 2, 1), (0, 2, 1), (1, 2, 0))\n",
      "((0, 2, 1), (0, 2, 1), (2, 0, 1))\n",
      "((0, 2, 1), (0, 2, 1), (2, 1, 0))\n",
      "((0, 2, 1), (1, 0, 2), (0, 1, 2))\n",
      "((0, 2, 1), (1, 0, 2), (0, 2, 1))\n",
      "((0, 2, 1), (1, 0, 2), (1, 0, 2))\n",
      "((0, 2, 1), (1, 0, 2), (1, 2, 0))\n",
      "((0, 2, 1), (1, 0, 2), (2, 0, 1))\n",
      "((0, 2, 1), (1, 0, 2), (2, 1, 0))\n",
      "((0, 2, 1), (1, 2, 0), (0, 1, 2))\n",
      "((0, 2, 1), (1, 2, 0), (0, 2, 1))\n",
      "((0, 2, 1), (1, 2, 0), (1, 0, 2))\n",
      "((0, 2, 1), (1, 2, 0), (1, 2, 0))\n",
      "((0, 2, 1), (1, 2, 0), (2, 0, 1))\n",
      "((0, 2, 1), (1, 2, 0), (2, 1, 0))\n",
      "((0, 2, 1), (2, 0, 1), (0, 1, 2))\n",
      "((0, 2, 1), (2, 0, 1), (0, 2, 1))\n",
      "((0, 2, 1), (2, 0, 1), (1, 0, 2))\n",
      "((0, 2, 1), (2, 0, 1), (1, 2, 0))\n",
      "((0, 2, 1), (2, 0, 1), (2, 0, 1))\n",
      "((0, 2, 1), (2, 0, 1), (2, 1, 0))\n",
      "((0, 2, 1), (2, 1, 0), (0, 1, 2))\n",
      "((0, 2, 1), (2, 1, 0), (0, 2, 1))\n",
      "((0, 2, 1), (2, 1, 0), (1, 0, 2))\n",
      "((0, 2, 1), (2, 1, 0), (1, 2, 0))\n",
      "((0, 2, 1), (2, 1, 0), (2, 0, 1))\n",
      "((0, 2, 1), (2, 1, 0), (2, 1, 0))\n",
      "((1, 0, 2), (0, 1, 2), (0, 1, 2))\n",
      "((1, 0, 2), (0, 1, 2), (0, 2, 1))\n",
      "((1, 0, 2), (0, 1, 2), (1, 0, 2))\n",
      "((1, 0, 2), (0, 1, 2), (1, 2, 0))\n",
      "((1, 0, 2), (0, 1, 2), (2, 0, 1))\n",
      "((1, 0, 2), (0, 1, 2), (2, 1, 0))\n",
      "((1, 0, 2), (0, 2, 1), (0, 1, 2))\n",
      "((1, 0, 2), (0, 2, 1), (0, 2, 1))\n",
      "((1, 0, 2), (0, 2, 1), (1, 0, 2))\n",
      "((1, 0, 2), (0, 2, 1), (1, 2, 0))\n",
      "((1, 0, 2), (0, 2, 1), (2, 0, 1))\n",
      "((1, 0, 2), (0, 2, 1), (2, 1, 0))\n",
      "((1, 0, 2), (1, 0, 2), (0, 1, 2))\n",
      "((1, 0, 2), (1, 0, 2), (0, 2, 1))\n",
      "((1, 0, 2), (1, 0, 2), (1, 0, 2))\n",
      "((1, 0, 2), (1, 0, 2), (1, 2, 0))\n",
      "((1, 0, 2), (1, 0, 2), (2, 0, 1))\n",
      "((1, 0, 2), (1, 0, 2), (2, 1, 0))\n",
      "((1, 0, 2), (1, 2, 0), (0, 1, 2))\n",
      "((1, 0, 2), (1, 2, 0), (0, 2, 1))\n",
      "((1, 0, 2), (1, 2, 0), (1, 0, 2))\n",
      "((1, 0, 2), (1, 2, 0), (1, 2, 0))\n",
      "((1, 0, 2), (1, 2, 0), (2, 0, 1))\n",
      "((1, 0, 2), (1, 2, 0), (2, 1, 0))\n",
      "((1, 0, 2), (2, 0, 1), (0, 1, 2))\n",
      "((1, 0, 2), (2, 0, 1), (0, 2, 1))\n",
      "((1, 0, 2), (2, 0, 1), (1, 0, 2))\n",
      "((1, 0, 2), (2, 0, 1), (1, 2, 0))\n",
      "((1, 0, 2), (2, 0, 1), (2, 0, 1))\n",
      "((1, 0, 2), (2, 0, 1), (2, 1, 0))\n",
      "((1, 0, 2), (2, 1, 0), (0, 1, 2))\n",
      "((1, 0, 2), (2, 1, 0), (0, 2, 1))\n",
      "((1, 0, 2), (2, 1, 0), (1, 0, 2))\n",
      "((1, 0, 2), (2, 1, 0), (1, 2, 0))\n",
      "((1, 0, 2), (2, 1, 0), (2, 0, 1))\n",
      "((1, 0, 2), (2, 1, 0), (2, 1, 0))\n",
      "((1, 2, 0), (0, 1, 2), (0, 1, 2))\n",
      "((1, 2, 0), (0, 1, 2), (0, 2, 1))\n",
      "((1, 2, 0), (0, 1, 2), (1, 0, 2))\n",
      "((1, 2, 0), (0, 1, 2), (1, 2, 0))\n",
      "((1, 2, 0), (0, 1, 2), (2, 0, 1))\n",
      "((1, 2, 0), (0, 1, 2), (2, 1, 0))\n",
      "((1, 2, 0), (0, 2, 1), (0, 1, 2))\n",
      "((1, 2, 0), (0, 2, 1), (0, 2, 1))\n",
      "((1, 2, 0), (0, 2, 1), (1, 0, 2))\n",
      "((1, 2, 0), (0, 2, 1), (1, 2, 0))\n",
      "((1, 2, 0), (0, 2, 1), (2, 0, 1))\n",
      "((1, 2, 0), (0, 2, 1), (2, 1, 0))\n",
      "((1, 2, 0), (1, 0, 2), (0, 1, 2))\n",
      "((1, 2, 0), (1, 0, 2), (0, 2, 1))\n",
      "((1, 2, 0), (1, 0, 2), (1, 0, 2))\n",
      "((1, 2, 0), (1, 0, 2), (1, 2, 0))\n",
      "((1, 2, 0), (1, 0, 2), (2, 0, 1))\n",
      "((1, 2, 0), (1, 0, 2), (2, 1, 0))\n",
      "((1, 2, 0), (1, 2, 0), (0, 1, 2))\n",
      "((1, 2, 0), (1, 2, 0), (0, 2, 1))\n",
      "((1, 2, 0), (1, 2, 0), (1, 0, 2))\n",
      "((1, 2, 0), (1, 2, 0), (1, 2, 0))\n",
      "((1, 2, 0), (1, 2, 0), (2, 0, 1))\n",
      "((1, 2, 0), (1, 2, 0), (2, 1, 0))\n",
      "((1, 2, 0), (2, 0, 1), (0, 1, 2))\n",
      "((1, 2, 0), (2, 0, 1), (0, 2, 1))\n",
      "((1, 2, 0), (2, 0, 1), (1, 0, 2))\n",
      "((1, 2, 0), (2, 0, 1), (1, 2, 0))\n",
      "((1, 2, 0), (2, 0, 1), (2, 0, 1))\n",
      "((1, 2, 0), (2, 0, 1), (2, 1, 0))\n",
      "((1, 2, 0), (2, 1, 0), (0, 1, 2))\n",
      "((1, 2, 0), (2, 1, 0), (0, 2, 1))\n",
      "((1, 2, 0), (2, 1, 0), (1, 0, 2))\n",
      "((1, 2, 0), (2, 1, 0), (1, 2, 0))\n",
      "((1, 2, 0), (2, 1, 0), (2, 0, 1))\n",
      "((1, 2, 0), (2, 1, 0), (2, 1, 0))\n",
      "((2, 0, 1), (0, 1, 2), (0, 1, 2))\n",
      "((2, 0, 1), (0, 1, 2), (0, 2, 1))\n",
      "((2, 0, 1), (0, 1, 2), (1, 0, 2))\n",
      "((2, 0, 1), (0, 1, 2), (1, 2, 0))\n",
      "((2, 0, 1), (0, 1, 2), (2, 0, 1))\n",
      "((2, 0, 1), (0, 1, 2), (2, 1, 0))\n",
      "((2, 0, 1), (0, 2, 1), (0, 1, 2))\n",
      "((2, 0, 1), (0, 2, 1), (0, 2, 1))\n",
      "((2, 0, 1), (0, 2, 1), (1, 0, 2))\n",
      "((2, 0, 1), (0, 2, 1), (1, 2, 0))\n",
      "((2, 0, 1), (0, 2, 1), (2, 0, 1))\n",
      "((2, 0, 1), (0, 2, 1), (2, 1, 0))\n",
      "((2, 0, 1), (1, 0, 2), (0, 1, 2))\n",
      "((2, 0, 1), (1, 0, 2), (0, 2, 1))\n",
      "((2, 0, 1), (1, 0, 2), (1, 0, 2))\n",
      "((2, 0, 1), (1, 0, 2), (1, 2, 0))\n",
      "((2, 0, 1), (1, 0, 2), (2, 0, 1))\n",
      "((2, 0, 1), (1, 0, 2), (2, 1, 0))\n",
      "((2, 0, 1), (1, 2, 0), (0, 1, 2))\n",
      "((2, 0, 1), (1, 2, 0), (0, 2, 1))\n",
      "((2, 0, 1), (1, 2, 0), (1, 0, 2))\n",
      "((2, 0, 1), (1, 2, 0), (1, 2, 0))\n",
      "((2, 0, 1), (1, 2, 0), (2, 0, 1))\n",
      "((2, 0, 1), (1, 2, 0), (2, 1, 0))\n",
      "((2, 0, 1), (2, 0, 1), (0, 1, 2))\n",
      "((2, 0, 1), (2, 0, 1), (0, 2, 1))\n",
      "((2, 0, 1), (2, 0, 1), (1, 0, 2))\n",
      "((2, 0, 1), (2, 0, 1), (1, 2, 0))\n",
      "((2, 0, 1), (2, 0, 1), (2, 0, 1))\n",
      "((2, 0, 1), (2, 0, 1), (2, 1, 0))\n",
      "((2, 0, 1), (2, 1, 0), (0, 1, 2))\n",
      "((2, 0, 1), (2, 1, 0), (0, 2, 1))\n",
      "((2, 0, 1), (2, 1, 0), (1, 0, 2))\n",
      "((2, 0, 1), (2, 1, 0), (1, 2, 0))\n",
      "((2, 0, 1), (2, 1, 0), (2, 0, 1))\n",
      "((2, 0, 1), (2, 1, 0), (2, 1, 0))\n",
      "((2, 1, 0), (0, 1, 2), (0, 1, 2))\n",
      "((2, 1, 0), (0, 1, 2), (0, 2, 1))\n",
      "((2, 1, 0), (0, 1, 2), (1, 0, 2))\n",
      "((2, 1, 0), (0, 1, 2), (1, 2, 0))\n",
      "((2, 1, 0), (0, 1, 2), (2, 0, 1))\n",
      "((2, 1, 0), (0, 1, 2), (2, 1, 0))\n",
      "((2, 1, 0), (0, 2, 1), (0, 1, 2))\n",
      "((2, 1, 0), (0, 2, 1), (0, 2, 1))\n",
      "((2, 1, 0), (0, 2, 1), (1, 0, 2))\n",
      "((2, 1, 0), (0, 2, 1), (1, 2, 0))\n",
      "((2, 1, 0), (0, 2, 1), (2, 0, 1))\n",
      "((2, 1, 0), (0, 2, 1), (2, 1, 0))\n",
      "((2, 1, 0), (1, 0, 2), (0, 1, 2))\n",
      "((2, 1, 0), (1, 0, 2), (0, 2, 1))\n",
      "((2, 1, 0), (1, 0, 2), (1, 0, 2))\n",
      "((2, 1, 0), (1, 0, 2), (1, 2, 0))\n",
      "((2, 1, 0), (1, 0, 2), (2, 0, 1))\n",
      "((2, 1, 0), (1, 0, 2), (2, 1, 0))\n",
      "((2, 1, 0), (1, 2, 0), (0, 1, 2))\n",
      "((2, 1, 0), (1, 2, 0), (0, 2, 1))\n",
      "((2, 1, 0), (1, 2, 0), (1, 0, 2))\n",
      "((2, 1, 0), (1, 2, 0), (1, 2, 0))\n",
      "((2, 1, 0), (1, 2, 0), (2, 0, 1))\n",
      "((2, 1, 0), (1, 2, 0), (2, 1, 0))\n",
      "((2, 1, 0), (2, 0, 1), (0, 1, 2))\n",
      "((2, 1, 0), (2, 0, 1), (0, 2, 1))\n",
      "((2, 1, 0), (2, 0, 1), (1, 0, 2))\n",
      "((2, 1, 0), (2, 0, 1), (1, 2, 0))\n",
      "((2, 1, 0), (2, 0, 1), (2, 0, 1))\n",
      "((2, 1, 0), (2, 0, 1), (2, 1, 0))\n",
      "((2, 1, 0), (2, 1, 0), (0, 1, 2))\n",
      "((2, 1, 0), (2, 1, 0), (0, 2, 1))\n",
      "((2, 1, 0), (2, 1, 0), (1, 0, 2))\n",
      "((2, 1, 0), (2, 1, 0), (1, 2, 0))\n",
      "((2, 1, 0), (2, 1, 0), (2, 0, 1))\n",
      "((2, 1, 0), (2, 1, 0), (2, 1, 0))\n"
     ]
    }
   ],
   "source": [
    "from itertools import permutations, product\n",
    "N = 3\n",
    "for A in product(permutations(range(N)), repeat=3):\n",
    "    print(A)"
   ]
  },
  {
   "cell_type": "code",
   "execution_count": 34,
   "id": "5397ba69-c5dc-4733-bb80-9cd34d1af195",
   "metadata": {
    "tags": []
   },
   "outputs": [
    {
     "name": "stdin",
     "output_type": "stream",
     "text": [
      " 5\n",
      " 8 9 18 90 72\n"
     ]
    },
    {
     "name": "stdout",
     "output_type": "stream",
     "text": [
      "2\n"
     ]
    }
   ],
   "source": [
    "n = int(input())\n",
    "A = list(map(int, input().split()))\n",
    "\n",
    "def check_gcd(k):\n",
    "    return sum(map(lambda x: x%k==0, A))\n",
    "\n",
    "mx = max(A)\n",
    "limit = mx+1\n",
    "ans = 2\n",
    "largest=0\n",
    "for i in range(2, limit):\n",
    "    tmp = check_gcd(i)\n",
    "    if tmp>largest:\n",
    "        largest = tmp\n",
    "        ans = i\n",
    "print(ans)"
   ]
  },
  {
   "cell_type": "code",
   "execution_count": 33,
   "id": "7174ae7a-82a0-4597-8c69-50cf75253a5e",
   "metadata": {
    "tags": []
   },
   "outputs": [
    {
     "data": {
      "text/plain": [
       "4"
      ]
     },
     "execution_count": 33,
     "metadata": {},
     "output_type": "execute_result"
    }
   ],
   "source": [
    "check_gcd(9)"
   ]
  },
  {
   "cell_type": "code",
   "execution_count": 50,
   "id": "a51dcebd-5390-4cde-b0ec-c09b8454897a",
   "metadata": {
    "tags": []
   },
   "outputs": [
    {
     "name": "stdin",
     "output_type": "stream",
     "text": [
      " 5\n",
      " -1000 -1000 -1000 -1000 -1000\n"
     ]
    },
    {
     "name": "stdout",
     "output_type": "stream",
     "text": [
      "0\n"
     ]
    }
   ],
   "source": [
    "n = int(input())\n",
    "A = list(map(int, input().split()))\n",
    "\n",
    "cum = [A[0]]\n",
    "if A[0]>0:\n",
    "    temp = A[0]\n",
    "else:\n",
    "    temp = 0\n",
    "peak = [temp]\n",
    "ans = max(A[0], 0)\n",
    "for i in range(1, n):\n",
    "    cum.append(cum[-1]+A[i])\n",
    "    if A[i]>0:\n",
    "        temp = max(temp, cum[-1])\n",
    "    peak.append(temp)\n",
    "now = 0    \n",
    "for i in range(n):\n",
    "    mx = now+peak[i]\n",
    "    now +=cum[i]\n",
    "    ans = max(ans, mx)\n",
    "print(ans)"
   ]
  },
  {
   "cell_type": "code",
   "execution_count": 51,
   "id": "b49f3618-84ab-4834-a81d-d803c9408214",
   "metadata": {
    "tags": []
   },
   "outputs": [
    {
     "data": {
      "text/plain": [
       "3"
      ]
     },
     "execution_count": 51,
     "metadata": {},
     "output_type": "execute_result"
    }
   ],
   "source": [
    "# 182 E 二次元マスのフラグカウント問題\n",
    "h,w,n,m=map(int,input().split())\n",
    "gridw=[[0]*w for i in range(h)]\n",
    "gridh=[[0]*w for i in range(h)]\n",
    "l=[]\n",
    "b=set()\n",
    "for i in range(n):\n",
    "    a,b1=map(int,input().split())\n",
    "    a,b1=a-1,b1-1\n",
    "    l.append((a,b1))\n",
    "\n",
    "for i in range(m):\n",
    "    c,d=map(int,input().split())\n",
    "    c,d=c-1,d-1\n",
    "    b.add((c,d))\n",
    "\n",
    "for i in range(n):\n",
    "    x,y=l[i][0],l[i][1]\n",
    "    if gridw[x][y]==0:\n",
    "        while -1<y+1<w and not(((x,y+1)) in b):\n",
    "            gridw[x][y+1]=1\n",
    "            y+=1\n",
    "    x,y=l[i][0],l[i][1]\n",
    "    if gridw[x][y]==0:\n",
    "        while -1<y<w and not(((x,y)) in b):\n",
    "            gridw[x][y]=1\n",
    "            y-=1\n",
    "    x,y=l[i][0],l[i][1]\n",
    "    if gridh[x][y]==0:\n",
    "        while -1<x+1<h and not(((x+1,y)) in b):\n",
    "            gridh[x+1][y]=1\n",
    "            x+=1\n",
    "    x,y=l[i][0],l[i][1]\n",
    "    if gridh[x][y]==0:\n",
    "        while -1<x<h and not(((x,y)) in b):\n",
    "            gridh[x][y]=1\n",
    "            x-=1\n",
    "\n",
    "cnt=0\n",
    "for i in range(h):\n",
    "    for j in range(w):\n",
    "        if gridh[i][j] or gridw[i][j]:\n",
    "            cnt+=1\n",
    "\n",
    "print(cnt)"
   ]
  },
  {
   "cell_type": "code",
   "execution_count": 69,
   "id": "c2e2dcbf-2662-47a3-83f7-7d9bf2f60e75",
   "metadata": {
    "tags": []
   },
   "outputs": [
    {
     "name": "stdin",
     "output_type": "stream",
     "text": [
      " 4 330\n",
      " 0 1 10 100\n",
      " 1 0 20 200\n",
      " 10 20 0 300\n",
      " 100 200 300 0\n"
     ]
    },
    {
     "name": "stdout",
     "output_type": "stream",
     "text": [
      "2\n"
     ]
    }
   ],
   "source": [
    "import itertools\n",
    "n, k = map(int, input().split())\n",
    "T = []\n",
    "for i in range(n):\n",
    "    t = list(map(int, input().split()))\n",
    "    T.append(t)\n",
    "\n",
    "cand = itertools.permutations(range(2, n+1))\n",
    "ans = 0\n",
    "for item in cand:\n",
    "    tmp = 0\n",
    "    now = 0\n",
    "    for i in range(len(item)):\n",
    "        tmp += T[now][item[i]-1]\n",
    "        now = item[i]-1\n",
    "    tmp +=T[now][0]\n",
    "    if tmp==k:\n",
    "        ans+=1\n",
    "print(ans)"
   ]
  },
  {
   "cell_type": "code",
   "execution_count": 3,
   "id": "2f871ece-ddf1-43ae-8320-088603476b2d",
   "metadata": {
    "tags": []
   },
   "outputs": [
    {
     "name": "stdin",
     "output_type": "stream",
     "text": [
      " 6 1000000000\n",
      " 0 200000 999999999\n",
      " 2 20 1\n",
      " 20 200 1\n",
      " 200 2000 1\n",
      " 2000 20000 1\n",
      " 20000 200000 1\n"
     ]
    },
    {
     "name": "stdout",
     "output_type": "stream",
     "text": [
      "Yes\n"
     ]
    }
   ],
   "source": [
    "from collections import defaultdict\n",
    "n, w = map(int, input().split())\n",
    "l = defaultdict(lambda: 0)\n",
    "r = defaultdict(lambda: 0)\n",
    "for i in range(n):\n",
    "    s, t, p = map(int, input().split())\n",
    "    l[s] += p\n",
    "    r[t] -= p\n",
    "now = 0\n",
    "ans = \"Yes\"\n",
    "limit = max(r.keys())\n",
    "for i in range(limit):\n",
    "    now += l[i]\n",
    "    now += r[i]\n",
    "    if now>w:\n",
    "        ans = \"No\"\n",
    "        break\n",
    "print(ans)"
   ]
  },
  {
   "cell_type": "code",
   "execution_count": 6,
   "id": "ac9d7bf7-bf13-4da9-80df-aea89ba4bc5b",
   "metadata": {},
   "outputs": [
    {
     "name": "stdin",
     "output_type": "stream",
     "text": [
      " 13 1 4 3000\n"
     ]
    },
    {
     "name": "stdout",
     "output_type": "stream",
     "text": [
      "87058\n"
     ]
    }
   ],
   "source": [
    "R, G, B, N = map(int, input().split())\n",
    "\n",
    "Rlim = N//R+1\n",
    "Glim = N//G+1\n",
    "Blim = N//B+1\n",
    "ans = 0\n",
    "dic = {}\n",
    "for r in range(Rlim):\n",
    "    for g in range(Glim):\n",
    "        if (N-r*R-g*G)%B==0 and N-r*R-g*G>=0:\n",
    "            ans +=1\n",
    "print(ans)"
   ]
  },
  {
   "cell_type": "code",
   "execution_count": 10,
   "id": "f9153639-7ca0-434c-b44f-d424b6c5e299",
   "metadata": {
    "tags": []
   },
   "outputs": [
    {
     "name": "stdin",
     "output_type": "stream",
     "text": [
      " 100000 1\n",
      " 1 99999\n"
     ]
    },
    {
     "name": "stdout",
     "output_type": "stream",
     "text": [
      "IMPOSSIBLE\n"
     ]
    }
   ],
   "source": [
    "### import sys\n",
    "from collections import deque\n",
    "\n",
    "# 探索がある程度多くなる場合、下記のコードが必要（探索回数制限の設定）\n",
    "sys.setrecursionlimit(120000)\n",
    "\n",
    "# ルートの記録が必要な場合\n",
    "# roots = deque()\n",
    "\n",
    "# 入力\n",
    "n, m = list(map(int, input().split()))\n",
    "edges = [ list(map(int, input().split())) for _ in range(m)]\n",
    "\n",
    "# 隣接リスト\n",
    "G = [ list() for _ in range(n+1)]\n",
    "for a, b in edges:\n",
    "    G[a].append(b)\n",
    "    G[b].append(a)\n",
    "\n",
    "ans = \"IMPOSSIBLE\"\n",
    "for item in G[1]:\n",
    "    if n in G[item]:\n",
    "        ans = \"POSSIBLE\"\n",
    "        break\n",
    "print(ans)"
   ]
  },
  {
   "cell_type": "code",
   "execution_count": 25,
   "id": "0abf2299-47c1-4a9c-abe7-8fc2bf1ac4c5",
   "metadata": {},
   "outputs": [
    {
     "name": "stdin",
     "output_type": "stream",
     "text": [
      " 3 1001\n",
      " 1 1\n",
      " 2 1\n",
      " 100 10\n"
     ]
    },
    {
     "name": "stdout",
     "output_type": "stream",
     "text": [
      "Yes\n"
     ]
    }
   ],
   "source": [
    "# X階建て以上のビルを1階ずつ破壊できる\n",
    "n, x = map(int, input().split())\n",
    "coins = []\n",
    "sm = 0\n",
    "for i in range(n):\n",
    "    a, b = map(int, input().split())\n",
    "    # coins.append((a, b))\n",
    "    tmp = [a]*b\n",
    "    coins+=tmp\n",
    "    sm+=b\n",
    "dp = [ [False] * (x+1) for _ in range(sm+1) ]\n",
    "for i in range(sm+1):\n",
    "    dp[i][0] = True\n",
    "for i in range(1, sm+1):\n",
    "    for j in range(x+1):\n",
    "        if j-coins[i-1]>=0 and dp[i-1][j-coins[i-1]]:\n",
    "            dp[i][j] = True\n",
    "        else:\n",
    "            dp[i][j] = dp[i-1][j]\n",
    "if dp[sm][x]:\n",
    "    print(\"Yes\")\n",
    "else:\n",
    "    print(\"No\")\n",
    "        \n"
   ]
  },
  {
   "cell_type": "code",
   "execution_count": 29,
   "id": "a740c9eb-fe17-490f-8df7-6b8d45f1db93",
   "metadata": {
    "tags": []
   },
   "outputs": [
    {
     "name": "stdin",
     "output_type": "stream",
     "text": [
      " 3\n",
      " 50 80 70\n"
     ]
    },
    {
     "name": "stdout",
     "output_type": "stream",
     "text": [
      "2\n"
     ]
    }
   ],
   "source": [
    "N = int(input())\n",
    "H = list(map(int, input().split()))\n",
    "print(H.index(max(H))+1)"
   ]
  },
  {
   "cell_type": "code",
   "execution_count": 61,
   "id": "382e7bf6-2a04-4fb9-9a83-4d01e76675c9",
   "metadata": {
    "tags": []
   },
   "outputs": [
    {
     "name": "stdin",
     "output_type": "stream",
     "text": [
      " .#.......\n",
      " #.#......\n",
      " .#.......\n",
      " .........\n",
      " ....#.#.#\n",
      " .........\n",
      " ....#.#.#\n",
      " ........#\n",
      " .........\n"
     ]
    },
    {
     "name": "stdout",
     "output_type": "stream",
     "text": [
      "3\n"
     ]
    }
   ],
   "source": [
    "# 275 D 二次元マス目から、正方形の数を求める\n",
    "S = []\n",
    "cand = set()\n",
    "for i in range(9):\n",
    "    s = input()\n",
    "    S.append(s)\n",
    "    for j in range(9):\n",
    "        if s[j]==\"#\":\n",
    "            cand.add((i, j)) \n",
    "ans = 0\n",
    "A = []\n",
    "dic = []\n",
    "for r, c in cand:\n",
    "    x, y = r, c\n",
    "    for dx in range(9):\n",
    "        for dy in range(9):\n",
    "            if dx==dy==0:\n",
    "                continue\n",
    "            if x+dy<=8 and y+dx<=8 and x+dx<=8 and 0<=y-dy<=8 and 0<=y+dx-dy<=8 and x+dx+dy<=8:\n",
    "                if (x+dy, y+dx) in cand and (x+dy+dx, y+dx-dy) in cand and (x+dx, y-dy) in cand:\n",
    "                    tmp = [(x, y), (x+dy, y+dx), (x+dx+dy, y+dx-dy), (x+dx, y-dy)]\n",
    "                    tmp.sort()\n",
    "                    if tmp not in dic:\n",
    "                        dic.append(tmp)\n",
    "                        ans +=1\n",
    "print(ans)       "
   ]
  },
  {
   "cell_type": "code",
   "execution_count": null,
   "id": "18698c8e-91a0-4b33-a0fe-a4a13749a256",
   "metadata": {
    "tags": []
   },
   "outputs": [],
   "source": [
    "# 275 D 再帰関数で、メモ化再帰を使用する問題\n",
    "from functools import lru_cache\n",
    "\n",
    "@lru_cache(maxsize=1000000)\n",
    "def function(n):\n",
    "    if n==0:\n",
    "        return 1\n",
    "    return function(n//2) + function(n//3)\n",
    "\n",
    "n = int(input())\n",
    "print(function(n))"
   ]
  },
  {
   "cell_type": "code",
   "execution_count": 12,
   "id": "0b4e08d0-dfd1-44b9-b9d2-a85a90973b0b",
   "metadata": {
    "tags": []
   },
   "outputs": [
    {
     "name": "stdin",
     "output_type": "stream",
     "text": [
      " 20 1 30\n",
      " 1 10\n"
     ]
    },
    {
     "name": "stdout",
     "output_type": "stream",
     "text": [
      "No\n"
     ]
    }
   ],
   "source": [
    "n, m, t = map(int, input().split())\n",
    "rest = []\n",
    "for i in range(m):\n",
    "    a, b = map(int, input().split())\n",
    "    rest.append((a, b))\n",
    "now = n\n",
    "nowt = 0\n",
    "ans = \"Yes\"\n",
    "for i in range(m):\n",
    "    l, r = rest[i]\n",
    "    now -= (l-nowt+0.5)\n",
    "    if now<0:\n",
    "        ans = \"No\"\n",
    "        break\n",
    "    now = min(now+(r-l+0.5), n)\n",
    "    nowt = r\n",
    "if now-(t-nowt+0.5)<0:\n",
    "    ans = \"No\"\n",
    "print(ans)"
   ]
  },
  {
   "cell_type": "code",
   "execution_count": 14,
   "id": "2974bcec-3807-4ef9-b9d7-5689b3b1d586",
   "metadata": {
    "tags": []
   },
   "outputs": [
    {
     "name": "stdin",
     "output_type": "stream",
     "text": [
      " 2\n",
      " ba\n"
     ]
    },
    {
     "name": "stdout",
     "output_type": "stream",
     "text": [
      "Yes\n"
     ]
    }
   ],
   "source": [
    "n = int(input())\n",
    "s = input()\n",
    "if \"ab\" in s or \"ba\" in s:\n",
    "    print(\"Yes\")\n",
    "else:\n",
    "    print(\"No\")"
   ]
  },
  {
   "cell_type": "code",
   "execution_count": 19,
   "id": "5785de7c-2740-4616-b4d8-971eaa766e71",
   "metadata": {
    "tags": []
   },
   "outputs": [
    {
     "name": "stdin",
     "output_type": "stream",
     "text": [
      " 10000000000\n"
     ]
    },
    {
     "name": "stdout",
     "output_type": "stream",
     "text": [
      "10\n"
     ]
    }
   ],
   "source": [
    "from itertools import permutations, product\n",
    "\n",
    "N = int(input())\n",
    "R_input = input()\n",
    "C_input = input()\n",
    "\n",
    "\n",
    "def head(s):\n",
    "    for c in s:\n",
    "        if c != \".\":\n",
    "            return c\n",
    "\n",
    "\n",
    "for A, B, C in product(permutations(range(N)), repeat=3):\n",
    "    if any(a == b or b == c or a == c for a, b, c in zip(A, B, C)):\n",
    "        continue\n",
    "    S = [[\".\"] * N for _ in range(N)]\n",
    "    for i, j in enumerate(A):\n",
    "        S[i][j] = \"A\"\n",
    "    for i, j in enumerate(B):\n",
    "        S[i][j] = \"B\"\n",
    "    for i, j in enumerate(C):\n",
    "        S[i][j] = \"C\"\n",
    "\n",
    "    if \"\".join(map(head, S)) == R_input and \"\".join(map(head, zip(*S))) == C_input:\n",
    "        print(\"Yes\")\n",
    "        print(*map(lambda s: \"\".join(s), S), sep=\"\\n\")\n",
    "        exit()\n",
    "print(\"No\")"
   ]
  },
  {
   "cell_type": "code",
   "execution_count": 27,
   "id": "aec99f94-2605-4706-9411-250eef7560a5",
   "metadata": {
    "tags": []
   },
   "outputs": [
    {
     "name": "stdin",
     "output_type": "stream",
     "text": [
      " 1 2 3 4 5 6 7 8 9\n",
      " 4 5 6 7 8 9 1 2 3\n",
      " 7 8 9 1 2 3 4 5 6\n",
      " 1 2 3 4 5 6 7 8 9\n",
      " 4 5 6 7 8 9 1 2 3\n",
      " 7 8 9 1 2 3 4 5 6\n",
      " 1 2 3 4 5 6 7 8 9\n",
      " 4 5 6 7 8 9 1 2 3\n",
      " 7 8 9 1 2 3 4 5 6\n"
     ]
    },
    {
     "name": "stdout",
     "output_type": "stream",
     "text": [
      "No\n"
     ]
    }
   ],
   "source": [
    "from collections import Counter\n",
    "A = []\n",
    "for i in range(9):\n",
    "    A.append(list(map(int, input().split())))\n",
    "ans = \"Yes\"\n",
    "for i in range(9):\n",
    "    b = len(Counter(A[i]).keys())\n",
    "    if b!=9:\n",
    "        ans = \"No\"\n",
    "        break\n",
    "for c in zip(*A):\n",
    "    c = len(Counter(list(c)).keys())\n",
    "    if c!=9:\n",
    "        ans = \"No\"\n",
    "        break\n",
    "for i in range(0, 8, 3):\n",
    "    for j in range(0, 8, 3):\n",
    "        tmp = []\n",
    "        tmp.append(A[i][j])\n",
    "        tmp.append(A[i+1][j])\n",
    "        tmp.append(A[i+2][j])\n",
    "        tmp.append(A[i][j+1])\n",
    "        tmp.append(A[i][j+2])\n",
    "        tmp.append(A[i+1][j+1])\n",
    "        tmp.append(A[i+1][j+2])\n",
    "        tmp.append(A[i+2][j+1])\n",
    "        tmp.append(A[i+2][j+2])\n",
    "        d = len(Counter(tmp).keys())\n",
    "        if d!=9:\n",
    "            ans = \"No\"\n",
    "            break\n",
    "print(ans)\n",
    "    \n",
    "    \n",
    "    \n",
    "    "
   ]
  },
  {
   "cell_type": "code",
   "execution_count": 34,
   "id": "c250b14d-99a6-47a9-bdd0-71d757815c5b",
   "metadata": {
    "tags": []
   },
   "outputs": [
    {
     "name": "stdin",
     "output_type": "stream",
     "text": [
      " 7 8\n",
      " 1 6 2 7 5 4 2 2\n",
      " 3 2 7 2 1 2 3 3\n"
     ]
    },
    {
     "name": "stdout",
     "output_type": "stream",
     "text": [
      "No\n"
     ]
    }
   ],
   "source": [
    "n, m = map(int, input().split())\n",
    "A = list(map(int, input().split()))\n",
    "B = list(map(int, input().split()))\n",
    "\n",
    "from collections import defaultdict\n",
    "\n",
    "def is_good_pair(N, M, A, B):\n",
    "    graph = defaultdict(list)\n",
    "    colors = {}\n",
    "\n",
    "    # エッジの作成\n",
    "    for i in range(M):\n",
    "        graph[A[i]].append(B[i])\n",
    "        graph[B[i]].append(A[i])\n",
    "\n",
    "    # DFSで二色塗分けが可能かチェック\n",
    "    def dfs(node, color):\n",
    "        if node in colors:\n",
    "            return colors[node] == color\n",
    "        colors[node] = color\n",
    "        for neighbour in graph[node]:\n",
    "            if not dfs(neighbour, 1 - color):\n",
    "                return False\n",
    "        return True\n",
    "\n",
    "    # 各連結成分についてDFSを実行\n",
    "    for node in range(1, N+1):\n",
    "        if node not in colors:\n",
    "            if not dfs(node, 0):\n",
    "                return \"No\"\n",
    "    return \"Yes\"\n",
    "\n",
    "# # 入力例\n",
    "# N = 3\n",
    "# M = 2\n",
    "# A = [1, 2]\n",
    "# B = [2, 3]\n",
    "\n",
    "# 判定\n",
    "print(is_good_pair(N, M, A, B))"
   ]
  },
  {
   "cell_type": "code",
   "execution_count": 43,
   "id": "5cd2f76f-d9ca-4988-916f-5d21e4458141",
   "metadata": {
    "tags": []
   },
   "outputs": [],
   "source": [
    "# 327 D 二分グラフ問題、二色塗分け問題とも\n",
    "import sys\n",
    "import pypyjit\n",
    "sys.setrecursionlimit(200000)\n",
    "pypyjit.set_param('max_unroll_recursion=-1')\n",
    "N, M = map(int, input().split())\n",
    "A = [*map(int, input().split())]\n",
    "B = [*map(int, input().split())]\n",
    "edges = [set() for _ in range(N)]\n",
    "col = [-1] * N\n",
    "for i in range(M):\n",
    "  edges[A[i] - 1].add(B[i] - 1)\n",
    "  edges[B[i] - 1].add(A[i] - 1)\n",
    "\n",
    "def bfs(i):\n",
    "  for j in edges[i]:\n",
    "    if col[i] == col[j]:\n",
    "      exit(print('No'))\n",
    "    if col[j] == -1:\n",
    "      col[j] = 1 - col[i]\n",
    "      bfs(j)\n",
    "\n",
    "for i in range(N):\n",
    "  if col[i] != -1:\n",
    "    continue\n",
    "  col[i] = 1\n",
    "  bfs(i)\n",
    "print('Yes')"
   ]
  },
  {
   "cell_type": "code",
   "execution_count": 4,
   "id": "3b0bde27-efe8-4f5c-a075-28ca88c6b735",
   "metadata": {
    "tags": []
   },
   "outputs": [
    {
     "name": "stdin",
     "output_type": "stream",
     "text": [
      " 7 8\n",
      " 1 6 2 7 5 4 2 2\n",
      " 3 2 7 2 1 2 3 3\n"
     ]
    },
    {
     "name": "stdout",
     "output_type": "stream",
     "text": [
      "Yes\n"
     ]
    }
   ],
   "source": [
    "import sys\n",
    "\n",
    "sys.setrecursionlimit(200000)\n",
    "n, m = map(int, input().split())\n",
    "A = [*map(int, input().split())]\n",
    "B = [*map(int, input().split())]\n",
    "X = [-1]*(n+1)\n",
    "G = [ list() for _ in range(n+1) ]\n",
    "for i in range(m):\n",
    "    G[A[i]].append(B[i])\n",
    "    G[B[i]].append(A[i])\n",
    "flag = True\n",
    "def dfs(pos, x):\n",
    "    X[pos]=x\n",
    "    for nex in G[pos]:\n",
    "        if X[nex]==-1:\n",
    "            if not dfs(nex, 1-x):\n",
    "                return False\n",
    "        elif X[nex]==x:\n",
    "            return False\n",
    "    return True\n",
    "flag = True\n",
    "for i in range(n+1):\n",
    "    if X[i]!=-1:\n",
    "        continue\n",
    "    if not dfs(i, 0):\n",
    "        flag = False\n",
    "        break\n",
    "    \n",
    "\n",
    "print(\"Yes\" if flag else \"No\")\n",
    "\n",
    "    "
   ]
  },
  {
   "cell_type": "code",
   "execution_count": null,
   "id": "c8b822b3-323a-4662-9830-472f03789fa3",
   "metadata": {
    "tags": []
   },
   "outputs": [],
   "source": [
    "import math\n",
    "n, m = map(int, input().split())\n",
    "A = list(map(int, input().split()))\n",
    "A.sort()\n",
    "if m==0:\n",
    "    ans = 1\n",
    "else:\n",
    "    if A[0]!=1:\n",
    "        dist = [A[0]-1]\n",
    "    else:\n",
    "        dist = []\n",
    "    for i in range(1, m):\n",
    "        tmp = A[i]-A[i-1]-1\n",
    "        if tmp!=0:\n",
    "            dist.append(tmp)\n",
    "    if A[-1]!=n:\n",
    "        dist.append(n-A[-1])\n",
    "    if len(dist)!=0:\n",
    "        mn = min(dist)\n",
    "    ans = 0\n",
    "    for i in range(len(dist)):\n",
    "        if dist[i]==0:\n",
    "            continue\n",
    "        ans += math.ceil(dist[i]/mn)\n",
    "print(ans)"
   ]
  },
  {
   "cell_type": "code",
   "execution_count": 30,
   "id": "2b6e8d99-f3a0-4681-b640-1751be7dd789",
   "metadata": {
    "tags": []
   },
   "outputs": [
    {
     "name": "stdin",
     "output_type": "stream",
     "text": [
      " 7 5 20\n",
      " 10 11\n",
      " 4 5\n",
      " 10 12\n",
      " 1 2\n",
      " 1 5\n",
      " 5 6\n",
      " 2 4\n",
      " 3 5\n",
      " 9 10\n",
      " 2 5\n",
      " 1 4\n",
      " 11 12\n",
      " 9 12\n",
      " 8 9\n",
      " 5 7\n",
      " 3 7\n",
      " 3 6\n",
      " 3 4\n",
      " 8 12\n",
      " 9 11\n"
     ]
    },
    {
     "name": "stdout",
     "output_type": "stream",
     "text": [
      "4\n"
     ]
    }
   ],
   "source": [
    "from collections import deque\n",
    "n1, n2, m = map(int, input().split())\n",
    "G1 = [ list() for _ in range(n1) ]\n",
    "G2 = [ list() for _ in range(n1+n2)]\n",
    "for i in range(m):\n",
    "    a, b = map(int, input().split())\n",
    "    if a<=n1:\n",
    "        G1[a-1].append(b-1)\n",
    "        G1[b-1].append(a-1)\n",
    "    else:\n",
    "        G2[a-1].append(b-1)\n",
    "        G2[b-1].append(a-1)\n",
    "# visited = [False]*(n1+n2)\n",
    "dist1 = [-1]*(n1)\n",
    "que = deque()\n",
    "que.append(0)\n",
    "dist1[0]=0\n",
    "while len(que)>0:\n",
    "    pos = que.popleft()\n",
    "    for nex in G1[pos]:\n",
    "        if dist1[nex]==-1:\n",
    "            dist1[nex] = dist1[pos]+1\n",
    "            que.append(nex)\n",
    "dist2 = [-1]*(n1+n2)\n",
    "que = deque()\n",
    "que.append(n1+n2-1)\n",
    "dist2[n1+n2-1]=0\n",
    "while len(que)>0:\n",
    "    pos = que.popleft()\n",
    "    for nex in G2[pos]:\n",
    "        if dist2[nex]==-1:\n",
    "            dist2[nex] = dist2[pos]+1\n",
    "            que.append(nex)\n",
    "print(max(dist1)+max(dist2)+1)"
   ]
  },
  {
   "cell_type": "code",
   "execution_count": 28,
   "id": "5ed8b95e-7218-4929-8b47-e82f242b2e74",
   "metadata": {
    "tags": []
   },
   "outputs": [
    {
     "name": "stdin",
     "output_type": "stream",
     "text": [
      " 5\n",
      " 31 41 59 26 53\n"
     ]
    },
    {
     "name": "stdout",
     "output_type": "stream",
     "text": [
      "176\n"
     ]
    }
   ],
   "source": [
    "# 問題文を式にする,このときに玉座は番号0とする\n",
    "# Kx + S ≡ 0 (mod N)\n",
    "# なので\n",
    "# x ≡ -S * K^(-1) (mod N)\n",
    "# 拡張ユークリッドの互除法をもちいて\n",
    "# K^(-1)をもとめる\n",
    "# このときSがgcd(K, N)で割り切れない場合逆元がないので解なし -> -1\n",
    "# それ以外のときは拡張ユークリッドの互除法で逆元をもとめて上記のxを計算する\n",
    "\n",
    "from math import gcd\n",
    "\n",
    "def inv_gcd(a, b):\n",
    "    a %= b\n",
    "    if a == 0:\n",
    "        return b, 0\n",
    "\n",
    "    gcd, t, inv, m = b, a, 0, 1\n",
    "\n",
    "    while t:\n",
    "        u = gcd // t\n",
    "        gcd -= t * u\n",
    "        inv -= m * u\n",
    "        gcd, t, inv, m = t, gcd, m, inv\n",
    "\n",
    "    if inv < 0:\n",
    "        inv += b // gcd\n",
    "\n",
    "    return gcd, inv\n",
    "\n",
    "def solve():\n",
    "    N, S, K = map(int, input().split())\n",
    "    g = gcd(K, N)\n",
    "    if S % g != 0:\n",
    "        return -1\n",
    "\n",
    "    N, S, K = N//g, S//g, K//g\n",
    "    _, inv = inv_gcd(K, N)\n",
    "\n",
    "    return (-S * inv) % N\n",
    "\n",
    "\n",
    "T = int(input())\n",
    "for t in range(T):\n",
    "    print(solve())\n",
    "    "
   ]
  },
  {
   "cell_type": "code",
   "execution_count": 2,
   "id": "1a9540c9-f3a5-48c9-9e3e-51e1c84ed8ad",
   "metadata": {
    "tags": []
   },
   "outputs": [
    {
     "name": "stdin",
     "output_type": "stream",
     "text": [
      " 4\n",
      " 201408139683277485 381410962404666524\n"
     ]
    },
    {
     "name": "stdout",
     "output_type": "stream",
     "text": [
      "No\n"
     ]
    },
    {
     "name": "stdin",
     "output_type": "stream",
     "text": [
      " 360288799186493714 788806911317182736\n"
     ]
    },
    {
     "name": "stdout",
     "output_type": "stream",
     "text": [
      "Yes\n"
     ]
    },
    {
     "name": "stdin",
     "output_type": "stream",
     "text": [
      " 18999951915747344 451273909320288229\n"
     ]
    },
    {
     "name": "stdout",
     "output_type": "stream",
     "text": [
      "Yes\n"
     ]
    },
    {
     "name": "stdin",
     "output_type": "stream",
     "text": [
      " 962424162689761932 1097438793187620758\n"
     ]
    },
    {
     "name": "stdout",
     "output_type": "stream",
     "text": [
      "No\n"
     ]
    }
   ],
   "source": [
    "# 187 E 拡張ユークリッド互除法を利用した問題\n",
    "T = int(input())  # テストケースの数\n",
    "for _ in range(T):\n",
    "    a, s = map(int, input().split())\n",
    "    if a > s:\n",
    "        print(\"No\")  # 条件1に違反\n",
    "    elif (a & (s - a)) != a:\n",
    "        print(\"No\")  # 条件3に違反\n",
    "    else:\n",
    "        print(\"Yes\")  # 条件を満たす"
   ]
  },
  {
   "cell_type": "code",
   "execution_count": 4,
   "id": "93594a90-df0c-4704-b049-25875a2bb8ba",
   "metadata": {
    "tags": []
   },
   "outputs": [
    {
     "name": "stdin",
     "output_type": "stream",
     "text": [
      " 4\n",
      " 6 13 12 5 3 7 10 11 16 9 8 15 2 1 14 4\n"
     ]
    },
    {
     "name": "stdout",
     "output_type": "stream",
     "text": [
      "2\n"
     ]
    }
   ],
   "source": [
    "n = int(input())\n",
    "A = list(map(int, input().split()))\n",
    "ans = A.index(min(max(A[:2**(n-1)]), max(A[2**(n-1):])))+1\n",
    "print(ans)"
   ]
  },
  {
   "cell_type": "code",
   "execution_count": 47,
   "id": "960fd5be-bee7-4514-9d19-225b03ff6319",
   "metadata": {},
   "outputs": [
    {
     "name": "stdin",
     "output_type": "stream",
     "text": [
      " 5 100000\n",
      " 583563238 820642330 44577\n",
      " 136809000 653199778 90962\n",
      " 54601291 785892285 50554\n",
      " 5797762 453599267 65697\n",
      " 468677897 916692569 87409\n"
     ]
    },
    {
     "name": "stdout",
     "output_type": "stream",
     "text": [
      "88206004785464\n"
     ]
    }
   ],
   "source": [
    "from collections import deque\n",
    "N, C = map(int, input().split())\n",
    "S = deque()\n",
    "for i in range(N):\n",
    "    a, b, c = map(int, input().split())\n",
    "    S.append((a, c))\n",
    "    S.append((b+1, -c))\n",
    "S = sorted(S, key = lambda x: x[0])\n",
    "S = deque(S)\n",
    "ans = 0\n",
    "# idx = 0\n",
    "now, tmp = S.popleft()\n",
    "while len(S)>0:\n",
    "    if S[0][0]==now:\n",
    "        tmp+=S.popleft()[1]\n",
    "        continue\n",
    "    nnow, c = S.popleft()\n",
    "    ans += min((nnow-now)*C, (nnow-now)*tmp)\n",
    "    now = nnow\n",
    "    tmp+=c\n",
    "print(ans)\n"
   ]
  },
  {
   "cell_type": "code",
   "execution_count": 2,
   "id": "cba2447e-f43b-4689-ba1d-f76ff5ffbb06",
   "metadata": {
    "tags": []
   },
   "outputs": [
    {
     "name": "stdin",
     "output_type": "stream",
     "text": [
      " 8 675\n",
      " 675 675 675 675 675 675 675 675\n"
     ]
    },
    {
     "name": "stdout",
     "output_type": "stream",
     "text": [
      "5400\n"
     ]
    }
   ],
   "source": [
    "n, x = map(int, input().split())\n",
    "S = list(map(int, input().split()))\n",
    "a = 0\n",
    "for i in range(n):\n",
    "    if S[i]<=x:\n",
    "        a += S[i]\n",
    "print(a)"
   ]
  },
  {
   "cell_type": "code",
   "execution_count": 42,
   "id": "7b7e4b93-5091-408d-bcb5-c9db2ed2e23f",
   "metadata": {
    "tags": []
   },
   "outputs": [
    {
     "name": "stdin",
     "output_type": "stream",
     "text": [
      " AAABCABCABCAABCABCBBBAABCBCCCAAABCBCBCC\n"
     ]
    },
    {
     "name": "stdout",
     "output_type": "stream",
     "text": [
      "AAABBBCCC\n"
     ]
    }
   ],
   "source": [
    "import copy\n",
    "s = input()\n",
    "s_copy = copy.deepcopy(s)\n",
    "idx = []\n",
    "for i in range(len(s)-2):\n",
    "    if s_copy[i:i+3]==\"ABC\":\n",
    "        idx.append(i)\n",
    "t = 0\n",
    "ss = \"\"\n",
    "for item in idx:\n",
    "    tmp = s[t:item]\n",
    "    ss += tmp\n",
    "    t = item+3\n",
    "ss += s[t:]\n",
    "while \"ABC\" in ss:\n",
    "    ss = ss.replace(\"ABC\", \"\")\n",
    "print(ss)\n",
    "        "
   ]
  },
  {
   "cell_type": "code",
   "execution_count": 37,
   "id": "61273c92-a7b2-42aa-b3ad-ddbfa0c48111",
   "metadata": {},
   "outputs": [
    {
     "data": {
      "text/plain": [
       "'BAABCBCCABCAC'"
      ]
     },
     "execution_count": 37,
     "metadata": {},
     "output_type": "execute_result"
    }
   ],
   "source": [
    "s"
   ]
  },
  {
   "cell_type": "code",
   "execution_count": 19,
   "id": "29269179-5ab3-4b3c-9547-2b4e198b40d7",
   "metadata": {
    "tags": []
   },
   "outputs": [
    {
     "data": {
      "text/plain": [
       "True"
      ]
     },
     "execution_count": 19,
     "metadata": {},
     "output_type": "execute_result"
    }
   ],
   "source": [
    "from collections import deque\n",
    "\n",
    "n, m, k = map(int, input().split())\n",
    "edges = [ list(map(int, input().split())) for i in range(m) ]\n",
    "\n",
    "#隣接リスト\n",
    "G = [ list() for i in range(n)　]\n",
    "for a, b, w in edges:\n",
    "    G[a-1].append((b-1, w))\n",
    "    G[b-1].append((a-1, w))\n",
    "    \n",
    "dist = [int(1e16)]*(n)\n",
    "for i in range(n):\n",
    "    print(item) "
   ]
  },
  {
   "cell_type": "code",
   "execution_count": 5,
   "id": "7bcfa89f-9267-4b9f-b376-a53d80ff7aea",
   "metadata": {},
   "outputs": [
    {
     "name": "stdin",
     "output_type": "stream",
     "text": [
      " 10\n",
      " -31 -35\n",
      " 8 -36\n",
      " 22 64\n",
      " 5 73\n",
      " -14 8\n",
      " 18 -58\n",
      " -41 -85\n",
      " 1 -88\n",
      " -21 -85\n",
      " -11 82\n"
     ]
    },
    {
     "name": "stdout",
     "output_type": "stream",
     "text": [
      "11\n"
     ]
    }
   ],
   "source": [
    "n = int(input())\n",
    "points = []\n",
    "for i in range(n):\n",
    "    x, y = map(int, input().split())\n",
    "    points.append((x, y))\n",
    "ans = 0\n",
    "for i in range(n-1):\n",
    "    for j in range(i+1, n):\n",
    "        x1, y1 = points[i]\n",
    "        x2, y2 = points[j]\n",
    "        if abs((y1-y2)/(x1-x2))<=1:\n",
    "            ans+=1\n",
    "print(ans)"
   ]
  },
  {
   "cell_type": "code",
   "execution_count": 12,
   "id": "b0200d11-477b-465f-9e38-d1799310113a",
   "metadata": {
    "tags": []
   },
   "outputs": [
    {
     "name": "stdin",
     "output_type": "stream",
     "text": [
      " 1\n",
      " 273 691\n"
     ]
    },
    {
     "name": "stdout",
     "output_type": "stream",
     "text": [
      "1\n"
     ]
    }
   ],
   "source": [
    "n = int(input())\n",
    "aoki = 0\n",
    "polls = []\n",
    "for i in range(n):\n",
    "    a, b = map(int, input().split())\n",
    "    aoki += a\n",
    "    polls.append(a*2+b)\n",
    "polls.sort(reverse=True)\n",
    "ans = 0\n",
    "tak = 0\n",
    "while tak<=aoki:\n",
    "    tak += polls[ans]\n",
    "    ans +=1\n",
    "print(ans)"
   ]
  },
  {
   "cell_type": "code",
   "execution_count": 25,
   "id": "52eca1f7-f304-4fdd-a89e-9c1bc65ed09f",
   "metadata": {
    "tags": []
   },
   "outputs": [
    {
     "name": "stdin",
     "output_type": "stream",
     "text": [
      " 5\n",
      " 1 2\n",
      " 2 3\n",
      " 2 4\n",
      " 4 5\n",
      " 4\n",
      " 1 1 1\n",
      " 1 4 10\n",
      " 2 1 100\n",
      " 2 2 1000\n"
     ]
    },
    {
     "name": "stdout",
     "output_type": "stream",
     "text": [
      "11\n",
      "110\n",
      "1110\n",
      "110\n",
      "100\n"
     ]
    }
   ],
   "source": [
    "from functools import lru_cache\n",
    "\n",
    "n = int(input())\n",
    "edges = [ list(map(int, input().split())) for _ in range(n-1)]\n",
    "G = [ list() for _ in range(n+1) ]\n",
    "for a, b in edges:\n",
    "    G[a].append(b)\n",
    "    G[b].append(a)\n",
    "@lru_cache(maxsize=1000000)\n",
    "# def dfs(pos, b, visited, C, x, G):\n",
    "#     visited[pos] = True\n",
    "#     C[pos]+=x\n",
    "#     for nex in G[pos]:\n",
    "#         if visited[nex]==False:\n",
    "#             if nex==b:\n",
    "#                 continue\n",
    "#             dfs(nex, b, visited, C, x, G)\n",
    "def dfs(pos, b, x):\n",
    "    global visited\n",
    "    global C\n",
    "    visited[pos] = True\n",
    "    C[pos]+=x\n",
    "    for nex in G[pos]:\n",
    "        if visited[nex]==False:\n",
    "            if nex==b:\n",
    "                continue\n",
    "            dfs(nex, b, x)\n",
    "C = [ 0 ]*(n+1)\n",
    "q = int(input())\n",
    "# for i in range(q):\n",
    "#     t, e, x = map(int, input().split())\n",
    "#     e -=1\n",
    "#     if t==1:\n",
    "#         visited = [False]*(n+1)\n",
    "#         a, b = edges[e]\n",
    "#         dfs(a, b, visited, C, x, G)\n",
    "#     else:\n",
    "#         visited = [False]*(n+1)\n",
    "#         a, b = edges[e]\n",
    "#         dfs(b, a, visited, C, x, G)\n",
    "for i in range(q):\n",
    "    t, e, x = map(int, input().split())\n",
    "    e -=1\n",
    "    if t==1:\n",
    "        visited = [False]*(n+1)\n",
    "        a, b = edges[e]\n",
    "        dfs(a, b, x)\n",
    "    else:\n",
    "        visited = [False]*(n+1)\n",
    "        a, b = edges[e]\n",
    "        dfs(b, a, x)\n",
    "for i in range(1, n+1):\n",
    "    print(C[i])"
   ]
  },
  {
   "cell_type": "code",
   "execution_count": 23,
   "id": "bcfc3b3e-339b-4c75-9542-ad539112fdff",
   "metadata": {
    "tags": []
   },
   "outputs": [
    {
     "data": {
      "text/plain": [
       "[0, 11, 110, 1110, 110, 100]"
      ]
     },
     "execution_count": 23,
     "metadata": {},
     "output_type": "execute_result"
    }
   ],
   "source": [
    "# 187 E グラフ、根付き木\n",
    "N = int(input())\n",
    "edge = []\n",
    "g = [list() for i in range(N)]\n",
    "for i in range(N - 1):\n",
    "    A, B = map(int, input().split())\n",
    "    A -= 1\n",
    "    B -= 1\n",
    "    edge.append((A, B))\n",
    "    g[A].append(B)\n",
    "    g[B].append(A)\n",
    "\n",
    "depth = [-1] * N\n",
    "depth[0] = 0\n",
    "q = [0]\n",
    "while q:\n",
    "    at = q.pop()\n",
    "    for i in g[at]:\n",
    "        if depth[i] == -1:\n",
    "            depth[i] = depth[at] + 1\n",
    "            q.append(i)\n",
    "\n",
    "s = [0] * N\n",
    "Q = int(input())\n",
    "for i in range(Q):\n",
    "    T, E, X = map(int, input().split())\n",
    "    A, B = edge[E - 1]\n",
    "    if depth[A] > depth[B]:\n",
    "        A, B = B, A\n",
    "        T ^= 3\n",
    "    if T == 1:\n",
    "        s[0] += X\n",
    "        s[B] -= X\n",
    "    else:\n",
    "        s[B] += X\n",
    "\n",
    "q = [0]\n",
    "while q:\n",
    "    at = q.pop()\n",
    "    for i in g[at]:\n",
    "        if depth[at] < depth[i]:\n",
    "            s[i] += s[at]\n",
    "            q.append(i)\n",
    "\n",
    "for i in s:\n",
    "    print(i)"
   ]
  },
  {
   "cell_type": "code",
   "execution_count": 12,
   "id": "c8f3622e-6c90-4e18-8309-571b20af5095",
   "metadata": {},
   "outputs": [
    {
     "name": "stdin",
     "output_type": "stream",
     "text": [
      " 6\n",
      " 200 4 4 9 4 9\n"
     ]
    },
    {
     "name": "stdout",
     "output_type": "stream",
     "text": [
      "200\n"
     ]
    }
   ],
   "source": [
    "n = int(input())\n",
    "A = list(map(int, input().split()))\n",
    "ans = n\n",
    "for l in range(n):\n",
    "    x = A[l]\n",
    "    for r in range(l, n):\n",
    "        x = min(x, A[r])\n",
    "        tmp = x*(r-l+1)\n",
    "        ans = max(ans, tmp)\n",
    "print(ans)"
   ]
  },
  {
   "cell_type": "code",
   "execution_count": 18,
   "id": "4ccbf893-1560-4835-a22c-d5195d0d7535",
   "metadata": {},
   "outputs": [
    {
     "name": "stdin",
     "output_type": "stream",
     "text": [
      " 8\n",
      " 22 22 18 16 22 18 18 22\n"
     ]
    },
    {
     "name": "stdout",
     "output_type": "stream",
     "text": [
      "18\n"
     ]
    }
   ],
   "source": [
    "from collections import Counter\n",
    "n = int(input())\n",
    "A = list(map(int, input().split()))\n",
    "\n",
    "sa = list(Counter(A).keys())\n",
    "sa.sort(reverse=True)\n",
    "print(sa[1])"
   ]
  },
  {
   "cell_type": "code",
   "execution_count": 33,
   "id": "5f10ce61-b69d-431e-aeed-3c33ae11a0c8",
   "metadata": {
    "tags": []
   },
   "outputs": [
    {
     "name": "stdin",
     "output_type": "stream",
     "text": [
      " 3\n",
      " xxx\n"
     ]
    },
    {
     "name": "stdout",
     "output_type": "stream",
     "text": [
      "3\n"
     ]
    }
   ],
   "source": [
    "from collections import defaultdict\n",
    "\n",
    "dic = defaultdict(lambda: 0)\n",
    "n = int(input())\n",
    "s = input()\n",
    "now = s[0]\n",
    "dic[s[0]]=1\n",
    "nowc=1\n",
    "for i in range(1, len(s)):\n",
    "    if now==s[i]:\n",
    "        nowc+=1\n",
    "    \n",
    "    else:\n",
    "        if nowc>dic[now]:\n",
    "            dic[now]=nowc\n",
    "        now = s[i]\n",
    "        nowc = 1\n",
    "if dic[now]<nowc:\n",
    "    dic[now]=nowc\n",
    "print(sum(dic.values()))"
   ]
  },
  {
   "cell_type": "code",
   "execution_count": 36,
   "id": "b2f70a44-9669-48f4-b25c-7ec03b5cf1d0",
   "metadata": {
    "tags": []
   },
   "outputs": [
    {
     "name": "stdin",
     "output_type": "stream",
     "text": [
      " 9 8\n",
      " 8 8 2 2 8 8 2 2\n"
     ]
    },
    {
     "name": "stdout",
     "output_type": "stream",
     "text": [
      "8\n",
      "8\n",
      "8\n",
      "2\n",
      "8\n",
      "8\n",
      "8\n",
      "2\n"
     ]
    }
   ],
   "source": [
    "from collections import defaultdict\n",
    "\n",
    "n, m = map(int, input().split())\n",
    "A = list(map(int, input().split()))\n",
    "result = defaultdict(lambda: 0)\n",
    "now = 0\n",
    "for i in range(m):\n",
    "    p = A[i]\n",
    "    result[p]+=1\n",
    "    if now==p:\n",
    "        print(p)\n",
    "    else:\n",
    "        if result[p]>result[now]:\n",
    "            print(p)\n",
    "            now = p\n",
    "        elif result[now]>result[p]:\n",
    "            print(now)\n",
    "        else:\n",
    "            print(min(now, p))\n",
    "            now = min(now, p)\n"
   ]
  },
  {
   "cell_type": "code",
   "execution_count": 3,
   "id": "cd828cf5-95ea-4005-8ba9-0fc27a1097f2",
   "metadata": {},
   "outputs": [
    {
     "name": "stdin",
     "output_type": "stream",
     "text": [
      " 5\n",
      " OR\n",
      " OR\n",
      " OR\n",
      " OR\n",
      " OR\n"
     ]
    },
    {
     "name": "stdout",
     "output_type": "stream",
     "text": [
      "63\n"
     ]
    }
   ],
   "source": [
    "n = int(input())\n",
    "k = set()\n",
    "while n & 1 == 0:\n",
    "    n = n >> 1\n",
    "for i in range(1, int(n ** 0.5) + 1):\n",
    "    if n % i == 0:\n",
    "        k.add(i)\n",
    "        k.add(n // i)\n",
    "print(len(k) * 2)"
   ]
  },
  {
   "cell_type": "code",
   "execution_count": 17,
   "id": "bd556708-5245-403f-952d-f87eff7f27cf",
   "metadata": {
    "tags": []
   },
   "outputs": [
    {
     "name": "stdin",
     "output_type": "stream",
     "text": [
      " 6174 100000\n"
     ]
    },
    {
     "name": "stdout",
     "output_type": "stream",
     "text": [
      "6174\n"
     ]
    }
   ],
   "source": [
    "n, k = map(int, input().split())\n",
    "\n",
    "def func(x):\n",
    "    gx1 = sorted(list(str(x)), reverse=True)\n",
    "    gx2 = sorted(list(str(x)))\n",
    "    return int(\"\".join(map(str, gx1))) - int(\"\".join(map(str, gx2)))\n",
    "\n",
    "for i in range(k):\n",
    "    n = func(n)\n",
    "\n",
    "print(n)"
   ]
  },
  {
   "cell_type": "code",
   "execution_count": 18,
   "id": "e3014d72-b55b-4f66-a0af-83ced2f7e315",
   "metadata": {
    "tags": []
   },
   "outputs": [
    {
     "name": "stdin",
     "output_type": "stream",
     "text": [
      " 5 60\n",
      " 60 20 100 90 40\n"
     ]
    },
    {
     "name": "stdout",
     "output_type": "stream",
     "text": [
      "3\n"
     ]
    }
   ],
   "source": [
    "n, l = map(int, input().split())\n",
    "A = list(map(int, input().split()))\n",
    "ans = 0\n",
    "for i in range(n):\n",
    "    if A[i]>=l:\n",
    "        ans += 1\n",
    "\n",
    "    print(ans)"
   ]
  },
  {
   "cell_type": "code",
   "execution_count": 22,
   "id": "b0957f8b-018b-4e4e-9ecb-4f79dda9ea18",
   "metadata": {
    "tags": []
   },
   "outputs": [
    {
     "name": "stdin",
     "output_type": "stream",
     "text": [
      " 3 10 10\n",
      " 11 10 9\n"
     ]
    },
    {
     "name": "stdout",
     "output_type": "stream",
     "text": [
      "10 10 10\n"
     ]
    }
   ],
   "source": [
    "import bisect\n",
    "\n",
    "n, l, r = map(int, input().split())\n",
    "A = list(map(int, input().split()))\n",
    "ans = []\n",
    "for i in range(n):\n",
    "    if l<A[i]<r:\n",
    "        ans.append(A[i])\n",
    "    elif abs(l-A[i])<=abs(r-A[i]):\n",
    "        ans.append(l)\n",
    "    else:\n",
    "        ans.append(r)\n",
    "print(\" \".join(map(str, ans))) "
   ]
  },
  {
   "cell_type": "code",
   "execution_count": 54,
   "id": "15ae387d-e65e-4b1d-bbb6-1428159d39f7",
   "metadata": {},
   "outputs": [
    {
     "name": "stdin",
     "output_type": "stream",
     "text": [
      " 264428617\n"
     ]
    },
    {
     "name": "stdout",
     "output_type": "stream",
     "text": [
      "32\n"
     ]
    }
   ],
   "source": [
    "from functools import lru_cache\n",
    "import math\n",
    "\n",
    "@lru_cache(maxsize=1000000)\n",
    "def square(x):\n",
    "    squ = math.ceil(x**0.5)\n",
    "    sql = math.floor(x**0.5)\n",
    "    return min(abs(x-squ**2), abs(x-sql**2))\n",
    "D = int(input())\n",
    "lim = int(math.ceil(D**0.5))\n",
    "ans = int(1e19)\n",
    "for i in range(1, lim+1):\n",
    "    if i**2<=D:\n",
    "        x = abs(D-i**2)\n",
    "        ans = min(ans, square(x))\n",
    "    else:\n",
    "        ans = min(ans, i**2+1-D)\n",
    "print(ans)"
   ]
  },
  {
   "cell_type": "code",
   "execution_count": 77,
   "id": "a369a6da-af82-4c4e-bf69-598ec0629ad5",
   "metadata": {
    "tags": []
   },
   "outputs": [
    {
     "name": "stdin",
     "output_type": "stream",
     "text": [
      " 3\n",
      " oox\n",
      " oxx\n",
      " xoo\n"
     ]
    },
    {
     "name": "stdout",
     "output_type": "stream",
     "text": [
      "3\n"
     ]
    }
   ],
   "source": [
    "import math\n",
    "\n",
    "n = int(input())\n",
    "S = []\n",
    "yoko = []\n",
    "for i in range(n):\n",
    "    s = input()\n",
    "    yoko.append(s.count(\"o\"))\n",
    "    S.append(s)\n",
    "tate = []\n",
    "for s in zip(*S):\n",
    "    tate.append(s.count(\"o\"))\n",
    "ans = 0\n",
    "for i in range(n):\n",
    "    if yoko[i]<2:\n",
    "        continue\n",
    "    for j in range(n):\n",
    "        if tate[j]<=1:\n",
    "            continue\n",
    "        if S[i][j]==\"o\":\n",
    "            tmp = (yoko[i]-1)*(tate[j]-1)\n",
    "            ans += tmp\n",
    "\n",
    "print(ans)\n",
    "        "
   ]
  },
  {
   "cell_type": "code",
   "execution_count": 50,
   "id": "47396b1a-b3f1-411f-abc1-e92a37bc0591",
   "metadata": {
    "tags": []
   },
   "outputs": [
    {
     "name": "stdin",
     "output_type": "stream",
     "text": [
      " 4\n",
      " 4\n"
     ]
    },
    {
     "name": "stdout",
     "output_type": "stream",
     "text": [
      "1\n"
     ]
    }
   ],
   "source": [
    "# 192 D n進法を出力する関数を使う\n",
    "x = input()\n",
    "M = int(input())\n",
    "lx = list(x)\n",
    "lx.sort()\n",
    "l0 = int(lx[-1])+1\n",
    "l = l0\n",
    "r = int(1e18)\n",
    "\n",
    "def func(value_str, base):\n",
    "    digits = '0123456789abcdefghijklmnopqrstuvwxyzABCDEFGHIJKLMNOPQRSTUVWXYZ'\n",
    "\n",
    "    digits = digits[:base]\n",
    "    \n",
    "    decimal_value = 0\n",
    "    for char in value_str:\n",
    "        decimal_value = decimal_value * base + digits.index(char)\n",
    "\n",
    "    return decimal_value\n",
    "\n",
    "while r-l>1:\n",
    "    m = (r+l)//2\n",
    "    tmp = func(x, m)\n",
    "    if tmp<=M:\n",
    "        l = m\n",
    "    else:\n",
    "        r = m\n",
    "L = func(x, l)\n",
    "R = func(x, r)\n",
    "if len(x)==1:\n",
    "    if int(x)<=M:\n",
    "        print(1)\n",
    "    else:\n",
    "        print(0)\n",
    "elif R<=M:\n",
    "    print(r-l0+1)\n",
    "elif L<=M:\n",
    "    print(l-l0+1)\n",
    "else:\n",
    "    print(l-l0)\n"
   ]
  },
  {
   "cell_type": "code",
   "execution_count": 40,
   "id": "9d8f49db-3951-4b2f-87c4-a249af6cd26b",
   "metadata": {
    "tags": []
   },
   "outputs": [
    {
     "name": "stdin",
     "output_type": "stream",
     "text": [
      " 100000\n",
      " 3226#\n",
      " 3597#\n"
     ]
    },
    {
     "name": "stdout",
     "output_type": "stream",
     "text": [
      "0.6172840054899252\n"
     ]
    }
   ],
   "source": [
    "# 193 D\n",
    "K = int(input())\n",
    "S = input()[:4]\n",
    "T = input()[:4]\n",
    "cnt = [K] * 10\n",
    "for c in S:\n",
    "    cnt[int(c)] -= 1\n",
    "for c in T:\n",
    "    cnt[int(c)] -= 1\n",
    "def score(S):\n",
    "    cnt = [0] * 10\n",
    "    for c in S:\n",
    "        cnt[int(c)] += 1\n",
    "    ans = 0\n",
    "    for i in range(1, 10):\n",
    "        ans += i * 10 ** cnt[i]\n",
    "    return ans\n",
    "ans = 0\n",
    "for i in range(1, 10):\n",
    "    if cnt[i] == 0:\n",
    "        continue\n",
    "    for j in range(1, 10):\n",
    "        if i == j or cnt[j] == 0:\n",
    "            continue\n",
    "        if score(S + str(i)) > score(T + str(j)):\n",
    "            ans += cnt[i] * cnt[j]\n",
    "for i in range(1, 10):\n",
    "    if cnt[i] < 2:\n",
    "        continue\n",
    "    if score(S + str(i)) > score(T + str(i)):\n",
    "        ans += cnt[i] * (cnt[i] - 1)\n",
    "N = 9 * K - 8\n",
    "print(ans / N / (N - 1))"
   ]
  },
  {
   "cell_type": "code",
   "execution_count": 12,
   "id": "9d0a3d12-25aa-42c5-9382-a6df91fa8ab7",
   "metadata": {},
   "outputs": [
    {
     "name": "stdin",
     "output_type": "stream",
     "text": [
      " 5\n",
      " -5 8 9 -4 -3\n"
     ]
    },
    {
     "name": "stdout",
     "output_type": "stream",
     "text": [
      "950\n"
     ]
    }
   ],
   "source": [
    "from collections import defaultdict\n",
    "n = int(input())\n",
    "A = list(map(int, input().split()))\n",
    "dic = defaultdict(lambda: 0)\n",
    "for i in range(n):\n",
    "    dic[A[i]]+=1\n",
    "\n",
    "ans = 0\n",
    "for item in dic.keys():\n",
    "    for item2 in dic.keys():\n",
    "        if item2>=item:\n",
    "            continue\n",
    "        ans += (item-item2)**2*dic[item]*dic[item2]\n",
    "print(ans)"
   ]
  },
  {
   "cell_type": "code",
   "execution_count": 5,
   "id": "89a0a84e-bd29-4744-9787-ef846611d55b",
   "metadata": {
    "tags": []
   },
   "outputs": [
    {
     "name": "stdin",
     "output_type": "stream",
     "text": [
      " 12 30\n",
      " 2012 6 20\n"
     ]
    },
    {
     "name": "stdout",
     "output_type": "stream",
     "text": [
      "2012 6 21\n"
     ]
    }
   ],
   "source": [
    "M, D = map(int, input().split())\n",
    "y, m, d = map(int, input().split())\n",
    "year = M*D\n",
    "if d==D:\n",
    "    ansd = 1\n",
    "    if m==M:\n",
    "        ansm = 1\n",
    "        ansy = y+1\n",
    "    else:\n",
    "        ansm = m+1\n",
    "        ansy = y\n",
    "else:\n",
    "    ansd = d+1\n",
    "    ansm = m\n",
    "    ansy = y\n",
    "print(\" \".join(map(str, [ansy, ansm, ansd])))"
   ]
  },
  {
   "cell_type": "code",
   "execution_count": 17,
   "id": "dbc5b818-0d91-4461-a0f8-8ee948b2f7f3",
   "metadata": {
    "tags": []
   },
   "outputs": [
    {
     "name": "stdin",
     "output_type": "stream",
     "text": [
      " 99 600 800 1200\n"
     ]
    },
    {
     "name": "stdout",
     "output_type": "stream",
     "text": [
      "10000\n"
     ]
    }
   ],
   "source": [
    "import math\n",
    "n, s, m, l = map(int, input().split())\n",
    "ans = int(1e19)\n",
    "sl = math.ceil(n/6)\n",
    "ml = math.ceil(n/8)\n",
    "ll = math.ceil(n/12)\n",
    "left = 0\n",
    "left2 = 0\n",
    "tmps = 0\n",
    "tmpm = 0\n",
    "tmpl = 0\n",
    "for i in range(sl+1):\n",
    "    tmps = s*i\n",
    "    left = n-6*i\n",
    "    ml = math.ceil(left/8)\n",
    "    if left<=0:\n",
    "        ans = min(ans, tmps)\n",
    "    else:\n",
    "        for j in range(ml+1):\n",
    "            tmpm = j*m\n",
    "            left2 = left - 8*j\n",
    "            ll = math.ceil(left2/12)\n",
    "            if left2<=0:\n",
    "                ans = min(ans, tmps+tmpm)\n",
    "            else:\n",
    "                tmpl = math.ceil(left2/12)*l\n",
    "                ans = min(ans, tmps+tmpm+tmpl)\n",
    "print(ans)\n",
    "        "
   ]
  },
  {
   "cell_type": "code",
   "execution_count": 51,
   "id": "64ee3836-1cd8-4374-a051-86e7c9a095e6",
   "metadata": {},
   "outputs": [
    {
     "name": "stdin",
     "output_type": "stream",
     "text": [
      " 50\n",
      " 1 1 1 1 1 1 1 1 1 1 1 1 1 1 1 1 1 1 1 1 1 1 1 1 1 1 1 1 1 1 1 1 1 1 1 1 1 1 1 1 1 1 1 1 1 1 1 1 1 1\n"
     ]
    },
    {
     "name": "stdout",
     "output_type": "stream",
     "text": [
      "0 0 0 0 0 0 0 0 0 0 0 0 0 0 0 0 0 0 0 0 0 0 0 0 0 0 0 0 0 0 0 0 0 0 0 0 0 0 0 0 0 0 0 0 0 0 0 0 0 0\n"
     ]
    }
   ],
   "source": [
    "from collections import defaultdict\n",
    "n = int(input())\n",
    "A = list(map(int, input().split()))\n",
    "Ai = []\n",
    "dic2 = defaultdict(lambda: 0)\n",
    "for i in range(n):\n",
    "    Ai.append((A[i], i))\n",
    "    dic2[A[i]]+=1\n",
    "Ai.sort(key = lambda x: x[0])\n",
    "dic = {}\n",
    "for i in range(n):\n",
    "    dic[Ai[i][1]]=i\n",
    "cum = [Ai[0][0]]\n",
    "for i in range(1, n):\n",
    "    cum.append(cum[-1]+Ai[i][0])\n",
    "ans = []\n",
    "for i in range(n):\n",
    "    idx = dic[i]\n",
    "    if dic2[A[i]]==1:\n",
    "        ans.append(cum[-1]-cum[idx])\n",
    "    else:\n",
    "        if idx+dic2[A[i]]-1>=n:\n",
    "            ans.append(0)\n",
    "        else:\n",
    "            ans.append(cum[-1]-cum[idx+dic2[A[i]]-1])\n",
    "            dic2[A[i]]-=1\n",
    "print(\" \".join(map(str, ans)))\n",
    " "
   ]
  },
  {
   "cell_type": "code",
   "execution_count": 19,
   "id": "aa9e5db4-8869-4e50-995b-f060020dced3",
   "metadata": {
    "tags": []
   },
   "outputs": [
    {
     "name": "stdin",
     "output_type": "stream",
     "text": [
      " 10 10 10\n",
      " 47718 21994 74148 76721 98917 73766 29598 59035 69293 29127\n",
      " 7017 46004 16086 62644 74928 57404 32168 45794 19493 71590\n",
      " 1 3\n",
      " 2 6\n",
      " 4 5\n",
      " 5 4\n",
      " 5 5\n",
      " 5 6\n",
      " 5 7\n",
      " 5 8\n",
      " 5 10\n",
      " 7 3\n"
     ]
    },
    {
     "name": "stdout",
     "output_type": "stream",
     "text": [
      "149076\n"
     ]
    }
   ],
   "source": [
    "n, m, l = map(int, input().split())\n",
    "A = list(map(int, input().split()))\n",
    "B = list(map(int, input().split()))\n",
    "dic = {}\n",
    "for i in range(l):\n",
    "    c, d = map(int, input().split())\n",
    "    dic[(c, d)] = 0\n",
    "Aidx = []\n",
    "for i in range(n):\n",
    "    Aidx.append((A[i], i+1))\n",
    "Bidx = []\n",
    "for i in range(m):\n",
    "    Bidx.append((B[i], i+1))\n",
    "Aidx.sort(reverse=True, key=lambda x: x[0])\n",
    "Bidx.sort(reverse=True, key=lambda x: x[0])\n",
    "a = Aidx[0][1]\n",
    "b = Bidx[0][1]\n",
    "s = 0\n",
    "t = 0\n",
    "s0 = 0\n",
    "t0 = 0\n",
    "cost = 0\n",
    "ans = 0\n",
    "for a, i in Aidx:\n",
    "    for b, j in Bidx:\n",
    "        if (i, j) in dic:\n",
    "            continue\n",
    "        cost = a + b\n",
    "        if ans>=cost:\n",
    "            break\n",
    "        ans = cost\n",
    "print(ans)\n",
    "    \n",
    "\n"
   ]
  },
  {
   "cell_type": "code",
   "execution_count": 8,
   "id": "f170ffe3-e292-4790-958f-792c342f4f21",
   "metadata": {
    "tags": []
   },
   "outputs": [
    {
     "name": "stdin",
     "output_type": "stream",
     "text": [
      " 537 857 728\n"
     ]
    },
    {
     "name": "stdout",
     "output_type": "stream",
     "text": [
      "867 1300\n"
     ]
    }
   ],
   "source": [
    "import math\n",
    "a,b,w=map(int,input().split())\n",
    "upper=int(math.floor(1000*w/a))\n",
    "lower=int(math.ceil(1000*w/b))\n",
    "if lower>upper:\n",
    "  print(\"UNSATISFIABLE\")\n",
    "else:\n",
    "  print(lower,upper)"
   ]
  },
  {
   "cell_type": "code",
   "execution_count": 6,
   "id": "97b93d56-3e08-4c09-b043-45dc75c42e3f",
   "metadata": {
    "tags": []
   },
   "outputs": [
    {
     "name": "stdin",
     "output_type": "stream",
     "text": [
      " 200 210 1\n"
     ]
    },
    {
     "name": "stdout",
     "output_type": "stream",
     "text": [
      "5\n",
      "5\n"
     ]
    }
   ],
   "source": [
    "import math\n",
    "a,b,w=map(int,input().split())\n",
    "upper=int(math.floor(1000*w/a))\n",
    "lower=int(math.ceil(1000*w/b))\n",
    "if lower>upper:\n",
    "  print(\"UNSATISFIABLE\")\n",
    "else:\n",
    "  print(lower,upper)"
   ]
  },
  {
   "cell_type": "code",
   "execution_count": 2,
   "id": "39b1d8e0-65f2-4c2b-b97c-6b8d3fec4a00",
   "metadata": {
    "tags": []
   },
   "outputs": [
    {
     "name": "stdin",
     "output_type": "stream",
     "text": [
      " 27182818284590\n"
     ]
    },
    {
     "name": "stdout",
     "output_type": "stream",
     "text": [
      "107730272137364\n"
     ]
    }
   ],
   "source": [
    "n = int(input())\n",
    "lim = len(str(n))-1\n",
    "ans = 0\n",
    "for i in range(15, 2, -3):\n",
    "    if n>=10**i:\n",
    "        ans += (n-10**i+1)*i//3\n",
    "        n = 10**i-1\n",
    "print(ans)\n",
    "        "
   ]
  },
  {
   "cell_type": "code",
   "execution_count": 16,
   "id": "d9264e8a-2a08-4dbe-925a-46eb294b280a",
   "metadata": {
    "tags": []
   },
   "outputs": [
    {
     "name": "stdin",
     "output_type": "stream",
     "text": [
      " 5 100 200\n"
     ]
    },
    {
     "name": "stdout",
     "output_type": "stream",
     "text": [
      "0 0\n"
     ]
    }
   ],
   "source": [
    "k, g, m = map(int, input().split())\n",
    "cg = 0\n",
    "cm = 0\n",
    "for i in range(k):\n",
    "    if cg==g:\n",
    "        cg = 0\n",
    "    elif cm==0:\n",
    "        cm = m\n",
    "    else:\n",
    "        if cm<(g-cg):\n",
    "            cg += cm\n",
    "            cm = 0\n",
    "        else:\n",
    "            cm -=(g-cg)\n",
    "            cg = g\n",
    "print(str(cg) + \" \" + str(cm))"
   ]
  },
  {
   "cell_type": "code",
   "execution_count": 23,
   "id": "0910747f-149e-47f0-a9ab-723ad0955fff",
   "metadata": {
    "tags": []
   },
   "outputs": [
    {
     "name": "stdin",
     "output_type": "stream",
     "text": [
      " 3 4 3\n",
      " 2 2\n",
      " 3 3\n",
      " 4 4\n",
      " 1 2 3 4\n",
      " 1 1\n"
     ]
    },
    {
     "name": "stdout",
     "output_type": "stream",
     "text": [
      "9\n"
     ]
    },
    {
     "name": "stdin",
     "output_type": "stream",
     "text": [
      " 4 4\n"
     ]
    },
    {
     "name": "stdout",
     "output_type": "stream",
     "text": [
      "5\n"
     ]
    },
    {
     "name": "stdin",
     "output_type": "stream",
     "text": [
      " 2 4\n"
     ]
    },
    {
     "name": "stdout",
     "output_type": "stream",
     "text": [
      "0\n"
     ]
    }
   ],
   "source": [
    "import copy, bisect\n",
    "\n",
    "n, m, q = map(int, input().split())\n",
    "items = []\n",
    "for i in range(n):\n",
    "    w, v = map(int, input().split())\n",
    "    items.append((w, v))\n",
    "items.sort(key=lambda x: x[1], reverse=True)\n",
    "X = list(map(int, input().split()))\n",
    "# X = [(X[i], i) for i in range(m)]\n",
    "# X.sort(key = lambda x: x[0], reverse=True)\n",
    "for i in range(q):\n",
    "    l, r = map(int, input().split())\n",
    "    X_copy = copy.deepcopy(X)\n",
    "    X_copy = X_copy[:l-1] + X_copy[r:]\n",
    "    X_copy.sort()\n",
    "    res = 0\n",
    "    for w, v in items:\n",
    "        idx = bisect.bisect_left(X_copy, w)\n",
    "        if X_copy==[]:\n",
    "            break\n",
    "        elif idx==len(X_copy):\n",
    "            continue\n",
    "        if X_copy[idx]>=w:\n",
    "            res+=v\n",
    "            del X_copy[idx]\n",
    "        else:\n",
    "            continue\n",
    "    print(res)"
   ]
  },
  {
   "cell_type": "code",
   "execution_count": 38,
   "id": "4b87db98-5268-4695-883d-ed3fc20e4c66",
   "metadata": {},
   "outputs": [
    {
     "name": "stdin",
     "output_type": "stream",
     "text": [
      " 333\n"
     ]
    },
    {
     "name": "stdout",
     "output_type": "stream",
     "text": [
      "112222222233\n"
     ]
    }
   ],
   "source": [
    "import itertools\n",
    "n = int(input())\n",
    "cand = []\n",
    "res = \"\"\n",
    "for i in range(12):\n",
    "    res += \"1\"\n",
    "    cand.append(int(res))\n",
    "it = list(itertools.combinations_with_replacement(cand, 3))\n",
    "ans = []\n",
    "for a, b, c in it:\n",
    "    ans.append(a+b+c)\n",
    "ans.sort()\n",
    "print(ans[n-1])"
   ]
  },
  {
   "cell_type": "code",
   "execution_count": null,
   "id": "804375b8-f874-441f-94dc-27515df7769c",
   "metadata": {},
   "outputs": [],
   "source": [
    "n = int(input())\n",
    "edges = [ list(map(int, input().split())) for _ in range(n-1) ]\n",
    "\n",
    "G = [ list() for _ in range(n)]\n",
    "for a, b in edges:\n",
    "    G[a-1].append(b-1)\n",
    "    G[b-1].append(a-1)\n",
    "\n",
    "# n = int(input())\n",
    "# A = list(map(int, input().split()))\n",
    "\n",
    "# G = [[] for _ in range(n+1)]\n",
    "\n",
    "# for i in range(2, n+1):\n",
    "#     G[A[i-2]].append(i)\n",
    "\n",
    "dp = [0]*(n)\n",
    "for i in range(n):\n",
    "    if len(G[i])==1:\n",
    "    dp[i]=1\n",
    "\n",
    "for i in range(n):\n",
    "    if len(G[i])==1:\n",
    "        dp[i] = 1\n",
    "    else:\n",
    "        for j in range(len(G[i])):\n",
    "            dp[i] += (dp[G[i][j]])\n",
    "print(*dp[1:])"
   ]
  },
  {
   "cell_type": "code",
   "execution_count": 7,
   "id": "0bd42d88-cdcd-49b4-9b47-4b1c9cabed18",
   "metadata": {
    "tags": []
   },
   "outputs": [
    {
     "name": "stdin",
     "output_type": "stream",
     "text": [
      " 5 5 4 2\n",
      " .#..#\n",
      " #.###\n",
      " ##...\n",
      " #..#.\n",
      " #.###\n"
     ]
    },
    {
     "name": "stdout",
     "output_type": "stream",
     "text": [
      "3\n"
     ]
    }
   ],
   "source": [
    "h, w, x, y = map(int, input().split())\n",
    "S = [ input() for _ in range(h) ]\n",
    "x-=1\n",
    "y-=1\n",
    "ans = 0\n",
    "m = 1\n",
    "while y+m<w and S[x][y+m]==\".\":\n",
    "    ans += 1\n",
    "    m += 1\n",
    "m = -1\n",
    "while y+m>=0 and S[x][y+m]==\".\":\n",
    "    ans += 1\n",
    "    m -= 1\n",
    "m = 1\n",
    "while x+m<h and S[x+m][y]==\".\":\n",
    "    ans += 1\n",
    "    m += 1\n",
    "m = -1\n",
    "while x+m>=0 and S[x+m][y]==\".\":\n",
    "    ans += 1\n",
    "    m -= 1\n",
    "print(ans+1)"
   ]
  },
  {
   "cell_type": "code",
   "execution_count": 33,
   "id": "754c0cfb-d20a-4912-a812-0ad116e313fc",
   "metadata": {
    "tags": []
   },
   "outputs": [
    {
     "name": "stdin",
     "output_type": "stream",
     "text": [
      " 4\n",
      " 1 3 3 1\n"
     ]
    },
    {
     "name": "stdout",
     "output_type": "stream",
     "text": [
      "0\n"
     ]
    }
   ],
   "source": [
    "#197 C bit全探索 どこで区切りを入れるかをbitで考える\n",
    "from functools import reduce\n",
    "\n",
    "def bit_or(elements):\n",
    "    return reduce(lambda x, y: x | y, elements)\n",
    "\n",
    "def bit_xor(elements):\n",
    "    return reduce(lambda x, y: x ^ y, elements)\n",
    "n = int(input())\n",
    "A = list(map(int, input().split()))\n",
    "ans = int(1e19)\n",
    "t = 0\n",
    "for i in range(1<<n-1):\n",
    "    tmpl = [A[0]]\n",
    "    tmpw = []\n",
    "    for j in range(n-1):\n",
    "        if 1<<j&i:\n",
    "            tmpl.append(A[j])\n",
    "            tmpw.append(bit_or(tmpl))\n",
    "            tmpl = []\n",
    "        else:\n",
    "            tmpl.append(A[j])\n",
    "    tmpl.append(A[-1])\n",
    "    tmpw.append(bit_or(tmpl))\n",
    "    ans = min(ans, bit_xor(tmpw))\n",
    "print(ans)"
   ]
  },
  {
   "cell_type": "code",
   "execution_count": 29,
   "id": "5dd1f745-af91-4ce2-a69e-14aca2daafe8",
   "metadata": {
    "tags": []
   },
   "outputs": [
    {
     "data": {
      "text/plain": [
       "1048576"
      ]
     },
     "execution_count": 29,
     "metadata": {},
     "output_type": "execute_result"
    }
   ],
   "source": [
    "# 197 D 幾何問題\n",
    "N = int(input())\n",
    "x0, y0 = map(int, input().split())\n",
    "x_, y_ = map(int, input().split())\n",
    "centx = (x0+x_)/2\n",
    "centy = (y0+y_)/2\n",
    "x0 -= centx\n",
    "y0 -= centy\n",
    "from math import sin, cos, pi\n",
    "x1 = cos(2*pi/N)*x0 - sin(2*pi/N)*y0\n",
    "y1 = sin(2*pi/N)*x0 + cos(2*pi/N)*y0\n",
    "x1 += centx\n",
    "y1 += centy\n",
    "print(x1, y1)"
   ]
  },
  {
   "cell_type": "code",
   "execution_count": 6,
   "id": "18ae8bb0-9c4a-4e72-8052-e861ea40ad07",
   "metadata": {},
   "outputs": [
    {
     "name": "stdin",
     "output_type": "stream",
     "text": [
      " hello2023\n"
     ]
    },
    {
     "name": "stdout",
     "output_type": "stream",
     "text": [
      "hello2024\n"
     ]
    }
   ],
   "source": [
    "s = input()\n",
    "ans = s[:len(s)-1] + str(4)\n",
    "print(ans)"
   ]
  },
  {
   "cell_type": "code",
   "execution_count": 13,
   "id": "e43dc364-8d8b-4853-a0ff-51288406239a",
   "metadata": {
    "tags": []
   },
   "outputs": [
    {
     "name": "stdin",
     "output_type": "stream",
     "text": [
      " 5 9\n",
      " 2 3\n"
     ]
    },
    {
     "name": "stdout",
     "output_type": "stream",
     "text": [
      "3 0\n"
     ]
    },
    {
     "name": "stdin",
     "output_type": "stream",
     "text": [
      " 1 U\n",
      " 2 3\n"
     ]
    },
    {
     "name": "stdout",
     "output_type": "stream",
     "text": [
      "2 0\n"
     ]
    },
    {
     "name": "stdin",
     "output_type": "stream",
     "text": [
      " 1 R\n",
      " 1 D\n",
      " 2 3\n"
     ]
    },
    {
     "name": "stdout",
     "output_type": "stream",
     "text": [
      "1 1\n"
     ]
    },
    {
     "name": "stdin",
     "output_type": "stream",
     "text": [
      " 1 L\n",
      " 2 1\n"
     ]
    },
    {
     "name": "stdout",
     "output_type": "stream",
     "text": [
      "1 0\n"
     ]
    },
    {
     "name": "stdin",
     "output_type": "stream",
     "text": [
      " 2 5\n"
     ]
    },
    {
     "name": "stdout",
     "output_type": "stream",
     "text": [
      "1 0\n"
     ]
    }
   ],
   "source": [
    "\n",
    "n, q = map(int, input().split())\n",
    "pos = []\n",
    "for i in reversed(range(1, n+1)):\n",
    "    pos.append([i, 0])\n",
    "for i in range(q):\n",
    "    q, c = map(str, input().split())\n",
    "    if q == \"1\":\n",
    "        if c == \"R\":\n",
    "            pos.append([pos[-1][0]+1, pos[-1][1]])\n",
    "        elif c == \"L\":\n",
    "            pos.append([pos[-1][0]-1, pos[-1][1]])\n",
    "        elif c == \"U\":\n",
    "            pos.append([pos[-1][0], pos[-1][1]+1])\n",
    "        else:\n",
    "            pos.append([pos[-1][0], pos[-1][1]-1])\n",
    "    elif q == \"2\":\n",
    "        print(str(pos[0-int(c)][0]) + \" \" + str(pos[0-int(c)][1]))\n",
    "        "
   ]
  },
  {
   "cell_type": "code",
   "execution_count": 24,
   "id": "05d4d1bd-cab9-4ce4-b409-cc2716d0a40d",
   "metadata": {
    "tags": []
   },
   "outputs": [
    {
     "name": "stdin",
     "output_type": "stream",
     "text": [
      " 7\n"
     ]
    },
    {
     "name": "stdout",
     "output_type": "stream",
     "text": [
      "1 2 3 4 5 6 7\n",
      "24 25 26 27 28 29 8\n",
      "23 40 41 42 43 30 9\n",
      "22 39 48 T 44 31 10\n",
      "21 38 47 46 45 32 11\n",
      "20 37 36 35 34 33 12\n",
      "19 18 17 16 15 14 13\n"
     ]
    }
   ],
   "source": [
    "# import numpy as np\n",
    "n = int(input())\n",
    "s = [[False]*n for _ in range(n)]\n",
    "# s = np.ndarray(s)\n",
    "x = 0\n",
    "y = 0\n",
    "t = 1\n",
    "move = \"y+\"\n",
    "s[int((n-1)/2)][int((n-1)/2)]=\"T\"\n",
    "while s[x][y]==False:\n",
    "    s[x][y] = t\n",
    "    t += 1\n",
    "    if move==\"y+\":\n",
    "        if y<=n-2 and not s[x][y+1]:\n",
    "            y+=1\n",
    "        else:\n",
    "            move = \"x+\"\n",
    "            x+=1\n",
    "    elif move==\"x+\":\n",
    "        if x<=n-2 and not s[x+1][y]:\n",
    "            x+=1\n",
    "        else:\n",
    "            move = \"y-\"\n",
    "            y-=1\n",
    "    elif move==\"y-\":\n",
    "        if y>=1 and not s[x][y-1]:\n",
    "            y-=1\n",
    "        else:\n",
    "            move = \"x-\"\n",
    "            x-=1  \n",
    "    elif move==\"x-\":\n",
    "        if x>=1 and not s[x-1][y]:\n",
    "            x-=1\n",
    "        else:\n",
    "            move = \"y+\"\n",
    "            y+=1   \n",
    "    else:\n",
    "        break\n",
    "for i in range(n):\n",
    "    print(*s[i])\n",
    "        "
   ]
  },
  {
   "cell_type": "code",
   "execution_count": 31,
   "id": "aab8aa88-7b49-4440-ae67-c881eabd54b8",
   "metadata": {
    "tags": []
   },
   "outputs": [
    {
     "name": "stdin",
     "output_type": "stream",
     "text": [
      " 5 6\n",
      " 10 20 30 40 50\n",
      " 1 2\n",
      " 1 3\n",
      " 2 5\n",
      " 3 4\n",
      " 3 5\n",
      " 4 5\n"
     ]
    },
    {
     "name": "stdout",
     "output_type": "stream",
     "text": [
      "0\n"
     ]
    }
   ],
   "source": [
    "from collections import deque\n",
    "\n",
    "n, m = map(int, input().split())\n",
    "A = list(map(int, input().split()))\n",
    "edges = [ list(map(int, input().split())) for _ in range(m) ] \n",
    "G1 = [list() for _ in range(n+1) ]\n",
    "G2 = [list() for _ in range(n+1) ]\n",
    "for a, b in edges:\n",
    "    if b>=a:\n",
    "        G1[a].append(b)\n",
    "        G2[b].append(a)\n",
    "    if a>=b:\n",
    "        G1[b].append(a)\n",
    "        G2[a].append(b)\n",
    "dist = [-1] * (n+1)\n",
    "dist[1] = 0\n",
    "q = deque()\n",
    "q.append(1)\n",
    "pre = [0]*(n+1)\n",
    "dic = {}\n",
    "while len(q)>0:\n",
    "    pos = q.popleft()\n",
    "    for nex in G1[pos]:\n",
    "        if dist[nex] == -1:\n",
    "            dist[nex] = dist[pos] + 1\n",
    "            q.append(nex)\n",
    "dist2 = [-1] * (n+1)\n",
    "dist2[dist.index(max(dist))]=0\n",
    "q.append(1)\n",
    "pre = [0]*(n+1)\n",
    "while len(q)>0:\n",
    "    pos = q.popleft()\n",
    "    dic[pos]=0\n",
    "    for nex in G2[pos]:\n",
    "        if dist2[nex] == -1:\n",
    "            dist2[nex] = dist2[pos] + 1\n",
    "            q.append(nex)\n",
    "print(max(dist2))\n",
    "            # print(\"Yes\")\n",
    "# for i in range(2, n+1):\n",
    "#     print(pre[i])  "
   ]
  },
  {
   "cell_type": "code",
   "execution_count": 4,
   "id": "8e031c25-1de7-4667-8a07-62897706c026",
   "metadata": {
    "tags": []
   },
   "outputs": [
    {
     "name": "stdin",
     "output_type": "stream",
     "text": [
      " 200000\n"
     ]
    },
    {
     "name": "stdout",
     "output_type": "stream",
     "text": [
      "400000008\n"
     ]
    }
   ],
   "source": [
    "from collections import defaultdict\n",
    "import math\n",
    "\n",
    "dic = defaultdict(lambda: 0)\n",
    "n = int(input())\n",
    "for i in range(1, n+1):\n",
    "    t = str(i)[0]\n",
    "    b = str(i)[-1]\n",
    "    if t=='0' or b=='0':\n",
    "        continue\n",
    "    dic[(t, b)] += 1\n",
    "    dic[(b, t)] += 0\n",
    "ans = 0\n",
    "for t, b in dic.keys():\n",
    "    if dic[(t, b)]==1:\n",
    "        if t==b:\n",
    "            ans += dic[(t, b)]\n",
    "        else:\n",
    "            ans += dic[(t, b)]*dic[(b, t)]\n",
    "    else:\n",
    "        if t==b:\n",
    "            ans += math.comb(dic[(t, b)], 2)*2\n",
    "            ans += dic[(t, b)]\n",
    "        else:\n",
    "            ans += dic[(t, b)]*dic[(b, t)]\n",
    "\n",
    "print(ans)"
   ]
  },
  {
   "cell_type": "code",
   "execution_count": 14,
   "id": "2bcebdc9-d025-4557-8e87-9a68fd45b049",
   "metadata": {
    "tags": []
   },
   "outputs": [
    {
     "name": "stdin",
     "output_type": "stream",
     "text": [
      " 10 10 10\n"
     ]
    },
    {
     "name": "stdout",
     "output_type": "stream",
     "text": [
      "['#', '#', '.', '.', '.', '.', '.', '.', '.', '.'] ['#', '#', '.', '.', '.', '.', '.', '.', '.', '.'] ['.', '.', '.', '.', '.', '.', '.', '.', '.', '.'] ['.', '.', '.', '.', '.', '.', '.', '.', '.', '.'] ['.', '.', '.', '.', '.', '.', '.', '.', '.', '.'] ['.', '.', '.', '.', '.', '.', '.', '.', '.', '.'] ['.', '.', '.', '.', '.', '.', '.', '.', '.', '.'] ['.', '.', '.', '.', '.', '.', '.', '.', '.', '.'] ['.', '.', '.', '.', '.', '.', '.', '.', '.', '.'] ['#', '.', '.', '.', '.', '.', '.', '.', '.', '#']\n"
     ]
    }
   ],
   "source": [
    "h,w,n = map(int, input().split())\n",
    "S = [ [\".\"]*w for _ in range(h)]\n",
    "pos = [0, 0]\n",
    "d = \"u\"\n",
    "for i in range(n):\n",
    "    hn = pos[0]\n",
    "    wn = pos[1]\n",
    "    if S[hn][wn]==\".\":\n",
    "        S[hn][wn]=\"#\"\n",
    "        if d==\"u\":\n",
    "            d=\"r\"\n",
    "            pos[1]+=1\n",
    "        elif d==\"r\":\n",
    "            d=\"d\"\n",
    "            pos[0]+=1\n",
    "        elif d==\"d\":\n",
    "            d=\"l\"\n",
    "            pos[1]-=1\n",
    "        elif d==\"l\":\n",
    "            d=\"u\"\n",
    "            pos[0]-=1\n",
    "    else:\n",
    "        S[hn][wn]=\".\"\n",
    "        if d==\"u\":\n",
    "            d=\"l\"\n",
    "            pos[1]-=1\n",
    "        elif d==\"r\":\n",
    "            d=\"u\"\n",
    "            pos[0]-=1\n",
    "        elif d==\"d\":\n",
    "            d=\"r\"\n",
    "            pos[1]+=1\n",
    "        elif d==\"l\":\n",
    "            d=\"d\"\n",
    "            pos[0]+=1\n",
    "    if pos[0]>=h:\n",
    "        pos[0]=0\n",
    "    if pos[0]<0:\n",
    "        pos[0]=h-1\n",
    "    if pos[1]>=w:\n",
    "        pos[1]=0\n",
    "    if pos[1]<0:\n",
    "        pos[1]=w-1\n",
    "for i in range(h):\n",
    "    print(\"\".join(map(str, S[i])))"
   ]
  },
  {
   "cell_type": "code",
   "execution_count": 22,
   "id": "172c2a14-b820-4c7b-94b2-6ef96fd68426",
   "metadata": {},
   "outputs": [
    {
     "name": "stdin",
     "output_type": "stream",
     "text": [
      " 4\n",
      " -1 1000000000 1000000000 1000000000\n"
     ]
    },
    {
     "name": "stdout",
     "output_type": "stream",
     "text": [
      "3000000000\n"
     ]
    }
   ],
   "source": [
    "n = int(input())\n",
    "A = list(map(int, input().split()))\n",
    "now = 0\n",
    "ans = 0\n",
    "for i in range(n):\n",
    "    now += A[i]\n",
    "    ans = min(ans, now)\n",
    "ans = abs(ans)+sum(A)\n",
    "print(abs(ans))"
   ]
  },
  {
   "cell_type": "code",
   "execution_count": 41,
   "id": "883f9233-148e-45af-8852-a8c82dd32e95",
   "metadata": {
    "tags": []
   },
   "outputs": [
    {
     "name": "stdin",
     "output_type": "stream",
     "text": [
      " 5\n",
      " ....#\n",
      " #..#.\n",
      " .P...\n",
      " ..P..\n",
      " ....#\n"
     ]
    },
    {
     "name": "stdout",
     "output_type": "stream",
     "text": [
      "2\n"
     ]
    }
   ],
   "source": [
    "from collections import deque\n",
    "\n",
    "n = int(input())\n",
    "# r, c = map(int, input().split())\n",
    "# sx, sy = map(int, input().split())\n",
    "# gx, gy = map(int, input().split())\n",
    "S = [list(input()) for _ in range(n)]\n",
    "\n",
    "# for i in range(r):\n",
    "#     maze[i].insert(0, \"#\")\n",
    "#     maze[i].append(\"#\")\n",
    "# kabe = [\"#\"]*(c+2)\n",
    "# maze.insert(0, kabe)\n",
    "# maze.append(kabe)\n",
    "que = deque()\n",
    "# s_cand = []\n",
    "flag = False\n",
    "for i in range(n):\n",
    "    for j in range(n):\n",
    "        if S[i][j]==\"P\":\n",
    "            if not flag:\n",
    "                start = [i, j]\n",
    "                S[i][j] = \".\"\n",
    "                flag = True\n",
    "            else:\n",
    "                goal = [i, j]\n",
    "                S[i][j]=\".\"\n",
    "                break\n",
    "ans = 0\n",
    "dist = [[-1]*(n) for _ in range(n)]\n",
    "dist[start[0]][start[1]]=0\n",
    "dist2 = [[-1]*(n) for _ in range(n)]\n",
    "dist2[start[0]][start[1]]=0\n",
    "que.append((start[0], start[1]))\n",
    "# for item in s_cand:\n",
    "#     que.append([item[0], item[1]])\n",
    "#     dist = [ [-1]*(c+2) for _ in range(r+2)]\n",
    "#     dist[item[0]][item[1]]=0\n",
    "# # for i in range(r):\n",
    "#     for j in range(c):\n",
    "#         pos = maze[i][j]\n",
    "#         if pos==\".\":\n",
    "#             G[i, j].append([i-1, j]); G.append\n",
    "\n",
    "while len(que)>0:\n",
    "    pos = que.popleft()\n",
    "    [a, b] = pos\n",
    "    if b-1>=0 and S[a][b-1]==\".\" and dist[a][b-1]==-1:\n",
    "        que.append([a, b-1])\n",
    "        dist[a][b-1] = dist[a][b]+1\n",
    "    if a<=n-2 and S[a+1][b]==\".\" and dist[a+1][b]==-1:\n",
    "        que.append([a+1, b])\n",
    "        dist[a+1][b] = dist[a][b]+1\n",
    "    if a-1>=0 and S[a-1][b]==\".\" and dist[a-1][b]==-1:\n",
    "        que.append([a-1, b])\n",
    "        dist[a-1][b] = dist[a][b]+1\n",
    "    if b<=n-2 and S[a][b+1]==\".\" and dist[a][b+1]==-1:\n",
    "        que.append([a, b+1])\n",
    "        dist[a][b+1] = dist[a][b]+1\n",
    "que.append((goal[0], goal[1]))\n",
    "while len(que)>0:\n",
    "    pos = que.popleft()\n",
    "    [a, b] = pos\n",
    "    if b-1>=0 and S[a][b-1]==\".\" and dist2[a][b-1]==-1:\n",
    "        que.append([a, b-1])\n",
    "        dist2[a][b-1] = dist[a][b]+1\n",
    "    if a<=n-2 and S[a+1][b]==\".\" and dist2[a+1][b]==-1:\n",
    "        que.append([a+1, b])\n",
    "        dist2[a+1][b] = dist[a][b]+1\n",
    "    if a-1>=0 and S[a-1][b]==\".\" and dist2[a-1][b]==-1:\n",
    "        que.append([a-1, b])\n",
    "        dist2[a-1][b] = dist[a][b]+1\n",
    "    if b<=n-2 and S[a][b+1]==\".\" and dist2[a][b+1]==-1:\n",
    "        que.append([a, b+1])\n",
    "        dist2[a][b+1] = dist[a][b]+1        \n",
    "\n",
    "for i in range(n):\n",
    "    for j in range(n):\n",
    "        if i==0:\n",
    "            \n",
    "            "
   ]
  },
  {
   "cell_type": "code",
   "execution_count": 42,
   "id": "2972a6eb-eb55-48f1-b753-80ab45be4567",
   "metadata": {
    "tags": []
   },
   "outputs": [
    {
     "name": "stdin",
     "output_type": "stream",
     "text": [
      " 13 16 9\n",
      " ULURDLURD\n",
      " ################\n",
      " ##..##.#..####.#\n",
      " ###.#..#.....#.#\n",
      " #..##..#####.###\n",
      " #...#..#......##\n",
      " ###.##.#..#....#\n",
      " ##.#####....##.#\n",
      " ###.###.#.#.#..#\n",
      " ######.....##..#\n",
      " #...#.#.######.#\n",
      " ##..###..#..#.##\n",
      " #...#.#.#...#..#\n",
      " ################\n"
     ]
    },
    {
     "name": "stdout",
     "output_type": "stream",
     "text": [
      "6\n"
     ]
    }
   ],
   "source": [
    "H, W, N = map(int, input().split())\n",
    "T = input()\n",
    "S = [ list(input()) for _ in range(H) ]\n",
    "x, y = 0, 0\n",
    "now = [0, 0]\n",
    "dic = {}\n",
    "for i in range(N):\n",
    "    if T[i]==\"L\":\n",
    "        x -= 1\n",
    "        now[1]-=1\n",
    "        dic[tuple(now)]=0\n",
    "    if T[i]==\"R\":\n",
    "        x += 1\n",
    "        now[1]+=1\n",
    "        dic[tuple(now)]=0\n",
    "    if T[i]==\"U\":\n",
    "        y -= 1\n",
    "        now[0]-=1\n",
    "        dic[tuple(now)]=0\n",
    "    if T[i]==\"D\":\n",
    "        y += 1\n",
    "        now[0]+=1\n",
    "        dic[tuple(now)]=0\n",
    "ans = 0\n",
    "for h in range(1, H-1):\n",
    "    for w in range(1, W-1):\n",
    "        flag = True\n",
    "        if S[h][w]==\"#\":\n",
    "            flag = False\n",
    "        for key in dic.keys():\n",
    "            p, q = key[1], key[0]\n",
    "            if S[h+q][w+p]==\"#\":\n",
    "                flag = False\n",
    "                break\n",
    "        if flag:\n",
    "            ans += 1\n",
    "print(ans)"
   ]
  },
  {
   "cell_type": "code",
   "execution_count": 23,
   "id": "1bc59bc9-860e-4716-ae92-e05e37005e0c",
   "metadata": {
    "tags": []
   },
   "outputs": [
    {
     "name": "stdin",
     "output_type": "stream",
     "text": [
      " 100000000 99999999 10000000000\n"
     ]
    },
    {
     "name": "stdout",
     "output_type": "stream",
     "text": [
      "500000005000000000\n"
     ]
    }
   ],
   "source": [
    "import heapq\n",
    "def divisors(n):\n",
    "    div = {}\n",
    "    i = 1\n",
    "    while i*i <= n:\n",
    "        if n % i == 0:\n",
    "            div[i]=0\n",
    "        i += 1\n",
    "    return div\n",
    "n, m, k = map(int, input().split())\n",
    "mn = n*m\n",
    "t = (mn-n)//n\n",
    "s = (mn-n)//m\n",
    "val = t+s\n",
    "a = k//val*mn\n",
    "mod = k%val\n",
    "if mod==0:\n",
    "    ans = a+n\n",
    "else:\n",
    "    nown = n\n",
    "    nowm = m\n",
    "    q = 1\n",
    "    while q != mod:\n",
    "        if nown<nowm:\n",
    "            nown+=n\n",
    "            q+=1\n",
    "        else:\n",
    "            nowm+=m\n",
    "            q+=1\n",
    "    ans = min(nown, nowm)+a\n",
    "print(ans)"
   ]
  },
  {
   "cell_type": "code",
   "execution_count": 29,
   "id": "406d72ac-4e49-4a24-b15a-cf416da9eec6",
   "metadata": {
    "tags": []
   },
   "outputs": [
    {
     "name": "stdin",
     "output_type": "stream",
     "text": [
      " 100000000 99999999 10000000000\n"
     ]
    },
    {
     "name": "stdout",
     "output_type": "stream",
     "text": [
      "500000002500000000\n"
     ]
    }
   ],
   "source": [
    "## 341 D\n",
    "import math\n",
    "n, m, k = map(int, input().split())\n",
    "l = 0\n",
    "r = int(1e18)\n",
    "x = (n*m)/math.gcd(n, m)\n",
    "while r-l>=2:\n",
    "    mid = (l+r)//2\n",
    "    y = mid//n + mid//m-2*(mid//x)\n",
    "    if y<k:\n",
    "        l = mid\n",
    "    else:\n",
    "        r = mid\n",
    "print(r)   "
   ]
  },
  {
   "cell_type": "code",
   "execution_count": 1,
   "id": "be9de2f3-8b99-4c1f-ab57-1f601c641b29",
   "metadata": {},
   "outputs": [
    {
     "name": "stdin",
     "output_type": "stream",
     "text": [
      " 3\n",
      " Everest 8849\n",
      " K2 8611\n",
      " Kanghenjunga 8586\n"
     ]
    },
    {
     "name": "stdout",
     "output_type": "stream",
     "text": [
      "K2\n"
     ]
    }
   ],
   "source": [
    "n = int(input())\n",
    "M = []\n",
    "for i in range(n):\n",
    "    s, t = map(str, input().split())\n",
    "    M.append((int(t), s))\n",
    "M.sort(key=lambda x: x[0])\n",
    "print(M[-2][1])"
   ]
  },
  {
   "cell_type": "code",
   "execution_count": 12,
   "id": "756fd469-078e-40e6-ba9d-a8b4d0087ed3",
   "metadata": {
    "tags": []
   },
   "outputs": [
    {
     "name": "stdin",
     "output_type": "stream",
     "text": [
      " ??xx?o?o?x\n"
     ]
    },
    {
     "ename": "NameError",
     "evalue": "name 'q' is not defined",
     "output_type": "error",
     "traceback": [
      "\u001b[1;31m---------------------------------------------------------------------------\u001b[0m",
      "\u001b[1;31mNameError\u001b[0m                                 Traceback (most recent call last)",
      "Cell \u001b[1;32mIn[12], line 25\u001b[0m\n\u001b[0;32m     23\u001b[0m     \u001b[38;5;28;01mif\u001b[39;00m Q\u001b[38;5;241m==\u001b[39m\u001b[38;5;241m0\u001b[39m:\n\u001b[0;32m     24\u001b[0m         ans \u001b[38;5;241m=\u001b[39m \u001b[38;5;241m8\u001b[39m\n\u001b[1;32m---> 25\u001b[0m     \u001b[38;5;28;01melif\u001b[39;00m q\u001b[38;5;241m>\u001b[39m\u001b[38;5;241m=\u001b[39m\u001b[38;5;241m1\u001b[39m:\n\u001b[0;32m     26\u001b[0m         ans \u001b[38;5;241m=\u001b[39m Q\u001b[38;5;241m*\u001b[39m\u001b[38;5;241m*\u001b[39m\u001b[38;5;241m2\u001b[39m\u001b[38;5;241m*\u001b[39m\u001b[38;5;241m12\u001b[39m\u001b[38;5;241m+\u001b[39mQ\u001b[38;5;241m*\u001b[39m\u001b[38;5;241m24\u001b[39m\u001b[38;5;241m+\u001b[39m\u001b[38;5;241m14\u001b[39m\n\u001b[0;32m     27\u001b[0m \u001b[38;5;28;01melif\u001b[39;00m O\u001b[38;5;241m==\u001b[39m\u001b[38;5;241m3\u001b[39m:\n",
      "\u001b[1;31mNameError\u001b[0m: name 'q' is not defined"
     ]
    }
   ],
   "source": [
    "s = input()\n",
    "O = 0\n",
    "Q = 0\n",
    "for i in range(10):\n",
    "    if s[i]==\"o\":\n",
    "        O += 1\n",
    "    elif s[i]==\"?\":\n",
    "        Q += 1\n",
    "ans = 0\n",
    "if O==0:\n",
    "    if Q==0:\n",
    "        ans = 0\n",
    "    elif Q==1:\n",
    "        ans = 1\n",
    "    elif Q>=2:\n",
    "        ans = Q**4\n",
    "elif O==1:\n",
    "    if Q==0:\n",
    "        ans = 1\n",
    "    elif Q>=1:\n",
    "        ans = Q**3*4+Q**2*6+Q*4+1\n",
    "elif O==2:\n",
    "    if Q==0:\n",
    "        ans = 8\n",
    "    elif Q>=1:\n",
    "        ans = Q**2*12+Q*24+14\n",
    "elif O==3:\n",
    "    if Q==0:\n",
    "        ans = 81\n",
    "    elif Q>=1:\n",
    "        ans = 6*4*Q+4*3*6//2\n",
    "elif O==4:\n",
    "    ans = 24\n",
    "else:\n",
    "    ans = 0\n",
    "print(int(ans))"
   ]
  },
  {
   "cell_type": "code",
   "execution_count": 2,
   "id": "0700aede-f8b7-40d6-a708-a5c858a1cac1",
   "metadata": {
    "tags": []
   },
   "outputs": [
    {
     "name": "stdin",
     "output_type": "stream",
     "text": [
      " 3 4 5\n"
     ]
    },
    {
     "name": "stdout",
     "output_type": "stream",
     "text": [
      "9\n"
     ]
    }
   ],
   "source": [
    "sm = sum(map(int, input().split()))\n",
    "print(21-sm)"
   ]
  },
  {
   "cell_type": "code",
   "execution_count": 42,
   "id": "3154cc50-409a-46a2-bbcc-4044d2c53a60",
   "metadata": {
    "tags": []
   },
   "outputs": [
    {
     "name": "stdin",
     "output_type": "stream",
     "text": [
      " 5\n",
      " 0 3 2 8 12\n"
     ]
    },
    {
     "name": "stdout",
     "output_type": "stream",
     "text": [
      "0\n"
     ]
    }
   ],
   "source": [
    "from collections import defaultdict\n",
    "dic = defaultdict(lambda: 0)\n",
    "for i in range(10000):\n",
    "    dic[int(i**2)]=1\n",
    "n = int(input())\n",
    "dic2 = defaultdict(lambda: 0)\n",
    "A = list(map(int, input().split()))\n",
    "cnt = 0\n",
    "for i in range(n):\n",
    "    if dic[A[i]]==1:\n",
    "        cnt += 1\n",
    "print(cnt*(cnt-1)//2)"
   ]
  },
  {
   "cell_type": "markdown",
   "id": "f7258803-e39f-45fd-a714-32611205a612",
   "metadata": {},
   "source": [
    "mod"
   ]
  },
  {
   "cell_type": "code",
   "execution_count": 8,
   "id": "2a2a891f-7067-4222-a3ba-e9a32ff72532",
   "metadata": {
    "tags": []
   },
   "outputs": [
    {
     "name": "stdin",
     "output_type": "stream",
     "text": [
      " 3\n",
      " 2 3 3\n",
      " 1 3 3\n",
      " 1 1 1\n"
     ]
    },
    {
     "name": "stdout",
     "output_type": "stream",
     "text": [
      "0\n"
     ]
    }
   ],
   "source": [
    "from collections import defaultdict\n",
    "n = int(input())\n",
    "A = list(map(int, input().split()))\n",
    "B = list(map(int, input().split()))\n",
    "C = list(map(int, input().split()))\n",
    "dic = defaultdict(lambda: 0)\n",
    "dic2 = defaultdict(lambda: 0)\n",
    "for i in range(n):\n",
    "    dic[B[C[i]-1]]+=1\n",
    "for i in range(n):\n",
    "    dic2[A[i]]+=1\n",
    "ans = 0\n",
    "for key in dic2.keys():\n",
    "    ans += dic2[key]*dic[key]\n",
    "print(ans)"
   ]
  },
  {
   "cell_type": "code",
   "execution_count": 4,
   "id": "2818ad31-49a8-4384-a6cc-cf5ef2b77d66",
   "metadata": {},
   "outputs": [
    {
     "name": "stdin",
     "output_type": "stream",
     "text": [
      " ||xyz\n"
     ]
    },
    {
     "name": "stdout",
     "output_type": "stream",
     "text": [
      "xyz\n"
     ]
    }
   ],
   "source": [
    "s = input()\n",
    "flag = True\n",
    "ans = \"\"\n",
    "for i in range(len(s)):\n",
    "    if s[i]==\"|\":\n",
    "        flag = not flag\n",
    "    if flag and s[i]!=\"|\":\n",
    "        ans += s[i]\n",
    "print(ans)"
   ]
  },
  {
   "cell_type": "code",
   "execution_count": 17,
   "id": "d81b12e0-17e7-4778-a7a3-8a75957d970e",
   "metadata": {},
   "outputs": [
    {
     "name": "stdin",
     "output_type": "stream",
     "text": [
      " 3\n",
      " 2\n",
      " 1\n",
      " 0\n"
     ]
    },
    {
     "name": "stdout",
     "output_type": "stream",
     "text": [
      "0\n",
      "1\n",
      "2\n",
      "3\n"
     ]
    }
   ],
   "source": [
    "ans = []\n",
    "flag = True\n",
    "a = int(input())\n",
    "while flag:\n",
    "    ans.append(a)\n",
    "    if a==0:\n",
    "        flag = False\n",
    "    else:\n",
    "        a = int(input())\n",
    "        if a==0:\n",
    "            ans.append(0)\n",
    "            flag = False\n",
    "ans = reversed(ans)\n",
    "print('\\n'.join(map(str, ans)))"
   ]
  },
  {
   "cell_type": "code",
   "execution_count": 26,
   "id": "a2c939a5-3f80-4332-8ec8-efa22dce2216",
   "metadata": {
    "tags": []
   },
   "outputs": [
    {
     "name": "stdin",
     "output_type": "stream",
     "text": [
      " 3\n",
      " 1 2 3\n",
      " 2\n",
      " 2 4\n",
      " 6\n",
      " 1 2 4 8 16 32\n",
      " 4\n",
      " 1 5 10 50\n"
     ]
    },
    {
     "name": "stdout",
     "output_type": "stream",
     "text": [
      "No\n",
      "Yes\n",
      "Yes\n",
      "No\n"
     ]
    }
   ],
   "source": [
    "from collections import defaultdict\n",
    "n = int(input())\n",
    "A = list(map(int, input().split()))\n",
    "m = int(input())\n",
    "B = list(map(int, input().split()))\n",
    "l = int(input())\n",
    "C = list(map(int, input().split()))\n",
    "q = int(input())\n",
    "X = list(map(int, input().split()))\n",
    "dic = defaultdict(lambda: False)\n",
    "# for i in range(q):\n",
    "#     dic[X[i]]=True\n",
    "ans = []\n",
    "for i in range(n):\n",
    "    tmp1 = A[i]\n",
    "    for j in range(m):\n",
    "        tmp2 = tmp1 + B[j]\n",
    "        for k in range(l):\n",
    "            tmp3 = tmp2 + C[k]\n",
    "            dic[tmp3]=True\n",
    "\n",
    "for i in range(q):\n",
    "    if dic[X[i]]:\n",
    "        print(\"Yes\")\n",
    "    else:\n",
    "        print(\"No\")"
   ]
  },
  {
   "cell_type": "code",
   "execution_count": 92,
   "id": "6426b99d-39e6-41f8-b013-d6e855bc9490",
   "metadata": {
    "tags": []
   },
   "outputs": [
    {
     "name": "stdin",
     "output_type": "stream",
     "text": [
      " a\n",
      " 1\n",
      " 1 a\n"
     ]
    },
    {
     "name": "stdout",
     "output_type": "stream",
     "text": [
      "1\n"
     ]
    }
   ],
   "source": [
    "T = input()\n",
    "N = int(input())\n",
    "A = [ list(map(str, input().split())) for _ in range(N) ]\n",
    "an = []\n",
    "# for i in range(N):\n",
    "#     an.append(int(A[i][0]))\n",
    "#     del A[i][0]\n",
    "inf = int(1e18)\n",
    "dp = [ [inf]* (len(T)+1) for _ in range(N+1) ]\n",
    "for i in range(N+1):\n",
    "    dp[i][0]=0\n",
    "for i in range(1, N+1):\n",
    "    for k in range(1, int(A[i-1][0])+1):\n",
    "        l = len(A[i-1][k])\n",
    "        if A[i-1][k]==T[:l]:\n",
    "            dp[i][l]=1\n",
    "        for j in range(1, len(T)+1):\n",
    "            if j-l>=0 and T[j-l:j]==A[i-1][k]:\n",
    "                dp[i][j]=min(dp[i-1][j], dp[i-1][j-l]+1, dp[i][j])\n",
    "            else:\n",
    "                dp[i][j]=min(dp[i-1][j], dp[i][j])\n",
    "if dp[N][len(T)]!=inf:\n",
    "    print(dp[N][len(T)])\n",
    "else:\n",
    "    print(\"-1\")"
   ]
  },
  {
   "cell_type": "code",
   "execution_count": 17,
   "id": "9cf12682-987a-422f-8123-093102d1297e",
   "metadata": {},
   "outputs": [
    {
     "name": "stdin",
     "output_type": "stream",
     "text": [
      " 10\n",
      " 1 2\n",
      " 1 3\n",
      " 2 4\n",
      " 4 5\n",
      " 4 6\n",
      " 3 7\n",
      " 7 8\n",
      " 8 9\n",
      " 8 10\n"
     ]
    },
    {
     "name": "stdout",
     "output_type": "stream",
     "text": [
      "8\n"
     ]
    }
   ],
   "source": [
    "from collections import deque\n",
    "\n",
    "N = int(input())\n",
    "edges = []\n",
    "G = [ list() for _ in range(N) ]\n",
    "for i in range(N-1):\n",
    "    a, b = map(int, input().split())\n",
    "    a-=1\n",
    "    b-=1\n",
    "    G[a].append(b)\n",
    "    G[b].append(a)\n",
    "def bfs(x):\n",
    "    dist = [-1]*N\n",
    "    que = deque()\n",
    "    dist[x]=0\n",
    "    que.append(x)\n",
    "    while len(que)>0:\n",
    "        pos = que.popleft()\n",
    "        for nex in G[pos]:\n",
    "            if dist[nex]==-1:\n",
    "                dist[nex] = dist[pos]+1\n",
    "                que.append(nex)\n",
    "    return dist\n",
    "d1 = bfs(0)\n",
    "tmp = 0\n",
    "c = 0\n",
    "for i in range(N):\n",
    "    if d1[i]>tmp:\n",
    "        tmp = d1[i]\n",
    "        c = i\n",
    "d2 = bfs(c)\n",
    "print(max(d2)+1)"
   ]
  },
  {
   "cell_type": "markdown",
   "id": "8e1ba87f-80ee-42e1-b472-46bd37959ca6",
   "metadata": {
    "tags": []
   },
   "source": [
    "# l"
   ]
  },
  {
   "cell_type": "code",
   "execution_count": 12,
   "id": "a48d9e6c-80a3-4a42-ba1f-3dff3662e220",
   "metadata": {
    "tags": []
   },
   "outputs": [
    {
     "data": {
      "text/plain": [
       "2"
      ]
     },
     "execution_count": 12,
     "metadata": {},
     "output_type": "execute_result"
    }
   ],
   "source": [
    "from collections import deque\n",
    "\n",
    "que = deque()\n",
    "que.append(2)\n",
    "que.append(3)\n",
    "b = que.popleft()\n",
    "b"
   ]
  },
  {
   "cell_type": "code",
   "execution_count": null,
   "id": "efbf8142-d241-4d72-905b-c0f7871169c6",
   "metadata": {},
   "outputs": [],
   "source": []
  }
 ],
 "metadata": {
  "kernelspec": {
   "display_name": "Python 3 (ipykernel)",
   "language": "python",
   "name": "python3"
  },
  "language_info": {
   "codemirror_mode": {
    "name": "ipython",
    "version": 3
   },
   "file_extension": ".py",
   "mimetype": "text/x-python",
   "name": "python",
   "nbconvert_exporter": "python",
   "pygments_lexer": "ipython3",
   "version": "3.11.4"
  }
 },
 "nbformat": 4,
 "nbformat_minor": 5
}
