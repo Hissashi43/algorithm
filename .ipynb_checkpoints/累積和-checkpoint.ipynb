{
 "cells": [
  {
   "cell_type": "code",
   "execution_count": 3,
   "id": "fe907df4-964f-49dc-8a12-0eaaa53d17d9",
   "metadata": {
    "tags": []
   },
   "outputs": [
    {
     "data": {
      "text/plain": [
       "[1, 3, 6, 10, 15, 21, 28, 36]"
      ]
     },
     "execution_count": 3,
     "metadata": {},
     "output_type": "execute_result"
    }
   ],
   "source": [
    "from itertools import accumulate\n",
    "import numpy as np\n"
   ]
  },
  {
   "cell_type": "code",
   "execution_count": 4,
   "id": "c116c48d-9282-491d-821c-ca122f7a5fd7",
   "metadata": {
    "tags": []
   },
   "outputs": [
    {
     "data": {
      "text/plain": [
       "[2, 7, 39, 45, 51, 54, 121]"
      ]
     },
     "execution_count": 4,
     "metadata": {},
     "output_type": "execute_result"
    }
   ],
   "source": [
    "# A08 二次元累積和\n",
    "from itertools import accumulate\n",
    "H, W = map(int, input().split())\n",
    "X = [ list(map(int, input().split())) for _ in range(H) ]\n",
    "Xsum = [ list(accumulate(X[i])) for i in range(H) ]\n",
    "for i in range(W):\n",
    "    for j in range(1, H):\n",
    "        Xsum[j][i] += Xsum[j-1][i]\n",
    "def solve(a, b, c, d):\n",
    "    if a!=0 and b!=0:\n",
    "        return Xsum[c][d]-Xsum[a-1][d]-Xsum[c][b-1]+Xsum[a-1][b-1]\n",
    "    elif a==0 and b!=0:\n",
    "        return Xsum[c][d]-Xsum[c][b-1]\n",
    "    elif a!=0 and b==0:\n",
    "        return Xsum[c][d]-Xsum[a-1][d]\n",
    "    else:\n",
    "        return Xsum[c][d]\n",
    "q = int(input())\n",
    "for i in range(q):\n",
    "    a, b, c, d = map(int, input().split())\n",
    "    a -= 1\n",
    "    b -= 1\n",
    "    c -= 1\n",
    "    d -= 1\n",
    "    print(solve(a, b, c, d))"
   ]
  },
  {
   "cell_type": "code",
   "execution_count": 15,
   "id": "5d2eb95f-79b3-4d4e-a5a0-1b6200073422",
   "metadata": {
    "tags": []
   },
   "outputs": [
    {
     "name": "stdin",
     "output_type": "stream",
     "text": [
      " 5\n",
      " 1 3\n",
      " 2 5\n",
      " 3 4\n",
      " 2 6\n",
      " 3 3\n",
      " 3\n",
      " 1 3 3 6\n"
     ]
    },
    {
     "name": "stdout",
     "output_type": "stream",
     "text": [
      "5\n"
     ]
    },
    {
     "name": "stdin",
     "output_type": "stream",
     "text": [
      " 1 5 2 6\n"
     ]
    },
    {
     "name": "stdout",
     "output_type": "stream",
     "text": [
      "2\n"
     ]
    },
    {
     "name": "stdin",
     "output_type": "stream",
     "text": [
      " 1 3 3 5\n"
     ]
    },
    {
     "name": "stdout",
     "output_type": "stream",
     "text": [
      "4\n"
     ]
    }
   ],
   "source": [
    "# B08 二次元累積和\n",
    "from itertools import accumulate\n",
    "n = int(input())\n",
    "Z = [ [0]*1500 for _ in range(1500) ]\n",
    "for i in range(n):\n",
    "    x, y = map(int, input().split())\n",
    "    Z[y-1][x-1]+=1\n",
    "Zsum = [ list(accumulate(Z[i])) for i in range(1500)]\n",
    "for i in range(1500):\n",
    "    for j in range(1, 1500):\n",
    "        Zsum[j][i] += Zsum[j-1][i]\n",
    "def solve(a, b, c, d):\n",
    "    if a!=0 and b!=0:\n",
    "        return Zsum[d][c]-Zsum[b-1][c]-Zsum[d][a-1]+Zsum[b-1][a-1]\n",
    "    elif a!=0 and b==0:\n",
    "        return Zsum[d][c]-Zsum[d][a-1]\n",
    "    elif a==0 and b!=0:\n",
    "        return Zsum[d][c]-Zsum[b-1][c]\n",
    "    else:\n",
    "        return Zsum[d][c]\n",
    "q = int(input())\n",
    "for i in range(q):\n",
    "    a, b, c, d = map(int, input().split())\n",
    "    a -= 1\n",
    "    b -= 1\n",
    "    c -= 1\n",
    "    d -= 1\n",
    "    print(solve(a, b, c, d))"
   ]
  },
  {
   "cell_type": "code",
   "execution_count": 10,
   "id": "ed11efe5-961d-4b5f-bab1-f4fd7fdd3921",
   "metadata": {
    "tags": []
   },
   "outputs": [
    {
     "name": "stdin",
     "output_type": "stream",
     "text": [
      " 5 5 2\n",
      " 1 1 3 3\n",
      " 2 2 4 4\n"
     ]
    },
    {
     "name": "stdout",
     "output_type": "stream",
     "text": [
      "1 1 1 0 0\n",
      "1 2 2 1 0\n",
      "1 2 2 1 0\n",
      "0 1 1 1 0\n",
      "0 0 0 0 0\n"
     ]
    }
   ],
   "source": [
    "# A09　二次元累積和の差分計算\n",
    "H, W, N = map(int, input().split())\n",
    "ALGO = [ [0]*W for _ in range(H) ]\n",
    "for i in range(N):\n",
    "    a, b, c, d = map(int, input().split())\n",
    "    ALGO[a-1][b-1] += 1\n",
    "    if c<H:\n",
    "        ALGO[c][b-1] -= 1\n",
    "    if d<W:\n",
    "        ALGO[a-1][d] -= 1\n",
    "    if c<H and d<W:\n",
    "        ALGO[c][d] += 1\n",
    "for i in range(H):\n",
    "    nowh = 0\n",
    "    for j in range(W):\n",
    "        nowh += ALGO[i][j]\n",
    "        ALGO[i][j] = nowh\n",
    "for i in range(W):\n",
    "    noww = 0\n",
    "    for j in range(H):\n",
    "        noww += ALGO[j][i]\n",
    "        ALGO[j][i] = noww\n",
    "for i in range(H):\n",
    "    print(*ALGO[i])"
   ]
  },
  {
   "cell_type": "code",
   "execution_count": 24,
   "id": "45bb2a81-9a25-4198-8eb2-a52ac7827fa7",
   "metadata": {},
   "outputs": [
    {
     "name": "stdin",
     "output_type": "stream",
     "text": [
      " 2\n",
      " 1 1 3 3\n",
      " 2 2 4 4\n"
     ]
    },
    {
     "name": "stdout",
     "output_type": "stream",
     "text": [
      "7\n"
     ]
    }
   ],
   "source": [
    "# B09 二次元累積和の差分計算\n",
    "N = int(input())\n",
    "A = [ [0]*1501 for _ in range(1501) ]\n",
    "for i in range(N):\n",
    "    a, b, c, d = map(int, input().split())\n",
    "    A[a][b] += 1\n",
    "    A[c][b] -= 1\n",
    "    A[a][d] -= 1\n",
    "    A[c][d] += 1\n",
    "for i in range(1501):\n",
    "    nowh = 0\n",
    "    \n",
    "    for j in range(1501):\n",
    "        nowh += A[i][j]\n",
    "        A[i][j] = nowh\n",
    "for i in range(1501):\n",
    "    noww = 0\n",
    "    for j in range(1501):\n",
    "        noww += A[j][i]\n",
    "        A[j][i] = noww\n",
    "ans = 0\n",
    "for i in range(1501):\n",
    "    for j in range(1501):\n",
    "        if A[i][j]>0:\n",
    "            ans += 1\n",
    "print(ans)\n",
    "    "
   ]
  },
  {
   "cell_type": "code",
   "execution_count": 28,
   "id": "8d9c71b2-0d03-4348-9d94-88a544513f46",
   "metadata": {
    "tags": []
   },
   "outputs": [
    {
     "name": "stdin",
     "output_type": "stream",
     "text": [
      " 7\n",
      " 1 2 5 5 2 3 1\n",
      " 2\n",
      " 3 5\n"
     ]
    },
    {
     "name": "stdout",
     "output_type": "stream",
     "text": [
      "3\n"
     ]
    },
    {
     "name": "stdin",
     "output_type": "stream",
     "text": [
      " 4 6\n"
     ]
    },
    {
     "name": "stdout",
     "output_type": "stream",
     "text": [
      "5\n"
     ]
    }
   ],
   "source": [
    "# A10 クエリ毎に配列の一部が使えなくなる時の最大値、累積和と同じ考え\n",
    "N = int(input())\n",
    "A = list(map(int, input().split()))\n",
    "L = [0]\n",
    "R = [0]\n",
    "mxl = 0\n",
    "mxr = 0\n",
    "for i in range(N):\n",
    "    mxl = max(A[i], mxl)\n",
    "    L.append(mxl)\n",
    "    mxr = max(A[N-1-i], mxr)\n",
    "    R.append(mxr)\n",
    "D = int(input())\n",
    "for i in range(D):\n",
    "    l, r = map(int, input().split())\n",
    "    ans = max(L[l-1], R[N-r])\n",
    "    print(ans)\n",
    "    "
   ]
  },
  {
   "cell_type": "code",
   "execution_count": 27,
   "id": "15865b7e-e10b-4c03-ba02-fc0409e4797e",
   "metadata": {
    "tags": []
   },
   "outputs": [
    {
     "data": {
      "text/plain": [
       "[0, 1, 3, 3, 5, 5, 5, 5]"
      ]
     },
     "execution_count": 27,
     "metadata": {},
     "output_type": "execute_result"
    }
   ],
   "source": [
    "R"
   ]
  },
  {
   "cell_type": "code",
   "execution_count": null,
   "id": "34f0b777-2c0f-4b6d-854c-a79c93f864a8",
   "metadata": {},
   "outputs": [],
   "source": []
  }
 ],
 "metadata": {
  "kernelspec": {
   "display_name": "Python 3 (ipykernel)",
   "language": "python",
   "name": "python3"
  },
  "language_info": {
   "codemirror_mode": {
    "name": "ipython",
    "version": 3
   },
   "file_extension": ".py",
   "mimetype": "text/x-python",
   "name": "python",
   "nbconvert_exporter": "python",
   "pygments_lexer": "ipython3",
   "version": "3.11.4"
  }
 },
 "nbformat": 4,
 "nbformat_minor": 5
}
