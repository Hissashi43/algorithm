{
 "cells": [
  {
   "cell_type": "code",
   "execution_count": null,
   "id": "fa40188a-bea7-4eb9-8edb-93f31cae5437",
   "metadata": {},
   "outputs": [],
   "source": []
  },
  {
   "cell_type": "code",
   "execution_count": 1,
   "id": "dfd6e791-c364-44c8-b50f-2b6059479891",
   "metadata": {
    "jupyter": {
     "source_hidden": true
    },
    "tags": []
   },
   "outputs": [
    {
     "name": "stdin",
     "output_type": "stream",
     "text": [
      " 3 3\n",
      " ...\n",
      " ...\n",
      " ...\n"
     ]
    },
    {
     "name": "stdout",
     "output_type": "stream",
     "text": [
      "4\n"
     ]
    }
   ],
   "source": [
    "# 151 D, .と#の迷路でWFSを使う問題、ただしスタートとゴールの位置が決まっておらず\n",
    "#距離が最大になるように設定してその距離を求める問題。スタート位置全てについて全探索する\n",
    "# インデックスエラー回避のために壁を作る\n",
    "\n",
    "from collections import deque\n",
    "\n",
    "r, c = map(int, input().split())\n",
    "# sx, sy = map(int, input().split())\n",
    "# gx, gy = map(int, input().split())\n",
    "maze = [list(input()) for _ in range(r)]\n",
    "\n",
    "for i in range(r):\n",
    "    maze[i].insert(0, \"#\")\n",
    "    maze[i].append(\"#\")\n",
    "kabe = [\"#\"]*(c+2)\n",
    "maze.insert(0, kabe)\n",
    "maze.append(kabe)\n",
    "que = deque()\n",
    "s_cand = []\n",
    "for i in range(1, r+1):\n",
    "    for j in range(1, c+1):\n",
    "        if maze[i][j]==\".\":\n",
    "            s_cand.append([i, j])\n",
    "ans = 0\n",
    "for item in s_cand:\n",
    "    que.append([item[0], item[1]])\n",
    "    dist = [ [-1]*(c+2) for _ in range(r+2)]\n",
    "    dist[item[0]][item[1]]=0\n",
    "# for i in range(r):\n",
    "#     for j in range(c):\n",
    "#         pos = maze[i][j]\n",
    "#         if pos==\".\":\n",
    "#             G[i, j].append([i-1, j]); G.append\n",
    "\n",
    "    while len(que)>0:\n",
    "        pos = que.popleft()\n",
    "        [a, b] = pos\n",
    "        if maze[a][b+1]==\".\" and dist[a][b+1]==-1:\n",
    "            que.append([a, b+1])\n",
    "            dist[a][b+1] = dist[a][b]+1\n",
    "        if maze[a][b-1]==\".\" and dist[a][b-1]==-1:\n",
    "            que.append([a, b-1])\n",
    "            dist[a][b-1] = dist[a][b]+1\n",
    "        if maze[a+1][b]==\".\" and dist[a+1][b]==-1:\n",
    "            que.append([a+1, b])\n",
    "            dist[a+1][b] = dist[a][b]+1\n",
    "        if maze[a-1][b]==\".\" and dist[a-1][b]==-1:\n",
    "            que.append([a-1, b])\n",
    "            dist[a-1][b] = dist[a][b]+1\n",
    "    for i in range(1, r+1):\n",
    "        for j in range(1, c+1):\n",
    "            if dist[i][j]>ans:\n",
    "                ans = dist[i][j]\n",
    "print(ans)"
   ]
  },
  {
   "cell_type": "code",
   "execution_count": null,
   "id": "15283ec0-0287-4f50-8102-ad7112b6817b",
   "metadata": {},
   "outputs": [],
   "source": [
    "# 201 D 二次元のゲーム。赤マスー１、青マス＋１で、どちらも最適に動いた時の勝敗\n",
    "H, W = map(int, input().split())\n",
    "A = [list(input()) for _ in range(H)]\n",
    "dp = [[0]*W for _ in range(H)]\n",
    "for i in range(H-1, -1, -1):\n",
    "    for j in range(W-1, -1, -1):\n",
    "        if i == H-1 and j == W-1: # last turn\n",
    "            dp[i][j] = 0\n",
    "        elif (i+j)%2 == 0: # Takahashi\n",
    "            dp[i][j] = -float('inf')\n",
    "            if i+1 < H:\n",
    "                dp[i][j] = max(dp[i][j], dp[i+1][j] + (1 if A[i+1][j] == '+' else -1))\n",
    "            if j+1 < W:\n",
    "                dp[i][j] = max(dp[i][j], dp[i][j+1] + (1 if A[i][j+1] == '+' else -1))\n",
    "        else: # Aoki\n",
    "            dp[i][j] = float('inf')\n",
    "            if i+1 < H:\n",
    "                dp[i][j] = min(dp[i][j], dp[i+1][j] - (1 if A[i+1][j] == '+' else -1))\n",
    "            if j+1 < W:\n",
    "                dp[i][j] = min(dp[i][j], dp[i][j+1] - (1 if A[i][j+1] == '+' else -1))\n",
    "if dp[0][0] > 0:\n",
    "    print(\"Takahashi\")\n",
    "elif dp[0][0] < 0:\n",
    "    print(\"Aoki\")\n",
    "else:\n",
    "    print(\"Draw\")"
   ]
  },
  {
   "cell_type": "code",
   "execution_count": 4,
   "id": "fe6514d2-ebd1-4ed2-9762-97cc7855e577",
   "metadata": {
    "tags": []
   },
   "outputs": [
    {
     "name": "stdin",
     "output_type": "stream",
     "text": [
      " egg\n"
     ]
    },
    {
     "name": "stdout",
     "output_type": "stream",
     "text": [
      "1\n"
     ]
    }
   ],
   "source": [
    "s = input()\n",
    "dic = {}\n",
    "for i in range(len(s)):\n",
    "  if s[i] not in dic:\n",
    "    dic[s[i]] = 1\n",
    "  else:\n",
    "    dic[s[i]] += 1\n",
    "    \n",
    "for i in range(len(s)):\n",
    "  if dic[s[i]]==1:\n",
    "    print(i+1)"
   ]
  },
  {
   "cell_type": "code",
   "execution_count": 12,
   "id": "6a09d909-578a-436a-a07d-53731554b3eb",
   "metadata": {
    "tags": []
   },
   "outputs": [
    {
     "name": "stdin",
     "output_type": "stream",
     "text": [
      " 7\n",
      " 3 7 2 1 6 5 4\n",
      " 13\n",
      " 2 3\n"
     ]
    },
    {
     "name": "stdout",
     "output_type": "stream",
     "text": [
      "3\n"
     ]
    },
    {
     "name": "stdin",
     "output_type": "stream",
     "text": [
      " 1 2\n"
     ]
    },
    {
     "name": "stdout",
     "output_type": "stream",
     "text": [
      "2\n"
     ]
    },
    {
     "name": "stdin",
     "output_type": "stream",
     "text": [
      " 1 3\n"
     ]
    },
    {
     "name": "stdout",
     "output_type": "stream",
     "text": [
      "3\n"
     ]
    },
    {
     "name": "stdin",
     "output_type": "stream",
     "text": [
      " 3 6\n"
     ]
    },
    {
     "name": "stdout",
     "output_type": "stream",
     "text": [
      "3\n"
     ]
    },
    {
     "name": "stdin",
     "output_type": "stream",
     "text": [
      " 3 7\n"
     ]
    },
    {
     "name": "stdout",
     "output_type": "stream",
     "text": [
      "3\n"
     ]
    },
    {
     "name": "stdin",
     "output_type": "stream",
     "text": [
      " 2 4\n"
     ]
    },
    {
     "name": "stdout",
     "output_type": "stream",
     "text": [
      "2\n"
     ]
    },
    {
     "name": "stdin",
     "output_type": "stream",
     "text": [
      " 3 7\n"
     ]
    },
    {
     "name": "stdout",
     "output_type": "stream",
     "text": [
      "3\n"
     ]
    },
    {
     "name": "stdin",
     "output_type": "stream",
     "text": [
      " 1 3\n"
     ]
    },
    {
     "name": "stdout",
     "output_type": "stream",
     "text": [
      "3\n"
     ]
    },
    {
     "name": "stdin",
     "output_type": "stream",
     "text": [
      " 4 7\n"
     ]
    },
    {
     "name": "stdout",
     "output_type": "stream",
     "text": [
      "7\n"
     ]
    },
    {
     "name": "stdin",
     "output_type": "stream",
     "text": [
      " 1 6\n"
     ]
    },
    {
     "name": "stdout",
     "output_type": "stream",
     "text": [
      "1\n"
     ]
    },
    {
     "name": "stdin",
     "output_type": "stream",
     "text": [
      " 2 4\n"
     ]
    },
    {
     "name": "stdout",
     "output_type": "stream",
     "text": [
      "2\n"
     ]
    },
    {
     "name": "stdin",
     "output_type": "stream",
     "text": [
      " 1 3\n"
     ]
    },
    {
     "name": "stdout",
     "output_type": "stream",
     "text": [
      "3\n"
     ]
    },
    {
     "name": "stdin",
     "output_type": "stream",
     "text": [
      " 1 3\n"
     ]
    },
    {
     "name": "stdout",
     "output_type": "stream",
     "text": [
      "3\n"
     ]
    }
   ],
   "source": [
    "# 343 E 3次元の立法体が３つあり、２つ重なる範囲、３つ重なる範囲が指定されたときに\n",
    "# それが可能である場合にその座標を求める問題。\n",
    "import sys\n",
    "import itertools\n",
    "\n",
    "sys.setrecursionlimit(2**31-1)\n",
    "\n",
    "\n",
    "def i2s(): return sys.stdin.readline().rstrip()\n",
    "def i2n(): return int(i2s())\n",
    "def i2nn(): return list(map(int, i2s().split()))\n",
    "\n",
    "\n",
    "def dup_range(a1, a2, b1, b2):\n",
    "    st = max(a1, b1)\n",
    "    en = min(a2, b2)\n",
    "    if st >= en:\n",
    "        return 0, 0\n",
    "    return st, en\n",
    "\n",
    "\n",
    "def calc_v2(ax, ay, az, bx, by, bz):\n",
    "    x = max(min(ax, bx) - max(ax, bx) + 7, 0)\n",
    "    y = max(min(ay, by) - max(ay, by) + 7, 0)\n",
    "    z = max(min(az, bz) - max(az, bz) + 7, 0)\n",
    "    return x * y * z\n",
    "\n",
    "\n",
    "def calc_v3(ax, ay, az, bx, by, bz, cx, cy, cz):\n",
    "    x1, _, x2 = sorted([ax, bx, cx])\n",
    "    x = max(x1 - x2 + 7, 0)\n",
    "    y1, _, y2 = sorted([ay, by, cy])\n",
    "    y = max(y1 - y2 + 7, 0)\n",
    "    z1, _, z2 = sorted([az, bz, cz])\n",
    "    z = max(z1 - z2 + 7, 0)\n",
    "    return x * y * z\n",
    "\n",
    "\n",
    "def main():\n",
    "    v1, v2, v3 = i2nn()\n",
    "\n",
    "    if v1 + v2 * 2 + v3 * 3 != 7**3 * 3:\n",
    "        print('No')\n",
    "        return\n",
    "\n",
    "    a1, b1, c1 = 0, 0, 0\n",
    "\n",
    "    comb = itertools.combinations_with_replacement\n",
    "    for (a2, b2, c2), (a3, b3, c3) in comb(comb(range(-7, 8), 3), 2):\n",
    "\n",
    "        vol_123 = calc_v3(a1, b1, c1, a2, b2, c2, a3, b3, c3)\n",
    "        if vol_123 != v3:\n",
    "            continue\n",
    "\n",
    "        vol_12 = calc_v2(a1, b1, c1, a2, b2, c2)\n",
    "        vol_13 = calc_v2(a1, b1, c1, a3, b3, c3)\n",
    "        vol_23 = calc_v2(a2, b2, c2, a3, b3, c3)\n",
    "\n",
    "        if vol_12 + vol_13 + vol_23 != v2 + v3 * 3:\n",
    "            continue\n",
    "\n",
    "        print('Yes')\n",
    "        print(a1, b1, c1, a2, b2, c2, a3, b3, c3)\n",
    "\n",
    "        return\n",
    "\n",
    "    print('No')\n",
    "\n",
    "    return\n",
    "\n",
    "\n",
    "main()"
   ]
  },
  {
   "cell_type": "code",
   "execution_count": 10,
   "id": "30bbe3a7-1432-482c-8919-f38217d853e6",
   "metadata": {
    "tags": []
   },
   "outputs": [
    {
     "data": {
      "text/plain": [
       "[3, 7, 2, 1, 6, 5, 4]"
      ]
     },
     "execution_count": 10,
     "metadata": {},
     "output_type": "execute_result"
    }
   ],
   "source": [
    "# 203 D 二次元累積和　kxkの範囲で中央値が最小となる場所の値を求め\n",
    "N, K = map(int, input().split())\n",
    "A = [ list(map(int,input().split())) for _ in range(N)]\n",
    "\n",
    "Th = K*K // 2 + 1\n",
    "n = (N-K+1) * (N-K+1)\n",
    "\n",
    "def judge(x,A):\n",
    "    ret = False\n",
    "    global Th\n",
    "    Z = [ [0] * (N+1) for _ in range(N+1)]\n",
    "    for i in range(N):\n",
    "        for j in range(N):\n",
    "            Z[i+1][j+1] = Z[i+1][j] + (A[i][j] > x)\n",
    "    for j in range(N):\n",
    "        for i in range(N):\n",
    "            Z[i+1][j+1] += Z[i][j+1]\n",
    "\n",
    "    for i in range(N-K+1):\n",
    "        for j in range(N-K+1):\n",
    "            A = i+1\n",
    "            B = j+1\n",
    "            C = i + K\n",
    "            D = j + K \n",
    "    \n",
    "            S = 0\n",
    "            S += Z[C][D]\n",
    "            S += Z[A-1][B-1]\n",
    "            S -= Z[A-1][D]\n",
    "            S -= Z[C][B-1]\n",
    "\n",
    "            #print(S)\n",
    "            if S < Th:\n",
    "                ret = True\n",
    "                return ret\n",
    "    return ret\n",
    "\n",
    "l = -1           # NG\n",
    "r = 10 ** 9 + 1     # OK\n",
    "\n",
    "while r-l > 1:\n",
    "    m = (r + l) // 2\n",
    "    if judge(m,A):\n",
    "        r = m\n",
    "    else:\n",
    "        l = m\n",
    "\n",
    "print(r)"
   ]
  },
  {
   "cell_type": "code",
   "execution_count": null,
   "id": "13f20ed1-1014-4301-8dfe-107dbe571b3b",
   "metadata": {},
   "outputs": [],
   "source": [
    "# デイリートレーニング問題、任意の行、列を削除して配列Aを配列Bにできるか\n",
    "# 行と列を削除する関数を実装してbit全探索\n",
    "\n",
    "H1, W1 = map(int, input().split())\n",
    "A = [ list(map(int, input().split())) for _ in range(H1)]\n",
    "H2, W2 = map(int, input().split())\n",
    "B = [ list(map(int, input().split())) for _ in range(H2)]\n",
    "candh = []\n",
    "candw = []\n",
    "\n",
    "for h in range(1<<H1):\n",
    "    if h.bit_count()==H1-H2:\n",
    "        tmp = []\n",
    "        for i in range(H1):\n",
    "            if h>>i&1:\n",
    "                tmp.append(i)\n",
    "        candh.append(tmp)\n",
    "for w in range(1<<W1):\n",
    "    if w.bit_count()==W1-W2:\n",
    "        tmp = []\n",
    "        for i in range(W1):\n",
    "            if w>>i&1:\n",
    "                tmp.append(i)\n",
    "        candw.append(tmp)\n",
    "\n",
    "def output(data, indices, axis='row'):\n",
    "    if axis == 'row':\n",
    "        # 行を削除\n",
    "        return [row for i, row in enumerate(data) if i not in indices]\n",
    "    elif axis == 'column':\n",
    "        # 列を削除\n",
    "        return [[item for j, item in enumerate(row) if j not in indices] for row in data]\n",
    "\n",
    "ans = \"No\"\n",
    "for H in candh:\n",
    "    tmp = output(A, H, axis=\"row\")\n",
    "    for W in candw:\n",
    "        tmp2 = output(tmp, W, axis=\"column\")\n",
    "        if tmp2==B:\n",
    "            ans = \"Yes\"\n",
    "            break\n",
    "print(ans)"
   ]
  },
  {
   "cell_type": "code",
   "execution_count": null,
   "id": "8939b8dc-1c4b-4d03-b995-f0876c668c57",
   "metadata": {},
   "outputs": [],
   "source": [
    "# 典型90より 二次元累積和の出力\n",
    "H, W = map(int, input().split())\n",
    "A = [ list(map(int, input().split())) for _ in range(H) ]\n",
    "B = [ [sum(A[i])]*W for i in range(H) ]\n",
    "for i, item in enumerate(zip(*A)):\n",
    "    t = sum(item)\n",
    "    for j in range(H):\n",
    "        B[j][i] += t-A[j][i]\n",
    "for i in range(H):\n",
    "    print(*B[i])"
   ]
  },
  {
   "cell_type": "code",
   "execution_count": null,
   "id": "4f1e1b0a-50e6-4047-808d-e5615929e52a",
   "metadata": {},
   "outputs": [],
   "source": [
    "# デイリートレーニングより、Aの行・列をそれぞれ回転させてBと一致するかどうか\n",
    "\n",
    "import copy\n",
    "H, W = map(int, input().split())\n",
    "A = [ list(input()) for _ in range(H) ]\n",
    "B = [ list(input()) for _ in range(H) ]\n",
    "def tate(array):\n",
    "    new = copy.deepcopy(array)\n",
    "    for column in range(W):\n",
    "        for i in range(H):\n",
    "            if i==H-1:\n",
    "                new[i][column] = array[0][column]\n",
    "            else:\n",
    "                new[i][column] = array[i+1][column]\n",
    "    return new\n",
    "def yoko(array):\n",
    "    new = copy.deepcopy(array)\n",
    "    for row in range(H):\n",
    "        for i in range(W):\n",
    "            if i==W-1:\n",
    "                new[row][i] = array[row][0]\n",
    "            else:\n",
    "                new[row][i] = array[row][i+1]\n",
    "    return new\n",
    "new = A\n",
    "ans = \"No\"\n",
    "for i in range(H):\n",
    "    new = A.copy()\n",
    "    t = 0\n",
    "    while t!=i:\n",
    "        new = tate(new)\n",
    "        t+=1\n",
    "    for j in range(W):\n",
    "        new2 = new\n",
    "        s = 0\n",
    "        while s!=j:\n",
    "            new2 = yoko(new2)\n",
    "            s+=1\n",
    "        if new2==B:\n",
    "            ans = \"Yes\"\n",
    "            break\n",
    "print(ans)"
   ]
  }
 ],
 "metadata": {
  "kernelspec": {
   "display_name": "Python 3 (ipykernel)",
   "language": "python",
   "name": "python3"
  },
  "language_info": {
   "codemirror_mode": {
    "name": "ipython",
    "version": 3
   },
   "file_extension": ".py",
   "mimetype": "text/x-python",
   "name": "python",
   "nbconvert_exporter": "python",
   "pygments_lexer": "ipython3",
   "version": "3.11.4"
  }
 },
 "nbformat": 4,
 "nbformat_minor": 5
}
