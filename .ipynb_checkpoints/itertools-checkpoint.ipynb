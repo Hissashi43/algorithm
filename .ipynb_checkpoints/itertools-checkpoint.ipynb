{
 "cells": [
  {
   "cell_type": "code",
   "execution_count": null,
   "id": "3e124937-121b-461f-81e9-60c50cf94aa5",
   "metadata": {},
   "outputs": [],
   "source": []
  },
  {
   "cell_type": "code",
   "execution_count": null,
   "id": "5b1a1e52-b8a8-4b13-abfa-12f54df21812",
   "metadata": {},
   "outputs": [],
   "source": [
    "# itertools.permutationsを使って、与えられた配列の全体における順番を求める問題\n",
    "import itertools\n",
    "n = int(input())\n",
    "p = tuple(map(int, input().split()))\n",
    "q = tuple(map(int, input().split()))\n",
    "it = list(itertools.permutations(range(1, n+1)))\n",
    "print(abs(it.index(q)-it.index(p)))"
   ]
  },
  {
   "cell_type": "code",
   "execution_count": null,
   "id": "5d3abee8-83a5-4028-9126-8debc5d4fbba",
   "metadata": {},
   "outputs": [],
   "source": [
    "n, k = map(int, input().split())\n",
    "A = list(map(int, input().split()))\n",
    "\n",
    "import itertools\n",
    "n = int(input())\n",
    "p = tuple(map(int, input().split()))\n",
    "q = tuple(map(int, input().split()))\n",
    "it = list(itertools.permutations(range(1, n+1)))\n",
    "print(abs(it.index(q)-it.index(p)))"
   ]
  }
 ],
 "metadata": {
  "kernelspec": {
   "display_name": "Python 3 (ipykernel)",
   "language": "python",
   "name": "python3"
  },
  "language_info": {
   "codemirror_mode": {
    "name": "ipython",
    "version": 3
   },
   "file_extension": ".py",
   "mimetype": "text/x-python",
   "name": "python",
   "nbconvert_exporter": "python",
   "pygments_lexer": "ipython3",
   "version": "3.11.4"
  }
 },
 "nbformat": 4,
 "nbformat_minor": 5
}
