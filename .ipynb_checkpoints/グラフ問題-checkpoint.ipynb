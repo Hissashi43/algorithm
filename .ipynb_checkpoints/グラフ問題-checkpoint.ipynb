{
 "cells": [
  {
   "cell_type": "code",
   "execution_count": null,
   "id": "c06709a2-62b4-4cc4-89c8-092b0700d805",
   "metadata": {},
   "outputs": [],
   "source": []
  },
  {
   "cell_type": "code",
   "execution_count": null,
   "id": "bb5f8f2c-75e7-4f7f-b7d3-6cc4613e6a51",
   "metadata": {},
   "outputs": [],
   "source": [
    "# 幅優先探索、\".\"と \"#\"からなる迷路。スタートからゴールまでの距離を出力する\n",
    "from collections import deque\n",
    "\n",
    "r, c = map(int, input().split())\n",
    "sx, sy = map(int, input().split())\n",
    "gx, gy = map(int, input().split())\n",
    "maze = [list(input()) for _ in range(r)]\n",
    "\n",
    "\n",
    "que = deque()\n",
    "que.append([sx-1, sy-1])\n",
    "dist = [ [-1]*c for _ in range(r)]\n",
    "dist[sx-1][sy-1]=0\n",
    "# for i in range(r):\n",
    "#     for j in range(c):\n",
    "#         pos = maze[i][j]\n",
    "#         if pos==\".\":\n",
    "#             G[i, j].append([i-1, j]); G.append\n",
    "\n",
    "while len(que)>0:\n",
    "    pos = que.popleft()\n",
    "    [a, b] = pos\n",
    "    if a==gx-1 and b==gy-1:\n",
    "        break\n",
    "    if maze[a][b+1]==\".\" and dist[a][b+1]==-1:\n",
    "        que.append([a, b+1])\n",
    "        dist[a][b+1] = dist[a][b]+1\n",
    "    if maze[a][b-1]==\".\" and dist[a][b-1]==-1:\n",
    "        que.append([a, b-1])\n",
    "        dist[a][b-1] = dist[a][b]+1\n",
    "    if maze[a+1][b]==\".\" and dist[a+1][b]==-1:\n",
    "        que.append([a+1, b])\n",
    "        dist[a+1][b] = dist[a][b]+1\n",
    "    if maze[a-1][b]==\".\" and dist[a-1][b]==-1:\n",
    "        que.append([a-1, b])\n",
    "        dist[a-1][b] = dist[a][b]+1\n",
    "\n",
    "print(int(dist[gx-1][gy-1]))"
   ]
  },
  {
   "cell_type": "code",
   "execution_count": null,
   "id": "586d3fe0-6368-423f-9df0-dc4986b6d785",
   "metadata": {},
   "outputs": [],
   "source": [
    "# ダイクストラ法。重み付きの辺と頂点からなるグラフについて、１から各頂点までの最短距離を出力。\n",
    "# もし経路がない場合は-1を出力する\n",
    "# ポイント１： heapq(優先度付きキュー)を使って、posから最も近い順に処理する。\n",
    "# ポイント2: 上記のキューにはタプルを保管していく。タプルの第一要素が距離、第二要素がposとなる\n",
    "# 可能な経路の内、距離が短い方から処理していくため、必然的に最短経路が求められる。\n",
    "\n",
    "# kakutei == 各頂点までの最短距離が設定された際のフラグ。Falseで初期化\n",
    "# cur == 各頂点までの距離を格納するリスト。infで初期化\n",
    "# Q == 優先度付きキュー。処理するposの（距離、pos名）のタプルを保管する。\n",
    "\n",
    "import heapq\n",
    "\n",
    "n, m = map(int, input().split())\n",
    "edges = [ list(map(int, input().split())) for i in range(m) ]\n",
    "\n",
    "G = [ list() for i in range(n + 1)]\n",
    "for a, b, c in edges:\n",
    "    G[a].append((b, c))\n",
    "    G[b].append((a, c))\n",
    "\n",
    "# 配列・キューの初期化（キューには（頂点、頂点番号）のタプルを記録）\n",
    "inf = 10**10\n",
    "kakutei = [False]*(n+1)\n",
    "cur = [inf]*(n+1)\n",
    "cur[1] = 0\n",
    "Q = []\n",
    "heapq.heappush(Q, (cur[1], 1))\n",
    "\n",
    "# ダイクストラ法\n",
    "while len(Q) >= 1:\n",
    "    pos = heapq.heappop(Q)[1]\n",
    "    \n",
    "    if kakutei[pos]==True:\n",
    "        continue\n",
    "    \n",
    "    kakutei[pos] = True\n",
    "    for e in G[pos]:\n",
    "        if cur[e[0]] > cur[pos] + e[1]:\n",
    "            cur[e[0]] = cur[pos] + e[1]\n",
    "            heapq.heappush(Q, (cur[e[0]], e[0]))\n",
    "\n",
    "for i in range(1, n+1):\n",
    "    if cur[i] != inf:\n",
    "        print(cur[i])\n",
    "    else:\n",
    "        print(\"-1\")\n"
   ]
  },
  {
   "cell_type": "code",
   "execution_count": null,
   "id": "6a71452e-5983-4421-adf0-70efdcd99991",
   "metadata": {},
   "outputs": [],
   "source": [
    "# ダイクストラ法の経路復元。\n",
    "# 基本的には普通のダイクストラ法と同じで、最後に経路復元の繰り返し処理が入る\n",
    "\n",
    "import heapq\n",
    "\n",
    "n, m = map(int, input().split())\n",
    "edges = [ list(map(int, input().split())) for i in range(m) ]\n",
    "\n",
    "G = [ list() for i in range(n + 1)]\n",
    "for a, b, c in edges:\n",
    "    G[a].append((b, c))\n",
    "    G[b].append((a, c))\n",
    "\n",
    "# 配列・キューの初期化（キューには（頂点、頂点番号）のタプルを記録）\n",
    "inf = 10**10\n",
    "kakutei = [False]*(n+1)\n",
    "cur = [inf]*(n+1)\n",
    "cur[1] = 0\n",
    "Q = []\n",
    "heapq.heappush(Q, (cur[1], 1))\n",
    "\n",
    "# ダイクストラ法\n",
    "while len(Q) >= 1:\n",
    "    pos = heapq.heappop(Q)[1]\n",
    "    \n",
    "    if kakutei[pos]==True:\n",
    "        continue\n",
    "    \n",
    "    kakutei[pos] = True\n",
    "    for e in G[pos]:\n",
    "        if cur[e[0]] > cur[pos] + e[1]:\n",
    "            cur[e[0]] = cur[pos] + e[1]\n",
    "            heapq.heappush(Q, (cur[e[0]], e[0]))\n",
    "\n",
    "# 経路の復元\n",
    "route = [n]\n",
    "t = n\n",
    "while t!=1:\n",
    "    for e in G[t]:\n",
    "        if cur[e[0]] == cur[t] - e[1]:\n",
    "            route.append(e[0])\n",
    "            t = e[0]\n",
    "route = route[::-1]\n",
    "print(*route)"
   ]
  },
  {
   "cell_type": "code",
   "execution_count": null,
   "id": "984d898c-d95e-414c-9da4-ee5ba945f16d",
   "metadata": {},
   "outputs": [],
   "source": [
    "# Union-Find木。ある点とある点が同じ連結成分に含まれるか否かを高速に処理。\n",
    "# ポイント１： 各点はheap構造で接続されており、根以外には必ず親(par)が存在する\n",
    "# ポイント２：　uniteで接続処理する際、size(各点と繋がっている点の数)の大きい方を親とする\n",
    "\n",
    "\n",
    "class unionfind:\n",
    "    def __init__(self, n):\n",
    "        self.n = n\n",
    "        self.par = [-1] * (n+1)\n",
    "        self.size = [1] * (n+1)\n",
    "        \n",
    "    def root(self, x):\n",
    "        while self.par[x] != -1:\n",
    "            x = self.par[x]\n",
    "        return x\n",
    "    \n",
    "    def unite(self, u, v):\n",
    "        rootu = self.root(u)\n",
    "        rootv = self.root(v)\n",
    "        if rootu != rootv:\n",
    "            if self.size[rootu] < self.size[rootv]:\n",
    "                self.par[rootu] = rootv\n",
    "                self.size[rootv] += self.size[rootu]\n",
    "            else:\n",
    "                self.par[rootv] = rootu\n",
    "                self.size[rootu] += self.size[rootv]\n",
    "        \n",
    "    def same(self, u, v):\n",
    "        return self.root(u) == self.root(v)\n",
    "\n",
    "n, q = map(int, input().split())\n",
    "queries = [ list(map(int, input().split())) for i in range(q) ]\n",
    "\n",
    "uf = unionfind(n)\n",
    "for tp, u, v in queries:\n",
    "    if tp == 1:\n",
    "        uf.unite(u, v)\n",
    "    if tp == 2:\n",
    "        if uf.same(u, v):\n",
    "            print(\"Yes\")\n",
    "        else:\n",
    "            print(\"No\")"
   ]
  },
  {
   "cell_type": "code",
   "execution_count": null,
   "id": "3037c85a-8346-46d4-ab7f-71b50d6662c2",
   "metadata": {},
   "outputs": [],
   "source": [
    "# 335 E 単調増加のみの経路で最も多くのマスを踏む経路を通る時、そのマスの種類数を数える\n",
    "from heapq import *\n",
    "\n",
    "N, M = map(int, input().split())\n",
    "A = list(map(int, input().split()))\n",
    "G = [[] for _ in range(N)]\n",
    "for i in range(M):\n",
    "    u,v = map(int, input().split())\n",
    "    u -= 1\n",
    "    v -= 1\n",
    "    if A[u] <= A[v]:\n",
    "        G[u].append(v)\n",
    "    if A[v] <= A[u]:\n",
    "        G[v].append(u)\n",
    "# print(G)\n",
    "visit = [False] * N\n",
    "dist = [0] * N\n",
    "dist[0] = 1\n",
    "hq = []\n",
    "heappush(hq, (A[0], -1, 0))\n",
    "\n",
    "if A[0] > A[N-1]:\n",
    "    exit(print(0))\n",
    "\n",
    "while hq:\n",
    "    val, _ , pos = heappop(hq)\n",
    "    if visit[pos]:\n",
    "        continue\n",
    "    visit[pos] = True\n",
    "    for next in G[pos]:\n",
    "        if visit[next]:\n",
    "            continue\n",
    "        if A[next] > val:\n",
    "            if dist[next] < dist[pos] + 1:\n",
    "                dist[next] = dist[pos] + 1\n",
    "                heappush(hq, (A[next], -dist[next], next))\n",
    "        else:\n",
    "            dist[next] = max(dist[next], dist[pos])\n",
    "            heappush(hq, (A[next], -dist[next],next))\n",
    "print(dist[N-1])"
   ]
  },
  {
   "cell_type": "code",
   "execution_count": 11,
   "id": "91dd9085-2948-453b-81ae-69beb55654c9",
   "metadata": {
    "tags": []
   },
   "outputs": [
    {
     "name": "stdin",
     "output_type": "stream",
     "text": [
      " BBBCCCCCCCAAA\n"
     ]
    },
    {
     "name": "stdout",
     "output_type": "stream",
     "text": [
      "No\n"
     ]
    }
   ],
   "source": [
    "s = input()\n",
    "# j = 0\n",
    "# ans = \"Yes\"\n",
    "# for i in range(len(s)):\n",
    "#     if j==0 or j==1 and s[i]==\"A\":\n",
    "#         j = 1\n",
    "#         continue\n",
    "#     elif j==0 or j==1 or j==2 and s[i]==\"B\":\n",
    "#         j = 2\n",
    "#         continue\n",
    "#     elif j ==0 or j==2 or j==3 and s[i]==\"C\":\n",
    "#         j = 3\n",
    "#         continue\n",
    "#     else:\n",
    "#         ans = \"No\"\n",
    "print(ans)"
   ]
  },
  {
   "cell_type": "code",
   "execution_count": null,
   "id": "ffd91122-0152-4387-99a9-ee8ea4580d27",
   "metadata": {},
   "outputs": [],
   "source": [
    "# 157 D n人の中で友達関係とブロック関係が存在する時の「友達候補」の数\n",
    "# を出力する。ユニオンファインドを使って最後にブロックを引く\n",
    "\n",
    "class unionfind:\n",
    "    def __init__(self, n):\n",
    "        self.n = n\n",
    "        self.par = [-1] * (n+1)\n",
    "        self.size = [1] * (n+1)\n",
    "        \n",
    "    def root(self, x):\n",
    "        while self.par[x] != -1:\n",
    "            x = self.par[x]\n",
    "        return x\n",
    "    \n",
    "    def unite(self, u, v):\n",
    "        rootu = self.root(u)\n",
    "        rootv = self.root(v)\n",
    "        if rootu != rootv:\n",
    "            if self.size[rootu] < self.size[rootv]:\n",
    "                self.par[rootu] = rootv\n",
    "                self.size[rootv] += self.size[rootu]\n",
    "            else:\n",
    "                self.par[rootv] = rootu\n",
    "                self.size[rootu] += self.size[rootv]\n",
    "        \n",
    "    def same(self, u, v):\n",
    "        return self.root(u) == self.root(v)\n",
    "    def size(self, u):\n",
    "        rootu = self.root(u)\n",
    "        return self.size[rootu]\n",
    "\n",
    "n, m, k = map(int, input().split())\n",
    "friends = [ list(map(int, input().split())) for _ in range(m)]\n",
    "blocks = [ list(map(int, input().split())) for _ in range(k)]\n",
    "\n",
    "G = [ list() for _ in range(n+1)]\n",
    "for a, b in friends:\n",
    "    G[a].append(b)\n",
    "    G[b].append(a)\n",
    "# ブロック\n",
    "B = [ list() for _ in range(n+1)]\n",
    "for a, b in blocks:\n",
    "    B[a].append(b)\n",
    "    B[b].append(a)    \n",
    "\n",
    "uf = unionfind(n)\n",
    "for item in friends:\n",
    "    uf.unite(item[0], item[1])\n",
    "for i in range(1, n+1):\n",
    "    ans = uf.size[uf.root(i)]-len(G[i])-1\n",
    "    for item in B[i]:\n",
    "        if uf.same(i, item):\n",
    "            ans -= 1\n",
    "    print(ans)"
   ]
  },
  {
   "cell_type": "code",
   "execution_count": null,
   "id": "85db356d-dadd-47ae-876d-43e718b03519",
   "metadata": {},
   "outputs": [],
   "source": [
    "# 160 D グラフの中で最短距離がkであるものの数を求める。一個ずつ計算して数え上げる\n",
    "import heapq\n",
    "\n",
    "n, x, y = map(int, input().split())\n",
    "G = [ list() for _ in range(n+1)]\n",
    "for i in range(1, n):\n",
    "    G[i].append(((i+1), 1))\n",
    "    G[i+1].append((i, 1))\n",
    "G[x].append((y, 1))\n",
    "G[y].append((x, 1))\n",
    "\n",
    "\n",
    "inf = int(1e9)\n",
    "ans = [0]*(n+1)\n",
    "for i in range(1, n):\n",
    "    kakutei = [False]*(n+1)\n",
    "    dist = [inf]*(n+1)\n",
    "    dist[i]=0\n",
    "    que = []\n",
    "    heapq.heappush(que, (dist[i], i))\n",
    "    while len(que)>=1:\n",
    "        pos = heapq.heappop(que)[1]\n",
    "        if kakutei[pos]:\n",
    "            continue\n",
    "            \n",
    "        kakutei[pos]=True\n",
    "        \n",
    "        for nex in G[pos]:\n",
    "            if dist[nex[0]]>dist[pos]+nex[1]:\n",
    "                dist[nex[0]] = dist[pos]+nex[1]\n",
    "                heapq.heappush(que, (dist[nex[0]], nex[0]))\n",
    "    for j in range(i, n+1):\n",
    "        ans[dist[j]]+=1\n",
    "for i in range(1, n):\n",
    "    print(ans[i])"
   ]
  },
  {
   "cell_type": "code",
   "execution_count": 52,
   "id": "f3d8056c-f744-47b5-b6a4-2c08e2d61645",
   "metadata": {
    "tags": []
   },
   "outputs": [
    {
     "name": "stdin",
     "output_type": "stream",
     "text": [
      " 5\n",
      " 100 200 3\n",
      " 50 10 1\n",
      " 100 200 5\n",
      " 150 1 2\n"
     ]
    },
    {
     "name": "stdout",
     "output_type": "stream",
     "text": [
      "350\n"
     ]
    }
   ],
   "source": [
    "import heapq\n",
    "\n",
    "n = int(input())\n",
    "# edges = [ list(map(int, input().split())) for i in range(m) ]\n",
    "\n",
    "G = [ list() for i in range(n)]\n",
    "for i in range(n-1):\n",
    "    a, b, x = map(int, input().split()); x-= 1\n",
    "    G[i].append((i+1, a))\n",
    "    # G2[i+1].append((i, a))\n",
    "    G[i].append((x, b))\n",
    "    # G2[x].append((i, b))\n",
    "    G[i].sort(key=lambda x: x[1])\n",
    "\n",
    "# 配列・キューの初期化（キューには（頂点、頂点番号）のタプルを記録）\n",
    "inf = 10**15\n",
    "# kakutei = [False]*(n+1)\n",
    "cur = [inf]*(n)\n",
    "cur[0] = 0\n",
    "Q = []\n",
    "heapq.heappush(Q, (cur[0], 0))\n",
    "\n",
    "# ダイクストラ法\n",
    "while len(Q) >= 1:\n",
    "    pos = heapq.heappop(Q)[1]\n",
    "    \n",
    "#     if kakutei[pos]==True:\n",
    "#         continue\n",
    "    \n",
    "#     kakutei[pos] = True\n",
    "    for e in G[pos]:\n",
    "        if cur[e[0]] > cur[pos] + e[1]:\n",
    "            cur[e[0]] = cur[pos] + e[1]\n",
    "            heapq.heappush(Q, (cur[e[0]], e[0]))\n",
    "\n",
    "\n",
    "print(cur[n-1])"
   ]
  },
  {
   "cell_type": "code",
   "execution_count": 51,
   "id": "1962907a-6a3a-48bc-afc0-9f48e1298270",
   "metadata": {
    "tags": []
   },
   "outputs": [
    {
     "name": "stdin",
     "output_type": "stream",
     "text": [
      " 10\n",
      " 1000 10 9\n",
      " 1000 10 10\n",
      " 1000 10 2\n",
      " 1000 10 3\n",
      " 1000 10 4\n",
      " 1000 10 5\n",
      " 1000 10 6\n",
      " 1000 10 7\n",
      " 1000 10 8\n"
     ]
    },
    {
     "name": "stdout",
     "output_type": "stream",
     "text": [
      "1010\n"
     ]
    }
   ],
   "source": [
    "import heapq as hq\n",
    "n = int(input())\n",
    "g = [[] for i in range(n)]\n",
    "for i in range(n - 1):\n",
    "  a,b,x = map(int, input().split()); x -= 1\n",
    "  g[i].append((i + 1, a))\n",
    "  g[i].append((x, b))\n",
    "  g[i].sort(key=lambda x: x[1])\n",
    "qr = []\n",
    "hq.heappush(qr, (0, 0))\n",
    "ans = [999999999999999999999999 for i in range(n)]\n",
    "ans[0] = 0\n",
    "while qr:\n",
    "  node = hq.heappop(qr)[1]\n",
    "  for adj in g[node]:\n",
    "    if ans[adj[0]] > ans[node] + adj[1]:\n",
    "      ans[adj[0]] = ans[node] + adj[1]\n",
    "      hq.heappush(qr, (ans[adj[0]], adj[0]))\n",
    "print(ans[n - 1])"
   ]
  },
  {
   "cell_type": "code",
   "execution_count": 5,
   "id": "453453fd-8c5f-44d0-83c7-92feeca8306c",
   "metadata": {
    "tags": []
   },
   "outputs": [
    {
     "name": "stdin",
     "output_type": "stream",
     "text": [
      " 4 4\n",
      " 1 2\n",
      " 2 3\n",
      " 3 4\n",
      " 4 1\n"
     ]
    },
    {
     "name": "stdout",
     "output_type": "stream",
     "text": [
      "16\n"
     ]
    }
   ],
   "source": [
    "import sys\n",
    "from collections import deque\n",
    "\n",
    "# 探索がある程度多くなる場合、下記のコードが必要（探索回数制限の設定）\n",
    "sys.setrecursionlimit(120000)\n",
    "\n",
    "# ルートの記録が必要な場合\n",
    "roots = deque()\n",
    "\n",
    "# 入力\n",
    "n= int(input())\n",
    "A = list(map(int, input().split()))\n",
    "\n",
    "# 隣接リスト\n",
    "G = [ list() for _ in range(n+1)]\n",
    "G2 = [ list() for _ in range(n+1)]\n",
    "for a, b in edges:\n",
    "    G[a].append(b)\n",
    "    G2[b].append(a)\n",
    "\n",
    "ans = 0\n",
    "def dfs(pos, visited, G):\n",
    "    visited[pos] = True\n",
    "    for i in G[pos]:\n",
    "        if visited[i]==False:\n",
    "            dfs(i, visited, G)\n",
    "\n",
    "ans = 0\n",
    "visited = [False] * (n + 1)\n",
    "for i in range(1, n+1):\n",
    "    visited = [False]*(n+1)\n",
    "    dfs(i, visited, G)\n",
    "    ans += sum(visited)\n",
    "print(ans)"
   ]
  },
  {
   "cell_type": "code",
   "execution_count": 21,
   "id": "ddd7df6f-ce46-4139-8a13-83186bfc4616",
   "metadata": {
    "tags": []
   },
   "outputs": [
    {
     "data": {
      "text/plain": [
       "49501"
      ]
     },
     "execution_count": 21,
     "metadata": {},
     "output_type": "execute_result"
    }
   ],
   "source": [
    "# 206 D 回文にするのに必要な最小回数\n",
    "import sys\n",
    "sys.setrecursionlimit(10**8)\n",
    "\n",
    "N = int(input())\n",
    "A = list(map(int, input().split()))\n",
    "\n",
    "n = max(A) + 1\n",
    "G = [ [] * n for _ in range(n)] \n",
    "\n",
    "for i in range(N // 2 + 1):\n",
    "    tl = A[i]\n",
    "    tr = A[N- (i+1)]\n",
    "    if tl != tr:\n",
    "        G[tl].append(tr)\n",
    "        G[tr].append(tl)\n",
    "\n",
    "visited = [False]*n\n",
    "def dfs(x):\n",
    "    global lg\n",
    "    lg += 1\n",
    "    visited[x] = True\n",
    "    for to in G[x]:\n",
    "        if visited[to] == False:\n",
    "            dfs(to)\n",
    "\n",
    "ans = 0\n",
    "for a in A:\n",
    "    if visited[a] == False:\n",
    "        lg = 0\n",
    "        dfs(a)\n",
    "        ans += lg-1\n",
    "\n",
    "print(ans)"
   ]
  },
  {
   "cell_type": "code",
   "execution_count": 35,
   "id": "087cb0b4-271b-4e0a-a259-b973ba08494d",
   "metadata": {
    "tags": []
   },
   "outputs": [
    {
     "name": "stdin",
     "output_type": "stream",
     "text": [
      " 5 20\n",
      " 1 2 6\n",
      " 1 3 10\n",
      " 1 4 4\n",
      " 1 5 1\n",
      " 2 1 5\n",
      " 2 3 9\n",
      " 2 4 8\n",
      " 2 5 6\n",
      " 3 1 5\n",
      " 3 2 1\n",
      " 3 4 7\n",
      " 3 5 9\n",
      " 4 1 4\n",
      " 4 2 6\n",
      " 4 3 4\n",
      " 4 5 8\n",
      " 5 1 2\n",
      " 5 2 5\n",
      " 5 3 6\n",
      " 5 4 5\n"
     ]
    },
    {
     "name": "stdout",
     "output_type": "stream",
     "text": [
      "517\n"
     ]
    }
   ],
   "source": [
    "# 208 D\n",
    "import sys\n",
    "N, M = map(int, sys.stdin.buffer.readline().split())\n",
    "ABC = map(int, sys.stdin.buffer.read().split())\n",
    "d = [[1 << 60] * N for i in range(N)]\n",
    "for i in range(N):\n",
    "  d[i][i] = 0\n",
    "for a, b, c in zip(ABC, ABC, ABC):\n",
    "  d[a - 1][b - 1] = c\n",
    "answer = 0\n",
    "for k in range(N):\n",
    "  nxt = [[0] * N for i in range(N)]\n",
    "  for i in range(N):\n",
    "    for j in range(N):\n",
    "      nxt[i][j] = min(d[i][j], d[i][k] + d[k][j])\n",
    "      if nxt[i][j] < 1 << 59:\n",
    "        answer += nxt[i][j]\n",
    "  d = nxt\n",
    "print(answer)\n",
    "        "
   ]
  },
  {
   "cell_type": "code",
   "execution_count": 8,
   "id": "f2b7f013-e740-44a4-af8a-3ec47980708c",
   "metadata": {
    "tags": []
   },
   "outputs": [
    {
     "name": "stdin",
     "output_type": "stream",
     "text": [
      " 9 9\n",
      " 2 3\n",
      " 5 6\n",
      " 4 8\n",
      " 8 9\n",
      " 4 5\n",
      " 3 4\n",
      " 1 9\n",
      " 3 7\n",
      " 7 9\n"
     ]
    },
    {
     "name": "stdout",
     "output_type": "stream",
     "text": [
      "Town\n"
     ]
    },
    {
     "name": "stdin",
     "output_type": "stream",
     "text": [
      " 2 5\n"
     ]
    },
    {
     "name": "stdout",
     "output_type": "stream",
     "text": [
      "Road\n"
     ]
    },
    {
     "name": "stdin",
     "output_type": "stream",
     "text": [
      " 2 6\n"
     ]
    },
    {
     "name": "stdout",
     "output_type": "stream",
     "text": [
      "Town\n"
     ]
    },
    {
     "name": "stdin",
     "output_type": "stream",
     "text": [
      " 4 6\n"
     ]
    },
    {
     "name": "stdout",
     "output_type": "stream",
     "text": [
      "Town\n"
     ]
    },
    {
     "name": "stdin",
     "output_type": "stream",
     "text": [
      " 2 4\n"
     ]
    },
    {
     "name": "stdout",
     "output_type": "stream",
     "text": [
      "Town\n"
     ]
    },
    {
     "name": "stdin",
     "output_type": "stream",
     "text": [
      " 5 8\n"
     ]
    },
    {
     "name": "stdout",
     "output_type": "stream",
     "text": [
      "Town\n"
     ]
    },
    {
     "name": "stdin",
     "output_type": "stream",
     "text": [
      " 7 8\n"
     ]
    },
    {
     "name": "stdout",
     "output_type": "stream",
     "text": [
      "Road\n"
     ]
    },
    {
     "name": "stdin",
     "output_type": "stream",
     "text": [
      " 3 6\n"
     ]
    },
    {
     "name": "stdout",
     "output_type": "stream",
     "text": [
      "Road\n"
     ]
    },
    {
     "name": "stdin",
     "output_type": "stream",
     "text": [
      " 5 6\n"
     ]
    },
    {
     "name": "stdout",
     "output_type": "stream",
     "text": [
      "Road\n"
     ]
    }
   ],
   "source": [
    "from collections import deque\n",
    "\n",
    "N, Q = map(int, input().split())\n",
    "edges = [ tuple(map(int, input().split())) for _ in range(N-1) ]\n",
    "G = [ list() for _ in range(N) ]\n",
    "for a, b in edges:\n",
    "    G[a-1].append(b-1)\n",
    "    G[b-1].append(a-1)\n",
    "\n",
    "def bfs(s):\n",
    "    dist = [-1] * N\n",
    "    dist[s] = 0\n",
    "    q = deque()\n",
    "    q.append(s)\n",
    "\n",
    "    while len(q)>0:\n",
    "        pos = q.popleft()\n",
    "        for nex in G[pos]:\n",
    "            if dist[nex] == -1:\n",
    "                dist[nex] = dist[pos] + 1\n",
    "                q.append(nex)\n",
    "    return dist\n",
    "# ans = []\n",
    "ans = bfs(0)\n",
    "for i in range(Q):\n",
    "    c, d = map(int, input().split())\n",
    "    c-=1\n",
    "    d-=1\n",
    "    tmp = ans[c]+ans[d]\n",
    "    if tmp%2==0:\n",
    "        print(\"Town\")\n",
    "    else:\n",
    "        print(\"Road\")"
   ]
  },
  {
   "cell_type": "code",
   "execution_count": 39,
   "id": "17780ace-541b-4561-aafd-43d6bf3ba765",
   "metadata": {
    "tags": []
   },
   "outputs": [
    {
     "name": "stdin",
     "output_type": "stream",
     "text": [
      " 7 8\n",
      " 1 3\n",
      " 1 4\n",
      " 2 3\n",
      " 2 4\n",
      " 2 5\n",
      " 2 6\n",
      " 5 7\n",
      " 6 7\n"
     ]
    },
    {
     "name": "stdout",
     "output_type": "stream",
     "text": [
      "4\n"
     ]
    }
   ],
   "source": [
    "# 211 D　ある都市から目的の都市に最短で移動できる経路の数\n",
    "from collections import deque\n",
    "\n",
    "N, M = map(int, input().split())\n",
    "edges = [ tuple(map(int, input().split())) for _ in range(M) ]\n",
    "G = [ list() for _ in range(N) ]\n",
    "for a, b in edges:\n",
    "    G[a-1].append(b-1)\n",
    "    G[b-1].append(a-1)\n",
    "\n",
    "\n",
    "dist = [-1] * N\n",
    "dist[0] = 0\n",
    "q = deque()\n",
    "q.append(0)\n",
    "cnt=[0]*N\n",
    "cnt[0]=1\n",
    "    \n",
    "while len(q)>0:\n",
    "    pos = q.popleft()\n",
    "    for nex in G[pos]:\n",
    "        if dist[nex] == -1:\n",
    "            dist[nex] = dist[pos] + 1\n",
    "            q.append(nex)\n",
    "            cnt[nex]=cnt[pos]\n",
    "        elif dist[nex]==dist[pos]+1:\n",
    "            cnt[nex]+=cnt[pos]\n",
    "            cnt[nex]%=10**9+7\n",
    "ans = cnt[N-1]\n",
    "print(ans)\n"
   ]
  },
  {
   "cell_type": "code",
   "execution_count": 39,
   "id": "acb0cf4d-a097-4a8c-917f-c2082e1f005e",
   "metadata": {},
   "outputs": [
    {
     "name": "stdin",
     "output_type": "stream",
     "text": [
      " 3 3\n",
      " 10\n",
      " 1 2 2\n",
      " 1 1 1\n",
      " 2 1 1 2 2\n"
     ]
    },
    {
     "name": "stdout",
     "output_type": "stream",
     "text": [
      "No\n"
     ]
    },
    {
     "name": "stdin",
     "output_type": "stream",
     "text": [
      " 1 3 2\n",
      " 2 1 1 2 2\n"
     ]
    },
    {
     "name": "stdout",
     "output_type": "stream",
     "text": [
      "No\n"
     ]
    },
    {
     "name": "stdin",
     "output_type": "stream",
     "text": [
      " 2 2 2 3 2\n"
     ]
    },
    {
     "name": "stdout",
     "output_type": "stream",
     "text": [
      "Yes\n"
     ]
    },
    {
     "name": "stdin",
     "output_type": "stream",
     "text": [
      " 1 2 3\n",
      " 1 2 1\n",
      " 2 1 1 2 2\n"
     ]
    },
    {
     "name": "stdout",
     "output_type": "stream",
     "text": [
      "Yes\n"
     ]
    },
    {
     "name": "stdin",
     "output_type": "stream",
     "text": [
      " 2 1 1 3 3\n"
     ]
    },
    {
     "name": "stdout",
     "output_type": "stream",
     "text": [
      "No\n"
     ]
    }
   ],
   "source": [
    "class unionfind:\n",
    "    def __init__(self, n):\n",
    "        self.n = n\n",
    "        self.par = [-1] * (n)\n",
    "        self.size = [1] * (n)\n",
    "        \n",
    "    def root(self, x):\n",
    "        while self.par[x] != -1:\n",
    "            x = self.par[x]\n",
    "        return x\n",
    "    \n",
    "    def unite(self, u, v):\n",
    "        rootu = self.root(u)\n",
    "        rootv = self.root(v)\n",
    "        if rootu != rootv:\n",
    "            if self.size[rootu] < self.size[rootv]:\n",
    "                self.par[rootu] = rootv\n",
    "                self.size[rootv] += self.size[rootu]\n",
    "            else:\n",
    "                self.par[rootv] = rootu\n",
    "                self.size[rootu] += self.size[rootv]\n",
    "        \n",
    "    def same(self, u, v):\n",
    "        return self.root(u) == self.root(v)\n",
    "            \n",
    "H, W = map(int, input().split())\n",
    "Q = int(input())\n",
    "now = [ [False]*(W+2) for _ in range(H+2) ]\n",
    "uf = unionfind(H*W)\n",
    "Red = set()\n",
    "for i in range(Q):\n",
    "    query = list(map(int, input().split()))\n",
    "    # print(query)\n",
    "    if query[0]==1:\n",
    "        t, r, c = query\n",
    "        r -= 1\n",
    "        c -= 1\n",
    "        Red.add((r, c))\n",
    "        for i, j in [(1, 0), (-1, 0), (0, 1), (0, -1)]:\n",
    "            if (r+i, c+j) in Red:\n",
    "                uf.unite(r*W+c, (r+i)*W+c+j)\n",
    "    elif query[0]==2:\n",
    "        t, r1, c1, r2, c2 = query\n",
    "        r1-=1\n",
    "        c1-=1\n",
    "        r2-=1\n",
    "        c2-=1\n",
    "        if (r1, c1) in Red:\n",
    "            if uf.same(r1*W+c1, r2*W+c2):\n",
    "                print(\"Yes\")\n",
    "            else:\n",
    "                print(\"No\")\n",
    "        else:\n",
    "            print(\"No\")"
   ]
  },
  {
   "cell_type": "code",
   "execution_count": 1,
   "id": "2eb1f53c-7c91-4e40-b44f-3ba8ef104c67",
   "metadata": {
    "tags": []
   },
   "outputs": [
    {
     "name": "stdin",
     "output_type": "stream",
     "text": [
      " \n"
     ]
    },
    {
     "ename": "ValueError",
     "evalue": "invalid literal for int() with base 10: ''",
     "output_type": "error",
     "traceback": [
      "\u001b[1;31m---------------------------------------------------------------------------\u001b[0m",
      "\u001b[1;31mValueError\u001b[0m                                Traceback (most recent call last)",
      "Cell \u001b[1;32mIn[1], line 1\u001b[0m\n\u001b[1;32m----> 1\u001b[0m N \u001b[38;5;241m=\u001b[39m \u001b[38;5;28mint\u001b[39m(\u001b[38;5;28minput\u001b[39m())\n\u001b[0;32m      2\u001b[0m time \u001b[38;5;241m=\u001b[39m []\n\u001b[0;32m      3\u001b[0m edges \u001b[38;5;241m=\u001b[39m [[] \u001b[38;5;28;01mfor\u001b[39;00m _ \u001b[38;5;129;01min\u001b[39;00m \u001b[38;5;28mrange\u001b[39m(N)]\n",
      "\u001b[1;31mValueError\u001b[0m: invalid literal for int() with base 10: ''"
     ]
    }
   ],
   "source": [
    "# デイリートレーニングより、ある技を覚えるのに必要な時間\n",
    "# それぞれの技を覚えるためには必要な技があり、それぞれに時間がかかる\n",
    "N = int(input())\n",
    "time = []\n",
    "edges = [[] for _ in range(N)]\n",
    "\n",
    "for i in range(N):\n",
    "    tmp = list(map(int,input().split()))\n",
    "    time.append(tmp[0])\n",
    "    for a in tmp[2:]:\n",
    "        edges[i].append(a-1)\n",
    "# print(edge)\n",
    "ans = 0\n",
    "que = [N-1]\n",
    "seen = set()\n",
    "while que:\n",
    "    q = que.pop()\n",
    "    if q in seen:\n",
    "        continue\n",
    "    seen.add(q)\n",
    "    ans += time[q]\n",
    "    for nex in edges[q]:\n",
    "        if nex in seen:\n",
    "            continue\n",
    "        que.append(nex)\n",
    "print(ans)"
   ]
  },
  {
   "cell_type": "code",
   "execution_count": null,
   "id": "bd9ee34e-aa08-47f1-a421-cca99a5a41f3",
   "metadata": {
    "tags": []
   },
   "outputs": [],
   "source": [
    "# 214 D 最短パスに含まれる最大の辺の重みの総和\n",
    "class DSU:\n",
    "    def __init__(self, n):\n",
    "        self.parent = list(range(n))\n",
    "        self.rank = [1] * n\n",
    "        self.size = [1] * n\n",
    "\n",
    "    def find(self, x):\n",
    "        if self.parent[x] != x:\n",
    "            self.parent[x] = self.find(self.parent[x])\n",
    "        return self.parent[x]\n",
    "\n",
    "    def merge(self, x, y):\n",
    "        rootX = self.find(x)\n",
    "        rootY = self.find(y)\n",
    "        if rootX != rootY:\n",
    "            if self.rank[rootX] > self.rank[rootY]:\n",
    "                self.parent[rootY] = rootX\n",
    "                self.size[rootX] += self.size[rootY]\n",
    "            elif self.rank[rootX] < self.rank[rootY]:\n",
    "                self.parent[rootX] = rootY\n",
    "                self.size[rootY] += self.size[rootX]\n",
    "            else:\n",
    "                self.parent[rootY] = rootX\n",
    "                self.size[rootX] += self.size[rootY]\n",
    "                self.rank[rootX] += 1\n",
    "\n",
    "    def size(self, x):\n",
    "        return self.size[self.find(x)]\n",
    "\n",
    "def main():\n",
    "    import sys\n",
    "    input = sys.stdin.read\n",
    "    data = input().split()\n",
    "    index = 0\n",
    "\n",
    "    N = int(data[index])\n",
    "    index += 1\n",
    "    edges = []\n",
    "\n",
    "    for _ in range(N - 1):\n",
    "        u = int(data[index]) - 1\n",
    "        v = int(data[index + 1]) - 1\n",
    "        w = int(data[index + 2])\n",
    "        index += 3\n",
    "        edges.append((w, u, v))\n",
    "\n",
    "    edges.sort()\n",
    "    dsu = DSU(N)\n",
    "    ans = 0\n",
    "\n",
    "    for w, u, v in edges:\n",
    "        ans += w * dsu.size[u] * dsu.size[v]\n",
    "        dsu.merge(u, v)\n",
    "\n",
    "    print(ans)\n",
    "\n",
    "if __name__ == \"__main__\":\n",
    "    main()"
   ]
  },
  {
   "cell_type": "code",
   "execution_count": 24,
   "id": "c75839fa-2a1b-4377-9fcb-64eff73e6d10",
   "metadata": {
    "tags": []
   },
   "outputs": [
    {
     "name": "stdin",
     "output_type": "stream",
     "text": [
      " 5\n",
      " 1 2 1\n",
      " 2 3 2\n",
      " 4 2 5\n",
      " 3 5 14\n"
     ]
    },
    {
     "name": "stdout",
     "output_type": "stream",
     "text": [
      "76\n"
     ]
    }
   ],
   "source": [
    "class unionfind:\n",
    "    def __init__(self, n):\n",
    "        self.n = n\n",
    "        self.par = [-1] * (n)\n",
    "        self.size = [1] * (n)\n",
    "        \n",
    "    def root(self, x):\n",
    "        while self.par[x] != -1:\n",
    "            x = self.par[x]\n",
    "        return x\n",
    "    \n",
    "    def unite(self, u, v):\n",
    "        rootu = self.root(u)\n",
    "        rootv = self.root(v)\n",
    "        if rootu != rootv:\n",
    "            if self.size[rootu] < self.size[rootv]:\n",
    "                self.par[rootu] = rootv\n",
    "                self.size[rootv] += self.size[rootu]\n",
    "            else:\n",
    "                self.par[rootv] = rootu\n",
    "                self.size[rootu] += self.size[rootv]\n",
    "        \n",
    "    def same(self, u, v):\n",
    "        return self.root(u) == self.root(v)\n",
    "    def rsize(self, u):\n",
    "        return self.size[self.root(u)]\n",
    "\n",
    "N =int(input())\n",
    "edges = []\n",
    "for i in range(N-1):\n",
    "    u, v, w = map(int, input().split())\n",
    "    u-=1\n",
    "    v-=1\n",
    "    edges.append((w, u, v))\n",
    "edges.sort()\n",
    "uf = unionfind(N)\n",
    "ans = 0\n",
    "\n",
    "for w, u, v in edges:\n",
    "    ans += w*uf.rsize(u)*uf.rsize(v)\n",
    "    uf.unite(u, v)\n",
    "print(ans)"
   ]
  },
  {
   "cell_type": "code",
   "execution_count": 2,
   "id": "00d31541-7b04-4f8f-af37-2974efb7a43c",
   "metadata": {
    "tags": []
   },
   "outputs": [
    {
     "name": "stdin",
     "output_type": "stream",
     "text": [
      " 5\n",
      " 4\n",
      " 3\n",
      " 1\n",
      " 2\n",
      " 1\n"
     ]
    },
    {
     "name": "stdout",
     "output_type": "stream",
     "text": [
      "2\n"
     ]
    }
   ],
   "source": [
    "# 236 D 可能なペアの組み合わせの総計を全探索\n",
    "N = int(input())\n",
    "A = [[None] * (2 * N) for _ in range(2 * N)]\n",
    "\n",
    "for i in range(2*N - 1):\n",
    "    array = [None] * (i + 1) + list(map(int, input().split()))\n",
    "    for j in range(2*N):\n",
    "        if array[j] is None:\n",
    "            continue\n",
    "        \n",
    "        A[i][j] = array[j]\n",
    "        A[j][i] = array[j]\n",
    "\n",
    "ans = 0\n",
    "stack = [(0, 0)]\n",
    "while stack:\n",
    "    bitset, val = stack.pop()\n",
    "    \n",
    "    if bitset == (1 << (2 * N)) - 1:\n",
    "        ans = max(val, ans)\n",
    "        continue\n",
    "    \n",
    "    i = min(x for x in range(2*N) if (bitset >> x) & 1 == 0)\n",
    "    for j in range(i+1, 2*N):\n",
    "        if (bitset >> j) & 1 == 0:\n",
    "            next_bitset = bitset | (1 << i) | (1 << j)\n",
    "            next_val = val ^ A[i][j]\n",
    "            stack.append((next_bitset, next_val))\n",
    "\n",
    "print(ans)\n",
    "            "
   ]
  },
  {
   "cell_type": "code",
   "execution_count": 14,
   "id": "4d271b35-7e97-424a-940e-7d8c01ab2353",
   "metadata": {
    "tags": []
   },
   "outputs": [
    {
     "name": "stdin",
     "output_type": "stream",
     "text": [
      " 3 3\n",
      " 1 3\n",
      " 2 3\n",
      " 2 10\n",
      " 3 100\n",
      " 1 1\n"
     ]
    },
    {
     "name": "stdout",
     "output_type": "stream",
     "text": [
      "1 111 101\n"
     ]
    }
   ],
   "source": [
    "# 138 D オイラーツアーを利用\n",
    "from collections import defaultdict\n",
    "import sys\n",
    "\n",
    "sys.setrecursionlimit(100000000)\n",
    "N, Q = map(int, input().split())\n",
    "edges = [ tuple(map(int, input().split())) for _ in range(N-1) ]\n",
    "queries = [ tuple(map(int, input().split())) for _ in range(Q) ]\n",
    "scores = [0]*N\n",
    "for a, score in queries:\n",
    "    scores[a-1] += score\n",
    "# dic = defaultdict(lambda: set())\n",
    "def dfs(pos, score):\n",
    "    route.append(pos)\n",
    "    visited[pos] = True\n",
    "    ans[pos]+=score\n",
    "    for nex in G[pos]:\n",
    "        if not visited[nex]:\n",
    "            dfs(nex, score+scores[nex])\n",
    "            # route.append(pos)\n",
    "    # visited[pos] = False\n",
    "visited = [False]*N\n",
    "route = []\n",
    "G = [ list() for _ in range(N) ]\n",
    "for a, b in edges:\n",
    "    G[a-1].append(b-1)\n",
    "    G[b-1].append(a-1)\n",
    "ans = [0]*N\n",
    "dfs(0, scores[0])\n",
    "\n",
    "print(*ans)\n",
    "  "
   ]
  },
  {
   "cell_type": "code",
   "execution_count": 8,
   "id": "db52b153-c2a7-4d80-99e3-f5e2ef8ceca7",
   "metadata": {
    "tags": []
   },
   "outputs": [
    {
     "name": "stdin",
     "output_type": "stream",
     "text": [
      " 3\n",
      " 3\n",
      " 1 0 1\n",
      " 0 1 0\n",
      " 1 0 1\n"
     ]
    },
    {
     "name": "stdout",
     "output_type": "stream",
     "text": [
      "1\n"
     ]
    }
   ],
   "source": [
    "import sys\n",
    "\n",
    "sys.setrecursionlimit(100000000)\n",
    "N = int(input())\n",
    "M = int(input())\n",
    "S = []\n",
    "for i in range(M):\n",
    "  S.append(list(map(int, input().split())))\n",
    "\n",
    "def dfs(h, w, depth, visited):\n",
    "  global ans\n",
    "  visited[h][w] = True\n",
    "  ans = max(ans, depth)\n",
    "  for hh, ww in move:\n",
    "    if 0<=h+hh<M and 0<=w+ww<N and not visited[h+hh][w+ww] and S[h+hh][w+ww]==1:\n",
    "      dfs(h+hh, w+ww, depth+1, visited)\n",
    "move = [(-1, 0), (1, 0), (0, -1), (0, 1)]\n",
    "ans = 0\n",
    "for i in range(M):\n",
    "    for j in range(N):\n",
    "        visited = [[False]*N for _ in range(M)]\n",
    "        dfs(i, j, 0, visited)\n",
    "print(ans)"
   ]
  },
  {
   "cell_type": "code",
   "execution_count": 9,
   "id": "b8207039-c872-4ec9-928f-e7b1eeb517cf",
   "metadata": {},
   "outputs": [
    {
     "name": "stdin",
     "output_type": "stream",
     "text": [
      " 4\n",
      " 4\n",
      " 1 1 0 0\n",
      " 0 1 1 0\n",
      " 0 1 0 0\n",
      " 1 1 1 0\n"
     ]
    },
    {
     "name": "stdout",
     "output_type": "stream",
     "text": [
      "6\n"
     ]
    }
   ],
   "source": [
    "import sys\n",
    "sys.setrecursionlimit(100000000)\n",
    "\n",
    "N = int(input())\n",
    "M = int(input())\n",
    "S = []\n",
    "for i in range(M):\n",
    "    S.append(list(map(int, input().split())))\n",
    "\n",
    "def dfs(h, w, depth, visited):\n",
    "    visited[h][w] = True\n",
    "    max_depth = depth\n",
    "    for hh, ww in move:\n",
    "        nh, nw = h + hh, w + ww\n",
    "        if 0 <= nh < M and 0 <= nw < N and not visited[nh][nw] and S[nh][nw] == 1:\n",
    "            max_depth = max(max_depth, dfs(nh, nw, depth + 1, visited))\n",
    "    visited[h][w] = False  # DFS後に訪問状態を元に戻す\n",
    "    return max_depth\n",
    "\n",
    "move = [(-1, 0), (1, 0), (0, -1), (0, 1)]\n",
    "ans = 0\n",
    "for i in range(M):\n",
    "    for j in range(N):\n",
    "        if S[i][j] == 1:  # 1の位置からのみ探索を開始\n",
    "            visited = [[False] * N for _ in range(M)]\n",
    "            ans = max(ans, dfs(i, j, 1, visited))  # 最初のマスをカウントに含める\n",
    "\n",
    "print(ans)"
   ]
  },
  {
   "cell_type": "code",
   "execution_count": 2,
   "id": "126c4bb8-1670-4f81-b3f8-9bd057650b1d",
   "metadata": {},
   "outputs": [
    {
     "name": "stdin",
     "output_type": "stream",
     "text": [
      " 2 6\n",
      " 99\n",
      " 20\n",
      " 490\n",
      " 612\n",
      " 515\n",
      " 131\n",
      " 931\n",
      " 1000\n"
     ]
    },
    {
     "name": "stdout",
     "output_type": "stream",
     "text": [
      "31589\n"
     ]
    }
   ],
   "source": [
    "N, M = map(int, input().split())\n",
    "D = []\n",
    "C = []\n",
    "for _ in range(N):\n",
    "    D.append(int(input()))\n",
    "for _ in range(M):\n",
    "    C.append(int(input()))\n",
    "dp = [ [10000000000]*(N+1) for _ in range(M+1) ]\n",
    "dp[0][0] = 0\n",
    "for i in range(M):\n",
    "    c = C[i]\n",
    "    for j in range(N):\n",
    "        dp[i+1][j] = min(dp[i][j], dp[i+1][j])\n",
    "        dp[i+1][j+1] = min(dp[i][j+1], dp[i][j]+c*D[j], dp[i+1][j+1])\n",
    "print(dp[M][N])"
   ]
  },
  {
   "cell_type": "code",
   "execution_count": 19,
   "id": "352abf02-ff3d-4dac-a43a-b699e4594e45",
   "metadata": {
    "tags": []
   },
   "outputs": [
    {
     "name": "stdin",
     "output_type": "stream",
     "text": [
      " 20 5\n",
      " 10 2\n",
      " 4 3\n",
      " 12 1\n",
      " 13 2\n",
      " 9 1\n"
     ]
    },
    {
     "name": "stdout",
     "output_type": "stream",
     "text": [
      "2640\n"
     ]
    }
   ],
   "source": [
    "# dp[i日目に][パスタjを作る]組合せの数\n",
    "# ただし、3日連続で同じパスタは作れないため、2日連続で同じパスタを作る時は\n",
    "# パスタj+3に遷移する\n",
    "N, K = map(int, input().split())\n",
    "P = [ tuple(map(int, input().split())) for _ in range(K) ]\n",
    "dp = [ [0]*6 for _ in range(N+1) ]\n",
    "dic = {}\n",
    "for a, b in P:\n",
    "    dic[a] = b\n",
    "for i in range(N):\n",
    "    if i+1 in dic:\n",
    "        if i==0:\n",
    "            dp[i+1][dic[1]-1] = 1\n",
    "        else:\n",
    "            for j in range(6):\n",
    "                if j==dic[i+1]-1:\n",
    "                    dp[i+1][dic[i+1]+2] += dp[i][j]%10000\n",
    "                elif j!=dic[i+1]+2:\n",
    "                    dp[i+1][dic[i+1]-1] += dp[i][j]%10000\n",
    "    else:\n",
    "        if i==0:\n",
    "            for j in range(3):\n",
    "                dp[i+1][j] = 1\n",
    "        for j in range(6):\n",
    "            for k in range(6):\n",
    "                    if j<3 and k<3 and j!=k:\n",
    "                        dp[i+1][k] += dp[i][j]%10000\n",
    "                    elif j<3 and k==j+3:\n",
    "                        dp[i+1][k] += dp[i][j]%10000\n",
    "                    elif j>=3 and k!=j-3 and k<3:\n",
    "                        dp[i+1][k] += dp[i][j]%10000\n",
    "    # print(dp[i])\n",
    "print(sum(dp[N])%10000)"
   ]
  },
  {
   "cell_type": "code",
   "execution_count": 13,
   "id": "d2ef900b-15bf-471c-b08c-de245a9a4302",
   "metadata": {
    "tags": []
   },
   "outputs": [
    {
     "data": {
      "text/plain": [
       "[[0, 0, 0, 0, 0, 0],\n",
       " [1, 0, 0, 0, 0, 0],\n",
       " [1, 1, 1, 1, 0, 0],\n",
       " [2, 0, 0, 1, 0, 0],\n",
       " [0, 3, 0, 0, 0, 0],\n",
       " [3, 3, 3, 0, 3, 0]]"
      ]
     },
     "execution_count": 13,
     "metadata": {},
     "output_type": "execute_result"
    }
   ],
   "source": [
    "dp"
   ]
  },
  {
   "cell_type": "code",
   "execution_count": 11,
   "id": "c29c7beb-dc7b-422b-94c8-4dc3119c7231",
   "metadata": {
    "tags": []
   },
   "outputs": [
    {
     "data": {
      "text/plain": [
       "{3: 1, 1: 1, 4: 2}"
      ]
     },
     "execution_count": 11,
     "metadata": {},
     "output_type": "execute_result"
    }
   ],
   "source": [
    "dic"
   ]
  },
  {
   "cell_type": "code",
   "execution_count": null,
   "id": "5b1d4c78-48dc-42b0-a51c-f1033aa69d03",
   "metadata": {},
   "outputs": [],
   "source": []
  }
 ],
 "metadata": {
  "kernelspec": {
   "display_name": "Python 3 (ipykernel)",
   "language": "python",
   "name": "python3"
  },
  "language_info": {
   "codemirror_mode": {
    "name": "ipython",
    "version": 3
   },
   "file_extension": ".py",
   "mimetype": "text/x-python",
   "name": "python",
   "nbconvert_exporter": "python",
   "pygments_lexer": "ipython3",
   "version": "3.11.4"
  }
 },
 "nbformat": 4,
 "nbformat_minor": 5
}
