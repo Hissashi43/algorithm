{
 "cells": [
  {
   "cell_type": "code",
   "execution_count": 12,
   "id": "42436041-47cc-4975-a4e4-9f960ddbb8c8",
   "metadata": {},
   "outputs": [
    {
     "name": "stdin",
     "output_type": "stream",
     "text": [
      " 7\n",
      " 1 1\n",
      " 4 1\n",
      " 2 5\n",
      " 3 4\n",
      " 3 2\n",
      " 4 2\n",
      " 5 5\n"
     ]
    },
    {
     "name": "stdout",
     "output_type": "stream",
     "text": [
      "1\n",
      "5\n",
      "6\n",
      "2\n",
      "4\n",
      "3\n",
      "7\n",
      "1\n"
     ]
    }
   ],
   "source": [
    "#46 貪欲法\n",
    "\n",
    "N = int(input())\n",
    "loc = []\n",
    "for _ in range(N):\n",
    "    x, y = map(int, input().split())\n",
    "    loc.append([x, y])\n",
    "def cal_dist(a, b):\n",
    "    return ((a[0]-b[0])**2 + (a[1]-b[1])**2) ** 0.5\n",
    "inf = 1.0e9\n",
    "P = [None]*(N+1)\n",
    "\n",
    "def PlayGreedy(loc):\n",
    "    cl = 0\n",
    "    visited = [False] * (N+1)\n",
    "    visited[0] = True\n",
    "    P[0] = 0\n",
    "    \n",
    "    for i in range(1, N):\n",
    "        min_dist = inf\n",
    "        min_loc = -1\n",
    "    \n",
    "        for j in range(1, N):\n",
    "            if visited[j]==True:\n",
    "                continue\n",
    "            ndist = cal_dist(loc[cl], loc[j])\n",
    "            if ndist<min_dist:\n",
    "                min_dist = ndist\n",
    "                min_loc = j\n",
    "            \n",
    "        visited[min_loc] = True\n",
    "        cl = min_loc\n",
    "        P[i] = min_loc\n",
    "    P[N] = 0\n",
    "\n",
    "PlayGreedy(loc)\n",
    "for i in range(N+1):\n",
    "    print(P[i]+1)"
   ]
  },
  {
   "cell_type": "code",
   "execution_count": 54,
   "id": "e6cf3669-2d6e-4433-8982-534c49531bbe",
   "metadata": {},
   "outputs": [
    {
     "name": "stdin",
     "output_type": "stream",
     "text": [
      " 7\n",
      " 1 1\n",
      " 4 1\n",
      " 2 5\n",
      " 3 4\n",
      " 3 2\n",
      " 4 2\n",
      " 5 5\n"
     ]
    },
    {
     "name": "stdout",
     "output_type": "stream",
     "text": [
      "1\n",
      "3\n",
      "4\n",
      "2\n",
      "5\n",
      "6\n",
      "7\n",
      "1\n"
     ]
    }
   ],
   "source": [
    "#局所探索法\n",
    "import random\n",
    "\n",
    "N = int(input())\n",
    "loc = []\n",
    "for _ in range(N):\n",
    "    x, y = map(int, input().split())\n",
    "    loc.append([x, y])\n",
    "def cal_dist(a, b):\n",
    "    return ((a[0]-b[0])**2 + (a[1]-b[1])**2) ** 0.5\n",
    "random_num = random.randint(1, N)\n",
    "newscore = 0\n",
    "def GetScore():\n",
    "    newscore = 0\n",
    "    for i in range(N):\n",
    "        if i!=N-1:\n",
    "            newscore += cal_dist(loc[i], loc[i+1])\n",
    "        elif i==N-1:\n",
    "            newscore += cal_dist(loc[N-1], loc[1])\n",
    "    return newscore\n",
    "cs = GetScore()\n",
    "croot = [i+1 for i in range(N)]\n",
    "croot.append(1)\n",
    "for _ in range(50000):\n",
    "    L = random.randint(1, N-1)\n",
    "    R = random.randint(1, N-1)\n",
    "    if L>R:\n",
    "        L, R = R, L\n",
    "    loc[L:R] = reversed(loc[L:R])    \n",
    "    newscore = GetScore()\n",
    "    if cs>newscore:\n",
    "        cs = newscore\n",
    "        croot[L:R] = reversed(croot[L:R])\n",
    "    else:\n",
    "        loc[L:R] = reversed(loc[L:R])\n",
    "for i in range(N+1):\n",
    "    print(croot[i])"
   ]
  },
  {
   "cell_type": "code",
   "execution_count": 69,
   "id": "4cf4174b-a8a9-4937-9cf9-c4140aa6bfa8",
   "metadata": {},
   "outputs": [
    {
     "name": "stdin",
     "output_type": "stream",
     "text": [
      " 7\n",
      " 1 1\n",
      " 4 1\n",
      " 2 5\n",
      " 3 4\n",
      " 3 2\n",
      " 4 2\n",
      " 5 5\n"
     ]
    },
    {
     "name": "stdout",
     "output_type": "stream",
     "text": [
      "1\n",
      "6\n",
      "2\n",
      "5\n",
      "4\n",
      "3\n",
      "7\n",
      "1\n"
     ]
    }
   ],
   "source": [
    "#焼きなまし法\n",
    "import random\n",
    "import math\n",
    "\n",
    "N = int(input())\n",
    "loc = []\n",
    "for _ in range(N):\n",
    "    x, y = map(int, input().split())\n",
    "    loc.append([x, y])\n",
    "def cal_dist(a, b):\n",
    "    return ((a[0]-b[0])**2 + (a[1]-b[1])**2) ** 0.5\n",
    "\n",
    "random_num = random.randint(1, N)\n",
    "newscore = 0\n",
    "def GetScore():\n",
    "    newscore = 0\n",
    "    for i in range(N):\n",
    "        if i!=N-1:\n",
    "            newscore += cal_dist(loc[i], loc[i+1])\n",
    "        elif i==N-1:\n",
    "            newscore += cal_dist(loc[N-1], loc[1])\n",
    "    return newscore\n",
    "cs = GetScore()\n",
    "croot = [i+1 for i in range(N)]\n",
    "croot.append(1)\n",
    "for t in range(10000):\n",
    "    L = random.randint(1, N-1)\n",
    "    R = random.randint(1, N-1)\n",
    "    if L>R:\n",
    "        L, R = R, L\n",
    "    loc[L:R] = reversed(loc[L:R])    \n",
    "    newscore = GetScore()\n",
    "    \n",
    "    T = 30.0 - 28.0 * t / 10000.0\n",
    "    probability = math.exp(min(0.0, (cs - newscore) / T))\n",
    "    ra = random.random()\n",
    "    if probability>ra:\n",
    "        cs = newscore\n",
    "        croot[L:R] = reversed(croot[L:R])\n",
    "    else:\n",
    "        loc[L:R] = reversed(loc[L:R])\n",
    "for i in range(N+1):\n",
    "    print(croot[i])"
   ]
  },
  {
   "cell_type": "code",
   "execution_count": 70,
   "id": "454d0df5-785a-4b2b-b9c3-2bfed1b1e77c",
   "metadata": {},
   "outputs": [
    {
     "data": {
      "text/plain": [
       "15.15298244508295"
      ]
     },
     "execution_count": 70,
     "metadata": {},
     "output_type": "execute_result"
    }
   ],
   "source": [
    "GetScore()"
   ]
  },
  {
   "cell_type": "code",
   "execution_count": null,
   "id": "2e42ade6-5433-4836-80ac-ba5e7cc3e22c",
   "metadata": {},
   "outputs": [],
   "source": [
    "#A49 ビームサーチ\n",
    "T = int(input())\n",
    "op = []\n",
    "for _ in range(T):\n",
    "    p, q, r = map(int, input().split())\n",
    "    op.append([p, q, r])\n",
    "\n",
    "def evaluation\n",
    "#p, q, rに対して操作Aと操作Bのスコアを評価する ←　スコアを保存しておく必要ある\n",
    "#スコアは各操作が終わった後でTの要素の中の０の数の合計で計算され、各操作終了後に加算される　←　操作終了後にスコアを加算する\n",
    "#ビームサーチではビーム幅の分だけ選択肢を残しておき、次の操作時に最上位の選択肢だけでなく、それらの選択肢のスコアも計算する\n",
    "# その結果、上位のスコアをビーム幅の分だけ残しておき、それらをそのまた次の操作時に計算する流れとなる\n",
    "# これを実装するためには、計算されたスコアをリスト内に保管した上で「評価」する際にソートして、上位の操作だけを計算に使用する\n"
   ]
  },
  {
   "cell_type": "code",
   "execution_count": 52,
   "id": "f64844f8-5d56-4f10-89a7-4bb94cd6f48f",
   "metadata": {},
   "outputs": [
    {
     "name": "stdin",
     "output_type": "stream",
     "text": [
      " 7\n",
      " 1 1\n",
      " 4 1\n",
      " 2 5\n",
      " 3 4\n",
      " 3 2\n",
      " 4 2\n",
      " 5 5\n"
     ]
    },
    {
     "name": "stdout",
     "output_type": "stream",
     "text": [
      "1\n",
      "4\n",
      "2\n",
      "6\n",
      "3\n",
      "5\n",
      "7\n",
      "1\n"
     ]
    }
   ],
   "source": [
    "import random\n",
    "\n",
    "N = int(input())\n",
    "loc = []\n",
    "for _ in range(N):\n",
    "    x, y = map(int, input().split())\n",
    "    loc.append([x, y])\n",
    "def cal_dist(a, b):\n",
    "    return ((a[0]-b[0])**2 + (a[1]-b[1])**2) ** 0.5\n",
    "inf = 1.0e9\n",
    "P = [None]*(N+1)\n",
    "\n",
    "def PlayGreedy(loc):\n",
    "    cl = 0\n",
    "    visited = [False] * (N+1)\n",
    "    visited[0] = True\n",
    "    P[0] = 0\n",
    "    \n",
    "    for i in range(1, N):\n",
    "        min_dist = inf\n",
    "        min_loc = -1\n",
    "    \n",
    "        for j in range(1, N):\n",
    "            if visited[j]==True:\n",
    "                continue\n",
    "            ndist = cal_dist(loc[cl], loc[j])\n",
    "            if ndist<min_dist:\n",
    "                min_dist = ndist\n",
    "                min_loc = j\n",
    "            \n",
    "        visited[min_loc] = True\n",
    "        cl = min_loc\n",
    "        P[i] = min_loc\n",
    "    P[N] = 0\n",
    "\n",
    "PlayGreedy(loc)\n",
    "\n",
    "newscore = 0\n",
    "def GetScore():\n",
    "    newscore = 0\n",
    "    for i in range(N):\n",
    "        if i!=N-1:\n",
    "            newscore += cal_dist(loc[i], loc[i+1])\n",
    "        elif i==N-1:\n",
    "            newscore += cal_dist(loc[N-1], loc[1])\n",
    "    return newscore\n",
    "cs = GetScore()\n",
    "croot = [1, 5, 6, 2, 4, 3, 7]\n",
    "croot.append(1)\n",
    "for _ in range(1000):\n",
    "    L = random.randint(1, N)\n",
    "    R = random.randint(1, N)\n",
    "    if L>R:\n",
    "        L, R = R, L\n",
    "    loc[L:R] = loc[L:R][::-1]\n",
    "    newscore = GetScore()\n",
    "    if cs>newscore:\n",
    "        cs = newscore\n",
    "        croot[L:R] = croot[L:R][::-1]\n",
    "    else:\n",
    "        loc[L:R] = loc[L:R][::-1]\n",
    "        croot[L:R] = croot[L:R][::-1]\n",
    "for i in range(N+1):\n",
    "    print(croot[i])"
   ]
  },
  {
   "cell_type": "code",
   "execution_count": 53,
   "id": "0b11d552-1cd5-4def-8b09-2eec523e18f8",
   "metadata": {},
   "outputs": [
    {
     "data": {
      "text/plain": [
       "14.22677276241436"
      ]
     },
     "execution_count": 53,
     "metadata": {},
     "output_type": "execute_result"
    }
   ],
   "source": [
    "GetScore()"
   ]
  },
  {
   "cell_type": "code",
   "execution_count": 37,
   "id": "e040e122-1abb-42f5-a574-d938d7f4df2b",
   "metadata": {},
   "outputs": [],
   "source": [
    "L = random_num\n",
    "R = random_num\n",
    "if L>R:\n",
    "    L, R = R, L\n",
    "loc[L:R] = loc[L:R][::-1]\n",
    "newscore = GetScore()\n",
    "if cs>newscore:\n",
    "    cs = newscore\n",
    "    croot[L:R] = croot[L:R][::-1]\n",
    "else:\n",
    "    loc[L:R] = loc[L:R][::-1]\n",
    "    croot[L:R] = croot[L:R][::-1]"
   ]
  },
  {
   "cell_type": "code",
   "execution_count": 43,
   "id": "3f1f11b4-b478-42a4-bb32-e896541090cb",
   "metadata": {},
   "outputs": [
    {
     "data": {
      "text/plain": [
       "5"
      ]
     },
     "execution_count": 43,
     "metadata": {},
     "output_type": "execute_result"
    }
   ],
   "source": [
    "L = random_num\n",
    "L"
   ]
  },
  {
   "cell_type": "code",
   "execution_count": 49,
   "id": "e2759047-6fab-43f4-8ae3-e8c3a974ab91",
   "metadata": {},
   "outputs": [
    {
     "data": {
      "text/plain": [
       "15.79669127533634"
      ]
     },
     "execution_count": 49,
     "metadata": {},
     "output_type": "execute_result"
    }
   ],
   "source": [
    "loc = [[1, 1], [3, 2], [4, 2], [4, 1], [3, 4], [5, 5], [2, 5]]\n",
    "GetScore()"
   ]
  },
  {
   "cell_type": "code",
   "execution_count": null,
   "id": "4bb9b3b2-7dfe-4bca-a593-d6c6fb0a8c78",
   "metadata": {},
   "outputs": [],
   "source": []
  }
 ],
 "metadata": {
  "kernelspec": {
   "display_name": "Python 3 (ipykernel)",
   "language": "python",
   "name": "python3"
  },
  "language_info": {
   "codemirror_mode": {
    "name": "ipython",
    "version": 3
   },
   "file_extension": ".py",
   "mimetype": "text/x-python",
   "name": "python",
   "nbconvert_exporter": "python",
   "pygments_lexer": "ipython3",
   "version": "3.11.4"
  }
 },
 "nbformat": 4,
 "nbformat_minor": 5
}
