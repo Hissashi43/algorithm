{
 "cells": [
  {
   "cell_type": "code",
   "execution_count": 11,
   "id": "d38f5290-3003-4725-a202-8dde733aa360",
   "metadata": {},
   "outputs": [
    {
     "name": "stdin",
     "output_type": "stream",
     "text": [
      " 5 4\n",
      " 1 2\n",
      " 2 3\n",
      " 3 4\n",
      " 3 5\n"
     ]
    },
    {
     "name": "stdout",
     "output_type": "stream",
     "text": [
      "1: {2}\n",
      "2: {1, 3}\n",
      "3: {2, 4, 5}\n",
      "4: {3}\n",
      "5: {3}\n"
     ]
    }
   ],
   "source": [
    "# A61 グラフ実装\n",
    "n, m = map(int, input().split())\n",
    "ad_list = [set() for _ in range(n + 1)]\n",
    "for i in range(m):\n",
    "    a, b = map(int, input().split())\n",
    "    ad_list[a].add(b)\n",
    "    ad_list[b].add(a)\n",
    " \n",
    "for i in range(1, n + 1):\n",
    "    if len(ad_list[i]) == 0:\n",
    "        print(f\"{i}: {{}}\")\n",
    "    else:\n",
    "        print(f\"{i}: {ad_list[i]}\")"
   ]
  },
  {
   "cell_type": "code",
   "execution_count": null,
   "id": "13275909-3f0a-4c32-91e5-88a8ead64191",
   "metadata": {},
   "outputs": [],
   "source": [
    "# B61 友達関係\n",
    "n, m = map(int, input().split())\n",
    "ad_list = [set() for _ in range(n + 1)]\n",
    "for i in range(m):\n",
    "    a, b = map(int, input().split())\n",
    "    ad_list[a].add(b)\n",
    "    ad_list[b].add(a)\n",
    "tmp = 0\n",
    "ans = None\n",
    "for i in range(1, n + 1):\n",
    "    if len(ad_list[i])>tmp:\n",
    "        tmp = len(ad_list[i])\n",
    "        ans = i\n",
    "print(ans)"
   ]
  },
  {
   "cell_type": "code",
   "execution_count": 22,
   "id": "22326d50-23a2-422e-9104-451e783e794e",
   "metadata": {},
   "outputs": [
    {
     "name": "stdin",
     "output_type": "stream",
     "text": [
      " 6 6\n",
      " 1 2\n",
      " 1 3\n",
      " 2 4\n",
      " 3 4\n",
      " 4 5\n",
      " 4 6\n"
     ]
    },
    {
     "name": "stdout",
     "output_type": "stream",
     "text": [
      "The graph is connected.\n"
     ]
    }
   ],
   "source": [
    "# A62 深さ優先探索 DFS\n",
    "import sys\n",
    "# from collections import deque\n",
    "\n",
    "sys.setrecursionlimit(120000)\n",
    "# roots = deque()\n",
    "\n",
    "def dfs(pos, G, visited):\n",
    "    visited[pos] = True\n",
    "    # roots.append(pos)\n",
    "    for i in G[pos]:\n",
    "        if visited[i] == False:\n",
    "            dfs(i, G, visited)\n",
    "            \n",
    "n, m = map(int, input().split())\n",
    "edges = [ list(map(int, input().split())) for i in range(m) ]\n",
    "\n",
    "#隣接リスト\n",
    "G = [ list() for i in range(n + 1)]\n",
    "for a, b in edges:\n",
    "    G[a].append(b)\n",
    "    G[b].append(a)\n",
    "    \n",
    "visited = [False] * (n + 1)\n",
    "dfs(1, G, visited)\n",
    "\n",
    "ans = True\n",
    "for i in range(1, n + 1):\n",
    "    if visited[i] == False:\n",
    "        ans = False\n",
    "        \n",
    "if ans == True:\n",
    "    print(\"The graph is connected.\")\n",
    "else:\n",
    "    print(\"The graph is not connected.\")"
   ]
  },
  {
   "cell_type": "code",
   "execution_count": 1,
   "id": "5e867c50-d9bd-49ed-b047-74bf4d37df9f",
   "metadata": {},
   "outputs": [
    {
     "name": "stdin",
     "output_type": "stream",
     "text": [
      " 5 4\n",
      " 1 2\n",
      " 2 3\n",
      " 3 4\n",
      " 3 5\n"
     ]
    },
    {
     "name": "stdout",
     "output_type": "stream",
     "text": [
      "1 2 3 5\n"
     ]
    }
   ],
   "source": [
    "# B62 深さ優先探索 DFS 1からNまでの経路を記録\n",
    "import sys\n",
    "from collections import deque\n",
    "\n",
    "sys.setrecursionlimit(120000)\n",
    "roots = deque()\n",
    "\n",
    "def dfs(pos, visited, G):\n",
    "    roots.append(pos)\n",
    "    if pos == n:\n",
    "        print(*roots)\n",
    "        exit()\n",
    "    visited[pos] = True\n",
    "    \n",
    "    for nex in G[pos]:\n",
    "        if not visited[nex]:\n",
    "            dfs(nex, visited, G)\n",
    "    roots.pop()\n",
    "    \n",
    "n, m = map(int, input().split())\n",
    "edges = [ list(map(int, input().split())) for i in range(m) ]\n",
    "\n",
    "#隣接リスト\n",
    "G = [ list() for i in range(n + 1)]\n",
    "for a, b in edges:\n",
    "    G[a].append(b)\n",
    "    G[b].append(a)\n",
    "    \n",
    "visited = [False] * (n + 1)\n",
    "dfs(1, visited, G)\n",
    "# ans = True\n",
    "# for i in range(1, n + 1):\n",
    "#     if visited[i] == False:\n",
    "#         ans = False\n",
    "        \n",
    "# if ans == True:\n",
    "#     print(\"The graph is connected.\")\n",
    "# else:\n",
    "#     print(\"The graph is not connected.\")"
   ]
  },
  {
   "cell_type": "code",
   "execution_count": null,
   "id": "26bbdc89-d28e-4b45-a023-5f0ea789205b",
   "metadata": {},
   "outputs": [],
   "source": [
    "# A63 幅優先探索 WFS 頂点からの距離を出力\n",
    "from collections import deque\n",
    "\n",
    "\n",
    "n, m = map(int, input().split())\n",
    "edges = [ list(map(int, input().split())) for i in range(m) ]\n",
    "\n",
    "#隣接リスト\n",
    "G = [ list() for i in range(n + 1)]\n",
    "for a, b in edges:\n",
    "    G[a].append(b)\n",
    "    G[b].append(a)\n",
    "    \n",
    "dist = [-1] * (n+1)\n",
    "dist[1] = 0\n",
    "q = deque()\n",
    "q.append(1)\n",
    "\n",
    "while len(q)>0:\n",
    "    pos = q.popleft()\n",
    "    for nex in G[pos]:\n",
    "        if dist[nex] == -1:\n",
    "            dist[nex] = dist[pos] + 1\n",
    "            q.append(nex)\n",
    "for item in dist[1:]:\n",
    "    print(item)   "
   ]
  },
  {
   "cell_type": "code",
   "execution_count": 14,
   "id": "14d0f1c1-cfed-4523-8710-bd291827dc4d",
   "metadata": {},
   "outputs": [
    {
     "name": "stdin",
     "output_type": "stream",
     "text": [
      " 7 8\n",
      " 2 2\n",
      " 4 5\n",
      " ########\n",
      " #......#\n",
      " #.######\n",
      " #..#...#\n",
      " #..##..#\n",
      " ##.....#\n",
      " ########\n"
     ]
    },
    {
     "name": "stdout",
     "output_type": "stream",
     "text": [
      "11\n"
     ]
    }
   ],
   "source": [
    "# B63 幅優先探索\n",
    "from collections import deque\n",
    "\n",
    "r, c = map(int, input().split())\n",
    "sx, sy = map(int, input().split())\n",
    "gx, gy = map(int, input().split())\n",
    "maze = [list(input()) for _ in range(r)]\n",
    "\n",
    "\n",
    "que = deque()\n",
    "que.append([sx-1, sy-1])\n",
    "dist = [ [-1]*c for _ in range(r)]\n",
    "dist[sx-1][sy-1]=0\n",
    "# for i in range(r):\n",
    "#     for j in range(c):\n",
    "#         pos = maze[i][j]\n",
    "#         if pos==\".\":\n",
    "#             G[i, j].append([i-1, j]); G.append\n",
    "\n",
    "while len(que)>0:\n",
    "    pos = que.popleft()\n",
    "    [a, b] = pos\n",
    "    if a==gx-1 and b==gy-1:\n",
    "        break\n",
    "    if maze[a][b+1]==\".\" and dist[a][b+1]==-1:\n",
    "        que.append([a, b+1])\n",
    "        dist[a][b+1] = dist[a][b]+1\n",
    "    if maze[a][b-1]==\".\" and dist[a][b-1]==-1:\n",
    "        que.append([a, b-1])\n",
    "        dist[a][b-1] = dist[a][b]+1\n",
    "    if maze[a+1][b]==\".\" and dist[a+1][b]==-1:\n",
    "        que.append([a+1, b])\n",
    "        dist[a+1][b] = dist[a][b]+1\n",
    "    if maze[a-1][b]==\".\" and dist[a-1][b]==-1:\n",
    "        que.append([a-1, b])\n",
    "        dist[a-1][b] = dist[a][b]+1\n",
    "\n",
    "print(int(dist[gx-1][gy-1]))\n",
    "  "
   ]
  },
  {
   "cell_type": "code",
   "execution_count": 15,
   "id": "b1b2e655-3312-442c-bde7-fb5132344f93",
   "metadata": {},
   "outputs": [
    {
     "name": "stdin",
     "output_type": "stream",
     "text": [
      " 6 7\n",
      " 1 2 15\n",
      " 1 4 20\n",
      " 2 3 65\n",
      " 2 5 4\n",
      " 3 6 50\n",
      " 4 5 30\n",
      " 5 6 8\n"
     ]
    },
    {
     "name": "stdout",
     "output_type": "stream",
     "text": [
      "0\n",
      "15\n",
      "77\n",
      "20\n",
      "19\n",
      "27\n"
     ]
    }
   ],
   "source": [
    "# A64 ダイクストラ法\n",
    "import heapq\n",
    "\n",
    "n, m = map(int, input().split())\n",
    "edges = [ list(map(int, input().split())) for i in range(m) ]\n",
    "\n",
    "G = [ list() for i in range(n + 1)]\n",
    "for a, b, c in edges:\n",
    "    G[a].append((b, c))\n",
    "    G[b].append((a, c))\n",
    "\n",
    "# 配列・キューの初期化（キューには（頂点、頂点番号）のタプルを記録）\n",
    "inf = 10**10\n",
    "kakutei = [False]*(n+1)\n",
    "cur = [inf]*(n+1)\n",
    "cur[1] = 0\n",
    "Q = []\n",
    "heapq.heappush(Q, (cur[1], 1))\n",
    "\n",
    "# ダイクストラ法\n",
    "while len(Q) >= 1:\n",
    "    pos = heapq.heappop(Q)[1]\n",
    "    \n",
    "    if kakutei[pos]==True:\n",
    "        continue\n",
    "    \n",
    "    kakutei[pos] = True\n",
    "    for e in G[pos]:\n",
    "        if cur[e[0]] > cur[pos] + e[1]:\n",
    "            cur[e[0]] = cur[pos] + e[1]\n",
    "            heapq.heappush(Q, (cur[e[0]], e[0]))\n",
    "\n",
    "for i in range(1, n+1):\n",
    "    if cur[i] != inf:\n",
    "        print(cur[i])\n",
    "    else:\n",
    "        print(\"-1\")\n"
   ]
  },
  {
   "cell_type": "code",
   "execution_count": 19,
   "id": "7e90d3ba-071b-4d4f-bb9e-46d398ed1f16",
   "metadata": {},
   "outputs": [
    {
     "name": "stdin",
     "output_type": "stream",
     "text": [
      " 6 7\n",
      " 1 2 15\n",
      " 1 4 20\n",
      " 2 3 65\n",
      " 2 5 4\n",
      " 3 6 50\n",
      " 4 5 30\n",
      " 5 6 8\n"
     ]
    },
    {
     "name": "stdout",
     "output_type": "stream",
     "text": [
      "1 2 5 6\n"
     ]
    }
   ],
   "source": [
    "# B64 ダイクストラ法 経路復元\n",
    "\n",
    "import heapq\n",
    "\n",
    "n, m = map(int, input().split())\n",
    "edges = [ list(map(int, input().split())) for i in range(m) ]\n",
    "\n",
    "G = [ list() for i in range(n + 1)]\n",
    "for a, b, c in edges:\n",
    "    G[a].append((b, c))\n",
    "    G[b].append((a, c))\n",
    "\n",
    "# 配列・キューの初期化（キューには（頂点、頂点番号）のタプルを記録）\n",
    "inf = 10**10\n",
    "kakutei = [False]*(n+1)\n",
    "cur = [inf]*(n+1)\n",
    "cur[1] = 0\n",
    "Q = []\n",
    "heapq.heappush(Q, (cur[1], 1))\n",
    "\n",
    "# ダイクストラ法\n",
    "while len(Q) >= 1:\n",
    "    pos = heapq.heappop(Q)[1]\n",
    "    \n",
    "    if kakutei[pos]==True:\n",
    "        continue\n",
    "    \n",
    "    kakutei[pos] = True\n",
    "    for e in G[pos]:\n",
    "        if cur[e[0]] > cur[pos] + e[1]:\n",
    "            cur[e[0]] = cur[pos] + e[1]\n",
    "            heapq.heappush(Q, (cur[e[0]], e[0]))\n",
    "\n",
    "# 経路の復元\n",
    "route = [n]\n",
    "t = n\n",
    "while t!=1:\n",
    "    for e in G[t]:\n",
    "        if cur[e[0]] == cur[t] - e[1]:\n",
    "            route.append(e[0])\n",
    "            t = e[0]\n",
    "route = route[::-1]\n",
    "print(*route)"
   ]
  },
  {
   "cell_type": "code",
   "execution_count": 30,
   "id": "fb6805dd-ca85-49eb-94b9-0ac620bde2e1",
   "metadata": {},
   "outputs": [
    {
     "name": "stdin",
     "output_type": "stream",
     "text": [
      " 7\n",
      " 1 1 3 2 4 4\n"
     ]
    },
    {
     "name": "stdout",
     "output_type": "stream",
     "text": [
      "6 1 3 2 0 0 0\n"
     ]
    }
   ],
   "source": [
    "# A65\n",
    "\n",
    "n = int(input())\n",
    "A = list(map(int, input().split()))\n",
    "\n",
    "G = [[] for _ in range(n+1)]\n",
    "\n",
    "for i in range(2, n+1):\n",
    "    G[A[i-2]].append(i)\n",
    "\n",
    "dp = [0]*(n+1)\n",
    "dp[n] = A[-1]\n",
    "for i in range(n, 0, -1):\n",
    "    if len(G[i])==0:\n",
    "        dp[i] = 0\n",
    "    else:\n",
    "        for j in range(len(G[i])):\n",
    "            dp[i] += (dp[G[i][j]]+1)\n",
    "print(*dp[1:])"
   ]
  },
  {
   "cell_type": "code",
   "execution_count": 35,
   "id": "cd9b88f0-1f48-463c-8120-845d93b21782",
   "metadata": {},
   "outputs": [
    {
     "name": "stdin",
     "output_type": "stream",
     "text": [
      " 7 1\n",
      " 1 2\n",
      " 1 3\n",
      " 3 4\n",
      " 2 5\n",
      " 4 6\n",
      " 4 7\n"
     ]
    },
    {
     "name": "stdout",
     "output_type": "stream",
     "text": [
      "3 1 2 1 0 0 0\n"
     ]
    }
   ],
   "source": [
    "# B65 \n",
    "import sys\n",
    "sys.setrecursionlimit(1 << 30)\n",
    "\n",
    "def dfs(pos):\n",
    "    visited[pos] = True\n",
    "    ans[pos] = 0\n",
    "    \n",
    "    for s in G[pos]:\n",
    "        if visited[s]==False:\n",
    "            ret = dfs(s)\n",
    "            ans[pos] = max(ans[pos], ret+1)\n",
    "            \n",
    "    return ans[pos]\n",
    "\n",
    "n, t = map(int, input().split())\n",
    "G = [ [] for _ in range(n+1) ]\n",
    "rel = [ list(map(int, input().split())) for _ in range(n-1) ]\n",
    "for item in rel:\n",
    "    G[item[0]].append(item[1])\n",
    "    G[item[1]].append(item[0])\n",
    "visited = [False]*(n+1)\n",
    "ans = [None]*(n+1)\n",
    "\n",
    "dfs(t)\n",
    "\n",
    "print(*ans[1:n+1])"
   ]
  },
  {
   "cell_type": "code",
   "execution_count": 46,
   "id": "fcf10775-cbbd-4e0b-a698-055fdf7f6d8c",
   "metadata": {},
   "outputs": [
    {
     "name": "stdin",
     "output_type": "stream",
     "text": [
      " 3 2\n",
      " 1 2\n",
      " 2 3\n"
     ]
    },
    {
     "ename": "ValueError",
     "evalue": "not enough values to unpack (expected 3, got 2)",
     "output_type": "error",
     "traceback": [
      "\u001b[0;31m---------------------------------------------------------------------------\u001b[0m",
      "\u001b[0;31mValueError\u001b[0m                                Traceback (most recent call last)",
      "\u001b[0;32m/var/folders/3w/36lb6hjd11z8232vtym_3q8r0000gn/T/ipykernel_12142/4074727195.py\u001b[0m in \u001b[0;36m<module>\u001b[0;34m\u001b[0m\n\u001b[1;32m     30\u001b[0m \u001b[0;34m\u001b[0m\u001b[0m\n\u001b[1;32m     31\u001b[0m \u001b[0muf\u001b[0m \u001b[0;34m=\u001b[0m \u001b[0munionfind\u001b[0m\u001b[0;34m(\u001b[0m\u001b[0mn\u001b[0m\u001b[0;34m)\u001b[0m\u001b[0;34m\u001b[0m\u001b[0;34m\u001b[0m\u001b[0m\n\u001b[0;32m---> 32\u001b[0;31m \u001b[0;32mfor\u001b[0m \u001b[0mtp\u001b[0m\u001b[0;34m,\u001b[0m \u001b[0mu\u001b[0m\u001b[0;34m,\u001b[0m \u001b[0mv\u001b[0m \u001b[0;32min\u001b[0m \u001b[0mqueries\u001b[0m\u001b[0;34m:\u001b[0m\u001b[0;34m\u001b[0m\u001b[0;34m\u001b[0m\u001b[0m\n\u001b[0m\u001b[1;32m     33\u001b[0m     \u001b[0;32mif\u001b[0m \u001b[0mtp\u001b[0m \u001b[0;34m==\u001b[0m \u001b[0;36m1\u001b[0m\u001b[0;34m:\u001b[0m\u001b[0;34m\u001b[0m\u001b[0;34m\u001b[0m\u001b[0m\n\u001b[1;32m     34\u001b[0m         \u001b[0muf\u001b[0m\u001b[0;34m.\u001b[0m\u001b[0munite\u001b[0m\u001b[0;34m(\u001b[0m\u001b[0mu\u001b[0m\u001b[0;34m,\u001b[0m \u001b[0mv\u001b[0m\u001b[0;34m)\u001b[0m\u001b[0;34m\u001b[0m\u001b[0;34m\u001b[0m\u001b[0m\n",
      "\u001b[0;31mValueError\u001b[0m: not enough values to unpack (expected 3, got 2)"
     ]
    }
   ],
   "source": [
    "# B66 Union-Find木\n",
    "\n",
    "class unionfind:\n",
    "    def __init__(self, n):\n",
    "        self.n = n\n",
    "        self.par = [-1] * (n+1)\n",
    "        self.size = [1] * (n+1)\n",
    "        \n",
    "    def root(self, x):\n",
    "        while self.par[x] != -1:\n",
    "            x = self.par[x]\n",
    "        return x\n",
    "    \n",
    "    def unite(self, u, v):\n",
    "        rootu = self.root(u)\n",
    "        rootv = self.root(v)\n",
    "        if rootu != rootv:\n",
    "            if self.size[rootu] < self.size[rootv]:\n",
    "                self.par[rootu] = rootv\n",
    "                self.size[rootv] += self.size[rootu]\n",
    "            else:\n",
    "                self.par[rootv] = rootu\n",
    "                self.size[rootu] += self.size[rootv]\n",
    "        \n",
    "    def same(self, u, v):\n",
    "        return self.root(u) == self.root(v)\n",
    "\n",
    "n, q = map(int, input().split())\n",
    "queries = [ list(map(int, input().split())) for i in range(q) ]\n",
    "\n",
    "uf = unionfind(n)\n",
    "for tp, u, v in queries:\n",
    "    if tp == 1:\n",
    "        uf.unite(u, v)\n",
    "    if tp == 2:\n",
    "        if uf.same(u, v):\n",
    "            print(\"Yes\")\n",
    "        else:\n",
    "            print(\"No\")"
   ]
  },
  {
   "cell_type": "code",
   "execution_count": 72,
   "id": "bbd1f52f-4578-4928-a488-5c1c282135b4",
   "metadata": {},
   "outputs": [
    {
     "name": "stdin",
     "output_type": "stream",
     "text": [
      " 4 3\n",
      " 1 2\n",
      " 2 3\n",
      " 3 4\n",
      " 7\n",
      " 2 1 2\n",
      " 2 1 3\n",
      " 2 1 4\n",
      " 1 2\n",
      " 2 1 2\n",
      " 2 1 3\n",
      " 2 1 4\n"
     ]
    },
    {
     "name": "stdout",
     "output_type": "stream",
     "text": [
      "Yes\n",
      "Yes\n",
      "Yes\n",
      "Yes\n",
      "No\n",
      "No\n"
     ]
    }
   ],
   "source": [
    "# B66 Union-Find木 クエリを逆から処理して、運休＝結合と解釈する\n",
    "\n",
    "class unionfind:\n",
    "    def __init__(self, n):\n",
    "        self.n = n\n",
    "        self.par = [-1] * (n+1)\n",
    "        self.size = [1] * (n+1)\n",
    "        \n",
    "    def root(self, x):\n",
    "        while self.par[x] != -1:\n",
    "            x = self.par[x]\n",
    "        return x\n",
    "    \n",
    "    def unite(self, u, v):\n",
    "        rootu = self.root(u)\n",
    "        rootv = self.root(v)\n",
    "        if rootu != rootv:\n",
    "            if self.size[rootu] < self.size[rootv]:\n",
    "                self.par[rootu] = rootv\n",
    "                self.size[rootv] += self.size[rootu]\n",
    "            else:\n",
    "                self.par[rootv] = rootu\n",
    "                self.size[rootu] += self.size[rootv]\n",
    "        \n",
    "    # def unkyu(self, u, v):\n",
    "    #     rootu = self.root(u)\n",
    "    #     rootv = self.root(v)\n",
    "    #     if self.par[u] == v:\n",
    "    #         self.par[u] = -1\n",
    "    #         self.size[rootv] -= 1\n",
    "    #     else:\n",
    "    #         self.par[v] = -1\n",
    "    #         self.size[rootu] -= 1\n",
    "     \n",
    "    def same(self, u, v):\n",
    "        return self.root(u) == self.root(v)\n",
    "\n",
    "n, m = map(int, input().split())\n",
    "lines = [ list(map(int, input().split())) for i in range(m) ]\n",
    "uf = unionfind(n)\n",
    "# for item in lines:\n",
    "#     uf.unite(item[0], item[1])\n",
    "q = int(input())\n",
    "queries = [ list(map(int, input().split())) for i in range(q) ]\n",
    "queries = queries[::-1]\n",
    "last = [True]*m\n",
    "for item in queries:\n",
    "    if item[0] == 1:\n",
    "        last[item[1]-1] = False\n",
    "\n",
    "for i in range(m):\n",
    "    if last[i]:\n",
    "        uf.unite(lines[i][0], lines[i][1])\n",
    "ans = []\n",
    "for item in queries:\n",
    "    if item[0] == 1:\n",
    "        uf.unite(lines[item[1]-1][0], lines[item[1]-1][1])\n",
    "    if item[0] == 2:\n",
    "        if uf.same(item[1], item[2]):\n",
    "            ans.append(\"Yes\")\n",
    "        else:\n",
    "            ans.append(\"No\")\n",
    "            \n",
    "for item in reversed(ans):\n",
    "    print(item)\n",
    "\n",
    "# for item in queries:\n",
    "#     if item[0] == 1:\n",
    "#         uf.unkyu(lines[item[1]-1][0], lines[item[1]-1][1])\n",
    "#     if item[0] == 2:\n",
    "#         if uf.same(item[1], item[2]):\n",
    "#             print(\"Yes\")\n",
    "#         else:\n",
    "#             print(\"No\")"
   ]
  },
  {
   "cell_type": "code",
   "execution_count": 71,
   "id": "41911a05-3e81-484a-8f5e-64d333c87187",
   "metadata": {},
   "outputs": [
    {
     "data": {
      "text/plain": [
       "[[2, 1, 4], [2, 1, 2], [2, 1, 3], [1, 2], [2, 1, 4], [2, 1, 3], [2, 1, 2]]"
      ]
     },
     "execution_count": 71,
     "metadata": {},
     "output_type": "execute_result"
    }
   ],
   "source": [
    "queries"
   ]
  },
  {
   "cell_type": "code",
   "execution_count": 56,
   "id": "ca9b4831-9e0c-44a2-8512-5e2ca7b58e40",
   "metadata": {},
   "outputs": [
    {
     "data": {
      "text/plain": [
       "[[1, 2], [2, 3], [3, 4]]"
      ]
     },
     "execution_count": 56,
     "metadata": {},
     "output_type": "execute_result"
    }
   ],
   "source": [
    "lines"
   ]
  },
  {
   "cell_type": "code",
   "execution_count": 56,
   "id": "80fb2ee8-63ad-47af-bf03-361562ffbca9",
   "metadata": {},
   "outputs": [
    {
     "name": "stdin",
     "output_type": "stream",
     "text": [
      " 9 21\n",
      " ###.#...........#.###\n",
      " ###.#...........#.###\n",
      " ###.#...........#.###\n",
      " ....#...........#....\n",
      " ....#...........#....\n",
      " ....#...........#....\n",
      " ....#.###...###.#....\n",
      " ....#.###...###.#....\n",
      " ....#.###...###.#....\n"
     ]
    },
    {
     "name": "stdout",
     "output_type": "stream",
     "text": [
      "1 1\n"
     ]
    }
   ],
   "source": [
    "n, m = map(int, input().split())\n",
    "S = [list(input()) for _ in range(n)]\n",
    "t_lparts1 = [\"#\", \"#\", \"#\", \".\"]\n",
    "t_lparts2 = [\".\", \".\", \".\", \".\"]\n",
    "t_rparts1 = [\".\", \".\", \".\", \".\"]\n",
    "t_rparts2 = [\".\", \"#\", \"#\", \"#\"]\n",
    "\n",
    "ans = []\n",
    "for i in range(n-8):\n",
    "    for j in range(m-8):\n",
    "        if S[i][j:j+4]==t_lparts1:\n",
    "            if S[i+1][j:j+4]==t_lparts1:\n",
    "                if S[i+2][j:j+4]==t_lparts1:\n",
    "                    if S[i+3][j:j+4]==t_lparts2:\n",
    "                        if S[i+5][j+5:j+9]==t_rparts1:\n",
    "                            if S[i+6][j+5:j+9]==t_rparts2:\n",
    "                                if S[i+7][j+5:j+9]==t_rparts2:\n",
    "                                    if S[i+8][j+5:j+9]==t_rparts2:\n",
    "                                        ans.append([i+1, j+1])\n",
    "                \n",
    "for i in range(len(ans)):\n",
    "    print(\" \".join(map(str, ans[i])))\n"
   ]
  },
  {
   "cell_type": "code",
   "execution_count": 52,
   "id": "4614240c-bb58-4cc3-98a8-0ed6f82c636c",
   "metadata": {},
   "outputs": [
    {
     "name": "stdout",
     "output_type": "stream",
     "text": [
      "True\n",
      "True\n",
      "True\n",
      "True\n",
      "True\n",
      "True\n",
      "True\n",
      "True\n"
     ]
    }
   ],
   "source": [
    "print(S[0][0:4]==t_lparts1)\n",
    "print(S[1][0:4]==t_lparts1)\n",
    "print(S[2][0:4]==t_lparts1)\n",
    "print(S[3][0:4]==t_lparts2)\n",
    "print(S[5][5:9]==t_rparts1)\n",
    "print(S[6][5:9]==t_rparts2)\n",
    "print(S[7][5:9]==t_rparts2)\n",
    "print(S[8][5:9]==t_rparts2)"
   ]
  },
  {
   "cell_type": "code",
   "execution_count": 9,
   "id": "b11716ff-cb94-42f0-b6c2-012f9345ae29",
   "metadata": {},
   "outputs": [
    {
     "name": "stdin",
     "output_type": "stream",
     "text": [
      " 3 2\n",
      " 100 100 100\n",
      " 80 120\n"
     ]
    },
    {
     "name": "stdout",
     "output_type": "stream",
     "text": [
      "100\n"
     ]
    }
   ],
   "source": [
    "import bisect\n",
    "n, m = map(int, input().split())\n",
    "A = list(map(int, input().split()))\n",
    "B = list(map(int, input().split()))\n",
    "\n",
    "A = sorted(A)\n",
    "B = sorted(B)\n",
    "l = 0\n",
    "r = 1e9+1\n",
    "ans = 0\n",
    "while r-l>1:\n",
    "    mid = (l+r)//2\n",
    "    count_a = sum(1 for a in A if a<=mid)\n",
    "    count_b = sum(1 for b in B if b>=mid)\n",
    "    if count_a>=count_b:\n",
    "        r = mid\n",
    "    else:\n",
    "        l = mid\n",
    "    # idx = bisect.bisect_left(B, A[mid])\n",
    "    # # if B[idx]<A[-1]:\n",
    "    # #     ans = B[idx]+1\n",
    "    #     # break\n",
    "    # if idx>mid:\n",
    "    #     l = mid\n",
    "    # if:idx<mid:\n",
    "    #     r = mid    \n",
    "    # else:\n",
    "    #     ans=\n",
    "print(int(r))\n",
    "    "
   ]
  },
  {
   "cell_type": "code",
   "execution_count": 12,
   "id": "e1b720ab-bbef-4956-b986-fae792b1b8f4",
   "metadata": {},
   "outputs": [
    {
     "name": "stdin",
     "output_type": "stream",
     "text": [
      " 4\n",
      " 5 15 2 10\n"
     ]
    },
    {
     "name": "stdout",
     "output_type": "stream",
     "text": [
      "11\n"
     ]
    }
   ],
   "source": [
    "n = int(input())\n",
    "P = list(map(int, input().split()))\n",
    "\n",
    "sp = max(P)\n",
    "s1 = P[0]\n",
    "if s1==sp:\n",
    "    a = P.count(sp)\n",
    "    if a==1:\n",
    "        print(0)\n",
    "    else:\n",
    "        print(1)\n",
    "else:\n",
    "    ans = sp - P[0] + 1\n",
    "    print(ans)"
   ]
  },
  {
   "cell_type": "code",
   "execution_count": 46,
   "id": "b92e3260-1771-43e3-9c3c-6e86f2e8f8c0",
   "metadata": {},
   "outputs": [
    {
     "name": "stdin",
     "output_type": "stream",
     "text": [
      " 10\n",
      " 999999997 999999999 4 3 2 4 999999990 8 999999991 999999993\n"
     ]
    },
    {
     "name": "stdout",
     "output_type": "stream",
     "text": [
      "2499999974.0\n"
     ]
    }
   ],
   "source": [
    "n = int(input())\n",
    "A = list(map(int, input().split()))\n",
    "\n",
    "sa = sum(A)\n",
    "av = sa//n\n",
    "mod = sa%n\n",
    "B = []\n",
    "for i in range(n):\n",
    "    B.append(abs(A[i]-av))\n",
    "ssa = sum(B)-mod\n",
    "if ssa%2==0:\n",
    "    ans = ssa/2\n",
    "else:\n",
    "    ans = ssa//2+1\n",
    "print(int(ans))"
   ]
  },
  {
   "cell_type": "code",
   "execution_count": 1,
   "id": "e8c2155c-4d82-4771-ab8b-d68cf6a51eaa",
   "metadata": {},
   "outputs": [
    {
     "ename": "NameError",
     "evalue": "name 'ans' is not defined",
     "output_type": "error",
     "traceback": [
      "\u001b[0;31m---------------------------------------------------------------------------\u001b[0m",
      "\u001b[0;31mNameError\u001b[0m                                 Traceback (most recent call last)",
      "\u001b[0;32m/var/folders/3w/36lb6hjd11z8232vtym_3q8r0000gn/T/ipykernel_7224/411879537.py\u001b[0m in \u001b[0;36m<module>\u001b[0;34m\u001b[0m\n\u001b[0;32m----> 1\u001b[0;31m \u001b[0mans\u001b[0m\u001b[0;34m\u001b[0m\u001b[0;34m\u001b[0m\u001b[0m\n\u001b[0m",
      "\u001b[0;31mNameError\u001b[0m: name 'ans' is not defined"
     ]
    }
   ],
   "source": [
    "# import sys\n",
    "# from collections import deque\n",
    "\n",
    "# sys.setrecursionlimit(120000)\n",
    "# roots = deque()\n",
    "\n",
    "def dfs(pos, G, related):\n",
    "    related[pos] = True\n",
    "    # roots.append(pos)\n",
    "    for i in G[pos]:\n",
    "        if related[i] == False:\n",
    "            dfs(i, G, visited)\n",
    "            \n",
    "n, m = map(int, input().split())\n",
    "edges = [ list(map(int, input().split())) for i in range(m) ]\n",
    "\n",
    "\n",
    "n, m = map(int, input().split())\n",
    "rel = [ list(map(input().split())) for _ in range(m)]\n",
    "\n",
    "G = [ list() for i in range(n + 1)]\n",
    "strength = {}\n",
    "for a, b in rel:\n",
    "    G[a].append(b)\n",
    "    G[b].append(a)\n",
    "    strength{a}\n",
    "\n"
   ]
  },
  {
   "cell_type": "code",
   "execution_count": null,
   "id": "3a43261d-8f44-49d4-9268-e89e2f378843",
   "metadata": {},
   "outputs": [
    {
     "name": "stdin",
     "output_type": "stream",
     "text": [
      " 3 2\n",
      " 1 3\n",
      " 2 3\n"
     ]
    },
    {
     "ename": "IndexError",
     "evalue": "list index out of range",
     "output_type": "error",
     "traceback": [
      "\u001b[0;31m---------------------------------------------------------------------------\u001b[0m",
      "\u001b[0;31mIndexError\u001b[0m                                Traceback (most recent call last)",
      "\u001b[0;32m/var/folders/3w/36lb6hjd11z8232vtym_3q8r0000gn/T/ipykernel_9085/3653921672.py\u001b[0m in \u001b[0;36m<module>\u001b[0;34m\u001b[0m\n\u001b[1;32m     32\u001b[0m     \u001b[0mprint\u001b[0m\u001b[0;34m(\u001b[0m\u001b[0;34m-\u001b[0m\u001b[0;36m1\u001b[0m\u001b[0;34m)\u001b[0m\u001b[0;34m\u001b[0m\u001b[0;34m\u001b[0m\u001b[0m\n\u001b[1;32m     33\u001b[0m \u001b[0;32melse\u001b[0m\u001b[0;34m:\u001b[0m\u001b[0;34m\u001b[0m\u001b[0;34m\u001b[0m\u001b[0m\n\u001b[0;32m---> 34\u001b[0;31m     \u001b[0mprint\u001b[0m\u001b[0;34m(\u001b[0m\u001b[0mans\u001b[0m\u001b[0;34m[\u001b[0m\u001b[0;36m0\u001b[0m\u001b[0;34m]\u001b[0m\u001b[0;34m+\u001b[0m\u001b[0;36m1\u001b[0m\u001b[0;34m)\u001b[0m\u001b[0;34m\u001b[0m\u001b[0;34m\u001b[0m\u001b[0m\n\u001b[0m\u001b[1;32m     35\u001b[0m \u001b[0;34m\u001b[0m\u001b[0m\n",
      "\u001b[0;31mIndexError\u001b[0m: list index out of range"
     ]
    }
   ],
   "source": [
    "\n",
    "n, m = map(int, input().split())\n",
    "rel = [ list(map(int, input().split())) for _ in range(m)]\n",
    "\n",
    "strength = []\n",
    "for item in rel:\n",
    "    a, b = item[0], item[1]\n",
    "    if b not in strength:\n",
    "        strength.append(b)\n",
    "    if a not in strength:\n",
    "        strength.append(a)\n",
    "        "
   ]
  },
  {
   "cell_type": "code",
   "execution_count": 43,
   "id": "dbc825ec-659a-4ed4-970f-7436d66c7ef8",
   "metadata": {},
   "outputs": [
    {
     "name": "stdin",
     "output_type": "stream",
     "text": [
      " 6 6\n",
      " 1 6\n",
      " 6 5\n",
      " 6 2\n",
      " 2 3\n",
      " 4 3\n",
      " 4 2\n"
     ]
    },
    {
     "name": "stdout",
     "output_type": "stream",
     "text": [
      "-1\n"
     ]
    }
   ],
   "source": [
    "def all_elements_are_same(lst):\n",
    "    return len(set(lst)) == 1\n",
    "            \n",
    "n, m = map(int, input().split())\n",
    "rel = [ list(map(int, input().split())) for _ in range(m)]\n",
    "loser = []\n",
    "winer= []\n",
    "for item in rel:\n",
    "        tmp = item[0]\n",
    "        tmp2 = item[1]\n",
    "        if tmp2 not in loser:\n",
    "            loser.append(item[1])\n",
    "        if tmp not in loser:\n",
    "            if tmp not in winer:\n",
    "                winer.append(item[0])\n",
    "if len(winer)==1 and len(loser)==n-1:\n",
    "    print(winer[0])\n",
    "else:\n",
    "    print(-1)\n",
    "            "
   ]
  },
  {
   "cell_type": "code",
   "execution_count": null,
   "id": "90a95bd6-fec8-4378-b9de-b64e792f1b03",
   "metadata": {},
   "outputs": [],
   "source": []
  },
  {
   "cell_type": "code",
   "execution_count": 54,
   "id": "208de735-8181-4c55-a7e0-68dc51931bc1",
   "metadata": {},
   "outputs": [
    {
     "name": "stdin",
     "output_type": "stream",
     "text": [
      " 6 6\n",
      " 1 6\n",
      " 6 5\n",
      " 6 2\n",
      " 2 3\n",
      " 4 3\n",
      " 4 2\n"
     ]
    },
    {
     "name": "stdout",
     "output_type": "stream",
     "text": [
      "-1\n"
     ]
    }
   ],
   "source": [
    "# B\n",
    "n, m = map(int, input().split())\n",
    "rel = [ list(map(int, input().split())) for _ in range(m)]\n",
    "\n",
    "st = [0] * (n)\n",
    "for item in rel:\n",
    "    st[item[1]-1] += 1\n",
    "saikyo=[]\n",
    "for i in range(len(st)):\n",
    "    if st[i]==0:\n",
    "        saikyo.append(i+1)\n",
    "if len(saikyo)==1:\n",
    "    print(saikyo[0])\n",
    "else:\n",
    "    print(-1)"
   ]
  },
  {
   "cell_type": "code",
   "execution_count": 58,
   "id": "4671cb23-dcfd-463c-a923-01bcb9ea4084",
   "metadata": {},
   "outputs": [
    {
     "name": "stdin",
     "output_type": "stream",
     "text": [
      " 4\n",
      " 4 7 3 7\n"
     ]
    },
    {
     "name": "stdout",
     "output_type": "stream",
     "text": [
      "3\n"
     ]
    }
   ],
   "source": [
    "# C\n",
    "n = int(input())\n",
    "A = list(map(int, input().split()))\n",
    "A.sort()\n",
    "t = sum(A)\n",
    "av = t//n\n",
    "B = [av]*n\n",
    "mod = t%n\n",
    "if mod!=0:\n",
    "    for i in range(mod):\n",
    "        B[n-1-i] +=1\n",
    "sa = 0\n",
    "for i in range(n):\n",
    "    sa += abs(A[i]-B[i])\n",
    "print(sa//2)"
   ]
  },
  {
   "cell_type": "code",
   "execution_count": 66,
   "id": "087aef2f-74fe-4db0-a93a-17ab6e8bdeb3",
   "metadata": {},
   "outputs": [
    {
     "name": "stdin",
     "output_type": "stream",
     "text": [
      " 3 2\n",
      " 4 4\n",
      " 4 4\n",
      " 4 4\n"
     ]
    },
    {
     "name": "stdout",
     "output_type": "stream",
     "text": [
      "0\n"
     ]
    }
   ],
   "source": [
    "h, w = map(int, input().split())\n",
    "A = [list(map(int, input().split())) for _ in range(h)]\n",
    "sm = 0\n",
    "mn = 101\n",
    "for i in range(h):\n",
    "    sm += sum(A[i])\n",
    "    tmp = min(A[i])\n",
    "    if tmp<mn:\n",
    "        mn = tmp\n",
    "ans = sm - mn*h*w\n",
    "print(ans)"
   ]
  },
  {
   "cell_type": "code",
   "execution_count": 68,
   "id": "75d02251-6d36-415c-81d5-030b7862cb20",
   "metadata": {},
   "outputs": [
    {
     "name": "stdin",
     "output_type": "stream",
     "text": [
      " 20\n"
     ]
    },
    {
     "name": "stdout",
     "output_type": "stream",
     "text": [
      "17\n"
     ]
    }
   ],
   "source": [
    "n = int(input())\n",
    "count = 0\n",
    "for i in range(1, n+1):\n",
    "    if '7' in set(str(i)):continue\n",
    "    if '7' in set(str(oct(i))):continue\n",
    "    count += 1\n",
    "print(count)"
   ]
  },
  {
   "cell_type": "code",
   "execution_count": 61,
   "id": "6f8148c7-8038-4bad-9c01-e86c4f55436d",
   "metadata": {},
   "outputs": [
    {
     "ename": "TypeError",
     "evalue": "unsupported operand type(s) for +: 'int' and 'list'",
     "output_type": "error",
     "traceback": [
      "\u001b[0;31m---------------------------------------------------------------------------\u001b[0m",
      "\u001b[0;31mTypeError\u001b[0m                                 Traceback (most recent call last)",
      "\u001b[0;32m/var/folders/3w/36lb6hjd11z8232vtym_3q8r0000gn/T/ipykernel_9085/559233679.py\u001b[0m in \u001b[0;36m<module>\u001b[0;34m\u001b[0m\n\u001b[0;32m----> 1\u001b[0;31m \u001b[0msum\u001b[0m\u001b[0;34m(\u001b[0m\u001b[0mA\u001b[0m\u001b[0;34m)\u001b[0m\u001b[0;34m\u001b[0m\u001b[0;34m\u001b[0m\u001b[0m\n\u001b[0m",
      "\u001b[0;31mTypeError\u001b[0m: unsupported operand type(s) for +: 'int' and 'list'"
     ]
    }
   ],
   "source": [
    "sum(A)"
   ]
  },
  {
   "cell_type": "code",
   "execution_count": null,
   "id": "e7861a3d-8cff-40eb-8fcb-08d5cf8cd4b4",
   "metadata": {},
   "outputs": [],
   "source": [
    "n = int(input())\n",
    "A = list(map(int, input().split()))\n",
    "A.sort()"
   ]
  },
  {
   "cell_type": "code",
   "execution_count": null,
   "id": "23eec9c1-4cc9-4aa3-bd40-223bd05463dc",
   "metadata": {},
   "outputs": [],
   "source": []
  }
 ],
 "metadata": {
  "kernelspec": {
   "display_name": "Python 3 (ipykernel)",
   "language": "python",
   "name": "python3"
  },
  "language_info": {
   "codemirror_mode": {
    "name": "ipython",
    "version": 3
   },
   "file_extension": ".py",
   "mimetype": "text/x-python",
   "name": "python",
   "nbconvert_exporter": "python",
   "pygments_lexer": "ipython3",
   "version": "3.9.7"
  }
 },
 "nbformat": 4,
 "nbformat_minor": 5
}
