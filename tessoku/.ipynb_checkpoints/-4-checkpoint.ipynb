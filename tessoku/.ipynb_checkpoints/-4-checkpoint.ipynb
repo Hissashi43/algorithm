{
 "cells": [
  {
   "cell_type": "code",
   "execution_count": 54,
   "id": "ba3128a5-4fc1-430e-9cba-6b6830f2a52f",
   "metadata": {},
   "outputs": [
    {
     "name": "stdin",
     "output_type": "stream",
     "text": [
      " 5 5\n",
      " 2 0 0 5 1\n",
      " 1 0 3 0 0\n",
      " 0 8 5 0 2\n",
      " 4 1 0 0 6\n",
      " 0 9 2 7 0\n",
      " 2\n",
      " 2 2 4 5\n",
      " 1 1 5 5\n"
     ]
    },
    {
     "name": "stdout",
     "output_type": "stream",
     "text": [
      "25\n",
      "56\n"
     ]
    }
   ],
   "source": [
    "H, W = map(int, input().split())\n",
    "list_x = [0]*H\n",
    "for i in range(H):\n",
    "    list_x[i] = [0]*W\n",
    "for i in range(H):\n",
    "    temp_list = list(map(int, input().split()))\n",
    "    for j in range(W):\n",
    "        list_x[i][j] = temp_list[j]\n",
    "Q = int(input())\n",
    "\n",
    "list_q = [0]*Q\n",
    "for i in range(Q):\n",
    "    list_q[i] = [0]*4\n",
    "for q in range(Q):\n",
    "    temp_list = list(map(int, input().split()))\n",
    "    for i in range(4):\n",
    "        list_q[q][i]= temp_list[i]\n",
    "for i in range(H):\n",
    "    for j in range(1, W):\n",
    "        list_x[i][j] += list_x[i][j-1]\n",
    "for j in range(W):\n",
    "    for i in range(1, H):\n",
    "        list_x[i][j] += list_x[i-1][j]\n",
    "\n",
    "for i in range(Q):\n",
    "    lr = list_x[list_q[i][2]-1][list_q[i][3]-1]\n",
    "    if list_q[i][1]==1:\n",
    "        ll = 0\n",
    "    else:\n",
    "        ll = list_x[list_q[i][2]-1][list_q[i][1]-2]\n",
    "    if list_q[i][0]==1:\n",
    "        ur = 0\n",
    "    else:\n",
    "        ur = list_x[list_q[i][0]-2][list_q[i][3]-1]\n",
    "    if list_q[i][0]==1 or list_q[i][1]==1:\n",
    "        ul = 0\n",
    "    else:\n",
    "        ul = list_x[list_q[i][0]-2][list_q[i][1]-2]\n",
    "    print(lr+ul-ur-ll)"
   ]
  },
  {
   "cell_type": "code",
   "execution_count": 53,
   "id": "51836254-fefa-4358-a684-410ccf6d4abb",
   "metadata": {},
   "outputs": [
    {
     "data": {
      "text/plain": [
       "[[2, 2, 2, 7, 8],\n",
       " [3, 3, 6, 11, 12],\n",
       " [3, 11, 19, 24, 27],\n",
       " [7, 16, 24, 29, 38],\n",
       " [7, 25, 35, 47, 56]]"
      ]
     },
     "execution_count": 53,
     "metadata": {},
     "output_type": "execute_result"
    }
   ],
   "source": [
    "N = int(input())\n",
    "X, Y = list(map(int, input().split()))\n",
    "H, W = map(int, input().split())\n",
    "list_x = [0]*H\n",
    "for i in range(H):\n",
    "    list_x[i] = [0]*W\n",
    "for i in range(H):\n",
    "    temp_list = list(map(int, input().split()))\n",
    "    for j in range(W):\n",
    "        list_x[i][j] = temp_list[j]\n",
    "Q = int(input())\n",
    "\n",
    "list_q = [0]*Q\n",
    "for i in range(Q):\n",
    "    list_q[i] = [0]*4\n",
    "for q in range(Q):\n",
    "    temp_list = list(map(int, input().split()))\n",
    "    for i in range(4):\n",
    "        list_q[q][i]= temp_list[i]\n",
    "for i in range(H):\n",
    "    for j in range(1, W):\n",
    "        list_x[i][j] += list_x[i][j-1]\n",
    "for j in range(W):\n",
    "    for i in range(1, H):\n",
    "        list_x[i][j] += list_x[i-1][j]\n",
    "\n",
    "for i in range(Q):\n",
    "    lr = list_x[list_q[i][2]-1][list_q[i][3]-1]\n",
    "    if list_q[i][1]==1:\n",
    "        ll = 0\n",
    "    else:\n",
    "        ll = list_x[list_q[i][2]-1][list_q[i][1]-2]\n",
    "    if list_q[i][0]==1:\n",
    "        ur = 0\n",
    "    else:\n",
    "        ur = list_x[list_q[i][0]-2][list_q[i][3]-1]\n",
    "    if list_q[i][0]==1 or list_q[i][1]==1:\n",
    "        ul = 0\n",
    "    else:\n",
    "        ul = list_x[list_q[i][0]-2][list_q[i][1]-2]\n",
    "    print(lr+ul-ur-ll)"
   ]
  },
  {
   "cell_type": "code",
   "execution_count": 92,
   "id": "b93cfce3-7989-4685-842f-bf1e9b3ab571",
   "metadata": {},
   "outputs": [
    {
     "name": "stdin",
     "output_type": "stream",
     "text": [
      " 5\n",
      " 1 3\n",
      " 2 5\n",
      " 3 4\n",
      " 2 6\n",
      " 3 3\n",
      " 3\n",
      " 1 3 3 6\n",
      " 1 5 2 6\n",
      " 1 3 3 5\n"
     ]
    },
    {
     "name": "stdout",
     "output_type": "stream",
     "text": [
      "5\n",
      "2\n",
      "4\n"
     ]
    }
   ],
   "source": [
    "N = int(input())\n",
    "X = [None]*N\n",
    "Y = [None]*N\n",
    "for i in range(N):\n",
    "    X[i],Y[i] = map(int,input().split())\n",
    "\n",
    "#Xの最大値の行とYの最大値の列を持つ二次元配列を作成\n",
    "\n",
    "column = 1501\n",
    "row = [0] * 1501\n",
    "for i in range(1501):\n",
    "    row[i] = [0] * column\n",
    "\n",
    "Q = int(input())\n",
    "a = [None]*Q\n",
    "b = [None]*Q\n",
    "c = [None]*Q\n",
    "d = [None]*Q\n",
    "for i in range(Q):\n",
    "    a[i],b[i],c[i],d[i]= map(int,input().split())\n",
    "for i, j in zip(X, Y):\n",
    "        row[i][j]+=1\n",
    "for i in range(1501):\n",
    "    for j in range(1, 1501):\n",
    "        row[i][j] += row[i][j-1]\n",
    "for i in range(1501):\n",
    "    for j in range(1, 1501):\n",
    "        row[j][i] += row[j-1][i] \n",
    "        \n",
    "for i in range(Q):\n",
    "    answer = row[c[i]][d[i]] - row[a[i]-1][d[i]] - row[c[i]][b[i]-1] + row[a[i]-1][b[i]-1]\n",
    "    print(answer)"
   ]
  },
  {
   "cell_type": "code",
   "execution_count": 68,
   "id": "dfe137ea-4129-4a44-bb83-33cc04c98857",
   "metadata": {},
   "outputs": [
    {
     "name": "stdin",
     "output_type": "stream",
     "text": [
      " 7\n",
      " 1 2 5 5 2 3 1\n"
     ]
    },
    {
     "ename": "ValueError",
     "evalue": "could not broadcast input array from shape (7,) into shape (4,)",
     "output_type": "error",
     "traceback": [
      "\u001b[0;31m---------------------------------------------------------------------------\u001b[0m",
      "\u001b[0;31mValueError\u001b[0m                                Traceback (most recent call last)",
      "\u001b[0;32m/var/folders/3w/36lb6hjd11z8232vtym_3q8r0000gn/T/ipykernel_1099/2361544940.py\u001b[0m in \u001b[0;36m<module>\u001b[0;34m\u001b[0m\n\u001b[1;32m      3\u001b[0m \u001b[0mQ\u001b[0m \u001b[0;34m=\u001b[0m \u001b[0mnp\u001b[0m\u001b[0;34m.\u001b[0m\u001b[0mzeros\u001b[0m\u001b[0;34m(\u001b[0m\u001b[0;34m[\u001b[0m\u001b[0mN\u001b[0m\u001b[0;34m,\u001b[0m \u001b[0;36m4\u001b[0m\u001b[0;34m]\u001b[0m\u001b[0;34m)\u001b[0m\u001b[0;34m\u001b[0m\u001b[0;34m\u001b[0m\u001b[0m\n\u001b[1;32m      4\u001b[0m \u001b[0;32mfor\u001b[0m \u001b[0mi\u001b[0m \u001b[0;32min\u001b[0m \u001b[0mrange\u001b[0m\u001b[0;34m(\u001b[0m\u001b[0mN\u001b[0m\u001b[0;34m)\u001b[0m\u001b[0;34m:\u001b[0m\u001b[0;34m\u001b[0m\u001b[0;34m\u001b[0m\u001b[0m\n\u001b[0;32m----> 5\u001b[0;31m     \u001b[0mQ\u001b[0m\u001b[0;34m[\u001b[0m\u001b[0mi\u001b[0m\u001b[0;34m]\u001b[0m \u001b[0;34m=\u001b[0m \u001b[0mnp\u001b[0m\u001b[0;34m.\u001b[0m\u001b[0marray\u001b[0m\u001b[0;34m(\u001b[0m\u001b[0mlist\u001b[0m\u001b[0;34m(\u001b[0m\u001b[0mmap\u001b[0m\u001b[0;34m(\u001b[0m\u001b[0mint\u001b[0m\u001b[0;34m,\u001b[0m \u001b[0minput\u001b[0m\u001b[0;34m(\u001b[0m\u001b[0;34m)\u001b[0m\u001b[0;34m.\u001b[0m\u001b[0msplit\u001b[0m\u001b[0;34m(\u001b[0m\u001b[0;34m)\u001b[0m\u001b[0;34m)\u001b[0m\u001b[0;34m)\u001b[0m\u001b[0;34m)\u001b[0m\u001b[0;34m\u001b[0m\u001b[0;34m\u001b[0m\u001b[0m\n\u001b[0m\u001b[1;32m      6\u001b[0m \u001b[0mrow\u001b[0m \u001b[0;34m=\u001b[0m \u001b[0mnp\u001b[0m\u001b[0;34m.\u001b[0m\u001b[0mzeros\u001b[0m\u001b[0;34m(\u001b[0m\u001b[0;34m[\u001b[0m\u001b[0;36m1501\u001b[0m\u001b[0;34m,\u001b[0m \u001b[0;36m1501\u001b[0m\u001b[0;34m]\u001b[0m\u001b[0;34m)\u001b[0m\u001b[0;34m\u001b[0m\u001b[0;34m\u001b[0m\u001b[0m\n\u001b[1;32m      7\u001b[0m \u001b[0;32mfor\u001b[0m \u001b[0mi\u001b[0m \u001b[0;32min\u001b[0m \u001b[0mrange\u001b[0m\u001b[0;34m(\u001b[0m\u001b[0mN\u001b[0m\u001b[0;34m)\u001b[0m\u001b[0;34m:\u001b[0m\u001b[0;34m\u001b[0m\u001b[0;34m\u001b[0m\u001b[0m\n",
      "\u001b[0;31mValueError\u001b[0m: could not broadcast input array from shape (7,) into shape (4,)"
     ]
    }
   ],
   "source": [
    "import numpy as np\n",
    "N = int(input())\n",
    "Q = np.zeros([N, 4])\n",
    "for i in range(N):\n",
    "    Q[i] = np.array(list(map(int, input().split())))\n",
    "row = np.zeros([1501, 1501])\n",
    "for i in range(N):\n",
    "    row[int(Q[i, 0]), int(Q[i, 1])] += 1\n",
    "    row[int(Q[i, 0]), int(Q[i, 3])] -= 1\n",
    "    row[int(Q[i, 2]), int(Q[i, 1])] -= 1\n",
    "    row[int(Q[i, 2]), int(Q[i, 3])] += 1\n",
    "\n",
    "row = np.cumsum(row, axis=1)\n",
    "row = np.cumsum(row, axis=0)\n",
    "\n",
    "answer = np.count_nonzero(row)\n",
    "print(answer)"
   ]
  },
  {
   "cell_type": "code",
   "execution_count": 68,
   "id": "e2ebff8a-41f0-4513-b5c3-666a23ca9b29",
   "metadata": {},
   "outputs": [
    {
     "name": "stdin",
     "output_type": "stream",
     "text": [
      " 7\n",
      " 1 2 5 5 2 3 1\n",
      " 2\n",
      " 3 5\n",
      " 4 6\n"
     ]
    },
    {
     "name": "stdout",
     "output_type": "stream",
     "text": [
      "3\n",
      "5\n"
     ]
    }
   ],
   "source": [
    "\n",
    "N = int(input())\n",
    "rooms = list(map(int, input().split()))\n",
    "D = int(input())\n",
    "sc = [tuple(map(int, input().split())) for _ in range(D)]\n",
    "P = [0] * (N+1)\n",
    "Q = [0] * (N+1)\n",
    "# print(rooms)\n",
    "P[1] = rooms[0]\n",
    "Q[N] = rooms[N-1] \n",
    "for i in range(2, N+1):\n",
    "    P[i] = P[i-1]\n",
    "    P[i] = max(P[i], rooms[i-1])\n",
    "for i in range(N-1, 0, -1):\n",
    "    Q[i] = Q[i+1]\n",
    "    Q[i] = max(Q[i], rooms[i-1])\n",
    "for l, r in sc:\n",
    "    print(int(max(P[l-1], Q[r+1])))"
   ]
  },
  {
   "cell_type": "code",
   "execution_count": null,
   "id": "27e5957c-0f25-4c47-a82f-f733bd556407",
   "metadata": {},
   "outputs": [
    {
     "name": "stdin",
     "output_type": "stream",
     "text": [
      " 10 80\n",
      " 10 20 30 40 50 60 70 90 90 1000\n"
     ]
    }
   ],
   "source": [
    "N, X = map(int, input().split())\n",
    "array_A = list(map(int, input().split()))\n",
    "l = 0\n",
    "r = N\n",
    "m = int(round(l+r)/2)\n",
    "while array_A[m]!=X:\n",
    "    if array_A[m] > X:\n",
    "        r=m\n",
    "    elif array_A[m] < X:\n",
    "        l=m\n",
    "    m = int(round(l+r)/2)\n",
    "print(m+1)\n",
    "            "
   ]
  },
  {
   "cell_type": "code",
   "execution_count": 13,
   "id": "554a8dec-3ae4-4308-9791-d5740ab164d2",
   "metadata": {},
   "outputs": [
    {
     "name": "stdin",
     "output_type": "stream",
     "text": [
      " 5\n",
      " 1 3 3 3 1\n",
      " 2\n",
      " 4\n",
      " 3\n"
     ]
    },
    {
     "name": "stdout",
     "output_type": "stream",
     "text": [
      "5\n",
      "2\n"
     ]
    }
   ],
   "source": [
    "import bisect\n",
    "N = int(input())\n",
    "array_A = list(map(int, input().split()))\n",
    "Q = int(input())\n",
    "X = [int(input()) for _ in range(Q)]\n",
    "array_A.sort()\n",
    "for item in X:\n",
    "    if printers[-1] < i\n",
    "    index = bisect.bisect_left(array_A, item)\n",
    "    "
   ]
  },
  {
   "cell_type": "code",
   "execution_count": 3,
   "id": "5e15d18d-ea6b-45df-868f-0d2fb90a58c4",
   "metadata": {},
   "outputs": [
    {
     "name": "stdin",
     "output_type": "stream",
     "text": [
      " 4 10\n",
      " 1 2 3 4\n"
     ]
    },
    {
     "name": "stdout",
     "output_type": "stream",
     "text": [
      "6\n"
     ]
    }
   ],
   "source": [
    "def check(x, N, K, A):\n",
    "    total = 0\n",
    "    for i in range(N):\n",
    "        total += x//A[i]\n",
    "    if total >= K:\n",
    "        return True\n",
    "    return False\n",
    "N, K = map(int, input().split())\n",
    "printers = list(map(int, input().split()))\n",
    "l = 1\n",
    "r = 1e+09\n",
    "while l<r:\n",
    "    m = (l+r)//2\n",
    "    answer = check(m, N, K, printers)\n",
    "    if answer == True:\n",
    "        r = m\n",
    "    if answer == False:\n",
    "        l = m+1\n",
    "print(int(l))"
   ]
  },
  {
   "cell_type": "code",
   "execution_count": 4,
   "id": "b401c6ab-06f7-47e6-906c-4d48897b6e26",
   "metadata": {},
   "outputs": [
    {
     "name": "stdin",
     "output_type": "stream",
     "text": [
      " 2\n"
     ]
    },
    {
     "name": "stdout",
     "output_type": "stream",
     "text": [
      "1.0009765625\n"
     ]
    }
   ],
   "source": [
    "N = int(input())\n",
    "l = 0\n",
    "r = N\n",
    "while r-l>0.001:\n",
    "    m = (l+r)/2\n",
    "    temp = m**3 + m\n",
    "    if temp > N:\n",
    "        r = m\n",
    "    elif temp <= N:\n",
    "        l = m\n",
    "print(m)"
   ]
  },
  {
   "cell_type": "code",
   "execution_count": 13,
   "id": "45167a88-824d-4f40-9215-e36749369a04",
   "metadata": {},
   "outputs": [
    {
     "name": "stdin",
     "output_type": "stream",
     "text": [
      " 7 10\n",
      " 11 12 16 22 27 28 31\n"
     ]
    },
    {
     "name": "stdout",
     "output_type": "stream",
     "text": [
      "11\n"
     ]
    }
   ],
   "source": [
    "import bisect\n",
    "N, K = map(int, input().split())\n",
    "array_A = list(map(int, input().split()))\n",
    "answer = 0\n",
    "for i in range(0, N):\n",
    "    temp = bisect.bisect_right(array_A, array_A[i]+K)\n",
    "    answer += (temp-(i+1))\n",
    "print(answer)"
   ]
  },
  {
   "cell_type": "code",
   "execution_count": 21,
   "id": "ab8eb71e-6542-45d0-9b0c-fa5e24ec5c7f",
   "metadata": {},
   "outputs": [
    {
     "name": "stdin",
     "output_type": "stream",
     "text": [
      " 7 10\n",
      " 11 12 16 22 27 28 31\n"
     ]
    },
    {
     "name": "stdout",
     "output_type": "stream",
     "text": [
      "11\n"
     ]
    }
   ],
   "source": [
    "#しゃくとり法の実装\n",
    "N, K = map(int, input().split())\n",
    "array_A = list(map(int, input().split()))\n",
    "R = [0] * N\n",
    "answer = 0\n",
    "for i in range(0, N-1):\n",
    "    if i==0:\n",
    "        R[0] = 1\n",
    "    else:\n",
    "        R[i] = R[i-1]\n",
    "    while R[i] < N and array_A[i]+K>=array_A[R[i]]:\n",
    "        R[i] += 1\n",
    "        answer += (R[i]-(i+1))\n",
    "print(answer)"
   ]
  },
  {
   "cell_type": "code",
   "execution_count": 31,
   "id": "48c64d40-cfeb-4102-8f02-2aa89ddc1354",
   "metadata": {},
   "outputs": [
    {
     "name": "stdin",
     "output_type": "stream",
     "text": [
      " 7 10\n",
      " 11 12 16 22 27 28 31\n"
     ]
    },
    {
     "name": "stdout",
     "output_type": "stream",
     "text": [
      "6\n"
     ]
    }
   ],
   "source": [
    "N, K = map(int, input().split())\n",
    "array_A = list(map(int, input().split()))\n",
    "for i in range(1, N):\n",
    "    array_A[i] += array_A[i-1]\n",
    "answer = 0\n",
    "for i in range(0, N-1):\n",
    "    a = 1\n",
    "    if i==0:\n",
    "        b = 0\n",
    "    else:\n",
    "        b = array_A[i-1]\n",
    "    while array_A[i+a]-b<=K and (a+i)<N-1:\n",
    "        a+=1\n",
    "    answer += a\n",
    "print(answer)\n",
    "    "
   ]
  },
  {
   "cell_type": "code",
   "execution_count": 49,
   "id": "1fe5961d-683f-43d8-b55c-030bd5ff3ab2",
   "metadata": {},
   "outputs": [
    {
     "name": "stdin",
     "output_type": "stream",
     "text": [
      " 10\n",
      " 3 1 4 1 5 9 2 6 5 3\n"
     ]
    },
    {
     "name": "stdout",
     "output_type": "stream",
     "text": [
      "37\n"
     ]
    }
   ],
   "source": [
    "N = int(input())\n",
    "array_A = list(map(int, input().split()))\n",
    "ans = []\n",
    "for i in range(0, N):\n",
    "    for j in range(i+1, N):\n",
    "        for k in range(j+1, N):\n",
    "            ans.append(array_A[i]*array_A[j]*array_A[k])\n",
    "print(len(set(ans)))"
   ]
  },
  {
   "cell_type": "code",
   "execution_count": 2,
   "id": "143d13b2-b2e5-4c80-9cad-e0e11b3c6925",
   "metadata": {},
   "outputs": [
    {
     "name": "stdout",
     "output_type": "stream",
     "text": [
      "[ 4 13 22 15]\n"
     ]
    }
   ],
   "source": [
    "import numpy as np\n",
    "\n",
    "f = np.array([1, 2, 3])\n",
    "g = np.array([4, 5])\n",
    "\n",
    "convolution = np.convolve(f, g, mode='full')\n",
    "\n",
    "print(convolution) "
   ]
  },
  {
   "cell_type": "code",
   "execution_count": 14,
   "id": "af019e0a-8c9a-48e2-9389-b34e3789a128",
   "metadata": {},
   "outputs": [
    {
     "name": "stdin",
     "output_type": "stream",
     "text": [
      " 3 50\n",
      " 3 9 17\n",
      " 4 7 9\n",
      " 10 20 30\n",
      " 1 2 3\n"
     ]
    },
    {
     "name": "stdout",
     "output_type": "stream",
     "text": [
      "Yes\n"
     ]
    }
   ],
   "source": [
    "import bisect\n",
    "N, K = map(int, input().split())\n",
    "A, B, C, D = [list(map(int, input().split())) for _ in range(4)]\n",
    "P = []\n",
    "Q = []\n",
    "for i in range(len(A)):\n",
    "    for j in range(len(B)):\n",
    "        P.append(A[i]+B[j])\n",
    "for i in range(len(C)):\n",
    "    for j in range(len(D)):\n",
    "        Q.append(C[i]+D[j])\n",
    "\n",
    "P.sort(); Q.sort()\n",
    "answer = \"No\"\n",
    "for i in range(len(P)):\n",
    "    a = K - P[i]\n",
    "    index = bisect.bisect_left(Q, a)\n",
    "    if index!=len(Q) and Q[index]==a:\n",
    "        answer = \"Yes\"\n",
    "        break\n",
    "print(answer)    \n",
    "    \n",
    "            \n",
    "        "
   ]
  },
  {
   "cell_type": "code",
   "execution_count": 18,
   "id": "7b31f60d-d954-44c0-93f0-88cc5c577ce5",
   "metadata": {},
   "outputs": [
    {
     "name": "stdin",
     "output_type": "stream",
     "text": [
      " 6 30\n",
      " 5 1 18 7 2 9\n"
     ]
    },
    {
     "name": "stdout",
     "output_type": "stream",
     "text": [
      "Yes\n"
     ]
    }
   ],
   "source": [
    "import math\n",
    "import bisect\n",
    "\n",
    "N, K = map(int, input().split())\n",
    "array_A = list(map(int, input().split()))\n",
    "h = math.floor(N/2)\n",
    "l_A = array_A[:h]\n",
    "r_A = array_A[h:]\n",
    "l_acc = []\n",
    "r_acc = []\n",
    "for i in range(2**h):\n",
    "    temp_sum = 0\n",
    "    for j in range(h):\n",
    "        if (i >> j) & 1:\n",
    "            temp_sum += l_A[j]\n",
    "    l_acc.append(temp_sum)\n",
    "l_acc.sort()\n",
    "for i in range(2**(N-h)):\n",
    "    temp_sum = 0\n",
    "    for j in range(N-h):\n",
    "        if (i >> j) & 1:\n",
    "            temp_sum += r_A[j]\n",
    "    r_acc.append(temp_sum)\n",
    "r_acc.sort()\n",
    "answer = \"No\"\n",
    "for i in range(len(l_acc)):\n",
    "    a = K - l_acc[i]\n",
    "    index = bisect.bisect_left(r_acc, a)\n",
    "    if index != len(r_acc):\n",
    "        if r_acc[index] == a:\n",
    "            answer = \"Yes\"\n",
    "print(answer)\n",
    "        "
   ]
  },
  {
   "cell_type": "markdown",
   "id": "d8ba3806-6e40-4f3c-afe5-e687364bf701",
   "metadata": {},
   "source": [
    "index"
   ]
  },
  {
   "cell_type": "code",
   "execution_count": 7,
   "id": "4a5c4812-5531-4d06-ad45-9c717b71950a",
   "metadata": {},
   "outputs": [
    {
     "name": "stdin",
     "output_type": "stream",
     "text": [
      " 10\n",
      " 1 19 75 37 17 16 33 18 22\n",
      " 41 28 89 74 98 43 42 31\n"
     ]
    },
    {
     "name": "stdout",
     "output_type": "stream",
     "text": [
      "157\n"
     ]
    }
   ],
   "source": [
    "N = int(input())\n",
    "array_A = list(map(int, input().split()))\n",
    "array_B = list(map(int, input().split()))\n",
    "time = [0]*(N+1)\n",
    "time[1] = 0\n",
    "time[2] = array_A[0]\n",
    "for i in range(3, N+1):\n",
    "        time[i] = min(time[i-1]+array_A[i-2], time[i-2] + array_B[i-3])\n",
    "print(time[N])"
   ]
  },
  {
   "cell_type": "markdown",
   "id": "0c0d0d0e-23e0-4eab-96fb-00193dea3576",
   "metadata": {},
   "source": [
    "time"
   ]
  },
  {
   "cell_type": "code",
   "execution_count": 14,
   "id": "4f16a488-08d0-402d-8c47-c663367b8404",
   "metadata": {},
   "outputs": [
    {
     "name": "stdin",
     "output_type": "stream",
     "text": [
      " 4\n",
      " 10 30 40 20\n"
     ]
    },
    {
     "name": "stdout",
     "output_type": "stream",
     "text": [
      "30\n"
     ]
    }
   ],
   "source": [
    "N = int(input())\n",
    "array_h = list(map(int, input().split()))\n",
    "time = [0]*(N+1)\n",
    "time[1] = 0\n",
    "time[2] = abs(array_h[1] - array_h[0])\n",
    "for i in range(3, N+1):\n",
    "    time[i] = min(time[i-1]+abs(array_h[i-1] - array_h[i-2]), time[i-2] + abs(array_h[i-1]-array_h[i-3]))\n",
    "print(time[N])"
   ]
  },
  {
   "cell_type": "code",
   "execution_count": 25,
   "id": "28461c29-d711-47d7-887c-d0a2b3a169bb",
   "metadata": {},
   "outputs": [
    {
     "name": "stdin",
     "output_type": "stream",
     "text": [
      " 10\n",
      " 1 19 75 37 17 16 33 18 22\n",
      " 41 28 89 74 98 43 42 31\n"
     ]
    },
    {
     "name": "stdout",
     "output_type": "stream",
     "text": [
      "7\n",
      "1 2 4 5 6 8 10\n"
     ]
    }
   ],
   "source": [
    "N = int(input())\n",
    "array_A = list(map(int, input().split()))\n",
    "array_B = list(map(int, input().split()))\n",
    "time = [0]*(N+1)\n",
    "time[1] = 0\n",
    "time[2] = array_A[0]\n",
    "for i in range(3, N+1):\n",
    "        time[i] = min(time[i-1]+array_A[i-2], time[i-2] + array_B[i-3])\n",
    "route = [N]\n",
    "t = N\n",
    "while t!=1:\n",
    "    if time[t] == time[t-1] + array_A[t-2]:\n",
    "        route.append(t-1)\n",
    "        t -= 1\n",
    "    else:\n",
    "        route.append(t-2)\n",
    "        t -= 2\n",
    "route.reverse()\n",
    "answer = ' '.join(map(str, route))\n",
    "print(len(route))\n",
    "print(answer)"
   ]
  },
  {
   "cell_type": "code",
   "execution_count": 28,
   "id": "f7e2b810-12be-42f0-bb35-63652a443b10",
   "metadata": {},
   "outputs": [
    {
     "name": "stdin",
     "output_type": "stream",
     "text": [
      " 6\n",
      " 30 10 60 10 60 50\n"
     ]
    },
    {
     "name": "stdout",
     "output_type": "stream",
     "text": [
      "4\n",
      "1 3 5 6\n"
     ]
    }
   ],
   "source": [
    "N = int(input())\n",
    "array_h = list(map(int, input().split()))\n",
    "time = [0]*(N+1)\n",
    "time[1] = 0\n",
    "time[2] = abs(array_h[1] - array_h[0])\n",
    "for i in range(3, N+1):\n",
    "    time[i] = min(time[i-1]+abs(array_h[i-1] - array_h[i-2]), time[i-2] + abs(array_h[i-1]-array_h[i-3]))\n",
    "route = [N]\n",
    "t = N\n",
    "while t!=1:\n",
    "    if time[t]==time[t-1]+abs(array_h[t-2]-array_h[t-1]):\n",
    "        route.append(t-1)\n",
    "        t -= 1\n",
    "    else:\n",
    "        route.append(t-2)\n",
    "        t -= 2\n",
    "route.reverse()\n",
    "answer = ' '.join(map(str, route))\n",
    "print(len(route))\n",
    "print(answer)"
   ]
  },
  {
   "cell_type": "code",
   "execution_count": 48,
   "id": "652e48b9-8716-40af-9fd8-ca991e14fc4a",
   "metadata": {},
   "outputs": [
    {
     "name": "stdin",
     "output_type": "stream",
     "text": [
      " 3 7\n",
      " 2 2 3\n"
     ]
    },
    {
     "name": "stdout",
     "output_type": "stream",
     "text": [
      "Yes\n"
     ]
    }
   ],
   "source": [
    "N, S = map(int, input().split())\n",
    "array_A = list(map(int, input().split()))\n",
    "dp = [[False]*(S+1) for _ in range(N+1)]\n",
    "dp[0][0] = True\n",
    "for i in range(1, N+1):\n",
    "    for j in range(S+1):\n",
    "        if j < array_A[i-1]:\n",
    "            if dp[i-1][j] == True:\n",
    "                dp[i][j] = True\n",
    "            else:\n",
    "                dp[i][j] = False\n",
    "        if j >= array_A[i-1]:\n",
    "            if dp[i-1][j-array_A[i-1]]==True or dp[i-1][j]==True:\n",
    "                dp[i][j] = True\n",
    "            else:\n",
    "                dp[i][j] = False\n",
    "if dp[N][S]==True:\n",
    "    print(\"Yes\")\n",
    "else:\n",
    "    print(\"No\")\n"
   ]
  },
  {
   "cell_type": "code",
   "execution_count": 64,
   "id": "8b1094fb-bc2a-4196-afe8-41deb00ac70f",
   "metadata": {},
   "outputs": [
    {
     "name": "stdin",
     "output_type": "stream",
     "text": [
      " 10 100\n",
      " 14 23 18 7 11 23 23 5 8 2\n"
     ]
    },
    {
     "name": "stdout",
     "output_type": "stream",
     "text": [
      "6\n",
      "2 3 6 7 8 9\n"
     ]
    }
   ],
   "source": [
    "N, S = map(int, input().split())\n",
    "array_A = list(map(int, input().split()))\n",
    "dp = [[False]*(S+1) for _ in range(N+1)]\n",
    "dp[0][0] = True\n",
    "for i in range(1, N+1):\n",
    "    for j in range(S+1):\n",
    "        if j < array_A[i-1]:\n",
    "            if dp[i-1][j] == True:\n",
    "                dp[i][j] = True\n",
    "            else:\n",
    "                dp[i][j] = False\n",
    "        if j >= array_A[i-1]:\n",
    "            if dp[i-1][j]==True or dp[i-1][j-array_A[i-1]]==True:\n",
    "                dp[i][j] = True\n",
    "            else:\n",
    "                dp[i][j] = False\n",
    "if dp[N][S] == False:\n",
    "    print(-1)\n",
    "else:\n",
    "    answer = []\n",
    "    s = N\n",
    "    while s!=0:\n",
    "        if dp[s-1][S]==False:\n",
    "            answer.append(s)\n",
    "            S -= array_A[s-1]\n",
    "            s -= 1\n",
    "        else:\n",
    "            s -= 1\n",
    "    answer.reverse()        \n",
    "    print(len(answer))\n",
    "    print(' '.join(map(str, answer)))\n",
    "            \n",
    "    "
   ]
  },
  {
   "cell_type": "code",
   "execution_count": 72,
   "id": "4ff7a1e5-df28-49eb-889d-d91c00c3195a",
   "metadata": {},
   "outputs": [
    {
     "name": "stdin",
     "output_type": "stream",
     "text": [
      " 10 285\n",
      " 29 8000\n",
      " 43 11000\n",
      " 47 10000\n",
      " 51 13000\n",
      " 52 16000\n",
      " 66 14000\n",
      " 72 25000\n",
      " 79 18000\n",
      " 82 23000\n",
      " 86 27000\n"
     ]
    },
    {
     "name": "stdout",
     "output_type": "stream",
     "text": [
      "87000\n"
     ]
    }
   ],
   "source": [
    "N, W = map(int, input().split())\n",
    "item = [[0, 0] for _ in range(N)]\n",
    "for i in range(N):\n",
    "    w, v = map(int, input().split())\n",
    "    item[i] = [w, v]\n",
    "    \n",
    "dp = [[1e-05]*(W+1) for _ in range(N+1)]\n",
    "for i in range(1, N+1):\n",
    "    for j in range(W+1):\n",
    "        if j < item[i-1][0]:\n",
    "            dp[i][j] = dp[i-1][j]\n",
    "        else:\n",
    "            dp[i][j] = max(dp[i-1][j], dp[i-1][j-item[i-1][0]]+item[i-1][1])\n",
    "answer = 0\n",
    "for i in range(W+1):\n",
    "    answer = max(answer, dp[N][i])\n",
    "\n",
    "print(int(answer))"
   ]
  },
  {
   "cell_type": "code",
   "execution_count": 82,
   "id": "0530e4b9-10f0-4096-b612-1020066f985f",
   "metadata": {},
   "outputs": [
    {
     "name": "stdin",
     "output_type": "stream",
     "text": [
      " 3 100\n",
      " 55 2\n",
      " 75 3\n",
      " 40 2\n"
     ]
    },
    {
     "name": "stdout",
     "output_type": "stream",
     "text": [
      "4\n"
     ]
    }
   ],
   "source": [
    "import numpy as np\n",
    "N, W = map(int, input().split())\n",
    "item = np.array([[0, 0] for _ in range(N)])\n",
    "for i in range(N):\n",
    "    w, v = map(int, input().split())\n",
    "    item[i] = [w, v]\n",
    "V = np.sum(item[:, 1])\n",
    "inf = 1.0E+18\n",
    "dp = np.array([[inf]*(V+1) for _ in range(N+1)])\n",
    "dp[0][0] = 0\n",
    "for i in range(1, N+1):\n",
    "    for j in range(V+1):\n",
    "        if j < item[i-1, 1]:\n",
    "            dp[i][j] = dp[i-1][j]\n",
    "        else:\n",
    "            dp[i][j] = min(dp[i-1][j], dp[i-1][j-item[i-1, 1]]+item[i-1][0])\n",
    "answer = 0\n",
    "for i in range(V):\n",
    "    if dp[N][i] <= W:\n",
    "        answer = max(i, answer)\n",
    "print(answer)"
   ]
  },
  {
   "cell_type": "code",
   "execution_count": 83,
   "id": "453b0cbb-da26-4ac5-818c-3bbdf8a0fdf0",
   "metadata": {},
   "outputs": [
    {
     "ename": "AttributeError",
     "evalue": "'int' object has no attribute 'type'",
     "output_type": "error",
     "traceback": [
      "\u001b[0;31m---------------------------------------------------------------------------\u001b[0m",
      "\u001b[0;31mAttributeError\u001b[0m                            Traceback (most recent call last)",
      "\u001b[0;32m/var/folders/3w/36lb6hjd11z8232vtym_3q8r0000gn/T/ipykernel_7781/1928986470.py\u001b[0m in \u001b[0;36m<module>\u001b[0;34m\u001b[0m\n\u001b[0;32m----> 1\u001b[0;31m \u001b[0manswer\u001b[0m\u001b[0;34m.\u001b[0m\u001b[0mtype\u001b[0m\u001b[0;34m\u001b[0m\u001b[0;34m\u001b[0m\u001b[0m\n\u001b[0m",
      "\u001b[0;31mAttributeError\u001b[0m: 'int' object has no attribute 'type'"
     ]
    }
   ],
   "source": [
    "answer.type"
   ]
  },
  {
   "cell_type": "code",
   "execution_count": 90,
   "id": "4c8541d7-9281-4437-b265-cca083a6edc2",
   "metadata": {},
   "outputs": [
    {
     "name": "stdin",
     "output_type": "stream",
     "text": [
      " 123456789123456789 987654321\n"
     ]
    },
    {
     "name": "stdout",
     "output_type": "stream",
     "text": [
      "124999999\n"
     ]
    }
   ],
   "source": [
    "\n",
    "A, B = map(int, input().split())\n",
    "answer = A//B\n",
    "if A%B!=0:\n",
    "    answer+=1\n",
    "print(answer)"
   ]
  },
  {
   "cell_type": "code",
   "execution_count": 85,
   "id": "a51c3477-96c3-49cb-8955-7f4a87b8b733",
   "metadata": {},
   "outputs": [
    {
     "data": {
      "text/plain": [
       "0"
      ]
     },
     "execution_count": 85,
     "metadata": {},
     "output_type": "execute_result"
    }
   ],
   "source": [
    "H, W = map(str, input().split())\n",
    "S = [list(input()) for _ in range(H)]\n",
    "s_idx = []\n",
    "n_idx = []\n",
    "u_idx = []\n",
    "k_odx = []\n",
    "e_idx = []\n",
    "for i in range(H):\n",
    "    for j in range(W):\n",
    "        if S[i][j] == \"s\":\n",
    "            s_idx.append([i, j])\n",
    "for i, j in s_idx:\n",
    "    S[i-1][]"
   ]
  },
  {
   "cell_type": "code",
   "execution_count": 127,
   "id": "fc015571-21d1-497e-a22c-0dba1c590f62",
   "metadata": {},
   "outputs": [
    {
     "name": "stdin",
     "output_type": "stream",
     "text": [
      " 10 10\n",
      " kseeusenuk\n",
      " usesenesnn\n",
      " kskekeeses\n",
      " nesnusnkkn\n",
      " snenuuenke\n",
      " kukknkeuss\n",
      " neunnennue\n",
      " sknuessuku\n",
      " nksneekknk\n",
      " neeeuknenk\n"
     ]
    },
    {
     "name": "stdout",
     "output_type": "stream",
     "text": [
      "9 3\n",
      "8 3\n",
      "7 3\n",
      "6 3\n",
      "5 3\n"
     ]
    }
   ],
   "source": [
    "H, W = map(int, input().split())\n",
    "S = [list(input()) for _ in range(H)]\n",
    "\n",
    "def find_snuke(S, snuke):\n",
    "    n, m = len(S), len(S[0])\n",
    "    length = len(snuke)\n",
    "    answer = []\n",
    "    \n",
    "    for i in range(n):\n",
    "        for j in range(m - length + 1):\n",
    "            if S[i][j:j+length] == list(snuke):\n",
    "                answer = [[i, j], [i, j+1], [i, j+2], [i, j+3], [i, j+4]]\n",
    "            if S[i][j:j+length] == list(reversed(snuke)):\n",
    "                answer = [[i, j+4], [i, j+3], [i, j+2], [i, j+1], [i, j]]\n",
    "\n",
    "    for i in range(n - length + 1):\n",
    "        for j in range(m):\n",
    "            if [S[i+k][j] for k in range(length)] == list(snuke):\n",
    "                answer = [[i, j], [i+1, j], [i+2, j], [i+3, j], [i+4, j]]\n",
    "            if [S[i+k][j] for k in range(length)] == list(reversed(snuke)):\n",
    "                answer = [[i+4, j], [i+3, j], [i+2, j], [i+1, j], [i, j]]\n",
    "      \n",
    "    for i in range(n - length + 1):\n",
    "        for j in range(m - length + 1):\n",
    "            if [S[i+k][j+k] for k in range(length)] == list(snuke):\n",
    "                answer = [[i, j], [i+1, j+1], [i+2, j+2], [i+3, j+3], [i+4, j+4]]\n",
    "            if [S[i+k][j+k] for k in range(length)] == list(reversed(snuke)):\n",
    "                answer = [[i+4, j+4], [i+3, j+3], [i+2, j+2], [i+1, j+1], [i, j]]\n",
    "    for i in range(n - length + 1):\n",
    "        for j in range(length+1, m):\n",
    "            if [S[i+k][j-k] for k in range(length)] == list(snuke):\n",
    "                answer = [[i, j], [i+1, j-1], [i+2, j-2], [i+3, j-3], [i+4, j-4]]\n",
    "            if [S[i+k][j-k] for k in range(length)] == list(reversed(snuke)):\n",
    "                answer = [[i+4, j-4], [i+3, j-3], [i+2, j-2], [i+1, j-1], [i, j]]\n",
    "    return answer\n",
    "\n",
    "answer = find_snuke(S, snuke=\"snuke\")\n",
    "for i in range(0, 5):\n",
    "    print(str(answer[i][0]+1) + \" \" + str(answer[i][1]+1))"
   ]
  },
  {
   "cell_type": "code",
   "execution_count": 136,
   "id": "02894f5d-ce8c-4d55-b8c3-a5fbb0d52951",
   "metadata": {},
   "outputs": [
    {
     "name": "stdin",
     "output_type": "stream",
     "text": [
      " 3 100\n",
      " 55 2\n",
      " 75 3\n",
      " 40 2\n"
     ]
    },
    {
     "name": "stdout",
     "output_type": "stream",
     "text": [
      "4\n"
     ]
    }
   ],
   "source": [
    "import numpy as np\n",
    "N, W = map(int, input().split())\n",
    "item = np.array([[0, 0] for _ in range(N)])\n",
    "for i in range(N):\n",
    "    w, v = map(int, input().split())\n",
    "    item[i] = [w, v]\n",
    "V = int(1.0e+5)\n",
    "inf = 1.0E+18\n",
    "dp = np.array([[inf]*int(V+1) for _ in range(N+1)])\n",
    "dp[0][0] = 0\n",
    "for i in range(1, N+1):\n",
    "    for j in range(V+1):\n",
    "        if j < item[i-1, 1]:\n",
    "            dp[i][j] = dp[i-1][j]\n",
    "        else:\n",
    "            dp[i][j] = min(dp[i-1][j], dp[i-1][j-item[i-1, 1]]+item[i-1][0])\n",
    "# answer = 0\n",
    "masked = W>=dp[N]\n",
    "indices = np.where(masked)[0]\n",
    "print(indices.max())\n",
    "# for i in range(V):\n",
    "#     if dp[N][i] <= W:\n",
    "#         answer = max(i, answer)\n"
   ]
  },
  {
   "cell_type": "code",
   "execution_count": 140,
   "id": "8cebe053-dbe1-405f-98c7-c5ca16fdd61f",
   "metadata": {},
   "outputs": [
    {
     "name": "stdin",
     "output_type": "stream",
     "text": [
      " 4 7\n",
      " 3 13\n",
      " 3 17\n",
      " 5 29\n",
      " 1 10\n"
     ]
    },
    {
     "name": "stdout",
     "output_type": "stream",
     "text": [
      "40\n"
     ]
    }
   ],
   "source": [
    "# import numpy as np\n",
    "N, W = map(int, input().split())\n",
    "item = [[0, 0] for _ in range(N)]\n",
    "for i in range(N):\n",
    "    w, v = map(int, input().split())\n",
    "    item[i] = [w, v]\n",
    "V = int(1.0e+5)\n",
    "inf = 1.0E+18\n",
    "dp = [[inf]*int(V+1) for _ in range(N+1)]\n",
    "dp[0][0] = 0\n",
    "for i in range(1, N+1):\n",
    "    for j in range(V+1):\n",
    "        if j < item[i-1][1]:\n",
    "            dp[i][j] = dp[i-1][j]\n",
    "        else:\n",
    "            dp[i][j] = min(dp[i-1][j], dp[i-1][j-item[i-1][1]]+item[i-1][0])\n",
    "answer = 0\n",
    "# masked = W>=dp[N]\n",
    "# indices = np.where(masked)[0]\n",
    "# print(indices.max())\n",
    "for i in range(V+1):\n",
    "    if dp[N][i] <= W:\n",
    "        answer = max(i, answer)\n",
    "print(answer)"
   ]
  },
  {
   "cell_type": "code",
   "execution_count": 149,
   "id": "0756cb6d-e684-4792-942b-21fdfcdf043f",
   "metadata": {},
   "outputs": [
    {
     "name": "stdin",
     "output_type": "stream",
     "text": [
      " tokyo\n",
      " kyoto\n"
     ]
    },
    {
     "name": "stdout",
     "output_type": "stream",
     "text": [
      "3\n"
     ]
    }
   ],
   "source": [
    "S = list(input())\n",
    "T = list(input())\n",
    "\n",
    "dp = [[0]*(len(T)+1) for _ in range(len(S)+1)]\n",
    "dp[0][0] = 0\n",
    "\n",
    "for i in range(1, len(S)+1):\n",
    "    for j in range(1, len(T)+1):\n",
    "        if S[i-1]==T[j-1]:\n",
    "            dp[i][j] = max(dp[i-1][j-1]+1, dp[i-1][j], dp[i][j-1])\n",
    "        else:\n",
    "            dp[i][j] = max(dp[i-1][j], dp[i][j-1])\n",
    "print(dp[len(S)][len(T)])\n",
    "    "
   ]
  },
  {
   "cell_type": "code",
   "execution_count": 158,
   "id": "2117d2f2-8641-480b-acb7-6adb4686894e",
   "metadata": {},
   "outputs": [
    {
     "name": "stdin",
     "output_type": "stream",
     "text": [
      " tokyo\n",
      " kyoto\n"
     ]
    },
    {
     "name": "stdout",
     "output_type": "stream",
     "text": [
      "4\n"
     ]
    }
   ],
   "source": [
    "def levenshtein_distance(S, T):\n",
    "    length_S = len(S)+1\n",
    "    length_T = len(T)+1\n",
    "    dp = [[0]*length_T for _ in range(length_S)]\n",
    "    for i in range(length_S):\n",
    "        dp[i][0] = i\n",
    "    for i in range(length_T):\n",
    "        dp[0][i] = i\n",
    "        \n",
    "    for i in range(1, length_S):\n",
    "        for j in range(1, length_T):\n",
    "            if S[i-1]==T[j-1]:\n",
    "                dp[i][j] = min(dp[i-1][j]+1, dp[i][j-1]+1, dp[i-1][j-1])\n",
    "                \n",
    "            else:\n",
    "                dp[i][j] = min(dp[i-1][j]+1, dp[i][j-1]+1, dp[i-1][j-1]+1)\n",
    "                \n",
    "    print(dp[length_S-1][length_T-1])\n",
    "\n",
    "S = list(input())\n",
    "T = list(input())\n",
    "levenshtein_distance(S, T)"
   ]
  },
  {
   "cell_type": "code",
   "execution_count": 159,
   "id": "10ca4c47-dda4-47ef-9643-4e2db7bb34a1",
   "metadata": {},
   "outputs": [
    {
     "name": "stdin",
     "output_type": "stream",
     "text": [
      " tokyo\n",
      " kyoto\n"
     ]
    },
    {
     "name": "stdout",
     "output_type": "stream",
     "text": [
      "4\n"
     ]
    }
   ],
   "source": [
    "S = list(input())\n",
    "T = list(input())\n",
    "\n",
    "length_S = len(S)+1\n",
    "length_T = len(T)+1\n",
    "dp = [[0]*length_T for _ in range(length_S)]\n",
    "for i in range(length_S):\n",
    "    dp[i][0] = i\n",
    "for i in range(length_T):\n",
    "    dp[0][i] = i\n",
    "        \n",
    "for i in range(1, length_S):\n",
    "    for j in range(1, length_T):\n",
    "        if S[i-1]==T[j-1]:\n",
    "            dp[i][j] = min(dp[i-1][j]+1, dp[i][j-1]+1, dp[i-1][j-1])\n",
    "                \n",
    "        else:\n",
    "            dp[i][j] = min(dp[i-1][j]+1, dp[i][j-1]+1, dp[i-1][j-1]+1)\n",
    "                \n",
    "print(dp[length_S-1][length_T-1])\n"
   ]
  },
  {
   "cell_type": "code",
   "execution_count": 179,
   "id": "3768216a-d87a-4945-8ee0-4291ac1befb8",
   "metadata": {},
   "outputs": [
    {
     "name": "stdin",
     "output_type": "stream",
     "text": [
      " 5\n",
      " 1lo01\n",
      " l10ol\n"
     ]
    },
    {
     "name": "stdout",
     "output_type": "stream",
     "text": [
      "Yes\n"
     ]
    }
   ],
   "source": [
    "N = int(input())\n",
    "S = list(input())\n",
    "T = list(input())\n",
    "T = [\"l\" if item==\"1\" else item for item in T] \n",
    "T = [\"o\" if item==\"0\" else item for item in T]\n",
    "S = [\"l\" if item==\"1\" else item for item in S] \n",
    "S = [\"o\" if item==\"0\" else item for item in S]\n",
    "answer = \"Yes\"\n",
    "for i in range(N):\n",
    "        if S[i]!=T[i]:\n",
    "            answer = \"No\"\n",
    "print(answer)"
   ]
  },
  {
   "cell_type": "code",
   "execution_count": 230,
   "id": "e62d59ce-d7fe-4ea3-b40c-7766171a13c4",
   "metadata": {},
   "outputs": [
    {
     "name": "stdin",
     "output_type": "stream",
     "text": [
      " 3 3\n",
      " 1 2 3\n",
      " 3 1 2\n",
      " 1 2 3\n"
     ]
    },
    {
     "name": "stdout",
     "output_type": "stream",
     "text": [
      "0\n"
     ]
    }
   ],
   "source": [
    "N, M = map(int, input().split())\n",
    "A = [list(map(int, input().split())) for _ in range(M)]\n",
    "whole_list = []\n",
    "for i in range(M):\n",
    "    for j in range(0, N-1):\n",
    "        temp_list = A[i][j:j+2].copy()\n",
    "        temp_list = sorted(temp_list)\n",
    "        if temp_list not in whole_list:\n",
    "            whole_list.append(temp_list)\n",
    "            \n",
    "total_pair = N*(N-1)/2\n",
    "print(int(total_pair - len(whole_list[:]))) \n",
    "        "
   ]
  },
  {
   "cell_type": "code",
   "execution_count": 231,
   "id": "757f37a0-9859-48fa-9f26-db5c9acb3e23",
   "metadata": {},
   "outputs": [
    {
     "name": "stdin",
     "output_type": "stream",
     "text": [
      " 4 2\n",
      " 1 2 3 4\n",
      " 4 3 1 2\n"
     ]
    },
    {
     "ename": "TypeError",
     "evalue": "unhashable type: 'list'",
     "output_type": "error",
     "traceback": [
      "\u001b[0;31m---------------------------------------------------------------------------\u001b[0m",
      "\u001b[0;31mTypeError\u001b[0m                                 Traceback (most recent call last)",
      "\u001b[0;32m/var/folders/3w/36lb6hjd11z8232vtym_3q8r0000gn/T/ipykernel_7781/3892700801.py\u001b[0m in \u001b[0;36m<module>\u001b[0;34m\u001b[0m\n\u001b[1;32m      9\u001b[0m         \u001b[0;31m#if temp_list not in whole_list:\u001b[0m\u001b[0;34m\u001b[0m\u001b[0;34m\u001b[0m\u001b[0m\n\u001b[1;32m     10\u001b[0m         \u001b[0mwhole_list\u001b[0m\u001b[0;34m.\u001b[0m\u001b[0mappend\u001b[0m\u001b[0;34m(\u001b[0m\u001b[0mtemp_list\u001b[0m\u001b[0;34m)\u001b[0m\u001b[0;34m\u001b[0m\u001b[0;34m\u001b[0m\u001b[0m\n\u001b[0;32m---> 11\u001b[0;31m \u001b[0mpairs\u001b[0m \u001b[0;34m=\u001b[0m \u001b[0mCounter\u001b[0m\u001b[0;34m(\u001b[0m\u001b[0mwhole_list\u001b[0m\u001b[0;34m[\u001b[0m\u001b[0;34m:\u001b[0m\u001b[0;34m]\u001b[0m\u001b[0;34m)\u001b[0m\u001b[0;34m\u001b[0m\u001b[0;34m\u001b[0m\u001b[0m\n\u001b[0m\u001b[1;32m     12\u001b[0m \u001b[0mtotal_pair\u001b[0m \u001b[0;34m=\u001b[0m \u001b[0mN\u001b[0m\u001b[0;34m*\u001b[0m\u001b[0;34m(\u001b[0m\u001b[0mN\u001b[0m\u001b[0;34m-\u001b[0m\u001b[0;36m1\u001b[0m\u001b[0;34m)\u001b[0m\u001b[0;34m/\u001b[0m\u001b[0;36m2\u001b[0m\u001b[0;34m\u001b[0m\u001b[0;34m\u001b[0m\u001b[0m\n\u001b[1;32m     13\u001b[0m \u001b[0mprint\u001b[0m\u001b[0;34m(\u001b[0m\u001b[0mint\u001b[0m\u001b[0;34m(\u001b[0m\u001b[0mtotal_pair\u001b[0m \u001b[0;34m-\u001b[0m \u001b[0mpairs\u001b[0m\u001b[0;34m)\u001b[0m\u001b[0;34m)\u001b[0m\u001b[0;34m\u001b[0m\u001b[0;34m\u001b[0m\u001b[0m\n",
      "\u001b[0;32m~/opt/anaconda3/lib/python3.9/collections/__init__.py\u001b[0m in \u001b[0;36m__init__\u001b[0;34m(self, iterable, **kwds)\u001b[0m\n\u001b[1;32m    591\u001b[0m         '''\n\u001b[1;32m    592\u001b[0m         \u001b[0msuper\u001b[0m\u001b[0;34m(\u001b[0m\u001b[0;34m)\u001b[0m\u001b[0;34m.\u001b[0m\u001b[0m__init__\u001b[0m\u001b[0;34m(\u001b[0m\u001b[0;34m)\u001b[0m\u001b[0;34m\u001b[0m\u001b[0;34m\u001b[0m\u001b[0m\n\u001b[0;32m--> 593\u001b[0;31m         \u001b[0mself\u001b[0m\u001b[0;34m.\u001b[0m\u001b[0mupdate\u001b[0m\u001b[0;34m(\u001b[0m\u001b[0miterable\u001b[0m\u001b[0;34m,\u001b[0m \u001b[0;34m**\u001b[0m\u001b[0mkwds\u001b[0m\u001b[0;34m)\u001b[0m\u001b[0;34m\u001b[0m\u001b[0;34m\u001b[0m\u001b[0m\n\u001b[0m\u001b[1;32m    594\u001b[0m \u001b[0;34m\u001b[0m\u001b[0m\n\u001b[1;32m    595\u001b[0m     \u001b[0;32mdef\u001b[0m \u001b[0m__missing__\u001b[0m\u001b[0;34m(\u001b[0m\u001b[0mself\u001b[0m\u001b[0;34m,\u001b[0m \u001b[0mkey\u001b[0m\u001b[0;34m)\u001b[0m\u001b[0;34m:\u001b[0m\u001b[0;34m\u001b[0m\u001b[0;34m\u001b[0m\u001b[0m\n",
      "\u001b[0;32m~/opt/anaconda3/lib/python3.9/collections/__init__.py\u001b[0m in \u001b[0;36mupdate\u001b[0;34m(self, iterable, **kwds)\u001b[0m\n\u001b[1;32m    677\u001b[0m                     \u001b[0msuper\u001b[0m\u001b[0;34m(\u001b[0m\u001b[0;34m)\u001b[0m\u001b[0;34m.\u001b[0m\u001b[0mupdate\u001b[0m\u001b[0;34m(\u001b[0m\u001b[0miterable\u001b[0m\u001b[0;34m)\u001b[0m\u001b[0;34m\u001b[0m\u001b[0;34m\u001b[0m\u001b[0m\n\u001b[1;32m    678\u001b[0m             \u001b[0;32melse\u001b[0m\u001b[0;34m:\u001b[0m\u001b[0;34m\u001b[0m\u001b[0;34m\u001b[0m\u001b[0m\n\u001b[0;32m--> 679\u001b[0;31m                 \u001b[0m_count_elements\u001b[0m\u001b[0;34m(\u001b[0m\u001b[0mself\u001b[0m\u001b[0;34m,\u001b[0m \u001b[0miterable\u001b[0m\u001b[0;34m)\u001b[0m\u001b[0;34m\u001b[0m\u001b[0;34m\u001b[0m\u001b[0m\n\u001b[0m\u001b[1;32m    680\u001b[0m         \u001b[0;32mif\u001b[0m \u001b[0mkwds\u001b[0m\u001b[0;34m:\u001b[0m\u001b[0;34m\u001b[0m\u001b[0;34m\u001b[0m\u001b[0m\n\u001b[1;32m    681\u001b[0m             \u001b[0mself\u001b[0m\u001b[0;34m.\u001b[0m\u001b[0mupdate\u001b[0m\u001b[0;34m(\u001b[0m\u001b[0mkwds\u001b[0m\u001b[0;34m)\u001b[0m\u001b[0;34m\u001b[0m\u001b[0;34m\u001b[0m\u001b[0m\n",
      "\u001b[0;31mTypeError\u001b[0m: unhashable type: 'list'"
     ]
    }
   ],
   "source": [
    "from collections import Counter\n",
    "N, M = map(int, input().split())\n",
    "A = [list(map(int, input().split())) for _ in range(M)]\n",
    "whole_list = []\n",
    "for i in range(M):\n",
    "    for j in range(0, N-1):\n",
    "        temp_list = A[i][j:j+2].copy()\n",
    "        temp_list = sorted(temp_list)\n",
    "        #if temp_list not in whole_list:\n",
    "        whole_list.append(temp_list)\n",
    "pairs = Counter(whole_list[:])            \n",
    "total_pair = N*(N-1)/2\n",
    "print(int(total_pair - len(whole_list[:])))"
   ]
  },
  {
   "cell_type": "code",
   "execution_count": 263,
   "id": "92091cab-0ffc-42f9-bbd5-d6aebcde06c4",
   "metadata": {},
   "outputs": [
    {
     "name": "stdin",
     "output_type": "stream",
     "text": [
      " 8\n",
      " 8 100\n",
      " 7 100\n",
      " 6 100\n",
      " 5 100\n",
      " 4 100\n",
      " 3 100\n",
      " 2 100\n",
      " 1 100\n"
     ]
    },
    {
     "name": "stdout",
     "output_type": "stream",
     "text": [
      "400\n"
     ]
    }
   ],
   "source": [
    "N = int(input())\n",
    "P = [0]*(N+1)\n",
    "A = [0]*(N+1)\n",
    "for i in range(1, N+1):\n",
    "    P[i], A[i] = map(int, input().split())\n",
    "dp = [[0]*(N+1) for _ in range(N+1)]\n",
    "for length in reversed(range(0, N-1)):\n",
    "    for l in range(1, N-length+1):\n",
    "        r = l + length\n",
    "        \n",
    "        score1 = 0\n",
    "        if l>=2 and l<=P[l-1] and P[l-1]<=r:\n",
    "            score1 = A[l-1]\n",
    "            \n",
    "        score2 = 0\n",
    "        if r<=N-1 and l<=P[r+1] and P[r+1]<=r:\n",
    "            score2 = A[r+1]\n",
    "            \n",
    "        if l==1:\n",
    "            dp[l][r] = dp[l][r+1] + score2\n",
    "            \n",
    "        elif r==N:\n",
    "            dp[l][r] = dp[l-1][r] + score1\n",
    "            \n",
    "        else:\n",
    "            dp[l][r] = max(dp[l-1][r] + score1, dp[l][r+1] + score2)\n",
    "answer = 0\n",
    "for i in range(1, N+1):\n",
    "    answer = max(answer, dp[i][i])\n",
    "print(answer)"
   ]
  },
  {
   "cell_type": "code",
   "execution_count": 274,
   "id": "942eb1c1-c3e7-4253-98f7-ff902b56f269",
   "metadata": {},
   "outputs": [
    {
     "name": "stdin",
     "output_type": "stream",
     "text": [
      " 11\n",
      " programming\n"
     ]
    },
    {
     "name": "stdout",
     "output_type": "stream",
     "text": [
      "0\n"
     ]
    }
   ],
   "source": [
    "N = int(input())\n",
    "S = input()\n",
    "dp = [[0]*(N+1) for _ in range(N+1)]\n",
    "for i in range(N):\n",
    "    dp[i][i] = 1\n",
    "for length in (range(1, N-1)):\n",
    "    for l in range(0, N-length):\n",
    "        r = l + length\n",
    "        if length==1 and S[l]==S[r]:\n",
    "            dp[l][r]=2\n",
    "        elif length==1 and S[l]!=S[r]:\n",
    "            dp[l][r]=1\n",
    "        if length>1 and S[l]==S[r]:\n",
    "            dp[l][r] = max(dp[l-1][r]+1, dp[l][r+1]+1)\n",
    "        else:\n",
    "            dp[l][r] = max(dp[l-1][r], dp[l][r+1])\n",
    "print(dp[0][N-1])\n",
    "            "
   ]
  },
  {
   "cell_type": "code",
   "execution_count": 277,
   "id": "f1bd7016-b27a-4ca6-88ba-52c07391b500",
   "metadata": {},
   "outputs": [
    {
     "name": "stdin",
     "output_type": "stream",
     "text": [
      " 7\n",
      " abcdcba\n"
     ]
    },
    {
     "name": "stdout",
     "output_type": "stream",
     "text": [
      "7\n"
     ]
    }
   ],
   "source": [
    "N = int(input())\n",
    "S = input()\n",
    "dp = [[0]*(N+1) for _ in range(N+1)]\n",
    "for i in range(N):\n",
    "    dp[i][i] = 1\n",
    "for length in range(2, N+1):\n",
    "    for l in range(N - length + 1):\n",
    "        r = l + length - 1\n",
    "        if S[l] == S[r]:\n",
    "            dp[l][r] = dp[l+1][r-1] + 2\n",
    "        else:\n",
    "            dp[l][r] = max(dp[l+1][r], dp[l][r-1])\n",
    "print(dp[0][N-1])"
   ]
  },
  {
   "cell_type": "code",
   "execution_count": 307,
   "id": "c1c7fdbe-a3ed-4ce3-93bf-e7fefb58e936",
   "metadata": {},
   "outputs": [
    {
     "name": "stdin",
     "output_type": "stream",
     "text": [
      " 2\n",
      " 2\n",
      " 2\n"
     ]
    },
    {
     "name": "stdout",
     "output_type": "stream",
     "text": [
      "150\n"
     ]
    }
   ],
   "source": [
    "N = int(input())\n",
    "A = list(map(int, input().split()))\n",
    "B = list(map(int, input().split()))\n",
    "dp = [-10e09] * (N+1) \n",
    "dp[1] = 0\n",
    "for i in range(1, N):\n",
    "    dp[A[i-1]] = max(dp[A[i-1]], dp[i]+100)\n",
    "    dp[B[i-1]] = max(dp[B[i-1]], dp[i]+150)\n",
    "\n",
    "print(dp[N])"
   ]
  },
  {
   "cell_type": "code",
   "execution_count": 310,
   "id": "5a09ea29-cda6-42cc-ac4b-d070c452cd0b",
   "metadata": {},
   "outputs": [
    {
     "name": "stdin",
     "output_type": "stream",
     "text": [
      " 5\n",
      " 2 4 1 3\n",
      " 5 3 7\n"
     ]
    },
    {
     "name": "stdout",
     "output_type": "stream",
     "text": [
      "8\n"
     ]
    }
   ],
   "source": [
    "N = int(input())\n",
    "A = list(map(int, input().split()))\n",
    "B = list(map(int, input().split()))\n",
    "\n",
    "dp = [10e09] * (N+1) \n",
    "dp[1] = 0\n",
    "for i in range(2, N+1):\n",
    "    if i==2:\n",
    "        dp[i] = min(dp[i], dp[i-1]+A[i-2])\n",
    "    else:\n",
    "        dp[i] = min(dp[i-2]+B[i-3], dp[i-1]+A[i-2])\n",
    "print(dp[N])"
   ]
  },
  {
   "cell_type": "code",
   "execution_count": 319,
   "id": "8b2925df-cd22-4680-b027-30f76e83baa4",
   "metadata": {},
   "outputs": [
    {
     "name": "stdin",
     "output_type": "stream",
     "text": [
      " 10 2\n",
      " 1 1 1 1 0 0 0 0 0 0\n",
      " 0 0 0 0 1 1 1 1 0 0\n"
     ]
    },
    {
     "name": "stdout",
     "output_type": "stream",
     "text": [
      "-1\n"
     ]
    }
   ],
   "source": [
    "N, M = map(int, input().split())\n",
    "A = [list(map(int, input().split())) for _ in range(M)]\n",
    "\n",
    "dp = [[1e09]*(2**N) for _ in range(M+1)]\n",
    "dp[0][0] = 0\n",
    "for i in range(1, M+1):\n",
    "    for j in range(2**N):\n",
    "        already = [None] * N\n",
    "        for k in range(N):\n",
    "            if (j//(2**k))%2==0:\n",
    "                already[k]=0\n",
    "            else:\n",
    "                already[k]=1\n",
    "                \n",
    "        v = 0\n",
    "        for k in range(N):\n",
    "            if already[k]==1 or A[i-1][k]==1:\n",
    "                v+=(2**k)\n",
    "                \n",
    "        dp[i][j] = min(dp[i][j], dp[i-1][j])\n",
    "        dp[i][v] = min(dp[i][v], dp[i-1][j]+1)\n",
    "        \n",
    "if dp[M][2 ** N - 1] == 1e09:\n",
    "    print(\"-1\")\n",
    "else:\n",
    "    print(dp[M][2**N-1])"
   ]
  },
  {
   "cell_type": "code",
   "execution_count": 339,
   "id": "650b818b-a35d-478d-ad40-f5cc306b71dc",
   "metadata": {},
   "outputs": [
    {
     "name": "stdin",
     "output_type": "stream",
     "text": [
      " 7\n",
      " 2 5\n",
      " 2 3\n",
      " 4 1\n",
      " 1 1\n",
      " 7 2\n",
      " 5 3\n",
      " 6 5\n"
     ]
    },
    {
     "name": "stdout",
     "output_type": "stream",
     "text": [
      "54.0\n"
     ]
    }
   ],
   "source": [
    "def dist(x, y):\n",
    "    return ((x[0] - y[0])**2 + (x[1] - y[1])**2)**1/2\n",
    "N = int(input())\n",
    "L = [list(map(int, input().split())) for _ in range(N)]\n",
    "    \n",
    "dp = [[10e9 for _ in range(2 ** N)] for _ in range(N)]\n",
    "\n",
    "for i in range(N):\n",
    "    dp[i][2**i] = dist(L[0], L[i])\n",
    "    \n",
    "for b in range(2**N):\n",
    "    for i in range(N):\n",
    "        if b >> i & 1 == 0:\n",
    "            continue\n",
    "        for j in range(N):\n",
    "            if b >> j & 1 == 1:\n",
    "                continue\n",
    "            tmp = dp[i][b] + dist(L[i], L[j])\n",
    "            if tmp < dp[j][b|2**j]:\n",
    "                dp[j][b|2**j] = tmp\n",
    "                \n",
    "print(dp[0][2**N-1]*2)"
   ]
  },
  {
   "cell_type": "code",
   "execution_count": 343,
   "id": "47894f90-c72f-448c-bfe5-737b2bb0079c",
   "metadata": {},
   "outputs": [
    {
     "name": "stdin",
     "output_type": "stream",
     "text": [
      " 6\n",
      " 2 3 1 6 4 5\n"
     ]
    },
    {
     "name": "stdout",
     "output_type": "stream",
     "text": [
      "4\n"
     ]
    }
   ],
   "source": [
    "import bisect\n",
    "N = int(input())\n",
    "A = list(map(int, input().split()))\n",
    "\n",
    "L = []\n",
    "le = 0\n",
    "\n",
    "for i in range(N):\n",
    "    pos = bisect.bisect_left(L, A[i])\n",
    "    if pos >= le:\n",
    "        L.append(A[i])\n",
    "        le+=1\n",
    "    else:\n",
    "        L[pos] = A[i]\n",
    "        \n",
    "print(le)"
   ]
  },
  {
   "cell_type": "code",
   "execution_count": 358,
   "id": "0510ace0-ebd2-4a84-b9bc-1a8e2932c26e",
   "metadata": {},
   "outputs": [
    {
     "name": "stdin",
     "output_type": "stream",
     "text": [
      " 5\n",
      " 30 50\n",
      " 10 30\n",
      " 40 10\n",
      " 50 20\n",
      " 40 60\n"
     ]
    }
   ],
   "source": [
    "import bisect\n",
    "N = int(input())\n",
    "B = []\n",
    "for i in range(N):\n",
    "    x, y = map(int, input().split())\n",
    "    B.append([x, -y])\n",
    "\n",
    "B.sort()\n",
    "# length = []\n",
    "# width = []\n",
    "# for i in range(N):\n",
    "#     length.append(B[i][0])\n",
    "#     width.append(-B[i][0])\n",
    "\n",
    "# le = 0\n",
    "# L = []\n",
    "# for i in range(len(length)):\n",
    "#     pos = bisect.bisect_left(L, Y[i])\n",
    "#     if pos>=le:\n",
    "#         L.append(Y[i])\n",
    "#         le+=1\n",
    "#     else:\n",
    "#         L[pos] = Y[i]\n",
    "        \n",
    "# print(le)"
   ]
  },
  {
   "cell_type": "code",
   "execution_count": 447,
   "id": "1735b81c-00a1-465a-b95a-fbcde4b07b98",
   "metadata": {},
   "outputs": [
    {
     "name": "stdin",
     "output_type": "stream",
     "text": [
      " 5 6\n",
      " ......\n",
      " ..#.#.\n",
      " ..###.\n",
      " ..###.\n",
      " ......\n"
     ]
    },
    {
     "name": "stdout",
     "output_type": "stream",
     "text": [
      "2 4\n"
     ]
    }
   ],
   "source": [
    "H, W = map(int, input().split())\n",
    "C = [list(input()) for _ in range(H)]\n",
    "\n",
    "u, l = 500, 500\n",
    "d, r = 0, 0\n",
    "\n",
    "for i in range(H):\n",
    "    for j in range(W):\n",
    "        if C[i][j]==\"#\":\n",
    "            u = min(u, i)\n",
    "            d = max(d, i)\n",
    "            l = min(l, j)\n",
    "            r = max(r, j)\n",
    "for i in range(u, d+1):\n",
    "    for j in range(l, r+1):\n",
    "        if C[i][j]==\".\":\n",
    "            print(i+1,j+1,sep=\" \")\n",
    "            break\n",
    "        else:\n",
    "            continue\n",
    "        break"
   ]
  },
  {
   "cell_type": "code",
   "execution_count": 437,
   "id": "b93c2e36-17fc-4777-82b4-53fdc2c3895d",
   "metadata": {},
   "outputs": [
    {
     "name": "stdin",
     "output_type": "stream",
     "text": [
      " 4 2\n",
      " ..\n",
      " ..\n",
      " ..\n",
      " ..\n"
     ]
    }
   ],
   "source": [
    "H, W = map(int, input().split())\n",
    "S = np.array([np.array(input()) for _ in range(H)])\n",
    "answer = []\n",
    "# for i in range(N):\n",
    "#     for j in range(W):\n",
    "#         if i==0:\n",
    "#             if S[i][j]==\"#\" and S[i][j+1]==\".\":\n",
    "#                 if S[i+1][j+1]==\"#\":\n",
    "#                     answer = [i, j]\n",
    "#                     break\n",
    "            \n",
    "            \n",
    "#             answer.append(i, j)\n"
   ]
  },
  {
   "cell_type": "code",
   "execution_count": 458,
   "id": "fda97403-1bd8-4942-a619-c49ba9b242bb",
   "metadata": {},
   "outputs": [
    {
     "name": "stdin",
     "output_type": "stream",
     "text": [
      " 21\n",
      " 0 20 62 192 284 310 323 324 352 374 409 452 486 512 523 594 677 814 838 946 1000\n",
      " 10\n",
      " 77 721\n"
     ]
    },
    {
     "name": "stdout",
     "output_type": "stream",
     "text": [
      "296\n"
     ]
    },
    {
     "name": "stdin",
     "output_type": "stream",
     "text": [
      " 255 541\n"
     ]
    },
    {
     "name": "stdout",
     "output_type": "stream",
     "text": [
      "150\n"
     ]
    },
    {
     "name": "stdin",
     "output_type": "stream",
     "text": [
      " 478 970\n"
     ]
    },
    {
     "name": "stdout",
     "output_type": "stream",
     "text": [
      "150\n"
     ]
    },
    {
     "name": "stdin",
     "output_type": "stream",
     "text": [
      " 369 466\n"
     ]
    },
    {
     "name": "stdout",
     "output_type": "stream",
     "text": [
      "49\n"
     ]
    },
    {
     "name": "stdin",
     "output_type": "stream",
     "text": [
      " 343 541\n"
     ]
    },
    {
     "name": "stdout",
     "output_type": "stream",
     "text": [
      "89\n"
     ]
    },
    {
     "name": "stdin",
     "output_type": "stream",
     "text": [
      " 42 165\n"
     ]
    },
    {
     "name": "stdout",
     "output_type": "stream",
     "text": [
      "20\n"
     ]
    },
    {
     "name": "stdin",
     "output_type": "stream",
     "text": [
      " 16 618\n"
     ]
    },
    {
     "name": "stdout",
     "output_type": "stream",
     "text": [
      "279\n"
     ]
    },
    {
     "name": "stdin",
     "output_type": "stream",
     "text": [
      " 222 592\n"
     ]
    },
    {
     "name": "stdout",
     "output_type": "stream",
     "text": [
      "183\n"
     ]
    },
    {
     "name": "stdin",
     "output_type": "stream",
     "text": [
      " 730 983\n"
     ]
    },
    {
     "name": "stdout",
     "output_type": "stream",
     "text": [
      "61\n"
     ]
    },
    {
     "name": "stdin",
     "output_type": "stream",
     "text": [
      " 338 747\n"
     ]
    },
    {
     "name": "stdout",
     "output_type": "stream",
     "text": [
      "177\n"
     ]
    }
   ],
   "source": [
    "import bisect\n",
    "N = int(input())\n",
    "L = list(map(int, input().split()))\n",
    "acm_L = [0]\n",
    "tmp = 0\n",
    "for i in range(2, len(L), 2):\n",
    "    tmp += L[i]-L[i-1]\n",
    "    acm_L.append(tmp)\n",
    "Q = int(input())\n",
    "for i in range(Q):\n",
    "    l, r = input().split()\n",
    "    idx1 = bisect.bisect_left(L, int(l))\n",
    "    idx2 = bisect.bisect_left(L, int(r))\n",
    "    a, b = 0, 0\n",
    "    if idx1%2==0:\n",
    "        a = L[idx1] - int(l)\n",
    "    if idx2%2==0:\n",
    "        b = int(r) - L[idx2]\n",
    "    print(a + b + acm_L[idx2//2] - acm_L[idx1//2])\n",
    "    "
   ]
  },
  {
   "cell_type": "code",
   "execution_count": 456,
   "id": "3dfea471-1589-4467-a83a-b04c882b0855",
   "metadata": {},
   "outputs": [
    {
     "data": {
      "text/plain": [
       "0"
      ]
     },
     "execution_count": 456,
     "metadata": {},
     "output_type": "execute_result"
    }
   ],
   "source": [
    "1//2"
   ]
  },
  {
   "cell_type": "code",
   "execution_count": 455,
   "id": "e6795396-5be9-4f32-9aa3-24bc9247925f",
   "metadata": {},
   "outputs": [
    {
     "data": {
      "text/plain": [
       "600"
      ]
     },
     "execution_count": 455,
     "metadata": {},
     "output_type": "execute_result"
    }
   ],
   "source": [
    "acm_L[1]"
   ]
  },
  {
   "cell_type": "code",
   "execution_count": null,
   "id": "c5d68e07-6153-41d8-81d6-b23cdeb79727",
   "metadata": {},
   "outputs": [],
   "source": []
  }
 ],
 "metadata": {
  "kernelspec": {
   "display_name": "Python 3 (ipykernel)",
   "language": "python",
   "name": "python3"
  },
  "language_info": {
   "codemirror_mode": {
    "name": "ipython",
    "version": 3
   },
   "file_extension": ".py",
   "mimetype": "text/x-python",
   "name": "python",
   "nbconvert_exporter": "python",
   "pygments_lexer": "ipython3",
   "version": "3.9.7"
  }
 },
 "nbformat": 4,
 "nbformat_minor": 5
}
