{
 "cells": [
  {
   "cell_type": "code",
   "execution_count": null,
   "id": "df221113-7c9d-4858-b9a1-624c73d14209",
   "metadata": {},
   "outputs": [],
   "source": [
    "# 典型1 ★★★★　二部探索　ある長さのものをカットしていき、カット数kの時に\n",
    "# 最小のカット片を最大にした時の長さを求める。\n",
    "# 「最小値の最大値」、みたいなものを求めるときは、二分探索の可能性が高いらしい\n",
    "\n",
    "n, l = map(int, input().split())\n",
    "k = int(input())\n",
    "A = list(map(int, input().split()))\n",
    "A.append(l)\n",
    "def check(n, k):\n",
    "    left = 1\n",
    "    right = l+1\n",
    "    while right-left>1:\n",
    "        m = (right+left)//2\n",
    "        pre = 0\n",
    "        cut=0\n",
    "        for i in range(n+1):\n",
    "            if A[i]-pre<m:\n",
    "                continue\n",
    "            else:\n",
    "                pre = A[i]\n",
    "                cut+=1\n",
    "        if cut<=k:\n",
    "            right = m\n",
    "        else:\n",
    "            left = m\n",
    "    return left\n",
    "ans = check(n, k)\n",
    "print(ans)"
   ]
  },
  {
   "cell_type": "code",
   "execution_count": null,
   "id": "90ddf154-3500-479a-abc6-eba81eedbf44",
   "metadata": {},
   "outputs": [],
   "source": [
    "# 典型2 ★★★\n",
    "# n文字の（と）の並びで、ちゃんと「整合」しているものを辞書順で出力する問題\n",
    "# 全探索して、その文字列についてfor文で以下を確認する\n",
    "# 「スコアでマイナスにならないかチェックし、最後にスコアが０になるもの」のみを出力\n",
    "# 全探索には itertools.productを用いる（引数repeatで繰り返し数を指定できる）\n",
    "\n",
    "from itertools import product\n",
    "n = int(input())\n",
    "\n",
    "def check(s):\n",
    "    score = 0\n",
    "    for c in s:\n",
    "        if c==\"(\":\n",
    "            score+=1\n",
    "        else:\n",
    "            score-=1\n",
    "        if score<0:\n",
    "            return False\n",
    "    return (score==0)\n",
    "\n",
    "for s in product(['(', ')'], repeat=n):\n",
    "    if (check(s)):\n",
    "        print(''.join(map(str, s)))"
   ]
  },
  {
   "cell_type": "code",
   "execution_count": null,
   "id": "8186a3c6-ae6c-4ef3-a6df-cc8e6952c663",
   "metadata": {},
   "outputs": [],
   "source": [
    "# 典型3 ★★★★　bfs. 木の直系を求める\n",
    "\n",
    "# というか一本道を足した時の最も長いループを求める問題\n",
    "# BFSで適当なポジションからスタート →　最も遠いポジションから再度BFS\n",
    "# すると、その時の最大距離＋１が答えになる\n",
    "# 最も長い距離のインデックスを求める式は参考になる（enumerateを使用する）\n",
    "def bfs(pos):\n",
    "    dist = [-1]*(n+1)\n",
    "    dist[pos]=0\n",
    "    st = [pos]\n",
    "    while st:\n",
    "        v = st.pop()\n",
    "        for neighbor in G[v]:\n",
    "            if dist[neighbor]==-1:\n",
    "                st.append(neighbor)\n",
    "                dist[neighbor]=dist[v]+1\n",
    "    return dist\n",
    "n = int(input())\n",
    "edges = [ list(map(int, input().split())) for _ in range(n-1) ]\n",
    "G = [ list() for _ in range(n+1) ]\n",
    "for a, b in edges:\n",
    "    G[a].append(b)\n",
    "    G[b].append(a)\n",
    "dist1 = bfs(1)\n",
    "mv = max(enumerate(dist1), key=lambda x: x[1])[0]\n",
    "distmv = bfs(mv)\n",
    "print(max(distmv)+1)"
   ]
  },
  {
   "cell_type": "code",
   "execution_count": null,
   "id": "067f5648-935c-444a-8acc-4d98f6a8d077",
   "metadata": {},
   "outputs": [],
   "source": [
    "# 典型4 ★★ \n",
    "# 二次元配列の横と縦の総和を求める問題\n",
    "# リストの縦の和を求める式は参考になった\n",
    "H, W = map(int, input().split())\n",
    "A = [list(map(int, input().split())) for _ in range(H)]\n",
    "\n",
    "# 前処理\n",
    "yoko = list(map(sum, A))\n",
    "tate = list(map(sum, zip(*A)))\n",
    "\n",
    "# 各マス\n",
    "for i in range(H):\n",
    "    row = [ yoko[i]+tate[j] - A[i][j] for j in range(W) ]\n",
    "    print(*row)"
   ]
  },
  {
   "cell_type": "code",
   "execution_count": null,
   "id": "cdffed02-dbaa-44cb-92d3-ae6ff564c975",
   "metadata": {},
   "outputs": [],
   "source": [
    "# 典型6 ★★★★★ heapqを使用して、条件を満たす部分列を全部出力\n",
    "N, K = map(int, input().split())\n",
    "S = input()\n",
    "\n",
    "import heapq\n",
    "todo = []\n",
    "for i in range(N - K + 1):\n",
    "    heapq.heappush(todo, (S[i], i))\n",
    "\n",
    "now = -1\n",
    "ans = \"\"\n",
    "for i in range(K):\n",
    "    heapq.heappush(todo, (S[N - K + i], N - K + i))\n",
    "    while True:\n",
    "        v, ind = heapq.heappop(todo)\n",
    "        #print(v)\n",
    "        if now < ind:\n",
    "            break\n",
    "\n",
    "    ans += v\n",
    "    now = ind\n",
    "\n",
    "print(ans)"
   ]
  },
  {
   "cell_type": "code",
   "execution_count": null,
   "id": "d8112c3d-6d3c-4ee0-b9ea-f39ac0fc7686",
   "metadata": {},
   "outputs": [],
   "source": [
    "# 典型7 ★★★ 二分探索、bisect使用\n",
    "import bisect\n",
    "\n",
    "N = int(input())\n",
    "A = list(map(int, input().split()))\n",
    "q = int(input())\n",
    "# a_idx = sorted(range(N), key=lambda x: A[x])\n",
    "A.sort()\n",
    "for i in range(q):\n",
    "    b = int(input())\n",
    "    idx = bisect.bisect_right(A, b)\n",
    "    if idx!=0 and idx!=N:\n",
    "        print(min(abs(A[idx-1]-b), abs(A[idx]-b)))\n",
    "    elif idx==N:\n",
    "        print(abs(b - A[-1]))\n",
    "    else:\n",
    "        print(abs(b-A[0]))"
   ]
  },
  {
   "cell_type": "code",
   "execution_count": null,
   "id": "e59dcfb0-97c8-4622-a7f0-124bc6fbd5fb",
   "metadata": {},
   "outputs": [],
   "source": [
    "# 典型8 ★★★★ dp, 共通部分列\n",
    "\n",
    "n = int(input())\n",
    "s = input()\n",
    "t = \"atcoder\"\n",
    "m = len(t)\n",
    "mod = int(1e9+7)\n",
    "dp = [ [0]*(m+1) for _ in range(n+1) ]\n",
    "dp[0][0] = 1\n",
    "for i in range(n):\n",
    "    for j in range(m+1):\n",
    "        dp[i+1][j] = (dp[i+1][j] + dp[i][j])%mod\n",
    "        if j<m and s[i]==t[j]:\n",
    "            dp[i+1][j+1] = (dp[i+1][j+1] + dp[i][j])%mod\n",
    "print(dp[n][m])"
   ]
  },
  {
   "cell_type": "code",
   "execution_count": null,
   "id": "7a905c73-e836-42b6-bc3b-32edce4b2fd8",
   "metadata": {},
   "outputs": [],
   "source": [
    "# 10 ★★ 累積和\n",
    "\n",
    "n = int(input())\n",
    "C1 = [0] * (n+1)\n",
    "C2 = [0] * (n+1)\n",
    "for i in range(n):\n",
    "    c, score = map(int, input().split())\n",
    "    if c==1:\n",
    "        C1[i+1] = score\n",
    "    else:\n",
    "        C2[i+1] = score\n",
    "cum1 = [0]\n",
    "cum2 = [0]\n",
    "for i in range(1, n+1):\n",
    "    cum1.append(cum1[i-1]+C1[i])\n",
    "    cum2.append(cum2[i-1]+C2[i])\n",
    "q = int(input())\n",
    "for _ in range(q):\n",
    "    l, r = map(int, input().split())\n",
    "    c1 = cum1[r]-cum1[l-1]\n",
    "    c2 = cum2[r]-cum2[l-1]\n",
    "    print(str(c1)+\" \"+str(c2))"
   ]
  },
  {
   "cell_type": "code",
   "execution_count": null,
   "id": "c1ca3372-5dda-4cb6-afb9-cbf6053c1e7c",
   "metadata": {},
   "outputs": [],
   "source": [
    "# 12 ★★★★★　unionfind\n",
    "\n",
    "from networkx.utils import UnionFind\n",
    "\n",
    "# from sys import stdin; input = stdin.readline\n",
    "H, W = map(int, input().split())\n",
    "Q = int(input())\n",
    "\n",
    "M = [0]*(H*W)\n",
    "#uf=UnionFind(H*W)\n",
    "uf=UnionFind(range(H,W))\n",
    "\n",
    "for _ in range(Q):\n",
    "\tq = list(map(lambda x:int(x)-1, input().split()))\n",
    "\tif q[0]==0:\n",
    "\t\th,w = q[1:]\n",
    "\t\tv = h*W + w\n",
    "\t\tM[v] = 1\n",
    "\t\tfor hh,ww in ((h,1+w),(h,-1+w),(1+h,w),(-1+h,w)):\n",
    "\t\t\tif hh<0 or ww<0 or hh==H or ww==W: continue\n",
    "\t\t\tv2=hh*W+ww\n",
    "\t\t\tif M[v2]==1: uf.union(v,v2)\n",
    "\telse:\n",
    "\t\tah,aw,bh,bw = q[1:]\n",
    "\t\ta = ah*W+aw\n",
    "\t\tb = bh*W+bw\n",
    "\t\t#print('', end='\\t\\t')\n",
    "\t\tif M[a]==0: print('No'); continue\n",
    "\t\t#print('Yes' if uf.same(a,b) else 'No')\n",
    "\t\tprint('Yes' if uf[a]==uf[b] else 'No')"
   ]
  },
  {
   "cell_type": "code",
   "execution_count": 4,
   "id": "d7220e8c-7758-4fbb-ba71-082d08bb7a5a",
   "metadata": {
    "tags": []
   },
   "outputs": [
    {
     "name": "stdin",
     "output_type": "stream",
     "text": [
      " 7 9\n",
      " 1 2 2\n",
      " 1 3 3\n",
      " 2 5 2\n",
      " 3 4 1\n",
      " 3 5 4\n",
      " 4 7 5\n",
      " 5 6 1\n",
      " 5 7 6\n",
      " 6 7 3\n"
     ]
    },
    {
     "name": "stdout",
     "output_type": "stream",
     "text": [
      "8\n",
      "8\n",
      "9\n",
      "9\n",
      "8\n",
      "8\n",
      "8\n"
     ]
    }
   ],
   "source": [
    "# 13 ★★★★★　ダイクストラ法\n",
    "\n",
    "import heapq\n",
    "\n",
    "n, m = map(int, input().split())\n",
    "edges = [ list(map(int, input().split())) for i in range(m) ]\n",
    "\n",
    "G = [ list() for i in range(n + 1)]\n",
    "for a, b, c in edges:\n",
    "    G[a].append((b, c))\n",
    "    G[b].append((a, c))\n",
    "\n",
    "# 配列・キューの初期化（キューには（頂点、頂点番号）のタプルを記録）\n",
    "inf = 10**10\n",
    "kakutei = [False]*(n+1)\n",
    "dist = [inf]*(n+1)\n",
    "dist[1] = 0\n",
    "Q = []\n",
    "heapq.heappush(Q, (dist[1], 1))\n",
    "\n",
    "# ダイクストラ法\n",
    "while len(Q) >= 1:\n",
    "    pos = heapq.heappop(Q)[1]\n",
    "    \n",
    "    if kakutei[pos]==True:\n",
    "        continue\n",
    "    \n",
    "    kakutei[pos] = True\n",
    "    for e in G[pos]:\n",
    "        if dist[e[0]] > dist[pos] + e[1]:\n",
    "            dist[e[0]] = dist[pos] + e[1]\n",
    "            heapq.heappush(Q, (dist[e[0]], e[0]))\n",
    "\n",
    "kakutei2 = [False]*(n+1)\n",
    "dist2 = [inf]*(n+1)\n",
    "dist2[n] = 0\n",
    "Q = []\n",
    "heapq.heappush(Q, (dist2[n], n))\n",
    "while len(Q) >= 1:\n",
    "    pos2 = heapq.heappop(Q)[1]\n",
    "    \n",
    "    if kakutei2[pos2]==True:\n",
    "        continue\n",
    "    \n",
    "    kakutei2[pos2] = True\n",
    "    for e in G[pos2]:\n",
    "        if dist2[e[0]] > dist2[pos2] + e[1]:\n",
    "            dist2[e[0]] = dist2[pos2] + e[1]\n",
    "            heapq.heappush(Q, (dist2[e[0]], e[0]))\n",
    "            \n",
    "for i in range(n):\n",
    "    print(dist[i+1]+dist2[i+1])\n"
   ]
  },
  {
   "cell_type": "code",
   "execution_count": 2,
   "id": "b871ab59-c293-4325-adf3-708c6ef5cfa5",
   "metadata": {
    "tags": []
   },
   "outputs": [
    {
     "name": "stdin",
     "output_type": "stream",
     "text": [
      " 6\n",
      " 8 6 9 1 2 0\n",
      " 1 5 7 2 3 9\n"
     ]
    },
    {
     "name": "stdout",
     "output_type": "stream",
     "text": [
      "5\n"
     ]
    }
   ],
   "source": [
    "# 14 ★★★\n",
    "n = int(input())\n",
    "A = list(map(int, input().split()))\n",
    "B = list(map(int, input().split()))\n",
    "A.sort(); B.sort()\n",
    "ans = 0\n",
    "for i in range(n):\n",
    "    ans += abs(A[i]-B[i])\n",
    "print(ans)"
   ]
  },
  {
   "cell_type": "code",
   "execution_count": null,
   "id": "19cf6e5e-3c90-4b66-8450-a7906a0426f8",
   "metadata": {},
   "outputs": [],
   "source": [
    "# 15 ★★★★★★\n",
    "\n",
    "n = int(input())\n",
    "p = 10 ** 9 + 7\n",
    "nut = [1]\n",
    "for i in range(1, n + 1):\n",
    "    nut.append(nut[-1] * i % p)\n",
    "\n",
    "def comb(x, y):\n",
    "    a = nut[x]\n",
    "    b = nut[y] * nut[x - y] % p\n",
    "    \n",
    "    res = a * pow(b, p - 2, p) % p\n",
    "    return res\n",
    "    \n",
    "    \n",
    "for k in range(1, n + 1):\n",
    "    ans = 0\n",
    "    for y in range(1, n + 1):\n",
    "        x = n - (k - 1) * (y - 1)\n",
    "        if x < y: break\n",
    "        \n",
    "        ans = (ans + comb(x, y)) % p\n",
    "    \n",
    "    print(ans)"
   ]
  },
  {
   "cell_type": "code",
   "execution_count": null,
   "id": "c331e429-0f90-4c2b-a374-64be2387c249",
   "metadata": {},
   "outputs": [],
   "source": []
  },
  {
   "cell_type": "code",
   "execution_count": 15,
   "id": "7f4d87fd-af84-4bad-96e8-d1ab6c68db04",
   "metadata": {
    "tags": []
   },
   "outputs": [
    {
     "name": "stdin",
     "output_type": "stream",
     "text": [
      " 998244353\n",
      " 314159 265358 97932\n"
     ]
    },
    {
     "name": "stdout",
     "output_type": "stream",
     "text": [
      "3333\n"
     ]
    }
   ],
   "source": [
    "# 16 ★★★\n",
    "\n",
    "n = int(input())\n",
    "a, b, c = map(int, input().split())\n",
    "ans = 10000\n",
    "for i in range(10000):\n",
    "    for j in range(10000-i):\n",
    "        tmp = a*i+b*j\n",
    "        if tmp>n or (n-tmp)%c!=0:\n",
    "            continue\n",
    "        else:\n",
    "            d = int((n-tmp)/c)\n",
    "            ans = min(ans, i+j+d)\n",
    "print(ans)"
   ]
  },
  {
   "cell_type": "code",
   "execution_count": 18,
   "id": "e3eb4690-013b-46d5-b65c-cc0f002f3d33",
   "metadata": {},
   "outputs": [
    {
     "name": "stdin",
     "output_type": "stream",
     "text": [
      " 4\n",
      " 2 1 1\n",
      " 4\n",
      " 0\n"
     ]
    },
    {
     "name": "stdout",
     "output_type": "stream",
     "text": [
      "0.0\n"
     ]
    },
    {
     "name": "stdin",
     "output_type": "stream",
     "text": [
      " 1\n"
     ]
    },
    {
     "name": "stdout",
     "output_type": "stream",
     "text": [
      "24.0948425521107\n"
     ]
    },
    {
     "name": "stdin",
     "output_type": "stream",
     "text": [
      " 2\n"
     ]
    },
    {
     "name": "stdout",
     "output_type": "stream",
     "text": [
      "54.735610317245346\n"
     ]
    },
    {
     "name": "stdin",
     "output_type": "stream",
     "text": [
      " 3\n"
     ]
    },
    {
     "name": "stdout",
     "output_type": "stream",
     "text": [
      "45.00000000000001\n"
     ]
    }
   ],
   "source": [
    "# 18 ★★★\n",
    "\n",
    "import math\n",
    "\n",
    "def location(e):\n",
    "    rad = math.radians(e/t*360)\n",
    "    y = math.sin(math.radians(360)- rad)*l/2\n",
    "    h = l/2 - math.cos(rad)*l/2\n",
    "    d = math.sqrt((X)**2 + (Y - y)**2)\n",
    "    ans = math.degrees(math.atan(h/d))\n",
    "    print(ans)\n",
    "\n",
    "t = int(input())\n",
    "l, X, Y = map(int, input().split())\n",
    "q = int(input())\n",
    "for _ in range(q):\n",
    "    e = int(input())\n",
    "    location(e)\n"
   ]
  },
  {
   "cell_type": "code",
   "execution_count": 17,
   "id": "d190b6c8-ae99-4176-aa0a-4fe81183514b",
   "metadata": {},
   "outputs": [
    {
     "data": {
      "text/plain": [
       "6.283185307179586"
      ]
     },
     "execution_count": 17,
     "metadata": {},
     "output_type": "execute_result"
    }
   ],
   "source": [
    "math.radians(360)"
   ]
  },
  {
   "cell_type": "code",
   "execution_count": 13,
   "id": "b3e3d4bb-bc81-432c-8997-999e9268220b",
   "metadata": {
    "tags": []
   },
   "outputs": [
    {
     "data": {
      "text/plain": [
       "1.5707963267948966"
      ]
     },
     "execution_count": 13,
     "metadata": {},
     "output_type": "execute_result"
    }
   ],
   "source": [
    "math.radians(90)"
   ]
  },
  {
   "cell_type": "code",
   "execution_count": 8,
   "id": "7be39498-9b02-4f4e-9b4a-1a9de7f130f7",
   "metadata": {
    "tags": []
   },
   "outputs": [
    {
     "data": {
      "text/plain": [
       "\u001b[1;31mSignature:\u001b[0m \u001b[0mmath\u001b[0m\u001b[1;33m.\u001b[0m\u001b[0msin\u001b[0m\u001b[1;33m(\u001b[0m\u001b[0mx\u001b[0m\u001b[1;33m,\u001b[0m \u001b[1;33m/\u001b[0m\u001b[1;33m)\u001b[0m\u001b[1;33m\u001b[0m\u001b[1;33m\u001b[0m\u001b[0m\n",
       "\u001b[1;31mDocstring:\u001b[0m Return the sine of x (measured in radians).\n",
       "\u001b[1;31mType:\u001b[0m      builtin_function_or_method"
      ]
     },
     "metadata": {},
     "output_type": "display_data"
    }
   ],
   "source": [
    "math.sin??"
   ]
  },
  {
   "cell_type": "code",
   "execution_count": null,
   "id": "b32cf8ac-dd1c-4361-9f8a-76a9a0e7ba42",
   "metadata": {},
   "outputs": [],
   "source": []
  }
 ],
 "metadata": {
  "kernelspec": {
   "display_name": "Python 3 (ipykernel)",
   "language": "python",
   "name": "python3"
  },
  "language_info": {
   "codemirror_mode": {
    "name": "ipython",
    "version": 3
   },
   "file_extension": ".py",
   "mimetype": "text/x-python",
   "name": "python",
   "nbconvert_exporter": "python",
   "pygments_lexer": "ipython3",
   "version": "3.11.4"
  }
 },
 "nbformat": 4,
 "nbformat_minor": 5
}
