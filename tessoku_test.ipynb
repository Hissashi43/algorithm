{
 "cells": [
  {
   "cell_type": "code",
   "execution_count": 9,
   "id": "5538fb76-c4ba-4866-b6dd-e852328db3ca",
   "metadata": {
    "tags": []
   },
   "outputs": [
    {
     "name": "stdin",
     "output_type": "stream",
     "text": [
      " 1000\n"
     ]
    },
    {
     "name": "stdout",
     "output_type": "stream",
     "text": [
      "1111101000\n"
     ]
    }
   ],
   "source": [
    "n = int(input())\n",
    "ans = str(bin(n)[2:])\n",
    "ans = (10-(len(ans)))*\"0\" + ans\n",
    "print(ans)"
   ]
  },
  {
   "cell_type": "code",
   "execution_count": 15,
   "id": "1730a257-9637-49f4-bb6a-5ca865b032d4",
   "metadata": {
    "tags": []
   },
   "outputs": [
    {
     "name": "stdin",
     "output_type": "stream",
     "text": [
      " 37\n"
     ]
    },
    {
     "name": "stdout",
     "output_type": "stream",
     "text": [
      "0000100101\n"
     ]
    }
   ],
   "source": [
    "A = []\n",
    "for i in reversed(range(10)):\n",
    "    A.append(2**i)\n",
    "n = int(input())\n",
    "ans = \"\"\n",
    "for i in range(10):\n",
    "    if n//A[i]==1:\n",
    "        ans += \"1\"\n",
    "        n -= int(A[i])\n",
    "    else:\n",
    "        ans += \"0\"\n",
    "print(ans)"
   ]
  },
  {
   "cell_type": "code",
   "execution_count": 21,
   "id": "cf59f88d-0578-4184-8213-ddc9737834c0",
   "metadata": {
    "tags": []
   },
   "outputs": [
    {
     "name": "stdin",
     "output_type": "stream",
     "text": [
      " 00001101\n"
     ]
    },
    {
     "name": "stdout",
     "output_type": "stream",
     "text": [
      "13\n"
     ]
    }
   ],
   "source": [
    "ans = 0\n",
    "n = input()\n",
    "l = len(n)\n",
    "for i in range(len(n)):\n",
    "    if n[l-i-1]==\"1\":\n",
    "        ans += 2**i\n",
    "\n",
    "print(ans)"
   ]
  },
  {
   "cell_type": "code",
   "execution_count": 19,
   "id": "b1d515df-0fba-4a81-9ca8-10061021df07",
   "metadata": {
    "tags": []
   },
   "outputs": [
    {
     "data": {
      "text/plain": [
       "10"
      ]
     },
     "execution_count": 19,
     "metadata": {},
     "output_type": "execute_result"
    }
   ],
   "source": [
    "len(n)"
   ]
  },
  {
   "cell_type": "code",
   "execution_count": null,
   "id": "b262ae74-14a8-4e0a-925c-a66c722df468",
   "metadata": {},
   "outputs": [],
   "source": []
  }
 ],
 "metadata": {
  "kernelspec": {
   "display_name": "Python 3 (ipykernel)",
   "language": "python",
   "name": "python3"
  },
  "language_info": {
   "codemirror_mode": {
    "name": "ipython",
    "version": 3
   },
   "file_extension": ".py",
   "mimetype": "text/x-python",
   "name": "python",
   "nbconvert_exporter": "python",
   "pygments_lexer": "ipython3",
   "version": "3.11.4"
  }
 },
 "nbformat": 4,
 "nbformat_minor": 5
}
