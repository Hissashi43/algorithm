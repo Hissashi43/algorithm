{
 "cells": [
  {
   "cell_type": "code",
   "execution_count": 2,
   "id": "6b6d032c-20a9-43e2-82f5-98f72725c5cb",
   "metadata": {
    "tags": []
   },
   "outputs": [
    {
     "name": "stdin",
     "output_type": "stream",
     "text": [
      " 500\n"
     ]
    },
    {
     "name": "stdout",
     "output_type": "stream",
     "text": [
      "2 3 5 7 11 13 17 19 23 29 31 37 41 43 47 53 59 61 67 71 73 79 83 89 97 101 103 107 109 113 127 131 137 139 149 151 157 163 167 173 179 181 191 193 197 199 211 223 227 229 233 239 241 251 257 263 269 271 277 281 283 293 307 311 313 317 331 337 347 349 353 359 367 373 379 383 389 397 401 409 419 421 431 433 439 443 449 457 461 463 467 479 487 491 499\n"
     ]
    }
   ],
   "source": [
    "# エラトステネスの篩を使った素数出力\n",
    "\n",
    "def Eras(x):\n",
    "    primes = []\n",
    "    root = int(x**0.5)\n",
    "    nums = [i for i in range(x+1)]\n",
    "    \n",
    "    for i in range(2, root+1):\n",
    "        if nums[i]!=0:\n",
    "            for j in range(i, x+1):\n",
    "                if i*j>=x+1:\n",
    "                    break\n",
    "                nums[i*j] = 0\n",
    "    for item in nums[2:]:\n",
    "        if item!=0:\n",
    "            primes.append(item)\n",
    "    return primes\n",
    "        \n",
    "x= int(input())\n",
    "print(*Eras(x))"
   ]
  },
  {
   "cell_type": "code",
   "execution_count": 31,
   "id": "243df7e0-277f-4b4f-ad7a-916f3486d11d",
   "metadata": {
    "tags": []
   },
   "outputs": [
    {
     "name": "stdin",
     "output_type": "stream",
     "text": [
      " 777 123\n"
     ]
    },
    {
     "name": "stdout",
     "output_type": "stream",
     "text": [
      "3\n"
     ]
    }
   ],
   "source": [
    "# ユークリッド互除法を用いた最大公約数出力\n",
    "\n",
    "A, B = map(int, input().split())\n",
    "def gcd(a, b):\n",
    "    if b>a:\n",
    "        a, b = b, a\n",
    "    while a%b!=0:\n",
    "        mod = a%b\n",
    "        a = b\n",
    "        b = mod\n",
    "    ans = b\n",
    "    return ans\n",
    "print(gcd(A, B))\n",
    "    "
   ]
  },
  {
   "cell_type": "code",
   "execution_count": 15,
   "id": "adf2929f-d952-4c95-9738-7f5bf78054a3",
   "metadata": {
    "tags": []
   },
   "outputs": [
    {
     "name": "stdin",
     "output_type": "stream",
     "text": [
      " 3 12\n",
      " 6 1 5\n"
     ]
    },
    {
     "name": "stdout",
     "output_type": "stream",
     "text": [
      "3\n",
      "1\n",
      "7\n",
      "11\n"
     ]
    }
   ],
   "source": [
    "N, M = map(int, input().split())\n",
    "A = list(map(int, input().split()))\n",
    "A.sort()\n",
    "cand = set()\n",
    "for i in range(1, M+1):\n",
    "    cand.add(i)\n",
    "nums = [i for i in range(M+1)]\n",
    "for item in A:\n",
    "    if item==1:\n",
    "        continue\n",
    "    lim = int(item**0.5)+1\n",
    "    if item>M or item in cand:\n",
    "        for j in range(2, lim):\n",
    "            if j not in cand:\n",
    "                continue\n",
    "            if item%j==0:\n",
    "                for k in range(1, M+1):\n",
    "                    if k*j>M:\n",
    "                        break\n",
    "                    cand.discard(k*j)\n",
    "\n",
    "print(len(cand))\n",
    "for num in cand:\n",
    "    print(num)"
   ]
  },
  {
   "cell_type": "code",
   "execution_count": 18,
   "id": "9b2d0dee-7df3-4f0c-819e-703d35c1777e",
   "metadata": {},
   "outputs": [
    {
     "name": "stdin",
     "output_type": "stream",
     "text": [
      " 3 12\n",
      " 6 1 5\n"
     ]
    },
    {
     "name": "stdout",
     "output_type": "stream",
     "text": [
      "3\n",
      "1\n",
      "7\n",
      "11\n"
     ]
    }
   ],
   "source": [
    "import math\n",
    "\n",
    "N, M = map(int,input().split())\n",
    "A = [*map(int,input().split())]\n",
    "ans = [1] * (M+1)\n",
    "S = set()\n",
    "for num in A:\n",
    "    lim = min(math.floor(math.sqrt(num)),M)+1\n",
    "    if lim>2:\n",
    "        if num<=M:\n",
    "            ans[num] = 0\n",
    "        for i in range(2,lim):\n",
    "            if num%i==0:\n",
    "                s = i\n",
    "                t = num//i\n",
    "                if s not in S:\n",
    "                    S.add(s)\n",
    "                    while s <= M:\n",
    "                        ans[s] = 0\n",
    "                        s += i\n",
    "                if (t not in S):\n",
    "                    S.add(t)\n",
    "                    while (t <= M):\n",
    "                        ans[t] = 0\n",
    "                        t += num//i\n",
    "ans = ans[1:]\n",
    "print(ans.count(1))\n",
    "for i in range(M):\n",
    "    if ans[i]:\n",
    "        print(i+1)"
   ]
  },
  {
   "cell_type": "code",
   "execution_count": 11,
   "id": "5d5f3469-206d-45c1-b134-aed5013ccd41",
   "metadata": {},
   "outputs": [
    {
     "name": "stdin",
     "output_type": "stream",
     "text": [
      " 100 22 27\n"
     ]
    }
   ],
   "source": [
    "import bisect\n",
    "def divisor(n):\n",
    "    root = int((n**0.5)+1)\n",
    "    div = {}\n",
    "    for i in range(1, root):\n",
    "        if i in div:\n",
    "            continue\n",
    "        if n%i==0:\n",
    "            div[i]=1\n",
    "            div[n//i]=1\n",
    "    return sorted(list(div.keys()))\n",
    "A = divisor(100)\n",
    "N, D, K = map(int, input().split())\n"
   ]
  },
  {
   "cell_type": "code",
   "execution_count": 55,
   "id": "5349d75b-4ad1-4d18-8ba2-c386c32d3e8d",
   "metadata": {
    "tags": []
   },
   "outputs": [
    {
     "name": "stdin",
     "output_type": "stream",
     "text": [
      " 9\n",
      " 4 2 1\n"
     ]
    },
    {
     "name": "stdout",
     "output_type": "stream",
     "text": [
      "0\n"
     ]
    },
    {
     "name": "stdin",
     "output_type": "stream",
     "text": [
      " 4 2 2\n"
     ]
    },
    {
     "name": "stdout",
     "output_type": "stream",
     "text": [
      "2\n"
     ]
    },
    {
     "name": "stdin",
     "output_type": "stream",
     "text": [
      " 4 2 3\n"
     ]
    },
    {
     "name": "stdout",
     "output_type": "stream",
     "text": [
      "1\n"
     ]
    },
    {
     "name": "stdin",
     "output_type": "stream",
     "text": [
      " 4 2 4\n"
     ]
    },
    {
     "name": "stdout",
     "output_type": "stream",
     "text": [
      "3\n"
     ]
    },
    {
     "name": "stdin",
     "output_type": "stream",
     "text": [
      " 5 8 1\n"
     ]
    },
    {
     "name": "stdout",
     "output_type": "stream",
     "text": [
      "0\n"
     ]
    },
    {
     "name": "stdin",
     "output_type": "stream",
     "text": [
      " 5 8 2\n"
     ]
    },
    {
     "name": "stdout",
     "output_type": "stream",
     "text": [
      "3\n"
     ]
    },
    {
     "name": "stdin",
     "output_type": "stream",
     "text": [
      " 5 8 3\n"
     ]
    },
    {
     "name": "stdout",
     "output_type": "stream",
     "text": [
      "1\n"
     ]
    },
    {
     "name": "stdin",
     "output_type": "stream",
     "text": [
      " 5 8 4\n"
     ]
    },
    {
     "name": "stdout",
     "output_type": "stream",
     "text": [
      "4\n"
     ]
    },
    {
     "name": "stdin",
     "output_type": "stream",
     "text": [
      " 5 8 5\n"
     ]
    },
    {
     "name": "stdout",
     "output_type": "stream",
     "text": [
      "2\n"
     ]
    }
   ],
   "source": [
    "import math\n",
    "def solve(N, D, K):\n",
    "    p = math.gcd(D, N)\n",
    "    n = N//p\n",
    "    if K%n==0:\n",
    "        d = K//n-1\n",
    "    else:\n",
    "        d = K//n\n",
    "    m = K%n\n",
    "    ans = d+(m-1)*D%N\n",
    "    print(ans)\n",
    "T = int(input())\n",
    "for i in range(T):\n",
    "    N, D, K = map(int, input().split())\n",
    "    solve(N, D, K)"
   ]
  },
  {
   "cell_type": "code",
   "execution_count": 17,
   "id": "ecb3f3ad-baea-45e5-b9b6-2675c2881270",
   "metadata": {
    "tags": []
   },
   "outputs": [
    {
     "data": {
      "text/plain": [
       "22"
      ]
     },
     "execution_count": 17,
     "metadata": {},
     "output_type": "execute_result"
    }
   ],
   "source": [
    "# 228 D 余りを使ったクエリ。SortedSetの使い方\n",
    "from sortedcontainers import SortedSet\n",
    "\n",
    "N = 2 ** 20\n",
    "Q = int(input())\n",
    "queries = [tuple(map(int, input().split())) for _ in range(Q)]\n",
    "\n",
    "A = [-1] * N\n",
    "S = SortedSet(list(range(N)))\n",
    "\n",
    "\n",
    "for t, x in queries:\n",
    "    h = x%N\n",
    "    if t == 1:\n",
    "        idx = S.bisect_left(h) % len(S)\n",
    "        pos = S[idx]        \n",
    "        A[pos] = x\n",
    "        S.discard(pos)\n",
    "    else:\n",
    "        print(A[h])"
   ]
  },
  {
   "cell_type": "code",
   "execution_count": 5,
   "id": "21f76107-36d0-45a6-98aa-c719d3366378",
   "metadata": {},
   "outputs": [
    {
     "name": "stdin",
     "output_type": "stream",
     "text": [
      " 1\n",
      " f\n",
      " q\n"
     ]
    },
    {
     "name": "stdout",
     "output_type": "stream",
     "text": [
      "1 1\n"
     ]
    }
   ],
   "source": [
    "N = int(input())\n",
    "A = [ list(input()) for _ in range(N)]\n",
    "B = [ list(input()) for _ in range(N)]\n",
    "\n",
    "for i in range(N):\n",
    "    for j in range(N):\n",
    "        if A[i][j]!=B[i][j]:\n",
    "            print(str(i+1) + \" \" + str(j+1))\n",
    "            break"
   ]
  },
  {
   "cell_type": "code",
   "execution_count": 32,
   "id": "c4b1a305-81dc-49d7-91d5-aec8434b2faa",
   "metadata": {
    "tags": []
   },
   "outputs": [
    {
     "name": "stdin",
     "output_type": "stream",
     "text": [
      " 5\n",
      " 0 0 0 1 2\n"
     ]
    },
    {
     "name": "stdout",
     "output_type": "stream",
     "text": [
      "4\n"
     ]
    }
   ],
   "source": [
    "from collections import deque\n",
    "N = int(input())\n",
    " # = map(int, input().split())\n",
    "A = list(map(int, input().split()))\n",
    "A = deque(A)\n",
    "t = 0\n",
    "\n",
    "que = deque()\n",
    "while t!=N:\n",
    "    a = A[t]\n",
    "    t += 1\n",
    "    if len(que)==0:\n",
    "        que.append(a)\n",
    "        continue\n",
    "    else:\n",
    "        while len(que)>0 and que[-1]==a:\n",
    "            que.pop()\n",
    "            a += 1\n",
    "        que.append(a)\n",
    "print(len(que))\n"
   ]
  },
  {
   "cell_type": "code",
   "execution_count": 38,
   "id": "4f18b940-b044-4372-a282-cba4830608aa",
   "metadata": {
    "tags": []
   },
   "outputs": [
    {
     "name": "stdin",
     "output_type": "stream",
     "text": [
      " 3 5\n",
      " .#...\n",
      " .....\n",
      " .#..#\n"
     ]
    },
    {
     "name": "stdout",
     "output_type": "stream",
     "text": [
      "2\n"
     ]
    }
   ],
   "source": [
    "H, W = map(int, input().split())\n",
    "S = [ list(input()) for _ in range(H) ]\n",
    "hw = [(-1, 0), (1, 0), (0, -1), (0, 1)]\n",
    "flag = [ [False]*W for _ in range(H)]\n",
    "que = []\n",
    "ans = 0\n",
    "for h in range(H):\n",
    "    for w in range(W):\n",
    "        if flag[h][w] or S[h][w]==\"#\":\n",
    "            flag[h][w]=True\n",
    "            continue\n",
    "        flag[h][w]=True\n",
    "        que.append((h, w))\n",
    "        t = 0\n",
    "        while len(que)>0:\n",
    "            a, b = que.pop()\n",
    "            ff = True\n",
    "            t += 1\n",
    "            que2 = []\n",
    "            for i, j in hw:\n",
    "                if a+i<0 or a+i>=H or b+j<0 or b+j>=W:\n",
    "                    continue\n",
    "                if S[a+i][b+j]==\"#\":\n",
    "                    ff = False\n",
    "                    flag[a+i][b+j]=True\n",
    "                elif not flag[a+i][b+j]:\n",
    "                    que2.append((a+i, b+j))\n",
    "            if ff:\n",
    "                for q in que2:\n",
    "                    if \n",
    "                    que.append(q)\n",
    "        ans = max(ans, t)       \n",
    "print(ans)                        "
   ]
  },
  {
   "cell_type": "code",
   "execution_count": null,
   "id": "6d914d67-05ea-4892-9ff4-7f6dc456494c",
   "metadata": {
    "tags": []
   },
   "outputs": [],
   "source": [
    "N=int(input())\n",
    "A=list(map(int,input().split()))\n",
    "\n",
    "from collections import defaultdict\n",
    "\n",
    "D=defaultdict(int)\n",
    "\n",
    "cnt=0\n",
    "for i in A:\n",
    "    if i==0:\n",
    "        D[0]+=1\n",
    "        continue\n",
    "    for j in range(2,i+1):\n",
    "        if j*j>i:\n",
    "            break\n",
    "        while i%(j*j)==0:\n",
    "            i//=(j*j)\n",
    "    cnt+=D[i]\n",
    "    D[i]+=1\n",
    "\n",
    "cnt+=D[0]*(N-D[0])\n",
    "cnt+=D[0]*(D[0]-1)//2\n",
    "\n",
    "print(cnt)"
   ]
  },
  {
   "cell_type": "code",
   "execution_count": 1,
   "id": "cc126ff5-fe6d-4d47-b09f-7223ef9a4f05",
   "metadata": {},
   "outputs": [
    {
     "name": "stdin",
     "output_type": "stream",
     "text": [
      " 3 125 175\n",
      " 200 300 400\n"
     ]
    },
    {
     "name": "stdout",
     "output_type": "stream",
     "text": [
      "2\n"
     ]
    }
   ],
   "source": [
    "N, a, b = map(int, input().split())\n",
    "c = list(map(int, input().split()))\n",
    "for i in range(N):\n",
    "    if c[i]==a+b:\n",
    "        print(i+1)\n",
    "        break"
   ]
  },
  {
   "cell_type": "code",
   "execution_count": 9,
   "id": "4d9079aa-8f61-427f-bed6-b902309a49e8",
   "metadata": {
    "tags": []
   },
   "outputs": [
    {
     "name": "stdin",
     "output_type": "stream",
     "text": [
      " 1000000 1000000000000\n"
     ]
    },
    {
     "name": "stdout",
     "output_type": "stream",
     "text": [
      "1000000000000\n"
     ]
    }
   ],
   "source": [
    "N, M = map(int, input().split())\n",
    "ans = 100000000000000000\n",
    "for i in range(1, N+1):\n",
    "    a = M//i\n",
    "    if M%i==0:\n",
    "        if a<=N:\n",
    "            ans = M\n",
    "            break\n",
    "    else:\n",
    "        a += 1\n",
    "        if i>a:\n",
    "            break\n",
    "        elif a<=N:\n",
    "            ans = min(ans, a*i)\n",
    "    # print(a, i)\n",
    "if ans == 100000000000000000:\n",
    "    ans = -1\n",
    "print(ans)"
   ]
  },
  {
   "cell_type": "code",
   "execution_count": 7,
   "id": "f689321b-49f7-4af8-a422-813bdd2c364a",
   "metadata": {
    "tags": []
   },
   "outputs": [
    {
     "data": {
      "text/plain": [
       "()"
      ]
     },
     "execution_count": 7,
     "metadata": {},
     "output_type": "execute_result"
    }
   ],
   "source": [
    "tuple(a)"
   ]
  },
  {
   "cell_type": "code",
   "execution_count": null,
   "id": "0e7af3a9-931e-413b-91e5-b4de76577d90",
   "metadata": {},
   "outputs": [],
   "source": []
  }
 ],
 "metadata": {
  "kernelspec": {
   "display_name": "Python 3 (ipykernel)",
   "language": "python",
   "name": "python3"
  },
  "language_info": {
   "codemirror_mode": {
    "name": "ipython",
    "version": 3
   },
   "file_extension": ".py",
   "mimetype": "text/x-python",
   "name": "python",
   "nbconvert_exporter": "python",
   "pygments_lexer": "ipython3",
   "version": "3.11.4"
  }
 },
 "nbformat": 4,
 "nbformat_minor": 5
}
