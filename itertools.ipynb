{
 "cells": [
  {
   "cell_type": "code",
   "execution_count": null,
   "id": "3e124937-121b-461f-81e9-60c50cf94aa5",
   "metadata": {},
   "outputs": [],
   "source": [
    "import itertools\n"
   ]
  },
  {
   "cell_type": "code",
   "execution_count": null,
   "id": "5b1a1e52-b8a8-4b13-abfa-12f54df21812",
   "metadata": {},
   "outputs": [],
   "source": [
    "# 150 c, itertools.permutationsを使って、与えられた配列の全体における順番を求める問題\n",
    "import itertools\n",
    "n = int(input())\n",
    "p = tuple(map(int, input().split()))\n",
    "q = tuple(map(int, input().split()))\n",
    "it = list(itertools.permutations(range(1, n+1)))\n",
    "print(abs(it.index(q)-it.index(p)))"
   ]
  },
  {
   "cell_type": "code",
   "execution_count": null,
   "id": "5d3abee8-83a5-4028-9126-8debc5d4fbba",
   "metadata": {},
   "outputs": [],
   "source": [
    "n, k = map(int, input().split())\n",
    "A = list(map(int, input().split()))\n",
    "\n",
    "import itertools\n",
    "n = int(input())\n",
    "p = tuple(map(int, input().split()))\n",
    "q = tuple(map(int, input().split()))\n",
    "it = list(itertools.permutations(range(1, n+1)))\n",
    "print(abs(it.index(q)-it.index(p)))"
   ]
  },
  {
   "cell_type": "code",
   "execution_count": null,
   "id": "d047c92e-5078-4078-b66d-66195af507d1",
   "metadata": {
    "tags": []
   },
   "outputs": [
    {
     "name": "stdin",
     "output_type": "stream",
     "text": [
      " 133\n"
     ]
    }
   ],
   "source": [
    "import itertools\n",
    "\n",
    "n = int(input())\n",
    "gn = [0, 2, 4, 6, 8]\n",
    "cand = list(itertools.product(gn, repeat=12))\n",
    "ans = \"\"\n",
    "for i in range(len(cand[n-1])):\n",
    "    ans += str(cand[n-1][i])\n",
    "print(int(ans))"
   ]
  },
  {
   "cell_type": "code",
   "execution_count": 1,
   "id": "1cad0c62-36ec-4643-8fe1-01b16dae98d0",
   "metadata": {
    "tags": []
   },
   "outputs": [
    {
     "name": "stdin",
     "output_type": "stream",
     "text": [
      " 4 4 3\n"
     ]
    },
    {
     "name": "stdout",
     "output_type": "stream",
     "text": [
      "40320\n"
     ]
    }
   ],
   "source": [
    "import itertools\n",
    "a, b, k = map(int, input().split())\n",
    "A = [\"a\"]*a\n",
    "B = [\"b\"]*b\n",
    "AB = A+B\n",
    "# p = tuple(map(int, input().split()))\n",
    "# q = tuple(map(int, input().split()))\n",
    "it = list(itertools.permutations(AB))\n",
    "print(len(it))\n",
    "    \n",
    "    \n"
   ]
  },
  {
   "cell_type": "code",
   "execution_count": 1,
   "id": "89018fc1-1c40-4dec-a119-adb634e539c3",
   "metadata": {
    "tags": []
   },
   "outputs": [],
   "source": [
    "n = int(input())\n",
    "A "
   ]
  },
  {
   "cell_type": "code",
   "execution_count": 42,
   "id": "d10fcbc2-15e2-434d-85d5-13f3b9fe27ec",
   "metadata": {
    "tags": []
   },
   "outputs": [
    {
     "name": "stdin",
     "output_type": "stream",
     "text": [
      " 345\n"
     ]
    },
    {
     "name": "stdout",
     "output_type": "stream",
     "text": [
      "343\n"
     ]
    }
   ],
   "source": [
    "n = int(input())\n",
    "dic = {}\n",
    "ans = 1\n",
    "for i in range(1, 1000000):\n",
    "    tmp = str(i**3)\n",
    "    l = len(tmp)\n",
    "    if tmp==\"\".join(reversed(tmp)):\n",
    "        if int(tmp)<=n:\n",
    "            ans = tmp\n",
    "        else:\n",
    "            break\n",
    "\n",
    "            \n",
    "print(ans)\n",
    "            "
   ]
  },
  {
   "cell_type": "code",
   "execution_count": 45,
   "id": "a1cbd586-75b4-411b-b1cc-18e8021347bc",
   "metadata": {},
   "outputs": [
    {
     "name": "stdin",
     "output_type": "stream",
     "text": [
      " 10 10\n",
      " 7 2620\n",
      " 9 2620\n",
      " 8 3375\n",
      " 1 3375\n",
      " 6 1395\n",
      " 5 1395\n",
      " 6 2923\n",
      " 10 3375\n",
      " 9 5929\n",
      " 5 1225\n"
     ]
    },
    {
     "name": "stdout",
     "output_type": "stream",
     "text": [
      "2\n",
      "2\n",
      "3\n",
      "3\n",
      "4\n",
      "4\n",
      "5\n",
      "5\n",
      "6\n",
      "5\n"
     ]
    }
   ],
   "source": [
    "from collections import defaultdict\n",
    "n, t = map(int, input().split())\n",
    "P = [0]*n\n",
    "dic = defaultdict(lambda: 0)\n",
    "dic[0]=n\n",
    "ans = []\n",
    "now = 1\n",
    "for i in range(t):\n",
    "    a, b = map(int, input().split())\n",
    "    dic[P[a-1]]-=1\n",
    "    if dic[P[a-1]]==0:\n",
    "        now-=1\n",
    "    P[a-1]+=b\n",
    "    dic[P[a-1]]+=1\n",
    "    if dic[P[a-1]]==1:\n",
    "        now+=1\n",
    "    ans.append(now)\n",
    "for i in range(t):\n",
    "    print(ans[i])"
   ]
  },
  {
   "cell_type": "code",
   "execution_count": 22,
   "id": "05114217-ff6a-4ab4-a785-2306d8364b07",
   "metadata": {
    "tags": []
   },
   "outputs": [
    {
     "data": {
      "text/plain": [
       "'987654321'"
      ]
     },
     "execution_count": 22,
     "metadata": {},
     "output_type": "execute_result"
    }
   ],
   "source": [
    "v1, v2, v3 = map(int, input().split())\n",
    "if v1+v2*2+v3*3!=1029:\n",
    "    print(\"No\")\n",
    "\n",
    "else:\n",
    "    S = [[0, 0, 0], for _ in range(14)]\n",
    "    for i in range(7):\n",
    "        S[]\n",
    "    for i in range(8):\n",
    "        for j in range(8):"
   ]
  },
  {
   "cell_type": "code",
   "execution_count": 48,
   "id": "30f644b4-231c-47d8-8706-550f3289b538",
   "metadata": {
    "tags": []
   },
   "outputs": [
    {
     "data": {
      "text/plain": [
       "1029"
      ]
     },
     "execution_count": 48,
     "metadata": {},
     "output_type": "execute_result"
    }
   ],
   "source": [
    "7**3*3"
   ]
  },
  {
   "cell_type": "code",
   "execution_count": 49,
   "id": "605bd889-bc1d-4903-87f3-3da7518e09df",
   "metadata": {
    "tags": []
   },
   "outputs": [
    {
     "data": {
      "text/plain": [
       "1029"
      ]
     },
     "execution_count": 49,
     "metadata": {},
     "output_type": "execute_result"
    }
   ],
   "source": [
    "840+84*2+7*3"
   ]
  },
  {
   "cell_type": "code",
   "execution_count": 50,
   "id": "c0004331-3a87-4c91-94f4-0c405d2ad54b",
   "metadata": {
    "tags": []
   },
   "outputs": [
    {
     "data": {
      "text/plain": [
       "117649"
      ]
     },
     "execution_count": 50,
     "metadata": {},
     "output_type": "execute_result"
    }
   ],
   "source": [
    "343**2"
   ]
  },
  {
   "cell_type": "code",
   "execution_count": null,
   "id": "05602215-3c80-4afd-bb31-0757c8e46106",
   "metadata": {},
   "outputs": [],
   "source": []
  }
 ],
 "metadata": {
  "kernelspec": {
   "display_name": "Python 3 (ipykernel)",
   "language": "python",
   "name": "python3"
  },
  "language_info": {
   "codemirror_mode": {
    "name": "ipython",
    "version": 3
   },
   "file_extension": ".py",
   "mimetype": "text/x-python",
   "name": "python",
   "nbconvert_exporter": "python",
   "pygments_lexer": "ipython3",
   "version": "3.11.4"
  }
 },
 "nbformat": 4,
 "nbformat_minor": 5
}
