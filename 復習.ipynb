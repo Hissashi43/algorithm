{
 "cells": [
  {
   "cell_type": "code",
   "execution_count": null,
   "id": "6d410faa-23dd-4e42-8a9d-5efefe69a69a",
   "metadata": {
    "tags": []
   },
   "outputs": [],
   "source": [
    "## 158 D\n",
    "from collections import deque\n",
    "s = input()\n",
    "q = int(input())\n",
    "s = deque(s)\n",
    "# s = list(s)\n",
    "flag = True\n",
    "queries = [ list(map(str, input().split())) for _ in range(q)]\n",
    "# for i in range(q):\n",
    "#     tmp = list(map(str, input().split()))\n",
    "#     queries.append(tmp)\n",
    "idx = q-1\n",
    "while queries[idx]!=['1'] and idx>=0:\n",
    "    idx-=1\n",
    "if idx>=0:\n",
    "    for i in range(idx):\n",
    "        query = queries[i]\n",
    "        if query==['1']:\n",
    "            flag = not flag\n",
    "        else:\n",
    "            _, f, c = query[0], int(query[1]), query[2]\n",
    "            if flag:\n",
    "                if f==1:\n",
    "                    s.appendleft(c)\n",
    "                    # s.insert(0, c)\n",
    "                else:\n",
    "                    s.append(c)\n",
    "            else:\n",
    "                if f==1:\n",
    "                    s.append(c)\n",
    "                else:\n",
    "                    s.appendleft(c)\n",
    "                    # s.insert(0, c)\n",
    "    if flag==True:\n",
    "        s.reverse()\n",
    "for i in range(idx+1, q):\n",
    "    query = queries[i]\n",
    "    _, f, c = query[0], int(query[1]), query[2]\n",
    "    if f==1:\n",
    "        s.appendleft(c)\n",
    "    else:\n",
    "        s.append(c)\n",
    "print(''.join(map(str, s)))\n",
    "            \n",
    "    \n",
    "                    "
   ]
  },
  {
   "cell_type": "code",
   "execution_count": 1,
   "id": "285d9f8b-2d5b-4759-8158-02ad09bb761e",
   "metadata": {
    "tags": []
   },
   "outputs": [
    {
     "data": {
      "text/plain": [
       "'C:\\\\Users\\\\tabat_z8zxcq9\\\\algorithm'"
      ]
     },
     "execution_count": 1,
     "metadata": {},
     "output_type": "execute_result"
    }
   ],
   "source": [
    "%pwd"
   ]
  },
  {
   "cell_type": "code",
   "execution_count": 8,
   "id": "03181623-8eec-4341-b07e-76d4896dd713",
   "metadata": {
    "tags": []
   },
   "outputs": [
    {
     "name": "stdin",
     "output_type": "stream",
     "text": [
      " 5\n",
      " 8\n",
      " 1 1 1\n",
      " 1 2 4\n",
      " 1 1 4\n",
      " 2 4\n",
      " 1 1 4\n",
      " 2 4\n",
      " 3 1\n",
      " 3 2\n"
     ]
    },
    {
     "name": "stdout",
     "output_type": "stream",
     "text": [
      "1 2\n",
      "1 1 2\n",
      "1 4\n",
      "4\n"
     ]
    }
   ],
   "source": [
    "from sortedcontainers import SortedList, SortedSet\n",
    "from collections import defaultdict\n",
    "dic = defaultdict(lambda: SortedList())\n",
    "nums = defaultdict(lambda: SortedSet())\n",
    "N = int(input())\n",
    "Q = int(input())\n",
    "queries = [ tuple(map(int, input().split())) for _ in range(Q) ]\n",
    "for q in queries:\n",
    "    if q[0]==1:\n",
    "        dic[q[2]].add(q[1])\n",
    "        nums[q[1]].add(q[2])\n",
    "    elif q[0]==2:\n",
    "        print(*dic[q[1]])\n",
    "    else:\n",
    "        print(*nums[q[1]])\n",
    "        "
   ]
  },
  {
   "cell_type": "code",
   "execution_count": 20,
   "id": "9724bcb6-9b0d-4754-8092-b494ebd0ba5c",
   "metadata": {
    "tags": []
   },
   "outputs": [
    {
     "name": "stdin",
     "output_type": "stream",
     "text": [
      " 11\n",
      " 1 9\n",
      " 1 9\n",
      " 1 8\n",
      " 1 2\n",
      " 1 4\n",
      " 1 4\n",
      " 1 3\n",
      " 1 5\n",
      " 1 3\n",
      " 2\n",
      " 3\n"
     ]
    },
    {
     "name": "stdout",
     "output_type": "stream",
     "text": [
      "19\n",
      "199\n",
      "1998\n",
      "19982\n",
      "199824\n",
      "1998244\n",
      "19982443\n",
      "199824435\n",
      "1755647\n",
      "1755647\n"
     ]
    }
   ],
   "source": [
    "Q = int(input())\n",
    "# now = \"\"\n",
    "num = 1\n",
    "mod = 998244353\n",
    "l = 0\n",
    "queries = [list(map(int, input().split())) for _ in range(Q)]\n",
    "for q in queries:\n",
    "    if q[0]==1:\n",
    "        num *= 10\n",
    "        num += q[1]\n",
    "        num = num%mod\n",
    "        # now = str(num)\n",
    "        l += 1\n",
    "        print(num)\n",
    "    elif q[0]==2:\n",
    "        m = 10**l\n",
    "        s = num//m\n",
    "        num -= s*m\n",
    "        # print(num)\n",
    "        num = num%mod\n",
    "        # print(num)\n",
    "    else:\n",
    "        print(num%mod)"
   ]
  },
  {
   "cell_type": "code",
   "execution_count": null,
   "id": "19422ae4-2968-4311-9e4a-7c6d2d220c26",
   "metadata": {
    "tags": []
   },
   "outputs": [],
   "source": [
    "from collections import deque\n",
    "import heapq\n",
    "\n",
    "n, x, y = map(int, input().split())\n",
    "G = [ list() for _ in range(n+1) ]\n",
    "for i in range(1, n):\n",
    "    G[i].append((i+1, 1))\n",
    "    G[i+1].append((i, 1))\n",
    "G[x].append((y, 1))\n",
    "G[y].append((x, 1))\n",
    "ans = [ 0 for _ in range(n+1)]\n",
    "inf = 10**10\n",
    "for i in range(1, n):\n",
    "    kakutei = [False]*(n+1)\n",
    "    cur = [inf]*(n+1)\n",
    "    cur[i] = 0\n",
    "    Q = []\n",
    "    heapq.heappush(Q, (cur[i], i))\n",
    "\n",
    "# ダイクストラ法\n",
    "    while len(Q) >= 1:\n",
    "        pos = heapq.heappop(Q)[1]\n",
    "    \n",
    "        if kakutei[pos]==True:\n",
    "            continue\n",
    "    \n",
    "        kakutei[pos] = True\n",
    "        for e in G[pos]:\n",
    "            if cur[e[0]] > cur[pos] + e[1]:\n",
    "                cur[e[0]] = cur[pos] + e[1]\n",
    "                heapq.heappush(Q, (cur[e[0]], e[0]))\n",
    "    for i in range(i, n+1):\n",
    "        ans[cur[i]]+=1\n",
    "for i in range(1, n):\n",
    "    print(ans[i])  "
   ]
  },
  {
   "cell_type": "code",
   "execution_count": null,
   "id": "e767d830-44d1-4369-803c-2f69774f3f65",
   "metadata": {
    "tags": []
   },
   "outputs": [],
   "source": [
    "import heapq\n",
    "\n",
    "n, x, y = map(int, input().split())\n",
    "G = [ list() for _ in range(n+1)]\n",
    "for i in range(1, n):\n",
    "    G[i].append(((i+1), 1))\n",
    "    G[i+1].append((i, 1))\n",
    "G[x].append((y, 1))\n",
    "G[y].append((x, 1))\n",
    "\n",
    "\n",
    "inf = int(1e9)\n",
    "ans = [0]*(n+1)\n",
    "for i in range(1, n):\n",
    "    kakutei = [False]*(n+1)\n",
    "    dist = [inf]*(n+1)\n",
    "    dist[i]=0\n",
    "    que = []\n",
    "    heapq.heappush(que, (dist[i], i))\n",
    "    while len(que)>=1:\n",
    "        pos = heapq.heappop(que)[1]\n",
    "        if kakutei[pos]:\n",
    "            continue\n",
    "            \n",
    "        kakutei[pos]=True\n",
    "        \n",
    "        for nex in G[pos]:\n",
    "            if dist[nex[0]]>dist[pos]+nex[1]:\n",
    "                dist[nex[0]] = dist[pos]+nex[1]\n",
    "                heapq.heappush(que, (dist[nex[0]], nex[0]))\n",
    "    for j in range(i, n+1):\n",
    "        ans[dist[j]]+=1\n",
    "for i in range(1, n):\n",
    "    print(ans[i])\n",
    "                               "
   ]
  },
  {
   "cell_type": "code",
   "execution_count": 54,
   "id": "e1e77a4f-f457-41d6-ba66-1e9ce060fe8a",
   "metadata": {
    "tags": []
   },
   "outputs": [
    {
     "name": "stdin",
     "output_type": "stream",
     "text": [
      " 15\n"
     ]
    },
    {
     "name": "stdout",
     "output_type": "stream",
     "text": [
      "23\n"
     ]
    }
   ],
   "source": [
    "# 161 D\n",
    "\n",
    "from collections import deque\n",
    "K = int(input())\n",
    "q = deque(range(1,10))\n",
    "for _ in range(K-1):\n",
    "    x = q.popleft()\n",
    "    y = x % 10\n",
    "    if y != 0:\n",
    "        q.append(10*x+y-1)\n",
    "    q.append(10*x+y)\n",
    "    if y != 9:\n",
    "        q.append(10*x+y+1)\n",
    "ans = q.popleft()\n",
    "print(ans)\n",
    "    \n",
    "        \n"
   ]
  },
  {
   "cell_type": "code",
   "execution_count": 47,
   "id": "01944c18-804a-476b-8871-07af51e7ced7",
   "metadata": {
    "tags": []
   },
   "outputs": [
    {
     "data": {
      "text/plain": [
       "4"
      ]
     },
     "execution_count": 47,
     "metadata": {},
     "output_type": "execute_result"
    }
   ],
   "source": [
    "# 160 D\n",
    "X, Y, A, B, C = map(int,input().split())\n",
    "P = sorted(map(int,input().split()), reverse=True)\n",
    "Q = sorted(map(int,input().split()), reverse=True)\n",
    "R = sorted(map(int,input().split()))\n",
    "ans = 0\n",
    "for s in sorted(P[:X]+Q[:Y]):\n",
    "    if len(R):\n",
    "        if R[-1] > s:\n",
    "            s = R.pop()\n",
    "    ans += s\n",
    "print(ans)"
   ]
  },
  {
   "cell_type": "code",
   "execution_count": null,
   "id": "b9d7d395-2ba0-4816-984c-d800fe176305",
   "metadata": {},
   "outputs": [],
   "source": [
    "# 156 D 組み合わせ\n",
    "import math\n",
    "n, a, b = map(int, input().split())\n",
    "\n",
    "mod = 1000000007\n",
    "\n",
    "def Division(n, mod):\n",
    "    return pow(n, mod-2, mod)\n",
    "\n",
    "def combination_a(n, k, mod):\n",
    "    bunshi = 1\n",
    "    bunbo = 1\n",
    "    for i in range(k):\n",
    "        bunshi = bunshi*(n-i)%mod\n",
    "        bunbo = bunbo*(i+1)%mod\n",
    "    return bunshi*Division(bunbo, mod)\n",
    "ans = pow(2, n, mod)-1\n",
    "ans -= combination_a(n, a, mod)\n",
    "ans -= combination_a(n, b, mod)\n",
    "print(ans%mod)"
   ]
  },
  {
   "cell_type": "code",
   "execution_count": 22,
   "id": "c3b92bae-4ef5-4765-a99d-a44ee4330749",
   "metadata": {},
   "outputs": [
    {
     "name": "stdin",
     "output_type": "stream",
     "text": [
      " 3 1\n",
      " 1 0\n"
     ]
    },
    {
     "name": "stdout",
     "output_type": "stream",
     "text": [
      "-1\n"
     ]
    }
   ],
   "source": [
    "# 157 C \n",
    "n,m=map(int,input().split())\n",
    "t=[-1]*n\n",
    "for _ in range(m):\n",
    "    s,c=map(int,input().split())\n",
    "    if s==1 and c==0 and n!=1:\n",
    "        print(-1)\n",
    "        exit()\n",
    "    elif t[s-1]!=-1 and t[s-1]!=c:\n",
    "        print(-1)\n",
    "        exit()\n",
    "    else:\n",
    "        t[s-1]=c\n",
    "for i in range(n):\n",
    "    if t[i]==-1:\n",
    "        if i==0 and n!=1:\n",
    "            t[i]=1\n",
    "        else:\n",
    "            t[i]=0\n",
    "\n",
    "print(''.join([str(i) for i in t]))"
   ]
  },
  {
   "cell_type": "code",
   "execution_count": null,
   "id": "fbe43db6-39d6-4f38-a5b1-3e1fda60179c",
   "metadata": {
    "tags": []
   },
   "outputs": [],
   "source": [
    "# A07 累積和\n",
    "from itertools import accumulate\n",
    "D = int(input())\n",
    "N = int(input())\n",
    "L = []\n",
    "R = []\n",
    "for i in range(N):\n",
    "    l, r = map(int, input().split())\n",
    "    L.append(l)\n",
    "    R.append(r)\n",
    "A = [0]*(D+1)\n",
    "for i in range(N):\n",
    "    A[L[i]-1]+=1\n",
    "    A[R[i]]-=1\n",
    "A = list(accumulate(A))\n",
    "for i in range(D):\n",
    "    print(A[i])"
   ]
  },
  {
   "cell_type": "code",
   "execution_count": null,
   "id": "746eaf09-ea21-4037-a631-e478f3f95288",
   "metadata": {
    "tags": []
   },
   "outputs": [],
   "source": [
    "# A08 二次元累積和\n",
    "from itertools import accumulate\n",
    "H, W = map(int, input().split())\n",
    "X = [ list(map(int, input().split())) for _ in range(H) ]\n",
    "Xsum = [ list(accumulate(X[i])) for i in range(H) ]\n",
    "for i in range(W):\n",
    "    for j in range(1, H):\n",
    "        Xsum[j][i] += Xsum[j-1][i]\n",
    "def solve(a, b, c, d):\n",
    "    if a!=0 and b!=0:\n",
    "        return Xsum[c][d]-Xsum[a-1][d]-Xsum[c][b-1]+Xsum[a-1][b-1]\n",
    "    elif a==0 and b!=0:\n",
    "        return Xsum[c][d]-Xsum[c][b-1]\n",
    "    elif a!=0 and b==0:\n",
    "        return Xsum[c][d]-Xsum[a-1][d]\n",
    "    else:\n",
    "        return Xsum[c][d]\n",
    "q = int(input())\n",
    "for i in range(q):\n",
    "    a, b, c, d = map(int, input().split())\n",
    "    a -= 1\n",
    "    b -= 1\n",
    "    c -= 1\n",
    "    d -= 1\n",
    "    print(solve(a, b, c, d))"
   ]
  },
  {
   "cell_type": "code",
   "execution_count": 92,
   "id": "e129ae05-01e2-42c1-8fc9-9200291ec35e",
   "metadata": {
    "tags": []
   },
   "outputs": [
    {
     "name": "stdin",
     "output_type": "stream",
     "text": [
      " 8 3\n",
      " 2 6 8\n",
      " -17683 17993\n",
      " 93038 47074\n",
      " 58079 -57520\n",
      " -41515 -89802\n",
      " -72739 68805\n",
      " 24324 -73073\n",
      " 71049 72103\n",
      " 47863 19268\n"
     ]
    },
    {
     "name": "stdout",
     "output_type": "stream",
     "text": [
      "0\n"
     ]
    }
   ],
   "source": [
    "def dist(x1, y1, x2, y2):\n",
    "    return ((x1-x2)**2+(y1-y2)**2)**0.5\n",
    "n, k = map(int, input().split())\n",
    "A = list(map(int, input().split()))\n",
    "Z = []\n",
    "for i in range(n):\n",
    "    Z.append(tuple(map(int, input().split())))\n",
    "B = []\n",
    "for i in range(1, n+1):\n",
    "    if i not in A:\n",
    "        B.append(i)\n",
    "ans = 0\n",
    "for i in B:\n",
    "    tmp = 1000000\n",
    "    for j in A:\n",
    "        tmp = min(tmp, dist(Z[j-1][0], Z[j-1][1], Z[i-1][0], Z[i-1][1]))\n",
    "    ans = max(ans, tmp)\n",
    "print(ans)"
   ]
  },
  {
   "cell_type": "code",
   "execution_count": 44,
   "id": "c3a2a153-903a-42ca-ad62-c810d470e6f6",
   "metadata": {
    "tags": []
   },
   "outputs": [
    {
     "data": {
      "text/plain": [
       "8"
      ]
     },
     "execution_count": 44,
     "metadata": {},
     "output_type": "execute_result"
    }
   ],
   "source": [
    "class unionfind:\n",
    "    def __init__(self, n):\n",
    "        self.n = n\n",
    "        self.par = [-1] * (n+1)\n",
    "        self.size = [1] * (n+1)\n",
    "        \n",
    "    def root(self, x):\n",
    "        while self.par[x] != -1:\n",
    "            x = self.par[x]\n",
    "        return x\n",
    "    \n",
    "    def unite(self, u, v):\n",
    "        rootu = self.root(u)\n",
    "        rootv = self.root(v)\n",
    "        if rootu != rootv:\n",
    "            if self.size[rootu] < self.size[rootv]:\n",
    "                self.par[rootu] = rootv\n",
    "                self.size[rootv] += self.size[rootu]\n",
    "            else:\n",
    "                self.par[rootv] = rootu\n",
    "                self.size[rootu] += self.size[rootv]\n",
    "        \n",
    "    def same(self, u, v):\n",
    "        return self.root(u) == self.root(v)\n",
    "\n",
    "n = int(input())\n",
    "queries = [ tuple(map(int, input().split())) for i in range(n) ]\n",
    "\n",
    "uf = unionfind(n)\n",
    "for tp, u, v in queries:\n",
    "    if tp == 1:\n",
    "        uf.unite(u, v)\n",
    "    if tp == 2:\n",
    "        if uf.same(u, v):\n",
    "            print(\"Yes\")\n",
    "        else:\n",
    "            print(\"No\")"
   ]
  },
  {
   "cell_type": "code",
   "execution_count": 2,
   "id": "d8b8566d-8f73-45c7-b513-ca6219b214e0",
   "metadata": {},
   "outputs": [
    {
     "name": "stdin",
     "output_type": "stream",
     "text": [
      " 5\n",
      " 22 75 26 45 72\n"
     ]
    },
    {
     "name": "stdout",
     "output_type": "stream",
     "text": [
      "1650 1950 1170 3240\n"
     ]
    }
   ],
   "source": [
    "n = int(input())\n",
    "A = list(map(int, input().split()))\n",
    "B = []\n",
    "for i in range(n-1):\n",
    "    B.append(A[i]*A[i+1])\n",
    "print(*B)"
   ]
  },
  {
   "cell_type": "code",
   "execution_count": 1,
   "id": "e180049a-fbb8-4eec-93e7-53cf0cc4b303",
   "metadata": {},
   "outputs": [
    {
     "name": "stdin",
     "output_type": "stream",
     "text": [
      " 6 1 2\n",
      " 3 1\n",
      " 2 5\n",
      " 1 2\n",
      " 4 1\n",
      " 2 6\n"
     ]
    },
    {
     "name": "stdout",
     "output_type": "stream",
     "text": [
      "1 2\n"
     ]
    }
   ],
   "source": [
    "import sys\n",
    "from collections import deque\n",
    "\n",
    "sys.setrecursionlimit(120000)\n",
    "\n",
    "N, X, Y = map(int, input().split())\n",
    "edges = [ tuple(map(int, input().split())) for _ in range(N-1)]\n",
    "\n",
    "# ルートの記録が必要な場合\n",
    "roots = deque()\n",
    "\n",
    "# 隣接リスト\n",
    "G = [ list() for _ in range(N+1)]\n",
    "for a, b in edges:\n",
    "    G[a].append(b)\n",
    "    G[b].append(a)\n",
    "\n",
    "# nまでの探索経路を記録\n",
    "def dfs(pos, visited, G):\n",
    "    roots.append(pos)\n",
    "    if pos == Y:\n",
    "        print(*roots)\n",
    "        exit()\n",
    "    visited[pos] = True\n",
    "    \n",
    "    for nex in G[pos]:\n",
    "        if not visited[nex]:\n",
    "            dfs(nex, visited, G)\n",
    "    roots.pop()\n",
    "\n",
    "visited = [False] * (N + 1)\n",
    "dfs(X, visited, G)"
   ]
  },
  {
   "cell_type": "code",
   "execution_count": 35,
   "id": "7696751d-62d2-4a68-9083-2ba5a2368e70",
   "metadata": {
    "tags": []
   },
   "outputs": [
    {
     "data": {
      "text/plain": [
       "[[], True, [5, 1, 6], [1], [1], [2], [2]]"
      ]
     },
     "execution_count": 35,
     "metadata": {},
     "output_type": "execute_result"
    }
   ],
   "source": [
    "H1, W1 = map(int, input().split())\n",
    "A = [ list(map(int, input().split())) for _ in range(H1)]\n",
    "H2, W2 = map(int, input().split())\n",
    "B = [ list(map(int, input().split())) for _ in range(H2)]\n",
    "\n",
    "def check(x, A):\n",
    "    for i x:\n",
    "        for j in range\n",
    "for i in range(H2):\n",
    "    for j in range(W2):\n",
    "        tmp = B[i][j]\n"
   ]
  },
  {
   "cell_type": "code",
   "execution_count": 23,
   "id": "1123df40-6f6d-4699-a1de-b4f28426c916",
   "metadata": {
    "tags": []
   },
   "outputs": [
    {
     "name": "stdin",
     "output_type": "stream",
     "text": [
      " 15 158260522\n",
      " 877914575 2436426\n",
      " 24979445 61648772\n",
      " 623690081 33933447\n",
      " 476190629 62703497\n",
      " 211047202 71407775\n",
      " 628894325 31963982\n",
      " 822804784 50968417\n",
      " 430302156 82631932\n",
      " 161735902 80895728\n",
      " 923078537 7723857\n",
      " 189330739 10286918\n",
      " 802329211 4539679\n",
      " 303238506 17063340\n",
      " 492686568 73361868\n",
      " 125660016 50287940\n"
     ]
    },
    {
     "name": "stdout",
     "output_type": "stream",
     "text": [
      "492686569\n"
     ]
    }
   ],
   "source": [
    "import bisect\n",
    "from collections import defaultdict\n",
    "N, K = map(int, input().split())\n",
    "A = []\n",
    "B = []\n",
    "for i in range(N):\n",
    "    a, b = map(int, input().split())\n",
    "    A.append((a, i))\n",
    "    B.append(b)\n",
    "sm = sum(B)\n",
    "A.sort(key = lambda x: x[0])\n",
    "Bs = []\n",
    "for i in range(N):\n",
    "    Bs.append(B[A[i][1]])\n",
    "now = sm\n",
    "d = 0\n",
    "ans = 1000000\n",
    "if now<=K:\n",
    "    ans = 1\n",
    "else:\n",
    "    for i in range(N):\n",
    "        now -= Bs[i]\n",
    "        d = A[i][0]\n",
    "        if now<=K:\n",
    "            ans = d+1\n",
    "            break\n",
    "print(ans)"
   ]
  },
  {
   "cell_type": "code",
   "execution_count": 38,
   "id": "e6386ea6-6f5c-4ead-b6b9-49cb5d0eb382",
   "metadata": {
    "tags": []
   },
   "outputs": [
    {
     "name": "stdin",
     "output_type": "stream",
     "text": [
      " 3 3\n",
      " 1 1 1\n",
      " 1 1 1\n",
      " 1 1 1\n",
      " 1 1\n",
      " 2\n"
     ]
    },
    {
     "name": "stdout",
     "output_type": "stream",
     "text": [
      "No\n"
     ]
    }
   ],
   "source": [
    "H1, W1 = map(int, input().split())\n",
    "A = [ list(map(int, input().split())) for _ in range(H1)]\n",
    "H2, W2 = map(int, input().split())\n",
    "B = [ list(map(int, input().split())) for _ in range(H2)]\n",
    "candh = []\n",
    "candw = []\n",
    "\n",
    "for h in range(1<<H1):\n",
    "    if h.bit_count()==H1-H2:\n",
    "        tmp = []\n",
    "        for i in range(H1):\n",
    "            if h>>i&1:\n",
    "                tmp.append(i)\n",
    "        candh.append(tmp)\n",
    "for w in range(1<<W1):\n",
    "    if w.bit_count()==W1-W2:\n",
    "        tmp = []\n",
    "        for i in range(W1):\n",
    "            if w>>i&1:\n",
    "                tmp.append(i)\n",
    "        candw.append(tmp)\n",
    "\n",
    "def output(data, indices, axis='row'):\n",
    "    if axis == 'row':\n",
    "        # 行を削除\n",
    "        return [row for i, row in enumerate(data) if i not in indices]\n",
    "    elif axis == 'column':\n",
    "        # 列を削除\n",
    "        return [[item for j, item in enumerate(row) if j not in indices] for row in data]\n",
    "ans = \"No\"\n",
    "for H in candh:\n",
    "    tmp = output(A, H, axis=\"row\")\n",
    "    for W in candw:\n",
    "        tmp2 = output(tmp, W, axis=\"column\")\n",
    "        if tmp2==B:\n",
    "            ans = \"Yes\"\n",
    "            break\n",
    "print(ans)"
   ]
  },
  {
   "cell_type": "code",
   "execution_count": 5,
   "id": "f85c5dfd-7934-4d36-b2fd-d317d6a49d9e",
   "metadata": {
    "tags": []
   },
   "outputs": [
    {
     "name": "stdin",
     "output_type": "stream",
     "text": [
      " 4\n",
      " 0101\n",
      " 1101\n",
      " 1111\n",
      " 0000\n"
     ]
    },
    {
     "name": "stdout",
     "output_type": "stream",
     "text": [
      "1010\n",
      "1101\n",
      "0111\n",
      "0001\n"
     ]
    }
   ],
   "source": [
    "N = int(input())\n",
    "A = [ list(input()) for _ in range(N) ]\n",
    "A1 = [1][0]\n",
    "B = []\n",
    "for i in range(N):\n",
    "    tmp = []\n",
    "    for j in range(N):\n",
    "        if i==0:\n",
    "            if j==0:\n",
    "                tmp.append(A[i+1][0])\n",
    "            else:\n",
    "                tmp.append(A[i][j-1])\n",
    "        elif i!=N-1:\n",
    "            if j==0:\n",
    "                tmp.append(A[i+1][0])\n",
    "            elif j!=N-1:\n",
    "                tmp.append(A[i][j])\n",
    "            elif j==N-1:\n",
    "                tmp.append(A[i-1][j])\n",
    "        elif i==N-1:\n",
    "            if j!=N-1:\n",
    "                tmp.append(A[i][j+1])\n",
    "            else:\n",
    "                tmp.append(A[i-1][j])\n",
    "    B.append(tmp)\n",
    "for i in range(N):\n",
    "    print(\"\".join(map(str, B[i])))\n"
   ]
  },
  {
   "cell_type": "code",
   "execution_count": 28,
   "id": "9a826a99-9de4-4b5f-b78c-cef9a3994f4b",
   "metadata": {
    "tags": []
   },
   "outputs": [
    {
     "name": "stdin",
     "output_type": "stream",
     "text": [
      " BRUTMHYHIIZP\n"
     ]
    },
    {
     "name": "stdout",
     "output_type": "stream",
     "text": [
      "10000000000000000\n"
     ]
    }
   ],
   "source": [
    "s = input()\n",
    "ans = 0\n",
    "for i in range(len(s)):\n",
    "    ans += ((ord(s[i])-ord(\"A\")+1)*26**(len(s)-1-i))\n",
    "print(ans)"
   ]
  },
  {
   "cell_type": "code",
   "execution_count": 46,
   "id": "74e50545-e5f9-4fd6-888a-28ac0ff9ea1a",
   "metadata": {
    "tags": []
   },
   "outputs": [
    {
     "name": "stdin",
     "output_type": "stream",
     "text": [
      " 15\n",
      " 3 1 4 1 5 9 2 6 5 3 5 8 9 7 9\n"
     ]
    },
    {
     "name": "stdout",
     "output_type": "stream",
     "text": [
      "355\n"
     ]
    }
   ],
   "source": [
    "N = int(input())\n",
    "A = list(map(int, input().split()))\n",
    "dic = {}\n",
    "for a in A:\n",
    "    if a not in dic:\n",
    "        dic[a]=1\n",
    "    else:\n",
    "        dic[a]+=1\n",
    "ans = N*(N-1)*(N-2)//6\n",
    "for key in dic.keys():\n",
    "    t = dic[key]\n",
    "    if t==2:\n",
    "        ans -= N-2\n",
    "    elif t>=3:\n",
    "        ans -= t*(t-1)//2*(N-t)\n",
    "        ans -= t*(t-1)*(t-2)//6\n",
    "print(ans)"
   ]
  },
  {
   "cell_type": "code",
   "execution_count": 52,
   "id": "fa6bde97-97e0-4094-9936-9df1be5bc9d1",
   "metadata": {
    "tags": []
   },
   "outputs": [
    {
     "name": "stdin",
     "output_type": "stream",
     "text": [
      " 5\n",
      " 1 3\n",
      " 1 5\n",
      " 3\n"
     ]
    },
    {
     "name": "stdout",
     "output_type": "stream",
     "text": [
      "3\n"
     ]
    },
    {
     "name": "stdin",
     "output_type": "stream",
     "text": [
      " 2 2\n",
      " 3\n"
     ]
    },
    {
     "name": "stdout",
     "output_type": "stream",
     "text": [
      "7\n"
     ]
    }
   ],
   "source": [
    "import heapq\n",
    "\n",
    "X = []\n",
    "now = 0\n",
    "Q = int(input())\n",
    "for i in range(Q):\n",
    "    q = list(map(int, input().split()))\n",
    "    if q[0]==1:\n",
    "        heapq.heappush(X, q[1]-now)\n",
    "    elif q[0]==2:\n",
    "        now += q[1]\n",
    "    else:\n",
    "        a = heapq.heappop(X)\n",
    "        print(a+now)"
   ]
  },
  {
   "cell_type": "code",
   "execution_count": 71,
   "id": "e3898677-fbaa-4e5d-b855-28da89c7d546",
   "metadata": {
    "tags": []
   },
   "outputs": [
    {
     "name": "stdin",
     "output_type": "stream",
     "text": [
      " 4 4\n",
      " S...\n",
      " #..#\n",
      " #...\n",
      " ..#T\n",
      " 4\n",
      " 1 1 3\n",
      " 1 3 5\n",
      " 3 2 1\n",
      " 2 3 1\n"
     ]
    },
    {
     "ename": "KeyboardInterrupt",
     "evalue": "",
     "output_type": "error",
     "traceback": [
      "\u001b[1;31m---------------------------------------------------------------------------\u001b[0m",
      "\u001b[1;31mKeyboardInterrupt\u001b[0m                         Traceback (most recent call last)",
      "Cell \u001b[1;32mIn[71], line 55\u001b[0m\n\u001b[0;32m     53\u001b[0m \u001b[38;5;28;01mif\u001b[39;00m a\u001b[38;5;241m!=\u001b[39mH\u001b[38;5;241m-\u001b[39m\u001b[38;5;241m1\u001b[39m \u001b[38;5;129;01mand\u001b[39;00m A[a\u001b[38;5;241m+\u001b[39m\u001b[38;5;241m1\u001b[39m][b]\u001b[38;5;241m==\u001b[39m\u001b[38;5;124m\"\u001b[39m\u001b[38;5;124m.\u001b[39m\u001b[38;5;124m\"\u001b[39m \u001b[38;5;129;01mand\u001b[39;00m dist[a][b]\u001b[38;5;241m>\u001b[39mdist[a\u001b[38;5;241m+\u001b[39m\u001b[38;5;241m1\u001b[39m][b]:\n\u001b[0;32m     54\u001b[0m     que\u001b[38;5;241m.\u001b[39mappend([a\u001b[38;5;241m+\u001b[39m\u001b[38;5;241m1\u001b[39m, b])\n\u001b[1;32m---> 55\u001b[0m     dist[a\u001b[38;5;241m+\u001b[39m\u001b[38;5;241m1\u001b[39m][b] \u001b[38;5;241m=\u001b[39m \u001b[38;5;28mmax\u001b[39m(dist[a][b]\u001b[38;5;241m-\u001b[39m\u001b[38;5;241m1\u001b[39m, dist[a\u001b[38;5;241m+\u001b[39m\u001b[38;5;241m1\u001b[39m][b])  \n\u001b[0;32m     56\u001b[0m \u001b[38;5;28;01melif\u001b[39;00m a\u001b[38;5;241m!=\u001b[39mH\u001b[38;5;241m-\u001b[39m\u001b[38;5;241m1\u001b[39m \u001b[38;5;129;01mand\u001b[39;00m \u001b[38;5;28mtype\u001b[39m(A[a\u001b[38;5;241m+\u001b[39m\u001b[38;5;241m1\u001b[39m][b])\u001b[38;5;241m==\u001b[39m\u001b[38;5;28mint\u001b[39m:\n\u001b[0;32m     57\u001b[0m     que\u001b[38;5;241m.\u001b[39mappend([a\u001b[38;5;241m+\u001b[39m\u001b[38;5;241m1\u001b[39m, b])\n",
      "\u001b[1;31mKeyboardInterrupt\u001b[0m: "
     ]
    }
   ],
   "source": [
    "from collections import deque\n",
    "\n",
    "H, W = map(int, input().split())\n",
    "A = [ list(input()) for _ in range(H)]\n",
    "N = int(input())\n",
    "sh, sw, gh, gw = 0, 0, 0, 0\n",
    "for i in range(H):\n",
    "    for j in range(W):\n",
    "        if A[i][j]==\"S\":\n",
    "            sh, sw=i, j\n",
    "        elif A[i][j]==\"T\":\n",
    "            gh, gw=i, j\n",
    "# M = []\n",
    "for i in range(N):\n",
    "    r, c, e = map(int, input().split())\n",
    "    A[r-1][c-1]=e\n",
    "    cand.append((r-1, c-1))\n",
    "    # M.append(list(map(int, input().split())))\n",
    "\n",
    "\n",
    "\n",
    "que = deque()\n",
    "que.append([sh, sw])\n",
    "dist = [ [-1]*W for _ in range(H)]\n",
    "dist[sh][sw]=0\n",
    "if type(A[sh][sw])==int:\n",
    "    E = A[sh][sw]\n",
    "    dist[sh][sw]=E\n",
    "    que2.append([sh, sw])\n",
    "else:\n",
    "    E = 0\n",
    "    ans = 0\n",
    "if E>0:\n",
    "    ans = \"No\"\n",
    "while len(que2)>0:\n",
    "    if dist[gh][gw]>=0:\n",
    "        ans = \"Yes\"\n",
    "        break\n",
    "    que = deque()\n",
    "    dist = [ [-1]*W for _ in range(H)]\n",
    "    th, tw = que2.popleft()\n",
    "    dist[th][tw]=A[th][tw]\n",
    "    while len(que)>0:\n",
    "        que.append([th, tw])\n",
    "        pos = que.popleft()\n",
    "        [a, b] = pos\n",
    "        if dist[a][b]==0:\n",
    "            continue\n",
    "        if a==gh and b==gw:\n",
    "            ans = \"Yes\"\n",
    "            break\n",
    "        if  b!=W-1 and A[a][b+1]==\".\" and dist[a][b+1]==-1:\n",
    "            dist[a][b+1] = max(dist[a][b]-1, dist[a][b+1])\n",
    "            que.append([a, b+1])\n",
    "        elif b!=W-1 and type(A[a][b+1])==int and dist[a][b+1]==-1:\n",
    "            dist[a][b+1] = max(dist[a][b]-1, dist[a][b+1])\n",
    "            que.append([a, b+1])\n",
    "            if dist[a][b]-1<A[a][b+1]:\n",
    "                que2.append([a, b+1])\n",
    "            dist[a][b+1] = max(dist[a][b]-1, dist[a][b+1])\n",
    "        if b!=0 and A[a][b-1]==\".\" and dist[a][b]>dist[a][b-1]:\n",
    "        que.append([a, b-1])\n",
    "        dist[a][b-1] = max(dist[a][b]-1, dist[a][b-1])\n",
    "    elif b!=0 and type(A[a][b-1])==int:\n",
    "        que.append([a, b-1])\n",
    "        dist[a][b-1] = max(dist[a][b]-1, dist[a][b-1], A[a][b-1]) \n",
    "    if a!=H-1 and A[a+1][b]==\".\" and dist[a][b]>dist[a+1][b]:\n",
    "        que.append([a+1, b])\n",
    "        dist[a+1][b] = max(dist[a][b]-1, dist[a+1][b])  \n",
    "    elif a!=H-1 and type(A[a+1][b])==int:\n",
    "        que.append([a+1, b])\n",
    "        dist[a][b-1] = max(dist[a][b]-1, dist[a+1][b], A[a+1][b]) \n",
    "    if a!=0 and A[a-1][b]==\".\" and dist[a-1][b]>dist[a-1][b]:\n",
    "        que.append([a-1, b])\n",
    "        dist[a-1][b] = max(dist[a][b]-1, dist[a-1][b])  \n",
    "    elif a!=0 and type(A[a-1][b])==int:\n",
    "        que.append([a-1, b])\n",
    "        dist[a-1][b] = max(dist[a][b]-1, dist[a-1][b], A[a-1][b])\n",
    "    if dist[gh][gw]>=0:\n",
    "        ans = \"Yes\"\n",
    "        break\n",
    "if ans == 0:\n",
    "    print(\"No\")\n",
    "elif dist[gh][gw]==-1:\n",
    "    print(\"No\")\n",
    "else:\n",
    "    print(ans)"
   ]
  },
  {
   "cell_type": "code",
   "execution_count": 72,
   "id": "8cb20270-58e6-46a8-a5e9-8620ada7fe24",
   "metadata": {
    "tags": []
   },
   "outputs": [
    {
     "data": {
      "text/plain": [
       "[[3, 4, 5, 4], [2, 3, 2, -1], [-1, 1, 1, 0], [-1, 0, -1, -1]]"
      ]
     },
     "execution_count": 72,
     "metadata": {},
     "output_type": "execute_result"
    }
   ],
   "source": [
    "while len(que)>0:\n",
    "    pos = que.popleft()\n",
    "    [a, b] = pos\n",
    "    if a==gh and b==gw:\n",
    "        break\n",
    "    if dist[a][b]==0:\n",
    "        break\n",
    "    if maze[a][b+1]==\".\" and dist[a][b+1]==-1:\n",
    "        que.append([a, b+1])\n",
    "        dist[a][b+1] = dist[a][b]-1\n",
    "    elif type(maze[a][b+1])==int:\n",
    "        que.append([a, b+1])\n",
    "        dist[a][b+1] = dist[a][b]-1 \n",
    "        que2.append([a, b+1])\n",
    "    if maze[a][b-1]==\".\" and dist[a][b-1]==-1:\n",
    "        que.append([a, b-1])\n",
    "        dist[a][b-1] = dist[a][b]-1\n",
    "    elif type(maze[a][b-1])==int:\n",
    "        que.append([a, b-1])\n",
    "        dist[a][b+1] = dist[a][b]-1 \n",
    "        que2.append([a, b+1])\n",
    "    if maze[a+1][b]==\".\" and dist[a+1][b]==-1:\n",
    "        que.append([a+1, b])\n",
    "        dist[a+1][b] = dist[a][b]-1\n",
    "    if maze[a-1][b]==\".\" and dist[a-1][b]==-1:\n",
    "        que.append([a-1, b])\n",
    "        dist[a-1][b] = dist[a][b]-1\n",
    "\n",
    "print(int(dist[gx-1][gy-1]))"
   ]
  },
  {
   "cell_type": "code",
   "execution_count": null,
   "id": "a9551140-46ac-4820-8eb2-95dc4481642f",
   "metadata": {},
   "outputs": [],
   "source": [
    "from itertools import product\n",
    "n = int(input())\n",
    "\n",
    "def check(s):\n",
    "    score = 0\n",
    "    for c in s:\n",
    "        if c==\"(\":\n",
    "            score+=1\n",
    "        else:\n",
    "            score-=1\n",
    "        if score<0:\n",
    "            return False\n",
    "    return (score==0)\n",
    "\n",
    "for s in product(['(', ')'], repeat=n):\n",
    "    if (check(s)):\n",
    "        print(''.join(map(str, s)))"
   ]
  },
  {
   "cell_type": "code",
   "execution_count": 37,
   "id": "73358e7c-95ef-4864-85a1-88c3aa368309",
   "metadata": {},
   "outputs": [
    {
     "name": "stdin",
     "output_type": "stream",
     "text": [
      " 20\n"
     ]
    },
    {
     "data": {
      "text/plain": [
       "1048576"
      ]
     },
     "execution_count": 37,
     "metadata": {},
     "output_type": "execute_result"
    }
   ],
   "source": [
    "=int(input())"
   ]
  },
  {
   "cell_type": "code",
   "execution_count": 38,
   "id": "7ae6f5af-057b-42e0-8f1f-f5697d21b9b9",
   "metadata": {
    "tags": []
   },
   "outputs": [
    {
     "data": {
      "text/plain": [
       "1048576"
      ]
     },
     "execution_count": 38,
     "metadata": {},
     "output_type": "execute_result"
    }
   ],
   "source": [
    "1024*1024"
   ]
  },
  {
   "cell_type": "code",
   "execution_count": 77,
   "id": "38c5ad5c-25c6-484f-8148-c46d627ca97c",
   "metadata": {
    "tags": []
   },
   "outputs": [
    {
     "name": "stdin",
     "output_type": "stream",
     "text": [
      " 6\n",
      " 1 2 4 6 7 271\n"
     ]
    },
    {
     "name": "stdout",
     "output_type": "stream",
     "text": [
      "4\n"
     ]
    }
   ],
   "source": [
    "from collections import deque\n",
    "\n",
    "done = deque()\n",
    "N = int(input())\n",
    "A = list(map(int, input().split()))\n",
    "A.sort()\n",
    "que = deque()\n",
    "que.append(A[0])\n",
    "d = 0\n",
    "for i in range(1, N):\n",
    "    if que[-1]==A[i]:\n",
    "        d+=1\n",
    "    else:\n",
    "        que.append(A[i])\n",
    "# que = deque(A)\n",
    "ans = 0\n",
    "for i in range(1, N+1):\n",
    "    if len(que)==0 or que[0]!=i:\n",
    "        if d>=2:\n",
    "            d -= 2\n",
    "        elif d==1 and len(que)>=1:\n",
    "            d = 0\n",
    "            que.pop()\n",
    "        elif len(que)>=2:\n",
    "            que.pop()\n",
    "            que.pop()\n",
    "        else:\n",
    "            ans = i-1\n",
    "            break\n",
    "    else:\n",
    "        que.popleft()\n",
    "    if len(que)==0 and d<2:\n",
    "        ans = i\n",
    "        break\n",
    "print(ans)\n"
   ]
  },
  {
   "cell_type": "code",
   "execution_count": 83,
   "id": "d53ed12b-b815-45ca-87ed-a82159b3ebdb",
   "metadata": {},
   "outputs": [
    {
     "name": "stdin",
     "output_type": "stream",
     "text": [
      " 2 10\n",
      " 31 41 59 26 53 58 97 93 23 84\n",
      " 62 64 33 83 27 95 2 88 41 97\n"
     ]
    },
    {
     "name": "stdout",
     "output_type": "stream",
     "text": [
      "627 629 598 648 592 660 567 653 606 662\n",
      "623 633 651 618 645 650 689 685 615 676\n"
     ]
    }
   ],
   "source": [
    "H, W = map(int, input().split())\n",
    "A = [ list(map(int, input().split())) for _ in range(H) ]\n",
    "B = [ [sum(A[i])]*W for i in range(H) ]\n",
    "for i, item in enumerate(zip(*A)):\n",
    "    t = sum(item)\n",
    "    for j in range(H):\n",
    "        B[j][i] += t-A[j][i]\n",
    "for i in range(H):\n",
    "    print(*B[i])"
   ]
  },
  {
   "cell_type": "code",
   "execution_count": 2,
   "id": "8a99be07-c3e3-4c11-b4a1-ae19953b0181",
   "metadata": {
    "tags": []
   },
   "outputs": [
    {
     "name": "stdin",
     "output_type": "stream",
     "text": [
      " 14 5\n",
      " kittyonyourlap\n"
     ]
    },
    {
     "ename": "KeyboardInterrupt",
     "evalue": "",
     "output_type": "error",
     "traceback": [
      "\u001b[1;31m---------------------------------------------------------------------------\u001b[0m",
      "\u001b[1;31mKeyboardInterrupt\u001b[0m                         Traceback (most recent call last)",
      "Cell \u001b[1;32mIn[2], line 25\u001b[0m\n\u001b[0;32m     23\u001b[0m     idx \u001b[38;5;241m=\u001b[39m \u001b[38;5;241m0\u001b[39m\n\u001b[0;32m     24\u001b[0m \u001b[38;5;28;01melif\u001b[39;00m key \u001b[38;5;129;01min\u001b[39;00m dic\u001b[38;5;241m.\u001b[39mkeys():\n\u001b[1;32m---> 25\u001b[0m     \u001b[38;5;28;01mif\u001b[39;00m \u001b[38;5;28mlen\u001b[39m(dic[key])\u001b[38;5;241m>\u001b[39m\u001b[38;5;241m=\u001b[39midx\u001b[38;5;241m+\u001b[39m\u001b[38;5;241m1\u001b[39m \u001b[38;5;129;01mand\u001b[39;00m dic[key][idx]\u001b[38;5;241m<\u001b[39m\u001b[38;5;241m=\u001b[39m\u001b[38;5;28mlen\u001b[39m(S)\u001b[38;5;241m-\u001b[39mK\u001b[38;5;241m+\u001b[39m\u001b[38;5;28mlen\u001b[39m(ans):\n\u001b[0;32m     26\u001b[0m         ans \u001b[38;5;241m+\u001b[39m\u001b[38;5;241m=\u001b[39m \u001b[38;5;28mchr\u001b[39m(item\u001b[38;5;241m+\u001b[39m\u001b[38;5;28mord\u001b[39m(\u001b[38;5;124m\"\u001b[39m\u001b[38;5;124ma\u001b[39m\u001b[38;5;124m\"\u001b[39m))\n\u001b[0;32m     27\u001b[0m         idx \u001b[38;5;241m+\u001b[39m\u001b[38;5;241m=\u001b[39m \u001b[38;5;241m1\u001b[39m\n",
      "\u001b[1;31mKeyboardInterrupt\u001b[0m: "
     ]
    }
   ],
   "source": [
    "from collections import defaultdict\n",
    "\n",
    "N, K = map(int, input().split())\n",
    "S = input()\n",
    "ls = []\n",
    "def stoi(S):\n",
    "    ls = []\n",
    "    for i in range(len(S)):\n",
    "        ls.append(ord(S[i])-ord(\"a\"))\n",
    "    return ls\n",
    "dic = defaultdict(lambda: [])\n",
    "ls = stoi(S)\n",
    "for i in range(len(S)):\n",
    "    dic[ls[i]].append(i)\n",
    "# ls = stoi(S)\n",
    "ans = \"\"\n",
    "key = 0\n",
    "t = 0\n",
    "idx = 0\n",
    "sorted_key = list(dic.keys()).sort()\n",
    "while len(ans)!=K:\n",
    "    idx = 0\n",
    "    for key in sorted_key:\n",
    "        \n",
    "print(ans)"
   ]
  },
  {
   "cell_type": "code",
   "execution_count": 6,
   "id": "a2d14382-c5e0-462b-94bc-7458a98867ac",
   "metadata": {
    "tags": []
   },
   "outputs": [
    {
     "name": "stdin",
     "output_type": "stream",
     "text": [
      " 4\n",
      " 4000 4400 5000 3200\n",
      " 3\n",
      " 3312\n"
     ]
    },
    {
     "name": "stdout",
     "output_type": "stream",
     "text": [
      "112\n"
     ]
    },
    {
     "name": "stdin",
     "output_type": "stream",
     "text": [
      " 2992\n"
     ]
    },
    {
     "name": "stdout",
     "output_type": "stream",
     "text": [
      "208\n"
     ]
    },
    {
     "name": "stdin",
     "output_type": "stream",
     "text": [
      " 4229\n"
     ]
    },
    {
     "name": "stdout",
     "output_type": "stream",
     "text": [
      "171\n"
     ]
    }
   ],
   "source": [
    "import bisect\n",
    "N = int(input())\n",
    "A = list(map(int, input().split()))\n",
    "A.sort()\n",
    "Q = int(input())\n",
    "for i in range(Q):\n",
    "    b = int(input())\n",
    "    idx = bisect.bisect_left(A, b)\n",
    "    if idx==0:\n",
    "        print(A[0]-b)\n",
    "    elif idx==N:\n",
    "        print(b-A[-1])\n",
    "    else:\n",
    "        print(min(A[idx]-b, b-A[idx-1]))\n"
   ]
  },
  {
   "cell_type": "code",
   "execution_count": 6,
   "id": "11484463-1bbd-401b-8782-ac319817363e",
   "metadata": {
    "tags": []
   },
   "outputs": [
    {
     "name": "stdin",
     "output_type": "stream",
     "text": [
      " 4\n",
      " 1 -2 -1\n"
     ]
    },
    {
     "name": "stdout",
     "output_type": "stream",
     "text": [
      "2\n"
     ]
    }
   ],
   "source": [
    "N = int(input())\n",
    "A = list(map(int, input().split()))\n",
    "\n",
    "a = sum(A)\n",
    "if a<=0:\n",
    "    print(abs(a))\n",
    "else:\n",
    "    print(-a)"
   ]
  },
  {
   "cell_type": "code",
   "execution_count": 10,
   "id": "63aeaf2b-f233-4417-8bc5-b96dce699f87",
   "metadata": {
    "tags": []
   },
   "outputs": [
    {
     "name": "stdin",
     "output_type": "stream",
     "text": [
      " ab\n"
     ]
    },
    {
     "name": "stdout",
     "output_type": "stream",
     "text": [
      "Yes\n"
     ]
    }
   ],
   "source": [
    "from collections import defaultdict\n",
    "S = input()\n",
    "dic = {}\n",
    "for i in range(len(S)):\n",
    "    if S[i] not in dic:\n",
    "        dic[S[i]] = 1\n",
    "    else:\n",
    "        dic[S[i]] += 1\n",
    "ans = \"Yes\"\n",
    "dic2 = defaultdict(lambda: 0)\n",
    "for key in dic.keys():\n",
    "    dic2[dic[key]] += 1\n",
    "for i in range(101):\n",
    "    if dic2[i]!=2 and dic2[i]!=0:\n",
    "        ans = \"No\"\n",
    "        break\n",
    "\n",
    "print(ans)"
   ]
  },
  {
   "cell_type": "code",
   "execution_count": 57,
   "id": "330bcf78-7f49-4a6f-ae64-8dd56f458ded",
   "metadata": {
    "tags": []
   },
   "outputs": [
    {
     "name": "stdin",
     "output_type": "stream",
     "text": [
      " 3 19\n"
     ]
    },
    {
     "name": "stdout",
     "output_type": "stream",
     "text": [
      "5\n",
      "3 4\n",
      "4 8\n",
      "8 16\n",
      "16 18\n",
      "18 19\n"
     ]
    }
   ],
   "source": [
    "L, R = map(int, input().split())\n",
    "sa = R - L\n",
    "def make(l, r):\n",
    "    sa = r-l\n",
    "    for i in range(60, -1, -1):\n",
    "        if 2**i<=sa:\n",
    "            t = r//2**i\n",
    "            if (t-1)*2**i>=l:\n",
    "                return (int(2**i)*(t-1), int(2**i)*t)\n",
    "flagl = False\n",
    "flagr = False\n",
    "l = L\n",
    "r = R\n",
    "ans = []\n",
    "while not flagl:\n",
    "    tmp = make(l, r)\n",
    "    if tmp[0]==L:\n",
    "        flagl=True\n",
    "        ans.append(tmp)\n",
    "    elif tmp[0]!=L:\n",
    "        r = tmp[0]\n",
    "        ans.append(tmp)\n",
    "l = L\n",
    "r = R\n",
    "while not flagr:\n",
    "    tmp = make(l, r)\n",
    "    if tmp[1]==R:\n",
    "        flagr=True\n",
    "        if tmp not in ans:\n",
    "            ans.append(tmp)\n",
    "    elif tmp[1]!=R:\n",
    "        l = tmp[1]\n",
    "        if tmp not in ans:\n",
    "            ans.append(tmp)\n",
    "ans.sort()\n",
    "print(len(ans))\n",
    "for i in range(len(ans)):\n",
    "    print(*ans[i])\n",
    "\n",
    "        \n"
   ]
  },
  {
   "cell_type": "code",
   "execution_count": 27,
   "id": "7cbe1d06-2f00-4e80-ae36-f3b6bde66d61",
   "metadata": {},
   "outputs": [],
   "source": [
    "A = [ list(map(int, input().split())) for _ in range(3) ]\n",
    "Aflat = []\n",
    "for i in range(3):\n",
    "    for j in range(3):\n",
    "        Aflat.append((A[i][j], i*3+j))\n",
    "Aflat.sort()\n",
    "A\n",
    "r1 = 0\n",
    "r2 = 0\n",
    "r3 = 0\n",
    "c1 = 0\n",
    "c2 = 0\n",
    "c3 = 0\n",
    "n1 = 0\n",
    "n2 = 0\n",
    "flag = [False]*9\n",
    "for i in range(9):\n",
    "    if r1!=2 and r2!=2 and r3!=2 and c1!=2 and c2!=2 and c3!=2 and n1!=2 and n2!=2:\n",
    "        for j in range(9):\n",
    "            if not flag[j]:\n",
    "                if i%2==0:\n",
    "                    T += Aflat[j][0]\n",
    "                    flag[j]=True\n",
    "                    \n",
    "                    break\n",
    "                else:\n",
    "                    Aoki += Aflat[j][0]\n",
    "                    flag[j]=True\n",
    "                    break\n",
    "    elif r1==2:\n",
    "        for j in range(3):\n",
    "            if not flag[j]:\n",
    "                idx = j\n",
    "                break\n",
    "        if i%2==0:\n",
    "            T += Aflat[idx][0]\n",
    "            flag[j]=True\n",
    "        else:\n",
    "            Aoki += Aflat[idx][0]\n",
    "            flag[j]=True\n",
    "    elif r2==2:\n",
    "        for j in range(3, 6):\n",
    "            if not flag[j]:\n",
    "                idx = j\n",
    "                break\n",
    "        if i%2==0:\n",
    "            T += Aflat[idx][0]\n",
    "            flag[j]=True\n",
    "        else:\n",
    "            Aoki += Aflat[idx][0]\n",
    "            flag[j]=True\n",
    "    elif r3==2:\n",
    "        for j in range(6, 9):\n",
    "            if not flag[j]:\n",
    "                idx = j\n",
    "                break\n",
    "        if i%2==0:\n",
    "            T += Aflat[idx][0]\n",
    "            flag[j]=True\n",
    "        else:\n",
    "            Aoki += Aflat[idx][0]\n",
    "            flag[j]=True\n",
    "    elif c1==2:\n",
    "        for j in [0, 3, 6]:\n",
    "            if not flag[j]:\n",
    "                idx = j\n",
    "                break\n",
    "        if i%2==0:\n",
    "            T += Aflat[idx][0]\n",
    "            flag[j]=True\n",
    "        else:\n",
    "            Aoki += Aflat[idx][0]\n",
    "            flag[j]=True    \n",
    "    elif c2==2:\n",
    "        for j in [1, 4, 7]:\n",
    "            if not flag[j]:\n",
    "                idx = j\n",
    "                break\n",
    "        if i%2==0:\n",
    "            T += Aflat[idx][0]\n",
    "            flag[j]=True\n",
    "        else:\n",
    "            Aoki += Aflat[idx][0]\n",
    "            flag[j]=True\n",
    "    elif c3==2:\n",
    "        for j in [2, 5, 8]:\n",
    "            if not flag[j]:\n",
    "                idx = j\n",
    "                break\n",
    "        if i%2==0:\n",
    "            T += Aflat[idx][0]\n",
    "            flag[j]=True\n",
    "        else:\n",
    "            Aoki += Aflat[idx][0]\n",
    "            flag[j]=True\n",
    "    elif n1==2:\n",
    "        for j in [0, 4, 8]:\n",
    "            if not flag[j]:\n",
    "                idx = j\n",
    "                break\n",
    "        if i%2==0:\n",
    "            T += Aflat[idx][0]\n",
    "            flag[j]=True\n",
    "        else:\n",
    "            Aoki += Aflat[idx][0]\n",
    "            flag[j]=True "
   ]
  },
  {
   "cell_type": "code",
   "execution_count": 34,
   "id": "a77a6f13-8c22-4025-8fdc-01e9174ae09b",
   "metadata": {
    "tags": []
   },
   "outputs": [
    {
     "name": "stdout",
     "output_type": "stream",
     "text": [
      "362880\n"
     ]
    }
   ],
   "source": [
    "ans = 1\n",
    "for i in range(1, 10):\n",
    "    ans *=i\n",
    "print(ans)"
   ]
  },
  {
   "cell_type": "code",
   "execution_count": 37,
   "id": "930dbc2d-dc26-4a5a-8968-6ddf6dc8f1bb",
   "metadata": {
    "tags": []
   },
   "outputs": [],
   "source": [
    "A = [(1, 2), (2, 1), (0, 1)]\n",
    "A.sort()"
   ]
  },
  {
   "cell_type": "code",
   "execution_count": 41,
   "id": "5d15321e-8885-40bd-98b6-c7f377fe3325",
   "metadata": {
    "tags": []
   },
   "outputs": [
    {
     "name": "stdout",
     "output_type": "stream",
     "text": [
      "実行時間: 4.433239936828613 秒\n"
     ]
    }
   ],
   "source": [
    "import time\n",
    "\n",
    "start_time = time.time()  # 計測開始\n",
    "\n",
    "# 実行したいコード\n",
    "for i in range(int(1e8)):\n",
    "    pass\n",
    "\n",
    "end_time = time.time()  # 計測終了\n",
    "print(f\"実行時間: {end_time - start_time} 秒\")"
   ]
  },
  {
   "cell_type": "code",
   "execution_count": 53,
   "id": "853b8c88-0b36-46ca-837f-6ab6d4be3536",
   "metadata": {
    "tags": []
   },
   "outputs": [
    {
     "name": "stdin",
     "output_type": "stream",
     "text": [
      " 4 3\n",
      " 1 2 314\n",
      " 1 3 159\n",
      " 1 4 265\n"
     ]
    },
    {
     "name": "stdout",
     "output_type": "stream",
     "text": [
      "265\n",
      "893\n",
      "583\n",
      "265\n"
     ]
    }
   ],
   "source": [
    "import heapq\n",
    "N, M = map(int, input().split())\n",
    "edges = [ list(map(int, input().split())) for _ in range(M) ]\n",
    "G = [ list() for _ in range(N) ]\n",
    "for i in range(M):\n",
    "    a, b, c = edges[i]\n",
    "    G[a-1].append((b-1, c))\n",
    "    G[b-1].append((a-1, c))\n",
    "\n",
    "# 1からkまでの距離を求める\n",
    "inf = int(1e18)\n",
    "done = [False]*N\n",
    "dist = [inf]*N\n",
    "dist[0]=0\n",
    "que = []\n",
    "heapq.heappush(que, (dist[0], 0))\n",
    "def dyc(s):\n",
    "    done = [False]*N\n",
    "    dist = [inf]*N\n",
    "    dist[s]=0\n",
    "    que = []\n",
    "    heapq.heappush(que, (dist[s], s))\n",
    "    \n",
    "    while len(que)>0:\n",
    "        pos = heapq.heappop(que)[1]\n",
    "        if done[pos]:\n",
    "            continue\n",
    "        done[pos] = True\n",
    "        for nex, c in G[pos]:\n",
    "            if dist[nex]>dist[pos]+c:\n",
    "                dist[nex] = dist[pos]+c\n",
    "                heapq.heappush(que, (dist[nex], nex))\n",
    "    return dist\n",
    "whole_dist = []\n",
    "for i in [0, N-1]:\n",
    "    dist = dyc(i)\n",
    "    whole_dist.append(dist)\n",
    "    \n",
    "for i in range(N):\n",
    "    res = whole_dist[0][i]+whole_dist[1][i]\n",
    "    print(res)"
   ]
  },
  {
   "cell_type": "code",
   "execution_count": 9,
   "id": "30668802-427b-4755-b2de-005b60507874",
   "metadata": {
    "tags": []
   },
   "outputs": [
    {
     "name": "stdin",
     "output_type": "stream",
     "text": [
      " 998244353\n",
      " 314159 265358 97932\n"
     ]
    },
    {
     "name": "stdout",
     "output_type": "stream",
     "text": [
      "3333\n"
     ]
    }
   ],
   "source": [
    "import math\n",
    "N = int(input())\n",
    "A, B, C = map(int, input().split())\n",
    "ans = int(1e18)\n",
    "coins = [A, B, C]\n",
    "coins.sort(reverse=True)\n",
    "for a in range(0, N+1, coins[0]):\n",
    "    tmp1 = a\n",
    "    for b in range(0, N+1, coins[1]):\n",
    "        tmp2 = b\n",
    "        r = N-tmp1-tmp2\n",
    "        if r<0:\n",
    "            break\n",
    "        elif r%coins[2]==0:\n",
    "            ans = min(ans, a//coins[0]+b//coins[1]+r//coins[2])\n",
    "print(ans)"
   ]
  },
  {
   "cell_type": "code",
   "execution_count": null,
   "id": "75579d95-cec4-4012-9b5e-1b82df1f3d5f",
   "metadata": {},
   "outputs": [],
   "source": [
    "import copy\n",
    "H, W = map(int, input().split())\n",
    "A = [ list(input()) for _ in range(H) ]\n",
    "B = [ list(input()) for _ in range(H) ]\n",
    "def tate(array):\n",
    "    new = copy.deepcopy(array)\n",
    "    for column in range(W):\n",
    "        for i in range(H):\n",
    "            if i==H-1:\n",
    "                new[i][column] = array[0][column]\n",
    "            else:\n",
    "                new[i][column] = array[i+1][column]\n",
    "    return new\n",
    "def yoko(array):\n",
    "    new = copy.deepcopy(array)\n",
    "    for row in range(H):\n",
    "        for i in range(W):\n",
    "            if i==W-1:\n",
    "                new[row][i] = array[row][0]\n",
    "            else:\n",
    "                new[row][i] = array[row][i+1]\n",
    "    return new\n",
    "new = A\n",
    "ans = \"No\"\n",
    "for i in range(H):\n",
    "    new = A.copy()\n",
    "    t = 0\n",
    "    while t!=i:\n",
    "        new = tate(new)\n",
    "        t+=1\n",
    "    for j in range(W):\n",
    "        new2 = new\n",
    "        s = 0\n",
    "        while s!=j:\n",
    "            new2 = yoko(new2)\n",
    "            s+=1\n",
    "        if new2==B:\n",
    "            ans = \"Yes\"\n",
    "            break\n",
    "print(ans)"
   ]
  },
  {
   "cell_type": "code",
   "execution_count": 42,
   "id": "fd813fd3-3fcd-47fd-aeb1-2c372ac4a91e",
   "metadata": {
    "tags": []
   },
   "outputs": [
    {
     "name": "stdin",
     "output_type": "stream",
     "text": [
      " 777\n"
     ]
    },
    {
     "name": "stdout",
     "output_type": "stream",
     "text": [
      "983210\n"
     ]
    }
   ],
   "source": [
    "K = int(input())\n",
    "L = []\n",
    "c = [0, 1, 2, 3, 4, 5, 6, 7, 8, 9]\n",
    "for i in range(1, 1<<10):\n",
    "    tmp = []\n",
    "    for j in range(10):\n",
    "        if i>>j&1:\n",
    "            tmp.append(c[j])\n",
    "    tmp.sort(reverse=True)\n",
    "    t = int(\"\".join(map(str, tmp)))\n",
    "    L.append(t)\n",
    "L.sort()\n",
    "print(L[K])\n",
    "    "
   ]
  },
  {
   "cell_type": "code",
   "execution_count": 5,
   "id": "7242da0e-af8e-4b33-981b-40d415b8ad84",
   "metadata": {},
   "outputs": [
    {
     "name": "stdin",
     "output_type": "stream",
     "text": [
      " aaaa\n",
      " aa\n"
     ]
    },
    {
     "name": "stdout",
     "output_type": "stream",
     "text": [
      "No\n"
     ]
    }
   ],
   "source": [
    "S = input()\n",
    "T = input()\n",
    "ans = \"Yes\"\n",
    "if len(S)>len(T):\n",
    "    ans = \"No\"\n",
    "else:\n",
    "    for i in range(len(S)):\n",
    "        if S[i]!=T[i]:\n",
    "            ans = \"No\"\n",
    "            break\n",
    "print(ans)"
   ]
  },
  {
   "cell_type": "code",
   "execution_count": 8,
   "id": "36492c37-6c31-4931-a464-602bd5e73b1f",
   "metadata": {
    "tags": []
   },
   "outputs": [
    {
     "name": "stdin",
     "output_type": "stream",
     "text": [
      " 10\n",
      " 32 6 46 9 37 8 33 14 31 5\n",
      " 5 5\n",
      " 3 1\n",
      " 4 3\n",
      " 2 2\n",
      " 3 2\n",
      " 3 2\n",
      " 4 4\n",
      " 3 3\n",
      " 3 1\n"
     ]
    },
    {
     "name": "stdout",
     "output_type": "stream",
     "text": [
      "45\n"
     ]
    }
   ],
   "source": [
    "N = int(input())\n",
    "A = list(map(int, input().split()))\n",
    "dic = {}\n",
    "now = 0\n",
    "for i in range(N-1):\n",
    "    s, t = map(int, input().split())\n",
    "    now += A[i]\n",
    "    if now>=s:\n",
    "        now = now//s*t\n",
    "    else:\n",
    "        now = 0\n",
    "now += A[-1]\n",
    "print(now)\n",
    "        "
   ]
  },
  {
   "cell_type": "code",
   "execution_count": null,
   "id": "b2db1061-1855-4bd3-8299-9867b4d0b2b8",
   "metadata": {
    "tags": []
   },
   "outputs": [],
   "source": [
    "# デイリートレーニングより、尺取り法\n",
    "N, X = map(int, input().split())\n",
    "A = list(map(int, input().split()))\n",
    "l = 0\n",
    "r = 0\n",
    "A.sort()\n",
    "ans = \"No\"\n",
    "for l in range(N):\n",
    "    while r<N and A[r]-A[l]<X:\n",
    "        r += 1\n",
    "    if r<N and A[r]-A[l]==X:\n",
    "        ans = \"Yes\"\n",
    "        break\n",
    "\n",
    "print(ans)"
   ]
  },
  {
   "cell_type": "code",
   "execution_count": 41,
   "id": "63b4e53b-e067-41c4-93dd-4e1de8e39498",
   "metadata": {
    "tags": []
   },
   "outputs": [
    {
     "name": "stdin",
     "output_type": "stream",
     "text": [
      " 3\n",
      " 2 7 6\n"
     ]
    },
    {
     "name": "stdout",
     "output_type": "stream",
     "text": [
      "-1\n"
     ]
    }
   ],
   "source": [
    "from math import gcd\n",
    "from functools import reduce\n",
    "\n",
    "N = int(input())\n",
    "a = list(map(int, input().split()))\n",
    "\n",
    "g = reduce(gcd, a)    \n",
    "ans = 0\n",
    "for i in range(N):\n",
    "    a[i] //= g  \n",
    "    while a[i] % 2 == 0:\n",
    "        a[i] //= 2\n",
    "        ans += 1\n",
    "    while a[i] % 3 == 0:\n",
    "        a[i] //= 3\n",
    "        ans += 1\n",
    "    if a[i] != 1:\n",
    "        ans = -1\n",
    "        break     \n",
    "    \n",
    "print(ans)"
   ]
  },
  {
   "cell_type": "code",
   "execution_count": 44,
   "id": "ffd2181c-ddda-4129-801c-d01e8afc9cac",
   "metadata": {},
   "outputs": [
    {
     "name": "stdin",
     "output_type": "stream",
     "text": [
      " 10 12\n"
     ]
    },
    {
     "name": "stdout",
     "output_type": "stream",
     "text": [
      "6\n"
     ]
    }
   ],
   "source": [
    "A, B = map(int, input().split())\n",
    "for i in range(256):\n",
    "    if A ^ i == B:\n",
    "        print(i)\n",
    "        break"
   ]
  },
  {
   "cell_type": "code",
   "execution_count": 54,
   "id": "d6285a42-6e68-4a68-a442-35b8482d2592",
   "metadata": {
    "tags": []
   },
   "outputs": [
    {
     "name": "stdin",
     "output_type": "stream",
     "text": [
      " 1000000000 1000000000 10\n",
      " 1 1\n",
      " 10 10\n",
      " 100 100\n",
      " 1000 1000\n",
      " 10000 10000\n",
      " 100000 100000\n",
      " 1000000 1000000\n",
      " 10000000 10000000\n",
      " 100000000 100000000\n",
      " 1000000000 1000000000\n"
     ]
    },
    {
     "name": "stdout",
     "output_type": "stream",
     "text": [
      "1 1\n",
      "2 2\n",
      "3 3\n",
      "4 4\n",
      "5 5\n",
      "6 6\n",
      "7 7\n",
      "8 8\n",
      "9 9\n",
      "10 10\n"
     ]
    }
   ],
   "source": [
    "import heapq\n",
    "N = int(input())\n",
    "edges = [ list(map(int, input().split())) for _ in range(N-1) ]\n",
    "G = [ list() for _ in range(N) ]\n",
    "for a, b in edges:\n",
    "    G[a-1].append(b-1)\n",
    "    G[b-1].append(a-1)\n",
    "visited = [False]*N\n",
    "def dfs(pos):\n",
    "    if pos==0 and visited[0]:\n",
    "        \n",
    "    visited[pos] = True\n",
    "    for i in G[pos]:\n",
    "        if visited[i]==False:\n",
    "            dfs(i, visited, G)"
   ]
  },
  {
   "cell_type": "code",
   "execution_count": 7,
   "id": "e83a2ccc-9b6d-4efd-ad74-7ee2cd79d525",
   "metadata": {
    "tags": []
   },
   "outputs": [
    {
     "name": "stdin",
     "output_type": "stream",
     "text": [
      " ABC099\n"
     ]
    },
    {
     "name": "stdout",
     "output_type": "stream",
     "text": [
      "Yes\n"
     ]
    }
   ],
   "source": [
    "S = input()\n",
    "ans = \"No\"\n",
    "for i in range(1, 350):\n",
    "    if len(str(i))<3:\n",
    "        tmp = (3-(len(str(i))))*\"0\"+str(i)\n",
    "    else:\n",
    "        tmp = str(i)\n",
    "    if S[3:]==tmp:\n",
    "        ans = \"Yes\"\n",
    "        break\n",
    "if S[3:]==\"316\":\n",
    "    ans = \"No\"\n",
    "print(ans)"
   ]
  },
  {
   "cell_type": "code",
   "execution_count": 11,
   "id": "7135924c-e7f8-42d3-be17-29de492d495e",
   "metadata": {},
   "outputs": [
    {
     "name": "stdin",
     "output_type": "stream",
     "text": [
      " 9 20\n",
      " 9 5 1 2 2 2 8 9 2 1 6 2 6 5 8 7 8 5 9 8\n"
     ]
    },
    {
     "name": "stdout",
     "output_type": "stream",
     "text": [
      "5\n"
     ]
    }
   ],
   "source": [
    "N, Q = map(int, input().split())\n",
    "flag = [True]*N\n",
    "T = list(map(int, input().split()))\n",
    "for i in range(Q):\n",
    "    flag[T[i]-1] = not flag[T[i]-1]\n",
    "print(sum(flag))\n",
    "N         \n"
   ]
  },
  {
   "cell_type": "code",
   "execution_count": 75,
   "id": "b0e95b6a-065a-4613-896c-5c0894239e8e",
   "metadata": {
    "tags": []
   },
   "outputs": [
    {
     "name": "stdin",
     "output_type": "stream",
     "text": [
      " 5\n",
      " 3 5 4 1 2\n"
     ]
    },
    {
     "name": "stdout",
     "output_type": "stream",
     "text": [
      "1 3\n",
      "2 5\n",
      "3 4\n",
      "1 4\n",
      "2 5\n"
     ]
    }
   ],
   "source": [
    "N = int(input())\n",
    "A = list(map(int, input().split()))\n",
    "ans = []\n",
    "dic = {}\n",
    "B = [0]*N\n",
    "M = [i for i in range(1, N+1)]\n",
    "for i in range(1, N+1):\n",
    "    dic[i] = False\n",
    "for i in range(N):\n",
    "    if A[i]!=M[i]:\n",
    "        if A[i]>M[i]:\n",
    "            ans.append((M[i], A[i]))\n",
    "\n",
    "        else:\n",
    "            ans.append((A[i], M[i]))\n",
    "\n",
    "            \n",
    "if len(ans)==0:\n",
    "    print(0)\n",
    "else:\n",
    "    for i in range(len(ans)):\n",
    "        print(*ans[i])"
   ]
  },
  {
   "cell_type": "code",
   "execution_count": 11,
   "id": "110a382e-3d89-4180-964c-bea4fe2afeec",
   "metadata": {
    "tags": []
   },
   "outputs": [
    {
     "name": "stdin",
     "output_type": "stream",
     "text": [
      " 5 5\n",
      " 1 2\n",
      " 2 3\n",
      " 3 4\n",
      " 4 5\n",
      " 1 5\n"
     ]
    },
    {
     "name": "stdout",
     "output_type": "stream",
     "text": [
      "5\n"
     ]
    }
   ],
   "source": [
    "N, M = map(int, input().split())\n",
    "edges = [ list(map(int, input().split())) for _ in range(M)]\n",
    "\n",
    "class unionfind:\n",
    "    def __init__(self, n):\n",
    "        self.n = n\n",
    "        self.par = [-1] * (n)\n",
    "        self.size = [1] * (n)\n",
    "        \n",
    "    def root(self, x):\n",
    "        while self.par[x] != -1:\n",
    "            x = self.par[x]\n",
    "        return x\n",
    "    \n",
    "    def unite(self, u, v):\n",
    "        rootu = self.root(u)\n",
    "        rootv = self.root(v)\n",
    "        if rootu != rootv:\n",
    "            if self.size[rootu] < self.size[rootv]:\n",
    "                self.par[rootu] = rootv\n",
    "                self.size[rootv] += self.size[rootu]\n",
    "            else:\n",
    "                self.par[rootv] = rootu\n",
    "                self.size[rootu] += self.size[rootv]\n",
    "        \n",
    "    def same(self, u, v):\n",
    "        return self.root(u) == self.root(v)\n",
    "    \n",
    "\n",
    "uf = unionfind(N)\n",
    "for a, b in edges:\n",
    "    uf.unite(a-1, b-1)\n",
    "dic = {}\n",
    "ans = 0\n",
    "for i in range(N):\n",
    "    par = uf.par[i]\n",
    "    size = uf.size[i]\n",
    "    if par==-1:\n",
    "        ans += size*(size-1)//2\n",
    "ans -= M\n",
    "\n",
    "print(ans)"
   ]
  },
  {
   "cell_type": "code",
   "execution_count": 18,
   "id": "6a78a391-a062-4341-8b08-57344867c159",
   "metadata": {
    "tags": []
   },
   "outputs": [
    {
     "name": "stdin",
     "output_type": "stream",
     "text": [
      " 8\n",
      " 84 87 78 16 94 36 87 93\n",
      " 50 22 63 28 91 60 64 27\n"
     ]
    },
    {
     "name": "stdout",
     "output_type": "stream",
     "text": [
      "50\n",
      "22\n",
      "63\n",
      "28\n",
      "44\n",
      "60\n",
      "64\n",
      "27\n"
     ]
    }
   ],
   "source": [
    "import math\n",
    "N = int(input())\n",
    "S = list(map(int, input().split()))\n",
    "T = list(map(int, input().split()))\n",
    "\n",
    "# Sm = list(accumulate(S))\n",
    "ans = []\n",
    "s = T.index(min(T))\n",
    "\n",
    "order = [ i for i in range(s, N)] + [j for j in range(s)]\n",
    "time = 0\n",
    "for p in order:\n",
    "    if p==s:\n",
    "        tmp=T[p]\n",
    "        ans.append(tmp)\n",
    "    elif p!=0:\n",
    "        time = ans[-1]+S[p-1]\n",
    "        tmp = min(T[p], time)\n",
    "        ans.append(tmp)\n",
    "    elif p==0:\n",
    "        time = ans[-1]+S[N-1]\n",
    "        tmp = min(T[p], time)\n",
    "        ans.append(tmp)\n",
    "ans = ans[N-s:]+ans[:N-s]\n",
    "for i in range(N):\n",
    "    print(ans[i])"
   ]
  },
  {
   "cell_type": "code",
   "execution_count": 3,
   "id": "e7407609-74f4-4aa6-b722-9c32f0531c5e",
   "metadata": {
    "tags": []
   },
   "outputs": [
    {
     "name": "stdin",
     "output_type": "stream",
     "text": [
      " 10\n",
      " 314159265 358979323 846264338 -327950288 419716939 -937510582 97494459 230781640 628620899 -862803482\n"
     ]
    },
    {
     "name": "stdout",
     "output_type": "stream",
     "text": [
      "314159265 44820058 487285015 -1174214626 747667227 -1357227521 1035005041 133287181 397839259 -1491424381\n"
     ]
    }
   ],
   "source": [
    "N = int(input())\n",
    "S = list(map(int, input().split()))\n",
    "ans = []\n",
    "for i in range(N):\n",
    "    if i==0:\n",
    "        ans.append(S[0])\n",
    "    else:\n",
    "        tmp = S[i]-S[i-1]\n",
    "        ans.append(tmp)\n",
    "print(*ans)"
   ]
  },
  {
   "cell_type": "code",
   "execution_count": null,
   "id": "853518a8-ff45-470d-891b-7913ec732bc2",
   "metadata": {
    "tags": []
   },
   "outputs": [],
   "source": [
    "s=list(input())\n",
    "box=set()\n",
    "alpha=[[]]\n",
    "for i in range(len(s)):\n",
    "    ss=s[i]\n",
    "    if ss!=\"(\" and ss!=\")\":\n",
    "        if ss in box:\n",
    "            print(\"No\")\n",
    "            exit()\n",
    "        box.add(ss)\n",
    "        alpha[-1].append(ss)\n",
    "    elif ss==\"(\":\n",
    "        alpha.append([])\n",
    "    else:\n",
    "        for subs in alpha.pop():\n",
    "            box.discard(subs)\n",
    "print(\"Yes\")\n",
    "        \n",
    "    "
   ]
  },
  {
   "cell_type": "code",
   "execution_count": 49,
   "id": "eb1cfd0e-0149-4a90-ac2f-568e5d71b7d3",
   "metadata": {
    "tags": []
   },
   "outputs": [
    {
     "data": {
      "text/plain": [
       "3"
      ]
     },
     "execution_count": 49,
     "metadata": {},
     "output_type": "execute_result"
    }
   ],
   "source": [
    "import heapq\n",
    "\n",
    "N = int(input())\n",
    "edges = [ list(map(int, input().split())) for _ in range(N-1) ]\n"
   ]
  },
  {
   "cell_type": "code",
   "execution_count": 41,
   "id": "99b1a2db-acfd-43bd-b758-bc24606a20d3",
   "metadata": {
    "tags": []
   },
   "outputs": [
    {
     "data": {
      "text/plain": [
       "[0]"
      ]
     },
     "execution_count": 41,
     "metadata": {},
     "output_type": "execute_result"
    }
   ],
   "source": [
    "cnt"
   ]
  },
  {
   "cell_type": "code",
   "execution_count": 17,
   "id": "811aabeb-a59f-4000-b554-89b4910e0924",
   "metadata": {
    "tags": []
   },
   "outputs": [
    {
     "name": "stdin",
     "output_type": "stream",
     "text": [
      " 6\n",
      " 1 -1 2 -2 3 4\n"
     ]
    },
    {
     "name": "stdout",
     "output_type": "stream",
     "text": [
      "3\n"
     ]
    }
   ],
   "source": [
    "from itertools import accumulate\n",
    "import math\n",
    "N = int(input())\n",
    "A = list(map(int, input().split()))\n",
    "T = list(accumulate(A))\n",
    "dic = {}\n",
    "ans = 0\n",
    "dic[0]=1\n",
    "for i in range(N):\n",
    "    if T[i] not in dic:\n",
    "        dic[T[i]] = 1\n",
    "    else:\n",
    "        dic[T[i]] += 1\n",
    "\n",
    "for key in dic.keys():\n",
    "    t = dic[key]\n",
    "    ans += t*(t-1)//2\n",
    "print(ans)"
   ]
  },
  {
   "cell_type": "code",
   "execution_count": 72,
   "id": "68412e40-d8c4-4833-9f89-6f3c0bffa0b4",
   "metadata": {
    "tags": []
   },
   "outputs": [
    {
     "name": "stdin",
     "output_type": "stream",
     "text": [
      " 4 4\n",
      " ###.\n",
      " ##.#\n",
      " ..##\n",
      " ..##\n"
     ]
    },
    {
     "name": "stdout",
     "output_type": "stream",
     "text": [
      "impossible\n"
     ]
    }
   ],
   "source": [
    "H, W = map(int, input().split())\n",
    "S = [ list(input()) for _ in range(H) ]\n",
    "hh = [-1, 0, 1]\n",
    "ww = [-1, 0, 1]\n",
    "def count(S, s, t):\n",
    "    res = True\n",
    "    for h in hh:\n",
    "        if s+h<0 or s+h>=H:\n",
    "            continue\n",
    "        for w in ww:\n",
    "            if w+t<0 or w+t>=W:\n",
    "                continue\n",
    "            if S[s+h][t+w]==\".\":\n",
    "                return False\n",
    "    return res\n",
    "\n",
    "def rcount(S, s, t):\n",
    "    res = False\n",
    "    for h in hh:\n",
    "        if s+h<0 or s+h>=H:\n",
    "            continue\n",
    "        for w in ww:\n",
    "            if w+t<0 or w+t>=W:\n",
    "                continue\n",
    "            if S[s+h][t+w]==\"#\":\n",
    "                return True\n",
    "    return res\n",
    "cand = [ [\".\"]*W for _ in range(H) ]\n",
    "for i in range(H):\n",
    "    for j in range(W):\n",
    "        if count(S, i, j):\n",
    "            cand[i][j]=\"#\"\n",
    "orig = [ [\".\"]*W for _ in range(H) ]\n",
    "for i in range(H):\n",
    "    for j in range(W):\n",
    "        if rcount(cand, i, j):\n",
    "            orig[i][j]=\"#\"\n",
    "            \n",
    "if orig==S:\n",
    "    print(\"possible\")\n",
    "    for i in range(H):\n",
    "        print(\"\".join(map(str, cand[i])))\n",
    "else:\n",
    "    print(\"impossible\")"
   ]
  },
  {
   "cell_type": "code",
   "execution_count": 124,
   "id": "840c9dbb-ad45-42ca-80f4-911cb2924851",
   "metadata": {
    "tags": []
   },
   "outputs": [
    {
     "name": "stdin",
     "output_type": "stream",
     "text": [
      " 4\n",
      " 1 1048577\n",
      " 1 1\n",
      " 2 2097153\n"
     ]
    },
    {
     "name": "stdout",
     "output_type": "stream",
     "text": [
      "1048577\n"
     ]
    },
    {
     "name": "stdin",
     "output_type": "stream",
     "text": [
      " 2 3\n"
     ]
    },
    {
     "name": "stdout",
     "output_type": "stream",
     "text": [
      "-1\n"
     ]
    }
   ],
   "source": [
    "Q = int(input())\n",
    "N = int(2**20)\n",
    "dic = {}\n",
    "for i in range(int(2**20+1)):\n",
    "    dic[i]=i\n",
    "A = [-1]*2**20\n",
    "for i in range(Q):\n",
    "    t, x = map(int, input().split())\n",
    "    h = x%N\n",
    "    if t==1:\n",
    "        if dic[h]==h:\n",
    "            dic[h] = (h+1)%N\n",
    "            A[h]=x\n",
    "            # B.discard(x%N)\n",
    "        else:\n",
    "            hh = dic[h]\n",
    "            while dic[hh]!=hh:\n",
    "                dic[hh] = (dic[hh]+2)%N\n",
    "                hh = (hh+1)%N\n",
    "            A[hh]=x\n",
    "            dic[hh] = (hh+1)%N\n",
    "            dic[h]=(hh+1)%N\n",
    "    else:\n",
    "        print(A[h])"
   ]
  },
  {
   "cell_type": "code",
   "execution_count": 132,
   "id": "edbbfcfd-df1d-4d38-82db-ec8ec82d5294",
   "metadata": {
    "tags": []
   },
   "outputs": [
    {
     "name": "stdin",
     "output_type": "stream",
     "text": [
      " 4\n",
      " 1 1048577\n",
      " 1 1\n",
      " 2 2097153\n",
      " 2 3\n"
     ]
    },
    {
     "name": "stdout",
     "output_type": "stream",
     "text": [
      "1048577\n",
      "-1\n"
     ]
    }
   ],
   "source": [
    "from sortedcontainers import SortedSet\n",
    "\n",
    "N = 2 ** 20\n",
    "Q = int(input())\n",
    "queries = [tuple(map(int, input().split())) for _ in range(Q)]\n",
    "\n",
    "A = [-1] * N\n",
    "S = SortedSet(list(range(N)))\n",
    "\n",
    "\n",
    "for t, x in queries:\n",
    "    h = x%N\n",
    "    if t == 1:\n",
    "        idx = S.bisect_left(h) % len(S)\n",
    "        pos = S[idx]        \n",
    "        A[pos] = x\n",
    "        S.discard(pos)\n",
    "    else:\n",
    "        print(A[h])\n"
   ]
  },
  {
   "cell_type": "code",
   "execution_count": 130,
   "id": "8d3f930d-7413-4ea8-b820-409da3eecb9e",
   "metadata": {
    "tags": []
   },
   "outputs": [
    {
     "name": "stdout",
     "output_type": "stream",
     "text": [
      "9\n"
     ]
    },
    {
     "data": {
      "text/plain": [
       "9"
      ]
     },
     "execution_count": 130,
     "metadata": {},
     "output_type": "execute_result"
    }
   ],
   "source": [
    "from sortedcontainers import SortedSet\n",
    "\n",
    "N = 2 ** 20\n",
    "# q = int(input())\n",
    "# Q = [tuple(map(int, input().split())) for _ in range(q)]\n",
    "\n",
    "A = [-1] * N\n",
    "Remain = SortedSet(list(range(N)))\n",
    "t = Remain.bisect_left(9)\n",
    "print(t)\n",
    "Remain.discard(t)\n",
    "t =  Remain.bisect_left(10)\n",
    "t"
   ]
  },
  {
   "cell_type": "code",
   "execution_count": 90,
   "id": "0324811f-4f13-4b9c-9317-1d408a30215c",
   "metadata": {
    "tags": []
   },
   "outputs": [
    {
     "name": "stdin",
     "output_type": "stream",
     "text": [
      " 3 3\n",
      " ..#\n",
      " #..\n",
      " ..#\n"
     ]
    },
    {
     "name": "stdout",
     "output_type": "stream",
     "text": [
      "1\n"
     ]
    }
   ],
   "source": [
    "class unionfind:\n",
    "    def __init__(self, n):\n",
    "        self.n = n\n",
    "        self.par = [-1] * (n+1)\n",
    "        self.size = [1] * (n+1)\n",
    "        \n",
    "    def root(self, x):\n",
    "        while self.par[x] != -1:\n",
    "            x = self.par[x]\n",
    "        return x\n",
    "    \n",
    "    def unite(self, u, v):\n",
    "        rootu = self.root(u)\n",
    "        rootv = self.root(v)\n",
    "        if rootu != rootv:\n",
    "            if self.size[rootu] < self.size[rootv]:\n",
    "                self.par[rootu] = rootv\n",
    "                self.size[rootv] += self.size[rootu]\n",
    "            else:\n",
    "                self.par[rootv] = rootu\n",
    "                self.size[rootu] += self.size[rootv]\n",
    "        \n",
    "    def same(self, u, v):\n",
    "        return self.root(u) == self.root(v)\n",
    "\n",
    "H, W = map(int, input().split())\n",
    "S = [ list(input()) for _ in range(H) ]\n",
    "hw = [(-1, 0), (1, 0), (0, -1), (0, 1)]\n",
    "container = set()\n",
    "for h in range(H):\n",
    "    for w in range(W):\n",
    "        if S[h][w]==\"#\":\n",
    "            for i, j in hw:\n",
    "                if 0<=h+i<H and 0<=w+j<W:\n",
    "                    if S[h+i][w+j]==\".\":\n",
    "                        S[h+i][w+j]=\"-\"\n",
    "                        container.add(W*(h+i)+w+j)\n",
    "visited = [[False]*W for _ in range(H)]\n",
    "ans = 1\n",
    "uf = unionfind(H*W)\n",
    "cont = set() \n",
    "\n",
    "for h in range(H):\n",
    "    for w in range(W):\n",
    "        n = h*W+w\n",
    "        if S[h][w]==\".\" and not visited[h][w]:\n",
    "            visited[h][w]=True\n",
    "            tmp = set()\n",
    "            que = []\n",
    "            que.append((h, w))\n",
    "            while len(que)>0:\n",
    "                a, b = que.pop()\n",
    "                for i, j in hw:\n",
    "                    if 0<=a+i<H and 0<=b+j<W:\n",
    "                        if S[a+i][b+j]==\"-\":\n",
    "                            tmp.add((a+i)*W+b+j)\n",
    "                        elif S[a+i][b+j]==\".\" and not visited[a+i][b+j]:\n",
    "                            visited[a+i][b+j]=True\n",
    "                            que.append((a+i, b+j))\n",
    "                            uf.unite(n, (a+i)*W+b+j)\n",
    "            ans = max(ans, uf.size[uf.root(n)]+len(tmp))           \n",
    "        \n",
    "print(ans)"
   ]
  },
  {
   "cell_type": "code",
   "execution_count": 110,
   "id": "fe36ecb1-3554-417b-853d-a0b4063e344e",
   "metadata": {
    "tags": []
   },
   "outputs": [
    {
     "name": "stdin",
     "output_type": "stream",
     "text": [
      " 1 100\n"
     ]
    },
    {
     "name": "stdout",
     "output_type": "stream",
     "text": [
      "50\n"
     ]
    }
   ],
   "source": [
    "import math\n",
    "N, M = map(int, input().split())\n",
    "def prime(M):\n",
    "    root = int(math.sqrt(M))+1\n",
    "    container = []\n",
    "    for i in range(2, root):\n",
    "        if M%i==0:\n",
    "            container.append(i)\n",
    "            container.append(M//i)\n",
    "    return container\n",
    "A = prime(M)\n",
    "A.sort()\n",
    "ans = 1\n",
    "for num in A:\n",
    "    if M//num>=N:\n",
    "        ans = num\n",
    "    else:\n",
    "        break\n",
    "if N==1:\n",
    "    ans = M\n",
    "print(ans)"
   ]
  },
  {
   "cell_type": "code",
   "execution_count": null,
   "id": "97ab7683-41ae-4210-b245-ac3b2b08bc33",
   "metadata": {},
   "outputs": [],
   "source": [
    "from collections import defaultdict\n",
    "import heapq\n",
    "\n",
    "N, K = map(int, input().split())\n",
    "A = list(map(int, input().split()))\n",
    "dic = defaultdict(lambda: 0)\n",
    "A.sort(reverse=True)\n",
    "A.append(0)\n",
    "now = 1\n",
    "for num in A:\n",
    "    if num in dic:\n",
    "        dic[num]+=1\n",
    "        now +=1\n",
    "    else:\n",
    "        dic[num] += now\n",
    "        now +=1\n",
    "S = []\n",
    "for i in range(N):\n",
    "    sa = A[i]-A[i+1]\n",
    "    if sa:\n",
    "        S.append(sa)\n",
    "A = list(dic.keys())\n",
    "A.sort(reverse=True)\n",
    "ans = 0\n",
    "time = 0\n",
    "idx1 = 0\n",
    "idx2 = 0\n",
    "ls = len(S)\n",
    "def solve(n, k):\n",
    "    k = max(k, 0)\n",
    "    return n*k-k*(k-1)//2\n",
    "while time!=K:\n",
    "    now = A[idx1]\n",
    "    if dic[now]==1:\n",
    "        s = S[idx2]\n",
    "        if s+time>K:\n",
    "            s = K-time\n",
    "            ans += solve(now, s)\n",
    "            time =K\n",
    "            break\n",
    "        else:\n",
    "            ans += solve(now, s)\n",
    "            time += s\n",
    "        idx1 += 1\n",
    "        idx2 += 1\n",
    "        if idx1>=ls or idx2>=ls:\n",
    "            break\n",
    "    else:\n",
    "        c = dic[A[idx1]]\n",
    "        s = S[idx2]\n",
    "        if s*c+time>K:\n",
    "            s = K-time\n",
    "            sc = s//c\n",
    "            sm = s%c\n",
    "            ans += solve(now, sc)*c\n",
    "            ans += (now-sc)*sm\n",
    "            time = K\n",
    "            break\n",
    "        else:\n",
    "            ans += solve(now, s)*c\n",
    "            time += s*c\n",
    "            idx1+=1\n",
    "            idx2+=1\n",
    "            if idx1>=ls or idx2>=ls:\n",
    "                break\n",
    "        \n",
    "print(ans)"
   ]
  },
  {
   "cell_type": "code",
   "execution_count": null,
   "id": "9c377921-1911-4298-91f0-428d5a7f151b",
   "metadata": {},
   "outputs": [],
   "source": [
    "from sortedcontainers import SortedSet\n",
    "import bisect\n",
    "L, Q = map(int, input().split())\n",
    "C = SortedSet()\n",
    "C.add(L)\n",
    "C.add(0)\n",
    "queries = []\n",
    "for _ in range(Q):\n",
    "    queries.append((map(int, input().split())))\n",
    "for i in range(Q):\n",
    "    c, x = queries[i]\n",
    "    if c==1:\n",
    "        C.add(x)\n",
    "    else:\n",
    "        idx = C.bisect_left(x)\n",
    "        print(C[idx]-C[idx-1])"
   ]
  },
  {
   "cell_type": "code",
   "execution_count": null,
   "id": "db2efa63-6ef6-457d-acea-a485d7d081f8",
   "metadata": {
    "tags": []
   },
   "outputs": [],
   "source": [
    "import heapq\n",
    "from collections import deque\n",
    "from sortedcontainers import SortedSet\n",
    "from collections import defaultdict\n",
    "\n",
    "Q = int(input())\n",
    "queries = []\n",
    "for i in range(Q):\n",
    "    q = input()\n",
    "    if len(q)!=1:\n",
    "        queries.append((int(q[0]), int(q[2:])))\n",
    "    else:\n",
    "        queries.append(int(q[0]))\n",
    "A = deque()\n",
    "B = list()\n",
    "for i in range(Q):\n",
    "    if type(queries[i])==tuple:\n",
    "        _, x = queries[i]\n",
    "        A.append(x)\n",
    "    else:\n",
    "        if queries[i]==2:\n",
    "            if len(B)==0:\n",
    "                a = A.popleft()\n",
    "                print(a)\n",
    "            else:\n",
    "                a = heapq.heappop(B)\n",
    "                print(a)\n",
    "        elif queries[i]==3:\n",
    "            for item in A:\n",
    "                heapq.heappush(B, item)\n",
    "            A = deque()\n",
    "\n"
   ]
  },
  {
   "cell_type": "code",
   "execution_count": 5,
   "id": "d97cd12d-092e-4a32-94d3-c58c501d554b",
   "metadata": {
    "tags": []
   },
   "outputs": [
    {
     "name": "stdin",
     "output_type": "stream",
     "text": [
      " 4\n",
      " 1 1\n",
      " 1 2\n",
      " 2 1\n",
      " 2 2\n"
     ]
    },
    {
     "name": "stdout",
     "output_type": "stream",
     "text": [
      "2\n"
     ]
    }
   ],
   "source": [
    "class unionfind:\n",
    "    def __init__(self, n):\n",
    "        self.n = n\n",
    "        self.par = [-1] * (n)\n",
    "        self.size = [1] * (n)\n",
    "        self.groups = n\n",
    "        \n",
    "    def root(self, x):\n",
    "        while self.par[x] != -1:\n",
    "            x = self.par[x]\n",
    "        return x\n",
    "    \n",
    "    def unite(self, u, v):\n",
    "        self.groups -= 1\n",
    "        rootu = self.root(u)\n",
    "        rootv = self.root(v)\n",
    "        if rootu != rootv:\n",
    "            if self.size[rootu] < self.size[rootv]:\n",
    "                self.par[rootu] = rootv\n",
    "                self.size[rootv] += self.size[rootu]\n",
    "            else:\n",
    "                self.par[rootv] = rootu\n",
    "                self.size[rootu] += self.size[rootv]\n",
    "        \n",
    "    def same(self, u, v):\n",
    "        return self.root(u) == self.root(v)\n",
    "        \n",
    "N = int(input())\n",
    "XY = [None]*N\n",
    "for i in range(N):\n",
    "    XY[i] = tuple(map(int, input().split()))\n",
    "    \n",
    "if N == 1:\n",
    "    print(1)\n",
    "    exit()\n",
    "\n",
    "def calc(a, b):\n",
    "    uf= unionfind(N)\n",
    "    for i in range(N):\n",
    "        for j in range(N):\n",
    "            da = XY[i][0] - XY[j][0]\n",
    "            db = XY[i][1] - XY[j][1]\n",
    "            if a == da and b == db:\n",
    "                uf.unite(i, j)\n",
    "    cnt = uf.groups   \n",
    "    return cnt\n",
    "\n",
    "ans = int(1e18)\n",
    "for i in range(N-1):\n",
    "    for j in range(i+1, N):\n",
    "        a = XY[i][0] - XY[j][0]\n",
    "        b = XY[i][1] - XY[j][1]\n",
    "        cnt = calc(a, b)\n",
    "        ans = min(ans, cnt)\n",
    "\n",
    "print(ans)"
   ]
  },
  {
   "cell_type": "code",
   "execution_count": 3,
   "id": "1b2c2639-78f1-447f-b732-ab4bb44a010e",
   "metadata": {
    "tags": []
   },
   "outputs": [
    {
     "name": "stdin",
     "output_type": "stream",
     "text": [
      " 1\n",
      " c\n",
      " v\n"
     ]
    },
    {
     "name": "stdout",
     "output_type": "stream",
     "text": [
      "-1\n"
     ]
    }
   ],
   "source": [
    "import sys\n",
    "from collections import defaultdict\n",
    "sys.setrecursionlimit(10**8)\n",
    "N = int(input())\n",
    "S = input()\n",
    "T = input()\n",
    "dics = {}\n",
    "dic = {}\n",
    "sidx = 0\n",
    "idx = 0\n",
    "idx2 = 0\n",
    "top = T[0]\n",
    "def chta(a):\n",
    "    return ord(a)-ord(\"a\")\n",
    "for i in range(N):\n",
    "    s = chta(S[i])\n",
    "    t = chta(T[i])\n",
    "    if s not in dics:\n",
    "        dics[s]=1\n",
    "    else:\n",
    "        dics[s]+=1\n",
    "    if t not in dic:\n",
    "        dic[t]=1\n",
    "    else:\n",
    "        dic[t]+=1\n",
    "    if S[i]==top:\n",
    "        idx = i\n",
    "    if T[idx2]==S[i]:\n",
    "        idx2 += 1\n",
    "    else:\n",
    "        idx2 = 0\n",
    "\n",
    "c = 0\n",
    "for i in reversed(range(N)):\n",
    "    if T[i]==S[N-1-c]:\n",
    "        c += 1\n",
    "ans = N-c\n",
    "for key in dics.keys():\n",
    "    if key not in dic.keys() or dics[key]!=dic[key]:\n",
    "        ans = -1\n",
    "print(ans)"
   ]
  },
  {
   "cell_type": "code",
   "execution_count": 32,
   "id": "4a5792f7-13da-492c-815d-970533a5242a",
   "metadata": {
    "tags": []
   },
   "outputs": [
    {
     "name": "stdin",
     "output_type": "stream",
     "text": [
      " 8\n",
      " 1 3\n",
      " 1 2\n",
      " 3\n",
      " 1 2\n",
      " 1 7\n",
      " 3\n",
      " 2 2 3\n",
      " 3\n"
     ]
    },
    {
     "name": "stdout",
     "output_type": "stream",
     "text": [
      "1\n",
      "5\n",
      "4\n"
     ]
    }
   ],
   "source": [
    "from collections import defaultdict\n",
    "from sortedcontainers import SortedSet\n",
    "Q = int(input())\n",
    "queries = []\n",
    "for i in range(Q):\n",
    "    q = list(map(int, input().split()))\n",
    "    queries.append(q)\n",
    "C = SortedSet()\n",
    "dic = defaultdict(lambda: 0)\n",
    "for q in queries:\n",
    "    if q[0]==1:\n",
    "        q.append(q[1])\n",
    "        dic[q[1]] += 1\n",
    "        C.add(q[1])\n",
    "    elif q[0]==2:\n",
    "        t = dic[q[1]]\n",
    "        dic[q[1]] -= min(q[2], t)\n",
    "        if dic[q[1]]==0:\n",
    "            C.discard(q[1])\n",
    "    elif q[0]==3:\n",
    "        print(C[-1]-C[0])\n",
    "\n"
   ]
  },
  {
   "cell_type": "code",
   "execution_count": 29,
   "id": "5bc7d043-dd5f-4329-9ce4-1dc0bf058e0e",
   "metadata": {
    "tags": []
   },
   "outputs": [
    {
     "data": {
      "text/plain": [
       "1"
      ]
     },
     "execution_count": 29,
     "metadata": {},
     "output_type": "execute_result"
    }
   ],
   "source": [
    "N, Q = map(int, input().split())\n",
    "\n",
    "\n",
    "class unionfind:\n",
    "    def __init__(self, n):\n",
    "        self.n = n\n",
    "        self.par = [-1] * (n+1)\n",
    "        self.size = [1] * (n+1)\n",
    "        \n",
    "    def root(self, x):\n",
    "        while self.par[x] != -1:\n",
    "            x = self.par[x]\n",
    "        return x\n",
    "    \n",
    "    def unite(self, u, v):\n",
    "        rootu = self.root(u)\n",
    "        rootv = self.root(v)\n",
    "        if rootu != rootv:\n",
    "            if self.size[rootu] < self.size[rootv]:\n",
    "                self.par[rootu] = rootv\n",
    "                self.size[rootv] += self.size[rootu]\n",
    "            else:\n",
    "                self.par[rootv] = rootu\n",
    "                self.size[rootu] += self.size[rootv]\n",
    "        \n",
    "    def same(self, u, v):\n",
    "        return self.root(u) == self.root(v)\n",
    "\n",
    "n, q = map(int, input().split())\n",
    "queries = [ list(map(int, input().split())) for i in range(q) ]\n",
    "\n",
    "uf = unionfind(n)\n",
    "for tp, u, v in queries:\n",
    "    if tp == 1:\n",
    "        uf.unite(u, v)\n",
    "    if tp == 2:\n",
    "        if uf.same(u, v):\n",
    "            print(\"Yes\")\n",
    "        else:\n",
    "            print(\"No\")"
   ]
  },
  {
   "cell_type": "code",
   "execution_count": 39,
   "id": "2eb97f6a-8897-44ee-b2f2-7ac1079a530b",
   "metadata": {
    "tags": []
   },
   "outputs": [
    {
     "name": "stdin",
     "output_type": "stream",
     "text": [
      " 5\n",
      " 3 1 4 1 5\n",
      " 4\n",
      " 1 5 1\n",
      " 2 4 3\n",
      " 1 5 2\n",
      " 1 3 3\n"
     ]
    },
    {
     "name": "stdout",
     "output_type": "stream",
     "text": [
      "2\n",
      "0\n",
      "0\n",
      "1\n"
     ]
    }
   ],
   "source": [
    "from collections import defaultdict\n",
    "import bisect\n",
    "N = int(input())\n",
    "A = list(map(int, input().split()))\n",
    "Q = int(input())\n",
    "queries = []\n",
    "dic = defaultdict(lambda: [])\n",
    "for _ in range(Q):\n",
    "    queries.append(list(map(int, input().split())))\n",
    "for i in range(N):\n",
    "    dic[A[i]].append(i)\n",
    "for key in dic.keys():\n",
    "    dic[key].sort()\n",
    "for l, r, x in queries:\n",
    "    idx1 = bisect.bisect_left(dic[x], l-1)\n",
    "    idx2 = bisect.bisect_right(dic[x], r-1)\n",
    "    print(idx2-idx1)"
   ]
  },
  {
   "cell_type": "code",
   "execution_count": 48,
   "id": "bb474c65-a609-4b8b-8b05-11d0a96d2784",
   "metadata": {
    "tags": []
   },
   "outputs": [
    {
     "name": "stdin",
     "output_type": "stream",
     "text": [
      " 1 2 3 4 5 6 7 8 9 10 11 12 13 14 15 16 17 18 19 20 21 22 23 24 25 26\n"
     ]
    },
    {
     "name": "stdout",
     "output_type": "stream",
     "text": [
      "abcdefghijklmnopqrstuvwxyz\n"
     ]
    }
   ],
   "source": [
    "P = list(map(int, input().split()))\n",
    "ans = []\n",
    "for num in P:\n",
    "    ans.append(chr(num+ord(\"a\")-1))\n",
    "print(\"\".join(map(str, ans)))"
   ]
  },
  {
   "cell_type": "code",
   "execution_count": 102,
   "id": "6d9d6f60-c33c-49a2-98eb-01550329f8e6",
   "metadata": {
    "tags": []
   },
   "outputs": [
    {
     "name": "stdin",
     "output_type": "stream",
     "text": [
      " 7\n",
      " .#####.\n",
      " .#####.\n",
      " .#.####\n",
      " ..#.#.#\n",
      " .###.##\n",
      " .#..#.#\n",
      " ....#.#\n",
      " .##.###\n",
      " ..##.##\n",
      " ..#.###\n",
      " ##.####\n",
      " ..#.###\n",
      " #####..\n",
      " .......\n"
     ]
    },
    {
     "name": "stdout",
     "output_type": "stream",
     "text": [
      "Yes\n"
     ]
    }
   ],
   "source": [
    "import copy\n",
    "N = int(input())\n",
    "S = [ list(input()) for _ in range(N) ]\n",
    "T = [ list(input()) for _ in range(N) ]\n",
    "def rotate(S, H, W):\n",
    "    S90 = [[\".\"]*H for _ in range(W)]\n",
    "    for h in range(H):\n",
    "        for w in range(W):\n",
    "            S90[h][w] = S[W-w-1][h]\n",
    "    return S90\n",
    "ans = \"No\"\n",
    "flag = False\n",
    "P = []\n",
    "for h in range(N):\n",
    "    for w in range(N):\n",
    "        if S[h][w]==\"#\":\n",
    "            if not flag:\n",
    "                flag = True\n",
    "                dh, dw = h, w\n",
    "            else:\n",
    "                P.append((h-dh, w-dw))\n",
    "\n",
    "ans = \"No\"\n",
    "for i in range(4):\n",
    "    cand = copy.deepcopy(T)\n",
    "    tmp = []\n",
    "    flag = False\n",
    "    for _ in range(i):\n",
    "        cand = rotate(cand, N, N)\n",
    "    for h in range(N):\n",
    "        for w in range(N):\n",
    "            if cand[h][w]==\"#\":\n",
    "                if not flag:\n",
    "                    flag = True\n",
    "                    ph, pw = h, w\n",
    "                else:\n",
    "                    tmp.append((h-ph, w-pw))\n",
    "    if tmp==P:\n",
    "        ans = \"Yes\"\n",
    "        break\n",
    "                \n",
    "print(ans)\n"
   ]
  },
  {
   "cell_type": "code",
   "execution_count": 116,
   "id": "b351f5fa-8fc5-4af1-9fc9-1c7012327881",
   "metadata": {
    "tags": []
   },
   "outputs": [
    {
     "name": "stdin",
     "output_type": "stream",
     "text": [
      " 4\n",
      " 0 1\n",
      " 1 2\n",
      " 2 3\n",
      " 3 4\n"
     ]
    },
    {
     "name": "stdout",
     "output_type": "stream",
     "text": [
      "0\n"
     ]
    }
   ],
   "source": [
    "from collections import defaultdict\n",
    "N = int(input())\n",
    "P = []\n",
    "dicx = defaultdict(lambda: set())\n",
    "dicy = defaultdict(lambda: set())\n",
    "container = set()\n",
    "for i in range(N):\n",
    "    x, y = map(int, input().split())\n",
    "    P.append((x, y))\n",
    "    container.add((x, y))\n",
    "    dicx[x].add(y)\n",
    "    dicy[y].add(x)\n",
    "X = list(dicx.keys())\n",
    "l = len(X)\n",
    "ans = 0\n",
    "for i in range(N-1):\n",
    "    for j in range(i, N):\n",
    "        if i==j:\n",
    "            continue\n",
    "        x1, y1 = P[i]\n",
    "        x2, y2 = P[j]\n",
    "        if x1!=x2 and y1!=y2 and (x1, y2) in container and (x2, y1) in container:\n",
    "            ans += 1\n",
    "print(ans//2)"
   ]
  },
  {
   "cell_type": "code",
   "execution_count": 28,
   "id": "6786248c-2e8a-490a-a2b8-cf4fceb33dac",
   "metadata": {
    "tags": []
   },
   "outputs": [
    {
     "name": "stdin",
     "output_type": "stream",
     "text": [
      " 3 3\n",
      " 1 2 -3\n",
      " 2 3 -5\n",
      " 1 3 -10\n"
     ]
    },
    {
     "name": "stdout",
     "output_type": "stream",
     "text": [
      "15\n"
     ]
    }
   ],
   "source": [
    "import heapq\n",
    "N, M = map(int, input().split())\n",
    "edges = [ list(map(int, input().split())) for _ in range(M) ]\n",
    "G = [ list() for _ in range(N) ]\n",
    "ans = 0\n",
    "for a, b, c in edges:\n",
    "    G[a-1].append((b-1, c))\n",
    "    G[b-1].append((a-1, c))\n",
    "    ans += c\n",
    "que = []\n",
    "dist = [int(1e18)]*N\n",
    "dist[0]=0\n",
    "visited = [False]*N\n",
    "pos = 0\n",
    "heapq.heappush(que, (dist[0], 0))\n",
    "while len(que)>0:\n",
    "    pos = heapq.heappop(que)[1]\n",
    "    if visited[pos]:\n",
    "        continue\n",
    "    visited[pos] = True\n",
    "    for nex, c in G[pos]:\n",
    "        if nex==pos:\n",
    "            if c<0:\n",
    "                ans -= c\n",
    "        elif dist[nex]>dist[pos]+c:\n",
    "            dist[nex] = dist[pos]+c\n",
    "            heapq.heappush(que, (dist[nex], nex))\n",
    "            ans -= c\n",
    "ans = max(0, ans)\n",
    "print(ans)           "
   ]
  },
  {
   "cell_type": "code",
   "execution_count": 25,
   "id": "73b6b769-47e8-441f-84d7-e19e9cd2232d",
   "metadata": {
    "tags": []
   },
   "outputs": [
    {
     "data": {
      "text/plain": [
       "[[(1, -1), (1, 2), (0, 3), (0, 3)], [(0, -1), (0, 2)]]"
      ]
     },
     "execution_count": 25,
     "metadata": {},
     "output_type": "execute_result"
    }
   ],
   "source": [
    "G"
   ]
  },
  {
   "cell_type": "code",
   "execution_count": 48,
   "id": "eef3e156-5ff1-4877-87bc-ccbc89f3bb39",
   "metadata": {
    "jp-MarkdownHeadingCollapsed": true,
    "tags": []
   },
   "outputs": [
    {
     "name": "stdin",
     "output_type": "stream",
     "text": [
      " 3 3\n",
      " 1 2 1\n",
      " 2 3 0\n",
      " 3 1 -1\n"
     ]
    },
    {
     "name": "stdout",
     "output_type": "stream",
     "text": [
      "1\n"
     ]
    }
   ],
   "source": [
    "class unionfind:\n",
    "    def __init__(self, n):\n",
    "        self.n = n\n",
    "        self.par = [-1] * (n+1)\n",
    "        self.size = [1] * (n+1)\n",
    "        \n",
    "    def root(self, x):\n",
    "        while self.par[x] != -1:\n",
    "            x = self.par[x]\n",
    "        return x\n",
    "    \n",
    "    def unite(self, u, v):\n",
    "        rootu = self.root(u)\n",
    "        rootv = self.root(v)\n",
    "        if rootu != rootv:\n",
    "            if self.size[rootu] < self.size[rootv]:\n",
    "                self.par[rootu] = rootv\n",
    "                self.size[rootv] += self.size[rootu]\n",
    "            else:\n",
    "                self.par[rootv] = rootu\n",
    "                self.size[rootu] += self.size[rootv]\n",
    "        \n",
    "    def same(self, u, v):\n",
    "        return self.root(u) == self.root(v)\n",
    "N, M = map(int, input().split())\n",
    "edges = [ list(map(int, input().split())) for _ in range(M) ]\n",
    "edges.sort(key = lambda x: x[2])\n",
    "uf = unionfind(N)\n",
    "ans = 0\n",
    "for a, b, c in edges:\n",
    "    if c<=0:\n",
    "        uf.unite(a-1, b-1)\n",
    "    else:\n",
    "        if uf.same(a-1, b-1):\n",
    "            ans += c\n",
    "        else:\n",
    "            uf.unite(a-1, b-1)\n",
    "print(ans)\n"
   ]
  },
  {
   "cell_type": "code",
   "execution_count": 77,
   "id": "5cfae4c0-df4f-494f-a3d3-6cd2e129a78e",
   "metadata": {
    "tags": []
   },
   "outputs": [
    {
     "name": "stdin",
     "output_type": "stream",
     "text": [
      " 8 5\n",
      " 1 2 4 7 8\n"
     ]
    },
    {
     "name": "stdout",
     "output_type": "stream",
     "text": [
      "2\n"
     ]
    }
   ],
   "source": [
    "# 334 両端からの累積和\n",
    "from itertools import accumulate\n",
    "N, K = map(int, input().split())\n",
    "A = list(map(int, input().split()))\n",
    "colors = []\n",
    "now = 0\n",
    "\n",
    "for i in range(N):\n",
    "    if now<K and A[now]==i+1:\n",
    "        colors.append(i)\n",
    "        now += 1\n",
    "    else:\n",
    "        colors.append(i)\n",
    "        colors.append(i)\n",
    "D = []\n",
    "for i in range(2*N-K-1):\n",
    "    sa = colors[i+1]-colors[i]\n",
    "    D.append(sa)\n",
    "L = []\n",
    "R = []\n",
    "for i in range(len(D)):\n",
    "    if i==0:\n",
    "        L.append(D[i])\n",
    "    elif i==1:\n",
    "        R.append(D[len(D)-i])\n",
    "    elif i%2==0:\n",
    "        L.append(L[-1]+D[i])\n",
    "    elif i%2==1:\n",
    "        R.append(R[-1]+D[len(D)-i])\n",
    "ans = int(1e18)\n",
    "for i in range(len(L)+1):\n",
    "    if i==0:\n",
    "        tmp = R[-1]\n",
    "    elif i==len(L):\n",
    "        tmp = L[-1]\n",
    "    else:\n",
    "        tmp = L[i-1]+R[len(L)-1-i]\n",
    "    ans = min(ans, tmp)\n",
    "if (2*N-K)%2==0:\n",
    "    print(L[-1])\n",
    "else:\n",
    "    print(ans)\n",
    "    \n",
    "        "
   ]
  },
  {
   "cell_type": "code",
   "execution_count": 5,
   "id": "050dacb1-3616-4b7a-b6ee-567c4f61d3f7",
   "metadata": {
    "tags": []
   },
   "outputs": [
    {
     "name": "stdin",
     "output_type": "stream",
     "text": [
      " 3\n"
     ]
    },
    {
     "name": "stdout",
     "output_type": "stream",
     "text": [
      "? 1 2 1 3\n"
     ]
    },
    {
     "name": "stdin",
     "output_type": "stream",
     "text": [
      " 2\n"
     ]
    },
    {
     "name": "stdout",
     "output_type": "stream",
     "text": [
      "? 3 3 1 3\n"
     ]
    },
    {
     "name": "stdin",
     "output_type": "stream",
     "text": [
      " 0\n"
     ]
    },
    {
     "name": "stdout",
     "output_type": "stream",
     "text": [
      "? 1 3 1 2\n"
     ]
    },
    {
     "name": "stdin",
     "output_type": "stream",
     "text": [
      " 2\n"
     ]
    },
    {
     "name": "stdout",
     "output_type": "stream",
     "text": [
      "? 1 3 3 3\n"
     ]
    },
    {
     "name": "stdin",
     "output_type": "stream",
     "text": [
      " 0\n"
     ]
    },
    {
     "name": "stdout",
     "output_type": "stream",
     "text": [
      "! 3 3\n"
     ]
    }
   ],
   "source": [
    "N = int(input())\n",
    "a=c=1\n",
    "b=d=N\n",
    "ans=[]\n",
    "l = a\n",
    "r=b+1\n",
    "while 0<r-l:\n",
    "    mid=(l+r)//2\n",
    "    q = [l, mid, c, d]\n",
    "    print('?', *q)\n",
    "    res = int(input())\n",
    "    if mid-l+1==res:\n",
    "        l=mid+1\n",
    "    else:\n",
    "        r=mid\n",
    "ans.append(l)\n",
    "l=c\n",
    "r=d+1\n",
    "while 0<r-l:\n",
    "    mid=(l+r)//2\n",
    "    q = [a, b, l, mid]\n",
    "    print('?', *q)\n",
    "    res = int(input())\n",
    "    if mid-l+1==res:\n",
    "        l=mid+1\n",
    "    else:\n",
    "        r=mid\n",
    "ans.append(l)\n",
    "print('!',*ans)\n"
   ]
  },
  {
   "cell_type": "code",
   "execution_count": 109,
   "id": "ed829579-f9a7-42fe-9a18-8a49185ac2cd",
   "metadata": {
    "tags": []
   },
   "outputs": [
    {
     "name": "stdin",
     "output_type": "stream",
     "text": [
      " 15\n",
      " 1 1 2 0 0 2 0 2 0 0 0 0 0 2 2\n",
      " EXMMXXXEMEXEXMM\n"
     ]
    },
    {
     "name": "stdout",
     "output_type": "stream",
     "text": [
      "13\n"
     ]
    }
   ],
   "source": [
    "N = int(input())\n",
    "A = list(map(int, input().split()))\n",
    "S = input()\n",
    "Ms = [[0]*N for _ in range(3)]\n",
    "Eidx = []\n",
    "Xs = [[0]*N for _ in range(3)]\n",
    "for i in range(N):\n",
    "    a = A[i]\n",
    "    s = S[i]\n",
    "    for j in range(3):\n",
    "        if i!=0:\n",
    "            Ms[j][i] = Ms[j][i-1]\n",
    "            Xs[j][i] = Xs[j][i-1]\n",
    "    if s==\"M\":\n",
    "        Ms[a][i]+=1\n",
    "    elif s==\"E\":\n",
    "        Eidx.append((i, a))\n",
    "    else:\n",
    "        Xs[a][i]+=1\n",
    "ans = 0\n",
    "for idx, a in Eidx:\n",
    "    if a==0:\n",
    "        ans += Ms[0][idx]*(Xs[0][-1]-Xs[0][idx])\n",
    "        ans += Ms[0][idx]*(Xs[1][-1]-Xs[1][idx])*2\n",
    "        ans += Ms[0][idx]*(Xs[2][-1]-Xs[2][idx])\n",
    "        ans += Ms[1][idx]*(Xs[0][-1]-Xs[0][idx])*2\n",
    "        ans += Ms[1][idx]*(Xs[1][-1]-Xs[1][idx])*2                           \n",
    "        ans += Ms[1][idx]*(Xs[2][-1]-Xs[2][idx])*3                           \n",
    "        ans += Ms[2][idx]*(Xs[0][-1]-Xs[0][idx])                        \n",
    "        ans += Ms[2][idx]*(Xs[1][-1]-Xs[1][idx])*3                        \n",
    "        ans += Ms[2][idx]*(Xs[2][-1]-Xs[2][idx])           \n",
    "    elif a==1:\n",
    "        ans += Ms[0][idx]*(Xs[0][-1]-Xs[0][idx])*2\n",
    "        ans += Ms[0][idx]*(Xs[1][-1]-Xs[1][idx])*2\n",
    "        ans += Ms[0][idx]*(Xs[2][-1]-Xs[2][idx])*3\n",
    "        ans += Ms[1][idx]*(Xs[0][-1]-Xs[0][idx])*2                                                  \n",
    "        ans += Ms[2][idx]*(Xs[0][-1]-Xs[0][idx])*3   \n",
    "    elif a==2:\n",
    "        ans += Ms[0][idx]*(Xs[0][-1]-Xs[0][idx])\n",
    "        ans += Ms[0][idx]*(Xs[1][-1]-Xs[1][idx])*3\n",
    "        ans += Ms[0][idx]*(Xs[2][-1]-Xs[2][idx])\n",
    "        ans += Ms[1][idx]*(Xs[0][-1]-Xs[0][idx])*3                                                  \n",
    "        ans += Ms[2][idx]*(Xs[0][-1]-Xs[0][idx])\n",
    "                           \n",
    "                           \n",
    "print(ans)\n",
    "                         \n",
    "                         "
   ]
  },
  {
   "cell_type": "code",
   "execution_count": 120,
   "id": "e3c1f45b-9387-4f0a-9f8d-31ce0528c136",
   "metadata": {
    "tags": []
   },
   "outputs": [
    {
     "name": "stdin",
     "output_type": "stream",
     "text": [
      " zyxwvutsrqponmlkjihgfedcba\n",
      " 5\n",
      " a\n",
      " ab\n",
      " abc\n",
      " ac\n",
      " b\n"
     ]
    },
    {
     "name": "stdout",
     "output_type": "stream",
     "text": [
      "b\n",
      "a\n",
      "ac\n",
      "ab\n",
      "abc\n"
     ]
    }
   ],
   "source": [
    "X = input()\n",
    "N = int(input())\n",
    "dic = {}\n",
    "Alphabets = [ chr(i+ord(\"a\")) for i in range(len(X)) ]\n",
    "\n",
    "for i in range(len(X)):\n",
    "    dic[X[i]]=Alphabets[i]\n",
    "P = []\n",
    "for i in range(N):\n",
    "    name = input()\n",
    "    num = \"\"\n",
    "    for s in name:\n",
    "        num += str(dic[s])\n",
    "    P.append((num, name))\n",
    "P.sort()\n",
    "for i in range(N):\n",
    "    print(P[i][1])"
   ]
  },
  {
   "cell_type": "code",
   "execution_count": null,
   "id": "69947837-e246-4b78-ab14-9d1e04b786ff",
   "metadata": {},
   "outputs": [],
   "source": [
    "def segfunc(x,y):\n",
    "    return x^y\n",
    "\n",
    "class SegTree:\n",
    "    def __init__(self,x_list,init,segfunc):\n",
    "        self.init=init\n",
    "        self.segfunc=segfunc\n",
    "        self.Height=len(x_list).bit_length()+1\n",
    "        self.Tree=[init]*(2**self.Height)\n",
    "        self.num=2**(self.Height-1)\n",
    "        for i in range(len(x_list)):\n",
    "            self.Tree[2**(self.Height-1)+i]=x_list[i]\n",
    "        for i in range(2**(self.Height-1)-1,0,-1):\n",
    "            self.Tree[i]=segfunc(self.Tree[2*i],self.Tree[2*i+1])\n",
    "\n",
    "    def select(self,k):\n",
    "        return self.Tree[k+self.num]\n",
    "\n",
    "    def update(self,k,x):\n",
    "        i=k+self.num\n",
    "        self.Tree[i]=x\n",
    "        while i>1:\n",
    "            if i%2==0:\n",
    "                self.Tree[i//2]=self.segfunc(self.Tree[i],self.Tree[i+1])\n",
    "            else:\n",
    "                self.Tree[i//2]=self.segfunc(self.Tree[i-1],self.Tree[i])\n",
    "            i//=2\n",
    "\n",
    "    def query(self,l,r):\n",
    "        result=self.init\n",
    "        l+=self.num\n",
    "        r+=self.num+1\n",
    "\n",
    "        while l<r:\n",
    "            if l%2==1:\n",
    "                result=self.segfunc(result,self.Tree[l])\n",
    "                l+=1\n",
    "            if r%2==1:\n",
    "                result=self.segfunc(result,self.Tree[r-1])\n",
    "            l//=2\n",
    "            r//=2\n",
    "        return result\n",
    "\n",
    "\n",
    "N,Q=map(int, input().split())\n",
    "A=list(map(int, input().split()))\n",
    "\n",
    "seg=SegTree(A,0,segfunc)\n",
    "for i in range(Q):\n",
    "    T,X,Y=map(int, input().split())\n",
    "    if T==1:\n",
    "        X-=1\n",
    "        seg.update(X,seg.select(X)^Y)\n",
    "    else:\n",
    "        X-=1\n",
    "        Y-=1\n",
    "        print(seg.query(X,Y))"
   ]
  },
  {
   "cell_type": "code",
   "execution_count": 2,
   "id": "3ed6336f-a708-4c0a-9f3d-bd205f6388d1",
   "metadata": {
    "tags": []
   },
   "outputs": [
    {
     "name": "stdin",
     "output_type": "stream",
     "text": [
      " 575\n"
     ]
    },
    {
     "name": "stdout",
     "output_type": "stream",
     "text": [
      "4\n"
     ]
    }
   ],
   "source": [
    "from itertools import product\n",
    "\n",
    "N = int(input())\n",
    "l = len(str(N))\n",
    "Whole = product([\"3\", \"5\", \"7\"], repeat=l)\n",
    "t = 3\n",
    "ans = 0\n",
    "while 10**t<=N:\n",
    "    ans += 3**t-2**t*3+3\n",
    "    t+=1\n",
    "for num in Whole:\n",
    "    n = \"\"\n",
    "    flag = [False, False, False]\n",
    "    for j in reversed(range(len(num))):\n",
    "        n += num[j]\n",
    "        if num[j]==\"3\":\n",
    "            flag[0]=True\n",
    "        elif num[j]==\"5\":\n",
    "            flag[1]=True\n",
    "        else:\n",
    "            flag[2]=True\n",
    "    # print(n)\n",
    "    if sum(flag)==3 and int(n)<=N:\n",
    "        ans += 1\n",
    "print(ans)"
   ]
  },
  {
   "cell_type": "code",
   "execution_count": null,
   "id": "db775fe2-5b7f-4b59-b3e8-0bba6d252770",
   "metadata": {
    "tags": []
   },
   "outputs": [],
   "source": [
    "N = int(input())\n",
    "A = [ (map(int, input().split())) for _ in range(N) ]\n",
    "sa = 0\n",
    "h = 0\n",
    "for a, b in A:\n",
    "    if b-a>sa:\n",
    "        sa = b-a\n",
    "    h += a\n",
    "print(h+sa)"
   ]
  },
  {
   "cell_type": "code",
   "execution_count": 22,
   "id": "4835973f-7333-46f6-bb5c-9f90c6a524c3",
   "metadata": {
    "tags": []
   },
   "outputs": [
    {
     "name": "stdin",
     "output_type": "stream",
     "text": [
      " 8 21\n",
      " 2 6\n",
      " 1 3\n",
      " 5 6\n",
      " 3 8\n",
      " 3 6\n",
      " 4 7\n",
      " 4 6\n",
      " 3 4\n",
      " 1 5\n",
      " 2 4\n",
      " 1 2\n",
      " 2 7\n",
      " 1 4\n",
      " 3 5\n",
      " 2 5\n",
      " 2 3\n",
      " 4 5\n",
      " 3 7\n",
      " 6 7\n",
      " 5 7\n",
      " 2 8\n"
     ]
    },
    {
     "name": "stdout",
     "output_type": "stream",
     "text": [
      "2023\n"
     ]
    }
   ],
   "source": [
    "import sys\n",
    "sys.setrecursionlimit(10**8)\n",
    "\n",
    "N, M = map(int, input().split())\n",
    "edges= [ tuple(map(int, input().split())) for _ in range(M) ]\n",
    "G = [ list() for _ in range(N) ]\n",
    "for a, b in edges:\n",
    "    G[a-1].append(b-1)\n",
    "    G[b-1].append(a-1)\n",
    "    \n",
    "limit = 1000000\n",
    "visited = [False]*N\n",
    "ans = 1\n",
    "path = []\n",
    "\n",
    "def dfs(c):\n",
    "    global ans\n",
    "    if ans == limit:\n",
    "        return False\n",
    "    visited[c] = True\n",
    "    path.append(c)\n",
    "    ans += 1\n",
    "    \n",
    "    for nex in G[c]:\n",
    "        if not visited[nex]:\n",
    "            dfs(nex)\n",
    "    visited[c]=False\n",
    "    path.pop()\n",
    "\n",
    "if dfs(0):\n",
    "    print(1000000)\n",
    "else:\n",
    "    print(ans)\n"
   ]
  },
  {
   "cell_type": "code",
   "execution_count": 51,
   "id": "2c950013-5145-43d6-9643-91ee018633b5",
   "metadata": {
    "tags": []
   },
   "outputs": [
    {
     "name": "stdin",
     "output_type": "stream",
     "text": [
      " 5 7\n",
      " .#...#.\n",
      " ..#.#..\n",
      " ...S...\n",
      " ..#.#..\n",
      " .#...#.\n"
     ]
    },
    {
     "name": "stdout",
     "output_type": "stream",
     "text": [
      "No\n"
     ]
    }
   ],
   "source": [
    "import sys\n",
    "sys.setrecursionlimit(10**8)\n",
    "\n",
    "H, W = map(int, input().split())\n",
    "C = []\n",
    "start = 0\n",
    "for i in range(H):\n",
    "    c = list(input())\n",
    "    C.append(c)\n",
    "    if not start:\n",
    "        if \"S\" in c:\n",
    "            start = (i, c.index(\"S\"))\n",
    "    \n",
    "limit = 1000000\n",
    "visited = [[False]*W for _ in range(H)]\n",
    "ans = 0\n",
    "path = []\n",
    "steps = [(1, 0), (-1, 0), (0, 1), (0, -1)]\n",
    "def dfs(a, b, steps):\n",
    "    visited[a][b] = True\n",
    "    if (a, b)==start:\n",
    "        for i in range(4):\n",
    "            h, w = steps[i]\n",
    "            if 0<=a+h<H and 0<=b+w<W:\n",
    "                if C[a+h][b+w]==\".\" and visited[a+h][b+w]==False:\n",
    "                    dfs(a+h, b+w, steps)\n",
    "            for j in range(i+1, 4):\n",
    "                hh, ww = steps[j]\n",
    "                if 0<=a+hh<H and 0<=b+ww<W:\n",
    "                    if C[a+hh][b+ww]==\".\" and visited[a+hh][b+ww]:\n",
    "                        return True\n",
    "\n",
    "    else:\n",
    "        for h, w in steps:\n",
    "            if 0<=a+h<H and 0<=b+w<W:\n",
    "                if C[a+h][b+w]==\".\" and visited[a+h][b+w]==False:\n",
    "                    dfs(a+h, b+w, steps)\n",
    "\n",
    "\n",
    "a, b = start\n",
    "if dfs(a, b, steps):\n",
    "    print(\"Yes\")\n",
    "else:\n",
    "    print(\"No\")"
   ]
  },
  {
   "cell_type": "code",
   "execution_count": 82,
   "id": "99193778-0644-4b1f-91c9-1a579171d03f",
   "metadata": {
    "tags": []
   },
   "outputs": [
    {
     "name": "stdin",
     "output_type": "stream",
     "text": [
      " 2 3\n",
      " #..\n",
      " .S#\n"
     ]
    },
    {
     "name": "stdout",
     "output_type": "stream",
     "text": [
      "No\n"
     ]
    }
   ],
   "source": [
    "import sys\n",
    "sys.setrecursionlimit(10**8)\n",
    "\n",
    "class unionfind:\n",
    "    def __init__(self, n):\n",
    "        self.n = n\n",
    "        self.par = [-1] * (n)\n",
    "        self.size = [1] * (n)\n",
    "        \n",
    "    def root(self, x):\n",
    "        while self.par[x] != -1:\n",
    "            x = self.par[x]\n",
    "        return x\n",
    "    \n",
    "    def unite(self, u, v):\n",
    "        rootu = self.root(u)\n",
    "        rootv = self.root(v)\n",
    "        if rootu != rootv:\n",
    "            if self.size[rootu] < self.size[rootv]:\n",
    "                self.par[rootu] = rootv\n",
    "                self.size[rootv] += self.size[rootu]\n",
    "            else:\n",
    "                self.par[rootv] = rootu\n",
    "                self.size[rootu] += self.size[rootv]\n",
    "        \n",
    "    def same(self, u, v):\n",
    "        return self.root(u) == self.root(v)\n",
    "    def rsize(self, u):\n",
    "        return self.size[self.root(u)]\n",
    "\n",
    "\n",
    "\n",
    "H, W = map(int, input().split())\n",
    "C = []\n",
    "start = 0\n",
    "for i in range(H):\n",
    "    c = list(input())\n",
    "    C.append(c)\n",
    "    if not start:\n",
    "        if \"S\" in c:\n",
    "            start = (i, c.index(\"S\"))\n",
    "    \n",
    "steps = [(1, 0), (-1, 0), (0, 1), (0, -1)]\n",
    "a, b = start\n",
    "root = []\n",
    "for h, w in steps:\n",
    "    if 0<=a+h<H and 0<=b+w<W:\n",
    "        if C[a+h][b+w]==\".\":\n",
    "            root.append((a+h, b+w))\n",
    "visited = [[False]*W for _ in range(H)]\n",
    "ans = \"No\"\n",
    "uf = unionfind(H*W)\n",
    "for i in range(len(root)-1):\n",
    "    que = [root[i]]\n",
    "    while len(que)>0:\n",
    "        h, w = que.pop()\n",
    "        visited[h][w]=True\n",
    "        pos = h*W+w\n",
    "        for hh, ww in steps:\n",
    "            if 0<=h+hh<H and 0<=w+ww<W and C[h+hh][w+ww]==\".\" and not visited[h+hh][w+ww]:\n",
    "                que.append((h+hh, w+ww))\n",
    "                uf.unite(pos, (h+hh)*W+w+ww)\n",
    "    for j in range(i+1, len(root)):\n",
    "        if uf.same(root[i][0]*W+root[i][1], root[j][0]*W+root[j][1]):\n",
    "            ans = \"Yes\"\n",
    "            break\n",
    "        \n",
    "print(ans)"
   ]
  },
  {
   "cell_type": "code",
   "execution_count": 20,
   "id": "fe30582d-75e6-47b8-b7ee-ba2455de3bf9",
   "metadata": {
    "tags": []
   },
   "outputs": [
    {
     "name": "stdin",
     "output_type": "stream",
     "text": [
      " 2\n",
      " 1000000000 1000000000\n",
      " 1000000000 1000000000\n"
     ]
    },
    {
     "name": "stdout",
     "output_type": "stream",
     "text": [
      "0 1000000000\n"
     ]
    }
   ],
   "source": [
    "from collections import defaultdict\n",
    "\n",
    "dic = defaultdict(lambda: 0)\n",
    "N = int(input())\n",
    "logs = []\n",
    "for i in range(N):\n",
    "    a, b = map(int, input().split())\n",
    "    logs.append((a, 0))\n",
    "    logs.append((a+b, 1))\n",
    "logs.sort()\n",
    "cnt = 0\n",
    "now = 0\n",
    "tmp = 0\n",
    "for i in range(2*N):\n",
    "    a, flag = logs[i]\n",
    "    if i<2*N-1 and a==logs[i+1][0]:\n",
    "        if flag:\n",
    "            tmp -= 1\n",
    "        else:\n",
    "            tmp += 1\n",
    "    else:\n",
    "        if not flag:\n",
    "            dic[cnt]+=a-now\n",
    "            now = a\n",
    "            cnt += 1+tmp\n",
    "            tmp = 0\n",
    "        else:\n",
    "            dic[cnt]+=a-now\n",
    "            now = a\n",
    "            cnt += (tmp-1)\n",
    "            tmp=0\n",
    "ans = []\n",
    "for i in range(1, N+1):\n",
    "    ans.append(dic[i])\n",
    "print(*ans)"
   ]
  },
  {
   "cell_type": "code",
   "execution_count": 35,
   "id": "1ffe5394-c9d6-46ea-89c6-e35d72ee7ad3",
   "metadata": {
    "tags": []
   },
   "outputs": [
    {
     "name": "stdin",
     "output_type": "stream",
     "text": [
      " 5\n",
      " 1 3 99999999 99999994 1000000\n"
     ]
    },
    {
     "name": "stdout",
     "output_type": "stream",
     "text": [
      "303999988\n"
     ]
    }
   ],
   "source": [
    "from itertools import accumulate\n",
    "import bisect\n",
    "N = int(input())\n",
    "A = list(map(int, input().split()))\n",
    "A.sort()\n",
    "sumA = list(accumulate(A))\n",
    "ans = 0\n",
    "for i in range(N-1):\n",
    "    tmp = 100000000-A[i]\n",
    "    idx = bisect.bisect_left(A, tmp)\n",
    "    # print(idx)\n",
    "    if idx==N:\n",
    "        ans += A[i]*(N-1-i)+(sumA[-1]-sumA[i])\n",
    "    elif idx>i:\n",
    "        ans += A[i]*(N-1-i)+(sumA[-1]-sumA[i])\n",
    "        ans -= 100000000*(N-idx)\n",
    "    else:\n",
    "        ans += (A[i]*(N-1-i)+(sumA[-1]-sumA[i]))\n",
    "        # print(ans)\n",
    "        ans -= 100000000*(N-1-i)\n",
    "    # print(ans)\n",
    "print(ans)\n",
    "# for i in range(N-1):\n",
    "#     tmp = A[i]*(N-1-i)\n",
    "    \n",
    "#     tmp += sumA[-1]-sumA[i]\n",
    "#     tmp=tmp%(100000000*(N-i-1))\n",
    "#     # print(tmp)\n",
    "#     ans += tmp\n",
    "# print(ans)"
   ]
  },
  {
   "cell_type": "code",
   "execution_count": 50,
   "id": "d537dfb5-94ab-472e-b9c3-44ff0ea04174",
   "metadata": {
    "tags": []
   },
   "outputs": [
    {
     "data": {
      "text/plain": [
       "[3, 17, 32]"
      ]
     },
     "execution_count": 50,
     "metadata": {},
     "output_type": "execute_result"
    }
   ],
   "source": [
    "M = int(input())\n",
    "G = [ list() for _ in range(9)]\n",
    "edges = map(int, input().split())\n",
    "for i in range(M):\n",
    "    u, v = map(int, input().split())\n",
    "    G[u-1].append(v-1)\n",
    "    G[v-1].append(u-1)\n",
    "P = list(map(int, input().split()))\n",
    "target = [i+1 for i in range(9)]\n",
    "target[8]=0\n",
    "dp = [[ [0]*9 for _ in range(M)]"
   ]
  },
  {
   "cell_type": "code",
   "execution_count": null,
   "id": "2631d1f5-3bba-4b1f-b7be-1269a79539c8",
   "metadata": {
    "tags": []
   },
   "outputs": [],
   "source": [
    "from collections import defaultdict, deque\n",
    "\n",
    "M = int(input())\n",
    "adj = defaultdict(list)\n",
    "for _ in range(M):\n",
    "    u, v = map(lambda x: int(x)-1, input().split())\n",
    "    adj[u].append(v)\n",
    "    adj[v].append(u)\n",
    "\n",
    "P = list(map(lambda x: int(x)-1, input().split()))\n",
    "\n",
    "ps = [9] * 9  # ps[i] : 頂点 i に置かれている駒\n",
    "for i, p in enumerate(P):\n",
    "    ps[p] = i\n",
    "\n",
    "\n",
    "def encode(ps):\n",
    "    h = 0\n",
    "    for p in ps:\n",
    "        h = 10*h + p\n",
    "\n",
    "    return h\n",
    "\n",
    "def is_goal(ps):\n",
    "    for i in range(8):\n",
    "        if i != ps[i]: return False\n",
    "\n",
    "    return True\n",
    "\n",
    "\n",
    "used = set()\n",
    "q = deque([(0, ps[:])])\n",
    "while q:\n",
    "    cnt, s = q.popleft()\n",
    "    if is_goal(s):\n",
    "        print(cnt)\n",
    "        break\n",
    "\n",
    "    h = encode(s)\n",
    "    if h in used: continue\n",
    "    used.add(h)\n",
    "    p = s.index(9)  # 空き頂点のインデックス\n",
    "    for to in adj[p]:\n",
    "        # 頂点 to にある駒を頂点 p に移動\n",
    "        t = s.copy()\n",
    "        t[to], t[p] = t[p], t[to]\n",
    "        if encode(t) in used: continue\n",
    "        q.append((cnt+1, t))\n",
    "else:\n",
    "    print(-1)"
   ]
  },
  {
   "cell_type": "markdown",
   "id": "124ddb13-ce76-401e-a4dd-5ab9d5e4e44b",
   "metadata": {
    "tags": []
   },
   "source": [
    "dic"
   ]
  },
  {
   "cell_type": "code",
   "execution_count": 9,
   "id": "9deee123-1c47-4606-b34d-281dcabfdbc5",
   "metadata": {},
   "outputs": [
    {
     "name": "stdin",
     "output_type": "stream",
     "text": [
      " 3\n",
      " 1 0\n",
      " 3 1 1\n",
      " 5 1 1\n"
     ]
    },
    {
     "name": "stdout",
     "output_type": "stream",
     "text": [
      "6\n"
     ]
    }
   ],
   "source": [
    "from collections import defaultdict\n",
    "N = int(input())\n",
    "dic = {}\n",
    "dic2 = defaultdict(lambda: set())\n",
    "waza = []\n",
    "for i in range(N):\n",
    "  A = list(map(int, input().split()))\n",
    "  dic[i+1]=A[0]\n",
    "  dic2[i+1]=set(A[2:])\n",
    "whole = set()\n",
    "whole.add(N)\n",
    "que = []\n",
    "que.append(N)\n",
    "ans = 0\n",
    "flag = [False]*N\n",
    "while len(que)>0:\n",
    "  w = que.pop()\n",
    "  nex = dic2[w]-whole\n",
    "  for item in nex:\n",
    "    whole.add(item)\n",
    "    que.append(item)\n",
    "for item in whole:\n",
    "  if item==0:\n",
    "    continue\n",
    "  ans += dic[item]\n",
    "print(ans)"
   ]
  },
  {
   "cell_type": "code",
   "execution_count": 14,
   "id": "a4e4448f-5b93-4bc7-a0c9-fce582c582e3",
   "metadata": {},
   "outputs": [
    {
     "name": "stdin",
     "output_type": "stream",
     "text": [
      " 4\n",
      " 0 0\n",
      " 0 1000000000\n",
      " 1000000000 0\n",
      " 1000000000 1000000000\n"
     ]
    },
    {
     "name": "stdout",
     "output_type": "stream",
     "text": [
      "8\n"
     ]
    }
   ],
   "source": [
    "import math\n",
    "\n",
    "N = int(input())\n",
    "dic = {}\n",
    "Z = []\n",
    "for i in range(N):\n",
    "    x, y = map(int, input().split())\n",
    "    Z.append((x, y))\n",
    "for i in range(N-1):\n",
    "    x, y = Z[i]\n",
    "    for j in range(i+1, N):\n",
    "        x2, y2 = Z[j]\n",
    "        a, b = x-x2, y-y2\n",
    "        d = math.gcd(a, b)\n",
    "        dic[(a//d, b//d)]=1\n",
    "        dic[(-a//d, -b//d)]=1\n",
    "print(len(dic))"
   ]
  },
  {
   "cell_type": "code",
   "execution_count": 31,
   "id": "ad00710a-3152-4923-b00b-4a2ffacc128e",
   "metadata": {},
   "outputs": [
    {
     "name": "stdin",
     "output_type": "stream",
     "text": [
      " -1 -2 1 3\n"
     ]
    },
    {
     "name": "stdout",
     "output_type": "stream",
     "text": [
      "6.0\n"
     ]
    }
   ],
   "source": [
    "A, B, C, D = map(int, input().split())\n",
    "a = A%4\n",
    "b = B%4\n",
    "c = C%4\n",
    "d = D%4\n",
    "xl = c-a\n",
    "yl = d-b\n",
    "ans = 0\n",
    "ta = 0\n",
    "tb = 0\n",
    "tc = 0\n",
    "td = 0\n",
    "while (A+ta)%4!=c:\n",
    "    ta += 1\n",
    "while (B+tb)%4!=d:\n",
    "    tb += 1\n",
    "\n",
    "ans += (C-(A+ta))//4*(D-(B+tb))//4*13\n",
    "for i in range(ta):\n",
    "    if a+i==0:\n",
    "        ans += (D-B)//2*1.5\n",
    "        if (D-B)%2==1:\n",
    "            if B%2==0:\n",
    "                ans +=1\n",
    "            else:\n",
    "                ans += 0.5\n",
    "    elif a+i==1 or (A+ta<0 and (a+i)%4==3):\n",
    "        ans += (D-B)//2*1.5\n",
    "        if (D-B)%2==1:\n",
    "            if B%2==1:\n",
    "                ans +=1\n",
    "            else:\n",
    "                ans += 0.5\n",
    "    elif a+i==2:\n",
    "        ans += (D-B)//2*0.5\n",
    "        if (D-B)%2==1 and B%2==1:\n",
    "            ans += 0.5\n",
    "    else:\n",
    "        ans += (D-B)//2*0.5\n",
    "        if (D-B)%2==1 and B%2==0:\n",
    "            ans += 0.5\n",
    "for i in range(tb):\n",
    "    if b+i==0 or b+i==2:\n",
    "        ans += (C-A-ta)//4*2\n",
    "        if (C-A-ta)%4==1:\n",
    "            if (A-ta)%4==0:\n",
    "                ans += 1\n",
    "            elif (A-ta)%4==1 or (A-ta)%4==3:\n",
    "                ans += 0.5\n",
    "        elif (C-A-ta)%4==2:\n",
    "            if (A-ta)%4==0 or (A-ta)%4==3:\n",
    "                ans += 1.5\n",
    "            elif (A-ta)%4==1 or (A-ta)%4==2:\n",
    "                ans += 0.5\n",
    "        elif (C-A-ta)%4==3:\n",
    "            if (A-ta)%4==0 or (A-ta)%4==2:\n",
    "                ans += 1.5\n",
    "            elif (A-ta)%4==1:\n",
    "                ans += 1\n",
    "            else:\n",
    "                ans += 2\n",
    "            \n",
    "    else:\n",
    "        ans += (C-A-ta)//4*2\n",
    "        if (C-A-ta)%4==1:\n",
    "            if (A-ta)%4==0 or (A-ta)%4==2:\n",
    "                ans += 0.5\n",
    "            elif (A-ta)%4==1:\n",
    "                ans += 1\n",
    "        elif (C-A-ta)%4==2:\n",
    "            if (A-ta)%4==0 or (A-ta)%4==1:\n",
    "                ans += 1.5\n",
    "            elif (A-ta)%4==2 or (A-ta)%4==3:\n",
    "                ans += 0.5\n",
    "        elif (C-A-ta)%4==3:\n",
    "            if (A-ta)%4==0:\n",
    "                ans += 2\n",
    "            elif (A-ta)%4==1 or (A-ta)%4==3:\n",
    "                ans += 1.5\n",
    "            else:\n",
    "                ans += 2\n",
    "print(ans*2)"
   ]
  },
  {
   "cell_type": "code",
   "execution_count": null,
   "id": "835b8020-fb25-4a08-8617-31c55e07b294",
   "metadata": {
    "tags": []
   },
   "outputs": [],
   "source": [
    "import heapq\n",
    "from collections import defaultdict\n",
    "from sortedcontainers import SortedSet\n",
    "N, K = map(int, input().split())\n",
    "A = list(map(int, input().split()))\n",
    "# A = list(map(lambda x: -1*x, A))\n",
    "dic = defaultdict(lambda: 0)\n",
    "C = SortedSet()\n",
    "A.sort()\n",
    "l = 0\n",
    "r = sum(A)+1\n",
    "while r-l>1:\n",
    "    m = (r+l)//2\n",
    "    tmp = sum([ min(m, num) for num in A])\n",
    "    if tmp>=m*K:\n",
    "        l = m\n",
    "    else:\n",
    "        r = m\n",
    "    # print(l)\n",
    "print(l)\n",
    "# que = []\n",
    "# for i in range(K):\n",
    "#     heapq.heappush(que, A[i])\n",
    "# ans = 0\n",
    "# now = K\n",
    "# while len(que)==K:\n",
    "#     ans = heapq.heappop(que)\n",
    "#     while len(que)>0 and que[0]==ans:\n",
    "#         heapq.heappop(que)\n",
    "#     while len(que)<K and now<N:\n",
    "#         heapq.heappush(que, A[now]+ans)\n",
    "#         now += 1\n",
    "#         if now>=N:\n",
    "#             break\n",
    "# print(ans)\n",
    "    "
   ]
  },
  {
   "cell_type": "code",
   "execution_count": 12,
   "id": "b91cd19c-6472-4a2e-84cd-6a568b9f9c12",
   "metadata": {
    "tags": []
   },
   "outputs": [
    {
     "name": "stdin",
     "output_type": "stream",
     "text": [
      " 4\n",
      " 1 1048577\n",
      " 1 1\n",
      " 2 2097153\n",
      " 2 3\n"
     ]
    },
    {
     "name": "stdout",
     "output_type": "stream",
     "text": [
      "1048577\n",
      "-1\n"
     ]
    }
   ],
   "source": [
    "import bisect\n",
    "from sortedcontainers import SortedSet\n",
    "Q = int(input())\n",
    "N = int(2**20)\n",
    "queries = [ tuple(map(int, input().split())) for _ in range(Q) ]\n",
    "A = [-1]*N\n",
    "B = [i for i in range(N)]\n",
    "now = SortedSet(B)\n",
    "for t, x in queries:\n",
    "    if t==1:\n",
    "        h = x%N\n",
    "        if A[h]==-1:\n",
    "            A[h]=x\n",
    "            now.discard(h)\n",
    "        else:\n",
    "            idx = now.bisect_left(h)%len(now)\n",
    "            A[now[idx]]=x\n",
    "            now.discard(now[idx])\n",
    "    elif t==2:\n",
    "        print(A[x%N])"
   ]
  },
  {
   "cell_type": "code",
   "execution_count": 10,
   "id": "0ca8d4e3-b6ed-4272-a4e1-5e31825e4f17",
   "metadata": {},
   "outputs": [
    {
     "data": {
      "text/plain": [
       "1"
      ]
     },
     "execution_count": 10,
     "metadata": {},
     "output_type": "execute_result"
    }
   ],
   "source": [
    "from sortedcontainers import SortedSet\n",
    "B = [1, 2, 3, 4, 5]\n",
    "A = SortedSet(B)\n",
    "A.add(3)\n",
    "A.add(6)\n",
    "A.bisect_left(2)"
   ]
  },
  {
   "cell_type": "code",
   "execution_count": 3,
   "id": "b169e540-11b0-4d0d-a28f-3fed4986902c",
   "metadata": {},
   "outputs": [
    {
     "name": "stdin",
     "output_type": "stream",
     "text": [
      " 3 1\n"
     ]
    },
    {
     "name": "stdout",
     "output_type": "stream",
     "text": [
      "2\n"
     ]
    }
   ],
   "source": [
    "# N = int(input())\n",
    "A, B = map(int, input().split())\n",
    " # = list(map(int, input().split()))\n",
    "if A!=B:\n",
    "    if A!=1 and B!=1:\n",
    "        print(1)\n",
    "    elif A!=2 and B!=2:\n",
    "        print(2)\n",
    "    elif A!=3 and B!=3:\n",
    "        print(3)\n",
    "else:\n",
    "    print(-1)"
   ]
  },
  {
   "cell_type": "code",
   "execution_count": 7,
   "id": "9f793ab5-144a-4c91-8646-122b518ccc8e",
   "metadata": {},
   "outputs": [
    {
     "name": "stdin",
     "output_type": "stream",
     "text": [
      " 1 1\n",
      " 1\n",
      " 2\n"
     ]
    },
    {
     "name": "stdout",
     "output_type": "stream",
     "text": [
      "No\n"
     ]
    }
   ],
   "source": [
    "N, M = map(int, input().split())\n",
    "A = list(map(int, input().split()))\n",
    "B = list(map(int, input().split()))\n",
    "ans = \"No\"\n",
    "dic = {}\n",
    "for i in range(N):\n",
    "    dic[A[i]]=1\n",
    "AB = A + B\n",
    "AB.sort()\n",
    "pre = False\n",
    "ans = \"No\"\n",
    "for i in range(N+M):\n",
    "    if AB[i] in dic:\n",
    "        if pre == False:\n",
    "            pre = True\n",
    "        else:\n",
    "            ans = \"Yes\"\n",
    "            break\n",
    "    else:\n",
    "        pre = False\n",
    "print(ans)"
   ]
  },
  {
   "cell_type": "code",
   "execution_count": 20,
   "id": "5f9ff6a7-c202-419d-ac90-faa9a41053ba",
   "metadata": {
    "tags": []
   },
   "outputs": [
    {
     "name": "stdin",
     "output_type": "stream",
     "text": [
      " 4 12\n",
      " 13 9 6 5 2 7 16 14 8 3 10 11\n"
     ]
    },
    {
     "name": "stdout",
     "output_type": "stream",
     "text": [
      "9\n"
     ]
    }
   ],
   "source": [
    "N, T = map(int, input().split())\n",
    "A = list(map(int, input().split()))\n",
    "tate = [0]*N \n",
    "yoko = [0]*N\n",
    "naname = [0]*2\n",
    "ans = -1\n",
    "for i, num in enumerate(A):\n",
    "    num -= 1\n",
    "    a, b = num//N, num%N\n",
    "    tate[b]+=1\n",
    "    if tate[b]==N:\n",
    "        ans = i+1\n",
    "        break\n",
    "    yoko[a]+=1\n",
    "    if yoko[a]==N:\n",
    "        ans = i+1\n",
    "        break\n",
    "    if a==b:\n",
    "        naname[0]+=1\n",
    "        if naname[0]==N:\n",
    "            ans = i+1\n",
    "            break\n",
    "    if a+b==N-1:\n",
    "        naname[1]+=1\n",
    "        if naname[1]==N:\n",
    "            ans = i+1\n",
    "            break\n"
   ]
  },
  {
   "cell_type": "code",
   "execution_count": 51,
   "id": "c2a0fc1e-ff61-4a07-a01f-62f27ed5d7cf",
   "metadata": {
    "tags": []
   },
   "outputs": [
    {
     "name": "stdin",
     "output_type": "stream",
     "text": [
      " 3\n",
      " 3 4\n",
      " 2 5\n",
      " 1 6\n"
     ]
    },
    {
     "name": "stdout",
     "output_type": "stream",
     "text": [
      "3\n"
     ]
    }
   ],
   "source": [
    "from collections import defaultdict\n",
    "N = int(input())\n",
    "A = [ tuple(map(int, input().split())) for _ in range(N)]\n",
    "whole = []\n",
    "dic1 = defaultdict(lambda: 0)\n",
    "dic2 = defaultdict(lambda: 0)\n",
    "for a, b in A:\n",
    "    whole.append(b)\n",
    "    whole.append(a)\n",
    "    dic1[a]+=1\n",
    "    dic2[b]+=1\n",
    "whole.sort()\n",
    "now = 0\n",
    "pre = -1\n",
    "ans = 0\n",
    "for i in range(N*2):\n",
    "    a = whole[i]\n",
    "    if a==pre:\n",
    "        continue\n",
    "    if dic1[a]==1:\n",
    "        now += 1\n",
    "        # print(now)\n",
    "        if now>=2:\n",
    "            ans += (now-1)\n",
    "    elif dic1[a]>=2:\n",
    "        if now>=1:\n",
    "            ans += dic1[a]*now\n",
    "            ans += dic1[a]*(dic1[a]-1)//2\n",
    "        else:\n",
    "            ans += dic1[a]*(dic1[a]-1)//2\n",
    "        now += dic1[a]\n",
    "    if dic2[a]>=1:\n",
    "        now -= dic2[a]\n",
    "    pre = a\n",
    "print(ans)      \n",
    "    "
   ]
  },
  {
   "cell_type": "code",
   "execution_count": 43,
   "id": "4cacb3fd-6b0f-4e26-affc-7bd5d6254117",
   "metadata": {
    "tags": []
   },
   "outputs": [
    {
     "data": {
      "text/plain": [
       "1"
      ]
     },
     "execution_count": 43,
     "metadata": {},
     "output_type": "execute_result"
    }
   ],
   "source": [
    "N, L, R = map(int, input().split())\n",
    "for i in range(19):\n",
    "    if L//2**i==1:\n",
    "        l = 2**i\n",
    "        if L%(2**i)==0:\n",
    "            flagl = True\n",
    "r = R//l\n",
    "ans = []\n",
    "print(\"? \"+ str(l) + \" \" + str(r))\n",
    "if flagl and flagr:\n",
    "    print(input())\n",
    "else:\n",
    "    t = int(input())\n",
    "    ans = t\n",
    "    if not flagl:\n",
    "        l1 = 0\n",
    "        r1 = L+1\n",
    "        print(\"? \"+ str(l1) + \" \" + str(r1))\n",
    "        t1 = int(input())\n",
    "        ans -= t1\n",
    "        flagl = True\n",
    "        \n",
    "        \n",
    "    "
   ]
  },
  {
   "cell_type": "code",
   "execution_count": 16,
   "id": "05faff8b-b941-4d0e-9684-b8e97cfa69bc",
   "metadata": {
    "tags": []
   },
   "outputs": [
    {
     "name": "stdin",
     "output_type": "stream",
     "text": [
      " 1000000000000000000 999999999999999999 999999999999999999\n",
      " 999999999999999998 1000000000000000000 999999999999999998 1000000000000000000\n"
     ]
    },
    {
     "name": "stdout",
     "output_type": "stream",
     "text": [
      "#.#\n",
      ".#.\n",
      "#.#\n"
     ]
    }
   ],
   "source": [
    "N, A, B = map(int, input().split())\n",
    "P, Q, R, S = map(int, input().split())\n",
    "l1 = max(1-A, 1-B)\n",
    "r1 = min(N-A, N-B)\n",
    "l2 = max(1-A, B-N)\n",
    "r2 = min(N-A, B-1)\n",
    "ans = [ [\".\"]*(S-R+1) for _ in range(Q-P+1) ]\n",
    "for i in range(Q-P+1):\n",
    "    for j in range(S-R+1):\n",
    "        if i+P-j-R==A-B and l1<=(i-A+P)<=r1 and l1<=(j-B+R)<=r1:\n",
    "            ans[i][j]=\"#\"\n",
    "        elif i+P+j+R==A+B and l2<=(i-A+P)<=r2 and l2<=(B-j-R)<=r2:\n",
    "            ans[i][j]=\"#\"\n",
    "for i in range(Q-P+1):\n",
    "    print(\"\".join(map(str, ans[i])))"
   ]
  },
  {
   "cell_type": "code",
   "execution_count": 2,
   "id": "6ea0b2d2-9890-42b1-b0a3-275f2aa2f51f",
   "metadata": {
    "tags": []
   },
   "outputs": [
    {
     "data": {
      "text/plain": [
       "[]"
      ]
     },
     "execution_count": 2,
     "metadata": {},
     "output_type": "execute_result"
    }
   ],
   "source": [
    "N, Q = map(int, input().split())\n",
    "queries = [ tuple(map(int, input().split())) for _ in range(Q) ]\n",
    "P = [0]*100\n",
    "for t, x in queries:\n",
    "    if t==1:\n",
    "        P[x-1]+=1\n",
    "    elif t==2:\n",
    "        P[x-1]=2\n",
    "    else:\n",
    "        if P[x-1]>=2:\n",
    "            print(\"Yes\")\n",
    "        else:\n",
    "            print(\"No\")"
   ]
  },
  {
   "cell_type": "code",
   "execution_count": 3,
   "id": "74ede18f-c428-41a2-9c52-d16398be6af9",
   "metadata": {},
   "outputs": [
    {
     "name": "stdin",
     "output_type": "stream",
     "text": [
      " 1101110101\n"
     ]
    },
    {
     "name": "stdout",
     "output_type": "stream",
     "text": [
      "No\n"
     ]
    }
   ],
   "source": [
    "retsu = [1]*7\n",
    "s = input()\n",
    "flag = False\n",
    "if s[0]==\"0\":\n",
    "    flag = True\n",
    "if s[6]==\"0\":\n",
    "    retsu[0]=0\n",
    "if s[3]==\"0\":\n",
    "    retsu[1]=0\n",
    "if s[1]==s[7]==\"0\":\n",
    "    retsu[2]=0\n",
    "if s[0]==s[4]==\"0\":\n",
    "    retsu[3]=0\n",
    "if s[2]==s[8]==\"0\":\n",
    "    retsu[4]=0\n",
    "if s[5]==\"0\":\n",
    "    retsu[5]=0\n",
    "if s[9]==\"0\":\n",
    "    retsu[6]=0\n",
    "split = 0\n",
    "for i in range(7):\n",
    "    if split==0 and retsu[i]==1:\n",
    "        split = 1\n",
    "    elif split==1 and retsu[i]==0:\n",
    "        split = 2\n",
    "    elif split==2 and retsu[i]==1:\n",
    "        split= 3\n",
    "if flag and split==3:\n",
    "    print(\"Yes\")\n",
    "else:\n",
    "    print(\"No\")"
   ]
  },
  {
   "cell_type": "code",
   "execution_count": 6,
   "id": "d9548fa9-b1d0-483b-8aca-ac6c9e8e02ae",
   "metadata": {
    "tags": []
   },
   "outputs": [
    {
     "name": "stdin",
     "output_type": "stream",
     "text": [
      " 5 9\n",
      " 2 3\n",
      " 1 U\n",
      " 2 3\n",
      " 1 R\n",
      " 1 D\n",
      " 2 3\n",
      " 1 L\n",
      " 2 1\n",
      " 2 5\n"
     ]
    },
    {
     "ename": "TypeError",
     "evalue": "unsupported operand type(s) for -: 'str' and 'int'",
     "output_type": "error",
     "traceback": [
      "\u001b[1;31m---------------------------------------------------------------------------\u001b[0m",
      "\u001b[1;31mTypeError\u001b[0m                                 Traceback (most recent call last)",
      "Cell \u001b[1;32mIn[6], line 18\u001b[0m\n\u001b[0;32m     16\u001b[0m     now\u001b[38;5;241m.\u001b[39mpop()\n\u001b[0;32m     17\u001b[0m \u001b[38;5;28;01melse\u001b[39;00m:\n\u001b[1;32m---> 18\u001b[0m     \u001b[38;5;28mprint\u001b[39m(\u001b[38;5;124m\"\u001b[39m\u001b[38;5;124m \u001b[39m\u001b[38;5;124m\"\u001b[39m\u001b[38;5;241m.\u001b[39mjoin(\u001b[38;5;28mmap\u001b[39m(\u001b[38;5;28mstr\u001b[39m, now[s\u001b[38;5;241m-\u001b[39m\u001b[38;5;241m1\u001b[39m])))\n",
      "\u001b[1;31mTypeError\u001b[0m: unsupported operand type(s) for -: 'str' and 'int'"
     ]
    }
   ],
   "source": [
    "from collections import deque\n",
    "N, Q = map(int, input().split())\n",
    "queries = [ tuple(map(str, input().split())) for _ in range(Q) ]\n",
    "now = [[i+1, 0] for i in range(N) ]\n",
    "nowx = 0\n",
    "nowy = 0\n",
    "time = 0\n",
    "B = []\n",
    "for t, s in queries:\n",
    "    if t==\"1\":\n",
    "        if C==\"R\":\n",
    "            nowx += 1\n",
    "        elif C==\"L\":\n",
    "            nowx -= 1\n",
    "        elif C==\"U\":\n",
    "            nowy += 1\n",
    "        elif C==\"D\":\n",
    "            nowy -= 1 \n",
    "        time += 1\n",
    "        B.append((nowx, nowy))\n",
    "    else:\n",
    "        if time<=N:\n",
    "            print(*now[s-1])\n",
    "        else:\n",
    "            print(B[time-N-1])"
   ]
  },
  {
   "cell_type": "code",
   "execution_count": 12,
   "id": "217d94b1-a13a-43e2-922b-b9186f2364c3",
   "metadata": {
    "tags": []
   },
   "outputs": [
    {
     "data": {
      "text/plain": [
       "deque([[7, 0], [7, 0], [7, 0], [7, 0], [7, 0]])"
      ]
     },
     "execution_count": 12,
     "metadata": {},
     "output_type": "execute_result"
    }
   ],
   "source": [
    "from itertools import accumulate\n",
    "N, D, P = map(int, input().split())\n",
    "F = list(map(int, input().split()))\n",
    "F.sort(reverse=True)\n",
    "\n",
    "for i in range(N)\n",
    "if N%D==0:\n",
    "    ans = min(N//D*P, sum(F))\n",
    "else:\n",
    "    for i in range(N):\n",
    "        if F[i]<=P/D:\n",
    "            idx = i\n",
    "            ans = min(math.ceil(idx/D)*P, math.ceil"
   ]
  },
  {
   "cell_type": "code",
   "execution_count": 11,
   "id": "b4843e16-c42d-4409-b67b-fcb4a8403ca3",
   "metadata": {
    "tags": []
   },
   "outputs": [
    {
     "name": "stdout",
     "output_type": "stream",
     "text": [
      "7 0\n"
     ]
    }
   ],
   "source": [
    "print(*now[int(s)-1])"
   ]
  },
  {
   "cell_type": "code",
   "execution_count": 16,
   "id": "d0e97f11-1083-42bc-92ce-0f92c54637e9",
   "metadata": {
    "tags": []
   },
   "outputs": [
    {
     "data": {
      "text/plain": [
       "27"
      ]
     },
     "execution_count": 16,
     "metadata": {},
     "output_type": "execute_result"
    }
   ],
   "source": [
    "import math\n",
    "A = [108, 54, 81, 135, 81]\n",
    "g = 0\n",
    "for i in range(len(A)):\n",
    "    g = math.gcd(g, A[i])\n",
    "g"
   ]
  },
  {
   "cell_type": "code",
   "execution_count": 30,
   "id": "9cd1eadd-33c7-4ca3-b0ee-7c7994827fb0",
   "metadata": {},
   "outputs": [
    {
     "ename": "SyntaxError",
     "evalue": "expected ':' (912958451.py, line 27)",
     "output_type": "error",
     "traceback": [
      "\u001b[1;36m  Cell \u001b[1;32mIn[30], line 27\u001b[1;36m\u001b[0m\n\u001b[1;33m    if sum(tests)<K\u001b[0m\n\u001b[1;37m                   ^\u001b[0m\n\u001b[1;31mSyntaxError\u001b[0m\u001b[1;31m:\u001b[0m expected ':'\n"
     ]
    }
   ],
   "source": [
    "import itertools\n",
    "N, M, K = map(int, input().split())\n",
    "# cand = list(iteropols.product([1, 0], repeat=N))\n",
    "tests = []\n",
    "results = []\n",
    "for i in range(M):\n",
    "    tmp = list(map(str, input().split()))\n",
    "    c, A, r = tmp[0], list(map(int, tmp[1:-1])), tmp[-1]\n",
    "    tests.append(A)\n",
    "    results.append(r)\n",
    "ans = 0\n",
    "for i in range(2**N):\n",
    "    # if i.bit_count()<K:\n",
    "        # continue\n",
    "    # print(i)\n",
    "    flag = True\n",
    "    tmp = [0]*N\n",
    "    for j in range(N):\n",
    "        if i>>j&1:\n",
    "            tmp[N-1-j]=1\n",
    "    # print(tmp)\n",
    "    for k in range(M):\n",
    "        A = tests[k]\n",
    "        if sum(A)<K and results[k]==\"o\":\n",
    "            ans = 0\n",
    "            break\n",
    "        key = 0\n",
    "        for num in A:\n",
    "            key += tmp[num-1]\n",
    "        # print(key)\n",
    "        if key>=K and results[k]==\"x\" or key<K and results[k]==\"o\":\n",
    "            flag = False\n",
    "            break\n",
    "    if flag:\n",
    "        ans += 1\n",
    "print(ans)"
   ]
  },
  {
   "cell_type": "code",
   "execution_count": 54,
   "id": "1f85d2bf-98f9-4c6c-8470-14f61017d94a",
   "metadata": {
    "tags": []
   },
   "outputs": [
    {
     "name": "stdin",
     "output_type": "stream",
     "text": [
      " 1152921504606846975 1152921504606846975\n"
     ]
    },
    {
     "name": "stdout",
     "output_type": "stream",
     "text": [
      "499791830\n"
     ]
    }
   ],
   "source": [
    "N, M = map(int, input().split())\n",
    "t = 0\n",
    "mod = 998244353\n",
    "ans = 0\n",
    "while 2**t<=N:\n",
    "    cnt = (N//(2**(t+1))*2**(t))\n",
    "    m = N%(2**t)\n",
    "    if cnt==0:\n",
    "        m = min(m, 2**t)\n",
    "    if not M>>(t)&1:\n",
    "        t += 1\n",
    "        continue\n",
    "    ans += (cnt+m)%mod\n",
    "    t += 1\n",
    "print(ans%mod)"
   ]
  },
  {
   "cell_type": "code",
   "execution_count": 5,
   "id": "2302ab85-9ad9-4be5-afc9-56a005b148c2",
   "metadata": {
    "tags": []
   },
   "outputs": [
    {
     "name": "stdin",
     "output_type": "stream",
     "text": [
      " 3 3\n",
      " 1 2\n",
      " 4 7\n",
      " 4 9\n"
     ]
    },
    {
     "name": "stdout",
     "output_type": "stream",
     "text": [
      "1\n"
     ]
    }
   ],
   "source": [
    "N, D = map(int, input().split())\n",
    "L = []\n",
    "R = []\n",
    "LR = []\n",
    "for i in range(N):\n",
    "    l, r = map(int, input().split())\n",
    "    L.append(l)\n",
    "    R.append(r)\n",
    "    LR.append((l, r))\n",
    "LR.sort()\n",
    "ans = 0\n",
    "now = 0\n",
    "for i in range(N):\n",
    "    if i==0:\n",
    "        ans += 1\n",
    "        now = LR[i][1]+D-1\n",
    "    elif LR[i][1]+D-1<now:\n",
    "        now = LR[i][1]+D-1\n",
    "        \n",
    "    elif LR[i][1]<=now:\n",
    "        continue\n",
    "    else:\n",
    "        ans += 1\n",
    "        now = LR[i][1]+D-1\n",
    "print(ans)\n",
    "    "
   ]
  },
  {
   "cell_type": "code",
   "execution_count": 8,
   "id": "12c13299-49c1-4111-9f88-e3c228add36e",
   "metadata": {
    "tags": []
   },
   "outputs": [
    {
     "name": "stdin",
     "output_type": "stream",
     "text": [
      " 4 3\n",
      " 1 3\n",
      " 2 3\n",
      " 4 3\n"
     ]
    },
    {
     "name": "stdout",
     "output_type": "stream",
     "text": [
      "No\n"
     ]
    }
   ],
   "source": [
    "from collections import defaultdict\n",
    "N, M = map(int, input().split())\n",
    "# dic = defaultdict(lambda: 0)\n",
    "# dic3 = defaultdict(lambda: [])\n",
    "edges = [ tuple(map(int, input().split())) for _ in range(M) ]\n",
    "\n",
    "class unionfind:\n",
    "    def __init__(self, n):\n",
    "        self.n = n\n",
    "        self.par = [-1] * (n+1)\n",
    "        self.size = [1] * (n+1)\n",
    "        \n",
    "    def root(self, x):\n",
    "        while self.par[x] != -1:\n",
    "            x = self.par[x]\n",
    "        return x\n",
    "    \n",
    "    def unite(self, u, v):\n",
    "        rootu = self.root(u)\n",
    "        rootv = self.root(v)\n",
    "        if rootu != rootv:\n",
    "            if self.size[rootu] < self.size[rootv]:\n",
    "                self.par[rootu] = rootv\n",
    "                self.size[rootv] += self.size[rootu]\n",
    "            else:\n",
    "                self.par[rootv] = rootu\n",
    "                self.size[rootu] += self.size[rootv]\n",
    "        \n",
    "    def same(self, u, v):\n",
    "        return self.root(u) == self.root(v)\n",
    "uf = unionfind(N)\n",
    "for a, b in edges:\n",
    "    dic[a]+=1\n",
    "    dic[b]+=1\n",
    "    if dic[a]>2 or dic[b]>2:\n",
    "        ans = \"No\"\n",
    "        break\n",
    "    if uf.same(a, b):\n",
    "        ans = \"No\"\n",
    "        break\n",
    "    uf.unite(a, b)\n",
    "print(ans)"
   ]
  },
  {
   "cell_type": "code",
   "execution_count": 6,
   "id": "52db9e48-8154-4645-847b-244c8c77bfa2",
   "metadata": {},
   "outputs": [
    {
     "name": "stdin",
     "output_type": "stream",
     "text": [
      " 3 4\n",
      " .#..\n",
      " ..#.\n",
      " ..##\n"
     ]
    },
    {
     "name": "stdout",
     "output_type": "stream",
     "text": [
      "4\n"
     ]
    }
   ],
   "source": [
    "\"\"\"AtCoder Beginner Contest 357 C\"\"\"\n",
    "\n",
    "\n",
    "def rec(n3, i, j):\n",
    "    global s\n",
    "\n",
    "    if n3 == 1:\n",
    "        s[i][j] = '#'\n",
    "        return\n",
    "\n",
    "    t = n3 // 3\n",
    "    for ti in range(3):\n",
    "        for tj in range(3):\n",
    "            if ti == 1 and tj == 1:\n",
    "                continue\n",
    "            rec(t, i + t * ti, j + t * tj)\n",
    "\n",
    "\n",
    "n = int(input())\n",
    "n3 = 3 ** n\n",
    "s = [['.' for _ in range(n3)] for _ in range(n3)]\n",
    "\n",
    "rec(n3, 0, 0)\n",
    "\n",
    "for i in range(n3):\n",
    "    print(*s[i], sep='')"
   ]
  },
  {
   "cell_type": "code",
   "execution_count": 19,
   "id": "83d7dbf9-ec84-4d5d-9116-aa79d63db5f7",
   "metadata": {},
   "outputs": [
    {
     "name": "stdin",
     "output_type": "stream",
     "text": [
      " 3\n"
     ]
    },
    {
     "name": "stdout",
     "output_type": "stream",
     "text": [
      "###########################\n",
      "###########################\n",
      "###########################\n",
      "###...######...######...###\n",
      "###...######...######...###\n",
      "###...######...######...###\n",
      "###########################\n",
      "###########################\n",
      "###########################\n",
      "#########.........#########\n",
      "#########.........#########\n",
      "#########.........#########\n",
      "###...###.........###...###\n",
      "###...###.........###...###\n",
      "###...###.........###...###\n",
      "#########.........#########\n",
      "#########.........#########\n",
      "#########.........#########\n",
      "###########################\n",
      "###########################\n",
      "###########################\n",
      "###...######...######...###\n",
      "###...######...######...###\n",
      "###...######...######...###\n",
      "###########################\n",
      "###########################\n",
      "###########################\n"
     ]
    }
   ],
   "source": [
    "N = int(input())\n",
    "pre = 0\n",
    "ans = [list()for _ in range(3**N)]\n",
    "for i in range(3**N):\n",
    "    for j in range(3**N):\n",
    "        "
   ]
  },
  {
   "cell_type": "code",
   "execution_count": 11,
   "id": "4d0acb4e-2cd0-4fb7-a1b2-ca0815be8f9b",
   "metadata": {
    "tags": []
   },
   "outputs": [
    {
     "name": "stdout",
     "output_type": "stream",
     "text": [
      "0 3\n",
      "1 4\n",
      "2 5\n"
     ]
    }
   ],
   "source": [
    "for index in A.index:\n",
    "    print(index, A[index])"
   ]
  },
  {
   "cell_type": "code",
   "execution_count": 57,
   "id": "e16e0542-5a77-4800-a049-68ed7e67fc00",
   "metadata": {},
   "outputs": [
    {
     "name": "stdin",
     "output_type": "stream",
     "text": [
      " 10000000000\n"
     ]
    },
    {
     "ename": "KeyboardInterrupt",
     "evalue": "",
     "output_type": "error",
     "traceback": [
      "\u001b[1;31m---------------------------------------------------------------------------\u001b[0m",
      "\u001b[1;31mKeyboardInterrupt\u001b[0m                         Traceback (most recent call last)",
      "Cell \u001b[1;32mIn[57], line 12\u001b[0m\n\u001b[0;32m     10\u001b[0m \u001b[38;5;28;01mif\u001b[39;00m now \u001b[38;5;129;01mnot\u001b[39;00m \u001b[38;5;129;01min\u001b[39;00m dic:\n\u001b[0;32m     11\u001b[0m     dic\u001b[38;5;241m.\u001b[39madd(now)\n\u001b[1;32m---> 12\u001b[0m     jun\u001b[38;5;241m.\u001b[39mappend(now)\n\u001b[0;32m     13\u001b[0m \u001b[38;5;28;01melse\u001b[39;00m:\n\u001b[0;32m     14\u001b[0m     c \u001b[38;5;241m=\u001b[39m i\n",
      "\u001b[1;31mKeyboardInterrupt\u001b[0m: "
     ]
    }
   ],
   "source": [
    "N = input()\n",
    "mod = 998244353\n",
    "ans = 0\n",
    "jun = []\n",
    "dic = set()\n",
    "now = 0\n",
    "c = 0\n",
    "for i in range(int(N)):\n",
    "    now = int(N)*10**(i*len(N))\n",
    "    if now not in dic:\n",
    "        dic.add(now)\n",
    "        jun.append(now)\n",
    "    else:\n",
    "        c = i\n",
    "        break\n",
    "print(c)    \n",
    "    \n"
   ]
  },
  {
   "cell_type": "code",
   "execution_count": 30,
   "id": "c1c719f3-527c-4119-9901-05cb12f49a56",
   "metadata": {
    "tags": []
   },
   "outputs": [
    {
     "name": "stdin",
     "output_type": "stream",
     "text": [
      " 4 4\n",
      " 1 2\n",
      " 1 3\n",
      " 1 4\n",
      " 3 4\n",
      " 1 3\n",
      " 1 4\n",
      " 2 3\n",
      " 3 4\n"
     ]
    },
    {
     "name": "stdout",
     "output_type": "stream",
     "text": [
      "Yes\n"
     ]
    }
   ],
   "source": [
    "from itertools import permutations\n",
    "from collections import defaultdict\n",
    "N, M = map(int, input().split())\n",
    "toy_A = [ list(map(int, input().split())) for _ in range(M)]\n",
    "toy_B = [ list(map(int, input().split())) for _ in range(M)]\n",
    "cands = list(permutations(range(N)))\n",
    "dica = {}\n",
    "ans = \"No\"\n",
    "G = [ list() for _ in range(N) ]\n",
    "for a, b in toy_A:\n",
    "    G[a-1].append(b-1)\n",
    "    G[b-1].append(a-1)\n",
    "for i in range(N):\n",
    "    G[i].sort()\n",
    "for cand in cands:\n",
    "    G2 = [ list() for _ in range(N) ]\n",
    "    for a, b in toy_B:\n",
    "        a, b = cand[a-1], cand[b-1]\n",
    "        G2[a].append(b)\n",
    "        G2[b].append(a)\n",
    "    for j in range(N):\n",
    "        G2[j].sort()\n",
    "    if G2==G:\n",
    "        ans = \"Yes\"\n",
    "        break\n",
    "print(ans)"
   ]
  },
  {
   "cell_type": "code",
   "execution_count": 26,
   "id": "7c76e499-8459-4f58-aad8-ebac02cd3a6d",
   "metadata": {
    "tags": []
   },
   "outputs": [
    {
     "data": {
      "text/plain": [
       "[[1, 2, 3], [0], [0, 3], [0, 2]]"
      ]
     },
     "execution_count": 26,
     "metadata": {},
     "output_type": "execute_result"
    }
   ],
   "source": [
    "G"
   ]
  },
  {
   "cell_type": "code",
   "execution_count": 27,
   "id": "048812c8-dc5c-4e02-bd7e-1f0dd50ae3df",
   "metadata": {
    "tags": []
   },
   "outputs": [
    {
     "data": {
      "text/plain": [
       "[[3, 1], [3, 2, 0], [1], [1, 0]]"
      ]
     },
     "execution_count": 27,
     "metadata": {},
     "output_type": "execute_result"
    }
   ],
   "source": [
    "G2"
   ]
  },
  {
   "cell_type": "code",
   "execution_count": 16,
   "id": "af1ab70f-7404-41fd-a9f2-633f63b2b614",
   "metadata": {
    "tags": []
   },
   "outputs": [
    {
     "data": {
      "text/plain": [
       "[(1, 2, 3, 4),\n",
       " (1, 2, 4, 3),\n",
       " (1, 3, 2, 4),\n",
       " (1, 3, 4, 2),\n",
       " (1, 4, 2, 3),\n",
       " (1, 4, 3, 2),\n",
       " (2, 1, 3, 4),\n",
       " (2, 1, 4, 3),\n",
       " (2, 3, 1, 4),\n",
       " (2, 3, 4, 1),\n",
       " (2, 4, 1, 3),\n",
       " (2, 4, 3, 1),\n",
       " (3, 1, 2, 4),\n",
       " (3, 1, 4, 2),\n",
       " (3, 2, 1, 4),\n",
       " (3, 2, 4, 1),\n",
       " (3, 4, 1, 2),\n",
       " (3, 4, 2, 1),\n",
       " (4, 1, 2, 3),\n",
       " (4, 1, 3, 2),\n",
       " (4, 2, 1, 3),\n",
       " (4, 2, 3, 1),\n",
       " (4, 3, 1, 2),\n",
       " (4, 3, 2, 1)]"
      ]
     },
     "execution_count": 16,
     "metadata": {},
     "output_type": "execute_result"
    }
   ],
   "source": [
    "cands"
   ]
  },
  {
   "cell_type": "code",
   "execution_count": 1,
   "id": "ada89fc7-8d75-4d98-b2d8-88822655589e",
   "metadata": {
    "tags": []
   },
   "outputs": [
    {
     "name": "stdin",
     "output_type": "stream",
     "text": [
      " 2 40\n",
      " 3 1 8 4\n",
      " 2 10 5\n"
     ]
    },
    {
     "name": "stdout",
     "output_type": "stream",
     "text": [
      "2\n"
     ]
    }
   ],
   "source": [
    "from itertools import product\n",
    "N, X = map(int, input().split())\n",
    "boxes = []\n",
    "Ls = []\n",
    "for _ in range(N):\n",
    "  tmp = list(map(int, input().split()))\n",
    "  boxes.append(tmp[1:])\n",
    "  Ls.append(tmp[0])\n",
    "\n",
    "comb = list(product(*boxes))\n",
    "ans = 0\n",
    "for l in comb:\n",
    "  tmp = 1\n",
    "  for j in range(len(l)):\n",
    "    tmp *= l[j]\n",
    "  if tmp==X:\n",
    "    ans += 1\n",
    "print(ans)"
   ]
  },
  {
   "cell_type": "code",
   "execution_count": 6,
   "id": "522ac481-5f4a-4bdc-8b82-cb18700e7137",
   "metadata": {
    "tags": []
   },
   "outputs": [
    {
     "name": "stdin",
     "output_type": "stream",
     "text": [
      " 3\n",
      " 1 2 3\n",
      " 4 5 6\n"
     ]
    },
    {
     "name": "stdout",
     "output_type": "stream",
     "text": [
      "0\n",
      "0\n"
     ]
    }
   ],
   "source": [
    "N = int(input())\n",
    "A = list(map(int, input().split()))\n",
    "B = list(map(int, input().split()))\n",
    "sA = set(A)\n",
    "sB = set(B)\n",
    "Aix = [ (A[i], i) for i in range(N) ]\n",
    "Bix = [ (B[i], i) for i in range(N) ]\n",
    "sAix = set(Aix)\n",
    "sBix = set(Bix)\n",
    "ans1 = sA & sB\n",
    "ans2 = sAix & sBix\n",
    "print(len(ans2))\n",
    "print(len(ans1)-len(ans2))"
   ]
  },
  {
   "cell_type": "code",
   "execution_count": 28,
   "id": "f0a13074-2f1a-4cc2-bb78-3f12f4939a45",
   "metadata": {
    "tags": []
   },
   "outputs": [
    {
     "name": "stdin",
     "output_type": "stream",
     "text": [
      " 6 8\n",
      " 82 76 82 82 71 70\n",
      " 17 39 67 2 45 35 22 24\n"
     ]
    },
    {
     "name": "stdout",
     "output_type": "stream",
     "text": [
      "3\n"
     ]
    }
   ],
   "source": [
    "N, M = map(int, input().split())\n",
    "A = list(map(int, input().split()))\n",
    "B = list(map(int, input().split()))\n",
    "A.sort()\n",
    "B.sort()\n",
    "t = 0\n",
    "ans = 100000000000000000\n",
    "for i in range(N):\n",
    "    a = A[i]\n",
    "    b = B[t]\n",
    "    now = abs(a-b)\n",
    "    ans = min(ans, now)\n",
    "    if a>b or i==N-1:\n",
    "        while t<M-1:\n",
    "            t += 1\n",
    "            b = B[t]\n",
    "            now = abs(a-b)\n",
    "            ans = min(ans, now)\n",
    "            if a<b or t==M:\n",
    "                t -= 1\n",
    "                break\n",
    "print(ans)"
   ]
  },
  {
   "cell_type": "code",
   "execution_count": 53,
   "id": "c5d904a4-8f31-474a-b2f8-1e1938bc8755",
   "metadata": {
    "tags": []
   },
   "outputs": [
    {
     "name": "stdin",
     "output_type": "stream",
     "text": [
      " 3 4 6\n",
      " 1 2\n",
      " 2 3\n",
      " 4 5\n",
      " 4 6\n",
      " 1 3\n",
      " 6 7\n"
     ]
    },
    {
     "name": "stdout",
     "output_type": "stream",
     "text": [
      "5\n"
     ]
    }
   ],
   "source": [
    "from collections import deque\n",
    "N1, N2, M = map(int, input().split())\n",
    "edges = [ tuple(map(int, input().split())) for _ in range(M) ]\n",
    "G1 = [list() for _ in range(N1)]\n",
    "G2 = [list() for _ in range(N2)]\n",
    "for a, b in edges:\n",
    "    if a<=N1:\n",
    "        G1[a-1].append(b-1)\n",
    "        G1[b-1].append(a-1)\n",
    "    else:\n",
    "        G2[a-1-N1].append(b-1-N1)\n",
    "        G2[b-1-N1].append(a-1-N1)        \n",
    "que = []\n",
    "dist1 = [-1]*N1\n",
    "dist1[0] = 0\n",
    "pos = 0\n",
    "que.append(pos)\n",
    "\n",
    "def bfs(s, N, G):\n",
    "    dist = [-1] * N\n",
    "    dist[s] = 0\n",
    "    q = deque()\n",
    "    q.append(s)\n",
    "\n",
    "    while len(q)>0:\n",
    "        pos = q.popleft()\n",
    "        for nex in G[pos]:\n",
    "            if dist[nex] == -1:\n",
    "                dist[nex] = dist[pos] + 1\n",
    "                q.append(nex)\n",
    "    return dist\n",
    "dist1 = bfs(0, N1, G1)\n",
    "dist2 = bfs(N2-1, N2, G2)\n",
    "print(max(dist1)+max(dist2)+1)\n",
    "# while len(que)>0:\n",
    "#     pos = que.pop()\n",
    "#     for nex in G1[pos]:\n",
    "#         if dist1[nex]==-1:\n",
    "#             dist1[nex] = dist1[pos]+1\n",
    "#             que.append(nex)\n",
    "# que = []\n",
    "# dist2 = [-1]*N2\n",
    "# dist2[N2-1] = 0\n",
    "# que.append(N2-1)\n",
    "# while len(que)>0:\n",
    "#     pos = que.pop()\n",
    "#     for nex in G2[pos]:\n",
    "#         if dist2[nex]==-1:\n",
    "#             dist2[nex] = dist2[pos]+1\n",
    "#             que.append(nex)\n",
    "# print(max(dist1)+max(dist2)+1)"
   ]
  },
  {
   "cell_type": "markdown",
   "id": "feacecc2-5c61-42c7-9db7-3a474f873b81",
   "metadata": {
    "tags": []
   },
   "source": [
    "dist1"
   ]
  },
  {
   "cell_type": "code",
   "execution_count": 25,
   "id": "59c4f610-dd6d-41ba-b755-9897c8f7b881",
   "metadata": {},
   "outputs": [
    {
     "name": "stdin",
     "output_type": "stream",
     "text": [
      " 8 6\n",
      " xxoxxo\n",
      " xxoxxx\n",
      " xoxxxx\n",
      " xxxoxx\n",
      " xxoooo\n",
      " xxxxox\n",
      " xoxxox\n",
      " oxoxxo\n"
     ]
    },
    {
     "name": "stdout",
     "output_type": "stream",
     "text": [
      "3\n"
     ]
    }
   ],
   "source": [
    "N, M = map(int, input().split())\n",
    "S = [ list(input()) for _ in range(N) ]\n",
    "ans = N\n",
    "for i in range(1<<N):\n",
    "    tmp = [0]*M\n",
    "    for j in range(N):\n",
    "        if i>>j&1:\n",
    "            for k in range(len(S[j])):\n",
    "                if S[j][k]=='o':\n",
    "                    tmp[k]=1\n",
    "    if sum(tmp)==M:\n",
    "        ans = min(ans, i.bit_count())\n",
    "print(ans)"
   ]
  },
  {
   "cell_type": "code",
   "execution_count": 28,
   "id": "aa3e9bbe-ffaf-4c9a-aecb-134ee949014f",
   "metadata": {
    "tags": []
   },
   "outputs": [
    {
     "name": "stdin",
     "output_type": "stream",
     "text": [
      " 7 3\n",
      " 2 6 8 9 5 1 11\n",
      " 3 5 7\n"
     ]
    },
    {
     "name": "stdout",
     "output_type": "stream",
     "text": [
      "19\n"
     ]
    }
   ],
   "source": [
    "N, M = map(int, input().split())\n",
    "A = list(map(int, input().split()))\n",
    "B = list(map(int, input().split()))\n",
    "A.sort()\n",
    "B.sort()\n",
    "ans = 0\n",
    "cnt = 0\n",
    "t = 0\n",
    "for i in range(N):\n",
    "    if A[i]>=B[t]:\n",
    "        ans += A[i]\n",
    "        t += 1\n",
    "        if t==M:\n",
    "            break\n",
    "if t==M:\n",
    "    print(ans)\n",
    "else:\n",
    "    print(-1)"
   ]
  },
  {
   "cell_type": "code",
   "execution_count": 32,
   "id": "a3b043a6-5ac4-4b04-9b9a-a278704a047b",
   "metadata": {
    "tags": []
   },
   "outputs": [
    {
     "name": "stdin",
     "output_type": "stream",
     "text": [
      " 2\n",
      " 2 1 1 0 0 0 0 0 0 0 0 0 0 0 0 0 0 0 0 0 0 0 0 0 0 0\n"
     ]
    },
    {
     "name": "stdout",
     "output_type": "stream",
     "text": [
      "28\n"
     ]
    }
   ],
   "source": [
    "from math import factorial\n",
    "from collections import Counter\n",
    "K = int(input())\n",
    "C = list(map(int, input().split()))\n",
    "ans = 0\n",
    "mod = 998244353\n",
    "for i in range(1, K+1):\n",
    "    tmp = 1\n",
    "    k = sum(C)\n",
    "    bunshi = factorial(k)\n",
    "    flag = False\n",
    "    for j in range(26):\n",
    "        if i==1:\n",
    "            if C[j]!=0:\n",
    "                ans += 1%mod\n",
    "        else:\n",
    "            if C[j]>=2:\n",
    "                flag = True\n",
    "                c = min(C[j], K)\n",
    "                tmp = tmp*factorial(c)%mod\n",
    "    if flag:\n",
    "        ans = (ans + bunshi//(bunshi-i))%mod\n",
    "    else:\n",
    "        ans = (ans + bunshi//(tmp))%mod\n",
    "print(ans)\n",
    "                "
   ]
  },
  {
   "cell_type": "code",
   "execution_count": 34,
   "id": "9d2a16f5-bb6a-45f7-945d-adff1432df95",
   "metadata": {
    "tags": []
   },
   "outputs": [
    {
     "data": {
      "text/plain": [
       "24"
      ]
     },
     "execution_count": 34,
     "metadata": {},
     "output_type": "execute_result"
    }
   ],
   "source": [
    "# 357 C\n",
    "N = int(input())\n",
    "\n",
    "X = [[\"#\"]*3**N for _ in range(3**N)]\n",
    "\n",
    "for a in range(N):\n",
    "  for i in range(3**N):\n",
    "    for j in range(3**N):\n",
    "      if (i // 3**a) % 3 == 1 and (j // 3**a) % 3 == 1:\n",
    "        X[i][j] = \".\"\n",
    "\n",
    "for i in range(3**N):\n",
    "  print(*X[i], sep=\"\")"
   ]
  },
  {
   "cell_type": "code",
   "execution_count": 39,
   "id": "956f08f3-79cd-4574-829d-8bbd3e329cd4",
   "metadata": {
    "tags": []
   },
   "outputs": [
    {
     "name": "stdin",
     "output_type": "stream",
     "text": [
      " 2 767090\n"
     ]
    },
    {
     "name": "stdout",
     "output_type": "stream",
     "text": [
      "76\n"
     ]
    }
   ],
   "source": [
    "# 357 D\n",
    "from collections import deque\n",
    "import heapq\n",
    "\n",
    "a, N = map(int, input().split())\n",
    "dic = {}\n",
    "M = list(str(N))\n",
    "M.sort(reverse=True)\n",
    "M = int(''.join(map(str, M)))\n",
    "for i in range(1, 10**7):\n",
    "  dic[i]=-1\n",
    "que = []\n",
    "\n",
    "heapq.heappush(que, (0, N))\n",
    "dic[N] = 0\n",
    "while len(que)>0 and dic[1]==-1:\n",
    "  pos = heapq.heappop(que)[1]\n",
    "  nex = pos\n",
    "  nex = str(nex)\n",
    "  t = 0\n",
    "  if int(pos)%a==0 and dic[int(pos)//a]==-1:\n",
    "    dic[int(pos)//a]=dic[int(pos)]+1\n",
    "    heapq.heappush(que, (dic[int(pos)//a], int(pos)//a))\n",
    "  for i in range(len(nex)-1):\n",
    "    nex = nex[1:]+nex[0]\n",
    "    t += 1\n",
    "    if nex[0]=='0':\n",
    "        continue\n",
    "    if dic[int(nex)]==-1:\n",
    "      dic[int(nex)] = dic[pos]+t\n",
    "      que.append((dic[int(nex)], int(nex)))\n",
    "    if int(nex)%a==0 and dic[int(nex)//a]==-1:\n",
    "      dic[int(nex)//a] = dic[int(pos)]+t+1\n",
    "      que.append((dic[int(nex)//a], int(nex)//a))\n",
    "print(dic[1])"
   ]
  },
  {
   "cell_type": "code",
   "execution_count": 28,
   "id": "badcaa88-1fc6-4447-b4ef-598913479a8e",
   "metadata": {},
   "outputs": [
    {
     "data": {
      "text/plain": [
       "'456'"
      ]
     },
     "execution_count": 28,
     "metadata": {},
     "output_type": "execute_result"
    }
   ],
   "source": [
    "from functools import cache\n",
    "@cache\n",
    "def f(N):\n",
    "    return 0 if N == 1 else f(N // 2) + f((N + 1) // 2) + N\n",
    "print(f(int(input())))"
   ]
  },
  {
   "cell_type": "code",
   "execution_count": null,
   "id": "a1a5c06f-b7b0-457b-be00-25357c5702b7",
   "metadata": {},
   "outputs": [],
   "source": [
    "H, W = map(int, input().split())\n",
    "S = [ list(input()) for _ in range(H)]\n",
    "ans = 0\n",
    "for i in range(H):\n",
    "    for j in range(W-4):\n",
    "        if S[i][j:j+5]=='snuke':\n",
    "            ans = [ tuple(i, j+k) for k in range(5)]\n",
    "            break\n",
    "        elif S[i][j:j+5]=='ekuns':\n",
    "            ans = [ tuple(i, j+4-k) for k in range(5) ]\n",
    "            break\n",
    "for i in range(W):\n",
    "    for j in range(H-4):\n",
    "        if S[j][i]=='s' and S[j+1][i]=='n' and S[j+2][i]=='u' and S[j+3][i]=='k' and S[j+4][i]=='e':\n",
    "            ans = [ tuple(j+k, i) for k in range(5)]\n",
    "            break\n",
    "        elif S[j][i]=='e' and S[j+1][i]=='k' and S[j+2][i]=='u' and S[j+3][i]=='n' and S[j+4][i]=='s':\n",
    "            ans = [ tuple(j+4-k, i) for k in range(5)]\n",
    "            break\n",
    "print(ans)"
   ]
  },
  {
   "cell_type": "code",
   "execution_count": null,
   "id": "6fc01fda-11cf-4ff5-a3fe-c3992dfd32c6",
   "metadata": {},
   "outputs": [],
   "source": [
    "H, W = map(int, input().split())\n",
    "S = [ list(input()) for _ in range(H)]\n",
    "dic = {}\n",
    "A = [0, 1, 2, 3, 4]\n",
    "B = [0, 0, 0, 0, 0]\n",
    "def find(h, w, A, B):\n",
    "    tmp = ''\n",
    "    for i in range(5):\n",
    "        tmp += S[h+A[i]][w+B[i]]\n",
    "    dic[tmp] = [[h+a+1, w+b+1] for a, b in zip(A, B)]\n",
    "for i in range(H):\n",
    "    for j in range(W-4):\n",
    "        B = [0, 1, 2, 3, 4]\n",
    "        A = [0, 0, 0, 0, 0]\n",
    "        find(i, j, A, B)\n",
    "for i in range(W):\n",
    "    for j in range(H-4):\n",
    "        A = [0, 1, 2, 3, 4]\n",
    "        B = [0, 0, 0, 0, 0]\n",
    "        find(j, i, A, B)\n",
    "for i in range(H-4):\n",
    "    for j in range(W-4):\n",
    "        A1 = [0, 1, 2, 3, 4]\n",
    "        B1 = [0, 1, 2, 3, 4]\n",
    "        find(i, j, A1, B1)\n",
    "for i in range(H-1, 3, -1):\n",
    "    for j in range(W-4):\n",
    "        A1 = [0, -1, -2, -3, -4]\n",
    "        B1 = [0, 1, 2, 3, 4]\n",
    "        find(i, j, A1, B1)\n",
    "if 'snuke' in dic:\n",
    "    for i in range(5):\n",
    "        print(*dic['snuke'][i])\n",
    "elif 'ekuns' in dic:\n",
    "    for i in reversed(range(5)):\n",
    "        print(*dic['ekuns'][i])"
   ]
  },
  {
   "cell_type": "code",
   "execution_count": null,
   "id": "6cd11712-db68-4b7e-961e-ee930ef78376",
   "metadata": {},
   "outputs": [],
   "source": [
    "N = int(input())\n",
    "A = list(map(int, input().split()))\n",
    "Ag = []\n",
    "Ak = []\n",
    "for i in range(N):\n",
    "    if A[i]%2==0:\n",
    "        Ag.append(A[i])\n",
    "    else:\n",
    "        Ak.append(A[i])\n",
    "\n",
    "\n",
    "Ag.sort()\n",
    "Ak.sort()\n",
    "if len(Ag)>=2:\n",
    "    if len(Ak)>=2:\n",
    "        print(max(Ak[-1]+Ak[-2], Ag[-1]+Ag[-2]))\n",
    "    else:\n",
    "        print(Ag[-2]+Ag[-1])\n",
    "elif len(Ak)>=2:\n",
    "    print(Ak[-2]+Ak[-1])\n",
    "else:\n",
    "    print(-1)"
   ]
  },
  {
   "cell_type": "code",
   "execution_count": 13,
   "id": "1f72b148-30ad-402e-8cb4-8ba9473eedd4",
   "metadata": {
    "tags": []
   },
   "outputs": [],
   "source": [
    "S = input()\n",
    "Q = int(input())\n",
    "\n",
    "def g(s,add):\n",
    "    return chr((ord(s)-ord('A')+add)%3+ord('A'))\n",
    "\n",
    "def f(t,k):\n",
    "    if k == 0:\n",
    "        return g(S[0],t)\n",
    "    if t == 0:\n",
    "        return S[k]\n",
    "    return g(f(t-1,k//2),k%2+1)\n",
    "\n",
    "for i in range(Q):\n",
    "    t,k = map(int,input().split())\n",
    "    print(f(t,k-1))"
   ]
  },
  {
   "cell_type": "code",
   "execution_count": 3,
   "id": "25cc9501-7c6e-408c-9aae-87a191af9f85",
   "metadata": {},
   "outputs": [
    {
     "name": "stdin",
     "output_type": "stream",
     "text": [
      " 10\n"
     ]
    },
    {
     "name": "stdout",
     "output_type": "stream",
     "text": [
      "1\n",
      "1 1\n",
      "1 2 1\n",
      "1 3 3 1\n",
      "1 4 6 4 1\n",
      "1 5 10 10 5 1\n",
      "1 6 15 20 15 6 1\n",
      "1 7 21 35 35 21 7 1\n",
      "1 8 28 56 70 56 28 8 1\n",
      "1 9 36 84 126 126 84 36 9 1\n"
     ]
    }
   ],
   "source": [
    "N = int(input())\n",
    "ans = []\n",
    "for i in range(N):\n",
    "    if i==0:\n",
    "        ans.append([i+1])\n",
    "    else:\n",
    "        tmp = []\n",
    "        for j in range(i+1):\n",
    "            if j==0 or j==i:\n",
    "                tmp.append(1)\n",
    "            else:\n",
    "                tmp.append(ans[i-1][j-1]+ans[i-1][j])\n",
    "        ans.append(tmp)\n",
    "for i in range(N):\n",
    "    print(*ans[i])"
   ]
  },
  {
   "cell_type": "code",
   "execution_count": 10,
   "id": "381b9b01-58c8-45bb-b64d-1707871bef4c",
   "metadata": {
    "tags": []
   },
   "outputs": [
    {
     "name": "stdin",
     "output_type": "stream",
     "text": [
      " 10\n",
      " 9 10\n",
      " 3 10\n",
      " 4 10\n",
      " 8 10\n",
      " 1 10\n",
      " 2 10\n",
      " 7 10\n",
      " 6 10\n",
      " 5 10\n"
     ]
    },
    {
     "name": "stdout",
     "output_type": "stream",
     "text": [
      "No\n"
     ]
    }
   ],
   "source": [
    "from collections import defaultdict\n",
    "from sortedcontainers import SortedSet\n",
    "N = int(input())\n",
    "edges = [ list(map(int, input().split())) for _ in range(N-1)]\n",
    "G = [ list() for _ in range(N) ]\n",
    "dic = defaultdict(lambda: set())\n",
    "for a, b in edges:\n",
    "    dic[a-1].add(b-1)\n",
    "    dic[b-1].add(a-1)\n",
    "flag = False\n",
    "for i in range(N):\n",
    "    if len(G[i])==N-1:\n",
    "        flag = True\n",
    "        break\n",
    "if flag:\n",
    "    print('Yes')\n",
    "else:\n",
    "    print('No')"
   ]
  },
  {
   "cell_type": "code",
   "execution_count": 21,
   "id": "6d646733-ff7b-4113-9602-61381008a77b",
   "metadata": {
    "tags": []
   },
   "outputs": [
    {
     "name": "stdin",
     "output_type": "stream",
     "text": [
      " 576461302059761664\n"
     ]
    },
    {
     "name": "stdout",
     "output_type": "stream",
     "text": [
      "0\n",
      "524288\n",
      "549755813888\n",
      "549756338176\n",
      "576460752303423488\n",
      "576460752303947776\n",
      "576461302059237376\n",
      "576461302059761664\n"
     ]
    }
   ],
   "source": [
    "N = int(input())\n",
    "Nb = bin(N)[2:]\n",
    "idx = []\n",
    "for i in range(len(Nb)):\n",
    "    if Nb[i]=='1':\n",
    "        idx.append(2**(len(Nb)-i-1))\n",
    "M = len(idx)\n",
    "ans = []\n",
    "for i in range(2**M):\n",
    "    tmp = 0\n",
    "    for j in range(M):\n",
    "        if i>>j&1:\n",
    "            tmp += idx[j]\n",
    "    ans.append(tmp)\n",
    "ans.sort()\n",
    "for i in range(len(ans)):\n",
    "    print(ans[i])"
   ]
  },
  {
   "cell_type": "code",
   "execution_count": 22,
   "id": "8b4c140c-805d-4fae-b2d4-5379c6095c51",
   "metadata": {
    "tags": []
   },
   "outputs": [
    {
     "name": "stdin",
     "output_type": "stream",
     "text": [
      " 4 3\n",
      " 3 14 15 92\n",
      " 6 53 58\n"
     ]
    },
    {
     "name": "stdout",
     "output_type": "stream",
     "text": [
      "1 3 4 7\n",
      "2 5 6\n"
     ]
    }
   ],
   "source": [
    "N, M = map(int, input().split())\n",
    "A = list(map(int, input().split()))\n",
    "B = list(map(int, input().split()))\n",
    "dica = {}\n",
    "dicb = {}\n",
    "for i in range(N):\n",
    "    dica[A[i]]=i\n",
    "for i in range(M):\n",
    "    dicb[B[i]]=i\n",
    "C = A+B\n",
    "C.sort()\n",
    "Aidx = []\n",
    "Bidx = []\n",
    "for i in range(N+M):\n",
    "    if C[i] in dica:\n",
    "        Aidx.append(i+1)\n",
    "    else:\n",
    "        Bidx.append(i+1)\n",
    "print(*Aidx)\n",
    "print(*Bidx)"
   ]
  },
  {
   "cell_type": "code",
   "execution_count": null,
   "id": "a8c52797-ea3c-4a63-afb0-2a403d5821ab",
   "metadata": {
    "tags": []
   },
   "outputs": [],
   "source": [
    "N, S = map(int, input().split())\n",
    "cards = [ list(map(int, input().split())) for _ in range(N) ]\n",
    "visited = [[False]*(S+1) for _ in range(N+1)]\n",
    "ans = [['']*(S+1) for _ in range(N+1)]\n",
    "visited[1][cards[0][0]]=True\n",
    "visited[1][cards[0][1]]=True\n",
    "ans[1][cards[0][0]]+='H'\n",
    "ans[1][cards[0][1]]+='T'\n",
    "for i in range(1, N):\n",
    "    a, b = cards[i][0], cards[i][1]\n",
    "    for j in range(1, S+1):\n",
    "        if visited[i][j]:\n",
    "            if j+a<=S:\n",
    "                visited[i+1][j+a]=True\n",
    "                ans[i+1][j+a]=ans[i][j]+'H'\n",
    "            if j+b<=S:\n",
    "                visited[i+1][j+b]=True\n",
    "                ans[i+1][j+b]+=ans[i][j]+'T'\n",
    "if visited[N][S]:\n",
    "    print(ans[N][S])\n",
    "else:\n",
    "    print('No')"
   ]
  },
  {
   "cell_type": "code",
   "execution_count": 1,
   "id": "b57de737-33db-4db1-887f-356d22301c04",
   "metadata": {
    "tags": []
   },
   "outputs": [
    {
     "name": "stdin",
     "output_type": "stream",
     "text": [
      " 3\n",
      " Aoki\n",
      " Takahashi\n",
      " Takahashi\n"
     ]
    },
    {
     "name": "stdout",
     "output_type": "stream",
     "text": [
      "2\n"
     ]
    }
   ],
   "source": [
    "N = int(input())\n",
    "ans = 0\n",
    "for i in range(N):\n",
    "    s = input()\n",
    "    if s=='Takahashi':\n",
    "        ans += 1\n",
    "print(ans)"
   ]
  },
  {
   "cell_type": "code",
   "execution_count": 53,
   "id": "4abbc1ad-25ed-466e-87f7-9b4a064d660f",
   "metadata": {},
   "outputs": [
    {
     "name": "stdin",
     "output_type": "stream",
     "text": [
      " 3 1\n",
      " 4 1\n"
     ]
    },
    {
     "name": "stdout",
     "output_type": "stream",
     "text": [
      "0\n"
     ]
    }
   ],
   "source": [
    "Sx, Sy = map(int, input().split())\n",
    "Tx, Ty = map(int, input().split())\n",
    "ans = abs(Ty-Sy)\n",
    "if Sy%2==1 and Sx%2==1 and (Tx-Sx)>0:\n",
    "    Sx += 1\n",
    "elif Sy%2==1 and Sx%2==0 and (Tx-Sy)<0:\n",
    "    Sx -= 1\n",
    "elif Sy%2==0 and Sx%2==0 and (Tx-Sx)>0:\n",
    "    Sx += 1\n",
    "elif Sy%2==0 and Sx%2==1 and (Tx-Sx)<0:\n",
    "    Sx -= 1\n",
    "Xpos = abs(Tx-Sx)\n",
    "if ans>=Xpos:\n",
    "    print(ans)\n",
    "else:\n",
    "    if Tx-Sx>=0:\n",
    "        Sx+=ans\n",
    "    else:\n",
    "        Sx-=ans\n",
    "    if Ty%2==1:\n",
    "        ans += abs((Tx-1)//2 - (Sx-1)//2)\n",
    "        print(ans)\n",
    "    else:\n",
    "        ans += abs(Tx//2-Sx//2)\n",
    "        print(ans)"
   ]
  },
  {
   "cell_type": "code",
   "execution_count": 55,
   "id": "70ba3647-cc6d-4f29-a6b9-9993de733999",
   "metadata": {
    "tags": []
   },
   "outputs": [
    {
     "name": "stdin",
     "output_type": "stream",
     "text": [
      " 3 4\n",
      " AAA\n"
     ]
    },
    {
     "data": {
      "text/plain": [
       "1024"
      ]
     },
     "execution_count": 55,
     "metadata": {},
     "output_type": "execute_result"
    }
   ],
   "source": [
    "from itertools import product\n",
    "import bisect\n",
    "N, K = map(int, input().split())\n",
    "S = input()\n",
    "it = list(product(['A', 'B'], repeat=K))\n",
    "dic = {}\n",
    "for i in range(len(it)):\n",
    "    if K%2==1:\n",
    "        l =  it[i][K//2]\n",
    "        r = list(reversed(it[K//2+1:]))\n",
    "        if r==l:\n",
    "            dic[it[i]]==1\n",
    "    elif K%2==0:\n",
    "        l  it[i][K//2]\n",
    "        r = list(reversed(it[K//2:]))\n",
    "        if l==r:\n",
    "            dic[it[i]]==1:\n",
    "idxs = []\n",
    "for i in range(N):\n",
    "    if S[i]=='?':\n",
    "        idxs.append(i)\n",
    "ans \n",
    "for i in range(N-K):\n",
    "    tmp = S[i+i+K]\n",
    "    l = bisect.bisect_left(idxs, i)\n",
    "    r = bisect.bisect_rigft(idxs, i+K)\n",
    "    idx = idxs[l:r]\n",
    "    if len(idx)>0:\n",
    "        for i in range(2**(len(idx))):\n",
    "            for j in range(len(idx)):\n",
    "                if i>>j&1:\n",
    "                    tmp = tmp[:idx[j]]+'A'+tmp[idx[j]:]\n",
    "                else:\n",
    "                    tmp = tmp[:idx[j]]+'B'+tmp[idx[j]:]\n",
    "        if tmp in dic:\n",
    "            sub += ((2**len(idxs))-len(idx))\n",
    "        "
   ]
  },
  {
   "cell_type": "code",
   "execution_count": 14,
   "id": "e465e2d4-f02b-4104-9a45-6b276ec77009",
   "metadata": {
    "tags": []
   },
   "outputs": [
    {
     "name": "stdin",
     "output_type": "stream",
     "text": [
      " 4 4\n",
      " bbed\n",
      " abcd\n",
      " abed\n",
      " fbed\n"
     ]
    },
    {
     "name": "stdout",
     "output_type": "stream",
     "text": [
      "Yes\n"
     ]
    }
   ],
   "source": [
    "from itertools import permutations\n",
    "N, M = map(int, input().split())\n",
    "S = []\n",
    "# flag = [False]*N\n",
    "for i in range(N):\n",
    "    S.append(list(input()))\n",
    "cands = list(permutations(range(N), r=N))\n",
    "ans = 'No'\n",
    "for cand in cands:\n",
    "    for j in range(N-1):\n",
    "        s = S[cand[j]]\n",
    "        nex = S[cand[j+1]]\n",
    "        cnt = 0\n",
    "        flag = True\n",
    "        for k in range(M):\n",
    "            if s[k]==nex[k]:\n",
    "                cnt += 1\n",
    "        if cnt!=M-1:\n",
    "            flag = False\n",
    "            break\n",
    "    if flag:\n",
    "        ans = \"Yes\"\n",
    "        break\n",
    "\n",
    "print(ans)\n",
    "        "
   ]
  },
  {
   "cell_type": "code",
   "execution_count": 31,
   "id": "bd9eacb4-df3a-4072-9c11-557d8233add6",
   "metadata": {
    "jp-MarkdownHeadingCollapsed": true,
    "tags": []
   },
   "outputs": [
    {
     "name": "stdin",
     "output_type": "stream",
     "text": [
      " 5 6\n",
      " .##...\n",
      " ...#..\n",
      " ....##\n",
      " #.#...\n",
      " ..#...\n"
     ]
    },
    {
     "name": "stdout",
     "output_type": "stream",
     "text": [
      "3\n"
     ]
    }
   ],
   "source": [
    "class unionfind:\n",
    "    def __init__(self, n):\n",
    "        self.n = n\n",
    "        self.par = [-1] * (n+1)\n",
    "        self.size = [1] * (n+1)\n",
    "        \n",
    "    def root(self, x):\n",
    "        while self.par[x] != -1:\n",
    "            x = self.par[x]\n",
    "        return x\n",
    "    \n",
    "    def unite(self, u, v):\n",
    "        rootu = self.root(u)\n",
    "        rootv = self.root(v)\n",
    "        if rootu != rootv:\n",
    "            if self.size[rootu] < self.size[rootv]:\n",
    "                self.par[rootu] = rootv\n",
    "                self.size[rootv] += self.size[rootu]\n",
    "            else:\n",
    "                self.par[rootv] = rootu\n",
    "                self.size[rootu] += self.size[rootv]\n",
    "        \n",
    "    def same(self, u, v):\n",
    "        return self.root(u) == self.root(v)\n",
    "    \n",
    "H, W = map(int, input().split())\n",
    "S = [ list(input()) for _ in range(H) ]\n",
    "move = [(1, 0), (1, 1), (0, 1), (-1, 0), (-1, -1), (0, -1), (1, -1), (-1, 1)]\n",
    "uf = unionfind(H*W)\n",
    "cnt = 0\n",
    "dic = {}\n",
    "idxs = []\n",
    "dic = {}\n",
    "for i in range(H):\n",
    "    for j in range(W):\n",
    "        if S[i][j]=='#':\n",
    "            idxs.append((i, j))\n",
    "            dic[(i, j)]=-1\n",
    "uf = unionfind(len(idxs))\n",
    "idxs.sort()\n",
    "for i, pos in enumerate(idxs):\n",
    "    dic[(pos[0], pos[1])]=i\n",
    "for i, pos in enumerate(idxs):\n",
    "    h, w = pos\n",
    "    for a, b in move:\n",
    "        if 0<=h+a<H and 0<=w+b<W and (h+a, w+b) in dic:\n",
    "            uf.unite(dic[(h, w)], dic[(h+a, w+b)])\n",
    "ans = 0\n",
    "ans = uf.par.count(-1)-1\n",
    "print(ans)"
   ]
  },
  {
   "cell_type": "code",
   "execution_count": 18,
   "id": "3fc2505b-69cd-45e4-9803-fbbdd9e953e0",
   "metadata": {
    "tags": []
   },
   "outputs": [
    {
     "name": "stdin",
     "output_type": "stream",
     "text": [
      " 100\n",
      " ABAABAABABBABAABAABAABABBABBABBABBABBABBABBABBABBABBABBABBABBABBABAABABAABABBABBABABBABAABAABAABAABA\n"
     ]
    },
    {
     "name": "stdout",
     "output_type": "stream",
     "text": [
      "30\n",
      "2\n",
      "147483634\n"
     ]
    }
   ],
   "source": [
    "N = int(input())\n",
    "S = input()\n",
    "idxs= set()\n",
    "ans=0\n",
    "mod = int(1e9+7)\n",
    "cnt = 0\n",
    "f = 0\n",
    "t = 0\n",
    "for i in range(N-2):\n",
    "    if S[i:i+3]=='ABA' or S[i:i+3]=='BAB':\n",
    "        idxs.add(i)\n",
    "        if i==0:\n",
    "            cnt +=1\n",
    "            ans += 1\n",
    "        elif i>0 and i-1 not in idxs:\n",
    "            ans +=1\n",
    "            cnt = 1\n",
    "        else:\n",
    "            cnt +=1\n",
    "            if cnt%2==1:\n",
    "                f +=1\n",
    "                if cnt==3:\n",
    "                    ans -= 1\n",
    "                    t += 1\n",
    "\n",
    "print(ans)\n",
    "print(f)\n",
    "ans = 2**ans%mod+(f)%mod\n",
    "print(ans%mod)\n",
    "                \n",
    "\n",
    "        \n"
   ]
  },
  {
   "cell_type": "code",
   "execution_count": 20,
   "id": "18e74d6c-9592-48e7-bd72-c66ffc2e77d0",
   "metadata": {
    "tags": []
   },
   "outputs": [
    {
     "name": "stdin",
     "output_type": "stream",
     "text": [
      " SMR\n"
     ]
    },
    {
     "name": "stdout",
     "output_type": "stream",
     "text": [
      "No\n"
     ]
    }
   ],
   "source": [
    "S = input()\n",
    "flag = False\n",
    "flag2 = False\n",
    "for i in range(3):\n",
    "    if S[i]=='R':\n",
    "        flag = True\n",
    "    elif flag and S[i]=='M':\n",
    "        flag2 = True\n",
    "if flag2:\n",
    "    print('Yes')\n",
    "else:\n",
    "    print('No')"
   ]
  },
  {
   "cell_type": "code",
   "execution_count": 32,
   "id": "f226ceda-a9ae-492e-b29a-28af963bd1b1",
   "metadata": {
    "tags": []
   },
   "outputs": [
    {
     "name": "stdin",
     "output_type": "stream",
     "text": [
      " verticalreading agh\n"
     ]
    },
    {
     "name": "stdout",
     "output_type": "stream",
     "text": [
      "No\n"
     ]
    }
   ],
   "source": [
    "S, T = map(str, input().split())\n",
    "A = []\n",
    "for i in range(1, len(S)):\n",
    "    tmp = []\n",
    "    for j in range(0, len(S), i):\n",
    "        tmp.append(S[j:j+i])\n",
    "    A.append(tmp)\n",
    "ans = 'No'\n",
    "for i in range(len(A)):\n",
    "    l = len(A[i][0])\n",
    "    for j in range(l):\n",
    "        tmp = ''\n",
    "        for k in range(len(A[i])):\n",
    "            if len(A[i][k])>=(j+1):\n",
    "                tmp += A[i][k][j]\n",
    "        # print(tmp)\n",
    "    if tmp==T:\n",
    "        ans = 'Yes'\n",
    "        break\n",
    "print(ans)        \n"
   ]
  },
  {
   "cell_type": "code",
   "execution_count": 26,
   "id": "2fc7b715-4175-4543-8cd1-0a6b3f3066b3",
   "metadata": {},
   "outputs": [
    {
     "data": {
      "text/plain": [
       "[['a', 't', 'c', 'o', 'd', 'e', 'r'],\n",
       " ['at', 'co', 'de', 'r'],\n",
       " ['atc', 'ode', 'r'],\n",
       " ['atco', 'der'],\n",
       " ['atcod', 'er'],\n",
       " ['atcode', 'r']]"
      ]
     },
     "execution_count": 26,
     "metadata": {},
     "output_type": "execute_result"
    }
   ],
   "source": [
    "S, T = map(str, input().split())\n",
    "for i in range(1, len(S)):\n",
    "    for j in range(i):\n",
    "        tmp = ''\n",
    "        for k in range(j+1):\n",
    "            tmp += S[k]"
   ]
  },
  {
   "cell_type": "code",
   "execution_count": 38,
   "id": "86a1f401-aef5-4b00-9d0e-c9746e969146",
   "metadata": {
    "tags": []
   },
   "outputs": [
    {
     "name": "stdin",
     "output_type": "stream",
     "text": [
      " atcoder toe\n"
     ]
    },
    {
     "name": "stdout",
     "output_type": "stream",
     "text": [
      "Yes\n"
     ]
    }
   ],
   "source": [
    "S, T = map(str, input().split())\n",
    "A = []\n",
    "for i in range(1, len(S)):\n",
    "    tmp = []\n",
    "    for j in range(0, len(S), i):\n",
    "        tmp.append(S[j:j+i])\n",
    "    A.append(tmp)\n",
    "ans = 'No'\n",
    "for i in range(len(A)):\n",
    "    l = len(A[i][0])\n",
    "    for j in range(l):\n",
    "        tmp = ''\n",
    "        for k in range(len(A[i])):\n",
    "            if len(A[i][k])>=(j+1):\n",
    "                tmp += A[i][k][j]\n",
    "        # print(tmp)\n",
    "        if tmp==T:\n",
    "            ans = 'Yes'\n",
    "        # break\n",
    "print(ans)  "
   ]
  },
  {
   "cell_type": "code",
   "execution_count": 45,
   "id": "e944c74c-37cb-44fd-8ba8-db776e7eac8e",
   "metadata": {
    "tags": []
   },
   "outputs": [
    {
     "name": "stdin",
     "output_type": "stream",
     "text": [
      " 5\n",
      " 2 2 3 3 5\n",
      " 33 40 2 12 16\n"
     ]
    },
    {
     "name": "stdout",
     "output_type": "stream",
     "text": [
      "35\n"
     ]
    }
   ],
   "source": [
    "from collections import defaultdict\n",
    "N = int(input())\n",
    "A = list(map(int, input().split()))\n",
    "W = list(map(int, input().split()))\n",
    "dic = defaultdict(lambda: [])\n",
    "ans = 0\n",
    "for i in range(N):\n",
    "    dic[A[i-1]].append(W[i-1])\n",
    "for key in dic.keys():\n",
    "    if len(dic[key])>1:\n",
    "        dic[key].sort()\n",
    "        for i in range(len(dic[key])-1):\n",
    "            ans += dic[key][i]\n",
    "print(ans)"
   ]
  },
  {
   "cell_type": "code",
   "execution_count": 49,
   "id": "ce5905ca-7d95-498c-9f05-49f633c97b8e",
   "metadata": {
    "tags": []
   },
   "outputs": [
    {
     "name": "stdin",
     "output_type": "stream",
     "text": [
      " 6 3\n",
      " 101010\n",
      " -5 -1 0 1 2 4\n"
     ]
    },
    {
     "name": "stdout",
     "output_type": "stream",
     "text": [
      "1 0\n",
      "2 0\n",
      "3 1\n",
      "5\n"
     ]
    }
   ],
   "source": [
    "import bisect\n",
    "N, T = map(int ,input().split())\n",
    "S = input()\n",
    "X = list(map(int, input().split()))\n",
    "Xl = []\n",
    "Xld = []\n",
    "Xr = []\n",
    "Xrd = []\n",
    "for i in range(N):\n",
    "    if S[i]=='0':\n",
    "        Xl.append(X[i])\n",
    "        Xld.append(X[i]-T-0.1)\n",
    "    else:\n",
    "        Xr.append(X[i])\n",
    "        Xrd.append(X[i]+T+0.1)\n",
    "Xl.sort()\n",
    "Xr.sort()\n",
    "Xld.sort()\n",
    "Xrd.sort()\n",
    "ans = 0\n",
    "for i in range(len(Xl)):\n",
    "    before = bisect.bisect_left(Xr, Xl[i])\n",
    "    after = bisect.bisect_right(Xrd, Xld[i])\n",
    "    # print(before, after)\n",
    "    ans += (before-after)\n",
    "print(ans)\n"
   ]
  },
  {
   "cell_type": "code",
   "execution_count": null,
   "id": "edd5b3d2-9d35-4344-bd5b-127d3e58e4c2",
   "metadata": {},
   "outputs": [],
   "source": [
    "import math\n",
    "mod = 998244353\n",
    "N, K = map(int, input().split())\n",
    "def solve(K, num, c):\n",
    "    return (((N-1)**c)%mod*math.comb(K, c+1))%mod\n",
    "bunshi = 0\n",
    "rest = 0\n",
    "for i in range(1, K+1):\n",
    "    if i==1:\n",
    "        bunbo += (((N+1)*N//2-1)*K*2)%mod\n",
    "        rest += (N-1)*K%mod\n",
    "    else:\n",
    "        bunbo += pow(N-1, i, mod)*((N*(N+1))//2-1)*comb(K, i)%mod\n",
    "        rest += comb(K, i)*pow(N-1, i, mod)*(N-1)%mod\n",
    "ans = pow(N, 2*K, mod)"
   ]
  },
  {
   "cell_type": "code",
   "execution_count": 3,
   "id": "76315405-2ae7-49f7-b77d-8fa7df46b81d",
   "metadata": {
    "tags": []
   },
   "outputs": [
    {
     "name": "stdin",
     "output_type": "stream",
     "text": [
      " 2 4\n",
      " xxxx\n",
      " oxox\n"
     ]
    },
    {
     "name": "stdout",
     "output_type": "stream",
     "text": [
      "0\n"
     ]
    }
   ],
   "source": [
    "N, M = map(int, input().split())\n",
    "S = [ list(input()) for _ in range(N) ]\n",
    "ans = 0\n",
    "for i in range(N-1):\n",
    "    tmp = [False]*M\n",
    "    for k in range(M):\n",
    "        if S[i][k]=='o':\n",
    "            tmp[k]=True\n",
    "    for j in range(i+1, N):\n",
    "        tmp2 = tmp.copy()\n",
    "        for k in range(M):\n",
    "            if S[j][k]=='o':\n",
    "                tmp2[k]=True\n",
    "        if sum(tmp2)==M:\n",
    "            ans += 1\n",
    "print(ans)"
   ]
  },
  {
   "cell_type": "code",
   "execution_count": 78,
   "id": "dc9b16d2-7986-46d8-a412-6fb5b7bc2f1e",
   "metadata": {
    "tags": []
   },
   "outputs": [
    {
     "name": "stdin",
     "output_type": "stream",
     "text": [
      " 19876\n"
     ]
    },
    {
     "name": "stdout",
     "output_type": "stream",
     "text": [
      "2219958\n"
     ]
    }
   ],
   "source": [
    "import math\n",
    "N = int(input())\n",
    "ans = 0\n",
    "for i in range(1, N):\n",
    "    X, Y = i, N-i\n",
    "    lim = int(math.sqrt(X))+1\n",
    "    x = 0\n",
    "    for j in range(1, lim):\n",
    "        if X%j==0:\n",
    "            x +=1\n",
    "            if j*j!=X:\n",
    "                x += 1\n",
    "    lim = int(math.sqrt(Y))+1\n",
    "    y = 0\n",
    "    for j in range(1, lim):\n",
    "        if Y%j==0:\n",
    "            y += 1\n",
    "            if j*j!=Y:\n",
    "                y += 1\n",
    "    ans += x*y\n",
    "print(ans)            "
   ]
  },
  {
   "cell_type": "code",
   "execution_count": 38,
   "id": "9ae2745f-1556-42cd-ae56-786838ce5861",
   "metadata": {
    "tags": []
   },
   "outputs": [
    {
     "name": "stdin",
     "output_type": "stream",
     "text": [
      " 999999999999999999\n"
     ]
    },
    {
     "name": "stdout",
     "output_type": "stream",
     "text": [
      "762062362\n"
     ]
    }
   ],
   "source": [
    "dic = {}\n",
    "mod = 998244353\n",
    "for i in range(1, 19):\n",
    "    if i==1:\n",
    "        dic[10**i] = 10**i*(10**i-1)//2\n",
    "    else:\n",
    "        m = 10**i-dic[10**(i-1)]\n",
    "        dic[10**i] = m*(m+1)//2\n",
    "N = int(input())\n",
    "ans = 0\n",
    "for i in range(1, 19):\n",
    "    if 10**i<=N:\n",
    "        if i==1:\n",
    "            ans += 10**i*(10**i-1)//2\n",
    "        else:\n",
    "            ans += (10**i-(10**(i-1)-1))*(10**i-(10**(i-1)-1)-1)//2%mod\n",
    "    else:\n",
    "        if i==1:\n",
    "            ans += (N*(N+1)//2%mod)\n",
    "            break\n",
    "        else:\n",
    "            ans += ((N-(10**(i-1)-1))*(N-(10**(i-1)-1)+1)//2)%mod\n",
    "            break\n",
    "print(ans%mod)"
   ]
  },
  {
   "cell_type": "code",
   "execution_count": 49,
   "id": "6b529e6b-b993-4ef3-8901-8d3022753fa8",
   "metadata": {
    "tags": []
   },
   "outputs": [
    {
     "name": "stdin",
     "output_type": "stream",
     "text": [
      " 2 1 2\n",
      " 2 2\n"
     ]
    },
    {
     "name": "stdout",
     "output_type": "stream",
     "text": [
      "2 2 2\n"
     ]
    }
   ],
   "source": [
    "N, K, X = map(int, input().split())\n",
    "A = list(map(int, input().split()))\n",
    "A.insert(K, X)\n",
    "print(*A)"
   ]
  },
  {
   "cell_type": "code",
   "execution_count": 71,
   "id": "e908519a-0e8f-41d0-abc9-70297b3efff9",
   "metadata": {
    "tags": []
   },
   "outputs": [
    {
     "name": "stdin",
     "output_type": "stream",
     "text": [
      " 8 3\n",
      " 31 43 26 6 18 36 22 13\n"
     ]
    },
    {
     "name": "stdout",
     "output_type": "stream",
     "text": [
      "18\n"
     ]
    }
   ],
   "source": [
    "N, K = map(int, input().split())\n",
    "A = list(map(int, input().split()))\n",
    "A.sort(reverse=True)\n",
    "ans = 10000000000\n",
    "L = N-K-1\n",
    "for i in range(N-L-1):\n",
    "    tmp = A[i]-A[i+L]\n",
    "    # print(tmp)\n",
    "    ans = min(ans, tmp)\n",
    "for i in range(K):\n",
    "    ans = min(ans, A[i]-A[N-1-K+i])\n",
    "print(ans)\n",
    "\n"
   ]
  },
  {
   "cell_type": "code",
   "execution_count": 94,
   "id": "ca9325c9-076c-450b-aa07-14cac11fc671",
   "metadata": {},
   "outputs": [
    {
     "name": "stdin",
     "output_type": "stream",
     "text": [
      " 14\n",
      " BBBWBWWWBBWWBW\n",
      " WBWWBBWWWBWBBB\n"
     ]
    },
    {
     "name": "stdout",
     "output_type": "stream",
     "text": [
      "7\n"
     ]
    }
   ],
   "source": [
    "import heapq\n",
    "N = int(input())\n",
    "S = input()\n",
    "T = input()\n",
    "S += '..'\n",
    "T += '..'\n",
    "dic = {}\n",
    "que = []\n",
    "dic[S]=0\n",
    "heapq.heappush(que, (0, S))\n",
    "while len(que)>0 and T not in dic:\n",
    "    d, now = heapq.heappop(que)\n",
    "    for i in range(len(now)-1):\n",
    "        if now[i:i+2]!=T[i:i+2] and now[i:i+2]=='WW' or now[i:i+2]=='BW' or now[i:i+2]=='WB' or now[i:i+2]=='BB':\n",
    "            a = now[i:i+2]\n",
    "            # print(a)\n",
    "            tmp = now\n",
    "            tmp = tmp.replace('..', a)\n",
    "            # print(tmp)\n",
    "            tmp = tmp[:i]+'..'+tmp[i+2:]\n",
    "            # print(tm?p)\n",
    "            if tmp not in dic:\n",
    "                dic[tmp]=d+1\n",
    "                heapq.heappush(que, (dic[tmp], tmp))\n",
    "if T in dic:\n",
    "    print(dic[T])\n",
    "else:\n",
    "    print(-1)"
   ]
  },
  {
   "cell_type": "code",
   "execution_count": 87,
   "id": "6cb6d20a-364b-4caf-b9c3-2b0cff118a65",
   "metadata": {
    "tags": []
   },
   "outputs": [
    {
     "data": {
      "text/plain": [
       "{'BWBWBW..': 0,\n",
       " '..BWBW..': 1,\n",
       " 'B..WBW..': 1,\n",
       " 'BW..BW..': 1,\n",
       " 'BWB..W..': 1,\n",
       " 'BWBW....': 1,\n",
       " '....BW..': 2,\n",
       " '..B..W..': 2,\n",
       " '..BW....': 2,\n",
       " 'B....W..': 2,\n",
       " 'B..W....': 2,\n",
       " 'BW......': 2,\n",
       " '........': 3}"
      ]
     },
     "execution_count": 87,
     "metadata": {},
     "output_type": "execute_result"
    }
   ],
   "source": [
    "import heapq\n",
    "N = int(input())\n",
    "edges = [ list(map(int, input().split())) for _ in range(N-1) ]\n",
    "G = [ list() for _ in range(N) ]\n",
    "for a, b, c in edges:\n",
    "    G[a-1].append((c, b-1))\n",
    "    G[b-1].append((c, a-1))\n",
    "mx = N\n",
    "for i in range(N):\n",
    "    if len(G)<mx:\n",
    "        mx = len(G)\n",
    "        start = i\n",
    "dist = [-1]*N\n",
    "dics[start] = 0\n",
    "que = []\n",
    "heapq.heappush(que, (0, start))\n",
    "ans = 0\n",
    "while len(que)>0:\n",
    "    pos = heapq.heappop(que)\n",
    "    for c, nex in G[pos]:\n",
    "        if dist[nex]==-1:\n",
    "            dist[nex] = dist[pos]+c\n",
    "            ans += min(dist[nex], )"
   ]
  },
  {
   "cell_type": "code",
   "execution_count": 95,
   "id": "28c159d7-72ee-4d66-ae54-2ed808b57353",
   "metadata": {
    "tags": []
   },
   "outputs": [
    {
     "name": "stdin",
     "output_type": "stream",
     "text": [
      " 5 2\n",
      " 3 1 4 5 9\n"
     ]
    },
    {
     "name": "stdout",
     "output_type": "stream",
     "text": [
      "2\n"
     ]
    }
   ],
   "source": [
    "N, K = map(int, input().split())\n",
    "A = list(map(int, input().split()))\n",
    "A.sort()\n",
    "\n",
    "ans = 1000000000000000000\n",
    "L = N - K\n",
    "\n",
    "for i in range(N - L + 1):\n",
    "    tmp = A[i + L - 1] - A[i]\n",
    "    ans = min(ans, tmp)\n",
    "\n",
    "print(ans)"
   ]
  },
  {
   "cell_type": "code",
   "execution_count": 36,
   "id": "995146be-c5ca-44ef-8dab-1f457b50fdd2",
   "metadata": {},
   "outputs": [
    {
     "name": "stdin",
     "output_type": "stream",
     "text": [
      " -505 191 278\n"
     ]
    },
    {
     "name": "stdout",
     "output_type": "stream",
     "text": [
      "118.8587851448069 526.6674369978655\n"
     ]
    }
   ],
   "source": [
    "import math\n",
    "a, b, d = map(int, input().split())\n",
    "r = math.sqrt(a**2+b**2)\n",
    "theta = math.atan2(b, a)\n",
    "c = math.cos(theta+math.radians(d))*r\n",
    "d = math.sin(theta+math.radians(d))*r\n",
    "print(c, d)"
   ]
  },
  {
   "cell_type": "code",
   "execution_count": 40,
   "id": "c723c6a6-c32c-4c95-859e-0752c8c0d9d1",
   "metadata": {
    "tags": []
   },
   "outputs": [
    {
     "name": "stdin",
     "output_type": "stream",
     "text": [
      " Perfect\n"
     ]
    },
    {
     "name": "stdout",
     "output_type": "stream",
     "text": [
      "No\n"
     ]
    }
   ],
   "source": [
    "S = input()\n",
    "flag = True\n",
    "s = S.lower()\n",
    "SS = S.upper()\n",
    "if S==s or S==SS:\n",
    "    flag = False\n",
    "dic = {}\n",
    "for i in range(len(S)):\n",
    "    if S[i] not in dic:\n",
    "        dic[S[i]] = 1\n",
    "    else:\n",
    "        flag = False\n",
    "        break\n",
    "if flag:\n",
    "    print('Yes')\n",
    "else:\n",
    "    print('No')"
   ]
  },
  {
   "cell_type": "code",
   "execution_count": 58,
   "id": "fb9907d7-c5c7-4a6b-91dc-e18e5fb28f0e",
   "metadata": {
    "tags": []
   },
   "outputs": [
    {
     "name": "stdin",
     "output_type": "stream",
     "text": [
      " 100\n"
     ]
    },
    {
     "name": "stdout",
     "output_type": "stream",
     "text": [
      "323\n"
     ]
    }
   ],
   "source": [
    "import math\n",
    "N = int(input())\n",
    "lim= int(N**(1/3))+1\n",
    "ans = 0\n",
    "for i in range(1, lim):\n",
    "    t = N//i\n",
    "    m = int(math.sqrt(t))+1\n",
    "    for j in range(i, m):\n",
    "        l = N//(i*j)\n",
    "        ans += (l-j+1)\n",
    "print(ans)"
   ]
  },
  {
   "cell_type": "code",
   "execution_count": 8,
   "id": "ea6f301a-f5e4-4ad6-b253-63093005cda7",
   "metadata": {
    "tags": []
   },
   "outputs": [
    {
     "data": {
      "text/plain": [
       "1.2246467991473532e-16"
      ]
     },
     "execution_count": 8,
     "metadata": {},
     "output_type": "execute_result"
    }
   ],
   "source": [
    "math.sin(math.radians(180))"
   ]
  },
  {
   "cell_type": "code",
   "execution_count": 61,
   "id": "f9fae40c-51ed-421f-b025-b90f09429f6a",
   "metadata": {
    "tags": []
   },
   "outputs": [
    {
     "name": "stdin",
     "output_type": "stream",
     "text": [
      " 100000000000\n"
     ]
    },
    {
     "name": "stdout",
     "output_type": "stream",
     "text": [
      "5745290566750\n"
     ]
    }
   ],
   "source": [
    "N = int(input())\n",
    "index_of = [0] * (N + 1)\n",
    "A = list(map(int, input().split()))\n",
    "for i, v in enumerate(A):\n",
    "    index_of[v] = i\n",
    "\n",
    "ans = []\n",
    "for i, v in enumerate(A):\n",
    "    if i + 1 != v:\n",
    "        _i = index_of[i + 1]\n",
    "        ans.append((i + 1, _i + 1))\n",
    "        index_of[A[_i]] = i\n",
    "        index_of[A[i]] = _i\n",
    "\n",
    "        A[i], A[_i] = A[_i], A[i]\n",
    "\n",
    "\n",
    "print(len(ans))\n",
    "for a, b in ans:\n",
    "    print(a, b)\n"
   ]
  },
  {
   "cell_type": "code",
   "execution_count": 16,
   "id": "f5fe8a72-9ab2-483b-8b87-80efa666fc01",
   "metadata": {},
   "outputs": [
    {
     "name": "stdin",
     "output_type": "stream",
     "text": [
      " 3 3\n",
      " 24 0 0\n",
      " 0 25 0\n",
      " 0 0 26\n"
     ]
    },
    {
     "name": "stdout",
     "output_type": "stream",
     "text": [
      "X..\n",
      ".Y.\n",
      "..Z\n"
     ]
    }
   ],
   "source": [
    "H, W = map(int, input().split())\n",
    "S = []\n",
    "for i in range(H):\n",
    "    s = list(map(str, input().split()))\n",
    "    S.append(s)\n",
    "ans = []\n",
    "for i in range(H):\n",
    "    tmp = []\n",
    "    for j in range(W):\n",
    "        if S[i][j]=='0':\n",
    "            tmp.append('.')\n",
    "        else:\n",
    "            tmp.append(chr(int(S[i][j])+ord('a')-1).upper())\n",
    "    ans.append(tmp)\n",
    "for i in range(H):\n",
    "    print(*ans[i], sep='')"
   ]
  },
  {
   "cell_type": "code",
   "execution_count": 18,
   "id": "e0c8e18b-e2e6-405c-bdbd-ac15dd3a6b03",
   "metadata": {
    "tags": []
   },
   "outputs": [
    {
     "name": "stdin",
     "output_type": "stream",
     "text": [
      " 4\n",
      " 0 0\n",
      " 2 4\n",
      " 5 0\n",
      " 3 4\n"
     ]
    },
    {
     "name": "stdout",
     "output_type": "stream",
     "text": [
      "3\n",
      "3\n",
      "1\n",
      "1\n"
     ]
    }
   ],
   "source": [
    "import math\n",
    "N = int(input())\n",
    "points = [ tuple(map(int, input().split())) for _ in range(N) ]\n",
    "ans = []\n",
    "def solve(a, b, c, d):\n",
    "    return math.sqrt((a-c)**2+(b-d)**2)\n",
    "for i in range(N):\n",
    "    a, b = points[i]\n",
    "    f = -1\n",
    "    p = -1\n",
    "    for j in range(N):\n",
    "        if i==j:\n",
    "            continue\n",
    "        c, d = points[j]\n",
    "        res = solve(a, b, c, d)\n",
    "        if res>f:\n",
    "            p = j+1\n",
    "            f = res\n",
    "    ans.append(p)\n",
    "for i in range(N):\n",
    "    print(ans[i])"
   ]
  },
  {
   "cell_type": "code",
   "execution_count": null,
   "id": "ef4fe495-cf9d-4d13-ad78-a964d6733c1b",
   "metadata": {
    "tags": []
   },
   "outputs": [],
   "source": [
    "S = input()\n",
    "T = input()\n",
    "sm = []\n",
    "tm = []\n",
    "pre = '7'\n",
    "cnt = 0\n",
    "for i in range(len(T)):\n",
    "    t = T[i]\n",
    "    if pre==t:\n",
    "        cnt += 1\n",
    "        pre = T[i]\n",
    "    else:\n",
    "        if cnt==0:\n",
    "            pre = T[i]\n",
    "            cnt = 1\n",
    "        else:\n",
    "            tm.append((pre, cnt))\n",
    "            pre = T[i]\n",
    "            cnt = 1\n",
    "if T[-1]!=T[-2]:\n",
    "    tm.append((T[-1], 1))\n",
    "cnt = 0\n",
    "pre = '7'\n",
    "for i in range(len(S)):\n",
    "    s = S[i]\n",
    "    if pre==s:\n",
    "        cnt += 1\n",
    "        pre = S[i]\n",
    "    else:\n",
    "        if cnt==0:\n",
    "            pre = S[i]\n",
    "            cnt = 1\n",
    "        else:\n",
    "            sm.append((pre, cnt))\n",
    "            pre = S[i]\n",
    "            cnt = 1\n",
    "if S[-1]!=S[-2]:\n",
    "    sm.append((S[-1], 1))\n",
    "ans = 'Yes'\n",
    "l = 0\n",
    "for i in range(len(sm)):\n",
    "    s, c = sm[i]\n",
    "    if tm[i][0]!=s:\n",
    "        ans = 'No'\n",
    "        break\n",
    "    if c!=tm[i][1] and c==1 or c>tm[i][1]:\n",
    "        ans = 'No'\n",
    "        break\n",
    "    # elif c!=tm[i][1] and c<tm[i][1]:\n",
    "    #     l += (tm[i][1]-c)\n",
    "if len(sm)!=len(tm):\n",
    "    ans = 'No'\n",
    "print(ans)"
   ]
  },
  {
   "cell_type": "code",
   "execution_count": 20,
   "id": "ced39834-9345-42e5-9ba9-254eaa59e120",
   "metadata": {
    "tags": []
   },
   "outputs": [
    {
     "data": {
      "text/plain": [
       "'abbbbaaac'"
      ]
     },
     "execution_count": 20,
     "metadata": {},
     "output_type": "execute_result"
    }
   ],
   "source": [
    "S = input()\n",
    "T = input()\n",
    "pre = '7'\n",
    "idx = 0\n",
    "sa = ''\n",
    "while idx<len(S)\n",
    "    if S[idx]!=pre:\n",
    "        now = S[idx]\n",
    "        while now==S[idx]:\n",
    "            idx += 1\n",
    "         "
   ]
  },
  {
   "cell_type": "code",
   "execution_count": 38,
   "id": "2004b936-a535-42a6-80ba-08bae0d2539c",
   "metadata": {
    "tags": []
   },
   "outputs": [
    {
     "name": "stdout",
     "output_type": "stream",
     "text": [
      "199999 m\n"
     ]
    }
   ],
   "source": [
    "S = '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'\n",
    "T = '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'\n",
    "for i in range(len(S)):\n",
    "    if S[i]!=T[i]:\n",
    "        print(i, S[i])"
   ]
  },
  {
   "cell_type": "code",
   "execution_count": 9,
   "id": "6a0c4aa5-5bd2-451d-91b6-a537ba39ab03",
   "metadata": {
    "tags": []
   },
   "outputs": [
    {
     "name": "stdin",
     "output_type": "stream",
     "text": [
      " 1000000000 1000000000 999999999 999999999\n"
     ]
    },
    {
     "name": "stdout",
     "output_type": "stream",
     "text": [
      "Yes\n"
     ]
    }
   ],
   "source": [
    "x1, y1, x2, y2 = map(int, input().split())\n",
    "def solve(a, b, x, y):\n",
    "    return ((a-x)**2+(b-y)**2)\n",
    "xx = [-2, -1, 0, 1, 2]\n",
    "yy = [-2, -1, 0, 1, 2]\n",
    "ans = 'No'\n",
    "for x in xx:\n",
    "    if ans=='Yes':\n",
    "        break\n",
    "    for y in yy:\n",
    "        dist1 = solve(x1+x, y1+y, x1, y1)\n",
    "        dist2 = solve(x1+x, y1+y, x2, y2)\n",
    "        if dist1==dist2==5:\n",
    "            ans = 'Yes'\n",
    "            break\n",
    "print(ans)"
   ]
  },
  {
   "cell_type": "code",
   "execution_count": 1,
   "id": "3b24db5d-a31c-4dba-af97-7ef5445c9694",
   "metadata": {
    "tags": []
   },
   "outputs": [
    {
     "name": "stdin",
     "output_type": "stream",
     "text": [
      " 1 100 50 60\n"
     ]
    },
    {
     "ename": "NameError",
     "evalue": "name 'nC' is not defined",
     "output_type": "error",
     "traceback": [
      "\u001b[1;31m---------------------------------------------------------------------------\u001b[0m",
      "\u001b[1;31mNameError\u001b[0m                                 Traceback (most recent call last)",
      "Cell \u001b[1;32mIn[1], line 7\u001b[0m\n\u001b[0;32m      5\u001b[0m \u001b[38;5;28;01mif\u001b[39;00m \u001b[38;5;28mlen\u001b[39m(c)\u001b[38;5;241m==\u001b[39m\u001b[38;5;241m0\u001b[39m:\n\u001b[0;32m      6\u001b[0m     c\u001b[38;5;241m.\u001b[39madd(i)\n\u001b[1;32m----> 7\u001b[0m \u001b[38;5;28;01melif\u001b[39;00m i \u001b[38;5;129;01mnot\u001b[39;00m \u001b[38;5;129;01min\u001b[39;00m nC:\n\u001b[0;32m      8\u001b[0m     c\u001b[38;5;241m.\u001b[39madd(i)\n\u001b[0;32m      9\u001b[0m     \u001b[38;5;28;01mfor\u001b[39;00m j \u001b[38;5;129;01min\u001b[39;00m \u001b[38;5;28mrange\u001b[39m(i\u001b[38;5;241m+\u001b[39mi, \u001b[38;5;241m201\u001b[39m, i):\n",
      "\u001b[1;31mNameError\u001b[0m: name 'nC' is not defined"
     ]
    }
   ],
   "source": [
    "A, B, C, D = map(int, input().split())\n",
    "c = set()\n",
    "nc = set()\n",
    "for i in range(1, 201):\n",
    "    if len(c)==0:\n",
    "        c.add(i)\n",
    "    elif i not in nc:\n",
    "        c.add(i)\n",
    "        for j in range(i+i, 201, i):\n",
    "            nc.add(j)\n",
    "ans = 'Aoki'\n",
    "for i in range(A, B+1):\n",
    "    flag = True\n",
    "    for j in range(C, D+1):\n",
    "        if i+j in c:\n",
    "            flag = False\n",
    "            break\n",
    "    if flag:\n",
    "        ans = 'Takahashi'\n",
    "        break\n",
    "print(ans)"
   ]
  },
  {
   "cell_type": "code",
   "execution_count": 34,
   "id": "9cc178e4-3e8d-4855-9f4b-1529a31611f1",
   "metadata": {
    "tags": []
   },
   "outputs": [
    {
     "data": {
      "text/plain": [
       "192233"
      ]
     },
     "execution_count": 34,
     "metadata": {},
     "output_type": "execute_result"
    }
   ],
   "source": [
    "len(tm)"
   ]
  },
  {
   "cell_type": "code",
   "execution_count": 26,
   "id": "7c53f6ff-1d79-4f7a-9f9c-d64730274c55",
   "metadata": {
    "tags": []
   },
   "outputs": [
    {
     "name": "stdin",
     "output_type": "stream",
     "text": [
      " 6 2\n",
      " 10 10 10 9 8 8\n",
      " 1 4\n",
      " 2 1\n",
      " 2 5\n",
      " 3 2\n",
      " 6 4\n",
      " 1 4\n",
      " 2 2\n"
     ]
    },
    {
     "name": "stdout",
     "output_type": "stream",
     "text": [
      "3\n",
      "10\n"
     ]
    }
   ],
   "source": [
    "from sortedcontainers import SortedSet\n",
    "from collections import defaultdict\n",
    "import heapq\n",
    "N, Q = map(int, input().split())\n",
    "X = list(map(int, input().split()))\n",
    "edges = [ tuple(map(int, input().split())) for _ in range(N-1) ]\n",
    "nums = {}\n",
    "for i in range(len(X)):\n",
    "    nums[i]=X[i]\n",
    "queries = [ tuple(map(int, input().split())) for _ in range(Q)]\n",
    "G = [ list() for _ in range(N) ]\n",
    "G2 = [ list() for _ in range(N) ]\n",
    "for a, b in edges:\n",
    "    if a>b:\n",
    "        a, b = b, a\n",
    "    G[a-1].append(b-1)\n",
    "    G2[a-1].append(nums[b-1])\n",
    "dic = defaultdict(lambda: [])\n",
    "for i in reversed(range(N)):\n",
    "    if len(G[i])>0:\n",
    "        heapq.heappush(dic[i], nums[i])\n",
    "        for j in G[i]:\n",
    "            heapq.heappush(dic[i], j) \n",
    "    else:\n",
    "        heapq.heappush(dic[i], nums[i])\n",
    "for v, k in queries:\n",
    "    l = len(dic[v-1])\n",
    "    print(dic[v-1][l-k])"
   ]
  },
  {
   "cell_type": "code",
   "execution_count": 30,
   "id": "37573676-42c7-479d-919a-a533d0474369",
   "metadata": {
    "tags": []
   },
   "outputs": [
    {
     "name": "stdin",
     "output_type": "stream",
     "text": [
      " 37 39 93\n",
      " Blue\n"
     ]
    },
    {
     "name": "stdout",
     "output_type": "stream",
     "text": [
      "37\n"
     ]
    }
   ],
   "source": [
    "R, G, B = map(int, input().split())\n",
    "C = input()\n",
    "if C=='Red':\n",
    "    print(min(G, B))\n",
    "elif C=='Green':\n",
    "    print(min(R, B))\n",
    "else:\n",
    "    print(min(R, G))"
   ]
  },
  {
   "cell_type": "code",
   "execution_count": 36,
   "id": "a6cfd2fe-c695-43c5-90a2-d9b7619e9986",
   "metadata": {
    "tags": []
   },
   "outputs": [
    {
     "name": "stdin",
     "output_type": "stream",
     "text": [
      " 0 0\n",
      " 4 0\n",
      " 0 3\n"
     ]
    },
    {
     "name": "stdout",
     "output_type": "stream",
     "text": [
      "Yes\n"
     ]
    }
   ],
   "source": [
    "import math\n",
    "x1, y1 = map(int, input().split())\n",
    "x2, y2 = map(int, input().split())\n",
    "x3, y3 = map(int, input().split())\n",
    "def solve(x1, y1, x2, y2):\n",
    "    return (x1-x2)**2+(y1-y2)**2\n",
    "a = solve(x1, y1, x2, y2)\n",
    "b = solve(x1, y1, x3, y3)\n",
    "c = solve(x2, y2, x3, y3)\n",
    "if a+b==c or a+c==b or b+c==a:\n",
    "    print('Yes')\n",
    "else:\n",
    "    print('No')"
   ]
  },
  {
   "cell_type": "code",
   "execution_count": 44,
   "id": "7432325d-b847-489e-b9b5-c20f38bd0722",
   "metadata": {
    "tags": []
   },
   "outputs": [
    {
     "name": "stdin",
     "output_type": "stream",
     "text": [
      " 6\n",
      " -87 12\n",
      " -60 -54\n",
      " 2 38\n",
      " -76 6\n",
      " 87 96\n",
      " -17 38\n"
     ]
    },
    {
     "name": "stdout",
     "output_type": "stream",
     "text": [
      "Yes\n",
      "12 -54 38 -66 87 -17\n"
     ]
    }
   ],
   "source": [
    "N = int(input())\n",
    "lr = [ tuple(map(int, input().split())) for _ in range(N) ]\n",
    "mn = 0\n",
    "mx = 0\n",
    "for l, r in lr:\n",
    "    mn += l\n",
    "    mx += r\n",
    "if mn<=0<=mx:\n",
    "    print('Yes')\n",
    "    X = []\n",
    "    t = mn\n",
    "    for l, r in lr:\n",
    "        if t!=0:\n",
    "            if l-t<=r:\n",
    "                X.append(l-t)\n",
    "                t = 0\n",
    "            else:\n",
    "                X.append(r)\n",
    "                t += (r-l)\n",
    "        else:\n",
    "            X.append(l)\n",
    "    print(*X)            \n",
    "else:\n",
    "    print('No')"
   ]
  },
  {
   "cell_type": "code",
   "execution_count": 48,
   "id": "665283c4-845a-435a-ab19-0de5e65c0a52",
   "metadata": {
    "tags": []
   },
   "outputs": [
    {
     "name": "stdin",
     "output_type": "stream",
     "text": [
      " 5 8\n",
      " 928448202 994752369 906965437 942744902 907560126\n",
      " 2 5 975090662\n",
      " 1 2 908843627\n",
      " 1 5 969061140\n",
      " 3 4 964249326\n",
      " 2 3 957690728\n",
      " 2 4 942986477\n",
      " 4 5 948404113\n",
      " 1 3 988716403\n"
     ]
    },
    {
     "name": "stdout",
     "output_type": "stream",
     "text": [
      "2832044198 2824130042 4696218483 2805069468\n"
     ]
    }
   ],
   "source": [
    "import heapq\n",
    "N, M = map(int, input().split())\n",
    "A = list(map(int, input().split()))\n",
    "edges = [ list(map(int, input().split())) for _ in range(M) ]\n",
    "G = [ list() for _ in range(N) ]\n",
    "inf = int(1e16)\n",
    "for u, v, b in edges:\n",
    "    G[u-1].append((b+A[v-1], v-1))\n",
    "    G[v-1].append((b+A[u-1], u-1))\n",
    "def dyc(s):\n",
    "    done = [False]*N\n",
    "    dist = [inf]*N\n",
    "    dist[s]=A[s]\n",
    "    que = []\n",
    "    heapq.heappush(que, (dist[s], s))\n",
    "    \n",
    "    while len(que)>0:\n",
    "        pos = heapq.heappop(que)[1]\n",
    "        if done[pos]:\n",
    "            continue\n",
    "        done[pos] = True\n",
    "        for c, nex in G[pos]:\n",
    "            if dist[nex]>dist[pos]+c:\n",
    "                dist[nex] = dist[pos]+c\n",
    "                heapq.heappush(que, (dist[nex], nex))\n",
    "    return dist\n",
    "ans = dyc(0)\n",
    "print(*ans[1:])"
   ]
  },
  {
   "cell_type": "code",
   "execution_count": null,
   "id": "ba6b5f16-65bb-4f9f-9041-5d669f16c80e",
   "metadata": {},
   "outputs": [],
   "source": [
    "from collections import defaultdict\n",
    "N = int(input())\n",
    "A = list(map(int, input().split()))\n",
    "mod = 998244353\n",
    "sa = [ [0]*N for _ in range(N) ]\n",
    "ans = [0]*N\n",
    "ans[0]=N\n",
    "ans[1]=N*(N-1)//2%mod\n",
    "dic = defaultdict(lambda: [0]*N)\n",
    "dic2 = defaultdict(lambda: set(()))\n",
    "for i in range(N-1):\n",
    "    for j in range(i+1, N):\n",
    "        dic[i][j]=A[j]-A[i]\n",
    "        dic2[i].add(A[j]-A[i])\n",
    "for i in range(N-2):\n",
    "    for j in range(i+1, N-1):\n",
    "        sa = A[j]-A[i]\n",
    "        while sa in \n",
    "            \n",
    "        "
   ]
  },
  {
   "cell_type": "code",
   "execution_count": 4,
   "id": "48190b62-7aa1-4849-8c87-57e1a33a7bc8",
   "metadata": {
    "tags": []
   },
   "outputs": [
    {
     "name": "stdin",
     "output_type": "stream",
     "text": [
      " 10000000000\n"
     ]
    },
    {
     "name": "stdout",
     "output_type": "stream",
     "text": [
      "468086693\n"
     ]
    }
   ],
   "source": [
    "N = input()\n",
    "r = 10**(len(N))\n",
    "mod = 998244353\n",
    "bunshi = int(N)*(pow(r, int(N), mod)-1)%mod\n",
    "bunbo = (r-1)%mod\n",
    "ans = bunshi * pow(bunbo, mod-2, mod)%mod\n",
    "print(ans)\n"
   ]
  },
  {
   "cell_type": "code",
   "execution_count": 8,
   "id": "bda8890d-e32c-42ca-bafb-b674759fbb99",
   "metadata": {},
   "outputs": [
    {
     "name": "stdin",
     "output_type": "stream",
     "text": [
      " 2\n"
     ]
    },
    {
     "name": "stdout",
     "output_type": "stream",
     "text": [
      "['#', '', '']\n",
      "['###', '#.#', '###', '', '', '', '', '', '']\n",
      "#########\n",
      "#.##.##.#\n",
      "#########\n",
      "###...###\n",
      "#.#...#.#\n",
      "###...###\n",
      "#########\n",
      "#.##.##.#\n",
      "#########\n"
     ]
    }
   ],
   "source": [
    "# 357 C　フラクタルカーペット\n",
    "n = int(input())\n",
    "answer = [\"#\"]\n",
    "for i in range(n):\n",
    "  for j in range(3 ** i):\n",
    "    answer.append(\"\")\n",
    "    answer.append(\"\")\n",
    "  print(answer)\n",
    "  for j in range(3 ** i):\n",
    "    answer[3 ** i + j] = answer[j]\n",
    "    answer[2 * 3 ** i + j] = answer[j] * 3\n",
    "    answer[3 ** i + j] = answer[j] + \".\" * (3 ** i) + answer[j]\n",
    "    answer[j] = answer[j] * 3\n",
    "for i in range(len(answer)):\n",
    "  print(answer[i])"
   ]
  },
  {
   "cell_type": "code",
   "execution_count": 19,
   "id": "dd63365d-44f3-4ef4-8ec4-d6c7f701aa81",
   "metadata": {
    "tags": []
   },
   "outputs": [
    {
     "name": "stdin",
     "output_type": "stream",
     "text": [
      " 6 2\n",
      " 10 10 10 9 8 8\n",
      " 1 4\n",
      " 2 1\n",
      " 2 5\n",
      " 3 2\n",
      " 6 4\n",
      " 1 4\n",
      " 2 2\n"
     ]
    },
    {
     "name": "stdout",
     "output_type": "stream",
     "text": [
      "10\n",
      "11\n"
     ]
    }
   ],
   "source": [
    "from collections import defaultdict\n",
    "from sortedcontainers import SortedList\n",
    "\n",
    "N, Q = map(int, input().split())\n",
    "X = list(map(int, input().split()))\n",
    "edges = [ tuple(map(int, input().split())) for _ in range(N-1)]\n",
    "G = [list() for _ in range(N)]\n",
    "for a, b in edges:\n",
    "    if a>b:\n",
    "        a, b = b, a\n",
    "    G[a-1].append(b-1)\n",
    "dic = defaultdict(lambda: SortedList())\n",
    "for i in reversed(range(N)):\n",
    "    dic[i].add(X[i])\n",
    "    if len(G[i])>0:\n",
    "        for j in G[i]:\n",
    "            dic[i] = dic[i]+dic[j]\n",
    "queries = [ tuple(map(int, input().split())) for _ in range(Q) ]\n",
    "for v, k in queries:\n",
    "    l = len(dic[v-1])\n",
    "    print(dic[v-1][l-k])"
   ]
  },
  {
   "cell_type": "code",
   "execution_count": 14,
   "id": "7f7e7f5f-e7df-415f-a6b8-710a536e101f",
   "metadata": {
    "tags": []
   },
   "outputs": [
    {
     "name": "stdin",
     "output_type": "stream",
     "text": [
      " 7\n",
      " LLLLLLL\n"
     ]
    },
    {
     "name": "stdout",
     "output_type": "stream",
     "text": [
      "7 6 5 4 3 2 1 0\n"
     ]
    }
   ],
   "source": [
    "from collections import deque\n",
    "N = int(input())\n",
    "S = input()\n",
    "ans = deque()\n",
    "ans.append(N)\n",
    "for i in reversed(range(N)):\n",
    "    if S[i]=='L':\n",
    "        ans.append(i)\n",
    "    else:\n",
    "        ans.appendleft(i)\n",
    "print(*ans)"
   ]
  },
  {
   "cell_type": "code",
   "execution_count": 23,
   "id": "3096e4cf-ab68-4c56-9106-c7247b6c2d52",
   "metadata": {
    "tags": []
   },
   "outputs": [
    {
     "name": "stdin",
     "output_type": "stream",
     "text": [
      " 4 4\n",
      " 10 8 12 5\n",
      " 1 2\n",
      " 1 3\n",
      " 2 3\n",
      " 3 4\n"
     ]
    },
    {
     "name": "stdout",
     "output_type": "stream",
     "text": [
      "-3\n"
     ]
    }
   ],
   "source": [
    "import heapq\n",
    "N, M = list(map(int, input().split()))\n",
    "H = list(map(int, input().split()))\n",
    "edges = [ tuple(map(int, input().split())) for _ in range(M) ]\n",
    "G = [ list() for _ in range(N)]\n",
    "for a, b in edges:\n",
    "    if H[a-1]>H[b-1]:\n",
    "        b, a = a, b\n",
    "    G[a-1].append(((H[b-1]-H[a-1])*2, b-1))\n",
    "    G[b-1].append((H[a-1]-H[b-1], a-1))\n",
    "que = []\n",
    "inf = 100000000000000\n",
    "dist = [inf]*N\n",
    "dist[0]=0\n",
    "heapq.heappush(que, (0, 0))\n",
    "while len(que)>0:\n",
    "    _, pos = heapq.heappop(que)\n",
    "    for h, nex in G[pos]:\n",
    "        if dist[nex]==inf:\n",
    "            dist[nex] = dist[pos]+h\n",
    "            heapq.heappush(que, (dist[nex], nex))\n",
    "print(abs(min(dist)))"
   ]
  },
  {
   "cell_type": "code",
   "execution_count": 2,
   "id": "c9ec7037-6de4-4102-ada3-2ebcafc0d393",
   "metadata": {},
   "outputs": [
    {
     "name": "stdin",
     "output_type": "stream",
     "text": [
      " 250\n"
     ]
    },
    {
     "name": "stdout",
     "output_type": "stream",
     "text": [
      "50\n"
     ]
    }
   ],
   "source": [
    "R = int(input())\n",
    "print(100-R%100)"
   ]
  },
  {
   "cell_type": "code",
   "execution_count": 5,
   "id": "ea4067e4-bdb0-4043-a3ef-6ae0cff5c12c",
   "metadata": {
    "tags": []
   },
   "outputs": [
    {
     "name": "stdin",
     "output_type": "stream",
     "text": [
      " 3 10 1\n",
      " 1 2 3\n"
     ]
    },
    {
     "name": "stdout",
     "output_type": "stream",
     "text": [
      "7\n"
     ]
    }
   ],
   "source": [
    "N, T, P = map(int, input().split())\n",
    "L = list(map(int, input().split()))\n",
    "L.sort(reverse=True)\n",
    "print(max(T-L[P-1], 0))"
   ]
  },
  {
   "cell_type": "code",
   "execution_count": 35,
   "id": "95d3fcde-9c4a-4e9d-bc56-9ae5bd46f0ca",
   "metadata": {},
   "outputs": [
    {
     "name": "stdin",
     "output_type": "stream",
     "text": [
      " 10 5\n",
      " abcwxyzyxw\n"
     ]
    },
    {
     "name": "stdout",
     "output_type": "stream",
     "text": [
      "440640\n"
     ]
    }
   ],
   "source": [
    "from itertools import permutations\n",
    "N, K = map(int, input().split())\n",
    "dic = {}\n",
    "S = list(input())\n",
    "it2 = list(permutations(range(N), r=K))\n",
    "dic2 = {}\n",
    "for item in it2:\n",
    "    tmp = []\n",
    "    for j in item:\n",
    "        tmp.append(S[j])\n",
    "    if tmp==tmp[::-1]:\n",
    "        tmp2 = ''.join(map(str, tmp))\n",
    "        dic2[tmp2]=1\n",
    "it = list(permutations(range(N)))\n",
    "ans = 0\n",
    "for item in it:\n",
    "    tmp = []\n",
    "    flag = True\n",
    "    for j in item:\n",
    "        tmp.append(S[j])\n",
    "        if len(tmp)>=K:\n",
    "            l = len(tmp)\n",
    "            if ''.join(map(str, tmp[l-K:l])) in dic2:\n",
    "                flag = False\n",
    "                break\n",
    "    if flag:\n",
    "        tmp = ''.join(map(str, tmp))\n",
    "        dic[tmp] = 1\n",
    "print(len(dic))"
   ]
  },
  {
   "cell_type": "code",
   "execution_count": 257,
   "id": "1ed757a9-6c3a-4925-842c-b928db4f9720",
   "metadata": {
    "tags": []
   },
   "outputs": [
    {
     "name": "stdin",
     "output_type": "stream",
     "text": [
      " 209\n"
     ]
    },
    {
     "name": "stdout",
     "output_type": "stream",
     "text": [
      "11911\n"
     ]
    }
   ],
   "source": [
    "N = int(input())\n",
    "def solve(N):\n",
    "    t = 1\n",
    "    now = 0\n",
    "    pre = 0\n",
    "    while now<N:\n",
    "        if t==1:\n",
    "            now += 10\n",
    "            t += 1\n",
    "        elif t%2==0:\n",
    "            pre = now\n",
    "            now += 9*10**(t//2-1)\n",
    "            t += 1\n",
    "        else:\n",
    "            pre = now\n",
    "            now += 9*10**(t//2-1)*10\n",
    "            t += 1\n",
    "    return (pre, t-1, now)\n",
    "a, t, c = solve(N)\n",
    "n = N-a\n",
    "ans = ''\n",
    "if t%2==0:\n",
    "    target = t//2\n",
    "else:\n",
    "    target = t//2+1\n",
    "def solve2(n, i):\n",
    "\n",
    "    tmp = n//(10**(target-1-i))\n",
    "    n = n-tmp*(10**(target-1-i))\n",
    "    m = n%(10**(target-1-i))\n",
    "    \n",
    "    if target==1:\n",
    "        return (tmp, n)\n",
    "    elif i==0:\n",
    "        if m==0:\n",
    "            return(tmp, 0)\n",
    "        else:\n",
    "            return (tmp+1, n)\n",
    "    elif i==target-1:\n",
    "        if tmp==0:\n",
    "            return (9, n)\n",
    "        else:\n",
    "            return (tmp-1, n)\n",
    "    else:\n",
    "        return (tmp, n)\n",
    "i = 0\n",
    "ans = ''\n",
    "while i!=target:\n",
    "    s, n = solve2(n, i)\n",
    "    ans += str(s)\n",
    "    i += 1\n",
    "    # print(ans)\n",
    "if t==1:\n",
    "    ans = N-1\n",
    "elif t%2==0:\n",
    "    ans = ans + ans[::-1]\n",
    "else:\n",
    "    l = ans\n",
    "    r = ans[:-1]\n",
    "    ans = l + r[::-1]\n",
    "print(ans)"
   ]
  },
  {
   "cell_type": "code",
   "execution_count": 5,
   "id": "8ef2d347-073f-42e7-ad7b-336f4ff4fec1",
   "metadata": {
    "tags": []
   },
   "outputs": [
    {
     "name": "stdin",
     "output_type": "stream",
     "text": [
      " 4 12\n",
      " 1 8\n",
      " 5 7\n",
      " 3 4\n",
      " 2 6\n"
     ]
    },
    {
     "name": "stdout",
     "output_type": "stream",
     "text": [
      "Yes\n"
     ]
    }
   ],
   "source": [
    "N, X = map(int, input().split())\n",
    "jumps = [ tuple(map(int, input().split())) for _ in range(N) ]\n",
    "dp = [[False]*(X+1) for _ in range(N+1)]\n",
    "dp[0][0]=True\n",
    "for i in range(N):\n",
    "    a, b = jumps[i]\n",
    "    for j in range(X+1):\n",
    "        if dp[i][j]:\n",
    "            if j+a<=X:\n",
    "                dp[i+1][j+a]=True\n",
    "            if j+b<=X:\n",
    "                dp[i+1][j+b]=True\n",
    "if dp[N][X]:\n",
    "    print('Yes')\n",
    "else:\n",
    "    print('No')"
   ]
  },
  {
   "cell_type": "code",
   "execution_count": 9,
   "id": "3c9952ab-8198-4d1b-8ce6-aee44c2e1183",
   "metadata": {
    "tags": []
   },
   "outputs": [
    {
     "name": "stdin",
     "output_type": "stream",
     "text": [
      " 10\n",
      " 2 3 2 3 3 3 2 3 3 2\n"
     ]
    },
    {
     "name": "stdout",
     "output_type": "stream",
     "text": [
      "1\n",
      "2\n",
      "3\n",
      "4\n",
      "5\n",
      "3\n",
      "2\n",
      "3\n",
      "1\n",
      "0\n"
     ]
    }
   ],
   "source": [
    "from collections import deque\n",
    "N = int(input())\n",
    "A = list(map(int, input().split()))\n",
    "log = []\n",
    "pole = []\n",
    "pre = 0\n",
    "ans = 0\n",
    "for i in range(N):\n",
    "    if i == 0:\n",
    "        pre = A[i]\n",
    "        log.append([A[i], 1])\n",
    "        ans += 1\n",
    "        print(ans)\n",
    "    else:\n",
    "        if A[i]!=pre:\n",
    "            log.append([A[i], 1])\n",
    "            pre = A[i]\n",
    "            ans +=1\n",
    "            print(ans)\n",
    "        else:\n",
    "            log[-1][1]+=1\n",
    "            ans += 1\n",
    "            if log[-1][0]==log[-1][1]:\n",
    "                ans -= log[-1][1]\n",
    "                log.pop()\n",
    "                print(ans)\n",
    "            else:\n",
    "                print(ans)\n",
    "            if len(log)>0:\n",
    "                pre = log[-1][0]\n",
    "            else:\n",
    "                pre = -1\n",
    "# print(ans)"
   ]
  },
  {
   "cell_type": "code",
   "execution_count": null,
   "id": "740cbbca-4ec8-4ea0-a6af-58905ae9aca0",
   "metadata": {},
   "outputs": [],
   "source": [
    "sweet\n"
   ]
  },
  {
   "cell_type": "code",
   "execution_count": 26,
   "id": "ae2eba45-f159-4fe5-a23f-793e06381251",
   "metadata": {
    "tags": []
   },
   "outputs": [
    {
     "name": "stdin",
     "output_type": "stream",
     "text": [
      " 4 3\n",
      " -3 -1 5 6\n",
      " -2 3\n",
      " 2 1\n",
      " 10 4\n"
     ]
    },
    {
     "name": "stdout",
     "output_type": "stream",
     "text": [
      "(0, 2)\n",
      "(2, 2)\n",
      "(2, 4)\n"
     ]
    }
   ],
   "source": [
    "import bisect\n",
    "N, Q = map(int, input().split())\n",
    "A = list(map(int, input().split()))\n",
    "A.sort()\n",
    "queries = [ tuple(map(int, input().split())) for _ in range(Q)]\n",
    "def nib(b, k):\n",
    "    l = 0\n",
    "    r = A[-1]\n",
    "    while r-l>1:\n",
    "        m = (l+r)//2\n",
    "        k1 = bisect.bisect_left(A, b-m)\n",
    "        k2 = bisect.bisect_left(A, b+m)\n",
    "        if k2-k1>=k:\n",
    "            r = m\n",
    "        else:\n",
    "            l = m\n",
    "    return (k1, k2)\n",
    "    if k2<N-1 and abs(A[k1]-b)<abs(A[k2]-b):\n",
    "        return abs(A[k2]-b)\n",
    "    elif k2<N-1 and abs(A[k1]-b)<abs(A[k2-1]-b):\n",
    "        return abs(A[k2-1]-b)\n",
    "    else:\n",
    "        return abs(A[k1]-b)\n",
    "    # rr = bisect.bisect_left(A, r+b)\n",
    "    # ll = bisect.bisect_right(A, b-r)\n",
    "    # if rr<N-1 and A[rr]<A[ll]:\n",
    "    #     return (k1, k2)\n",
    "    # else:\n",
    "    #     return ()\n",
    "for b, k in queries:\n",
    "    ans = nib(b, k)\n",
    "    print(ans)"
   ]
  },
  {
   "cell_type": "code",
   "execution_count": 9,
   "id": "3e44a1c4-8e02-4c2f-86f1-31466da36624",
   "metadata": {
    "tags": []
   },
   "outputs": [],
   "source": [
    "N, X, Y = map(int, input().split())\n",
    "A = [ tuple(map(int, input().split())) for _ in range(N)]\n",
    "dp = [ [[-1]*(X+1), [-1]*(Y+1)] for _ in range(N+1) ]\n",
    "dp[0][]\n",
    "for a, b in A:\n",
    "    "
   ]
  },
  {
   "cell_type": "code",
   "execution_count": 14,
   "id": "a0d0159f-8d01-4868-a047-51c60d607b29",
   "metadata": {
    "tags": []
   },
   "outputs": [],
   "source": [
    "X, Y, N = 3, 3, 6\n",
    "dp = [ [[-1]*(X+1), [-1]*(Y+1)] for _ in range(N+1) ]"
   ]
  },
  {
   "cell_type": "code",
   "execution_count": 15,
   "id": "ea9941d1-20d2-4fa8-95b9-743955578797",
   "metadata": {
    "tags": []
   },
   "outputs": [
    {
     "data": {
      "text/plain": [
       "[[[-1, -1, -1, -1], [-1, -1, -1, -1]],\n",
       " [[-1, -1, -1, -1], [-1, -1, -1, -1]],\n",
       " [[-1, -1, -1, -1], [-1, -1, -1, -1]],\n",
       " [[-1, -1, -1, -1], [-1, -1, -1, -1]],\n",
       " [[-1, -1, -1, -1], [-1, -1, -1, -1]],\n",
       " [[-1, -1, -1, -1], [-1, -1, -1, -1]],\n",
       " [[-1, -1, -1, -1], [-1, -1, -1, -1]]]"
      ]
     },
     "execution_count": 15,
     "metadata": {},
     "output_type": "execute_result"
    }
   ],
   "source": [
    "dp"
   ]
  },
  {
   "cell_type": "code",
   "execution_count": 13,
   "id": "1ab34db0-283a-4a01-abe6-cde6eb69d644",
   "metadata": {},
   "outputs": [
    {
     "name": "stdin",
     "output_type": "stream",
     "text": [
      " 4 3\n",
      " -3 -1 5 6\n",
      " -2 3\n",
      " 2 1\n",
      " 10 4\n"
     ]
    },
    {
     "name": "stdout",
     "output_type": "stream",
     "text": [
      "7\n",
      "3\n",
      "4\n"
     ]
    }
   ],
   "source": [
    "import bisect\n",
    "N, Q = map(int, input().split())\n",
    "A = list(map(int, input().split()))\n",
    "A.sort()\n",
    "queries = [ tuple(map(int, input().split())) for _ in range(Q) ]\n",
    "\n",
    "def nib(b, k):\n",
    "    l = 0\n",
    "    r = max(abs(max(A)-b), abs(min(A)-b))\n",
    "    while r-l>1:\n",
    "        m = (l+r)//2\n",
    "        k1 = bisect.bisect_left(A, b-m)\n",
    "        k2 = bisect.bisect_left(A, b+m)\n",
    "        if k2-k1>k:\n",
    "            r = m\n",
    "        else:\n",
    "            l = m\n",
    "    if k2==N:\n",
    "        k2 -= 1\n",
    "    # return (l, r)\n",
    "    # return (k1, k2)\n",
    "    # if k==N:\n",
    "    idx1 = bisect.bisect_left(A, b-l)\n",
    "    idx2 = bisect.bisect_left(A, b+l)\n",
    "    if idx2==N:\n",
    "        idx2-=1\n",
    "        \n",
    "    if abs(l-abs(b-A[idx1]))>abs(l-abs(b-A[idx2])):\n",
    "        if k!=N:\n",
    "            return abs(b-A[idx2])\n",
    "        else:\n",
    "            return abs(b-A[idx1])\n",
    "    else:\n",
    "        if k!=N:\n",
    "            return abs(b-A[idx1])\n",
    "        else:\n",
    "            return abs(b-A[idx2])\n",
    "    # else:\n",
    "    #     return min(abs(A[k1]-b), abs(A[k2]-b))\n",
    "for b, k in queries:\n",
    "    print(nib(b, k))"
   ]
  },
  {
   "cell_type": "code",
   "execution_count": 16,
   "id": "0c7d3715-cac1-421f-b620-8b529ea80d52",
   "metadata": {
    "tags": []
   },
   "outputs": [
    {
     "name": "stdin",
     "output_type": "stream",
     "text": [
      " 2 2\n",
      " 0 0\n",
      " 0 1\n",
      " 0 2\n"
     ]
    },
    {
     "name": "stdout",
     "output_type": "stream",
     "text": [
      "0\n",
      "0\n"
     ]
    }
   ],
   "source": [
    "from bisect import bisect_left, bisect_right\n",
    "\n",
    "N,Q=map(int,input().split())\n",
    "A=list(map(int,input().split()))\n",
    "queries = [ tuple(map(int, input().split())) for _ in range(Q) ]\n",
    "A.sort()\n",
    "\n",
    "def count(b,x):\n",
    "    return bisect_right(A,b+x)-bisect_left(A,b-x)\n",
    "\n",
    "for b, k in queries:\n",
    "    l, r = -1, 10**9\n",
    "    while r-l>1:\n",
    "        m=(l+r)//2\n",
    "        if count(b,m)>=k:\n",
    "            r=m\n",
    "        else:\n",
    "            l=m\n",
    "    print(r)"
   ]
  },
  {
   "cell_type": "code",
   "execution_count": 5,
   "id": "974f5fae-2f59-4b07-b06f-ec8da8cc8f0d",
   "metadata": {},
   "outputs": [
    {
     "name": "stdin",
     "output_type": "stream",
     "text": [
      " 3\n",
      " 1 3 2\n",
      " 3 1 2\n"
     ]
    },
    {
     "name": "stdout",
     "output_type": "stream",
     "text": [
      "3\n"
     ]
    }
   ],
   "source": [
    "from itertools import permutations\n",
    "N = int(input())\n",
    "a = tuple(map(int, input().split()))\n",
    "b = tuple(map(int, input().split()))\n",
    "whole = list(permutations(range(1, N+1), r=N))\n",
    "whole.sort()\n",
    "for i in range(len(whole)):\n",
    "    item = whole[i]\n",
    "    if item==a:\n",
    "        aa = i+1\n",
    "    if item==b:\n",
    "        bb = i+1\n",
    "print(abs(aa-bb))"
   ]
  },
  {
   "cell_type": "code",
   "execution_count": 1,
   "id": "12221731-0ef7-446a-9dcf-811c63f2fb7c",
   "metadata": {},
   "outputs": [
    {
     "name": "stdin",
     "output_type": "stream",
     "text": [
      " 3\n",
      " 1 2 3\n",
      " 3 2 1\n"
     ]
    },
    {
     "name": "stdout",
     "output_type": "stream",
     "text": [
      "(1, 2, 3)\n"
     ]
    }
   ],
   "source": [
    "from itertools import permutations\n",
    "N = int(input())\n",
    "a = tuple(map(int, input().split()))\n",
    "b = tuple(map(int, input().split()))\n",
    "whole = "
   ]
  },
  {
   "cell_type": "code",
   "execution_count": 13,
   "id": "dcbda8cc-0569-4851-9aec-0188c8e1f6b1",
   "metadata": {
    "tags": []
   },
   "outputs": [
    {
     "name": "stdin",
     "output_type": "stream",
     "text": [
      " 2 50\n",
      " 6 10\n"
     ]
    },
    {
     "name": "stdout",
     "output_type": "stream",
     "text": [
      "2\n"
     ]
    }
   ],
   "source": [
    "import math\n",
    "N, M = map(int, input().split())\n",
    "A = list(map(int, input().split()))\n",
    "def gcd(a, b):\n",
    "    if a<b:\n",
    "        a, b = b, a\n",
    "    while a%b!=0:\n",
    "        c = a%b\n",
    "        a = b\n",
    "        b = c\n",
    "    return b\n",
    "B = []\n",
    "for i in range(N):\n",
    "    B.append(A[i]//2)\n",
    "lcm = B[0]\n",
    "for i in range(1, N):\n",
    "    g = gcd(lcm, B[i])\n",
    "    lcm *= B[i]//g\n",
    "ans = 1\n",
    "for i in range(N):\n",
    "    if (lcm//B[i])%2==0:\n",
    "        ans = 0\n",
    "        break\n",
    "if ans:\n",
    "    ans = M//lcm\n",
    "print((ans+1)//2)\n",
    "    \n",
    "    "
   ]
  },
  {
   "cell_type": "code",
   "execution_count": 12,
   "id": "19789c75-4514-4daa-97f9-c75a4b842946",
   "metadata": {
    "tags": []
   },
   "outputs": [
    {
     "data": {
      "text/plain": [
       "3"
      ]
     },
     "execution_count": 12,
     "metadata": {},
     "output_type": "execute_result"
    }
   ],
   "source": [
    "class SegmentTree:\n",
    "    \"\"\"\n",
    "    init(init_val, ide_ele): 配列init_valで初期化 O(N)\n",
    "    update(k, x): k番目の値をxに更新 O(logN)\n",
    "    query(l, r): 区間[l, r)をsegfuncしたものを返す O(logN)\n",
    "    \"\"\"\n",
    "    def __init__(self, init_val, segfunc, ide_ele):\n",
    "        \"\"\"\n",
    "        init_val: 配列の初期値\n",
    "        segfunc: 区間にしたい操作\n",
    "        ide_ele: 単位元\n",
    "        n: 要素数\n",
    "        num: n以上の最小の2のべき乗\n",
    "        tree: セグメント木(1-index)\n",
    "        \"\"\"\n",
    "        n = len(init_val)\n",
    "        self.segfunc = segfunc\n",
    "        self.ide_ele = ide_ele\n",
    "        self.num = 1 << (n - 1).bit_length()\n",
    "        self.tree = [ide_ele] * 2 * self.num\n",
    "        # 配列の値を葉にセット\n",
    "        for i in range(n):\n",
    "            self.tree[self.num + i] = init_val[i]\n",
    "        # 構築していく\n",
    "        for i in range(self.num - 1, 0, -1):\n",
    "            self.tree[i] = self.segfunc(self.tree[2 * i], self.tree[2 * i + 1])\n",
    "\n",
    "    def update(self, k, x):\n",
    "        \"\"\"\n",
    "        k番目の値をxに更新\n",
    "        k: index(0-index)\n",
    "        x: update value\n",
    "        \"\"\"\n",
    "        k += self.num\n",
    "        self.tree[k] = x\n",
    "        while k > 1:\n",
    "            self.tree[k >> 1] = self.segfunc(self.tree[k], self.tree[k ^ 1])\n",
    "            k >>= 1\n",
    "\n",
    "    def get(self, l, r):\n",
    "        \"\"\"\n",
    "        [l, r)のsegfuncしたものを得る\n",
    "        l: index(0-index)\n",
    "        r: index(0-index)\n",
    "        \"\"\"\n",
    "        res = self.ide_ele\n",
    "\n",
    "        l += self.num\n",
    "        r += self.num\n",
    "        while l < r:\n",
    "            if l & 1:\n",
    "                res = self.segfunc(res, self.tree[l])\n",
    "                l += 1\n",
    "            if r & 1:\n",
    "                res = self.segfunc(res, self.tree[r - 1])\n",
    "            l >>= 1\n",
    "            r >>= 1\n",
    "        return res\n",
    "\n",
    "N = int(input())\n",
    "edges = [ tuple(map(int, input().split())) for _ in range(N-1) ]\n",
    "\n",
    "def dfs(pos, dist, visited):\n",
    "    visited[pos] = True\n",
    "    for nex in G[pos]:\n",
    "        dist[nex] = dist[pos]+1\n",
    "        dfs(nex, dist[nex], visited)\n",
    "    "
   ]
  },
  {
   "cell_type": "code",
   "execution_count": 28,
   "id": "91ec0b8b-d025-4285-9630-3e65167afb65",
   "metadata": {
    "tags": []
   },
   "outputs": [
    {
     "name": "stdin",
     "output_type": "stream",
     "text": [
      " 7\n",
      " 3 1\n",
      " 2 1\n",
      " 2 4\n",
      " 2 5\n",
      " 3 6\n",
      " 3 7\n"
     ]
    },
    {
     "name": "stdout",
     "output_type": "stream",
     "text": [
      "[0, 1, 1, 2, 2, 2, 2]\n",
      "[0, 2, 5, 2, 6, 2, 0, 1, 3, 1, 4, 1, 0]\n"
     ]
    }
   ],
   "source": [
    "N = int(input())\n",
    "edges = [ tuple(map(int, input().split())) for _ in range(N-1) ]\n",
    "dist = [-1]*N\n",
    "visited = [False]*N\n",
    "G = [ list() for _ in range(N)]\n",
    "for a, b in edges:\n",
    "    G[a-1].append(b-1)\n",
    "    G[b-1].append(a-1)\n",
    "route = []\n",
    "idxs = {}\n",
    "idxs[0] = 0\n",
    "def dfs(pos, c, visited):\n",
    "    visited[pos] = True\n",
    "    route.append(pos)\n",
    "    if pos not in idxs:\n",
    "        idxs[pos] = len(route)-1\n",
    "    for nex in G[pos]:\n",
    "        if not visited[nex]:\n",
    "            dist[nex] = c+1\n",
    "            dfs(nex, dist[nex], visited)\n",
    "            route.append(pos)\n",
    "dist[0] = 0\n",
    "dfs(0, 0, visited)\n",
    "print(dist)\n",
    "print(route)"
   ]
  },
  {
   "cell_type": "code",
   "execution_count": 36,
   "id": "7447e3da-a50a-469a-8e5c-35d11828845b",
   "metadata": {
    "tags": []
   },
   "outputs": [
    {
     "name": "stdin",
     "output_type": "stream",
     "text": [
      " 7\n",
      " 3 1\n",
      " 2 1\n",
      " 2 4\n",
      " 2 5\n",
      " 3 6\n",
      " 3 7\n",
      " 5\n",
      " 4 5\n",
      " 1 6\n",
      " 5 6\n",
      " 4 7\n",
      " 5 3\n"
     ]
    },
    {
     "name": "stdout",
     "output_type": "stream",
     "text": [
      "3\n",
      "3\n",
      "5\n",
      "5\n",
      "4\n"
     ]
    }
   ],
   "source": [
    "import sys\n",
    "\n",
    "sys.setrecursionlimit(10**8)\n",
    "\n",
    "N = int(input())\n",
    "edges = [ tuple(map(int, input().split())) for _ in range(N-1) ]\n",
    "dist = [-1]*N\n",
    "visited = [False]*N\n",
    "G = [ list() for _ in range(N)]\n",
    "for a, b in edges:\n",
    "    G[a-1].append(b-1)\n",
    "    G[b-1].append(a-1)\n",
    "route = []\n",
    "idxs = {}\n",
    "idxs[0] = 0\n",
    "def dfs(pos, c, visited):\n",
    "    visited[pos] = True\n",
    "    route.append(pos)\n",
    "    if pos not in idxs:\n",
    "        idxs[pos] = len(route)-1\n",
    "    for nex in G[pos]:\n",
    "        if not visited[nex]:\n",
    "            dist[nex] = c+1\n",
    "            dfs(nex, dist[nex], visited)\n",
    "            route.append(pos)\n",
    "dist[0] = 0\n",
    "dfs(0, 0, visited)\n",
    "# print(dist)\n",
    "# print(route)\n",
    "\n",
    "class SegmentTree:\n",
    "    \"\"\"\n",
    "    init(init_val, ide_ele): 配列init_valで初期化 O(N)\n",
    "    update(k, x): k番目の値をxに更新 O(logN)\n",
    "    query(l, r): 区間[l, r)をsegfuncしたものを返す O(logN)\n",
    "    \"\"\"\n",
    "    def __init__(self, init_val, segfunc, ide_ele):\n",
    "        \"\"\"\n",
    "        init_val: 配列の初期値\n",
    "        segfunc: 区間にしたい操作\n",
    "        ide_ele: 単位元\n",
    "        n: 要素数\n",
    "        num: n以上の最小の2のべき乗\n",
    "        tree: セグメント木(1-index)\n",
    "        \"\"\"\n",
    "        n = len(init_val)\n",
    "        self.segfunc = segfunc\n",
    "        self.ide_ele = ide_ele\n",
    "        self.num = 1 << (n - 1).bit_length()\n",
    "        self.tree = [ide_ele] * 2 * self.num\n",
    "        # 配列の値を葉にセット\n",
    "        for i in range(n):\n",
    "            self.tree[self.num + i] = init_val[i]\n",
    "        # 構築していく\n",
    "        for i in range(self.num - 1, 0, -1):\n",
    "            self.tree[i] = self.segfunc(self.tree[2 * i], self.tree[2 * i + 1])\n",
    "\n",
    "    def update(self, k, x):\n",
    "        \"\"\"\n",
    "        k番目の値をxに更新\n",
    "        k: index(0-index)\n",
    "        x: update value\n",
    "        \"\"\"\n",
    "        k += self.num\n",
    "        self.tree[k] = x\n",
    "        while k > 1:\n",
    "            self.tree[k >> 1] = self.segfunc(self.tree[k], self.tree[k ^ 1])\n",
    "            k >>= 1\n",
    "\n",
    "    def get(self, l, r):\n",
    "        \"\"\"\n",
    "        [l, r)のsegfuncしたものを得る\n",
    "        l: index(0-index)\n",
    "        r: index(0-index)\n",
    "        \"\"\"\n",
    "        res = self.ide_ele\n",
    "\n",
    "        l += self.num\n",
    "        r += self.num\n",
    "        while l < r:\n",
    "            if l & 1:\n",
    "                res = self.segfunc(res, self.tree[l])\n",
    "                l += 1\n",
    "            if r & 1:\n",
    "                res = self.segfunc(res, self.tree[r - 1])\n",
    "            l >>= 1\n",
    "            r >>= 1\n",
    "        return res\n",
    "droute = []\n",
    "for num in route:\n",
    "    droute.append(dist[num])\n",
    "def segfunc(x, y):\n",
    "    return min(x, y)\n",
    "sm = SegmentTree(droute, segfunc, 1000000000000)\n",
    "\n",
    "Q = int(input())\n",
    "queries = [tuple(map(int, input().split())) for _ in range(Q)]\n",
    "for u, v in queries:\n",
    "    a = idxs[u-1]\n",
    "    b = idxs[v-1]\n",
    "    if a>b:\n",
    "        a, b = b, a\n",
    "    lcm = sm.get(a, b)\n",
    "    print(dist[u-1]+dist[v-1]-lcm*2+1)"
   ]
  },
  {
   "cell_type": "code",
   "execution_count": 57,
   "id": "950abfa2-04f5-4b1c-9340-2c1b75f1cee2",
   "metadata": {
    "tags": []
   },
   "outputs": [
    {
     "name": "stdin",
     "output_type": "stream",
     "text": [
      " 6\n",
      " 3 2 3 4\n",
      " 2 3 5\n",
      " 0\n",
      " 1 5\n",
      " 0\n",
      " 0\n"
     ]
    },
    {
     "name": "stdout",
     "output_type": "stream",
     "text": [
      "[3]\n",
      "[3, 5]\n",
      "[3, 5, 2]\n",
      "[3, 5, 2, 4]\n",
      "3 5 2 4\n"
     ]
    }
   ],
   "source": [
    "from collections import deque, defaultdict\n",
    "N = int(input())\n",
    "C = []\n",
    "books = []\n",
    "for _ in range(N):\n",
    "    tmp = list(map(int, input().split()))\n",
    "    C.append(tmp[0])\n",
    "    books.append(tmp[1:])\n",
    "need = set()\n",
    "need.add(0)\n",
    "que = books[0].copy()\n",
    "while len(que)>0:\n",
    "    b = que.pop()\n",
    "    need.add(b-1)\n",
    "    for nex in books[b-1]:\n",
    "        if nex-1 not in need:\n",
    "            que.append(nex)\n",
    "output = defaultdict(lambda: [])\n",
    "que = deque()\n",
    "for i in range(N):\n",
    "    if C[i]==0 and i in need:\n",
    "        que.append(i)\n",
    "    if C[i]>0:\n",
    "        for j in range(C[i]):\n",
    "            output[books[i][j]-1].append(i)\n",
    "ans = []\n",
    "while len(que)>0 and C[0]!=0:\n",
    "    b = que.popleft()\n",
    "    ans.append(b+1)\n",
    "    # print(ans)\n",
    "    for i in range(len(output[b])):\n",
    "        C[output[b][i]]-=1\n",
    "        if C[output[b][i]]==0:\n",
    "            que.append(output[b][i])\n",
    "print(*ans)"
   ]
  },
  {
   "cell_type": "code",
   "execution_count": 58,
   "id": "5b179d10-70ac-45a3-8cef-b0e5aaa295d2",
   "metadata": {
    "tags": []
   },
   "outputs": [
    {
     "name": "stdin",
     "output_type": "stream",
     "text": [
      " 6\n",
      " 3 2 3 4\n",
      " 2 3 5\n",
      " 0\n",
      " 1 5\n",
      " 0\n",
      " 0\n"
     ]
    },
    {
     "name": "stdout",
     "output_type": "stream",
     "text": [
      "3 5 2 4\n"
     ]
    }
   ],
   "source": [
    "import sys\n",
    "sys.setrecursionlimit(10**6)\n",
    " \n",
    "def dfs(now):\n",
    "    global ans\n",
    "    for to in graph[now]:\n",
    "        if not seen[to]:\n",
    "            seen[to] = True\n",
    "            dfs(to)\n",
    "    ans.append(now)\n",
    " \n",
    " \n",
    "n = int(input())\n",
    " \n",
    "graph = [[] for _ in range(n+1)]\n",
    "seen = [False] * (n+1)\n",
    "for i in range(1, n+1):\n",
    "    inputs = list(map(int, input().split()))\n",
    "    c = inputs[0]\n",
    "    for j in range(1, c+1):\n",
    "        graph[i].append(inputs[j])\n",
    " \n",
    "ans = []\n",
    "dfs(1)\n",
    "print(*ans[:-1])"
   ]
  },
  {
   "cell_type": "code",
   "execution_count": 77,
   "id": "4028888d-a841-4b70-a60d-88bb77e0eb20",
   "metadata": {
    "tags": []
   },
   "outputs": [
    {
     "name": "stdin",
     "output_type": "stream",
     "text": [
      " 1500 2000 1600 3 2\n"
     ]
    },
    {
     "name": "stdout",
     "output_type": "stream",
     "text": [
      "7900\n"
     ]
    }
   ],
   "source": [
    "A, B, C, X, Y = map(int, input().split())\n",
    "ans = 100000000000000\n",
    "for i in range(X+1):\n",
    "    now = i*A\n",
    "    needx = (X-i)*2*C\n",
    "    needy = max(Y-(X-i), 0)*B\n",
    "    wholey = max(Y-(X-i), 0)*2*C\n",
    "    ans = min(ans, now+needx+needy, now+needx+wholey)\n",
    "print(ans)"
   ]
  },
  {
   "cell_type": "code",
   "execution_count": 52,
   "id": "2ea6dc40-7420-4ac8-8156-f023115b27ff",
   "metadata": {
    "tags": []
   },
   "outputs": [
    {
     "data": {
      "text/plain": [
       "defaultdict(<function __main__.<lambda>()>,\n",
       "            {1: [0], 2: [0, 1], 3: [0], 4: [1, 3], 0: []})"
      ]
     },
     "execution_count": 52,
     "metadata": {},
     "output_type": "execute_result"
    }
   ],
   "source": [
    "N, T, M = map(int, input().split())\n",
    "AB = set()\n",
    "for _ in range(M):\n",
    "    a, b = map(int, input().split())\n",
    "    a -= 1; b -= 1\n",
    "    AB.add((a, b))\n",
    "\n",
    "ans = 0\n",
    "def solve(teams, player):\n",
    "    global ans\n",
    "    if player == N:\n",
    "        if len(teams) == T:\n",
    "            ans += 1\n",
    "        return\n",
    "    \n",
    "    for team in teams:\n",
    "        if any((x, player) in AB for x in team):\n",
    "            continue\n",
    "        team.append(player)\n",
    "        solve(teams, player + 1)\n",
    "        team.pop()\n",
    "    \n",
    "    teams.append([player])\n",
    "    solve(teams, player + 1)\n",
    "    teams.pop()\n",
    "\n",
    "solve([], 0)\n",
    "print(ans)\n"
   ]
  },
  {
   "cell_type": "code",
   "execution_count": 99,
   "id": "7ff6277c-6022-41b3-a426-67089ba8fb63",
   "metadata": {
    "tags": []
   },
   "outputs": [
    {
     "name": "stdin",
     "output_type": "stream",
     "text": [
      " 3\n",
      " abc\n",
      " de\n",
      " fghi\n"
     ]
    },
    {
     "name": "stdout",
     "output_type": "stream",
     "text": [
      "fda\n",
      "geb\n",
      "h*c\n",
      "i\n"
     ]
    }
   ],
   "source": [
    "N = int(input())\n",
    "S = [ list(input()) for _ in range(N) ]\n",
    "l = 0\n",
    "for i in range(N):\n",
    "    tmp = len(S[i])\n",
    "    l = max(l, tmp)\n",
    "ans = [ list() for _ in range(l)]\n",
    "for i in range(l):\n",
    "    tmp = ''\n",
    "    for j in range(N):\n",
    "        if len(S[j])>i:\n",
    "            tmp += S[j][i]\n",
    "        else:\n",
    "            tmp += '*'\n",
    "    if tmp[0]=='*':\n",
    "        while tmp[0]=='*':\n",
    "            tmp = tmp[1:]\n",
    "    ans[i] = tmp[::-1]\n",
    "for i in range(l):\n",
    "    print(ans[i])"
   ]
  },
  {
   "cell_type": "code",
   "execution_count": 114,
   "id": "5b0cf3a8-adfa-4d1f-bb65-59b5fe96c79b",
   "metadata": {
    "tags": []
   },
   "outputs": [
    {
     "name": "stdin",
     "output_type": "stream",
     "text": [
      " \n"
     ]
    },
    {
     "ename": "ValueError",
     "evalue": "invalid literal for int() with base 10: ''",
     "output_type": "error",
     "traceback": [
      "\u001b[1;31m---------------------------------------------------------------------------\u001b[0m",
      "\u001b[1;31mValueError\u001b[0m                                Traceback (most recent call last)",
      "Cell \u001b[1;32mIn[114], line 2\u001b[0m\n\u001b[0;32m      1\u001b[0m \u001b[38;5;28;01mfrom\u001b[39;00m \u001b[38;5;21;01mitertools\u001b[39;00m \u001b[38;5;28;01mimport\u001b[39;00m accumulate\n\u001b[1;32m----> 2\u001b[0m N \u001b[38;5;241m=\u001b[39m \u001b[38;5;28mint\u001b[39m(\u001b[38;5;28minput\u001b[39m())\n\u001b[0;32m      3\u001b[0m A \u001b[38;5;241m=\u001b[39m []\n\u001b[0;32m      4\u001b[0m \u001b[38;5;28;01mfor\u001b[39;00m i \u001b[38;5;129;01min\u001b[39;00m \u001b[38;5;28mrange\u001b[39m(N\u001b[38;5;241m*\u001b[39m\u001b[38;5;241m*\u001b[39m\u001b[38;5;241m2\u001b[39m):\n",
      "\u001b[1;31mValueError\u001b[0m: invalid literal for int() with base 10: ''"
     ]
    }
   ],
   "source": [
    "from itertools import accumulate\n",
    "N = int(input())\n",
    "A = []\n",
    "for i in range(N):\n",
    "    tmp = []\n",
    "    for j in range(N):\n",
    "        t = list(map(int, input().split()))\n",
    "        stmp = list(accumulate(tmp))\n",
    "        tmp += [stmp]\n",
    "    A.append(tmp)\n",
    "sA = []\n",
    "for i in range(N):\n",
    "    \n",
    "A = list(accumulate(A))\n",
    "Q = int(input())\n",
    "ans = 0\n",
    "queries = [ tuple(map(int, input().split())) for _ in range(Q) ]\n",
    "for l1, r1, l2, r2, l3, r3 in queries:\n",
    "    ans = 0\n",
    "    for i in range((l1-1)*N, (r1-1)*N+1, N):\n",
    "        ans += A[i+N*]\n",
    "    print(ans)"
   ]
  },
  {
   "cell_type": "code",
   "execution_count": 112,
   "id": "82b481a1-8e25-4396-94fa-a6be3fd614d6",
   "metadata": {
    "tags": []
   },
   "outputs": [
    {
     "data": {
      "text/plain": [
       "5180"
      ]
     },
     "execution_count": 112,
     "metadata": {},
     "output_type": "execute_result"
    }
   ],
   "source": [
    "from itertools import accumulate\n",
    "H, W = map(int, input().split())\n",
    "X = [ list(map(int, input().split())) for _ in range(H) ]\n",
    "Xsum = [ list(accumulate(X[i])) for i in range(H) ]\n",
    "for i in range(W):\n",
    "    for j in range(1, H):\n",
    "        Xsum[j][i] += Xsum[j-1][i]\n",
    "def solve(a, b, c, d):\n",
    "    if a!=0 and b!=0:\n",
    "        return Xsum[c][d]-Xsum[a-1][d]-Xsum[c][b-1]+Xsum[a-1][b-1]\n",
    "    elif a==0 and b!=0:\n",
    "        return Xsum[c][d]-Xsum[c][b-1]\n",
    "    elif a!=0 and b==0:\n",
    "        return Xsum[c][d]-Xsum[a-1][d]\n",
    "    else:\n",
    "        return Xsum[c][d]\n",
    "q = int(input())\n",
    "for i in range(q):\n",
    "    a, b, c, d = map(int, input().split())\n",
    "    a -= 1\n",
    "    b -= 1\n",
    "    c -= 1\n",
    "    d -= 1\n",
    "    print(solve(a, b, c, d))"
   ]
  },
  {
   "cell_type": "code",
   "execution_count": 7,
   "id": "2cbf8992-204c-4005-a494-a875441ca541",
   "metadata": {
    "tags": []
   },
   "outputs": [
    {
     "name": "stdin",
     "output_type": "stream",
     "text": [
      " 5 2\n",
      " 3 1 2 5\n",
      " 2 2 3\n",
      " 1 0\n"
     ]
    },
    {
     "name": "stdout",
     "output_type": "stream",
     "text": [
      "8\n"
     ]
    }
   ],
   "source": [
    "N, M = map(int, input().split())\n",
    "Ks = []\n",
    "S = []\n",
    "for _ in range(M):\n",
    "    tmp = list(map(int, input().split()))\n",
    "    Ks.append(tmp[0])\n",
    "    S.append(tmp[1:])\n",
    "P = list(map(int, input().split()))\n",
    "ans = 0\n",
    "for i in range(1<<N):\n",
    "    tmp = [0]*N\n",
    "    for j in range(N):\n",
    "        if i>>j&1:\n",
    "            tmp[j]=1\n",
    "    # print(tmp)\n",
    "    for k in range(M):\n",
    "        flag = True\n",
    "        p = P[k]\n",
    "        on = 0\n",
    "        for l in range(Ks[k]):\n",
    "            if tmp[S[k][l]-1]:\n",
    "                on += 1\n",
    "        if on%2!=p:\n",
    "            flag = False\n",
    "            break\n",
    "    if flag:\n",
    "        ans += 1\n",
    "print(ans)"
   ]
  },
  {
   "cell_type": "code",
   "execution_count": 17,
   "id": "057cd44c-f221-4cea-a2ab-e83852bc365e",
   "metadata": {},
   "outputs": [
    {
     "name": "stdin",
     "output_type": "stream",
     "text": [
      " 5 3\n",
      " 1 2\n",
      " 2 3\n",
      " 3 4\n"
     ]
    },
    {
     "name": "stdout",
     "output_type": "stream",
     "text": [
      "2\n"
     ]
    }
   ],
   "source": [
    "N, M = map(int, input().split())\n",
    "pairs = [ tuple(map(int, input().split())) for _ in range(M) ]\n",
    "R = [ list() for _ in range(N)]\n",
    "for a, b in pairs:\n",
    "    R[a-1].append(b-1)\n",
    "    R[b-1].append(a-1)\n",
    "ans = 1\n",
    "for i in range(1<<N):\n",
    "    tmp = []\n",
    "    for j in range(N):\n",
    "        if i>>j&1:\n",
    "            tmp.append(j)\n",
    "    # print(tmp)\n",
    "    if len(tmp)<=1:\n",
    "        continue\n",
    "    flag = True\n",
    "    for k in range(len(tmp)-1):\n",
    "        for l in range(k+1, len(tmp)):\n",
    "            if tmp[k] not in R[tmp[l]]:\n",
    "                flag = False\n",
    "                break\n",
    "    if flag:\n",
    "        ans = max(ans, len(tmp))\n",
    "print(ans)"
   ]
  },
  {
   "cell_type": "code",
   "execution_count": 34,
   "id": "333d4ffc-b1fd-46aa-b015-74e52571b708",
   "metadata": {
    "tags": []
   },
   "outputs": [
    {
     "name": "stdin",
     "output_type": "stream",
     "text": [
      " 5 3\n",
      " 7 4 2 6 4\n"
     ]
    },
    {
     "name": "stdout",
     "output_type": "stream",
     "text": [
      "7\n"
     ]
    }
   ],
   "source": [
    "N, K = map(int, input().split())\n",
    "A = list(map(int, input().split()))\n",
    "ans = 100000000000\n",
    "for i in range(1<<N):\n",
    "    if i.bit_count()<K:\n",
    "        continue\n",
    "    bills = []\n",
    "    for j in range(N):\n",
    "        if i>>j&1:\n",
    "            bills.append(j)\n",
    "    now = 0\n",
    "    tmp = 0\n",
    "    # print(bills)\n",
    "    nmx = 0\n",
    "    for k in range(N):\n",
    "        a = A[k]\n",
    "        if k in bills:\n",
    "            if nmx<a:\n",
    "                nmx = a\n",
    "            else:\n",
    "                tmp += (nmx+1-a)\n",
    "                nmx += 1\n",
    "        else:\n",
    "            if nmx<a:\n",
    "                nmx = a\n",
    "    # print(tmp)\n",
    "    ans = min(tmp, ans)\n",
    "print(ans)"
   ]
  },
  {
   "cell_type": "code",
   "execution_count": 36,
   "id": "1d2e0f2b-64af-4472-98ac-f48b4ce4665a",
   "metadata": {
    "tags": []
   },
   "outputs": [
    {
     "name": "stdin",
     "output_type": "stream",
     "text": [
      " 2\n",
      " -879 981\n",
      " -866 890\n"
     ]
    },
    {
     "name": "stdout",
     "output_type": "stream",
     "text": [
      "91.92388155425118\n"
     ]
    }
   ],
   "source": [
    "import math\n",
    "from itertools import permutations\n",
    "N = int(input())\n",
    "edges = [ tuple(map(int, input().split())) for _ in range(N) ]\n",
    "\n",
    "def dist(x1, y1, x2, y2):\n",
    "    return math.sqrt((x2-x1)**2+(y2-y1)**2)\n",
    "whole = list(permutations(range(N), r=N))\n",
    "d = 0\n",
    "for root in whole:\n",
    "    for i in range(N-1):\n",
    "        x1, y1 = edges[root[i]-1]\n",
    "        x2, y2 = edges[root[i+1]-1]\n",
    "        d += dist(x1, y1, x2, y2)\n",
    "print(d/len(whole))    "
   ]
  },
  {
   "cell_type": "code",
   "execution_count": 43,
   "id": "b1bf472c-e715-4386-95e2-01251501302d",
   "metadata": {
    "tags": []
   },
   "outputs": [
    {
     "name": "stdin",
     "output_type": "stream",
     "text": [
      " 3\n",
      " 1 2 3\n",
      " 1 2 3\n"
     ]
    },
    {
     "name": "stdout",
     "output_type": "stream",
     "text": [
      "0\n"
     ]
    }
   ],
   "source": [
    "from itertools import permutations\n",
    "\n",
    "N = int(input())\n",
    "P = tuple(map(int, input().split()))\n",
    "Q = tuple(map(int, input().split()))\n",
    "whole = list(permutations(range(1, N+1), r=N))\n",
    "a = -1\n",
    "b = -1\n",
    "for i in range(len(whole)):\n",
    "    if whole[i]==P:\n",
    "        a = i\n",
    "    if whole[i]==Q:\n",
    "        b = i\n",
    "print(abs(a-b))"
   ]
  },
  {
   "cell_type": "code",
   "execution_count": 50,
   "id": "2e3cfb80-f6e6-4740-a4f4-799643206a7d",
   "metadata": {
    "tags": []
   },
   "outputs": [
    {
     "name": "stdin",
     "output_type": "stream",
     "text": [
      " 3\n"
     ]
    },
    {
     "name": "stdout",
     "output_type": "stream",
     "text": [
      "3.1831344663877355\n"
     ]
    }
   ],
   "source": [
    "import math\n",
    "P = int(input())\n",
    "a = 1.5/(P*math.log(2))\n",
    "print(-1.5*math.log(2, a))"
   ]
  },
  {
   "cell_type": "code",
   "execution_count": 46,
   "id": "14177707-50bb-4185-91f5-77e2c30895d4",
   "metadata": {
    "tags": []
   },
   "outputs": [
    {
     "data": {
      "text/plain": [
       "1.0"
      ]
     },
     "execution_count": 46,
     "metadata": {},
     "output_type": "execute_result"
    }
   ],
   "source": [
    "math.log(2, 2)"
   ]
  },
  {
   "cell_type": "code",
   "execution_count": 47,
   "id": "a17e2ed5-7d7e-4aae-b723-acfcd82ad25f",
   "metadata": {
    "tags": []
   },
   "outputs": [
    {
     "data": {
      "text/plain": [
       "\u001b[1;31mDocstring:\u001b[0m\n",
       "log(x, [base=math.e])\n",
       "Return the logarithm of x to the given base.\n",
       "\n",
       "If the base not specified, returns the natural logarithm (base e) of x.\n",
       "\u001b[1;31mType:\u001b[0m      builtin_function_or_method"
      ]
     },
     "metadata": {},
     "output_type": "display_data"
    }
   ],
   "source": [
    "math.log??"
   ]
  },
  {
   "cell_type": "code",
   "execution_count": 60,
   "id": "79d477ee-8a42-41e2-8d8d-97474e4ced2c",
   "metadata": {
    "tags": []
   },
   "outputs": [
    {
     "name": "stdin",
     "output_type": "stream",
     "text": [
      " 3 21\n",
      " 16\n",
      " 11\n",
      " 2\n"
     ]
    },
    {
     "name": "stdout",
     "output_type": "stream",
     "text": [
      "20\n"
     ]
    }
   ],
   "source": [
    "import bisect\n",
    "N, M = map(int, input().split())\n",
    "P = []\n",
    "for _ in range(N):\n",
    "  P.append(int(input()))\n",
    "duble = []\n",
    "for i in range(N):\n",
    "  for j in range(i, N):\n",
    "    duble.append(P[i]+P[j])\n",
    "  duble.sort()\n",
    "ans = 0\n",
    "for i in range(len(duble)):\n",
    "  d = duble[i]\n",
    "  dd = M-d\n",
    "  idx1 = bisect.bisect_left(duble, dd)\n",
    "  if idx1>0:\n",
    "    idx2 = idx1-1\n",
    "    if idx2<len(duble) and duble[i]+duble[idx2]<=M:\n",
    "      ans = max(ans, duble[i]+duble[idx2])\n",
    "    if idx1<len(duble) and duble[i]+duble[idx1]<=M:\n",
    "      ans = max(ans, duble[i]+duble[idx1])\n",
    "  else:\n",
    "    if idx1<len(duble) and duble[i]+duble[idx1]<=M:\n",
    "      ans = max(ans, duble[i]+duble[idx1])\n",
    "for i in range(len(duble)):\n",
    "    d = duble[i]\n",
    "    if d<=M:\n",
    "        ans = max(ans, d)\n",
    "        for j in range(N):\n",
    "            if P[j]<=M:\n",
    "                ans = max(ans, P[j])\n",
    "            if d+P[j]<=M:\n",
    "                ans = max(ans, d+P[j])\n",
    "print(ans)"
   ]
  },
  {
   "cell_type": "code",
   "execution_count": 64,
   "id": "0924e70b-538a-4c49-9723-1da9e8a878ba",
   "metadata": {
    "tags": []
   },
   "outputs": [
    {
     "name": "stdin",
     "output_type": "stream",
     "text": [
      " 10 7 17\n"
     ]
    },
    {
     "name": "stdout",
     "output_type": "stream",
     "text": [
      "No\n"
     ]
    }
   ],
   "source": [
    "A, B, C = map(int, input().split())\n",
    "if B<=A<C or A<=C<=B:\n",
    "    print('No')\n",
    "else:\n",
    "    print('Yes')"
   ]
  },
  {
   "cell_type": "code",
   "execution_count": 69,
   "id": "80e989cc-57dd-4040-8c45-ceaa3eedfae0",
   "metadata": {
    "tags": []
   },
   "outputs": [
    {
     "name": "stdin",
     "output_type": "stream",
     "text": [
      " 0.000\n"
     ]
    },
    {
     "name": "stdout",
     "output_type": "stream",
     "text": [
      "0\n"
     ]
    }
   ],
   "source": [
    "X = input()\n",
    "while X[-1]=='0':\n",
    "    X = X[:-1]\n",
    "if X[-1]=='.':\n",
    "    X = X[:-1]\n",
    "print(X)"
   ]
  },
  {
   "cell_type": "code",
   "execution_count": 76,
   "id": "2712686c-f30c-4a03-9ded-67c40caef902",
   "metadata": {
    "tags": []
   },
   "outputs": [
    {
     "name": "stdin",
     "output_type": "stream",
     "text": [
      " 5 5\n",
      " 2 3 2 3 2\n"
     ]
    },
    {
     "name": "stdout",
     "output_type": "stream",
     "text": [
      "1 1 1 1 1\n",
      "1 2 2 3 2\n",
      "1 3 1 3 2\n",
      "1 3 2 2 2\n",
      "1 3 2 3 1\n",
      "2 1 2 3 2\n",
      "2 2 1 3 2\n",
      "2 2 2 2 2\n",
      "2 2 2 3 1\n",
      "2 3 1 2 2\n",
      "2 3 1 3 1\n",
      "2 3 2 1 2\n",
      "2 3 2 2 1\n"
     ]
    }
   ],
   "source": [
    "N, K = map(int, input().split())\n",
    "R = list(map(int, input().split()))\n",
    "ans = []\n",
    "def make(now, i):\n",
    "    for j in range(1, R[i]+1):\n",
    "        nex = now.copy()\n",
    "        nex.append(j)\n",
    "        if len(nex)==N:\n",
    "            if sum(nex)%K==0:\n",
    "                ans.append(nex)\n",
    "        else:\n",
    "            make(nex, i+1)\n",
    "make([], 0)\n",
    "for i in range(len(ans)):\n",
    "    print(*ans[i])\n"
   ]
  },
  {
   "cell_type": "code",
   "execution_count": 33,
   "id": "38b26749-575e-4654-a1ef-efdf94875867",
   "metadata": {
    "tags": []
   },
   "outputs": [
    {
     "name": "stdin",
     "output_type": "stream",
     "text": [
      " 4 0\n",
      " 3 4 1 2\n",
      " 4 3 2 1\n"
     ]
    },
    {
     "name": "stdout",
     "output_type": "stream",
     "text": [
      "4 3 2 1\n"
     ]
    }
   ],
   "source": [
    "N, K = map(int, input().split())\n",
    "X = list(map(int, input().split()))\n",
    "A = list(map(int, input().split()))\n",
    "dp = [[0]*(N) for _ in range(60)]\n",
    "for i in range(N):\n",
    "    dp[0][i] = X[i]-1\n",
    "for i in range(59):\n",
    "    for j in range(N):\n",
    "        dp[i+1][j] = dp[i][dp[i][j]]\n",
    "comp = []\n",
    "t = 59\n",
    "while K!=0:\n",
    "    if K>=2**t:\n",
    "        comp.append(t)\n",
    "        K -= 2**t\n",
    "        t -= 1\n",
    "    else:\n",
    "        t-=1\n",
    "ans = X\n",
    "for i in range(len(comp)):\n",
    "    for j in range(N):\n",
    "        if i==0:\n",
    "            ans[j] = dp[comp[i]][j]\n",
    "        else:\n",
    "            ans[j] = dp[comp[i]][ans[j]]\n",
    "if len(comp)==0:\n",
    "    ans = A\n",
    "else:\n",
    "    for i in range(N):\n",
    "        ans[i] = A[ans[i]]\n",
    "\n",
    "print(*ans)"
   ]
  },
  {
   "cell_type": "code",
   "execution_count": 2,
   "id": "97810afa-b46f-4441-835a-5ba5e5d1b9e4",
   "metadata": {
    "tags": []
   },
   "outputs": [
    {
     "name": "stdin",
     "output_type": "stream",
     "text": [
      " 6 2\n",
      " 1 2 1 2 1 2\n"
     ]
    },
    {
     "name": "stdout",
     "output_type": "stream",
     "text": [
      "1 2 1 2 1 2\n"
     ]
    }
   ],
   "source": [
    "N, K = map(int, input().split())\n",
    "A = list(map(int, input().split()))\n",
    "ans = A[N-K:]\n",
    "ans += A[:N-K]\n",
    "print(*ans)"
   ]
  },
  {
   "cell_type": "code",
   "execution_count": 40,
   "id": "2bfa3cdc-385e-4a72-85a2-a3eb9f22c8f8",
   "metadata": {
    "tags": []
   },
   "outputs": [
    {
     "name": "stdin",
     "output_type": "stream",
     "text": [
      " 9\n",
      " 1 12 123 1234 12345 123456 1234567 12345678 123456789\n"
     ]
    },
    {
     "name": "stdout",
     "output_type": "stream",
     "text": [
      "0 1\n",
      "1 9\n",
      "2 84\n",
      "3 825\n",
      "4 8232\n",
      "5 82306\n",
      "6 823047\n",
      "7 8230455\n",
      "8 82304529\n",
      "82304529\n"
     ]
    }
   ],
   "source": [
    "N = int(input())\n",
    "H = list(map(int, input().split()))\n",
    "ans = 0\n",
    "t = 0\n",
    "for i in range(N):\n",
    "    h = H[i]\n",
    "    ans += (h//5)*3\n",
    "    t += (h//5)*3\n",
    "    mod = h%5\n",
    "    if t%3==0:\n",
    "        if mod<=2:\n",
    "            t += mod\n",
    "        else:\n",
    "            t += 3\n",
    "    elif t%3==1:\n",
    "        if mod<=1:\n",
    "            t += mod\n",
    "        else:\n",
    "            t += 2\n",
    "    elif t%3==2:\n",
    "        if mod<=3:\n",
    "            t += 1\n",
    "        else:\n",
    "            t += 2\n",
    "    print(i, t)\n",
    "print(t)\n",
    "        "
   ]
  },
  {
   "cell_type": "code",
   "execution_count": 10,
   "id": "a8370fab-aa11-4ed3-b02d-1c6b7258add5",
   "metadata": {},
   "outputs": [
    {
     "name": "stdin",
     "output_type": "stream",
     "text": [
      " 4 2 3 1\n",
      " RUDL\n",
      " -1 -1\n",
      " 1 0\n"
     ]
    },
    {
     "name": "stdout",
     "output_type": "stream",
     "text": [
      "Yes\n"
     ]
    }
   ],
   "source": [
    "N, M, H, K = map(int, input().split())\n",
    "S = input()\n",
    "I = [ tuple(map(int, input().split())) for _ in range(M) ]\n",
    "I = set(I)\n",
    "posx = 0\n",
    "posy = 0\n",
    "h = H\n",
    "ans = 'Yes'\n",
    "for i in range(N):\n",
    "    h -= 1\n",
    "    if S[i]=='R':\n",
    "        posx += 1\n",
    "    elif S[i]=='L':\n",
    "        posx -= 1\n",
    "    elif S[i]=='U':\n",
    "        posy += 1\n",
    "    else:\n",
    "        posy -= 1\n",
    "    if h<0:\n",
    "        ans = 'No'\n",
    "        break\n",
    "    if (posx, posy) in I and h<K:\n",
    "        h=K\n",
    "        I.remove((posx, posy))\n",
    "print(ans)"
   ]
  },
  {
   "cell_type": "code",
   "execution_count": null,
   "id": "385bfdee-5888-4ac7-a371-bdb2f3d5f5c2",
   "metadata": {},
   "outputs": [],
   "source": [
    "# dp[i番目の文字列まで入力した時][capsがOn(or Off)である時]の最短入力時間を保持\n",
    "# 更新式は dp[i+1][0] = min(dp[i][0]+X, dp[i][1]+Z+X, dp[i+1][1]+Z (i文字目が小文字)\n",
    "\n",
    "X, Y, Z = map(int, input().split())\n",
    "S = input()\n",
    "inf = 10000000000000000\n",
    "dp = [[inf]*2 for _ in range(len(S)+1)]\n",
    "dp[0][0], dp[0][1] = 0, Z\n",
    "for i in range(len(S)):\n",
    "    if S[i]=='a':\n",
    "        dp[i+1][0] = min(dp[i+1][0], dp[i][0]+X, dp[i][1]+Z+X, dp[i][1]+Y+Z)\n",
    "        dp[i+1][1] = min(dp[i+1][1], dp[i][1]+Y, dp[i][0]+X+Z, dp[i][0]+Z+Y)\n",
    "    else:\n",
    "        dp[i+1][0] = min(dp[i+1][0], dp[i][0]+Y, dp[i][1]+X+Z, dp[i][1]+Z+Y)\n",
    "        dp[i+1][1] = min(dp[i+1][1], dp[i][1]+X, dp[i][0]+X+Z, dp[i][0]+Y+Z)\n",
    "print(min(dp[len(S)]))"
   ]
  },
  {
   "cell_type": "code",
   "execution_count": 2,
   "id": "5c793307-07ca-483f-8d45-f87c401f149a",
   "metadata": {
    "tags": []
   },
   "outputs": [
    {
     "name": "stdin",
     "output_type": "stream",
     "text": [
      " 4 4\n",
      " 4\n",
      " 1 1\n",
      " 3 1\n",
      " 3 3\n",
      " 1 3\n",
      " 1\n",
      " 2\n",
      " 1\n",
      " 2\n"
     ]
    },
    {
     "name": "stdout",
     "output_type": "stream",
     "text": [
      "1 1\n"
     ]
    }
   ],
   "source": [
    "from collections import defaultdict\n",
    "import bisect\n",
    "\n",
    "W, H = map(int, input().split())\n",
    "N = int(input())\n",
    "P = [ tuple(map(int, input().split())) for _ in range(N) ]\n",
    "a = int(input())\n",
    "A = list(map(int, input().split()))\n",
    "b = int(input())\n",
    "B = list(map(int, input().split()))\n",
    "mn = 10000000\n",
    "mx = 0\n",
    "dic = defaultdict(lambda: 0)\n",
    "for p, q in P:\n",
    "    idx1 = bisect.bisect_left(A, p)\n",
    "    idx2 = bisect.bisect_left(B, q)\n",
    "    dic[(idx1, idx2)] +=1\n",
    "for key in dic:\n",
    "    mn = min(dic[key], mn)\n",
    "    mx = max(dic[key], mx)\n",
    "if (a+1)*(b+1)>len(dic):\n",
    "    mn = 0\n",
    "print(mn, mx)"
   ]
  },
  {
   "cell_type": "code",
   "execution_count": 5,
   "id": "bed860cd-1d6e-4c2c-b52b-4e48eed5aa2f",
   "metadata": {},
   "outputs": [
    {
     "name": "stdin",
     "output_type": "stream",
     "text": [
      " 6 6\n",
      " 1 2\n",
      " 2 3\n",
      " 2 3\n",
      " 3 1\n",
      " 5 4\n",
      " 5 5\n",
      " 3\n",
      " 1 5\n",
      " 2 6\n",
      " 4 3\n",
      " 4\n",
      " 2 5\n",
      " 2 6\n",
      " 5 6\n",
      " 5 4\n"
     ]
    },
    {
     "name": "stdout",
     "output_type": "stream",
     "text": [
      "No\n",
      "No\n",
      "Yes\n",
      "Yes\n"
     ]
    }
   ],
   "source": [
    "class unionfind:\n",
    "    def __init__(self, n):\n",
    "        self.n = n\n",
    "        self.par = [-1] * (n+1)\n",
    "        self.size = [1] * (n+1)\n",
    "        \n",
    "    def root(self, x):\n",
    "        while self.par[x] != -1:\n",
    "            x = self.par[x]\n",
    "        return x\n",
    "    \n",
    "    def unite(self, u, v):\n",
    "        rootu = self.root(u)\n",
    "        rootv = self.root(v)\n",
    "        if rootu != rootv:\n",
    "            if self.size[rootu] < self.size[rootv]:\n",
    "                self.par[rootu] = rootv\n",
    "                self.size[rootv] += self.size[rootu]\n",
    "            else:\n",
    "                self.par[rootv] = rootu\n",
    "                self.size[rootu] += self.size[rootv]\n",
    "        \n",
    "    def same(self, u, v):\n",
    "        return self.root(u) == self.root(v)\n",
    "\n",
    "N, M = map(int, input().split())\n",
    "edges = [ tuple(map(int, input().split())) for _ in range(M) ]\n",
    "K = int(input())\n",
    "C = [ tuple(map(int, input().split())) for _ in range(K) ]\n",
    "Q = int(input())\n",
    "queries = [ tuple(map(int, input().split())) for i in range(Q) ]\n",
    "\n",
    "uf = unionfind(N)\n",
    "for u, v in edges:\n",
    "    uf.unite(u, v)\n",
    "Ps = set()\n",
    "for x, y in C:\n",
    "    xx, yy = uf.root(x), uf.root(y)\n",
    "    # if xx==-1:\n",
    "    #     xx = x\n",
    "    # if yy==-1:\n",
    "    #     yy = y\n",
    "    # if xx>yy:\n",
    "    #     xx, yy = yy, xx\n",
    "    Ps.add((xx, yy))\n",
    "    Ps.add((yy, xx))\n",
    "for p, q in queries:\n",
    "    pp, qq = uf.root(p), uf.root(q)\n",
    "    # if pp==-1:\n",
    "    #     pp = p\n",
    "    # if qq==-1:\n",
    "    #     qq = q\n",
    "    # if pp>qq:\n",
    "    #     pp, qq = qq, pp\n",
    "    if (pp, qq) in Ps or (qq, pp) in Ps:\n",
    "        print('No')\n",
    "    else:\n",
    "        print('Yes')\n",
    "        "
   ]
  },
  {
   "cell_type": "code",
   "execution_count": 4,
   "id": "96da9e90-b660-43f3-a1d6-85ba87e742ec",
   "metadata": {
    "tags": []
   },
   "outputs": [
    {
     "name": "stdin",
     "output_type": "stream",
     "text": [
      " 30\n",
      " AABABBBABABBABABCABACAABCBACCA\n"
     ]
    },
    {
     "name": "stdout",
     "output_type": "stream",
     "text": [
      "17\n"
     ]
    }
   ],
   "source": [
    "N = int(input())\n",
    "S = input()\n",
    "flag = [0, 0, 0]\n",
    "ans = 0\n",
    "for i in range(N):\n",
    "    if S[i]=='A':\n",
    "        flag[0] = 1\n",
    "    elif S[i]=='B':\n",
    "        flag[1] = 1\n",
    "    elif S[i]=='C':\n",
    "        flag[2] = 1\n",
    "    if sum(flag)==3:\n",
    "        ans = i+1\n",
    "        break\n",
    "print(ans)"
   ]
  },
  {
   "cell_type": "code",
   "execution_count": 44,
   "id": "ef03327a-e248-4e6f-9cbb-3420e1a0e5d5",
   "metadata": {
    "tags": []
   },
   "outputs": [
    {
     "name": "stdin",
     "output_type": "stream",
     "text": [
      " 7\n",
      " 6 7 2 1 3 4 5\n"
     ]
    },
    {
     "ename": "KeyError",
     "evalue": "0",
     "output_type": "error",
     "traceback": [
      "\u001b[1;31m---------------------------------------------------------------------------\u001b[0m",
      "\u001b[1;31mKeyError\u001b[0m                                  Traceback (most recent call last)",
      "Cell \u001b[1;32mIn[44], line 31\u001b[0m\n\u001b[0;32m     29\u001b[0m route \u001b[38;5;241m=\u001b[39m []\n\u001b[0;32m     30\u001b[0m dic \u001b[38;5;241m=\u001b[39m {i: idx \u001b[38;5;28;01mfor\u001b[39;00m idx, i \u001b[38;5;129;01min\u001b[39;00m \u001b[38;5;28menumerate\u001b[39m(route)}\n\u001b[1;32m---> 31\u001b[0m cycle \u001b[38;5;241m=\u001b[39m dfs(i, route)\n\u001b[0;32m     32\u001b[0m \u001b[38;5;28;01mif\u001b[39;00m cycle:\n\u001b[0;32m     33\u001b[0m     \u001b[38;5;28mprint\u001b[39m(\u001b[38;5;241m*\u001b[39mcycle)\n",
      "Cell \u001b[1;32mIn[44], line 11\u001b[0m, in \u001b[0;36mdfs\u001b[1;34m(pos, route)\u001b[0m\n\u001b[0;32m      9\u001b[0m \u001b[38;5;28;01mfor\u001b[39;00m nex \u001b[38;5;129;01min\u001b[39;00m G[pos]:\n\u001b[0;32m     10\u001b[0m     \u001b[38;5;28;01mif\u001b[39;00m \u001b[38;5;129;01mnot\u001b[39;00m visited[nex]:\n\u001b[1;32m---> 11\u001b[0m         result \u001b[38;5;241m=\u001b[39m dfs(nex, route)\n\u001b[0;32m     12\u001b[0m         \u001b[38;5;28;01mif\u001b[39;00m result \u001b[38;5;129;01mis\u001b[39;00m \u001b[38;5;129;01mnot\u001b[39;00m \u001b[38;5;28;01mNone\u001b[39;00m:\n\u001b[0;32m     13\u001b[0m             \u001b[38;5;28;01mreturn\u001b[39;00m result\n",
      "Cell \u001b[1;32mIn[44], line 11\u001b[0m, in \u001b[0;36mdfs\u001b[1;34m(pos, route)\u001b[0m\n\u001b[0;32m      9\u001b[0m \u001b[38;5;28;01mfor\u001b[39;00m nex \u001b[38;5;129;01min\u001b[39;00m G[pos]:\n\u001b[0;32m     10\u001b[0m     \u001b[38;5;28;01mif\u001b[39;00m \u001b[38;5;129;01mnot\u001b[39;00m visited[nex]:\n\u001b[1;32m---> 11\u001b[0m         result \u001b[38;5;241m=\u001b[39m dfs(nex, route)\n\u001b[0;32m     12\u001b[0m         \u001b[38;5;28;01mif\u001b[39;00m result \u001b[38;5;129;01mis\u001b[39;00m \u001b[38;5;129;01mnot\u001b[39;00m \u001b[38;5;28;01mNone\u001b[39;00m:\n\u001b[0;32m     13\u001b[0m             \u001b[38;5;28;01mreturn\u001b[39;00m result\n",
      "Cell \u001b[1;32mIn[44], line 15\u001b[0m, in \u001b[0;36mdfs\u001b[1;34m(pos, route)\u001b[0m\n\u001b[0;32m     13\u001b[0m             \u001b[38;5;28;01mreturn\u001b[39;00m result\n\u001b[0;32m     14\u001b[0m     \u001b[38;5;28;01melif\u001b[39;00m in_stack[nex]:  \u001b[38;5;66;03m# 閉路検出\u001b[39;00m\n\u001b[1;32m---> 15\u001b[0m         cycle_start \u001b[38;5;241m=\u001b[39m dic[nex]\n\u001b[0;32m     16\u001b[0m         \u001b[38;5;28;01mreturn\u001b[39;00m route[cycle_start:]\n\u001b[0;32m     18\u001b[0m route\u001b[38;5;241m.\u001b[39mpop()\n",
      "\u001b[1;31mKeyError\u001b[0m: 0"
     ]
    }
   ],
   "source": [
    "N = int(input())\n",
    "A = list(map(int, input().split()))\n",
    "dic = {}\n",
    "def dfs(pos, route):\n",
    "    visited[pos] = True\n",
    "    in_stack[pos] = True\n",
    "    route.append(pos + 1)\n",
    "    \n",
    "    for nex in G[pos]:\n",
    "        if not visited[nex]:\n",
    "            result = dfs(nex, route)\n",
    "            if result is not None:\n",
    "                return result\n",
    "        elif in_stack[nex]:  # 閉路検出\n",
    "            cycle_start = dic[nex]\n",
    "            return route[cycle_start:]\n",
    "    \n",
    "    route.pop()\n",
    "    in_stack[pos] = False\n",
    "    return None\n",
    "G = [ list() for _ in range(N) ]\n",
    "for i in range(N):\n",
    "    G[i].append(A[i]-1)\n",
    "visited = [False]*N\n",
    "in_stack = [False]*N\n",
    "route = []\n",
    "for i in range(N):\n",
    "    if not visited[i]:\n",
    "        route = []\n",
    "        dic = {i: idx for idx, i in enumerate(route)}\n",
    "        cycle = dfs(i, route)\n",
    "        if cycle:\n",
    "            print(*cycle)\n"
   ]
  },
  {
   "cell_type": "code",
   "execution_count": 45,
   "id": "ebc663dc-c2f3-4335-b59b-1b3dbcfb2f8f",
   "metadata": {
    "tags": []
   },
   "outputs": [
    {
     "data": {
      "text/plain": [
       "{}"
      ]
     },
     "execution_count": 45,
     "metadata": {},
     "output_type": "execute_result"
    }
   ],
   "source": [
    "dic"
   ]
  },
  {
   "cell_type": "code",
   "execution_count": 70,
   "id": "8db34e9b-6fcf-4f79-929f-3d0d23f0d806",
   "metadata": {},
   "outputs": [
    {
     "name": "stdin",
     "output_type": "stream",
     "text": [
      " 8\n",
      " 3 7 4 7 3 2 8 2\n"
     ]
    },
    {
     "name": "stdout",
     "output_type": "stream",
     "text": [
      "7 8 2\n"
     ]
    }
   ],
   "source": [
    "import sys\n",
    "sys.setrecursionlimit(10000000)\n",
    "\n",
    "def dfs(pos, route):\n",
    "    visited[pos] = True\n",
    "    route.append(pos+1)\n",
    "    dic[pos] = len(route)-1\n",
    "    for nex in G[pos]:\n",
    "        if not visited[nex]:\n",
    "            result = dfs(nex, route)\n",
    "            if result:\n",
    "                return result\n",
    "        else:\n",
    "            if len(route)>0:\n",
    "                # print(route)\n",
    "                return route[dic[nex]:]\n",
    "\n",
    "N = int(input())\n",
    "A = list(map(int, input().split()))\n",
    "dic = {}\n",
    "route = []\n",
    "visited = [False]*N\n",
    "G = [ list() for _ in range(N) ]\n",
    "for i in range(N):\n",
    "    G[i].append(A[i]-1)\n",
    "for i in range(N):\n",
    "    if not visited[i]:\n",
    "        route = []\n",
    "        ans = dfs(i, route)\n",
    "        # print(visited)\n",
    "    if ans:\n",
    "        print(len(ans))\n",
    "        print(*ans)\n",
    "        break"
   ]
  },
  {
   "cell_type": "code",
   "execution_count": 87,
   "id": "f71d1a69-1d44-449c-b1b9-1dc802bfd5d7",
   "metadata": {
    "tags": []
   },
   "outputs": [
    {
     "name": "stdin",
     "output_type": "stream",
     "text": [
      " 6 6\n",
      " ######\n",
      " #....#\n",
      " #.#..#\n",
      " #..#.#\n",
      " #....#\n",
      " ######\n"
     ]
    },
    {
     "ename": "KeyboardInterrupt",
     "evalue": "",
     "output_type": "error",
     "traceback": [
      "\u001b[1;31m---------------------------------------------------------------------------\u001b[0m",
      "\u001b[1;31mKeyboardInterrupt\u001b[0m                         Traceback (most recent call last)",
      "Cell \u001b[1;32mIn[87], line 38\u001b[0m\n\u001b[0;32m     36\u001b[0m     h, w, m \u001b[38;5;241m=\u001b[39m que\u001b[38;5;241m.\u001b[39mpopleft()\n\u001b[0;32m     37\u001b[0m     visited[h][w]\u001b[38;5;241m=\u001b[39m\u001b[38;5;28;01mTrue\u001b[39;00m\n\u001b[1;32m---> 38\u001b[0m     bfs(h, w, m)\n\u001b[0;32m     39\u001b[0m ans \u001b[38;5;241m=\u001b[39m \u001b[38;5;241m0\u001b[39m\n\u001b[0;32m     40\u001b[0m \u001b[38;5;28;01mfor\u001b[39;00m i \u001b[38;5;129;01min\u001b[39;00m \u001b[38;5;28mrange\u001b[39m(N):\n",
      "Cell \u001b[1;32mIn[87], line 21\u001b[0m, in \u001b[0;36mbfs\u001b[1;34m(posh, posw, m)\u001b[0m\n\u001b[0;32m     19\u001b[0m                 que\u001b[38;5;241m.\u001b[39mappend((posh\u001b[38;5;241m+\u001b[39mhh, posw\u001b[38;5;241m+\u001b[39mww, nex))\n\u001b[0;32m     20\u001b[0m             \u001b[38;5;28;01melse\u001b[39;00m:\n\u001b[1;32m---> 21\u001b[0m                 que\u001b[38;5;241m.\u001b[39mappend((posh, posw, \u001b[38;5;124m'\u001b[39m\u001b[38;5;124ms\u001b[39m\u001b[38;5;124m'\u001b[39m))\n\u001b[0;32m     22\u001b[0m \u001b[38;5;28;01melse\u001b[39;00m:\n\u001b[0;32m     23\u001b[0m     hh, ww \u001b[38;5;241m=\u001b[39m dic[m]\n",
      "\u001b[1;31mKeyboardInterrupt\u001b[0m: "
     ]
    }
   ],
   "source": [
    "import sys\n",
    "sys.setrecursionlimit(10**6)\n",
    "\n",
    "N,M = map(int,input().split())\n",
    "S = [input() for _ in range(N)]\n",
    "seen = [[False]*M for _ in range(N)]\n",
    "D = [(1,0),(-1,0),(0,1),(0,-1)]\n",
    "R = [[0]*M for _ in range(N)]\n",
    "def dfs(x,y):\n",
    "  seen[x][y] = True\n",
    "  R[x][y] = 1\n",
    "  for d in D:\n",
    "    xt,yt = (x,y)\n",
    "    while S[xt+d[0]][yt+d[1]] != '#':\n",
    "      R[xt][yt] = 1\n",
    "      xt += d[0]\n",
    "      yt += d[1]\n",
    "    if not seen[xt][yt]:\n",
    "      dfs(xt,yt)\n",
    "\n",
    "dfs(1,1)\n",
    "print(sum(sum(R,[])))"
   ]
  },
  {
   "cell_type": "code",
   "execution_count": null,
   "id": "babcf83b-032d-4398-8b6d-647f83d073f3",
   "metadata": {
    "tags": []
   },
   "outputs": [],
   "source": [
    "visited"
   ]
  },
  {
   "cell_type": "code",
   "execution_count": 7,
   "id": "0554b8af-3531-4cb8-b1b9-d830434ba3b9",
   "metadata": {
    "tags": []
   },
   "outputs": [
    {
     "name": "stdin",
     "output_type": "stream",
     "text": [
      " 8\n",
      " 22 L\n",
      " 75 L\n",
      " 26 R\n",
      " 45 R\n",
      " 72 R\n",
      " 81 R\n",
      " 47 L\n",
      " 29 R\n"
     ]
    },
    {
     "name": "stdout",
     "output_type": "stream",
     "text": [
      "188\n"
     ]
    }
   ],
   "source": [
    "N = int(input())\n",
    "p = []\n",
    "nowl = 0\n",
    "nowr = 0\n",
    "flagl = False\n",
    "flagr = False\n",
    "for _ in range(N):\n",
    "    a, s = map(str, input().split())\n",
    "    if flagl and s=='L':\n",
    "        nowl += abs(int(a)-flagl)\n",
    "        flagl = int(a)\n",
    "    elif flagr and s=='R':\n",
    "        nowr += abs(int(a)-flagr)\n",
    "        flagr = int(a)\n",
    "    elif flagl==False and s=='L':\n",
    "        flagl = int(a)\n",
    "    elif flagr==False and s=='R':\n",
    "        flagr = int(a)\n",
    "print(nowl+nowr)   \n"
   ]
  },
  {
   "cell_type": "code",
   "execution_count": 29,
   "id": "9d3c95e9-ba21-4e1c-b431-665348abdc53",
   "metadata": {
    "tags": []
   },
   "outputs": [
    {
     "name": "stdin",
     "output_type": "stream",
     "text": [
      " 2\n",
      " 1 2\n"
     ]
    },
    {
     "name": "stdout",
     "output_type": "stream",
     "text": [
      "3\n"
     ]
    }
   ],
   "source": [
    "N = int(input())\n",
    "A = list(map(int, input().split()))\n",
    "S = []\n",
    "for i in range(N-1):\n",
    "    S.append(A[i+1]-A[i])\n",
    "ans = N + (N-1)\n",
    "now = 0\n",
    "if len(S)>0:\n",
    "    pre = S[0]\n",
    "if N>2:\n",
    "    for i in range(1, N-1):\n",
    "        if S[i]==pre:\n",
    "            now+=1\n",
    "        else:\n",
    "            ans += (now+1)*(now)//2\n",
    "            now=0\n",
    "            pre=S[i]\n",
    "if now!=0:\n",
    "    ans += (now+1)*(now)//2\n",
    "print(ans)"
   ]
  },
  {
   "cell_type": "code",
   "execution_count": 34,
   "id": "46f60bce-b813-4ffc-abe2-1edab816b505",
   "metadata": {
    "tags": []
   },
   "outputs": [
    {
     "name": "stdin",
     "output_type": "stream",
     "text": [
      " 5\n",
      " 1 5 3 2 7\n"
     ]
    },
    {
     "name": "stdout",
     "output_type": "stream",
     "text": [
      "28\n"
     ]
    }
   ],
   "source": [
    "\n",
    "N = int(input())\n",
    "A = list(map(int, input().split()))\n",
    "dp = [[0]*2 for _ in range(N+1)]\n",
    "dp[1][1] = A[0]\n",
    "for i in range(1, N):\n",
    "    dp[i+1][0] = max(dp[i][1]+2*A[i], dp[i][0])\n",
    "    dp[i+1][1] = max(dp[i][0]+A[i], dp[i][1])\n",
    "print(max(dp[N]))"
   ]
  },
  {
   "cell_type": "code",
   "execution_count": 75,
   "id": "8da8da3a-0771-4b59-ac10-0004e3cb2750",
   "metadata": {
    "tags": []
   },
   "outputs": [
    {
     "name": "stdin",
     "output_type": "stream",
     "text": [
      " 6 6\n",
      " 1 5 1\n",
      " 2 5 1\n",
      " 2 4 1\n",
      " 3 4 1\n",
      " 3 6 1\n",
      " 1 6 1\n",
      " 2\n",
      " 5\n",
      " 1 2 3 4 5\n",
      " 1\n",
      " 5\n"
     ]
    },
    {
     "name": "stdout",
     "output_type": "stream",
     "text": [
      "100000000000\n",
      "100000000000\n"
     ]
    }
   ],
   "source": [
    "import heapq\n",
    "from itertools import permutations\n",
    "from collections import defaultdict\n",
    "N, M = map(int, input().split())\n",
    "edges = [tuple(map(int, input().split())) for _ in range(M)]\n",
    "bridges = {}\n",
    "G = [list() for _ in range(N)]\n",
    "t = 1\n",
    "for a, b, c in edges:\n",
    "    bridges[t]=(a-1, b-1, c)\n",
    "    G[a-1].append((b-1, c))\n",
    "    G[b-1].append((a-1, c))\n",
    "    t += 1\n",
    "Q = int(input())\n",
    "K = []\n",
    "B = []\n",
    "for i in range(Q):\n",
    "    k = int(input())\n",
    "    K.append(k)\n",
    "    b = list(map(int, input().split()))\n",
    "    B.append(b)\n",
    "D = []\n",
    "inf = 1000000000000\n",
    "def dyc(s):\n",
    "    done = [False]*N\n",
    "    dist = [inf]*N\n",
    "    dist[s]=0\n",
    "    que = []\n",
    "    heapq.heappush(que, (dist[s], s))\n",
    "    \n",
    "    while len(que)>0:\n",
    "        pos = heapq.heappop(que)[1]\n",
    "        if done[pos]:\n",
    "            continue\n",
    "        done[pos] = True\n",
    "        for nex, c in G[pos]:\n",
    "            if dist[nex]>dist[pos]+c:\n",
    "                dist[nex] = dist[pos]+c\n",
    "                heapq.heappush(que, (dist[nex], nex))\n",
    "    return dist\n",
    "for i in range(N):\n",
    "    pos = i \n",
    "    dist = dyc(pos)\n",
    "    D.append(dist)\n",
    "for q in range(Q):\n",
    "    k = K[q]\n",
    "    b = B[q]\n",
    "    orders = list(permutations(range(k)))\n",
    "    res = 100000000000\n",
    "    for order in orders:\n",
    "        tmp = 1000000000000\n",
    "        now = 0\n",
    "        dp = [[1000000000000]*(N+1) for _ in range(k+1)]\n",
    "        dp[0]=[0]*N\n",
    "        for j in range(k):\n",
    "            for l in range(N):\n",
    "                dp[j+1][bridges[b[j]][1]] = min(dp[j+1][bridges[b[j]][1]],  dp[j][l]+D[l][bridges[b[j]][0]]+bridges[b[j]][2])\n",
    "                dp[j+1][bridges[b[j]][0]] = min(dp[j+1][bridges[b[j]][0]],  dp[j][l]+D[l][bridges[b[j]][1]]+bridges[b[j]][2])\n",
    "        for j in range(N):\n",
    "            tmp = min(tmp, dp[k-1][j]+D[j][N-1])\n",
    "        # print(tmp)\n",
    "        res = min(res, dp[k][N])\n",
    "    print(res)\n",
    "                   \n",
    "                   "
   ]
  },
  {
   "cell_type": "code",
   "execution_count": 2,
   "id": "df716379-3198-403b-b58c-e95dd07cea1f",
   "metadata": {
    "tags": []
   },
   "outputs": [
    {
     "name": "stdin",
     "output_type": "stream",
     "text": [
      " 5\n",
      " 2\n",
      " 8\n",
      " 1\n",
      " 10\n",
      " 9\n"
     ]
    },
    {
     "name": "stdout",
     "output_type": "stream",
     "text": [
      "18\n"
     ]
    }
   ],
   "source": [
    "N = int(input())\n",
    "A = [int(input()) for _ in range(N)]\n",
    "\n",
    "def n(x):\n",
    "    return x + 1 if x != N - 1 else 0\n",
    "def p(x):\n",
    "    return x - 1 if x != 0 else N - 1\n",
    "\n",
    "# 残り (l, r) のときJOI君が最終的に取れるピースの大きさの合計の最大値\n",
    "dp = [[0] * N for _ in range(N)]\n",
    "for gap in range(N):\n",
    "    for l in range(N):\n",
    "        r = (l + gap) % N\n",
    "        if (N - gap) % 2: # JOI\n",
    "            dp[l][r] = max(dp[n(l)][r] + A[l], dp[l][p(r)] + A[r])\n",
    "        else: # IOI\n",
    "            if A[l] < A[r]:\n",
    "                dp[l][r] = dp[l][p(r)]\n",
    "            else:\n",
    "                dp[l][r] = dp[n(l)][r]\n",
    "\n",
    "print(max(max(d) for d in dp))"
   ]
  },
  {
   "cell_type": "code",
   "execution_count": 3,
   "id": "5f2f9943-0170-486e-92cf-75841878c777",
   "metadata": {
    "tags": []
   },
   "outputs": [
    {
     "data": {
      "text/plain": [
       "[[2, 2, 3, 3, 13],\n",
       " [18, 8, 1, 11, 11],\n",
       " [10, 18, 1, 1, 10],\n",
       " [12, 11, 13, 10, 9],\n",
       " [2, 11, 3, 13, 9]]"
      ]
     },
     "execution_count": 3,
     "metadata": {},
     "output_type": "execute_result"
    }
   ],
   "source": [
    "dp"
   ]
  },
  {
   "cell_type": "code",
   "execution_count": 57,
   "id": "231a8fdb-0f28-48fc-9070-c405b711f5bb",
   "metadata": {
    "tags": []
   },
   "outputs": [
    {
     "data": {
      "text/plain": [
       "{1: (0, 1, 1000000000),\n",
       " 2: (1, 2, 1000000000),\n",
       " 3: (2, 3, 1000000000),\n",
       " 4: (3, 4, 1000000000),\n",
       " 5: (0, 4, 1000000000)}"
      ]
     },
     "execution_count": 57,
     "metadata": {},
     "output_type": "execute_result"
    }
   ],
   "source": [
    "bridges"
   ]
  },
  {
   "cell_type": "code",
   "execution_count": 62,
   "id": "5d370da8-83e5-49a6-af11-d4a7a69f2014",
   "metadata": {
    "tags": []
   },
   "outputs": [
    {
     "data": {
      "text/plain": [
       "[[0, 1000000000, -1, -1, 1000000000],\n",
       " [1000000000, 0, 1000000000, -1, -1],\n",
       " [-1, 1000000000, 0, 1000000000, -1],\n",
       " [-1, -1, 1000000000, 0, 1000000000],\n",
       " [1000000000, -1, -1, 1000000000, 0]]"
      ]
     },
     "execution_count": 62,
     "metadata": {},
     "output_type": "execute_result"
    }
   ],
   "source": [
    "D"
   ]
  },
  {
   "cell_type": "code",
   "execution_count": 90,
   "id": "54a21c9d-afe2-45d3-93c5-47913f9093a6",
   "metadata": {
    "tags": []
   },
   "outputs": [
    {
     "name": "stdin",
     "output_type": "stream",
     "text": [
      " ch@kud@i\n",
      " akidu@ho\n"
     ]
    },
    {
     "name": "stdout",
     "output_type": "stream",
     "text": [
      "o\n",
      "No\n"
     ]
    }
   ],
   "source": [
    "S = input()\n",
    "T = input()\n",
    "C = set()\n",
    "for s in S:\n",
    "    C.add(s)\n",
    "pre = ['a', 't', 'c', 'o', 'd', 'e', 'r']\n",
    "ans = 'Yes'\n",
    "rest = []\n",
    "r = 0\n",
    "for t in T:\n",
    "    if t in C:\n",
    "        C.remove(t)\n",
    "    elif t=='@':\n",
    "        r += 1\n",
    "    elif t in pre and '@' in C:\n",
    "        C.remove('@')\n",
    "    else:\n",
    "        print(t)\n",
    "        ans = 'No'\n",
    "        break\n",
    "while len(C)>0:\n",
    "    a = C.pop()\n",
    "    if a!='@' and a not in pre:\n",
    "        ans = 'No'\n",
    "        break\n",
    "print(ans)"
   ]
  },
  {
   "cell_type": "code",
   "execution_count": 84,
   "id": "81d0897b-e01a-409d-b89d-f71f661de559",
   "metadata": {
    "tags": []
   },
   "outputs": [],
   "source": [
    "import copy\n",
    "H, W = map(int, input().split())\n",
    "A = [ list(input()) for _ in range(H) ]\n",
    "B = [ list(input()) for _ in range(H) ]\n",
    "def tate(array):\n",
    "    new = copy.deepcopy(array)\n",
    "    for column in range(W):\n",
    "        for i in range(H):\n",
    "            if i==H-1:\n",
    "                new[i][column] = array[0][column]\n",
    "            else:\n",
    "                new[i][column] = array[i+1][column]\n",
    "    return new\n",
    "\n",
    "def yoko(array):\n",
    "    new = copy.deepcopy(array)\n",
    "    for row in range(H):\n",
    "        for i in range(W):\n",
    "            if i==W-1:\n",
    "                new[row][i] = array[row][0]\n",
    "            else:\n",
    "                new[row][i] = array[row][i+1]\n",
    "    return new\n",
    "\n",
    "new = A\n",
    "ans = \"No\"\n",
    "for i in range(H):\n",
    "    new = A.copy()\n",
    "    t = 0\n",
    "    while t!=i:\n",
    "        new = tate(new)\n",
    "        t+=1\n",
    "    for j in range(W):\n",
    "        new2 = new\n",
    "        s = 0\n",
    "        while s!=j:\n",
    "            new2 = yoko(new2)\n",
    "            s+=1\n",
    "        if new2==B:\n",
    "            ans = \"Yes\"\n",
    "            break\n",
    "print(ans)"
   ]
  },
  {
   "cell_type": "code",
   "execution_count": 10,
   "id": "677ac84b-bd33-4bd9-8c46-91b4543630b3",
   "metadata": {
    "tags": []
   },
   "outputs": [
    {
     "name": "stdin",
     "output_type": "stream",
     "text": [
      " 3 16\n",
      " #.#.....#.#..#.#\n",
      " .#.......#....#.\n",
      " #.#.....#.#..#.#\n"
     ]
    },
    {
     "name": "stdout",
     "output_type": "stream",
     "text": [
      "3 0 0\n"
     ]
    }
   ],
   "source": [
    "H, W = map(int, input().split())\n",
    "N = min(H, W)\n",
    "\n",
    "C = [['.']*W]\n",
    "for i in range(H):\n",
    "    c = ['.'] + list(input()) + ['.']\n",
    "    C.append(c)\n",
    "c = ['.']*W\n",
    "C.append(c)\n",
    "\n",
    "def check(h, w):\n",
    "    if C[h][w]=='.':\n",
    "        return False\n",
    "    else:\n",
    "        n = 0\n",
    "        d = 1\n",
    "        while 0<h+d<H+1 and 0<w+d<W+1 and \\\n",
    "        C[h+d][w+d]=='#' and C[h+d][w-d]=='#' and C[h-d][w+d]=='#' and C[h-d][w-d]=='#':\n",
    "            n += 1\n",
    "            d += 1\n",
    "        return n\n",
    "ans = [0]*N    \n",
    "for i in range(2, H):\n",
    "    for j in range(2, W):\n",
    "        a = check(i, j)\n",
    "        if a:\n",
    "            ans[a-1] += 1\n",
    "print(*ans)\n"
   ]
  },
  {
   "cell_type": "code",
   "execution_count": 22,
   "id": "70d10f6d-56e3-449f-b12d-fa6c0bc17113",
   "metadata": {
    "tags": []
   },
   "outputs": [
    {
     "name": "stdin",
     "output_type": "stream",
     "text": [
      " 1000000000000\n"
     ]
    },
    {
     "name": "stdout",
     "output_type": "stream",
     "text": [
      "2817785\n"
     ]
    }
   ],
   "source": [
    "import bisect\n",
    "import math\n",
    "\n",
    "def Eras(x):\n",
    "    primes = []\n",
    "    root = int(x**0.5)\n",
    "    nums = [i for i in range(x+1)]\n",
    "    \n",
    "    for i in range(2, root+1):\n",
    "        if nums[i]!=0:\n",
    "            for j in range(i, x+1):\n",
    "                if i*j>=x+1:\n",
    "                    break\n",
    "                nums[i*j] = 0\n",
    "    for item in nums[2:]:\n",
    "        if item!=0:\n",
    "            primes.append(item)\n",
    "    return primes\n",
    "        \n",
    "N = int(input())\n",
    "n = int(N**0.5)\n",
    "x = Eras(n)\n",
    "X = list(map(lambda x: x**2, x))\n",
    "ans = 0\n",
    "for i in range(1, len(x)):\n",
    "    b = x[i]\n",
    "    for j in range(i):\n",
    "        a = X[j]\n",
    "        lim = N//(a*b)\n",
    "        idx = bisect.bisect_right(X, lim)\n",
    "        # print(a, b)\n",
    "        if idx<=i+1:\n",
    "            break\n",
    "        ans += (idx-i-1)\n",
    "print(ans)\n",
    "        \n",
    "    "
   ]
  },
  {
   "cell_type": "code",
   "execution_count": null,
   "id": "939bb820-8713-4beb-bc63-97905dc6c228",
   "metadata": {},
   "outputs": [],
   "source": [
    "011111"
   ]
  },
  {
   "cell_type": "code",
   "execution_count": 24,
   "id": "786922c5-1977-4436-8a17-6e198a05e9ee",
   "metadata": {
    "tags": []
   },
   "outputs": [
    {
     "name": "stdin",
     "output_type": "stream",
     "text": [
      " 3\n"
     ]
    },
    {
     "name": "stdout",
     "output_type": "stream",
     "text": [
      "? 2\n"
     ]
    },
    {
     "name": "stdin",
     "output_type": "stream",
     "text": [
      " 0\n"
     ]
    },
    {
     "name": "stdout",
     "output_type": "stream",
     "text": [
      "? 3\n"
     ]
    },
    {
     "name": "stdin",
     "output_type": "stream",
     "text": [
      " 1\n"
     ]
    },
    {
     "name": "stdout",
     "output_type": "stream",
     "text": [
      "! 2\n"
     ]
    }
   ],
   "source": [
    "N = int(input())\n",
    "l = 0\n",
    "r = N\n",
    "while r-l>1:\n",
    "    m = (r+l)//2\n",
    "    print('? '+str(m+1))\n",
    "    res = int(input())\n",
    "    if res==1:\n",
    "        r = m\n",
    "    else:\n",
    "        l = m\n",
    "print('! ' + str(l+1))"
   ]
  },
  {
   "cell_type": "code",
   "execution_count": 54,
   "id": "14280a55-5396-4629-9c96-bd0dc2f42cd6",
   "metadata": {
    "tags": []
   },
   "outputs": [
    {
     "name": "stdin",
     "output_type": "stream",
     "text": [
      " 1 0\n",
      " 0\n"
     ]
    },
    {
     "name": "stdout",
     "output_type": "stream",
     "text": [
      "[[0]]\n",
      "Yes\n",
      "0\n"
     ]
    }
   ],
   "source": [
    "import networkx as nx\n",
    "from collections import deque\n",
    "\n",
    "N, M = map(int, input().split())\n",
    "edges = [ tuple(map(int, input().split())) for _ in range(M) ]\n",
    "K = int(input())\n",
    "C = [ tuple(map(int, input().split())) for _ in range(K) ]\n",
    "G = [list() for _ in range(N)]\n",
    "for a, b in edges:\n",
    "    G[a-1].append(b-1)\n",
    "    G[b-1].append(a-1)\n",
    "def dyc(pos):\n",
    "    dist = [-1]*N\n",
    "    dist[pos] = 0\n",
    "    que = deque()\n",
    "    que.append(pos)\n",
    "    while len(que)>0:\n",
    "        p = que.popleft()\n",
    "        for nex in G[p]:\n",
    "            if dist[nex]==-1:\n",
    "                dist[nex] = dist[p]+1\n",
    "                que.append(nex)\n",
    "    return dist\n",
    "D = []\n",
    "for i in range(N):\n",
    "    dist = dyc(i)\n",
    "    D.append(dist)\n",
    "# print(D)\n",
    "\n",
    "OK = set()\n",
    "NG = set()\n",
    "ans = [0]*N\n",
    "dic = {}\n",
    "for p, d in C:\n",
    "    dic[p-1]=False\n",
    "for i in range(N):\n",
    "    flag = False\n",
    "    dd = []\n",
    "    for p, d in C:\n",
    "        if D[p-1][i]<d:\n",
    "            flag = False\n",
    "            break\n",
    "        elif D[p-1][i]==d:\n",
    "            flag = True\n",
    "            if not dic[p-1]:\n",
    "                dd.append(p-1)\n",
    "    if flag:\n",
    "        for ddd in dd:\n",
    "            dic[ddd]=True\n",
    "            ans[i]=1\n",
    "res = 'Yes'\n",
    "for key in dic:\n",
    "    if not dic[key]:\n",
    "        res = 'No'\n",
    "        break\n",
    "print(res)\n",
    "if K==0:\n",
    "    print('1'*N)\n",
    "elif res=='Yes':\n",
    "    print(*ans, sep='')"
   ]
  },
  {
   "cell_type": "code",
   "execution_count": null,
   "id": "c77cf338-fcfe-48ee-abdc-a0d584bb79eb",
   "metadata": {
    "tags": []
   },
   "outputs": [],
   "source": [
    "import networkx as nx\n",
    "from collections import deque\n",
    "\n",
    "N, M = 472 2000\n",
    "edges = [ tuple(map(int, input().split())) for _ in range(M) ]\n",
    "K = int(input())\n",
    "C = [ tuple(map(int, input().split())) for _ in range(K) ]\n",
    "G = [list() for _ in range(N)]\n",
    "for a, b in edges:\n",
    "    G[a-1].append(b-1)\n",
    "    G[b-1].append(a-1)\n",
    "def dyc(pos):\n",
    "    dist = [-1]*N\n",
    "    dist[pos] = 0\n",
    "    que = deque()\n",
    "    que.append(pos)\n",
    "    while len(que)>0:\n",
    "        p = que.popleft()\n",
    "        for nex in G[p]:\n",
    "            if dist[nex]==-1:\n",
    "                dist[nex] = dist[p]+1\n",
    "                que.append(nex)\n",
    "    return dist\n",
    "D = []\n",
    "for i in range(N):\n",
    "    dist = dyc(i)\n",
    "    D.append(dist)\n",
    "# print(D)\n",
    "\n",
    "OK = set()\n",
    "NG = set()\n",
    "ans = [0]*N\n",
    "dic = {}\n",
    "for p, d in C:\n",
    "    dic[p-1]=False\n",
    "for i in range(N):\n",
    "    flag = False\n",
    "    dd = []\n",
    "    for p, d in C:\n",
    "        if D[p-1][i]<d:\n",
    "            flag = False\n",
    "            break\n",
    "        elif D[p-1][i]==d:\n",
    "            flag = True\n",
    "            if not dic[p-1]:\n",
    "                dd.append(p-1)\n",
    "    if flag:\n",
    "        for ddd in dd:\n",
    "            dic[ddd]=True\n",
    "            ans[i]=1\n",
    "res = 'Yes'\n",
    "for key in dic:\n",
    "    if not dic[key]:\n",
    "        res = 'No'\n",
    "        break\n",
    "print(res)\n",
    "if K==0:\n",
    "    print('1'*N)\n",
    "elif res=='Yes':\n",
    "    print(*ans, sep='')"
   ]
  },
  {
   "cell_type": "code",
   "execution_count": 100,
   "id": "0c1dac77-7e00-415c-9e46-23cef9dcc275",
   "metadata": {
    "tags": []
   },
   "outputs": [
    {
     "name": "stdin",
     "output_type": "stream",
     "text": [
      " 4 3 10\n",
      " 2 2\n",
      " 4 1\n",
      " 1 1\n",
      " 4 2\n",
      " 2 1\n",
      " 3 1\n",
      " 1 3\n",
      " 1 2\n",
      " 4 3\n",
      " 4 2\n"
     ]
    },
    {
     "name": "stdout",
     "output_type": "stream",
     "text": [
      "[[1, 1, 1], [1, 0, 1], [1, 1, 1], [1, 1, 1]]\n",
      "[[1, 1, 1], [1, 0, 1], [1, 1, 1], [0, 1, 1]]\n",
      "[[0, 1, 1], [1, 0, 1], [1, 1, 1], [0, 1, 1]]\n",
      "[[0, 1, 1], [1, 0, 1], [1, 1, 1], [0, 0, 1]]\n",
      "[[0, 1, 1], [0, 0, 1], [1, 1, 1], [0, 0, 1]]\n",
      "[[0, 1, 1], [0, 0, 1], [0, 1, 1], [0, 0, 1]]\n",
      "[[0, 1, 0], [0, 0, 1], [0, 1, 1], [0, 0, 1]]\n",
      "[[0, 0, 0], [0, 0, 1], [0, 1, 1], [0, 0, 1]]\n",
      "[[0, 0, 0], [0, 0, 1], [0, 1, 1], [0, 0, 0]]\n",
      "[[0, 0, 0], [0, 0, 1], [0, 0, 1], [0, 0, 0]]\n",
      "2\n"
     ]
    }
   ],
   "source": [
    "from itertools import accumulate\n",
    "from sortedcontainers import SortedSet\n",
    "H, W, Q = map(int, input().split())\n",
    "S = [ [1]*W for _ in range(H)]\n",
    "queries = [ tuple(map(int, input().split())) for _ in range(Q) ]\n",
    "dich = {}\n",
    "dicw = {}\n",
    "for i in range(H):\n",
    "    dich[i] = SortedSet(list(range(1, W+1)))\n",
    "for i in range(W):\n",
    "    dicw[i] = SortedSet(list(range(1, H+1)))\n",
    "for r, c in queries:\n",
    "    if S[r-1][c-1]==1:\n",
    "        S[r-1][c-1] = 0\n",
    "        dich[r-1].remove(c)\n",
    "        dicw[c-1].remove(r)\n",
    "    else:\n",
    "        if len(dich[r-1])!=0:\n",
    "            idx1 = dich[r-1].bisect_left(c)\n",
    "            if len(dich[r-1])>idx1:\n",
    "                t = dich[r-1][idx1]\n",
    "                S[r-1][t-1]=0\n",
    "                dicw[t-1].remove(r)\n",
    "                dich[r-1].remove(dich[r-1][idx1])\n",
    "            if idx1>0:\n",
    "                t = dich[r-1][idx1-1]\n",
    "                S[r-1][t-1]=0\n",
    "                dicw[t-1].remove(r)\n",
    "                dich[r-1].remove(t)\n",
    "        if len(dicw[c-1])!=0:\n",
    "            idx2 = dicw[c-1].bisect_left(r)\n",
    "            if len(dicw[c-1])>idx2:\n",
    "                t = dicw[c-1][idx2]\n",
    "                S[t-1][c-1]=0\n",
    "                dich[t-1].remove(c)\n",
    "                dicw[c-1].remove(t)\n",
    "            if idx2>0:\n",
    "                t = dicw[c-1][idx2-1]\n",
    "                S[t-1][c-1]=0\n",
    "                dich[t-1].remove(c)\n",
    "                dicw[c-1].remove(t)\n",
    "    # print(S)\n",
    "ans = 0\n",
    "for i in range(H):\n",
    "    ans += sum(S[i])\n",
    "print(ans)\n",
    "        "
   ]
  },
  {
   "cell_type": "code",
   "execution_count": 4,
   "id": "273ac37f-3622-42e2-8724-a544958cd33e",
   "metadata": {
    "tags": []
   },
   "outputs": [
    {
     "name": "stdin",
     "output_type": "stream",
     "text": [
      " 100\n",
      " ooooooooooooooooooooooooooooooooooooooooooooooooooooooooooooooooooooooooooooooooooooooooooooooooooox\n"
     ]
    },
    {
     "name": "stdout",
     "output_type": "stream",
     "text": [
      "No\n"
     ]
    }
   ],
   "source": [
    "N = int(input())\n",
    "S = input()\n",
    "ans = 'No'\n",
    "for s in S:\n",
    "    if s=='o':\n",
    "        ans = 'Yes'\n",
    "    elif s=='x':\n",
    "        ans = 'No'\n",
    "        break\n",
    "print(ans)"
   ]
  },
  {
   "cell_type": "code",
   "execution_count": 10,
   "id": "c77ceaec-4eb8-4985-8105-1173a50b1215",
   "metadata": {
    "tags": []
   },
   "outputs": [
    {
     "name": "stdin",
     "output_type": "stream",
     "text": [
      " 2\n",
      " 0 0\n",
      " 0 0\n",
      " 1 1\n",
      " 1 1\n"
     ]
    },
    {
     "name": "stdout",
     "output_type": "stream",
     "text": [
      "[[0, 0], [0, 0]]\n",
      "Yes\n"
     ]
    }
   ],
   "source": [
    "import copy\n",
    "N = int(input())\n",
    "A = [list(map(int, input().split())) for _ in range(N)]\n",
    "B = [list(map(int, input().split())) for _ in range(N)]\n",
    "tmp = A.copy()\n",
    "ans = 'No'\n",
    "t = 0\n",
    "while t<4:\n",
    "    pre = copy.deepcopy(tmp)\n",
    "    for i in range(N):\n",
    "        for j in range(N):\n",
    "            tmp[j][N-1-i] = pre[i][j]\n",
    "    # print(tmp)\n",
    "    t += 1\n",
    "    flag = True\n",
    "    for i in range(N):\n",
    "        for j in range(N):\n",
    "            if tmp[i][j]:\n",
    "                if not B[i][j]:\n",
    "                    flag = False\n",
    "                    break\n",
    "        if not flag:\n",
    "            break\n",
    "    if flag:\n",
    "        ans = 'Yes'\n",
    "        break\n",
    "print(ans)"
   ]
  },
  {
   "cell_type": "code",
   "execution_count": 19,
   "id": "22cacd45-3f2b-4e40-a4c3-830af4e6a965",
   "metadata": {
    "tags": []
   },
   "outputs": [
    {
     "name": "stdin",
     "output_type": "stream",
     "text": [
      " 5\n",
      " 8\n",
      " 1 1 1\n",
      " 1 2 4\n",
      " 1 1 4\n",
      " 2 4\n",
      " 1 1 4\n",
      " 2 4\n",
      " 3 1\n",
      " 3 2\n"
     ]
    },
    {
     "name": "stdout",
     "output_type": "stream",
     "text": [
      "\n",
      "\n",
      "1 4\n",
      "\n"
     ]
    }
   ],
   "source": [
    "import heapq\n",
    "from collections import defaultdict\n",
    "from sortedcontainers import SortedSet\n",
    "\n",
    "N = int(input())\n",
    "Q = int(input())\n",
    "queries = [ tuple(map(int, input().split())) for _ in range(Q) ]\n",
    "boxes = defaultdict(lambda: [])\n",
    "numbers = defaultdict(lambda: SortedSet())\n",
    "for i in range(Q):\n",
    "    if queries[i][0]==1:\n",
    "        heapq.heappush(boxes[queries[i][2]], queries[i][1])\n",
    "        numbers[queries[i][1]].add(queries[i][2])\n",
    "    elif queries[i][1]==2:\n",
    "        print(*boxes[queries[i][1]])\n",
    "    else:\n",
    "        print(*numbers[queries[i][1]])\n"
   ]
  },
  {
   "cell_type": "code",
   "execution_count": 1,
   "id": "92216a9e-0fed-4540-8b48-67e9635ee9c1",
   "metadata": {
    "tags": []
   },
   "outputs": [
    {
     "name": "stdin",
     "output_type": "stream",
     "text": [
      " 3 3 5\n",
      " 10 2 10\n",
      " 3 1 4\n",
      " 10 5 10\n"
     ]
    },
    {
     "name": "stdout",
     "output_type": "stream",
     "text": [
      "9\n",
      "7\n",
      "6\n",
      "5\n",
      "4\n"
     ]
    }
   ],
   "source": [
    "import sys, heapq\n",
    "\n",
    "sys.setrecursionlimit(1000000)\n",
    "H, W, Y = map(int, input().split())\n",
    "S = [ list(map(int, input().split())) for _ in range(H)]\n",
    "land = [ [True]*W for _ in range(H) ]\n",
    "que = []\n",
    "neighbors = [(0, 1), (0, -1), (1, 0), (-1, 0)]\n",
    "def dfs(h, w):\n",
    "    if not land[h][w]:\n",
    "        return\n",
    "    global rest\n",
    "    if land[h][w]:\n",
    "        rest -= 1\n",
    "        land[h][w]=False\n",
    "    # if not land[h][w]:\n",
    "    #     continue\n",
    "    for hh, ww in neighbors:\n",
    "        if 0<=h+hh<H and 0<=w+ww<W and land[h+hh][w+ww]:\n",
    "            if S[h+hh][w+ww]<=now:\n",
    "                dfs(h+hh, w+ww)\n",
    "            else:\n",
    "                heapq.heappush(que, (S[h+hh][w+ww], h+hh, w+ww))\n",
    "now = 1\n",
    "rest = H*W\n",
    "for i in range(H):\n",
    "    if i==0 or i==H-1:\n",
    "        for j in range(H):\n",
    "            heapq.heappush(que, (S[i][j], i, j))\n",
    "    else:\n",
    "        heapq.heappush(que, (S[i][0], i, 0))\n",
    "        heapq.heappush(que, (S[i][W-1], i, W-1))\n",
    "l, posh, posw = heapq.heappop(que)\n",
    "for i in range(1, Y+1):\n",
    "    while len(que)>0 and l==i:\n",
    "        if land[posh][posw]:\n",
    "            dfs(posh, posw)\n",
    "        l, posh, posw = heapq.heappop(que)\n",
    "    print(rest)\n"
   ]
  },
  {
   "cell_type": "code",
   "execution_count": null,
   "id": "10555742-8db7-4aff-b582-8b2b7a93885a",
   "metadata": {},
   "outputs": [],
   "source": [
    "from collections import deque\n",
    "\n",
    "H, W, Y = map(int, input().split())\n",
    "A = [list(map(int, input().split())) for _ in range(H)]\n",
    "dq = [deque() for _ in range(100001)]\n",
    "ans = H * W\n",
    "done = [[False] * W for _ in range(H)]\n",
    "\n",
    "for i in range(W):\n",
    "    dq[A[0][i]].append((0, i))\n",
    "    dq[A[H-1][i]].append((H-1, i))\n",
    "for i in range(1, H-1):\n",
    "    dq[A[i][0]].append((i, 0))\n",
    "    dq[A[i][W-1]].append((i, W-1))\n",
    "\n",
    "for i in range(1, Y+1):\n",
    "\n",
    "    while dq[i]:\n",
    "        h, w = dq[i].popleft()\n",
    "        if done[h][w]:\n",
    "            continue\n",
    "        done[h][w] = True\n",
    "        ans -= 1\n",
    "        for dh, dw in [(0, 1), (0, -1), (1, 0), (-1, 0)]:\n",
    "            nh, nw = h + dh, w + dw\n",
    "            if 0 <= nh < H and 0 <= nw < W:\n",
    "                dq[max(i, A[nh][nw])].append((nh, nw))\n",
    "\n",
    "    print(ans)\n"
   ]
  },
  {
   "cell_type": "code",
   "execution_count": null,
   "id": "eaf97130-d17f-4bd3-bda3-8b8e233ae6ad",
   "metadata": {},
   "outputs": [],
   "source": [
    "def calc(bit):\n",
    "    bits = []\n",
    "    for a in A:\n",
    "        bits.append((a>>bit) & 1)\n",
    "    \n",
    "    data = []\n",
    "    cnt = [0, 0]\n",
    "    now = bits[0]\n",
    "    for b in bits[1:]:\n",
    "        now ^= b\n",
    "        data.append(now)\n",
    "        cnt[now] += 1\n",
    "    \n",
    "    res = cnt[1]\n",
    "    inv = 0\n",
    "    for i, bi in enumerate(bits[1:], start=1):\n",
    "        head = data[i-1] ^ inv\n",
    "        cnt[head] -= 1\n",
    "        if bits[i-1]:\n",
    "            cnt = cnt[::-1]\n",
    "            inv ^= 1\n",
    "        \n",
    "        res += cnt[1]\n",
    "    return res\n",
    "\n",
    "ans = 0\n",
    "base = 1\n",
    "for i in range(30):\n",
    "    res = calc(i)\n",
    "    ans += res * base\n",
    "    base *= 2\n",
    "\n",
    "print(ans)"
   ]
  },
  {
   "cell_type": "code",
   "execution_count": null,
   "id": "557849ec-f4f6-4ecd-b93f-f179585232e3",
   "metadata": {},
   "outputs": [],
   "source": [
    "N = int(input())\n",
    "A = list(map(int, input().split()))\n",
    "\n",
    "\n",
    "def calc(bit):\n",
    "    bits = []\n",
    "    for a in A:\n",
    "        bits.append((a>>bit) & 1)\n",
    "    \n",
    "    data = []\n",
    "    cnt = [0, 0]\n",
    "    now = bits[0]\n",
    "    for b in bits[1:]:\n",
    "        now ^= b\n",
    "        data.append(now)\n",
    "        cnt[now] += 1\n",
    "    \n",
    "    res = cnt[1]\n",
    "    inv = 0\n",
    "    for i, bi in enumerate(bits[1:], start=1):\n",
    "        head = data[i-1] ^ inv\n",
    "        cnt[head] -= 1\n",
    "        if bits[i-1]:\n",
    "            cnt = cnt[::-1]\n",
    "            inv ^= 1\n",
    "        \n",
    "        res += cnt[1]\n",
    "    return res\n",
    "\n",
    "ans = 0\n",
    "base = 1\n",
    "for i in range(30):\n",
    "    res = calc(i)\n",
    "    ans += res * base\n",
    "    base *= 2\n",
    "\n",
    "print(ans)"
   ]
  },
  {
   "cell_type": "code",
   "execution_count": 5,
   "id": "2c00e619-d890-40bd-a3db-bc345d305c41",
   "metadata": {
    "tags": []
   },
   "outputs": [
    {
     "name": "stdin",
     "output_type": "stream",
     "text": [
      " 100\n"
     ]
    },
    {
     "name": "stdout",
     "output_type": "stream",
     "text": [
      "909\n"
     ]
    }
   ],
   "source": [
    "def count_palindromes_with_k_digits(k):\n",
    "    if k == 1:\n",
    "        return 10\n",
    "    if k % 2 == 0:\n",
    "        return 9 * 10 ** ((k // 2) - 1)\n",
    "    else:\n",
    "        return 9 * 10 ** ((k - 1) // 2)\n",
    "\n",
    "def find_k_digit_length(n):\n",
    "    total_palindromes = 0\n",
    "    k = 1\n",
    "    while True:\n",
    "        count = count_palindromes_with_k_digits(k)\n",
    "        if total_palindromes + count >= n:\n",
    "            return k, n - total_palindromes\n",
    "        total_palindromes += count\n",
    "        k += 1\n",
    "\n",
    "def nth_palindrome(N):\n",
    "    k, index = find_k_digit_length(N)\n",
    "    \n",
    "    if k == 1:\n",
    "        return index - 1\n",
    "    \n",
    "    half_length = (k + 1) // 2\n",
    "    start = 10 ** (half_length - 1)\n",
    "    half_palindrome = start + (index - 1)\n",
    "    half_str = str(half_palindrome)\n",
    "    \n",
    "    if k % 2 == 0:\n",
    "        return int(half_str + half_str[::-1])\n",
    "    else:\n",
    "        return int(half_str + half_str[-2::-1])\n",
    "    \n",
    "N = int(input())\n",
    "print(nth_palindrome(N))"
   ]
  },
  {
   "cell_type": "code",
   "execution_count": 7,
   "id": "d24183f0-454f-40fa-b72f-9c944fb6a071",
   "metadata": {
    "tags": []
   },
   "outputs": [
    {
     "name": "stdin",
     "output_type": "stream",
     "text": [
      " < < >\n"
     ]
    },
    {
     "name": "stdout",
     "output_type": "stream",
     "text": [
      "C\n"
     ]
    }
   ],
   "source": [
    "S1, S2, S3 = map(str, input().split())\n",
    "ans = [\"A\", \"B\", \"C\"]\n",
    "if S1=='<':\n",
    "    if S2==\"<\":\n",
    "        if S3==\"<\":\n",
    "            print('B')\n",
    "        else:\n",
    "            print('C')\n",
    "    else:\n",
    "        print('A')\n",
    "else:\n",
    "    if S2==\"<\":\n",
    "        print('A')\n",
    "    else:\n",
    "        if S3=='<':\n",
    "            print('C')\n",
    "        else:\n",
    "            print('B')\n",
    "    "
   ]
  },
  {
   "cell_type": "code",
   "execution_count": 12,
   "id": "c34a7d72-4f1b-4f61-8eb3-1b87731b9fd5",
   "metadata": {
    "tags": []
   },
   "outputs": [
    {
     "name": "stdin",
     "output_type": "stream",
     "text": [
      " 4 7\n",
      " 2 M\n"
     ]
    },
    {
     "name": "stdout",
     "output_type": "stream",
     "text": [
      "Yes\n"
     ]
    },
    {
     "name": "stdin",
     "output_type": "stream",
     "text": [
      " 3 M\n"
     ]
    },
    {
     "name": "stdout",
     "output_type": "stream",
     "text": [
      "Yes\n"
     ]
    },
    {
     "name": "stdin",
     "output_type": "stream",
     "text": [
      " 1 F\n"
     ]
    },
    {
     "name": "stdout",
     "output_type": "stream",
     "text": [
      "No\n"
     ]
    },
    {
     "name": "stdin",
     "output_type": "stream",
     "text": [
      " 4 F\n"
     ]
    },
    {
     "name": "stdout",
     "output_type": "stream",
     "text": [
      "No\n"
     ]
    },
    {
     "name": "stdin",
     "output_type": "stream",
     "text": [
      " 4 F\n"
     ]
    },
    {
     "name": "stdout",
     "output_type": "stream",
     "text": [
      "No\n"
     ]
    },
    {
     "name": "stdin",
     "output_type": "stream",
     "text": [
      " 1 F\n"
     ]
    },
    {
     "name": "stdout",
     "output_type": "stream",
     "text": [
      "No\n"
     ]
    },
    {
     "name": "stdin",
     "output_type": "stream",
     "text": [
      " 2 M\n"
     ]
    },
    {
     "name": "stdout",
     "output_type": "stream",
     "text": [
      "No\n"
     ]
    }
   ],
   "source": [
    "N, M = map(int, input().split())\n",
    "flag = [False]*N\n",
    "for i in range(M):\n",
    "    a, b = map(str, input().split())\n",
    "    a = int(a)-1\n",
    "    if not flag[a] and b=='M':\n",
    "        flag[a]=True\n",
    "        print('Yes')\n",
    "    else:\n",
    "        print('No')"
   ]
  },
  {
   "cell_type": "code",
   "execution_count": null,
   "id": "3e7bbc75-4221-46b8-9e31-962b7072757b",
   "metadata": {
    "tags": []
   },
   "outputs": [],
   "source": [
    "from itertools import permutations\n",
    "N = int(input())\n",
    "Mg = int(input())\n",
    "edgesg = [ tuple(map(int, input().split())) for _ in range(Mg) ]\n",
    "Mh = int(input())\n",
    "edgesh = [ tuple(map(int, input().split())) for _ in range(Mh) ]\n",
    "\n",
    "costs = [ list(map(int, input().split())) for _ in range(N-1)]\n",
    "combs = list(permutations(range(N), r=N))\n",
    "G = set()\n",
    "H = set()\n",
    "ans = 1000000000\n",
    "for a, b in edgesh:\n",
    "    if a>b:\n",
    "        a, b = b, a\n",
    "    a -= 1\n",
    "    b -= 1\n",
    "    H.add((a, b))\n",
    "for comb in combs:\n",
    "    now = 0\n",
    "    G = set()\n",
    "    for a, b in edgesg:\n",
    "        a -= 1\n",
    "        b -= 1\n",
    "        a, b = comb[a], comb[b]\n",
    "        if a>b:\n",
    "            a, b = b, a\n",
    "        G.add((a, b))\n",
    "    # print(G, H)\n",
    "    for edge in H:\n",
    "        if edge not in G:\n",
    "            now += costs[edge[0]][edge[1]-edge[0]-1]\n",
    "            # print(now)\n",
    "    for edge in G:\n",
    "        if edge not in H:\n",
    "            a, b = edge[0], edge[1]\n",
    "            if a>b:\n",
    "                a, b = b, a\n",
    "            now += costs[a][b-a-1]\n",
    "    # print(now, comb)\n",
    "    ans = min(ans, now)\n",
    "print(ans)\n",
    "\n",
    "        \n",
    "    "
   ]
  },
  {
   "cell_type": "code",
   "execution_count": 20,
   "id": "5d7689ba-8f44-4728-99e2-d2794bff1388",
   "metadata": {
    "tags": []
   },
   "outputs": [
    {
     "data": {
      "text/plain": [
       "4"
      ]
     },
     "execution_count": 20,
     "metadata": {},
     "output_type": "execute_result"
    }
   ],
   "source": [
    "N = int(input())\n",
    "A = list(map(int, input().split()))\n",
    "idxs = [[] for _ in range(N + 1)]\n",
    "ans = 0\n",
    "\n",
    "for i, x in enumerate(A):\n",
    "    idxs[x].append(i)\n",
    "\n",
    "for i in range(N + 1):\n",
    "    idxs[i].append(N)\n",
    "\n",
    "for n, idx in enumerate(idxs):\n",
    "    if len(idx) == 1:\n",
    "        continue\n",
    "    s = -1\n",
    "    tmp = 0\n",
    "    for i in idx:\n",
    "        tmp += (i-s-1)*(i-s-2)//2 + (i-s-1)\n",
    "        s = i\n",
    "    ans += (N*(N- 1)//2) + N - tmp\n",
    "\n",
    "print(ans)"
   ]
  },
  {
   "cell_type": "code",
   "execution_count": 62,
   "id": "503efef6-0ed4-4a12-aece-1e910a7f3bb1",
   "metadata": {
    "tags": []
   },
   "outputs": [
    {
     "name": "stdin",
     "output_type": "stream",
     "text": [
      " 4\n",
      " 1 3 3 3\n",
      " 1 2 3 4\n",
      " 4\n",
      " 1 1\n",
      " 2 6\n",
      " 3 3\n",
      " 2 2\n"
     ]
    },
    {
     "name": "stdout",
     "output_type": "stream",
     "text": [
      "1\n",
      "9\n",
      "9\n",
      "0\n"
     ]
    }
   ],
   "source": [
    "import bisect\n",
    "from itertools import accumulate\n",
    "\n",
    "N = int(input())\n",
    "X = list(map(int, input().split()))\n",
    "P = list(map(int, input().split()))\n",
    "Ps = list(accumulate(P))\n",
    "Q = int(input())\n",
    "queries = [ tuple(map(int, input().split())) for _ in range(Q)]\n",
    "for l, r in queries:\n",
    "    idx1 = bisect.bisect_left(X, l)\n",
    "    idx2 = bisect.bisect_right(X, r)\n",
    "    if idx1==0:\n",
    "        print(Ps[idx2-1])\n",
    "    elif idx1==idx2:\n",
    "        print(0)\n",
    "    else:\n",
    "        print(Ps[idx2-1]-Ps[idx1-1])"
   ]
  },
  {
   "cell_type": "code",
   "execution_count": 71,
   "id": "ce170a40-083a-423b-b990-65b411176dd3",
   "metadata": {
    "tags": []
   },
   "outputs": [
    {
     "name": "stdin",
     "output_type": "stream",
     "text": [
      " 9\n",
      " 5 4 2 2 3 2 4 4 1\n"
     ]
    },
    {
     "name": "stdout",
     "output_type": "stream",
     "text": [
      "5 9\n",
      "4 36\n",
      "2 70\n",
      "3 95\n",
      "1 104\n",
      "104\n"
     ]
    }
   ],
   "source": [
    "from collections import defaultdict\n",
    "# from sorteccontainers import SortedSet\n",
    "\n",
    "dic = defaultdict(lambda: set())\n",
    "N = int(input())\n",
    "A = list(map(int, input().split()))\n",
    "for i in range(N):\n",
    "    dic[A[i]].add(i)\n",
    "ans = 0\n",
    "for key in dic:\n",
    "    t = -1\n",
    "    for idx in dic[key]:\n",
    "        if t==-1:\n",
    "            ans += (idx+1)*(N-idx)\n",
    "            t = idx\n",
    "        else:\n",
    "            ans += (idx-t)+((N-idx))\n",
    "            t = idx\n",
    "    print(key, ans)\n",
    "print(ans)"
   ]
  },
  {
   "cell_type": "code",
   "execution_count": 4,
   "id": "440491df-5b58-498b-8c9f-8aaa701c6060",
   "metadata": {
    "tags": []
   },
   "outputs": [
    {
     "name": "stdin",
     "output_type": "stream",
     "text": [
      " 5 99\n",
      " 100 200 300 400 500\n"
     ]
    },
    {
     "name": "stdout",
     "output_type": "stream",
     "text": [
      "-1\n"
     ]
    }
   ],
   "source": [
    "N, D = map(int, input().split())\n",
    "T = list(map(int, input().split()))\n",
    "now = -100000000000\n",
    "ans = -1\n",
    "for t in T:\n",
    "    if t - now <= D:\n",
    "        ans = t\n",
    "        break\n",
    "    else:\n",
    "        now = t\n",
    "print(ans)"
   ]
  },
  {
   "cell_type": "code",
   "execution_count": 7,
   "id": "db19fe4c-0923-430e-a9fc-dd96242f7273",
   "metadata": {},
   "outputs": [
    {
     "name": "stdin",
     "output_type": "stream",
     "text": [
      " BRKRBQNN\n"
     ]
    },
    {
     "name": "stdout",
     "output_type": "stream",
     "text": [
      "No\n"
     ]
    }
   ],
   "source": [
    "S = input()\n",
    "dic = {}\n",
    "dic['B'] = []\n",
    "dic['K'] = []\n",
    "dic['R'] = []\n",
    "for i in range(len(S)):\n",
    "    if S[i]=='B':\n",
    "        dic['B'].append(i)\n",
    "    elif S[i]=='K':\n",
    "        dic['K'].append(i)\n",
    "    elif S[i]=='R':\n",
    "        dic['R'].append(i)\n",
    "if dic['B'][0]%2 != dic['B'][1]%2 and dic['R'][0]<dic['K'][0]<dic['R'][1]:\n",
    "    print('Yes')\n",
    "else:\n",
    "    print('No')"
   ]
  },
  {
   "cell_type": "code",
   "execution_count": 12,
   "id": "17643439-42c3-4386-b98e-21bf2764de1d",
   "metadata": {
    "tags": []
   },
   "outputs": [
    {
     "name": "stdin",
     "output_type": "stream",
     "text": [
      " 3 5\n",
      " TTT..\n",
      " .TTT.\n",
      " TTTTT\n"
     ]
    },
    {
     "name": "stdout",
     "output_type": "stream",
     "text": [
      "PCT..\n",
      ".PCT.\n",
      "PCPCT\n"
     ]
    }
   ],
   "source": [
    "import copy\n",
    "H, W = map(int, input().split())\n",
    "S = [list(input()) for _ in range(H)]\n",
    "res = copy.deepcopy(S)\n",
    "for i in range(H):\n",
    "    for j in range(W-1):\n",
    "        if res[i][j]==\"T\" and res[i][j+1]==\"T\":\n",
    "            res[i][j]='P'\n",
    "            res[i][j+1]='C'\n",
    "for i in range(H):\n",
    "    print(*res[i], sep='')"
   ]
  },
  {
   "cell_type": "code",
   "execution_count": 31,
   "id": "64ec3eab-25a3-4bdd-bccb-7f7376620088",
   "metadata": {
    "tags": []
   },
   "outputs": [
    {
     "name": "stdin",
     "output_type": "stream",
     "text": [
      " 1597 987\n"
     ]
    },
    {
     "name": "stdout",
     "output_type": "stream",
     "text": [
      "15\n"
     ]
    }
   ],
   "source": [
    "A, B = map(int, input().split())\n",
    "ans = 0\n",
    "pre = -1\n",
    "while A!=B:\n",
    "    if A>B:\n",
    "        A = A-B\n",
    "    elif B>A:\n",
    "        B = B-A\n",
    "    if pre==min(A, B):\n",
    "        ans += max(A, B)//pre\n",
    "        if A>B:\n",
    "            A = pre + (A-B)%pre\n",
    "            B = pre\n",
    "        else:\n",
    "            B = pre + (B-A)%pre\n",
    "            A = pre\n",
    "    else:\n",
    "        ans += 1\n",
    "        pre = min(A, B)\n",
    "    # print(A, B)\n",
    "print(ans)\n",
    "        "
   ]
  },
  {
   "cell_type": "code",
   "execution_count": 38,
   "id": "835a4db6-e8c2-4803-b848-4702c7f18102",
   "metadata": {
    "tags": []
   },
   "outputs": [
    {
     "name": "stdin",
     "output_type": "stream",
     "text": [
      " 10 200000\n",
      " 955277671 764071525 871653439 819642859 703677532 515827892 127889502 881462887 330802980 503797872\n"
     ]
    },
    {
     "name": "stdout",
     "output_type": "stream",
     "text": [
      "5705443819\n"
     ]
    }
   ],
   "source": [
    "from sortedcontainers import SortedSet\n",
    "N, K = map(int, input().split())\n",
    "A = list(map(int, input().split()))\n",
    "ans = [0]*(K+1)\n",
    "C = SortedSet()\n",
    "C.add(0)\n",
    "k = 0\n",
    "pre = -1\n",
    "while k<=K:\n",
    "    tmp = C[0]\n",
    "    C.remove(tmp)\n",
    "    if tmp==pre:\n",
    "        continue\n",
    "    ans[k] = tmp\n",
    "    k += 1\n",
    "    pre = tmp\n",
    "    for i in range(N):\n",
    "        t = tmp+A[i]\n",
    "        C.add(t)\n",
    "print(ans[-1])"
   ]
  },
  {
   "cell_type": "code",
   "execution_count": 4,
   "id": "4b00c227-3a54-4a76-95ed-3a3f600d5a25",
   "metadata": {
    "tags": []
   },
   "outputs": [
    {
     "name": "stdin",
     "output_type": "stream",
     "text": [
      " ABCDEFGHIJKLMNOPQRSTUVWXYZ\n"
     ]
    },
    {
     "name": "stdout",
     "output_type": "stream",
     "text": [
      "25\n"
     ]
    }
   ],
   "source": [
    "S = input()\n",
    "now = S.index('A')\n",
    "ans = 0\n",
    "A = 'ABCDEFGHIJKLMNOPQRSTUVWXYZ'\n",
    "for i in range(26):\n",
    "    idx = S.index(A[i])\n",
    "    ans += abs(now-idx)\n",
    "    now = idx\n",
    "print(ans)"
   ]
  },
  {
   "cell_type": "code",
   "execution_count": null,
   "id": "3bcd66db-e38f-4322-a409-e22139b1332c",
   "metadata": {},
   "outputs": [],
   "source": [
    "N = int(input())\n",
    "A = list(map(int, input().split()))\n",
    "B = list(map(int, input().split()))\n",
    "a = max(A)\n",
    "b = max(B)\n",
    "print(a+b)"
   ]
  },
  {
   "cell_type": "code",
   "execution_count": 12,
   "id": "c54d8210-9aa3-4766-85fd-64964f17420c",
   "metadata": {
    "tags": []
   },
   "outputs": [
    {
     "name": "stdin",
     "output_type": "stream",
     "text": [
      " 3 3\n",
      " 1 2 2\n",
      " 3 2 3\n",
      " 1 3 -1\n"
     ]
    },
    {
     "name": "stdout",
     "output_type": "stream",
     "text": [
      "-2 0 -3\n"
     ]
    }
   ],
   "source": [
    "import heapq\n",
    "N, M = map(int, input().split())\n",
    "edges = [ list(map(int, input().split())) for _ in range(M) ]\n",
    "G = [ list() for _ in range(N) ]\n",
    "outnum = [0]*N\n",
    "for i in range(M):\n",
    "    a, b, c = edges[i]\n",
    "    G[b-1].append((a-1, c))\n",
    "    outnum[a-1]+=1\n",
    "inf = 10000000000000000\n",
    "def topsort(G, outnum):\n",
    "    #入ってくる有向辺を持たないノードを列挙\n",
    "    q = []\n",
    "    #V: 頂点数\n",
    "    for i in range(N):\n",
    "        if outnum[i]==0:\n",
    "            heapq.heappush(q, i)\n",
    "    \n",
    "    ans = [inf]*N\n",
    "    while q:\n",
    "        v = heapq.heappop(q)\n",
    "        if ans[v]==inf:\n",
    "            ans[v]=0\n",
    "        for nex, c in G[v]:\n",
    "            outnum[nex] -= 1 #入次数を減らす\n",
    "            ans[nex] = ans[v]-c\n",
    "            if outnum[nex]==0:\n",
    "                heapq.heappush(q, nex) #入次数が0になったら、キューに入れる\n",
    "    \n",
    "    return ans\n",
    "ans = topsort(G, outnum)\n",
    "print(*ans)"
   ]
  },
  {
   "cell_type": "code",
   "execution_count": null,
   "id": "b09afcab-c35b-4d9e-b9c3-edc40c53f767",
   "metadata": {},
   "outputs": [],
   "source": [
    "import heapq\n",
    "\n",
    "N, M = map(int, input().split())\n",
    "edges = [list(map(int, input().split())) for _ in range(M)]\n",
    "\n",
    "G = [list() for _ in range(N)]\n",
    "outnum = [0] * N\n",
    "\n",
    "for i in range(M):\n",
    "    a, b, c = edges[i]\n",
    "    G[a-1].append((b-1, c))\n",
    "    outnum[b-1] += 1         \n",
    "\n",
    "inf = 10000000000000000\n",
    "\n",
    "def topsort(G, outnum):\n",
    "    q = []\n",
    "    \n",
    "    # 入次数が0のノードを列挙\n",
    "    for i in range(N):\n",
    "        if outnum[i] == 0:\n",
    "            heapq.heappush(q, i)\n",
    "    \n",
    "    # 各頂点の値を無限大で初期化\n",
    "    ans = [inf] * N\n",
    "    \n",
    "    # 入次数が0の頂点は値を0にする\n",
    "    while q:\n",
    "        v = heapq.heappop(q)\n",
    "        if ans[v] == inf:\n",
    "            ans[v] = 0\n",
    "        for nex, c in G[v]:\n",
    "            outnum[nex] -= 1  \n",
    "            ans[nex] = ans[v] + c\n",
    "            if outnum[nex] == 0:\n",
    "                heapq.heappush(q, nex) \n",
    "    \n",
    "    return ans\n",
    "\n",
    "# トポロジカルソートを実行\n",
    "ans = topsort(G, outnum)\n",
    "\n",
    "# 結果を出力\n",
    "print(*ans)"
   ]
  },
  {
   "cell_type": "code",
   "execution_count": 13,
   "id": "ed62d8b3-f637-4b31-94aa-fea4f3b4f7a5",
   "metadata": {
    "tags": []
   },
   "outputs": [
    {
     "data": {
      "text/plain": [
       "307110901"
      ]
     },
     "execution_count": 13,
     "metadata": {},
     "output_type": "execute_result"
    }
   ],
   "source": [
    "from collections import deque\n",
    "N, M = map(int, input().split())\n",
    "edges = [ list(map(int, input().split())) for _ in range(M) ]\n",
    "G = [ list() for _ in range(N) ]\n",
    "intnum = [0]*N\n",
    "for i in range(M):\n",
    "    a, b, c = edges[i]\n",
    "    G[a-1].append((b-1, c))\n",
    "    intnum[b-1]+=1\n",
    "inf = 1000000000000000\n",
    "def topsort(G, outnum):\n",
    "    #入ってくる有向辺を持たないノードを列挙\n",
    "    q = deque()\n",
    "    #V: 頂点数\n",
    "    for i in range(N):\n",
    "        if intnum[i]==0:\n",
    "            q.append(i)\n",
    "    \n",
    "    ans = [inf]*N\n",
    "    while q:\n",
    "        v = q.popleft()\n",
    "        if ans[v]==inf:\n",
    "            ans[v]=0\n",
    "        for nex, c in G[v]:\n",
    "            intnum[nex] -= 1 #入次数を減らす\n",
    "            ans[nex] = ans[v]+c\n",
    "            if intnum[nex]==0:\n",
    "                q.append(nex) #入次数が0になったら、キューに入れる\n",
    "    \n",
    "    return ans\n",
    "ans = topsort(G, intnum)\n",
    "print(*ans)"
   ]
  },
  {
   "cell_type": "code",
   "execution_count": 17,
   "id": "6db323b0-3c84-4f18-8ced-848f08f8e1e0",
   "metadata": {
    "tags": []
   },
   "outputs": [
    {
     "data": {
      "text/plain": [
       "True"
      ]
     },
     "execution_count": 17,
     "metadata": {},
     "output_type": "execute_result"
    }
   ],
   "source": [
    "1e18>=inf"
   ]
  },
  {
   "cell_type": "code",
   "execution_count": null,
   "id": "3ced31da-2409-419f-b595-aa37596a70b6",
   "metadata": {},
   "outputs": [],
   "source": [
    "N, M = map(int, input().split())\n",
    "edges = [list(map(int, input().split())) for _ in range(M)]\n",
    "\n",
    "inf = 10000000000000000\n",
    "\n",
    "ans = [inf] * N\n",
    "ans[0] = 0  \n",
    "\n",
    "for i in range(N):\n",
    "    updated = False\n",
    "    for a, b, c in edges:\n",
    "        a -= 1\n",
    "        b -= 1\n",
    "        if ans[a] != inf and ans[b] > ans[a] + c:\n",
    "            ans[b] = ans[a] + c\n",
    "            updated = True\n",
    "    # 更新がなければ終了\n",
    "    if not updated:\n",
    "        break\n",
    "\n",
    "# 結果を出力\n",
    "print(*ans)"
   ]
  },
  {
   "cell_type": "code",
   "execution_count": 2,
   "id": "b8a815bf-c610-42b6-840f-776221a343e3",
   "metadata": {
    "tags": []
   },
   "outputs": [
    {
     "name": "stdin",
     "output_type": "stream",
     "text": [
      " aokikun\n"
     ]
    },
    {
     "name": "stdout",
     "output_type": "stream",
     "text": [
      "No\n"
     ]
    }
   ],
   "source": [
    "S = input()\n",
    "if S[-3:]=='san':\n",
    "    print('Yes')\n",
    "else:\n",
    "    print('No')"
   ]
  },
  {
   "cell_type": "code",
   "execution_count": 7,
   "id": "3e892497-fb12-4026-a590-30df6296c4ca",
   "metadata": {
    "tags": []
   },
   "outputs": [
    {
     "name": "stdin",
     "output_type": "stream",
     "text": [
      " keyence\n",
      " keyence\n"
     ]
    },
    {
     "name": "stdout",
     "output_type": "stream",
     "text": [
      "0\n"
     ]
    }
   ],
   "source": [
    "S = input()\n",
    "T = input()\n",
    "ans = 0\n",
    "for i in range(min(len(S), len(T))):\n",
    "    if S[i]!=T[i]:\n",
    "        ans = i+1\n",
    "        break\n",
    "if ans==0 and len(S)!=len(T):\n",
    "    ans = min(len(S), len(T))+1\n",
    "print(ans)"
   ]
  },
  {
   "cell_type": "code",
   "execution_count": 12,
   "id": "612317f5-a7b0-4983-8c4c-dafe349182f1",
   "metadata": {
    "tags": []
   },
   "outputs": [
    {
     "name": "stdin",
     "output_type": "stream",
     "text": [
      " 6\n",
      " 22 25 26 45 22 31\n"
     ]
    },
    {
     "name": "stdout",
     "output_type": "stream",
     "text": [
      "89\n"
     ]
    }
   ],
   "source": [
    "N = int(input())\n",
    "K = list(map(int, input().split()))\n",
    "sm = sum(K)\n",
    "ans = sm\n",
    "for i in range(1<<N):\n",
    "    tmp = 0\n",
    "    for j in range(N):\n",
    "        if i>>j&1:\n",
    "            tmp += K[j]\n",
    "    ans = min(max(tmp, sm-tmp), ans)\n",
    "print(ans)"
   ]
  },
  {
   "cell_type": "code",
   "execution_count": null,
   "id": "c9da30d7-98de-489e-b121-65dc7ae5c62c",
   "metadata": {
    "tags": []
   },
   "outputs": [],
   "source": [
    "import math\n",
    "from itertools import permutations\n",
    "\n",
    "N, S, T = map(int, input().split())\n",
    "lines = [ list(map(int, input().split())) for _ in range(N) ]\n",
    "\n",
    "def move(a, b, c, d):\n",
    "    return math.sqrt((a-c)**2+(b-d)**2)/S\n",
    "    \n",
    "def draw(a, b, c, d):\n",
    "    return math.sqrt((a-c)**2+(b-d)**2)/T\n",
    "\n",
    "whole = list(permutations(range(N)))\n",
    "ans = 10000000000\n",
    "for order in whole:\n",
    "    for i in range(1<<N):\n",
    "        t = [0]*N\n",
    "        for j in range(N):\n",
    "            if i>>j&1:\n",
    "                t[j]=1\n",
    "        tmp = 0\n",
    "        nowx, nowy = 0, 0\n",
    "        for k in order:\n",
    "            a, b, c, d = lines[k]\n",
    "            if t[k]==1:\n",
    "                a, b, c, d = c, d, a, b\n",
    "            tmp += move(nowx, nowy, a, b)\n",
    "            tmp += draw(a, b, c, d)\n",
    "            nowx, nowy = c, d\n",
    "        # print(order, tmp)\n",
    "        ans = min(ans, tmp)\n",
    "print(ans)"
   ]
  },
  {
   "cell_type": "code",
   "execution_count": null,
   "id": "d15c085e-1046-4345-8baf-da646470d55d",
   "metadata": {
    "tags": []
   },
   "outputs": [],
   "source": [
    "import math\n",
    "N, X = map(int, input().split())\n",
    "machines = [ list(map(int, input().split())) for _ in range(N) ]\n",
    "l = 0\n",
    "r = 10000000000\n",
    "while r-l>1:\n",
    "    m = (r+l)//2\n",
    "    now = 0\n",
    "    for i in range(N):\n",
    "        a, p, b, q = machines[i]\n",
    "        now += min(math.ceil(m/a)*p, math.ceil(m/b)*q)\n",
    "\n",
    "    if now>X:\n",
    "        r = m\n",
    "        print(r, l, now)\n",
    "    else:\n",
    "        l = m\n",
    "        print(r, l, now)\n",
    "print(l)"
   ]
  },
  {
   "cell_type": "code",
   "execution_count": 34,
   "id": "681b8b98-eb62-4f87-a31f-629fe04d4eea",
   "metadata": {
    "tags": []
   },
   "outputs": [
    {
     "name": "stdin",
     "output_type": "stream",
     "text": [
      " 1 10000000\n",
      " 100 1 100 1\n"
     ]
    },
    {
     "name": "stdout",
     "output_type": "stream",
     "text": [
      "50000000 0 5000000000\n",
      "25000000 0 2500000000\n",
      "12500000 0 1250000000\n",
      "6250000 625000000 1250000000\n",
      "9375000 937500000 1250000000\n",
      "10937500 937500000 1093750000\n",
      "10156250 937500000 1015625000\n",
      "9765625 976562500 1015625000\n",
      "9960938 996093750 1015625000\n",
      "10058594 996093750 1005859375\n",
      "10009766 996093750 1000976562\n",
      "9985352 998535156 1000976562\n",
      "9997559 999755859 1000976562\n",
      "10003663 999755859 1000366210\n",
      "10000611 999755859 1000061034\n",
      "9999085 999908446 1000061034\n",
      "9999848 999984740 1000061034\n",
      "10000229 999984740 1000022887\n",
      "10000039 999984740 1000003813\n",
      "9999943 999994276 1000003813\n",
      "9999991 999999044 1000003813\n",
      "10000015 999999044 1000001428\n",
      "10000003 999999044 1000000236\n",
      "9999997 999999640 1000000236\n",
      "10000000 999999938 1000000236\n",
      "10000001 999999938 1000000087\n",
      "10000001 999999938 1000000012\n",
      "10000000 999999975 1000000012\n",
      "10000000 999999993 1000000012\n",
      "10000001 999999993 1000000002\n",
      "10000000 999999997 1000000002\n",
      "10000000 999999999 1000000002\n",
      "10000000 1000000000 1000000002\n",
      "10000001 1000000000 1000000001\n",
      "1000000000\n"
     ]
    }
   ],
   "source": [
    "import math\n",
    "\n",
    "N, X = map(int, input().split())\n",
    "machines = [list(map(int, input().split())) for _ in range(N)]\n",
    "l = 0\n",
    "r = 10000000000\n",
    "\n",
    "while r - l > 1:\n",
    "    m = (r + l) // 2\n",
    "    now = 0\n",
    "    for i in range(N):\n",
    "        a, p, b, q = machines[i]\n",
    "        if m%a==0:\n",
    "            P = (m//a)*p\n",
    "        elif m%a!=0:\n",
    "            c = m%a\n",
    "            d = math.ceil(c/b)*q\n",
    "            P = min((m//a+1)*p, (m//a)*p+d) \n",
    "        if m%b==0:\n",
    "            Q = (m//b)*q\n",
    "        elif m%b!=0:\n",
    "            c = m%b\n",
    "            d = math.ceil(c/a)*p\n",
    "            Q = min((m//b+1)*q, (m//b)*q+d)\n",
    "        \n",
    "        now += min(P, Q)\n",
    "\n",
    "    if now > X:\n",
    "        r = m\n",
    "        # print(now, l, r)\n",
    "    else:\n",
    "        l = m\n",
    "        # print(now, l, r)\n",
    "\n",
    "# now = 0\n",
    "# for i in range(N):\n",
    "#     a, p, b, q = machines[i]\n",
    "#     now += min(((r + a - 1) // a) * p, ((r + b - 1) // b) * q)\n",
    "\n",
    "print(l)"
   ]
  },
  {
   "cell_type": "code",
   "execution_count": 32,
   "id": "767ba64a-11e3-45b1-b487-d3897ec59d22",
   "metadata": {
    "tags": []
   },
   "outputs": [
    {
     "name": "stdout",
     "output_type": "stream",
     "text": [
      "7654322\n"
     ]
    }
   ],
   "source": [
    "a = min(math.ceil(894742/8)*6, math.ceil(894742/9)*1)\n",
    "b = min(math.ceil(894742/5)*6, math.ceil(894742/4)*3)\n",
    "c = min(math.ceil(894742/2)*4, math.ceil(894742/7)*9)\n",
    "d = min(math.ceil(894742/7)*8, math.ceil(894742/9)*1)\n",
    "e = min(math.ceil(894742/7)*9, math.ceil(894742/1)*6)\n",
    "f = min(math.ceil(894742/4)*8, math.ceil(894742/9)*1)\n",
    "g = min(math.ceil(894742/2)*2, math.ceil(894742/8)*9)\n",
    "h = min(math.ceil(894742/1)*6, math.ceil(894742/2)*6)\n",
    "i = min(math.ceil(894742/4)*2, math.ceil(894742/3)*4)\n",
    "j = min(math.ceil(894742/6)*6, math.ceil(894742/5)*2)\n",
    "print(a+b+c+d+e+f+g+h+i+j)"
   ]
  },
  {
   "cell_type": "code",
   "execution_count": 31,
   "id": "f17eede4-8719-41dc-90b7-6aa1e053cfe8",
   "metadata": {
    "tags": []
   },
   "outputs": [
    {
     "data": {
      "text/plain": [
       "671058"
      ]
     },
     "execution_count": 31,
     "metadata": {},
     "output_type": "execute_result"
    }
   ],
   "source": [
    "min(math.ceil(894742/5)*6, math.ceil(894742/4)*3)"
   ]
  },
  {
   "cell_type": "code",
   "execution_count": null,
   "id": "d7fa24e1-0994-46b4-ae28-bfdcc4bf362e",
   "metadata": {},
   "outputs": [],
   "source": [
    "min(math.ceil(894742/2)*4, math.ceil(894742/7)*9)"
   ]
  }
 ],
 "metadata": {
  "kernelspec": {
   "display_name": "Python 3 (ipykernel)",
   "language": "python",
   "name": "python3"
  },
  "language_info": {
   "codemirror_mode": {
    "name": "ipython",
    "version": 3
   },
   "file_extension": ".py",
   "mimetype": "text/x-python",
   "name": "python",
   "nbconvert_exporter": "python",
   "pygments_lexer": "ipython3",
   "version": "3.11.4"
  }
 },
 "nbformat": 4,
 "nbformat_minor": 5
}
