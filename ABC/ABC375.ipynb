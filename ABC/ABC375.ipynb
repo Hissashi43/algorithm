{
 "cells": [
  {
   "cell_type": "code",
   "execution_count": 4,
   "id": "1679fa41-274d-414c-b6c9-2ee6734ca41d",
   "metadata": {
    "tags": []
   },
   "outputs": [
    {
     "name": "stdin",
     "output_type": "stream",
     "text": [
      " 9\n",
      " ##.#.#.##\n"
     ]
    },
    {
     "name": "stdout",
     "output_type": "stream",
     "text": [
      "3\n"
     ]
    }
   ],
   "source": [
    "# A \n",
    "N = int(input())\n",
    "S = input()\n",
    "ans = 0\n",
    "for i in range(N-2):\n",
    "    if S[i:i+3]=='#.#':\n",
    "        ans += 1\n",
    "print(ans)"
   ]
  },
  {
   "cell_type": "code",
   "execution_count": 6,
   "id": "41768892-4132-4b0e-8a5d-d8da642f1eeb",
   "metadata": {
    "tags": []
   },
   "outputs": [
    {
     "name": "stdin",
     "output_type": "stream",
     "text": [
      " 2\n",
      " 1 2\n",
      " -1 0\n"
     ]
    },
    {
     "name": "stdout",
     "output_type": "stream",
     "text": [
      "6.06449510224598\n"
     ]
    }
   ],
   "source": [
    "# B\n",
    "import math\n",
    "\n",
    "N = int(input())\n",
    "\n",
    "def dist(a, b, c, d):\n",
    "    return math.sqrt((a-c)**2+(b-d)**2)\n",
    "\n",
    "nowx, nowy = 0, 0\n",
    "ans = 0\n",
    "for i in range(N):\n",
    "    x, y = map(int, input().split())\n",
    "    ans += dist(nowx, nowy, x, y)\n",
    "    nowx, nowy = x, y\n",
    "ans += dist(x, y, 0, 0)\n",
    "\n",
    "print(ans)"
   ]
  },
  {
   "cell_type": "code",
   "execution_count": null,
   "id": "cb13a243-97c2-4aad-9598-d9246c9f46f3",
   "metadata": {
    "tags": []
   },
   "outputs": [],
   "source": [
    "# C\n",
    "import copy\n",
    "N = int(input())\n",
    "A = [ list(input()) for _ in range(N) ]\n",
    "ans = copy.deepcopy(A)\n",
    "for l in range(N//2):\n",
    "    A = copy.deepcopy(ans)\n",
    "    for i in range(l, N-l):\n",
    "        for j in range(l, N-l):\n",
    "            targetx = j\n",
    "            targety = N-i-1\n",
    "            # print(targetx, targety)\n",
    "            ans[targetx][targety] = A[i][j]\n",
    "for i in range(N):\n",
    "    print(*ans[i], sep='')"
   ]
  },
  {
   "cell_type": "code",
   "execution_count": null,
   "id": "dd178b6b-1357-459c-9913-af5b8448bb52",
   "metadata": {},
   "outputs": [],
   "source": [
    "N = int(input())\n",
    "A = [list(input()) for _ in range(N)]\n",
    "\n",
    "for l in range(N // 2):\n",
    "    for i in range(l, N - l - 1):\n",
    "        temp = A[l][i]\n",
    "\n",
    "        A[l][i] = A[N - i - 1][l]\n",
    "        A[N - i - 1][l] = A[N - l - 1][N - i - 1]\n",
    "        A[N - l - 1][N - i - 1] = A[i][N - l - 1]\n",
    "        A[i][N - l - 1] = temp\n",
    "\n",
    "for i in range(N):\n",
    "    print(''.join(A[i]))"
   ]
  },
  {
   "cell_type": "code",
   "execution_count": null,
   "id": "2be4df1f-a1d6-4afa-9ecc-4e9a02f932ec",
   "metadata": {},
   "outputs": [],
   "source": [
    "# C\n",
    "import copy\n",
    "N = int(input())\n",
    "A = [ list(input()) for _ in range(N) ]\n",
    "ans = copy.deepcopy(A)\n",
    "gyou = list(range(N))\n",
    "retsu = list(range(N))"
   ]
  },
  {
   "cell_type": "code",
   "execution_count": null,
   "id": "6979541b-7c18-4749-a690-84d35f39ab3b",
   "metadata": {},
   "outputs": [],
   "source": [
    "# D\n",
    "import math\n",
    "from collections import defaultdict\n",
    "from itertools import accumulate\n",
    "S = input()\n",
    "dic = defaultdict(lambda: [])\n",
    "n = len(S)\n",
    "for i in range(n):\n",
    "    dic[S[i]].append(i)\n",
    "ans = 0\n",
    "for key in dic:\n",
    "    sm = list(accumulate(dic[key]))\n",
    "    cnt = len(sm)\n",
    "    # print(sm)\n",
    "    if cnt>=1:\n",
    "        for i in range(cnt-1):\n",
    "            ans += (sm[-1]-sm[i]-dic[key][i]*(cnt-1-i)-(cnt-i-1))\n",
    "            # print(ans)\n",
    "print(ans)"
   ]
  },
  {
   "cell_type": "code",
   "execution_count": null,
   "id": "adfeeb5b-5ed0-4e4f-aa92-b1cb3ca25a4f",
   "metadata": {},
   "outputs": [],
   "source": [
    "N = int(input())\n",
    "A = [list(input()) for _ in range(N)]\n",
    "ans = [row[:] for row in A] \n",
    "\n",
    "for l in range(N // 2):\n",
    "    for i in range(l, N - l):\n",
    "        for j in range(l, N - l):\n",
    "            targetx = j\n",
    "            targety = N - i - 1\n",
    "            ans[targetx][targety] = A[i][j]\n",
    "    A = [row[:] for row in ans]\n",
    "\n",
    "for i in range(N):\n",
    "    print(''.join(ans[i]))"
   ]
  }
 ],
 "metadata": {
  "kernelspec": {
   "display_name": "Python 3 (ipykernel)",
   "language": "python",
   "name": "python3"
  },
  "language_info": {
   "codemirror_mode": {
    "name": "ipython",
    "version": 3
   },
   "file_extension": ".py",
   "mimetype": "text/x-python",
   "name": "python",
   "nbconvert_exporter": "python",
   "pygments_lexer": "ipython3",
   "version": "3.11.4"
  }
 },
 "nbformat": 4,
 "nbformat_minor": 5
}
