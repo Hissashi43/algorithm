{
 "cells": [
  {
   "cell_type": "code",
   "execution_count": 6,
   "id": "f8efee9e-d783-46e5-bef0-d45e7cc11003",
   "metadata": {
    "tags": []
   },
   "outputs": [
    {
     "name": "stdin",
     "output_type": "stream",
     "text": [
      " 10\n",
      " in diesem fall sollten sie no und nicht yes ausgeben\n"
     ]
    },
    {
     "name": "stdout",
     "output_type": "stream",
     "text": [
      "No\n"
     ]
    }
   ],
   "source": [
    "# A\n",
    "N = int(input())\n",
    "W = list(map(str, input().split()))\n",
    "match = ['and', 'not', 'that', 'the', 'you']\n",
    "ans = 'No'\n",
    "for w in W:\n",
    "    if w in match:\n",
    "        # print(w)\n",
    "        ans = 'Yes'\n",
    "        break\n",
    "print(ans)"
   ]
  },
  {
   "cell_type": "code",
   "execution_count": 16,
   "id": "e5117360-9dbf-47d0-8443-548e50bd8e34",
   "metadata": {
    "tags": []
   },
   "outputs": [
    {
     "name": "stdin",
     "output_type": "stream",
     "text": [
      " 2 5\n",
      " ..#.#\n",
      " ###.#\n"
     ]
    },
    {
     "name": "stdout",
     "output_type": "stream",
     "text": [
      "..#.#\n",
      "###.#\n"
     ]
    }
   ],
   "source": [
    "# \n",
    "import copy\n",
    "R, C = map(int, input().split())\n",
    "B = [ list(input()) for _ in range(R) ]\n",
    "ans = copy.deepcopy(B)\n",
    "for r in range(R):\n",
    "    for c in range(C):\n",
    "        if B[r][c]!= '.' and B[r][c]!='#':\n",
    "            n = int(B[r][c])\n",
    "            ans[r][c]='.'\n",
    "            for i in range(-n, n+1):\n",
    "                for j in range(-n, n+1):\n",
    "                    if abs(i)+abs(j)<=n and 0<=r+i<R and 0<=c+j<C and B[r+i][c+j]=='#':\n",
    "                        ans[r+i][c+j]='.'\n",
    "for i in range(R):\n",
    "    print(*ans[i], sep='')"
   ]
  },
  {
   "cell_type": "code",
   "execution_count": 17,
   "id": "76362f48-9ed5-421e-8b76-0ebbf682f58f",
   "metadata": {
    "tags": []
   },
   "outputs": [
    {
     "name": "stdin",
     "output_type": "stream",
     "text": [
      " 6\n",
      " 4 1 7 4 1 4\n"
     ]
    },
    {
     "name": "stdout",
     "output_type": "stream",
     "text": [
      "2\n"
     ]
    }
   ],
   "source": [
    "# c\n",
    "N = int(input())\n",
    "A = list(map(int, input().split()))\n",
    "dic = {}\n",
    "for a in A:\n",
    "    if a not in dic:\n",
    "        dic[a]=1\n",
    "    else:\n",
    "        dic[a]+= 1\n",
    "\n",
    "ans = 0\n",
    "for key in dic:\n",
    "    ans += dic[key]//2\n",
    "print(ans)"
   ]
  },
  {
   "cell_type": "code",
   "execution_count": 28,
   "id": "2dcdd91b-c3d3-4174-9829-027b3ef075db",
   "metadata": {
    "tags": []
   },
   "outputs": [
    {
     "name": "stdin",
     "output_type": "stream",
     "text": [
      " 3141592653589793238462643383279502884197169399375105820974944\n"
     ]
    },
    {
     "name": "stdout",
     "output_type": "stream",
     "text": [
      "9\n"
     ]
    }
   ],
   "source": [
    "# D\n",
    "S = input()\n",
    "dic = {}\n",
    "dic[0] = 1\n",
    "now = [0]*10\n",
    "dic[''.join(map(str, now))]=1\n",
    "for i in range(len(S)):\n",
    "    s = int(S[i])\n",
    "    now[s] ^= 1 \n",
    "    a = ''.join(map(str, now))\n",
    "    if a not in dic:\n",
    "        dic[a] = 1\n",
    "    else:\n",
    "        dic[a] += 1\n",
    "ans = 0\n",
    "for key in dic:\n",
    "    ans += dic[key]*(dic[key]-1)//2\n",
    "print(ans)"
   ]
  },
  {
   "cell_type": "code",
   "execution_count": 20,
   "id": "d449fb06-11f1-47ed-9491-6441accd429b",
   "metadata": {
    "tags": []
   },
   "outputs": [
    {
     "data": {
      "text/plain": [
       "{0: 4, 2: 3, 3: 2}"
      ]
     },
     "execution_count": 20,
     "metadata": {},
     "output_type": "execute_result"
    }
   ],
   "source": [
    "dic"
   ]
  },
  {
   "cell_type": "code",
   "execution_count": 25,
   "id": "4130f386-4ff2-4055-8b1a-41d74e684164",
   "metadata": {
    "tags": []
   },
   "outputs": [
    {
     "data": {
      "text/plain": [
       "0"
      ]
     },
     "execution_count": 25,
     "metadata": {},
     "output_type": "execute_result"
    }
   ],
   "source": [
    "1^1"
   ]
  },
  {
   "cell_type": "code",
   "execution_count": 22,
   "id": "6493a11a-3702-4336-8215-329e0260b230",
   "metadata": {
    "tags": []
   },
   "outputs": [
    {
     "data": {
      "text/plain": [
       "2"
      ]
     },
     "execution_count": 22,
     "metadata": {},
     "output_type": "execute_result"
    }
   ],
   "source": []
  },
  {
   "cell_type": "code",
   "execution_count": null,
   "id": "77abc3cf-23e8-4c5a-a8ec-e67ece766b61",
   "metadata": {},
   "outputs": [],
   "source": []
  }
 ],
 "metadata": {
  "kernelspec": {
   "display_name": "Python 3 (ipykernel)",
   "language": "python",
   "name": "python3"
  },
  "language_info": {
   "codemirror_mode": {
    "name": "ipython",
    "version": 3
   },
   "file_extension": ".py",
   "mimetype": "text/x-python",
   "name": "python",
   "nbconvert_exporter": "python",
   "pygments_lexer": "ipython3",
   "version": "3.11.4"
  }
 },
 "nbformat": 4,
 "nbformat_minor": 5
}
