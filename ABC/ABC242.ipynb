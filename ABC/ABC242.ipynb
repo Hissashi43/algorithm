{
 "cells": [
  {
   "cell_type": "code",
   "execution_count": 4,
   "id": "739ae221-dccc-4beb-8201-4650be84a2a3",
   "metadata": {
    "tags": []
   },
   "outputs": [
    {
     "name": "stdin",
     "output_type": "stream",
     "text": [
      " 1 2 1 1000\n"
     ]
    },
    {
     "name": "stdout",
     "output_type": "stream",
     "text": [
      "0\n"
     ]
    }
   ],
   "source": [
    "# A\n",
    "A, B, C, X = map(int, input().split())\n",
    "if X<=A:\n",
    "    print(1)\n",
    "elif A<X<=B:\n",
    "    print(C/(B-A))\n",
    "else:\n",
    "    print(0)"
   ]
  },
  {
   "cell_type": "code",
   "execution_count": 6,
   "id": "ede8d862-b85b-49ce-85c9-b2982ac1ac28",
   "metadata": {
    "tags": []
   },
   "outputs": [
    {
     "name": "stdin",
     "output_type": "stream",
     "text": [
      " zzzz\n"
     ]
    },
    {
     "name": "stdout",
     "output_type": "stream",
     "text": [
      "zzzz\n"
     ]
    }
   ],
   "source": [
    "# B\n",
    "S = list(input())\n",
    "print(''.join(map(str, sorted(S))))"
   ]
  },
  {
   "cell_type": "code",
   "execution_count": 32,
   "id": "c24e45c4-8fea-44fc-9d52-39314e281332",
   "metadata": {
    "tags": []
   },
   "outputs": [
    {
     "name": "stdin",
     "output_type": "stream",
     "text": [
      " 1000000\n"
     ]
    },
    {
     "ename": "KeyboardInterrupt",
     "evalue": "",
     "output_type": "error",
     "traceback": [
      "\u001b[1;31m---------------------------------------------------------------------------\u001b[0m",
      "\u001b[1;31mKeyboardInterrupt\u001b[0m                         Traceback (most recent call last)",
      "Cell \u001b[1;32mIn[32], line 15\u001b[0m\n\u001b[0;32m     13\u001b[0m \u001b[38;5;28;01melif\u001b[39;00m \u001b[38;5;241m1\u001b[39m\u001b[38;5;241m<\u001b[39m\u001b[38;5;241m=\u001b[39mj\u001b[38;5;241m<\u001b[39m\u001b[38;5;241m8\u001b[39m:\n\u001b[0;32m     14\u001b[0m     now[j]\u001b[38;5;241m+\u001b[39m\u001b[38;5;241m=\u001b[39mtmp[j\u001b[38;5;241m-\u001b[39m\u001b[38;5;241m1\u001b[39m]\u001b[38;5;241m+\u001b[39mtmp[j\u001b[38;5;241m+\u001b[39m\u001b[38;5;241m1\u001b[39m]\n\u001b[1;32m---> 15\u001b[0m     now[j]\u001b[38;5;241m%\u001b[39mmod\n\u001b[0;32m     16\u001b[0m \u001b[38;5;28;01melif\u001b[39;00m j\u001b[38;5;241m==\u001b[39m\u001b[38;5;241m8\u001b[39m:\n\u001b[0;32m     17\u001b[0m     now[j]\u001b[38;5;241m+\u001b[39m\u001b[38;5;241m=\u001b[39mtmp[j\u001b[38;5;241m-\u001b[39m\u001b[38;5;241m1\u001b[39m]\n",
      "\u001b[1;31mKeyboardInterrupt\u001b[0m: "
     ]
    }
   ],
   "source": [
    "# C\n",
    "import copy\n",
    "N = int(input())\n",
    "mod = 998244353\n",
    "ans = 0\n",
    "m1 = 2\n",
    "m2 = 3\n",
    "\n",
    "now = [2, 3, 3, 3, 3, 3, 3, 3, 2]\n",
    "for i in range(3, N+1):\n",
    "    tmp = now.copy()\n",
    "    for j in range(9):\n",
    "        if j==0:\n",
    "            now[j]+=tmp[1]\n",
    "            now[j]%mod\n",
    "        elif 1<=j<8:\n",
    "            now[j]+=tmp[j-1]+tmp[j+1]\n",
    "            now[j]%mod\n",
    "        elif j==8:\n",
    "            now[j]+=tmp[j-1]\n",
    "            now[j]%mod\n",
    "    # print(now)\n",
    "ans = sum(now)%mod\n",
    "print(ans)\n"
   ]
  },
  {
   "cell_type": "code",
   "execution_count": 9,
   "id": "501ea207-f08f-4f4a-890e-8ae341da0ecd",
   "metadata": {
    "tags": []
   },
   "outputs": [
    {
     "data": {
      "text/plain": [
       "[10, 15, 16, 16, 16, 16, 16, 15, 10]"
      ]
     },
     "execution_count": 9,
     "metadata": {},
     "output_type": "execute_result"
    }
   ],
   "source": [
    "now"
   ]
  },
  {
   "cell_type": "code",
   "execution_count": null,
   "id": "11caeaac-5568-4c6f-98e3-7c7f52ea9093",
   "metadata": {},
   "outputs": [],
   "source": []
  }
 ],
 "metadata": {
  "kernelspec": {
   "display_name": "Python 3 (ipykernel)",
   "language": "python",
   "name": "python3"
  },
  "language_info": {
   "codemirror_mode": {
    "name": "ipython",
    "version": 3
   },
   "file_extension": ".py",
   "mimetype": "text/x-python",
   "name": "python",
   "nbconvert_exporter": "python",
   "pygments_lexer": "ipython3",
   "version": "3.11.4"
  }
 },
 "nbformat": 4,
 "nbformat_minor": 5
}
