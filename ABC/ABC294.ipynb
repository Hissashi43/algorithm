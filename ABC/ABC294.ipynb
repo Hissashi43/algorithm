{
 "cells": [
  {
   "cell_type": "code",
   "execution_count": 2,
   "metadata": {},
   "outputs": [
    {
     "name": "stdout",
     "output_type": "stream",
     "text": [
      "2 6\n"
     ]
    }
   ],
   "source": [
    "N = int(input())\n",
    "A = list(map(int, input().split()))\n",
    "ans = [ a for a in A if a%2==0]\n",
    "print(*ans)"
   ]
  },
  {
   "cell_type": "code",
   "execution_count": 13,
   "metadata": {
    "tags": []
   },
   "outputs": [
    {
     "name": "stdin",
     "output_type": "stream",
     "text": [
      " 3 3\n",
      " 24 0 0\n",
      " 0 25 0\n",
      " 0 0 26\n"
     ]
    },
    {
     "name": "stdout",
     "output_type": "stream",
     "text": [
      "X..\n",
      ".Y.\n",
      "..Z\n"
     ]
    }
   ],
   "source": [
    "# B\n",
    "H, W = map(int, input().split())\n",
    "A = [ list(map(int, input().split())) for _ in range(H) ]\n",
    "for i in range(H):\n",
    "    res = ''\n",
    "    for j in range(W):\n",
    "        if A[i][j]==0:\n",
    "            res += '.'\n",
    "        else:\n",
    "            res += chr(int(A[i][j])-1+ord('A'))\n",
    "    print(res)"
   ]
  },
  {
   "cell_type": "code",
   "execution_count": 15,
   "metadata": {
    "tags": []
   },
   "outputs": [
    {
     "name": "stdin",
     "output_type": "stream",
     "text": [
      " 4 3\n",
      " 3 14 15 92\n",
      " 6 53 58\n"
     ]
    },
    {
     "name": "stdout",
     "output_type": "stream",
     "text": [
      "1 3 4 7\n",
      "2 5 6\n"
     ]
    }
   ],
   "source": [
    "# C\n",
    "import bisect\n",
    "N, M = map(int, input().split())\n",
    "A = list(map(int, input().split()))\n",
    "B = list(map(int, input().split()))\n",
    "resA = []\n",
    "resB = []\n",
    "for i in range(N):\n",
    "    resA.append(1+i+bisect.bisect_left(B, A[i]))\n",
    "for i in range(M):\n",
    "    resB.append(1+i+bisect.bisect_left(A, B[i]))\n",
    "print(*resA)\n",
    "print(*resB)\n"
   ]
  },
  {
   "cell_type": "code",
   "execution_count": 20,
   "metadata": {
    "tags": []
   },
   "outputs": [
    {
     "name": "stdin",
     "output_type": "stream",
     "text": [
      " 4 10\n",
      " 1\n",
      " 1\n",
      " 3\n",
      " 2 1\n",
      " 1\n",
      " 2 3\n",
      " 3\n",
      " 1\n",
      " 2 2\n",
      " 3\n"
     ]
    },
    {
     "name": "stdout",
     "output_type": "stream",
     "text": [
      "1\n",
      "2\n",
      "4\n"
     ]
    }
   ],
   "source": [
    "# D\n",
    "from sortedcontainers import SortedSet\n",
    "N, Q = map(int, input().split())\n",
    "\n",
    "waiting = SortedSet(list(range(1, N+1)))\n",
    "called = SortedSet()\n",
    "done = SortedSet()\n",
    "\n",
    "queries = [ list(map(str, input().split())) for _ in range(Q) ]\n",
    "for i in range(Q):\n",
    "    if queries[i][0]=='1':\n",
    "        a = waiting[0]\n",
    "        called.add(a)\n",
    "        waiting.remove(a)\n",
    "    elif queries[i][0]=='2':\n",
    "        x = int(queries[i][1])\n",
    "        if x in called:\n",
    "            called.remove(x) \n",
    "            done.add(x)\n",
    "    else:\n",
    "        if len(called)>0:\n",
    "            print(called[0])"
   ]
  },
  {
   "cell_type": "code",
   "execution_count": 18,
   "metadata": {
    "tags": []
   },
   "outputs": [
    {
     "data": {
      "text/plain": [
       "SortedSet([])"
      ]
     },
     "execution_count": 18,
     "metadata": {},
     "output_type": "execute_result"
    }
   ],
   "source": [
    "waiting"
   ]
  },
  {
   "cell_type": "code",
   "execution_count": null,
   "metadata": {},
   "outputs": [],
   "source": []
  }
 ],
 "metadata": {
  "kernelspec": {
   "display_name": "Python 3 (ipykernel)",
   "language": "python",
   "name": "python3"
  },
  "language_info": {
   "codemirror_mode": {
    "name": "ipython",
    "version": 3
   },
   "file_extension": ".py",
   "mimetype": "text/x-python",
   "name": "python",
   "nbconvert_exporter": "python",
   "pygments_lexer": "ipython3",
   "version": "3.11.4"
  }
 },
 "nbformat": 4,
 "nbformat_minor": 4
}
