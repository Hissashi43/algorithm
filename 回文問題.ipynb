{
 "cells": [
  {
   "cell_type": "code",
   "execution_count": 39,
   "id": "30562de2-b6bc-47b6-ba8c-85fc4aad998d",
   "metadata": {
    "tags": []
   },
   "outputs": [
    {
     "data": {
      "text/plain": [
       "96164"
      ]
     },
     "execution_count": 39,
     "metadata": {},
     "output_type": "execute_result"
    }
   ],
   "source": [
    "import sys\n",
    "sys.setrecursionlimit(10**8)\n",
    "\n",
    "N = int(input())\n",
    "A = list(map(int, input().split()))\n",
    "\n",
    "n = max(A) + 1\n",
    "G = [ [] * n for _ in range(n)] \n",
    "\n",
    "for i in range(N // 2 + 1):\n",
    "    tl = A[i]\n",
    "    tr = A[N- (i+1)]\n",
    "    if tl != tr:\n",
    "        G[tl].append(tr)\n",
    "        G[tr].append(tl)\n",
    "\n",
    "visited = [False]*n\n",
    "def dfs(x):\n",
    "    global lg\n",
    "    lg += 1\n",
    "    visited[x] = True\n",
    "    for to in G[x]:\n",
    "        if visited[to] == False:\n",
    "            dfs(to)\n",
    "\n",
    "ans = 0\n",
    "for a in A:\n",
    "    if visited[a] == False:\n",
    "        lg = 0\n",
    "        dfs(a)\n",
    "        ans += lg-1\n",
    "\n",
    "print(ans)"
   ]
  },
  {
   "cell_type": "code",
   "execution_count": 40,
   "id": "cee98dbb-fb53-4378-b777-b6f298a7c3f7",
   "metadata": {
    "tags": []
   },
   "outputs": [
    {
     "data": {
      "text/plain": [
       "85423"
      ]
     },
     "execution_count": 40,
     "metadata": {},
     "output_type": "execute_result"
    }
   ],
   "source": [
    "len(dic)"
   ]
  },
  {
   "cell_type": "code",
   "execution_count": null,
   "id": "8007e1e9-69a0-4bfd-b64e-fdb9602a14de",
   "metadata": {},
   "outputs": [],
   "source": []
  }
 ],
 "metadata": {
  "kernelspec": {
   "display_name": "Python 3 (ipykernel)",
   "language": "python",
   "name": "python3"
  },
  "language_info": {
   "codemirror_mode": {
    "name": "ipython",
    "version": 3
   },
   "file_extension": ".py",
   "mimetype": "text/x-python",
   "name": "python",
   "nbconvert_exporter": "python",
   "pygments_lexer": "ipython3",
   "version": "3.11.4"
  }
 },
 "nbformat": 4,
 "nbformat_minor": 5
}
