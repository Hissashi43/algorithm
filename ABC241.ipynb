{
 "cells": [
  {
   "cell_type": "code",
   "execution_count": 3,
   "id": "eee8c0de-fc3c-41d1-9697-95177ffa4459",
   "metadata": {
    "tags": []
   },
   "outputs": [
    {
     "name": "stdin",
     "output_type": "stream",
     "text": [
      " 0 0 0 0 0 0 0 0 0 0\n"
     ]
    },
    {
     "name": "stdout",
     "output_type": "stream",
     "text": [
      "0\n"
     ]
    }
   ],
   "source": [
    "# A\n",
    "A = list(map(int, input().split()))\n",
    "res = 0\n",
    "for i in range(3):\n",
    "    res = A[res]\n",
    "print(res)"
   ]
  },
  {
   "cell_type": "code",
   "execution_count": 6,
   "id": "0f9de85a-4d33-4989-9837-561c632e8aff",
   "metadata": {
    "tags": []
   },
   "outputs": [
    {
     "name": "stdin",
     "output_type": "stream",
     "text": [
      " 5 2\n",
      " 1 2 3 4 5\n",
      " 5 5\n"
     ]
    },
    {
     "name": "stdout",
     "output_type": "stream",
     "text": [
      "No\n"
     ]
    }
   ],
   "source": [
    "# B\n",
    "N, M = map(int, input().split())\n",
    "A = list(map(int, input().split()))\n",
    "B = list(map(int, input().split()))\n",
    "dic = {}\n",
    "for a in A:\n",
    "    if a not in dic:\n",
    "        dic[a] = 1\n",
    "    else:\n",
    "        dic[a] += 1\n",
    "ans = 'Yes'\n",
    "for b in B:\n",
    "    if b not in dic or dic[b]==0:\n",
    "        ans = 'No'\n",
    "        break\n",
    "    else:\n",
    "        dic[b] -= 1\n",
    "print(ans)"
   ]
  },
  {
   "cell_type": "code",
   "execution_count": null,
   "id": "dc9457a2-e58d-4502-b28d-cd497d7c7325",
   "metadata": {},
   "outputs": [],
   "source": [
    "# C 二次元マス目、連続6文字以上黒にできるか\n",
    "from collections import deque\n",
    "N = int(input())\n",
    "S = [ list(input()) for _ in range(N) ]\n",
    "\n",
    "def str_sequence(x):\n",
    "    return ''.join(map(str, x))\n",
    "\n",
    "ans = 'No'\n",
    "for i in range(N): # 横\n",
    "    now = deque()\n",
    "    for j in range(N):\n",
    "        if len(now)==6:\n",
    "            now.popleft()\n",
    "        now.append(S[i][j])\n",
    "        if now.count('#')>=4:\n",
    "            ans = 'Yes'\n",
    "            break\n",
    "    if ans=='Yes':\n",
    "        break\n",
    "\n",
    "\n",
    "for i in range(N):# 縦\n",
    "    now = deque()\n",
    "    for j in range(N):\n",
    "        if len(now)==6:\n",
    "            now.popleft()\n",
    "        now.append(S[j][i])\n",
    "        if now.count('#')>=4:\n",
    "            ans = 'Yes'\n",
    "            break\n",
    "    if ans=='Yes':\n",
    "        break\n",
    "\n",
    "for i in range(N-5):#斜め\n",
    "    for j in range(N):"
   ]
  },
  {
   "cell_type": "code",
   "execution_count": null,
   "id": "6fe5d2b2-1535-483e-8d73-51defd0a0fec",
   "metadata": {},
   "outputs": [],
   "source": []
  }
 ],
 "metadata": {
  "kernelspec": {
   "display_name": "Python 3 (ipykernel)",
   "language": "python",
   "name": "python3"
  },
  "language_info": {
   "codemirror_mode": {
    "name": "ipython",
    "version": 3
   },
   "file_extension": ".py",
   "mimetype": "text/x-python",
   "name": "python",
   "nbconvert_exporter": "python",
   "pygments_lexer": "ipython3",
   "version": "3.11.4"
  }
 },
 "nbformat": 4,
 "nbformat_minor": 5
}
