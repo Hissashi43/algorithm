{
 "cells": [
  {
   "cell_type": "code",
   "execution_count": null,
   "id": "8ec89edb-3a0b-48da-a1c1-d75dc964ba8c",
   "metadata": {},
   "outputs": [],
   "source": []
  },
  {
   "cell_type": "code",
   "execution_count": 40,
   "id": "4a13202b-5955-4507-a187-0e7b675ef8e3",
   "metadata": {
    "tags": []
   },
   "outputs": [
    {
     "name": "stdin",
     "output_type": "stream",
     "text": [
      " 100000\n",
      " 3226#\n",
      " 3597#\n"
     ]
    },
    {
     "name": "stdout",
     "output_type": "stream",
     "text": [
      "0.6172840054899252\n"
     ]
    }
   ],
   "source": [
    "# 193 D\n",
    "K = int(input())\n",
    "S = input()[:4]\n",
    "T = input()[:4]\n",
    "cnt = [K] * 10\n",
    "for c in S:\n",
    "    cnt[int(c)] -= 1\n",
    "for c in T:\n",
    "    cnt[int(c)] -= 1\n",
    "def score(S):\n",
    "    cnt = [0] * 10\n",
    "    for c in S:\n",
    "        cnt[int(c)] += 1\n",
    "    ans = 0\n",
    "    for i in range(1, 10):\n",
    "        ans += i * 10 ** cnt[i]\n",
    "    return ans\n",
    "ans = 0\n",
    "for i in range(1, 10):\n",
    "    if cnt[i] == 0:\n",
    "        continue\n",
    "    for j in range(1, 10):\n",
    "        if i == j or cnt[j] == 0:\n",
    "            continue\n",
    "        if score(S + str(i)) > score(T + str(j)):\n",
    "            ans += cnt[i] * cnt[j]\n",
    "for i in range(1, 10):\n",
    "    if cnt[i] < 2:\n",
    "        continue\n",
    "    if score(S + str(i)) > score(T + str(i)):\n",
    "        ans += cnt[i] * (cnt[i] - 1)\n",
    "N = 9 * K - 8\n",
    "print(ans / N / (N - 1))"
   ]
  }
 ],
 "metadata": {
  "kernelspec": {
   "display_name": "Python 3 (ipykernel)",
   "language": "python",
   "name": "python3"
  },
  "language_info": {
   "codemirror_mode": {
    "name": "ipython",
    "version": 3
   },
   "file_extension": ".py",
   "mimetype": "text/x-python",
   "name": "python",
   "nbconvert_exporter": "python",
   "pygments_lexer": "ipython3",
   "version": "3.11.4"
  }
 },
 "nbformat": 4,
 "nbformat_minor": 5
}
