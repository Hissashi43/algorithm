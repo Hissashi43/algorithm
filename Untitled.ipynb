{
 "cells": [
  {
   "cell_type": "code",
   "execution_count": null,
   "id": "1fdc3ae6-c607-4951-8f09-3dd1b7ab29a4",
   "metadata": {},
   "outputs": [],
   "source": [
    "# 336 C 5進法に変換、　数字は0, 2, 4, 6, 8\n",
    "n = int(input()) - 1\n",
    "m = []\n",
    "if n == 0:\n",
    "    print(0)\n",
    "while n > 0:\n",
    "    m.append((n % 5) * 2)\n",
    "    n = n // 5\n",
    "m.reverse()\n",
    "print(*m, sep = \"\")"
   ]
  }
 ],
 "metadata": {
  "kernelspec": {
   "display_name": "Python 3 (ipykernel)",
   "language": "python",
   "name": "python3"
  },
  "language_info": {
   "codemirror_mode": {
    "name": "ipython",
    "version": 3
   },
   "file_extension": ".py",
   "mimetype": "text/x-python",
   "name": "python",
   "nbconvert_exporter": "python",
   "pygments_lexer": "ipython3",
   "version": "3.11.4"
  }
 },
 "nbformat": 4,
 "nbformat_minor": 5
}
