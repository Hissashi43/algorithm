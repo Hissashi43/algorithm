{
 "cells": [
  {
   "cell_type": "code",
   "execution_count": 3,
   "id": "42917eef-f535-4852-b550-43919f9dc6de",
   "metadata": {},
   "outputs": [
    {
     "name": "stdin",
     "output_type": "stream",
     "text": [
      " 6\n",
      " 30 10 60 10 60 50\n"
     ]
    },
    {
     "name": "stdout",
     "output_type": "stream",
     "text": [
      "40\n"
     ]
    }
   ],
   "source": [
    "# A\n",
    "# 最も優しいDP問題\n",
    "# 高さの決まっている足場があり、１個先、または２個先にジャンプできる\n",
    "# その時のコストは元の足場と到達した足場の差の絶対値\n",
    "# DPとして実装する際は、indexを足場の番号、格納するデータをそこに行き着くまでのコストとして、スタートから更新していく\n",
    "n = int(input())\n",
    "H = list(map(int, input().split()))\n",
    "inf = 1.0E+18\n",
    "DP = [inf]*n\n",
    "DP[0] = 0\n",
    "DP[1] = abs(H[1]-H[0])\n",
    "for i in range(2, n):\n",
    "    DP[i] = min(DP[i-1]+abs(H[i] - H[i-1]), DP[i-2]+abs(H[i]-H[i-2]))\n",
    "print(DP[n-1])\n",
    "\n"
   ]
  },
  {
   "cell_type": "code",
   "execution_count": 7,
   "id": "4cecd104-3c29-4205-a991-316aeede46e0",
   "metadata": {},
   "outputs": [
    {
     "name": "stdin",
     "output_type": "stream",
     "text": [
      " 10 4\n",
      " 40 10 20 70 80 10 20 70 80 60\n"
     ]
    },
    {
     "name": "stdout",
     "output_type": "stream",
     "text": [
      "40\n"
     ]
    }
   ],
   "source": [
    "# B\n",
    "# Aの類題\n",
    "# ジャンプできる足場がk個と増えただけ\n",
    "n, k = map(int, input().split())\n",
    "H = list(map(int, input().split()))\n",
    "inf = 1.0E+18\n",
    "DP = [inf]*n\n",
    "DP[0] = 0\n",
    "DP[1] = abs(H[1]-H[0])\n",
    "for i in range(2, n):\n",
    "    for j in range(max(0, i-k), i):\n",
    "        tmp = DP[j]+abs(H[i]-H[j])\n",
    "        DP[i] = min(DP[i], tmp)\n",
    "print(DP[n-1])"
   ]
  },
  {
   "cell_type": "code",
   "execution_count": 9,
   "id": "73c08e03-e5ef-4ee1-bbf1-15c40b554e8f",
   "metadata": {},
   "outputs": [
    {
     "name": "stdin",
     "output_type": "stream",
     "text": [
      " 3\n",
      " 10 40 70\n",
      " 20 50 80\n",
      " 30 60 90\n"
     ]
    },
    {
     "name": "stdout",
     "output_type": "stream",
     "text": [
      "210\n"
     ]
    }
   ],
   "source": [
    "# C\n",
    "# 幸福度の最大値を求める問題\n",
    "# それぞれの日で得られる幸福度の選択肢は3つで、それぞれ幸福度が異なる\n",
    "# これだけなら最大値を選び続けるだけでokだが、２日続けて同じ選択肢を選べないという制約がある\n",
    "# DPの列を3つにして、各列indexを連続で選べないという制約のもと、全探索する\n",
    "n = int(input())\n",
    "options = [ list(map(int, input().split())) for _ in range(n)]\n",
    "\n",
    "dp = [ [0]*3 for _ in range(n+1) ]\n",
    "\n",
    "for i in range(n):\n",
    "        dp[i+1][0] = max(dp[i][1]+options[i][0], dp[i][2]+options[i][0])\n",
    "        dp[i+1][1] = max(dp[i][0]+options[i][1], dp[i][2]+options[i][1])\n",
    "        dp[i+1][2] = max(dp[i][0]+options[i][2], dp[i][1]+options[i][2])\n",
    "print(max(dp[n]))"
   ]
  },
  {
   "cell_type": "code",
   "execution_count": 11,
   "id": "add61406-efa0-4257-a9a6-1fc97af7c499",
   "metadata": {},
   "outputs": [
    {
     "name": "stdin",
     "output_type": "stream",
     "text": [
      " 6 15\n",
      " 6 5\n",
      " 5 6\n",
      " 6 4\n",
      " 6 6\n",
      " 3 5\n",
      " 7 2\n"
     ]
    },
    {
     "name": "stdout",
     "output_type": "stream",
     "text": [
      "17\n"
     ]
    }
   ],
   "source": [
    "# D\n",
    "# ナップザック問題、言わずもがな\n",
    "# DPの行をアイテムの個数、列を重さにして重さ制限を超えないように更新していけばおk\n",
    "n, w = map(int, input().split())\n",
    "items = [ list(map(int, input().split())) for _ in range(n) ]\n",
    "dp = [ [0]*(w+1) for _ in range(n+1) ]\n",
    "for i in range(1, n+1):\n",
    "    for j in range(w+1):\n",
    "        if j - items[i-1][0]>=0:\n",
    "            dp[i][j] = max(dp[i-1][j-items[i-1][0]]+items[i-1][1], dp[i-1][j])\n",
    "        else:\n",
    "            dp[i][j] = dp[i-1][j]\n",
    "print(max(dp[n]))"
   ]
  },
  {
   "cell_type": "code",
   "execution_count": 25,
   "id": "79f85695-ba77-41b1-a4dc-b13730d3300a",
   "metadata": {},
   "outputs": [
    {
     "name": "stdin",
     "output_type": "stream",
     "text": [
      " 1 1000000000\n",
      " 1000000000 10\n"
     ]
    },
    {
     "name": "stdout",
     "output_type": "stream",
     "text": [
      "10\n"
     ]
    }
   ],
   "source": [
    "# E\n",
    "# ナップザック問題Dの意地悪版\n",
    "# Wが途方もない数になるので、Wを列に指定するとTLEになってしまう\n",
    "# 列を価値に指定して、各DPに重さの値を格納する\n",
    "# DP[n]の中で、重さが制限を超えない最大列を求める\n",
    "n, w = map(int, input().split())\n",
    "items = [ list(map(int, input().split())) for _ in range(n) ]\n",
    "sm = 0\n",
    "inf = 1.0e+18\n",
    "for item in items:\n",
    "    sm += item[1]\n",
    "dp = [ [inf]*(sm+1) for _ in range(n+1) ]\n",
    "dp[0][0] = 0\n",
    "for i in range(1, n+1):\n",
    "    for j in range(sm+1):\n",
    "        dp[i][j] = min(dp[i-1][j-items[i-1][1]]+items[i-1][0], dp[i-1][j])\n",
    "for i in reversed(range(sm+1)):\n",
    "    if dp[n][i]<=w:\n",
    "        print(i)\n",
    "        break"
   ]
  },
  {
   "cell_type": "code",
   "execution_count": 43,
   "id": "226b9eea-58ee-42bf-91e5-8927b32faea6",
   "metadata": {},
   "outputs": [
    {
     "name": "stdin",
     "output_type": "stream",
     "text": [
      " axyb\n",
      " abyxb\n"
     ]
    },
    {
     "name": "stdout",
     "output_type": "stream",
     "text": [
      "axb\n"
     ]
    }
   ],
   "source": [
    "# F\n",
    "# LCS, 最長共通部分列を求める問題\n",
    "# sの文字列長さを行、tの文字列長さを列として、s[i]=t[j]の時、その文字列を格納していけば良さそう ←　TLE案件\n",
    "# DPに文字列を直接格納するとTLEになってしまう（文字列が上限３０００文字なので、それをDP遷移で毎回編集するのがだめ（O(n**3）)\n",
    "# まず最長共通列の長さだけDPに格納していき、目的の長さを求める\n",
    "# その後、DP[n][m]から逆方向に辿っていって、最長行列を復元する手法を使用する\n",
    "# 一度DPを作って、それを逆から辿っていくことで計算量を少なく出来る場合がある\n",
    "# 重要な教訓として、DPは「作成してから逆に辿っていくことで、「どういう風に遷移していったか」の経路を復元できる」こと\n",
    "\n",
    "s = \"x\" + input()\n",
    "t = \"x\" + input()\n",
    "ls = len(s)\n",
    "lt = len(t)\n",
    "dp = [[0 for _ in range(lt)] for _ in range(ls)]\n",
    "\n",
    "i = 0\n",
    "while i < ls-1:\n",
    "    i += 1\n",
    "    j = 0\n",
    "    while j < lt-1:\n",
    "        j += 1\n",
    "        if s[i] == t[j]:\n",
    "            dp[i][j] = dp[i-1][j-1] + 1\n",
    "        else:\n",
    "            dp[i][j] = max(dp[i-1][j], dp[i][j-1])\n",
    "\n",
    "ans_length = dp[len(s)-1][len(t)-1]\n",
    "\n",
    "if ans_length == 0:\n",
    "    print(\"\")\n",
    "    exit()\n",
    "\n",
    "rev_ans_str = \"\"\n",
    "k, l = len(s)-1, len(t)-1 \n",
    "while len(rev_ans_str) < ans_length:\n",
    "    if s[k] == t[l]:\n",
    "        rev_ans_str += s[k]\n",
    "        k -= 1\n",
    "        l -= 1\n",
    "    else:\n",
    "        if dp[k-1][l] == dp[k][l]:\n",
    "            k -= 1\n",
    "        else:\n",
    "            l -= 1\n",
    "\n",
    "ans_str = \"\"\n",
    "for i in range(len(rev_ans_str)):\n",
    "    ans_str += rev_ans_str[len(rev_ans_str)-i-1]\n",
    "\n",
    "print(ans_str)"
   ]
  },
  {
   "cell_type": "code",
   "execution_count": 69,
   "id": "6f7b351a-e8b7-4c64-b8b9-2e5a6e5c623e",
   "metadata": {},
   "outputs": [
    {
     "name": "stdin",
     "output_type": "stream",
     "text": [
      " 5 8\n",
      " 5 3\n",
      " 2 3\n",
      " 2 4\n",
      " 5 2\n",
      " 5 1\n",
      " 1 4\n",
      " 4 3\n",
      " 1 3\n"
     ]
    },
    {
     "name": "stdout",
     "output_type": "stream",
     "text": [
      "3\n"
     ]
    }
   ],
   "source": [
    "# G\n",
    "# 有向グラフ問題\n",
    "# dfsで解くのでは？と思う（解けそう）\n",
    "# DPで解くのだったら、隣接リストを第二の繰り返しにしていって‥、と思ったが、これだとTLEになりそう\n",
    "# そもそも第二の繰り返しというのが不要かな、現在地を列indexとして、隣接リストの中から距離が最小のものを選び続ける\n",
    "# 第二の繰り返しが隣接リスト内に限られるから、いけるかな\n",
    "\n",
    "from collections import deque\n",
    "\n",
    "n, m = map(int, input().split())\n",
    "edges = [ list(map(int, input().split())) for _ in range(m) ]\n",
    "\n",
    "path = [0] * (n+1)\n",
    "G = [ list() for _ in range(n+1)]\n",
    "for item in edges:\n",
    "    G[item[0]].append(item[1])\n",
    "    path[item[1]] += 1\n",
    "\n",
    "vertex_sorted = []\n",
    "path_0 = deque()\n",
    "for i in range(1,n+1):\n",
    "  if path[i] == 0:\n",
    "    path_0.append(i)\n",
    "\n",
    "#\n",
    "while(len(path_0) > 0):\n",
    "  ne = path_0.popleft()\n",
    "  path[ne] = -1\n",
    "  vertex_sorted.append(ne)\n",
    "  for ver in G[ne]:\n",
    "    path[ver] -= 1\n",
    "    if path[ver] == 0:\n",
    "      path_0.append(ver)\n",
    "#\n",
    "dp = [0]*(n+1)\n",
    "for i in range(n):\n",
    "  nowv = vertex_sorted[i]\n",
    "  for nextv in G[nowv]:\n",
    "    dp[nextv] = max(dp[nextv], dp[nowv] + 1)\n",
    "\n",
    "print(max(dp))"
   ]
  },
  {
   "cell_type": "code",
   "execution_count": 65,
   "id": "e46755ad-2d8e-433c-b8aa-d4e6b4cf04de",
   "metadata": {},
   "outputs": [
    {
     "data": {
      "text/plain": [
       "2"
      ]
     },
     "execution_count": 65,
     "metadata": {},
     "output_type": "execute_result"
    }
   ],
   "source": [
    "# 153 E 魔物の体力を減らすのに最小の魔力を求める。典型的なDP問題\n",
    "h, n = map(int, input().split())\n",
    "A, B = [], []\n",
    "for i in range(n):\n",
    "    a, b = map(int, input().split())\n",
    "    A.append(a)\n",
    "    B.append(b)\n",
    "    \n",
    "inf = int(1e12)\n",
    "dp = [ [inf]*(h+1) for _ in range(n+1) ]\n",
    "for i in range(1, n+1):\n",
    "    for j in range(h+1):\n",
    "        if j==0:\n",
    "            dp[i][j]=0\n",
    "        if 0<j<A[i-1]:\n",
    "            dp[i][j]=min(dp[i-1][j], B[i-1])\n",
    "        elif j-A[i-1]>=0:\n",
    "            dp[i][j] = min(dp[i-1][j], dp[i-1][j-A[i-1]]+B[i-1], dp[i][j-A[i-1]]+B[i-1])\n",
    "            \n",
    "print(dp[n][h])"
   ]
  },
  {
   "cell_type": "code",
   "execution_count": null,
   "id": "ca713530-c01c-4f49-a98e-c978537857d6",
   "metadata": {},
   "outputs": [],
   "source": [
    "# 154 E　桁DP問題。ｋ個の非０の数字を含むn以下の整数の数を求める\n",
    "n = input()\n",
    "k = int(input())\n",
    "dp = [[[0] * (k + 1) for _ in range(2)] for _ in range(len(n) + 1)]\n",
    "dp[0][0][0] = 1\n",
    "for i in range(len(n)):\n",
    "    for smaller in range(2):\n",
    "        for j in range(k + 1):\n",
    "            dp[i + 1][smaller or int(n[i]) != 0][j] += dp[i][smaller][j]\n",
    "            for d in range(1, 10 if smaller else int(n[i]) + 1):\n",
    "                if j + 1 <= k:\n",
    "                    dp[i + 1][smaller or d < int(n[i])][j + 1] += dp[i][smaller][j]\n",
    "# for i in dp:\n",
    "#     print(i)\n",
    "print(dp[len(n)][0][k] + dp[len(n)][1][k])"
   ]
  },
  {
   "cell_type": "code",
   "execution_count": 3,
   "id": "201383b3-0626-4246-a639-c52dcaf39d90",
   "metadata": {
    "tags": []
   },
   "outputs": [
    {
     "name": "stdin",
     "output_type": "stream",
     "text": [
      " 30 30 118264581564861424\n"
     ]
    },
    {
     "name": "stdout",
     "output_type": "stream",
     "text": [
      "bbbbbbbbbbbbbbbbbbbbbbbbbbbbbbaaaaaaaaaaaaaaaaaaaaaaaaaaaaaa\n"
     ]
    }
   ],
   "source": [
    "# 344 D 文字を1個ずつ選んで目的の文字を作るのに最小のコストを調べる\n",
    "T = input()\n",
    "N = int(input())\n",
    "A = [ list(map(str, input().split())) for _ in range(N) ]\n",
    "an = []\n",
    "# for i in range(N):\n",
    "#     an.append(int(A[i][0]))\n",
    "#     del A[i][0]\n",
    "inf = int(1e18)\n",
    "dp = [ [inf]* (len(T)+1) for _ in range(N+1) ]\n",
    "for i in range(N+1):\n",
    "    dp[i][0]=0\n",
    "for i in range(1, N+1):\n",
    "    for k in range(1, int(A[i-1][0])+1):\n",
    "        l = len(A[i-1][k])\n",
    "        if A[i-1][k]==T[:l]:\n",
    "            dp[i][l]=1\n",
    "        for j in range(1, len(T)+1):\n",
    "            if j-l>=0 and T[j-l:j]==A[i-1][k]:\n",
    "                dp[i][j]=min(dp[i-1][j], dp[i-1][j-l]+1, dp[i][j])\n",
    "            else:\n",
    "                dp[i][j]=min(dp[i-1][j], dp[i][j])\n",
    "if dp[N][len(T)]!=inf:\n",
    "    print(dp[N][len(T)])\n",
    "else:\n",
    "    print(\"-1\")"
   ]
  },
  {
   "cell_type": "code",
   "execution_count": 1,
   "id": "77425615-132c-4c57-900a-b895afb8d449",
   "metadata": {
    "tags": []
   },
   "outputs": [
    {
     "name": "stdin",
     "output_type": "stream",
     "text": [
      " 3\n",
      " 6 17 28\n"
     ]
    },
    {
     "name": "stdout",
     "output_type": "stream",
     "text": [
      "45\n"
     ]
    }
   ],
   "source": [
    "# 204 D リストTの要素は料理Tiを作るのにオーブンを使う時間。\n",
    "# 2個のオーブンを使うときの最短時間を計算する。\n",
    "n = int(input())\n",
    "T = list(map(int, input().split()))\n",
    "s = sum(T)\n",
    "hs = s//2\n",
    "dp = [ [False]*(hs+1) for _ in range(n+1) ]\n",
    "ans = 0\n",
    "for i in range(1, n+1):\n",
    "    t = T[i-1]\n",
    "    for j in range(hs+1):\n",
    "        if j==0:\n",
    "            dp[i][j]=True\n",
    "        else:\n",
    "            if j-t>=0 and dp[i-1][j-t]:\n",
    "                dp[i][j]=True\n",
    "            elif dp[i-1][j]:\n",
    "                dp[i][j]=True\n",
    "    if dp[i][hs]==True:\n",
    "        if s%2==0:\n",
    "            ans = hs\n",
    "        else:\n",
    "            ans = hs+1\n",
    "        break\n",
    "if not ans:\n",
    "    for i in reversed(range(hs+1)):\n",
    "        if dp[n][i]:\n",
    "            ans = s-i\n",
    "            break\n",
    "if max(T)>hs:\n",
    "    ans = max(T)\n",
    "print(ans)"
   ]
  },
  {
   "cell_type": "code",
   "execution_count": 2,
   "id": "e8057f80-9a5a-41b2-ac6a-76e49068ed0a",
   "metadata": {
    "tags": []
   },
   "outputs": [
    {
     "name": "stdin",
     "output_type": "stream",
     "text": [
      " 796382932 -905246003 182548924\n"
     ]
    },
    {
     "name": "stdout",
     "output_type": "stream",
     "text": [
      "<\n"
     ]
    }
   ],
   "source": [
    "# 208 D 通ってよい都市の制限がある時の最短距離の総和\n",
    "# ワーシャルフロイド法といわれる方法を使う\n",
    "import sys\n",
    "N, M = map(int, sys.stdin.buffer.readline().split())\n",
    "ABC = map(int, sys.stdin.buffer.read().split())\n",
    "d = [[1 << 60] * N for i in range(N)]\n",
    "for i in range(N):\n",
    "  d[i][i] = 0\n",
    "for a, b, c in zip(ABC, ABC, ABC):\n",
    "  d[a - 1][b - 1] = c\n",
    "answer = 0\n",
    "for k in range(N):\n",
    "  nxt = [[0] * N for i in range(N)]\n",
    "  for i in range(N):\n",
    "    for j in range(N):\n",
    "      nxt[i][j] = min(d[i][j], d[i][k] + d[k][j])\n",
    "      if nxt[i][j] < 1 << 59:\n",
    "        answer += nxt[i][j]\n",
    "  d = nxt\n",
    "print(answer)\n"
   ]
  },
  {
   "cell_type": "code",
   "execution_count": 11,
   "id": "31238495-ff04-463b-a43c-ed09cd5ea029",
   "metadata": {
    "tags": []
   },
   "outputs": [
    {
     "name": "stdin",
     "output_type": "stream",
     "text": [
      " chokudaichokudaichokudai\n"
     ]
    },
    {
     "name": "stdout",
     "output_type": "stream",
     "text": [
      "45\n"
     ]
    }
   ],
   "source": [
    "# 211 C \n",
    "s = input()\n",
    "l = len(s)\n",
    "mod = int(1e9)+7\n",
    "dp = [ [0]*8 for _ in range(l+1) ]\n",
    "for i in range(1, l+1):\n",
    "    for j in range(8):\n",
    "        if j==0:\n",
    "            if s[i-1]==\"c\":\n",
    "                dp[i][j] = (1+dp[i-1][j])%mod\n",
    "            else:\n",
    "                dp[i][j] = dp[i-1][j]\n",
    "        elif j==1:\n",
    "            if s[i-1]==\"h\" and dp[i-1][j-1]>0:\n",
    "                dp[i][j] = (dp[i-1][j]+dp[i-1][j-1])%mod\n",
    "            else:\n",
    "                dp[i][j] = dp[i-1][j]\n",
    "        elif j==2:\n",
    "            if s[i-1]==\"o\" and dp[i-1][j-1]>0:\n",
    "                dp[i][j] = (dp[i-1][j]+dp[i-1][j-1])%mod\n",
    "            else:\n",
    "                dp[i][j] = dp[i-1][j]\n",
    "        elif j==3:\n",
    "            if s[i-1]==\"k\" and dp[i-1][j-1]>0:\n",
    "                dp[i][j] = (dp[i-1][j]+dp[i-1][j-1])%mod\n",
    "            else:\n",
    "                dp[i][j] = dp[i-1][j]\n",
    "        elif j==4:\n",
    "            if s[i-1]==\"u\" and dp[i-1][j-1]>0:\n",
    "                dp[i][j] = (dp[i-1][j]+dp[i-1][j-1])%mod\n",
    "            else:\n",
    "                dp[i][j] = dp[i-1][j]\n",
    "        elif j==5:\n",
    "            if s[i-1]==\"d\" and dp[i-1][j-1]>0:\n",
    "                dp[i][j] = (dp[i-1][j]+dp[i-1][j-1])%mod\n",
    "            else:\n",
    "                dp[i][j] = dp[i-1][j]\n",
    "        elif j==6:\n",
    "            if s[i-1]==\"a\" and dp[i-1][j-1]>0:\n",
    "                dp[i][j] = (dp[i-1][j]+dp[i-1][j-1])%mod\n",
    "            else:\n",
    "                dp[i][j] = dp[i-1][j]\n",
    "        elif j==7:\n",
    "            if s[i-1]==\"i\" and dp[i-1][j-1]>0:\n",
    "                dp[i][j] = (dp[i-1][j]+dp[i-1][j-1])%mod\n",
    "            else:\n",
    "                dp[i][j] = dp[i-1][j]\n",
    "print(dp[l][7])"
   ]
  },
  {
   "cell_type": "code",
   "execution_count": 6,
   "id": "44e4d220-b1d8-464a-8780-dcec4eaf0d9f",
   "metadata": {
    "tags": []
   },
   "outputs": [
    {
     "data": {
      "text/plain": [
       "[[0, 0, 0, 0, 0, 0, 0, 0],\n",
       " [1, 0, 0, 0, 0, 0, 0, 0],\n",
       " [1, 2, 0, 0, 0, 0, 0, 0],\n",
       " [2, 2, 0, 0, 0, 0, 0, 0],\n",
       " [2, 5, 0, 0, 0, 0, 0, 0],\n",
       " [2, 5, 6, 0, 0, 0, 0, 0],\n",
       " [2, 5, 6, 7, 0, 0, 0, 0],\n",
       " [2, 5, 6, 7, 8, 0, 0, 0],\n",
       " [2, 5, 6, 7, 8, 9, 0, 0],\n",
       " [2, 5, 6, 7, 8, 9, 10, 0],\n",
       " [2, 5, 6, 7, 8, 9, 10, 0]]"
      ]
     },
     "execution_count": 6,
     "metadata": {},
     "output_type": "execute_result"
    }
   ],
   "source": [
    "# 典型90 5問目 特定の数値のみを使って作るN桁の整数の内、Bの倍数の数\n",
    "MOD = 1000000007\n",
    "\n",
    "# N の対数\n",
    "LOG = 62\n",
    "\n",
    "# 入力\n",
    "N, B, K = map(int, input().split())\n",
    "C = list(map(int, input().split()))\n",
    "\n",
    "# dp[i] と dp[j] を掛け合わせて dp[i+j] を得る関数\n",
    "# tj: 10^j を B で割ったあまり\n",
    "def mul(dpi, dpj, tj):\n",
    "    res = [0] * B\n",
    "    for p in range(B):\n",
    "        for q in range(B):\n",
    "            res[(p * tj + q) % B] += dpi[p] * dpj[q]\n",
    "            res[(p * tj + q) % B] %= MOD\n",
    "    return res\n",
    "\n",
    "# ten[i]: 10^(2^i) を B で割ったあまり\n",
    "ten = [10] * LOG\n",
    "for i in range(1, LOG):\n",
    "    ten[i] = (ten[i - 1] * ten[i - 1]) % B\n",
    "\n",
    "# dp[2^i][r] を doubling[i][r] と書くことにする\n",
    "doubling = [[0] * B for _ in range(LOG)]\n",
    "\n",
    "# 初期化 (doubling[0] = dp[1])\n",
    "for k in range(K):\n",
    "    doubling[0][C[k] % B] += 1\n",
    "\n",
    "# ダブリング\n",
    "for i in range(1, LOG):\n",
    "    doubling[i] = mul(doubling[i - 1], doubling[i - 1], ten[i - 1])\n",
    "\n",
    "# ダブリングした結果をもとに答えを求める\n",
    "res = [0] * B\n",
    "res[0] = 1\n",
    "for i in range(LOG):\n",
    "    if N & (1 << i):\n",
    "        res = mul(res, doubling[i], ten[i])\n",
    "print(res[0])"
   ]
  },
  {
   "cell_type": "code",
   "execution_count": 6,
   "id": "620db50e-558e-4e7a-8459-2964b477efe2",
   "metadata": {
    "tags": []
   },
   "outputs": [
    {
     "name": "stdin",
     "output_type": "stream",
     "text": [
      " 140\n",
      " aaaaaaaaaaaaaaaaaaaattttttttttttttttttttccccccccccccccccccccooooooooooooooooooooddddddddddddddddddddeeeeeeeeeeeeeeeeeeeerrrrrrrrrrrrrrrrrrrr\n"
     ]
    },
    {
     "name": "stdout",
     "output_type": "stream",
     "text": [
      "279999993\n"
     ]
    }
   ],
   "source": [
    "# 典型90 8問目, 文字列から目的の並びを取り出す組み合わせの数\n",
    "\n",
    "N = int(input())\n",
    "S = input()\n",
    "mod = int(1e9)+7\n",
    "dp = [[0]*7 for _ in range(N+1)]\n",
    "for i in range(1, N+1):\n",
    "    s = S[i-1]\n",
    "    for j in range(7):\n",
    "        if j==0:\n",
    "            if s==\"a\":\n",
    "                dp[i][j] = (dp[i-1][j]+1)%mod\n",
    "            else:\n",
    "                dp[i][j] = dp[i-1][j]\n",
    "        elif j==1:\n",
    "            if s==\"t\":\n",
    "                dp[i][j] = (dp[i-1][j-1]+dp[i-1][j])%mod\n",
    "            else:\n",
    "                dp[i][j] = dp[i-1][j]\n",
    "        elif j==2:\n",
    "            if s==\"c\":\n",
    "                dp[i][j] = (dp[i-1][j-1]+dp[i-1][j])%mod\n",
    "            else:\n",
    "                dp[i][j] = dp[i-1][j]\n",
    "        elif j==3:\n",
    "            if s==\"o\":\n",
    "                dp[i][j] = (dp[i-1][j-1]+dp[i-1][j])%mod\n",
    "            else:\n",
    "                dp[i][j] = dp[i-1][j]\n",
    "        elif j==4:\n",
    "            if s==\"d\":\n",
    "                dp[i][j] = (dp[i-1][j-1]+dp[i-1][j])%mod\n",
    "            else:\n",
    "                dp[i][j] = dp[i-1][j]\n",
    "        elif j==5:\n",
    "            if s==\"e\":\n",
    "                dp[i][j] = (dp[i-1][j-1]+dp[i-1][j])%mod\n",
    "            else:\n",
    "                dp[i][j] = dp[i-1][j]\n",
    "        elif j==6:\n",
    "            if s==\"r\":\n",
    "                dp[i][j] = (dp[i-1][j-1]+dp[i-1][j])%mod\n",
    "            else:\n",
    "                dp[i][j] = dp[i-1][j]\n",
    "print(dp[N][6]%mod)"
   ]
  },
  {
   "cell_type": "code",
   "execution_count": 1,
   "id": "f1f13faf-99f3-4960-b7e3-5c0ae93b280c",
   "metadata": {
    "tags": []
   },
   "outputs": [
    {
     "name": "stdin",
     "output_type": "stream",
     "text": [
      " 3\n",
      " 7 3 2000000\n",
      " 3 2 1000000\n",
      " 5 3 1500000\n"
     ]
    },
    {
     "name": "stdout",
     "output_type": "stream",
     "text": [
      "[7, 3, 2000000]\n",
      "[5, 3, 1500000]\n",
      "[3, 2, 1000000]\n"
     ]
    }
   ],
   "source": [
    "# 典型90 11 締め切りと所要日数と報酬が決まっているjobを適切に選んで\n",
    "# 最大報酬を求める\n",
    "n = int(input())\n",
    "J = [list(map(int, input().split())) for _ in range(n)]\n",
    "J.sort()\n",
    "J = J[::-1]\n",
    "print(*J, sep='\\n')\n",
    "\n",
    "# 仕事iまでみたとき、残りj日使える\n",
    "dp = [[-float('inf')] * 5001 for _ in range(n + 1)]\n",
    "dp[0][J[0][0]] = 0\n",
    "for i in range(n):\n",
    "    d, c, s = J[i]\n",
    "    for j in range(5001):\n",
    "        dp[i + 1][j] = dp[i][j]\n",
    "        tmp = min(d, j) - c\n",
    "        if tmp >= 0:\n",
    "            dp[i + 1][tmp] = max(dp[i + 1][tmp], dp[i][j] + s)\n",
    "print(max(dp[n]))"
   ]
  },
  {
   "cell_type": "code",
   "execution_count": null,
   "id": "ba16b573-f3a0-4492-9db9-9db387d43ef5",
   "metadata": {
    "tags": []
   },
   "outputs": [],
   "source": [
    "n = int(input())\n",
    "J = [ list(map(int, input().split())) for _ in range(n) ] \n",
    "#↑格納されるデータは締め切り日d, 所要日数c, 報酬s\n",
    "J.sort()#締め切りの早いもの順\n",
    "J = J[::-1] #締め切りの遅いもの順\n",
    "inf = -(1e18)\n",
    "# 動的計画法の更新手順\n",
    "# 締め切りの遅いものから順にみていく\n",
    "# 第二項は残り日数（j日）で、上限値の5001に設定\n",
    "dp = [ [inf]*5001 for _ in range(n+1) ] #各値はマイナス値で初期化\n",
    "dp[0][J[0][0]] = 0\n",
    "for i in range(n):\n",
    "    d, c, s = J[i]\n",
    "    for j in range(5001):\n",
    "        dp[i+1][j] = dp[i][j]\n",
    "        tmp = min(d, j)-c #jが締め切り日より小さい場合はマイナス値となり、更新されない\n",
    "        if tmp >= 0:\n",
    "            dp[i+1][tmp] = max(dp[i+1][tmp], dp[i][j]+s) #j日目における報酬が高くなる場合に更新\n",
    "print(dp[n])"
   ]
  },
  {
   "cell_type": "code",
   "execution_count": 4,
   "id": "3e71f8d1-fc44-4594-8898-0bf14a7c079c",
   "metadata": {
    "tags": []
   },
   "outputs": [
    {
     "name": "stdin",
     "output_type": "stream",
     "text": [
      " 7 1 2\n",
      " 24 35 40 68 72 99 103\n"
     ]
    },
    {
     "name": "stdout",
     "output_type": "stream",
     "text": [
      "12\n"
     ]
    }
   ],
   "source": [
    "# 211 C 部分文字列（chokudai）を作る組み合わせの数\n",
    "s = input()\n",
    "l = len(s)\n",
    "mod = int(1e9)+7\n",
    "dp = [ [0]*8 for _ in range(l+1) ]\n",
    "for i in range(1, l+1):\n",
    "    for j in range(8):\n",
    "        if j==0:\n",
    "            if s[i-1]==\"c\":\n",
    "                dp[i][j] = (1+dp[i-1][j])%mod\n",
    "            else:\n",
    "                dp[i][j] = dp[i-1][j]\n",
    "        elif j==1:\n",
    "            if s[i-1]==\"h\" and dp[i-1][j-1]>0:\n",
    "                dp[i][j] = (dp[i-1][j]+dp[i-1][j-1])%mod\n",
    "            else:\n",
    "                dp[i][j] = dp[i-1][j]\n",
    "        elif j==2:\n",
    "            if s[i-1]==\"o\" and dp[i-1][j-1]>0:\n",
    "                dp[i][j] = (dp[i-1][j]+dp[i-1][j-1])%mod\n",
    "            else:\n",
    "                dp[i][j] = dp[i-1][j]\n",
    "        elif j==3:\n",
    "            if s[i-1]==\"k\" and dp[i-1][j-1]>0:\n",
    "                dp[i][j] = (dp[i-1][j]+dp[i-1][j-1])%mod\n",
    "            else:\n",
    "                dp[i][j] = dp[i-1][j]\n",
    "        elif j==4:\n",
    "            if s[i-1]==\"u\" and dp[i-1][j-1]>0:\n",
    "                dp[i][j] = (dp[i-1][j]+dp[i-1][j-1])%mod\n",
    "            else:\n",
    "                dp[i][j] = dp[i-1][j]\n",
    "        elif j==5:\n",
    "            if s[i-1]==\"d\" and dp[i-1][j-1]>0:\n",
    "                dp[i][j] = (dp[i-1][j]+dp[i-1][j-1])%mod\n",
    "            else:\n",
    "                dp[i][j] = dp[i-1][j]\n",
    "        elif j==6:\n",
    "            if s[i-1]==\"a\" and dp[i-1][j-1]>0:\n",
    "                dp[i][j] = (dp[i-1][j]+dp[i-1][j-1])%mod\n",
    "            else:\n",
    "                dp[i][j] = dp[i-1][j]\n",
    "        elif j==7:\n",
    "            if s[i-1]==\"i\" and dp[i-1][j-1]>0:\n",
    "                dp[i][j] = (dp[i-1][j]+dp[i-1][j-1])%mod\n",
    "            else:\n",
    "                dp[i][j] = dp[i-1][j]\n",
    "print(dp[l][7])"
   ]
  },
  {
   "cell_type": "code",
   "execution_count": 13,
   "id": "db7bf050-cc58-4463-a3e2-ed194504aa1a",
   "metadata": {
    "tags": []
   },
   "outputs": [
    {
     "name": "stdin",
     "output_type": "stream",
     "text": [
      " 3\n",
      " 1 2\n",
      " 3\n"
     ]
    },
    {
     "name": "stdout",
     "output_type": "stream",
     "text": [
      "3\n"
     ]
    }
   ],
   "source": [
    "# 318 D問題　ビットマスクを用いたDP\n",
    "N = int(input())\n",
    "D = [ [0]*N for _ in range(N) ]\n",
    "D_ = [ list(map(int, input().split())) for _ in range(N-1) ]\n",
    "for i in range(N):\n",
    "    for j in range(i+1, N):\n",
    "        D[i][j] = D_[i][j-i-1]\n",
    "dp = [0]*(1<<N)\n",
    "for b in range((1<<N)-1):\n",
    "    l = -1\n",
    "    for i in range(N):\n",
    "        if not (b>>i&1):\n",
    "            l = i\n",
    "            break\n",
    "    for i in range(N):\n",
    "        if not (b>>i&1):\n",
    "            nb = b | (1<<l) | (1<< i)\n",
    "            dp[nb] = max(dp[nb], dp[b]+D[l][i])\n",
    "print(dp[-1])"
   ]
  },
  {
   "cell_type": "code",
   "execution_count": 37,
   "id": "758ce297-2795-468c-8a38-98417050f6ed",
   "metadata": {
    "tags": []
   },
   "outputs": [
    {
     "name": "stdin",
     "output_type": "stream",
     "text": [
      " 4 2 2\n",
      " 1 2 3 4\n"
     ]
    },
    {
     "name": "stdout",
     "output_type": "stream",
     "text": [
      "6\n"
     ]
    }
   ],
   "source": [
    "# 281 D　K個の要素を選んで総和がDの倍数になる時の総和の最大値\n",
    "N, K, D = map(int, input().split())\n",
    "A = list(map(int, input().split()))\n",
    "    \n",
    "# dpテーブルの初期化: (N+1) x (K+1) x D\n",
    "dp = [[[-1] * D for _ in range(K+1)] for _ in range(N+1)]\n",
    "dp[0][0][0] = 0\n",
    "    \n",
    "# dpの実行\n",
    "for i in range(N):\n",
    "    for j in range(K+1):\n",
    "        for k in range(D):\n",
    "            if dp[i][j][k] == -1:\n",
    "                continue\n",
    "            dp[i+1][j][k] = max(dp[i+1][j][k], dp[i][j][k])\n",
    "            if j != K:\n",
    "                mod = (k + A[i]) % D\n",
    "                dp[i+1][j+1][mod] = max(dp[i+1][j+1][mod], dp[i][j][k] + A[i])\n",
    "    \n",
    "print(dp[N][K][0])"
   ]
  },
  {
   "cell_type": "code",
   "execution_count": 1,
   "id": "722545de-48c6-4c4d-8d2a-289dfc2bc933",
   "metadata": {
    "tags": []
   },
   "outputs": [
    {
     "name": "stdin",
     "output_type": "stream",
     "text": [
      " 3\n",
      " 5 6\n",
      " 2 1\n",
      " 3 4\n",
      " 2 3\n"
     ]
    },
    {
     "name": "stdout",
     "output_type": "stream",
     "text": [
      "2\n"
     ]
    }
   ],
   "source": [
    "# 219D XとYを一定以上にする最小個数\n",
    "N = int(input())\n",
    "X,Y = map(int,input().split())\n",
    "L = [list(map(int,input().split())) for _ in range(N)]\n",
    "dp = [[[10**18]*(Y+1) for _ in range(X+1)] for _ in range(N+1)]\n",
    "dp[0][0][0] = 0\n",
    "for i in range(N):\n",
    "    a = L[i][0]\n",
    "    b = L[i][1]\n",
    "    for j in range(X+1):\n",
    "        for k in range(Y+1):\n",
    "                dp[i+1][j][k] = min(dp[i][j][k],dp[i][max(0,j-a)][max(0,k-b)]+1)\n",
    "print(dp[-1][X][Y] if dp[-1][X][Y] < 10**18 else -1)\n"
   ]
  },
  {
   "cell_type": "code",
   "execution_count": 3,
   "id": "e5265583-b35e-4d7c-b96b-ea5d8a393f44",
   "metadata": {
    "tags": []
   },
   "outputs": [
    {
     "data": {
      "text/plain": [
       "[[[0,\n",
       "   1000000000000000000,\n",
       "   1000000000000000000,\n",
       "   1000000000000000000,\n",
       "   1000000000000000000,\n",
       "   1000000000000000000,\n",
       "   1000000000000000000],\n",
       "  [1000000000000000000,\n",
       "   1000000000000000000,\n",
       "   1000000000000000000,\n",
       "   1000000000000000000,\n",
       "   1000000000000000000,\n",
       "   1000000000000000000,\n",
       "   1000000000000000000],\n",
       "  [1000000000000000000,\n",
       "   1000000000000000000,\n",
       "   1000000000000000000,\n",
       "   1000000000000000000,\n",
       "   1000000000000000000,\n",
       "   1000000000000000000,\n",
       "   1000000000000000000],\n",
       "  [1000000000000000000,\n",
       "   1000000000000000000,\n",
       "   1000000000000000000,\n",
       "   1000000000000000000,\n",
       "   1000000000000000000,\n",
       "   1000000000000000000,\n",
       "   1000000000000000000],\n",
       "  [1000000000000000000,\n",
       "   1000000000000000000,\n",
       "   1000000000000000000,\n",
       "   1000000000000000000,\n",
       "   1000000000000000000,\n",
       "   1000000000000000000,\n",
       "   1000000000000000000],\n",
       "  [1000000000000000000,\n",
       "   1000000000000000000,\n",
       "   1000000000000000000,\n",
       "   1000000000000000000,\n",
       "   1000000000000000000,\n",
       "   1000000000000000000,\n",
       "   1000000000000000000]],\n",
       " [[0,\n",
       "   1,\n",
       "   1000000000000000000,\n",
       "   1000000000000000000,\n",
       "   1000000000000000000,\n",
       "   1000000000000000000,\n",
       "   1000000000000000000],\n",
       "  [1,\n",
       "   1,\n",
       "   1000000000000000000,\n",
       "   1000000000000000000,\n",
       "   1000000000000000000,\n",
       "   1000000000000000000,\n",
       "   1000000000000000000],\n",
       "  [1,\n",
       "   1,\n",
       "   1000000000000000000,\n",
       "   1000000000000000000,\n",
       "   1000000000000000000,\n",
       "   1000000000000000000,\n",
       "   1000000000000000000],\n",
       "  [1000000000000000000,\n",
       "   1000000000000000000,\n",
       "   1000000000000000000,\n",
       "   1000000000000000000,\n",
       "   1000000000000000000,\n",
       "   1000000000000000000,\n",
       "   1000000000000000000],\n",
       "  [1000000000000000000,\n",
       "   1000000000000000000,\n",
       "   1000000000000000000,\n",
       "   1000000000000000000,\n",
       "   1000000000000000000,\n",
       "   1000000000000000000,\n",
       "   1000000000000000000],\n",
       "  [1000000000000000000,\n",
       "   1000000000000000000,\n",
       "   1000000000000000000,\n",
       "   1000000000000000000,\n",
       "   1000000000000000000,\n",
       "   1000000000000000000,\n",
       "   1000000000000000000]],\n",
       " [[0, 1, 1, 1, 1, 2, 1000000000000000000],\n",
       "  [1, 1, 1, 1, 1, 2, 1000000000000000000],\n",
       "  [1, 1, 1, 1, 1, 2, 1000000000000000000],\n",
       "  [1, 1, 1, 1, 1, 2, 1000000000000000000],\n",
       "  [2, 2, 2, 2, 2, 2, 1000000000000000000],\n",
       "  [2, 2, 2, 2, 2, 2, 1000000000000000000]],\n",
       " [[0, 1, 1, 1, 1, 2, 2],\n",
       "  [1, 1, 1, 1, 1, 2, 2],\n",
       "  [1, 1, 1, 1, 1, 2, 2],\n",
       "  [1, 1, 1, 1, 1, 2, 2],\n",
       "  [2, 2, 2, 2, 2, 2, 2],\n",
       "  [2, 2, 2, 2, 2, 2, 2]]]"
      ]
     },
     "execution_count": 3,
     "metadata": {},
     "output_type": "execute_result"
    }
   ],
   "source": [
    "dp"
   ]
  },
  {
   "cell_type": "code",
   "execution_count": 120,
   "id": "c4e9eb6e-aee4-465e-b9bb-96f9ca28b14c",
   "metadata": {
    "tags": []
   },
   "outputs": [
    {
     "name": "stdin",
     "output_type": "stream",
     "text": [
      " 4 4\n",
      " 4\n",
      " 1 1\n",
      " 3 1\n",
      " 3 3\n",
      " 1 3\n",
      " 1\n",
      " 2\n",
      " 1\n",
      " 2\n"
     ]
    },
    {
     "name": "stdout",
     "output_type": "stream",
     "text": [
      "1 1\n"
     ]
    }
   ],
   "source": [
    "from collections import defaultdict\n",
    "import bisect\n",
    "\n",
    "dic = defaultdict(lambda: 0)\n",
    "W, H = map(int, input().split())\n",
    "N = int(input())\n",
    "S = [ tuple(map(int, input().split())) for _ in range(N)]\n",
    "a = int(input())\n",
    "A = list(map(int, input().split()))\n",
    "A.append(W)\n",
    "b = int(input())\n",
    "B = list(map(int, input().split()))\n",
    "B.append(H)\n",
    "min_ans = int(1e18)\n",
    "max_ans = 0\n",
    "flag = False\n",
    "if (a+1)*(b+1)<=N:\n",
    "    F = [[False]*(b+1) for _ in range(a+1)]\n",
    "    flag = True\n",
    "for p, q in S:\n",
    "    idx1 = bisect.bisect_left(A, p)\n",
    "    w = A[idx1]\n",
    "    idx2 = bisect.bisect_left(B, q)\n",
    "    h = B[idx2]\n",
    "    dic[(h, w)] += 1\n",
    "    if flag:\n",
    "        F[idx1][idx2]=True\n",
    "for key in dic.keys():\n",
    "    min_ans = min(min_ans, dic[key])\n",
    "    max_ans = max(max_ans, dic[key])\n",
    "        \n",
    "if flag:\n",
    "    for i in range(a+1):\n",
    "        if sum(F[i])!=b+1:\n",
    "            min_ans = 0\n",
    "            break\n",
    "else:\n",
    "    min_ans = 0\n",
    "ans = [min_ans, max_ans]\n",
    "print(*ans)\n",
    "    \n",
    "    "
   ]
  },
  {
   "cell_type": "code",
   "execution_count": 122,
   "id": "fd01adfc-9429-4287-893a-999310b2e00d",
   "metadata": {
    "tags": []
   },
   "outputs": [
    {
     "data": {
      "text/plain": [
       "{(103465789, 234544356): 1}"
      ]
     },
     "execution_count": 122,
     "metadata": {},
     "output_type": "execute_result"
    }
   ],
   "source": [
    "# 221 D, 累積和DP。数列の組み合わせを考えるとき、その位置で取りうる値以外を全て0に更新して、\n",
    "# それを上限まで累積する、という手法を繰り返す\n",
    "mod = 998244353\n",
    "N = int(input())\n",
    "A = list(map(int, input().split()))\n",
    "B = list(map(int, input().split()))\n",
    "M = 3000\n",
    "dp = [1] * (M + 1)\n",
    "for i in range(N):\n",
    "  nx = [0] * (M + 1)\n",
    "  for j in range(A[i], B[i] + 1):\n",
    "    nx[j] = dp[j]\n",
    "  dp = nx\n",
    "  for i in range(M):\n",
    "    dp[i + 1] += dp[i]\n",
    "    dp[i + 1] %= mod\n",
    "print(dp[M])"
   ]
  },
  {
   "cell_type": "code",
   "execution_count": 107,
   "id": "72a6cd2d-551a-4b0e-bbf4-b4c4b7181c9c",
   "metadata": {
    "tags": []
   },
   "outputs": [
    {
     "name": "stdout",
     "output_type": "stream",
     "text": [
      "343 ns ± 1.63 ns per loop (mean ± std. dev. of 7 runs, 1,000,000 loops each)\n"
     ]
    }
   ],
   "source": [
    "# JOI 14 B ケーキの切り分け　区間DPの基本的問題\n",
    "N = int(input())\n",
    "A = [int(input()) for _ in range(N)]\n",
    "\n",
    "def n(x):\n",
    "    return x + 1 if x != N - 1 else 0\n",
    "def p(x):\n",
    "    return x - 1 if x != 0 else N - 1\n",
    "\n",
    "# 残り (l, r) のときJOI君が最終的に取れるピースの大きさの合計の最大値\n",
    "dp = [[0] * N for _ in range(N)]\n",
    "for gap in range(N):\n",
    "    for l in range(N):\n",
    "        r = (l + gap) % N\n",
    "        if (N - gap) % 2: # JOI\n",
    "            dp[l][r] = max(dp[n(l)][r] + A[l], dp[l][p(r)] + A[r])\n",
    "        else: # IOI\n",
    "            if A[l] < A[r]:\n",
    "                dp[l][r] = dp[l][p(r)]\n",
    "            else:\n",
    "                dp[l][r] = dp[n(l)][r]\n",
    "\n",
    "print(max(max(d) for d in dp))"
   ]
  },
  {
   "cell_type": "code",
   "execution_count": 112,
   "id": "799ece74-883a-43a5-b33f-bae5723ac454",
   "metadata": {
    "tags": []
   },
   "outputs": [],
   "source": [
    "# 370 E 累積和DP？\n",
    "from collections import defaultdict\n",
    "\n",
    "MOD=998244353\n",
    "\n",
    "n,k=map(int,input().split())\n",
    "A=list(map(int,input().split()))\n",
    "\n",
    "acc=[0]*(n+1)\n",
    "for i in range(n):\n",
    "  acc[i+1]=(acc[i]+A[i])\n",
    "\n",
    "dd=defaultdict(int)\n",
    "dd[0]=1\n",
    "tot=1\n",
    "dp=[0]*(n+1)\n",
    "dp[0]=1\n",
    "for i in range(1,n+1):\n",
    "  dp[i]=(tot-dd[acc[i]-k])%MOD\n",
    "  \n",
    "  dd[acc[i]]=(dd[acc[i]]+dp[i])%MOD\n",
    "  tot=(tot+dp[i])%MOD\n",
    "  \n",
    "print(dp[n]%MOD)"
   ]
  },
  {
   "cell_type": "code",
   "execution_count": 4,
   "id": "262076e8-ee3d-4e8f-8268-765f3af34b9c",
   "metadata": {
    "tags": []
   },
   "outputs": [
    {
     "name": "stdin",
     "output_type": "stream",
     "text": [
      " 24\n",
      " SPRPSRRRRRPPRPRPSSRSPRSS\n"
     ]
    },
    {
     "name": "stdout",
     "output_type": "stream",
     "text": [
      "18\n"
     ]
    }
   ],
   "source": [
    "# 365 D janken\n",
    "# DP[i回目の勝負で][R or P or Sを出した時の最大勝利数]\n",
    "\n",
    "N = int(input())\n",
    "S = input()\n",
    "\n",
    "dp = [[0]*3 for _ in range(N+1)]\n",
    "for i in range(N):\n",
    "    if S[i]=='R':\n",
    "        dp[i+1][1] = max(dp[i][0]+1, dp[i][2]+1)\n",
    "        dp[i+1][0] = max(dp[i][1], dp[i][2])\n",
    "    elif S[i]=='P':\n",
    "        dp[i+1][2] = max(dp[i][0]+1, dp[i][1]+1)\n",
    "        dp[i+1][1] = max(dp[i][0], dp[i][2])\n",
    "    else:\n",
    "        dp[i+1][0] = max(dp[i][1]+1, dp[i][2]+1)\n",
    "        dp[i+1][2] = max(dp[i][0], dp[i][1])\n",
    "print(max(dp[N]))        "
   ]
  },
  {
   "cell_type": "code",
   "execution_count": null,
   "id": "64972dc6-f100-4fbf-bacd-6c3f4b060c0a",
   "metadata": {},
   "outputs": [],
   "source": [
    "N, M = map(int, input().split())\n",
    "A = [True]*N\n",
    "for _ in range(M):\n",
    "    a = int(input())\n",
    "    A[a]=False\n",
    "dp = [0]*(N+1)\n",
    "mod = 1000000007\n",
    "\n",
    "for i in range(1, N):\n",
    "    if i==1:\n",
    "        if A[i-1]:\n",
    "            dp[i] = 1\n",
    "        if A[i]:\n",
    "            dp[i+1] = 1\n",
    "    else\n",
    "        if i+2<=N:\n",
    "            if A[i-1] and A[i+1]:\n",
    "                \n",
    "    if i+1<=N:\n",
    "        if A[i] and A[i+1]:\n",
    "            dp[i+1] += dp[i]%mod"
   ]
  }
 ],
 "metadata": {
  "kernelspec": {
   "display_name": "Python 3 (ipykernel)",
   "language": "python",
   "name": "python3"
  },
  "language_info": {
   "codemirror_mode": {
    "name": "ipython",
    "version": 3
   },
   "file_extension": ".py",
   "mimetype": "text/x-python",
   "name": "python",
   "nbconvert_exporter": "python",
   "pygments_lexer": "ipython3",
   "version": "3.11.4"
  }
 },
 "nbformat": 4,
 "nbformat_minor": 5
}
