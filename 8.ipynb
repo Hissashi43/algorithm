{
 "cells": [
  {
   "cell_type": "code",
   "execution_count": 4,
   "id": "25789b69-ed2e-4a8d-b5eb-bda38086cbba",
   "metadata": {},
   "outputs": [
    {
     "name": "stdin",
     "output_type": "stream",
     "text": [
      " 5\n",
      " 1 futuremap\n",
      " 1 howtospeak\n",
      " 2\n"
     ]
    },
    {
     "name": "stdout",
     "output_type": "stream",
     "text": [
      "howtospeak\n"
     ]
    },
    {
     "name": "stdin",
     "output_type": "stream",
     "text": [
      " 3\n",
      " 2\n"
     ]
    },
    {
     "name": "stdout",
     "output_type": "stream",
     "text": [
      "futuremap\n"
     ]
    }
   ],
   "source": [
    "#A51スタック\n",
    "from collections import deque\n",
    "\n",
    "Q = int(input())\n",
    "S = deque()\n",
    "for i in range(Q):\n",
    "    query = list(map(str, input().split()))\n",
    "    if query[0]==\"1\":\n",
    "        S.append(query[1])\n",
    "    elif query[0]==\"2\":\n",
    "        ans = S[-1]\n",
    "        print(ans)\n",
    "    elif query[0]==\"3\":\n",
    "        S.pop()\n"
   ]
  },
  {
   "cell_type": "code",
   "execution_count": 10,
   "id": "14074bbe-d289-4941-9c6f-1fc0bd3e458b",
   "metadata": {},
   "outputs": [
    {
     "name": "stdin",
     "output_type": "stream",
     "text": [
      " (())()\n"
     ]
    },
    {
     "name": "stdout",
     "output_type": "stream",
     "text": [
      "2 3\n",
      "1 4\n",
      "5 6\n"
     ]
    }
   ],
   "source": [
    "# B51\n",
    "from collections import deque\n",
    "\n",
    "S = input()\n",
    "tmp = deque()\n",
    "for i in range(len(S)):\n",
    "    if S[i]==\"(\":\n",
    "        tmp.append(i)\n",
    "    else:\n",
    "        print(f'{tmp[-1]+1} {i+1}')\n",
    "        tmp.pop()"
   ]
  },
  {
   "cell_type": "code",
   "execution_count": 45,
   "id": "47de3cb5-b3f9-40bb-8abd-2bb783505b5d",
   "metadata": {},
   "outputs": [
    {
     "name": "stdin",
     "output_type": "stream",
     "text": [
      " 5\n",
      " 1 taro\n",
      " 1 hanako\n",
      " 2\n"
     ]
    },
    {
     "name": "stdout",
     "output_type": "stream",
     "text": [
      "taro\n"
     ]
    },
    {
     "name": "stdin",
     "output_type": "stream",
     "text": [
      " 3\n",
      " 2\n"
     ]
    },
    {
     "name": "stdout",
     "output_type": "stream",
     "text": [
      "hanako\n"
     ]
    }
   ],
   "source": [
    "# A52 キュー\n",
    "from collections import deque\n",
    "\n",
    "Q = int(input())\n",
    "que = deque()\n",
    "for i in range(Q):\n",
    "    query = list(map(str, input().split()))\n",
    "    if query[0] == \"1\":\n",
    "        que.append(query[1])\n",
    "    elif query[0] == \"2\":\n",
    "        print(que[0])\n",
    "    else:\n",
    "        que.popleft()"
   ]
  },
  {
   "cell_type": "code",
   "execution_count": 6,
   "id": "e3a6633e-d517-476f-ba96-e7d2f2d90f46",
   "metadata": {},
   "outputs": [
    {
     "name": "stdin",
     "output_type": "stream",
     "text": [
      " 5 3\n",
      " #...#\n"
     ]
    },
    {
     "name": "stdout",
     "output_type": "stream",
     "text": [
      "#@@@#\n"
     ]
    }
   ],
   "source": [
    "# B52\n",
    "from collections import deque\n",
    "\n",
    "N, X = map(int, input().split())\n",
    "A = list(input())\n",
    "X -= 1\n",
    "A[X] = \"@\"\n",
    "q = deque()\n",
    "q.append(X)\n",
    "\n",
    "while len(q)>0:\n",
    "    item = q.popleft()\n",
    "    if item-1 >= 0 and A[item-1]==\".\":\n",
    "        A[item-1]=\"@\"\n",
    "        q.append(item-1)\n",
    "    if item+1 < len(A) and A[item+1]==\".\":\n",
    "        A[item+1]=\"@\"\n",
    "        q.append(item+1)\n",
    "        \n",
    "print(''.join(map(str, A)))"
   ]
  },
  {
   "cell_type": "code",
   "execution_count": 11,
   "id": "1517f57c-d9eb-418e-9a70-b6dc8162c45a",
   "metadata": {},
   "outputs": [
    {
     "name": "stdin",
     "output_type": "stream",
     "text": [
      " 3\n",
      " 1 2420\n",
      " 1 1650\n",
      " 2\n"
     ]
    },
    {
     "name": "stdout",
     "output_type": "stream",
     "text": [
      "1650\n"
     ]
    }
   ],
   "source": [
    "# A53\n",
    "import heapq\n",
    "\n",
    "Q = int(input())\n",
    "q = []\n",
    "for i in range(Q):\n",
    "    x = list(map(int, input().split()))\n",
    "    if x[0]==1:\n",
    "        heapq.heappush(q, x[1])\n",
    "    elif x[0]==2:\n",
    "            print(q[0])\n",
    "    else:\n",
    "        heapq.heappop(q)\n"
   ]
  },
  {
   "cell_type": "code",
   "execution_count": 26,
   "id": "96ecdec5-f079-4080-9fb2-34e6b0c8217d",
   "metadata": {},
   "outputs": [
    {
     "name": "stdin",
     "output_type": "stream",
     "text": [
      " 5 4\n",
      " 1 1\n",
      " 2 4\n",
      " 2 3\n",
      " 3 4\n",
      " 4 2\n"
     ]
    },
    {
     "name": "stdout",
     "output_type": "stream",
     "text": [
      "12\n"
     ]
    }
   ],
   "source": [
    "# B39\n",
    "import heapq\n",
    "n,d = map(int,input().split())\n",
    "l = [list() for i in range(d)]\n",
    "for i in range(n):\n",
    "    x,y = map(int,input().split())\n",
    "    l[x-1].append(-1*y)\n",
    " \n",
    "s = []\n",
    "ans = 0\n",
    "for i in range(d):\n",
    "    for item in l[i]:\n",
    "        heapq.heappush(s,item)\n",
    "    if len(s)>0:\n",
    "        tmp = heapq.heappop(s)\n",
    "        ans += -1*tmp\n",
    "print(ans)"
   ]
  },
  {
   "cell_type": "code",
   "execution_count": 29,
   "id": "67dff1e4-3e23-4586-a6ae-9019e8d0a85c",
   "metadata": {},
   "outputs": [
    {
     "name": "stdin",
     "output_type": "stream",
     "text": [
      " 3\n",
      " 1 tanaka 49\n",
      " 1 suzuki 50\n",
      " 2 tanaka\n"
     ]
    },
    {
     "name": "stdout",
     "output_type": "stream",
     "text": [
      "49\n"
     ]
    }
   ],
   "source": [
    "# A54\n",
    "q = int(input())\n",
    "dic = {}\n",
    "for i in range(q):\n",
    "    s = list(map(str, input().split()))\n",
    "    if s[0]==\"1\":\n",
    "        dic[s[1]] = int(s[2])\n",
    "    else:\n",
    "        print(int(dic[s[1]]))\n"
   ]
  },
  {
   "cell_type": "code",
   "execution_count": 33,
   "id": "a1c194ca-47c7-43a9-8203-0d949f495ca7",
   "metadata": {},
   "outputs": [
    {
     "name": "stdin",
     "output_type": "stream",
     "text": [
      " 6\n",
      " 30\n",
      " 10\n",
      " 30\n",
      " 20\n",
      " 10\n",
      " 30\n"
     ]
    },
    {
     "name": "stdout",
     "output_type": "stream",
     "text": [
      "4\n"
     ]
    }
   ],
   "source": [
    "import math\n",
    "\n",
    "N = int(input())\n",
    "dic = {}\n",
    "ans = 0\n",
    "for i in range(N):\n",
    "    a = int(input())\n",
    "    if a not in dic:\n",
    "        dic[a] = 1\n",
    "    else:\n",
    "        dic[a] += 1\n",
    "for key in dic:\n",
    "    if dic[key]>1:\n",
    "        tmp = dic[key]\n",
    "        ans += math.comb(tmp, 2)\n",
    "print(ans)"
   ]
  },
  {
   "cell_type": "code",
   "execution_count": null,
   "id": "962b074d-9197-4300-9292-b338078da244",
   "metadata": {},
   "outputs": [],
   "source": [
    "# A56\n",
    "N, Q = map(int, input().split())\n",
    "s_ = input()\n",
    "s = list(map(lambda c: ord(c) - ord('a'), s_))\n",
    " \n",
    "mod = 2147483647\n",
    " \n",
    "power100 = [None] * (N+1)\n",
    "power100[0] = 1\n",
    "for i in range(N):\n",
    "    power100[i+1] = power100[i] * 100 % mod\n",
    " \n",
    "H = [None] * (N+1)\n",
    "H[0] = 0\n",
    "for i in range(N):\n",
    "    H[i+1] = (H[i] * 100 + s[i]) % mod\n",
    " \n",
    " \n",
    "def hash_value(l, r):\n",
    "    return (H[r] - H[l-1] * power100[r-l+1]) % mod\n",
    " \n",
    " \n",
    "for _ in range(Q):\n",
    "    a, b, c, d = map(int, input().split())\n",
    "    hash1 = hash_value(a, b)\n",
    "    hash2 = hash_value(c, d)\n",
    "    if hash1 == hash2:\n",
    "        print('Yes')\n",
    "    else:\n",
    "        print('No')\n"
   ]
  },
  {
   "cell_type": "code",
   "execution_count": 123,
   "id": "8ab34e15-9839-457f-969c-c187726fae42",
   "metadata": {},
   "outputs": [
    {
     "name": "stdin",
     "output_type": "stream",
     "text": [
      " 11 3\n",
      " mississippi\n",
      " 5 8\n"
     ]
    },
    {
     "name": "stdout",
     "output_type": "stream",
     "text": [
      "Yes\n"
     ]
    },
    {
     "name": "stdin",
     "output_type": "stream",
     "text": [
      " 6 10\n"
     ]
    },
    {
     "name": "stdout",
     "output_type": "stream",
     "text": [
      "No\n"
     ]
    },
    {
     "name": "stdin",
     "output_type": "stream",
     "text": [
      " 2 8\n"
     ]
    },
    {
     "name": "stdout",
     "output_type": "stream",
     "text": [
      "Yes\n"
     ]
    }
   ],
   "source": [
    "# A56\n",
    "N, Q = map(int, input().split())\n",
    "s_ = input()\n",
    "s = list(map(lambda c: ord(c) - ord('a'), s_))\n",
    "rs = s[::-1]\n",
    " \n",
    "mod = 2147483647\n",
    " \n",
    "power100 = [None] * (N+1)\n",
    "power100[0] = 1\n",
    "for i in range(N):\n",
    "    power100[i+1] = power100[i] * 100 % mod\n",
    " \n",
    "H = [None] * (N+1)\n",
    "H[0] = 0\n",
    "for i in range(N):\n",
    "    H[i+1] = (H[i] * 100 + s[i]) % mod\n",
    "rH = [None] * (N+1)\n",
    "rH[0] = 0\n",
    "for i in range(N):\n",
    "    rH[i+1] = (rH[i] * 100 + rs[i]) % mod\n",
    " \n",
    "def hash_value(l, r):\n",
    "    if l<r:\n",
    "        return (H[r] - H[l-1] * power100[r-l+1]) % mod\n",
    "\n",
    "def hash_r(l, r):\n",
    "    l, r = N+1-r, N+1-l\n",
    "    return (rH[r] - rH[l-1] * power100[r-l+1]) % mod\n",
    "\n",
    " \n",
    "for _ in range(Q):\n",
    "    a, b = map(int, input().split())\n",
    "    hash1 = hash_value(a, b)\n",
    "    hash2 = hash_r(a, b)\n",
    "    if hash1 == hash2:\n",
    "        print('Yes')\n",
    "    else:\n",
    "        print('No')"
   ]
  },
  {
   "cell_type": "code",
   "execution_count": 137,
   "id": "c3021b09-fcd2-4fb1-9af5-41032e3f3257",
   "metadata": {},
   "outputs": [
    {
     "name": "stdin",
     "output_type": "stream",
     "text": [
      " 7 4\n",
      " 2 4 1 7 6 5 3\n",
      " 1 1\n"
     ]
    },
    {
     "name": "stdout",
     "output_type": "stream",
     "text": [
      "2\n"
     ]
    },
    {
     "name": "stdin",
     "output_type": "stream",
     "text": [
      " 1 5\n"
     ]
    },
    {
     "name": "stdout",
     "output_type": "stream",
     "text": [
      "1\n"
     ]
    },
    {
     "name": "stdin",
     "output_type": "stream",
     "text": [
      " 2 13\n"
     ]
    },
    {
     "name": "stdout",
     "output_type": "stream",
     "text": [
      "3\n"
     ]
    },
    {
     "name": "stdin",
     "output_type": "stream",
     "text": [
      " 5 999999999\n"
     ]
    },
    {
     "name": "stdout",
     "output_type": "stream",
     "text": [
      "6\n"
     ]
    }
   ],
   "source": [
    "# A57 ダブリング\n",
    "n, q = map(int, input().split())\n",
    "A = list(map(int, input().split()))\n",
    "A = list(map(lambda x: x-1, A))\n",
    "dp = [[0]*n for _ in range(30)]\n",
    "for i in range(30):\n",
    "    for j in range(n):\n",
    "        if i == 0:\n",
    "            dp[i][j] = A[j]\n",
    "        else:\n",
    "            dp[i][j] = dp[i-1][dp[i-1][j]]\n",
    "for _ in range(q):\n",
    "    que = list(map(int, input().split()))\n",
    "    cl = que[0]-1\n",
    "    for j in range(30):\n",
    "        if que[1]>>j&1:\n",
    "            cl = dp[j][cl]\n",
    "    print(cl+1)"
   ]
  },
  {
   "cell_type": "code",
   "execution_count": 146,
   "id": "41e8d2e7-0a94-4785-93a4-15b30e6cfb16",
   "metadata": {},
   "outputs": [
    {
     "name": "stdin",
     "output_type": "stream",
     "text": [
      " 10 1\n"
     ]
    },
    {
     "name": "stdout",
     "output_type": "stream",
     "text": [
      "0\n",
      "0\n",
      "0\n",
      "0\n",
      "0\n",
      "0\n",
      "0\n",
      "0\n",
      "0\n",
      "9\n"
     ]
    }
   ],
   "source": [
    "# B57 \n",
    "n, k = map(int, input().split())\n",
    "# def calc(x):\n",
    "#     while x:\n",
    "#         digit_sum += x%10\n",
    "#         x //= 10\n",
    "#         return digit_sum\n",
    "dp = [[0]*(n+1) for _ in range(30)]\n",
    "for i in range(n+1):\n",
    "    dp[0][i] = i - sum(map(int, str(i)))\n",
    "for i in range(29):\n",
    "    for j in range(n+1):\n",
    "        dp[i+1][j] = dp[i][dp[i][j]]\n",
    "for i in range(1, n+1):\n",
    "    ans = i\n",
    "    for d in range(30):\n",
    "        if (1<<d)&k:\n",
    "            ans = dp[d][ans]\n",
    "    print(ans)\n"
   ]
  },
  {
   "cell_type": "code",
   "execution_count": 149,
   "id": "ee01b7a2-593a-47b3-ae98-4b911dcc7648",
   "metadata": {},
   "outputs": [
    {
     "name": "stdin",
     "output_type": "stream",
     "text": [
      " 8 4\n",
      " 1 3 16\n",
      " 2 4 7\n",
      " 1 5 13\n",
      " 2 4 7\n"
     ]
    },
    {
     "name": "stdout",
     "output_type": "stream",
     "text": [
      "0\n",
      "13\n"
     ]
    }
   ],
   "source": [
    "# A58 セグメント木\n",
    "class segtree:\n",
    "    def __init__(self, n):\n",
    "        self.size = 1\n",
    "        while self.size < n:\n",
    "            self.size *= 2\n",
    "        self.dat = [0] * (self.size * 2)\n",
    "        \n",
    "    def update(self, pos, x):\n",
    "        pos += self.size\n",
    "        self.dat[pos] = x\n",
    "        while pos >= 2:\n",
    "            pos //= 2\n",
    "            self.dat[pos] = max(self.dat[pos*2], self.dat[pos*2+1])\n",
    " \n",
    "    def query(self, l, r, a, b, u):\n",
    "        if r <= a or b <= l:\n",
    "            return -1.0e9\n",
    "        if l <= a and b <= r:\n",
    "            return self.dat[u]\n",
    "        m = (a+b) // 2\n",
    "        answer_l = self.query(l, r, a, m, u*2)\n",
    "        answer_r = self.query(l, r, m, b, u*2+1)\n",
    "        return max(answer_l, answer_r)\n",
    "\n",
    "n, q = map(int, input().split())\n",
    "ques = [list(map(int, input().split())) for _ in range(q)]\n",
    "\n",
    "z = segtree(n)\n",
    "for que in ques:\n",
    "    tp, *cont = que\n",
    "    if tp==1:\n",
    "        pos, x = cont\n",
    "        z.update(pos-1, x)\n",
    "    else:\n",
    "        l, r = cont\n",
    "        print(z.query(l-1, r-1, 0, z.size, 1))"
   ]
  },
  {
   "cell_type": "code",
   "execution_count": 152,
   "id": "edf5fc94-76c7-4d82-92af-9f6bc31ccaa5",
   "metadata": {},
   "outputs": [
    {
     "name": "stdin",
     "output_type": "stream",
     "text": [
      " 5 20 40\n",
      " 0 20 30 60 70\n"
     ]
    },
    {
     "name": "stdout",
     "output_type": "stream",
     "text": [
      "2\n"
     ]
    }
   ],
   "source": [
    "# B58\n",
    "import bisect\n",
    "\n",
    "def update(pos, x):\n",
    "    pos = pos + siz - 1\n",
    "    dat[pos - 1] = x\n",
    "    while 1 < pos:\n",
    "        pos //= 2\n",
    "        dat[pos - 1] = min(dat[pos * 2 - 1], dat[pos * 2])\n",
    "    \n",
    "def query(l, r, a, b, u):\n",
    "    if r <= a or b <= l:\n",
    "        return 100000\n",
    "    if l <= a and b <= r:\n",
    "        return dat[u - 1]\n",
    "    m = (a + b) // 2\n",
    "    answer_l = query(l, r, a, m, u * 2)\n",
    "    answer_r = query(l, r, m, b, u * 2 + 1)\n",
    "    return min(answer_l, answer_r)\n",
    "\n",
    "\n",
    "n, l, r = map(int, input().split())\n",
    "X = list(map(int, input().split()))\n",
    "\n",
    "siz = 1\n",
    "while siz < n:\n",
    "    siz <<= 1\n",
    "dat = [100000] * (2 * siz - 1)\n",
    "\n",
    "dp = [0]\n",
    "update(1, 0)\n",
    "\n",
    "for i in range(1, n):\n",
    "    pos_l = bisect.bisect_left(X, X[i] - r) + 1\n",
    "    pos_r = bisect.bisect_right(X, X[i] - l) + 1\n",
    "    dp.append(query(pos_l, pos_r, 1, siz+1, 1) + 1)\n",
    "    dat[i + siz - 1] = dp[i]\n",
    "    update(i + 1, dp[i])\n",
    "    \n",
    "print(dp[n - 1])\n",
    "# dp = [INF]*n\n",
    "# dp[0] = True\n",
    "# for i in range(1, n+1):\n",
    "#     for j in range(n):\n",
    "#         if X[i-1][j]"
   ]
  },
  {
   "cell_type": "code",
   "execution_count": 160,
   "id": "4a664a51-2712-4b9e-a870-6ed746807075",
   "metadata": {},
   "outputs": [
    {
     "name": "stdin",
     "output_type": "stream",
     "text": [
      " 8 4\n",
      " 1 3 16\n",
      " 1 6 24\n",
      " 2 4 8\n",
      " 2 1 7\n"
     ]
    },
    {
     "name": "stdout",
     "output_type": "stream",
     "text": [
      "24\n",
      "40\n"
     ]
    }
   ],
   "source": [
    "# A59 セグメント木 RSQ\n",
    "\n",
    "class segtreesum:\n",
    "    def __init__(self, n):\n",
    "        self.size = 1\n",
    "        while self.size < n:\n",
    "            self.size *= 2\n",
    "        self.dat = [0] * (self.size * 2)\n",
    "        \n",
    "    def update(self, pos, x):\n",
    "        pos += self.size\n",
    "        self.dat[pos] = x\n",
    "        while pos >= 2:\n",
    "            pos //= 2\n",
    "            self.dat[pos] = self.dat[pos*2] + self.dat[pos*2+1]\n",
    " \n",
    "    def query(self, l, r, a, b, u):\n",
    "        if r <= a or b <= l:\n",
    "            return 0\n",
    "        if l <= a and b <= r:\n",
    "            return self.dat[u]\n",
    "        m = (a+b) // 2\n",
    "        answer_l = self.query(l, r, a, m, u*2)\n",
    "        answer_r = self.query(l, r, m, b, u*2+1)\n",
    "        return answer_l + answer_r\n",
    "\n",
    "n, q = map(int, input().split())\n",
    "ques = [list(map(int, input().split())) for _ in range(q)]\n",
    "\n",
    "z = segtreesum(n)\n",
    "for que in ques:\n",
    "    tp, *cont = que\n",
    "    if tp==1:\n",
    "        pos, x = cont\n",
    "        z.update(pos-1, x)\n",
    "    else:\n",
    "        l, r = cont\n",
    "        print(z.query(l-1, r-1, 0, z.size, 1))"
   ]
  },
  {
   "cell_type": "code",
   "execution_count": 173,
   "id": "15c70d28-f0ca-4506-8ebc-0ccf4611d849",
   "metadata": {},
   "outputs": [
    {
     "name": "stdin",
     "output_type": "stream",
     "text": [
      " 6\n",
      " 6 2 5 3 1 4\n"
     ]
    },
    {
     "name": "stdout",
     "output_type": "stream",
     "text": [
      "-1 1 1 3 4 3\n"
     ]
    }
   ],
   "source": [
    "# A60\n",
    "from collections import deque\n",
    "n = int(input())\n",
    "A = list(map(int, input().split()))\n",
    "stack = deque()\n",
    "tmp = (1, A[0])\n",
    "ans = [-1]\n",
    "for i in range(1, n):\n",
    "    stack.append(tmp)\n",
    "    tmp = (i+1, A[i])\n",
    "    while len(stack)>0 and stack[-1][1]<=tmp[1]:\n",
    "        stack.pop()\n",
    "    if len(stack)==0:\n",
    "        ans.append(-1)\n",
    "    else:\n",
    "        ans.append(stack[-1][0])\n",
    " \n",
    "print(' '.join(map(str, ans)))\n"
   ]
  },
  {
   "cell_type": "code",
   "execution_count": 174,
   "id": "4d000161-50a3-44e3-9a6b-ee14376cc5bd",
   "metadata": {},
   "outputs": [
    {
     "name": "stdout",
     "output_type": "stream",
     "text": [
      "-1 1 1 3 4 3\n"
     ]
    }
   ],
   "source": [
    "print(*ans)"
   ]
  },
  {
   "cell_type": "code",
   "execution_count": 38,
   "id": "4fe88561-e7c6-4d2e-87be-019f66d08471",
   "metadata": {},
   "outputs": [
    {
     "name": "stdin",
     "output_type": "stream",
     "text": [
      " 5\n",
      " 01010\n",
      " 01001\n",
      " 10110\n",
      " 00110\n",
      " 01010\n"
     ]
    },
    {
     "name": "stdout",
     "output_type": "stream",
     "text": [
      "00101\n",
      "11000\n",
      "00111\n",
      "00110\n",
      "10100\n"
     ]
    }
   ],
   "source": [
    "import copy\n",
    "\n",
    "N = int(input())\n",
    "A = []\n",
    "for _ in range(N):\n",
    "    A.append(list(input()))\n",
    "ans = copy.deepcopy(A)\n",
    "u = []\n",
    "u.append(A[1][0])\n",
    "for i in range(N-1):\n",
    "    u.append(A[0][i])\n",
    "l = []\n",
    "for i in range(2, N):\n",
    "    l.append(A[i][0])\n",
    "d = []\n",
    "for i in range(1, N):\n",
    "    d.append(A[N-1][i])\n",
    "d.append(A[N-2][N-1])\n",
    "r = []\n",
    "for i in range(N-2):\n",
    "    r.append(A[i][N-1])\n",
    "\n",
    "for i in range(N):\n",
    "    ans[0][i] = u[i]\n",
    "    ans[N-1][i] = d[i]\n",
    "for i in range(1, N-1):\n",
    "    ans[i][0] = l[i-1]\n",
    "    ans[i][N-1] = r[i-1]\n",
    "\n",
    "for i in range(N):\n",
    "    print(''.join(ans[i]))"
   ]
  },
  {
   "cell_type": "code",
   "execution_count": 43,
   "id": "3e196bc2-2ef3-4762-b757-34b659e91af7",
   "metadata": {},
   "outputs": [
    {
     "name": "stdin",
     "output_type": "stream",
     "text": [
      " 15 158260522\n",
      " 877914575 2436426\n",
      " 24979445 61648772\n",
      " 623690081 33933447\n",
      " 476190629 62703497\n",
      " 211047202 71407775\n",
      " 628894325 31963982\n",
      " 822804784 50968417\n",
      " 430302156 82631932\n",
      " 161735902 80895728\n",
      " 923078537 7723857\n",
      " 189330739 10286918\n",
      " 802329211 4539679\n",
      " 303238506 17063340\n",
      " 492686568 73361868\n",
      " 125660016 50287940\n"
     ]
    },
    {
     "name": "stdout",
     "output_type": "stream",
     "text": [
      "492686569\n"
     ]
    }
   ],
   "source": [
    "N, K = map(int, input().split())\n",
    "A = []\n",
    "ttl = 0\n",
    "for _ in range(N):\n",
    "    a, b = map(int, input().split())\n",
    "    A.append([a, b])\n",
    "    ttl += b\n",
    "tmp = ttl - K\n",
    "A.sort(key=lambda x: x[0])\n",
    "amt = 0\n",
    "if K >= ttl:\n",
    "    print(1)\n",
    "else:\n",
    "    for i in range(N):\n",
    "        amt += A[i][1]\n",
    "        if amt>=tmp:\n",
    "            print(A[i][0]+1)\n",
    "            break"
   ]
  },
  {
   "cell_type": "code",
   "execution_count": 33,
   "id": "4d483e09-9c01-4cfa-ba11-83b67e2a5d2b",
   "metadata": {},
   "outputs": [
    {
     "data": {
      "text/plain": [
       "[['0',\n",
       "  ['0', '1', '0', '1', '0'],\n",
       "  ['0', '1', '0', '0', '1'],\n",
       "  ['1', '0', '1', '1', '0'],\n",
       "  '0'],\n",
       " ['1', '1', '0', '0', '0'],\n",
       " ['0', '0', '1', '1', '1'],\n",
       " ['0', '0', '1', '1', '0'],\n",
       " ['1', '0', '1', '0', '0']]"
      ]
     },
     "execution_count": 33,
     "metadata": {},
     "output_type": "execute_result"
    }
   ],
   "source": [
    "n1, n2, m = map(int, input().split())\n",
    "dic = {}\n",
    "for _ in range(m):\n",
    "    a, b = map(int, input().split())\n",
    "    if a not in dic:\n",
    "        dic[a] = b\n",
    "    else:\n",
    "        dic[a].append(b)\n",
    "rest = []\n",
    "for i in range(n1+n2):\n",
    "    rest.append[True]\n",
    "ans = 0\n",
    "for i in range(1, n1):\n",
    "    if i ==1:\n",
    "        tmp = dic[i]\n",
    "        for item in tmp:\n",
    "            rest[item] = False\n",
    "        ans+=1\n",
    "    else:\n",
    "        for item in tmp:\n",
    "            tmp2 = dic[item]\n",
    "            for item in tmp2"
   ]
  },
  {
   "cell_type": "code",
   "execution_count": null,
   "id": "768743ea-a87e-4d41-8792-684e6f96b7b2",
   "metadata": {},
   "outputs": [],
   "source": []
  }
 ],
 "metadata": {
  "kernelspec": {
   "display_name": "Python 3 (ipykernel)",
   "language": "python",
   "name": "python3"
  },
  "language_info": {
   "codemirror_mode": {
    "name": "ipython",
    "version": 3
   },
   "file_extension": ".py",
   "mimetype": "text/x-python",
   "name": "python",
   "nbconvert_exporter": "python",
   "pygments_lexer": "ipython3",
   "version": "3.9.7"
  }
 },
 "nbformat": 4,
 "nbformat_minor": 5
}
