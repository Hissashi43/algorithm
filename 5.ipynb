{
 "cells": [
  {
   "cell_type": "code",
   "execution_count": null,
   "id": "5129117e-2968-494b-8943-a050195c4903",
   "metadata": {},
   "outputs": [],
   "source": [
    "def check_prime(x:int):\n",
    "    limit = int(x**0.5)\n",
    "    for i in range(2, limit+1):\n",
    "        if X%i==0:\n",
    "            return False\n",
    "    return True\n",
    "\n",
    "Q = int(input())\n",
    "for _ in range(Q):\n",
    "    x = int(input())\n",
    "    if check_prime(x):\n",
    "        print(\"Yes\")\n",
    "    else:\n",
    "        print(\"No\")"
   ]
  },
  {
   "cell_type": "code",
   "execution_count": 2,
   "id": "a76ca7de-c1b5-499d-aa05-fb2fa0693bc0",
   "metadata": {},
   "outputs": [
    {
     "name": "stdin",
     "output_type": "stream",
     "text": [
      " 4\n",
      " 17\n"
     ]
    },
    {
     "name": "stdout",
     "output_type": "stream",
     "text": [
      "Yes\n"
     ]
    },
    {
     "name": "stdin",
     "output_type": "stream",
     "text": [
      " 31\n"
     ]
    },
    {
     "name": "stdout",
     "output_type": "stream",
     "text": [
      "Yes\n"
     ]
    },
    {
     "name": "stdin",
     "output_type": "stream",
     "text": [
      " 35\n"
     ]
    },
    {
     "name": "stdout",
     "output_type": "stream",
     "text": [
      "No\n"
     ]
    },
    {
     "name": "stdin",
     "output_type": "stream",
     "text": [
      " 49\n"
     ]
    },
    {
     "name": "stdout",
     "output_type": "stream",
     "text": [
      "No\n"
     ]
    }
   ],
   "source": [
    "def check_prime(x:int):\n",
    "    limit = int(x**0.5)\n",
    "    for i in range(2, limit+1):\n",
    "        if x%i==0:\n",
    "            return False\n",
    "    return True\n",
    "\n",
    "Q = int(input())\n",
    "for _ in range(Q):\n",
    "    x = int(input())\n",
    "    if check_prime(x):\n",
    "        print(\"Yes\")\n",
    "    else:\n",
    "        print(\"No\")"
   ]
  },
  {
   "cell_type": "code",
   "execution_count": null,
   "id": "50e800ed-bdef-4eb5-a167-a212b657d0ca",
   "metadata": {},
   "outputs": [],
   "source": [
    "#sieve_of_eratosthenes\n",
    "def eratosthenes(x):\n",
    "    root = int(x**0.5)\n",
    "    nums = [i for i in range(x+1)]\n",
    "    \n",
    "    for i in range(2, root+1):\n",
    "        if nums[i]!=0:\n",
    "            for j in range(i, x+1):\n",
    "                if i*j>=x+1:\n",
    "                    break\n",
    "                nums[i*j] = 0\n",
    "    for item in nums[2:]:\n",
    "        if item!=0:\n",
    "            print(item)\n",
    "        \n",
    "x= int(input())\n",
    "eratosthenes(x)"
   ]
  },
  {
   "cell_type": "code",
   "execution_count": 37,
   "id": "8aebe5c2-dba9-4e3e-92a4-1673c81b8198",
   "metadata": {},
   "outputs": [
    {
     "name": "stdin",
     "output_type": "stream",
     "text": [
      " 998244353 1000000000\n"
     ]
    },
    {
     "name": "stdout",
     "output_type": "stream",
     "text": [
      "1\n"
     ]
    }
   ],
   "source": [
    "#A27\n",
    "A, B = map(int, input().split())\n",
    "\n",
    "while A*B!=0:\n",
    "    if A>=B:\n",
    "        A = A % B\n",
    "    else:\n",
    "        B = B % A\n",
    "    \n",
    "print(max(A, B))"
   ]
  },
  {
   "cell_type": "code",
   "execution_count": 47,
   "id": "ad57634f-6cf8-4f40-960c-20d1133393d8",
   "metadata": {},
   "outputs": [
    {
     "name": "stdin",
     "output_type": "stream",
     "text": [
      " 998244353 998244853\n"
     ]
    },
    {
     "name": "stdout",
     "output_type": "stream",
     "text": [
      "996492287418565109\n"
     ]
    }
   ],
   "source": [
    "#B27\n",
    "def LCM(x, y):\n",
    "    a = x\n",
    "    b = y\n",
    "    while x*y!=0:\n",
    "        if x>=y:\n",
    "            x = x % y\n",
    "        else:\n",
    "            y = y % x\n",
    "    gcd = max(x, y)\n",
    "    lcm = a * b // gcd\n",
    "    print(int(lcm))\n",
    "\n",
    "A, B = map(int, input().split())\n",
    "LCM(A, B)"
   ]
  },
  {
   "cell_type": "code",
   "execution_count": 49,
   "id": "a29e4767-1ed9-4970-909d-618ab372b82f",
   "metadata": {},
   "outputs": [
    {
     "name": "stdin",
     "output_type": "stream",
     "text": [
      " 4\n",
      " + 57\n"
     ]
    },
    {
     "name": "stdout",
     "output_type": "stream",
     "text": [
      "57\n"
     ]
    },
    {
     "name": "stdin",
     "output_type": "stream",
     "text": [
      " + 43\n"
     ]
    },
    {
     "name": "stdout",
     "output_type": "stream",
     "text": [
      "100\n"
     ]
    },
    {
     "name": "stdin",
     "output_type": "stream",
     "text": [
      " * 100\n"
     ]
    },
    {
     "name": "stdout",
     "output_type": "stream",
     "text": [
      "0\n"
     ]
    },
    {
     "name": "stdin",
     "output_type": "stream",
     "text": [
      " - 1\n"
     ]
    },
    {
     "name": "stdout",
     "output_type": "stream",
     "text": [
      "9999\n"
     ]
    }
   ],
   "source": [
    "#A28\n",
    "N = int(input())\n",
    "A = 0\n",
    "for i in range(N):\n",
    "    t, a = input().split()\n",
    "    a = int(a)\n",
    "    if t==\"+\":\n",
    "        A+=a\n",
    "    elif t==\"-\":\n",
    "        A-=a\n",
    "    elif t==\"*\":\n",
    "        A*=a\n",
    "    \n",
    "    if A<0:\n",
    "        A+=10000\n",
    "    A = A%10000\n",
    "    print(A%10000)"
   ]
  },
  {
   "cell_type": "code",
   "execution_count": 52,
   "id": "aa50ef48-c179-4027-8c38-dbfd0ea74055",
   "metadata": {},
   "outputs": [
    {
     "name": "stdin",
     "output_type": "stream",
     "text": [
      " 8691200\n"
     ]
    },
    {
     "name": "stdout",
     "output_type": "stream",
     "text": [
      "922041576\n"
     ]
    }
   ],
   "source": [
    "#B28\n",
    "N = int(input())\n",
    "F = [1, 1]\n",
    "for i in range(2, N):\n",
    "    f = F[i-2]%(1e09+7) + F[i-1]%(1e09+7)\n",
    "    f = int(f%(1e09+7))\n",
    "    F.append(f)\n",
    "\n",
    "    print(F[N-1])"
   ]
  },
  {
   "cell_type": "code",
   "execution_count": 59,
   "id": "5e02200f-4b3c-4417-b4dd-ee52769d5c79",
   "metadata": {},
   "outputs": [
    {
     "name": "stdin",
     "output_type": "stream",
     "text": [
      " 99\n"
     ]
    },
    {
     "name": "stdout",
     "output_type": "stream",
     "text": [
      "100\n"
     ]
    }
   ],
   "source": [
    "import numpy as np\n",
    "\n",
    "N = int(input())\n",
    "ws = np.arange(0, 101, 5)\n",
    "print(ws[np.argmin(abs(ws-N))])\n"
   ]
  },
  {
   "cell_type": "code",
   "execution_count": 85,
   "id": "4e16a206-8ac8-45fd-8dbe-28f0cf0031b5",
   "metadata": {},
   "outputs": [
    {
     "name": "stdin",
     "output_type": "stream",
     "text": [
      " A C\n"
     ]
    },
    {
     "ename": "KeyError",
     "evalue": "'A'",
     "output_type": "error",
     "traceback": [
      "\u001b[0;31m---------------------------------------------------------------------------\u001b[0m",
      "\u001b[0;31mKeyError\u001b[0m                                  Traceback (most recent call last)",
      "\u001b[0;32m/var/folders/3w/36lb6hjd11z8232vtym_3q8r0000gn/T/ipykernel_42155/3101637996.py\u001b[0m in \u001b[0;36m<module>\u001b[0;34m\u001b[0m\n\u001b[1;32m      4\u001b[0m \u001b[0;34m\u001b[0m\u001b[0m\n\u001b[1;32m      5\u001b[0m \u001b[0mp\u001b[0m\u001b[0;34m,\u001b[0m \u001b[0mq\u001b[0m \u001b[0;34m=\u001b[0m \u001b[0minput\u001b[0m\u001b[0;34m(\u001b[0m\u001b[0;34m)\u001b[0m\u001b[0;34m.\u001b[0m\u001b[0msplit\u001b[0m\u001b[0;34m(\u001b[0m\u001b[0;34m)\u001b[0m\u001b[0;34m\u001b[0m\u001b[0;34m\u001b[0m\u001b[0m\n\u001b[0;32m----> 6\u001b[0;31m \u001b[0mlocation\u001b[0m\u001b[0;34m[\u001b[0m\u001b[0mp\u001b[0m\u001b[0;34m]\u001b[0m \u001b[0;34m-\u001b[0m \u001b[0mlocation\u001b[0m\u001b[0;34m[\u001b[0m\u001b[0mq\u001b[0m\u001b[0;34m]\u001b[0m\u001b[0;34m\u001b[0m\u001b[0;34m\u001b[0m\u001b[0m\n\u001b[0m",
      "\u001b[0;31mKeyError\u001b[0m: 'A'"
     ]
    }
   ],
   "source": [
    "location = {\"index\":[\"A\", \"B\", \"C\", \"D\", \"E\", \"F\", \"G\"],\n",
    "            \"value\":[0, 3, 4, 8, 9, 14, 23]}\n",
    "\n",
    "\n",
    "p, q = input().split()\n",
    "location[p] - location[q]"
   ]
  },
  {
   "cell_type": "code",
   "execution_count": 93,
   "id": "83a8b42c-ed6d-4bdf-b9ff-76238d42a866",
   "metadata": {},
   "outputs": [
    {
     "name": "stdin",
     "output_type": "stream",
     "text": [
      " G B\n"
     ]
    },
    {
     "name": "stdout",
     "output_type": "stream",
     "text": [
      "20\n"
     ]
    }
   ],
   "source": [
    "A, B, C, D, E, F, G = 0, 1, 2, 3, 4, 5, 6\n",
    "location = [0, 3, 4, 8, 9, 14, 23]\n",
    "p, q = input().split()\n",
    "p_idx = ord(p) - ord('A')\n",
    "q_idx = ord(q) - ord('A')\n",
    "print(abs(for i in range(1, M+1):\n",
    "    for j in range(2**N):\n",
    "        already = [None] * N\n",
    "        for k in range(N):\n",
    "            if (j//(2**k))%2==0:\n",
    "                already[k]=0\n",
    "            else:\n",
    "                already[k]=1[p_idx] - location[q_idx]))"
   ]
  },
  {
   "cell_type": "code",
   "execution_count": 12,
   "id": "88543a02-2b83-4486-ad62-76f11764693c",
   "metadata": {},
   "outputs": [
    {
     "name": "stdin",
     "output_type": "stream",
     "text": [
      " 97 998244353\n"
     ]
    },
    {
     "name": "stdout",
     "output_type": "stream",
     "text": [
      "473901255\n"
     ]
    }
   ],
   "source": [
    "a, b = input().split()\n",
    "a = int(a)\n",
    "b = int(b)\n",
    "answer = 1\n",
    "p = a\n",
    "for i in range(30):\n",
    "    if b >> i & 1 == 1:\n",
    "        answer = (answer*p)%(1e09+7)\n",
    "    p = p*p%(1e09+7)\n",
    "        \n",
    "print(int(answer%(1e09+7)))"
   ]
  },
  {
   "cell_type": "code",
   "execution_count": 16,
   "id": "59677dc8-da0e-46e3-8f9c-d87a9a81ac21",
   "metadata": {},
   "outputs": [
    {
     "name": "stdin",
     "output_type": "stream",
     "text": [
      " 123456789 123456789012345678\n"
     ]
    },
    {
     "name": "stdout",
     "output_type": "stream",
     "text": [
      "3599437\n"
     ]
    }
   ],
   "source": [
    "def power(a:int, b:int, mod:int):\n",
    "    p = int(a)\n",
    "    ans = int(1)\n",
    "    for i in range(60):\n",
    "        wari = 1 << i\n",
    "        if (b//wari) % 2 == 1:\n",
    "            ans = (ans * p) % mod\n",
    "        p = (p*p) % mod\n",
    "    return ans\n",
    " \n",
    "a, b = map(int, input().split())\n",
    "print(power(a, b, 1000000007))"
   ]
  },
  {
   "cell_type": "code",
   "execution_count": null,
   "id": "c29e4ad1-ab92-48d4-a5d2-37059bf5879b",
   "metadata": {},
   "outputs": [
    {
     "name": "stdin",
     "output_type": "stream",
     "text": [
      " 1000000000 141421\n"
     ]
    }
   ],
   "source": [
    "mod = 1000000007\n",
    "n, r = map(int, input().split())\n",
    "a = 1\n",
    "for i in range(1, n+1):\n",
    "    a = a*i%mod\n",
    "b = 1\n",
    "for i in range(1, r+1):\n",
    "    b = b*i%mod\n",
    "for i in range(1, n-r+1):\n",
    "    b = b*i%mod\n",
    "print(a * pow(b, mod-2, mod) % mod)\n"
   ]
  },
  {
   "cell_type": "code",
   "execution_count": 64,
   "id": "58ef2664-3cf6-40fa-9438-756fdc807215",
   "metadata": {},
   "outputs": [
    {
     "name": "stdin",
     "output_type": "stream",
     "text": [
      " 5 10\n"
     ]
    },
    {
     "name": "stdout",
     "output_type": "stream",
     "text": [
      "715\n"
     ]
    }
   ],
   "source": [
    "mod = 1000000007\n",
    "H, W = map(int, input().split())\n",
    "n = H+W-2\n",
    "a = 1\n",
    "for i in range(1, H+W-2+1):\n",
    "    a = (a*i)%mod\n",
    "b = 1\n",
    "for i in range(1, W-1+1):\n",
    "    b = (b*i)%mod\n",
    "for i in range(1, H+W-2-(W-1)+1):\n",
    "    b = (b*i)%mod\n",
    "print(a * pow(b, mod-2, mod) % mod)"
   ]
  },
  {
   "cell_type": "code",
   "execution_count": 58,
   "id": "97700afa-066a-4c26-aae2-5e299770eb8b",
   "metadata": {},
   "outputs": [
    {
     "name": "stdin",
     "output_type": "stream",
     "text": [
      " 5 10\n"
     ]
    },
    {
     "name": "stdout",
     "output_type": "stream",
     "text": [
      "715\n"
     ]
    }
   ],
   "source": [
    "h, w = map(int, input().split())\n",
    "m = 1000000007\n",
    " \n",
    "a = 1\n",
    "for i in range(1, h+w-2+1):\n",
    "    a = (a * i) % m\n",
    " \n",
    "b = 1\n",
    "for i in range(1, w-1+1):\n",
    "    b = (b * i) % m\n",
    "for i in range(1, h+w-2-(w-1)+1):\n",
    "    b = (b * i) % m\n",
    " \n",
    "ans = a * pow(b, m-2, m) % m\n",
    "print(ans)"
   ]
  },
  {
   "cell_type": "code",
   "execution_count": 66,
   "id": "016e5164-8e77-4a4d-b70f-e78d9cf9c508",
   "metadata": {},
   "outputs": [
    {
     "name": "stdin",
     "output_type": "stream",
     "text": [
      " 100000000000\n"
     ]
    },
    {
     "name": "stdout",
     "output_type": "stream",
     "text": [
      "46666666667\n"
     ]
    }
   ],
   "source": [
    "#A31\n",
    "N = int(input())\n",
    "a = int(N//3)\n",
    "b = int(N//5)\n",
    "c = int(N//15)\n",
    "print(int(a+b-c))"
   ]
  },
  {
   "cell_type": "code",
   "execution_count": 69,
   "id": "c53d0f2f-7529-415d-8310-8084e49f8151",
   "metadata": {},
   "outputs": [
    {
     "name": "stdin",
     "output_type": "stream",
     "text": [
      " 100000000000\n"
     ]
    },
    {
     "name": "stdout",
     "output_type": "stream",
     "text": [
      "54285714286\n"
     ]
    }
   ],
   "source": [
    "#B31\n",
    "N = int(input())\n",
    "a = int(N//3)\n",
    "b = int(N//5)\n",
    "c = int(N//7)\n",
    "d = int(N//15)\n",
    "e = int(N//21)\n",
    "f = int(N//35)\n",
    "g = int(N//105)\n",
    "print(int(a+b+c-d-e-f+g))"
   ]
  },
  {
   "cell_type": "code",
   "execution_count": 73,
   "id": "3d78f548-3f5c-4cb3-b4f8-01955976ab0f",
   "metadata": {},
   "outputs": [
    {
     "name": "stdin",
     "output_type": "stream",
     "text": [
      " 8 2 3\n"
     ]
    },
    {
     "name": "stdout",
     "output_type": "stream",
     "text": [
      "First\n"
     ]
    }
   ],
   "source": [
    "N, A, B = map(int, input().split())\n",
    "\n",
    "dp = [0]*(N+1)\n",
    "for i in range(N+1):\n",
    "    if i>=A and dp[i-A] == False:\n",
    "        dp[i] = True\n",
    "    elif i>=B and dp[i-B] == False:\n",
    "        dp[i] = True\n",
    "    else:\n",
    "        dp[i] = False\n",
    "if dp[N]==True:\n",
    "    print(\"First\")\n",
    "else:\n",
    "    print(\"Second\")"
   ]
  },
  {
   "cell_type": "code",
   "execution_count": 82,
   "id": "e69cd19b-ba77-4dbd-9f7b-47370f9a568b",
   "metadata": {},
   "outputs": [
    {
     "name": "stdin",
     "output_type": "stream",
     "text": [
      " 100 10\n",
      " 1 2 3 4 5 6 7 8 9 10\n"
     ]
    },
    {
     "name": "stdout",
     "output_type": "stream",
     "text": [
      "First\n"
     ]
    }
   ],
   "source": [
    "#B32\n",
    "N, K = map(int, input().split())\n",
    "A = list(map(int, input().split()))\n",
    "dp = [0]*(N+1)\n",
    "for i in range(N+1):\n",
    "    for item in A:\n",
    "        if i>=item and dp[i-item] == False:\n",
    "            dp[i] = True\n",
    "if dp[N]==True:\n",
    "    print(\"First\")\n",
    "else:\n",
    "    print(\"Second\")"
   ]
  },
  {
   "cell_type": "code",
   "execution_count": 84,
   "id": "eb29ea93-ee26-44a2-855b-7cf082efff29",
   "metadata": {},
   "outputs": [
    {
     "name": "stdin",
     "output_type": "stream",
     "text": [
      " 2\n",
      " 5 8\n"
     ]
    },
    {
     "name": "stdout",
     "output_type": "stream",
     "text": [
      "First\n"
     ]
    }
   ],
   "source": [
    "#A33 ニム和\n",
    "N = int(input())\n",
    "A = list(map(int, input().split()))\n",
    "XOR_sum = A[0]\n",
    "for i in range(1, N):\n",
    "    XOR_sum ^= A[i]\n",
    "if XOR_sum != 0:\n",
    "    print(\"First\")\n",
    "else:\n",
    "    print(\"Second\")"
   ]
  },
  {
   "cell_type": "code",
   "execution_count": 86,
   "id": "83977dc1-5b67-4361-b159-682a0b11adc9",
   "metadata": {},
   "outputs": [
    {
     "name": "stdin",
     "output_type": "stream",
     "text": [
      " 2 8 4\n",
      " 6 4\n",
      " 7 1\n"
     ]
    },
    {
     "name": "stdout",
     "output_type": "stream",
     "text": [
      "Second\n"
     ]
    }
   ],
   "source": [
    "#B33\n",
    "N, H, W = map(int, input().split())\n",
    "A, B = [], []\n",
    "for _ in range(N):\n",
    "    a, b = map(int, input().split())\n",
    "    A.append(a-1); B.append(b-1)\n",
    "XOR_sum = A[0]^B[0]\n",
    "for i in range(1, N):\n",
    "    XOR_sum ^= A[i]\n",
    "    XOR_sum ^= B[i]\n",
    "\n",
    "if XOR_sum != 0:\n",
    "    print(\"First\")\n",
    "else:\n",
    "    print(\"Second\")"
   ]
  },
  {
   "cell_type": "code",
   "execution_count": 155,
   "id": "6baa7591-30ff-446a-b4ff-566ced14fda0",
   "metadata": {},
   "outputs": [
    {
     "name": "stdin",
     "output_type": "stream",
     "text": [
      " 2 2 3\n",
      " 5 8\n"
     ]
    },
    {
     "name": "stdout",
     "output_type": "stream",
     "text": [
      "First\n"
     ]
    }
   ],
   "source": [
    "#A34 Grundy数\n",
    "N, X, Y = map(int, input().split())\n",
    "A = list(map(int, input().split()))\n",
    "grundy = [0]*100001\n",
    "for i in range(100001):\n",
    "    Transit = [False, False, False]\n",
    "    if i >= X:\n",
    "        Transit[grundy[i-X]] = True\n",
    "    if i >= Y:\n",
    "        Transit[grundy[i-Y]] = True\n",
    "    if Transit[0] == False:\n",
    "        grundy[i] = 0\n",
    "    elif Transit[1] == False:\n",
    "        grundy[i] = 1\n",
    "    else:\n",
    "        grundy[i] = 2\n",
    "\n",
    "XOR_sum = 0\n",
    "for i in range(N):\n",
    "    XOR_sum = XOR_sum^grundy[A[i]]\n",
    "if XOR_sum!=0:\n",
    "    print(\"First\")\n",
    "else:\n",
    "    print(\"Second\")"
   ]
  },
  {
   "cell_type": "code",
   "execution_count": 159,
   "id": "06f1eacf-8bcd-441e-a5b3-d823819eeeae",
   "metadata": {},
   "outputs": [
    {
     "name": "stdin",
     "output_type": "stream",
     "text": [
      " 2 2 3\n",
      " 7 8\n"
     ]
    },
    {
     "name": "stdout",
     "output_type": "stream",
     "text": [
      "Second\n"
     ]
    }
   ],
   "source": [
    "#B34 Grundy数\n",
    "N, X, Y = map(int, input().split())\n",
    "A = list(map(int, input().split()))\n",
    "# grundy = [0]*int(1e18+1)\n",
    "answer = 0\n",
    "for i in range(N):\n",
    "    if A[i]%5==4:\n",
    "        tmp = 2\n",
    "    elif A[i]%5==2 or A[i]%5==3:\n",
    "        tmp = 1\n",
    "    else:\n",
    "        tmp = 0\n",
    "    answer = answer^tmp\n",
    "if answer!=0:\n",
    "    print(\"First\")\n",
    "else:\n",
    "    print(\"Second\")"
   ]
  },
  {
   "cell_type": "code",
   "execution_count": 176,
   "id": "30ff0caa-a5a0-4c4c-83f3-916c9f562bad",
   "metadata": {},
   "outputs": [
    {
     "name": "stdin",
     "output_type": "stream",
     "text": [
      " 5\n",
      " 30 60 30 20 100\n"
     ]
    },
    {
     "name": "stdout",
     "output_type": "stream",
     "text": [
      "30\n"
     ]
    }
   ],
   "source": [
    "N = int(input())\n",
    "A = list(map(int, input().split()))\n",
    "\n",
    "dp = [[0]*i for i in range(1, N+1)]\n",
    "for i in range(N):\n",
    "    dp[N-1][i] = A[i]\n",
    "for i in (reversed(range(N-1))):\n",
    "    if i == 0:\n",
    "        dp[i] = max(dp[i+1][0], dp[i+1][1])\n",
    "    else:\n",
    "        for j in range(i+1):\n",
    "            if i%2==0:\n",
    "                dp[i][j] = max(dp[i+1][j], dp[i+1][j+1])\n",
    "            else:\n",
    "                dp[i][j] = min(dp[i+1][j], dp[i+1][j+1])\n",
    "print(dp[0])"
   ]
  },
  {
   "cell_type": "code",
   "execution_count": 177,
   "id": "cab43950-13d9-45d1-a7f4-6147508cb145",
   "metadata": {},
   "outputs": [
    {
     "data": {
      "text/plain": [
       "[30, [30, 20], [30, 30, 20], [30, 30, 20, 20], [30, 60, 30, 20, 100]]"
      ]
     },
     "execution_count": 177,
     "metadata": {},
     "output_type": "execute_result"
    }
   ],
   "source": [
    "dp"
   ]
  },
  {
   "cell_type": "code",
   "execution_count": 160,
   "id": "b449e9a3-033b-4fb9-9d0d-7b57bc5c076c",
   "metadata": {},
   "outputs": [
    {
     "ename": "KeyboardInterrupt",
     "evalue": "Interrupted by user",
     "output_type": "error",
     "traceback": [
      "\u001b[0;31m---------------------------------------------------------------------------\u001b[0m",
      "\u001b[0;31mKeyboardInterrupt\u001b[0m                         Traceback (most recent call last)",
      "\u001b[0;32m/var/folders/3w/36lb6hjd11z8232vtym_3q8r0000gn/T/ipykernel_47262/2008797857.py\u001b[0m in \u001b[0;36m<module>\u001b[0;34m\u001b[0m\n\u001b[0;32m----> 1\u001b[0;31m \u001b[0mA\u001b[0m \u001b[0;34m=\u001b[0m \u001b[0mlist\u001b[0m\u001b[0;34m(\u001b[0m\u001b[0mmap\u001b[0m\u001b[0;34m(\u001b[0m\u001b[0mint\u001b[0m\u001b[0;34m,\u001b[0m \u001b[0minput\u001b[0m\u001b[0;34m(\u001b[0m\u001b[0;34m)\u001b[0m\u001b[0;34m.\u001b[0m\u001b[0msplit\u001b[0m\u001b[0;34m(\u001b[0m\u001b[0;34m)\u001b[0m\u001b[0;34m)\u001b[0m\u001b[0;34m)\u001b[0m\u001b[0;34m\u001b[0m\u001b[0;34m\u001b[0m\u001b[0m\n\u001b[0m\u001b[1;32m      2\u001b[0m \u001b[0mN\u001b[0m \u001b[0;34m=\u001b[0m \u001b[0;34m[\u001b[0m\u001b[0;36m1\u001b[0m\u001b[0;34m,\u001b[0m \u001b[0;36m2\u001b[0m\u001b[0;34m]\u001b[0m\u001b[0;34m\u001b[0m\u001b[0;34m\u001b[0m\u001b[0m\n\u001b[1;32m      3\u001b[0m \u001b[0;32mfor\u001b[0m \u001b[0mi\u001b[0m \u001b[0;32min\u001b[0m \u001b[0mrange\u001b[0m\u001b[0;34m(\u001b[0m\u001b[0;36m2\u001b[0m\u001b[0;34m,\u001b[0m \u001b[0;36m8\u001b[0m\u001b[0;34m)\u001b[0m\u001b[0;34m:\u001b[0m\u001b[0;34m\u001b[0m\u001b[0;34m\u001b[0m\u001b[0m\n\u001b[1;32m      4\u001b[0m     \u001b[0mN\u001b[0m\u001b[0;34m.\u001b[0m\u001b[0mappend\u001b[0m\u001b[0;34m(\u001b[0m\u001b[0mN\u001b[0m\u001b[0;34m[\u001b[0m\u001b[0mi\u001b[0m\u001b[0;34m-\u001b[0m\u001b[0;36m1\u001b[0m\u001b[0;34m]\u001b[0m\u001b[0;34m**\u001b[0m\u001b[0;36m2\u001b[0m\u001b[0;34m)\u001b[0m\u001b[0;34m\u001b[0m\u001b[0;34m\u001b[0m\u001b[0m\n\u001b[1;32m      5\u001b[0m \u001b[0manswer\u001b[0m \u001b[0;34m=\u001b[0m \u001b[0;36m0\u001b[0m\u001b[0;34m\u001b[0m\u001b[0;34m\u001b[0m\u001b[0m\n",
      "\u001b[0;32m~/opt/anaconda3/lib/python3.9/site-packages/ipykernel/kernelbase.py\u001b[0m in \u001b[0;36mraw_input\u001b[0;34m(self, prompt)\u001b[0m\n\u001b[1;32m   1004\u001b[0m                 \u001b[0;34m\"raw_input was called, but this frontend does not support input requests.\"\u001b[0m\u001b[0;34m\u001b[0m\u001b[0;34m\u001b[0m\u001b[0m\n\u001b[1;32m   1005\u001b[0m             )\n\u001b[0;32m-> 1006\u001b[0;31m         return self._input_request(\n\u001b[0m\u001b[1;32m   1007\u001b[0m             \u001b[0mstr\u001b[0m\u001b[0;34m(\u001b[0m\u001b[0mprompt\u001b[0m\u001b[0;34m)\u001b[0m\u001b[0;34m,\u001b[0m\u001b[0;34m\u001b[0m\u001b[0;34m\u001b[0m\u001b[0m\n\u001b[1;32m   1008\u001b[0m             \u001b[0mself\u001b[0m\u001b[0;34m.\u001b[0m\u001b[0m_parent_ident\u001b[0m\u001b[0;34m[\u001b[0m\u001b[0;34m\"shell\"\u001b[0m\u001b[0;34m]\u001b[0m\u001b[0;34m,\u001b[0m\u001b[0;34m\u001b[0m\u001b[0;34m\u001b[0m\u001b[0m\n",
      "\u001b[0;32m~/opt/anaconda3/lib/python3.9/site-packages/ipykernel/kernelbase.py\u001b[0m in \u001b[0;36m_input_request\u001b[0;34m(self, prompt, ident, parent, password)\u001b[0m\n\u001b[1;32m   1049\u001b[0m             \u001b[0;32mexcept\u001b[0m \u001b[0mKeyboardInterrupt\u001b[0m\u001b[0;34m:\u001b[0m\u001b[0;34m\u001b[0m\u001b[0;34m\u001b[0m\u001b[0m\n\u001b[1;32m   1050\u001b[0m                 \u001b[0;31m# re-raise KeyboardInterrupt, to truncate traceback\u001b[0m\u001b[0;34m\u001b[0m\u001b[0;34m\u001b[0m\u001b[0m\n\u001b[0;32m-> 1051\u001b[0;31m                 \u001b[0;32mraise\u001b[0m \u001b[0mKeyboardInterrupt\u001b[0m\u001b[0;34m(\u001b[0m\u001b[0;34m\"Interrupted by user\"\u001b[0m\u001b[0;34m)\u001b[0m \u001b[0;32mfrom\u001b[0m \u001b[0;32mNone\u001b[0m\u001b[0;34m\u001b[0m\u001b[0;34m\u001b[0m\u001b[0m\n\u001b[0m\u001b[1;32m   1052\u001b[0m             \u001b[0;32mexcept\u001b[0m \u001b[0mException\u001b[0m\u001b[0;34m:\u001b[0m\u001b[0;34m\u001b[0m\u001b[0;34m\u001b[0m\u001b[0m\n\u001b[1;32m   1053\u001b[0m                 \u001b[0mself\u001b[0m\u001b[0;34m.\u001b[0m\u001b[0mlog\u001b[0m\u001b[0;34m.\u001b[0m\u001b[0mwarning\u001b[0m\u001b[0;34m(\u001b[0m\u001b[0;34m\"Invalid Message:\"\u001b[0m\u001b[0;34m,\u001b[0m \u001b[0mexc_info\u001b[0m\u001b[0;34m=\u001b[0m\u001b[0;32mTrue\u001b[0m\u001b[0;34m)\u001b[0m\u001b[0;34m\u001b[0m\u001b[0;34m\u001b[0m\u001b[0m\n",
      "\u001b[0;31mKeyboardInterrupt\u001b[0m: Interrupted by user"
     ]
    }
   ],
   "source": [
    "A = list(map(int, input().split()))\n",
    "N = [1, 2]\n",
    "for i in range(2, 8):\n",
    "    N.append(N[i-1]**2)\n",
    "answer = 0\n",
    "for i in range(len(A)):\n",
    "    if i == 0:\n",
    "        if A[0] == 1:\n",
    "            answer += 1\n",
    "    else:\n",
    "        if A[i] == 1:\n",
    "            tmp = 1\n",
    "            for j in range(7):\n",
    "                if i//(2**j)%2==1:\n",
    "                    tmp *= N[j+1]\n",
    "            answer += tmp \n",
    "                            \n",
    "print(answer)"
   ]
  },
  {
   "cell_type": "code",
   "execution_count": 131,
   "id": "b147e661-cb1e-472b-92c3-d5c88fe93653",
   "metadata": {},
   "outputs": [
    {
     "name": "stdin",
     "output_type": "stream",
     "text": [
      " 4\n",
      " 2 3 4 3 4 1 3 1 1 4 2 2\n"
     ]
    },
    {
     "name": "stdout",
     "output_type": "stream",
     "text": [
      "3 4 1 2\n"
     ]
    }
   ],
   "source": [
    "N = int(input())\n",
    "A = list(map(int, input().split()))\n",
    "B, C, D = [], [], []\n",
    "for i in range(len(A)):\n",
    "    if A[i] not in B:\n",
    "        B.append(A[i])\n",
    "    else:\n",
    "        if A[i] not in D:\n",
    "            C.append(i)\n",
    "            D.append(A[i])\n",
    "answer = []\n",
    "for i in range(len(C)):\n",
    "    answer.append(A[C[i]])\n",
    "stra = map(str, answer)\n",
    "output = \" \".join(stra)\n",
    "print(output)"
   ]
  },
  {
   "cell_type": "code",
   "execution_count": 137,
   "id": "2ef333f6-a8c4-4a43-8c7d-5036a99d5f8f",
   "metadata": {},
   "outputs": [
    {
     "name": "stdin",
     "output_type": "stream",
     "text": [
      " 3\n",
      " 1 1 3 2 3 2 2 3 1\n"
     ]
    },
    {
     "name": "stdout",
     "output_type": "stream",
     "text": [
      "1 3 2\n"
     ]
    }
   ],
   "source": [
    "n = int(input())\n",
    "A = map(int, input().split())\n",
    " \n",
    "occurrences = {k: list() for k in range(1, n + 1)}\n",
    "ans = []\n",
    " \n",
    "for i, a in enumerate(A):\n",
    "    occurrences[a].append(i)\n",
    " \n",
    "    if len(occurrences[a]) == 3:\n",
    "        ans.append((a, occurrences[a][1]))\n",
    " \n",
    "ans = sorted(ans, key=lambda x: x[1])\n",
    " \n",
    "print(*map(lambda x: x[0], ans), sep=\" \")"
   ]
  },
  {
   "cell_type": "code",
   "execution_count": 134,
   "id": "9e9e1bd9-bec3-4141-b970-8d56ed9251d0",
   "metadata": {},
   "outputs": [
    {
     "data": {
      "text/plain": [
       "{1: [0, 1, 8], 2: [3, 5, 6], 3: [2, 4, 7]}"
      ]
     },
     "execution_count": 134,
     "metadata": {},
     "output_type": "execute_result"
    }
   ],
   "source": [
    "occurrences"
   ]
  },
  {
   "cell_type": "code",
   "execution_count": 135,
   "id": "e04f44f0-08ae-4358-9f6e-e65e3725068b",
   "metadata": {},
   "outputs": [
    {
     "data": {
      "text/plain": [
       "[(1, 1), (3, 4), (2, 5)]"
      ]
     },
     "execution_count": 135,
     "metadata": {},
     "output_type": "execute_result"
    }
   ],
   "source": [
    "ans"
   ]
  },
  {
   "cell_type": "code",
   "execution_count": 138,
   "id": "0b058bd7-f562-41c1-9755-d1253649942a",
   "metadata": {},
   "outputs": [
    {
     "name": "stdout",
     "output_type": "stream",
     "text": [
      "[2, 5, 6, 7]\n"
     ]
    }
   ],
   "source": [
    "v = [2, 5, 6, 7]\n",
    "print(v)"
   ]
  },
  {
   "cell_type": "code",
   "execution_count": 139,
   "id": "fdcacda1-d5b6-4979-985c-fe534bea47f2",
   "metadata": {},
   "outputs": [
    {
     "name": "stdout",
     "output_type": "stream",
     "text": [
      "2 5 6 7\n"
     ]
    }
   ],
   "source": [
    "print(*v)"
   ]
  },
  {
   "cell_type": "code",
   "execution_count": 143,
   "id": "90e2c72b-ca73-4bbb-a02d-75e131b5cf2a",
   "metadata": {},
   "outputs": [
    {
     "name": "stdout",
     "output_type": "stream",
     "text": [
      "1/3/2\n"
     ]
    }
   ],
   "source": [
    "print(*map(lambda x: x[0], ans), sep=\"/\")"
   ]
  },
  {
   "cell_type": "code",
   "execution_count": null,
   "id": "340047dd-cdf6-4906-8eb3-3684434dd61a",
   "metadata": {},
   "outputs": [],
   "source": []
  }
 ],
 "metadata": {
  "kernelspec": {
   "display_name": "Python 3 (ipykernel)",
   "language": "python",
   "name": "python3"
  },
  "language_info": {
   "codemirror_mode": {
    "name": "ipython",
    "version": 3
   },
   "file_extension": ".py",
   "mimetype": "text/x-python",
   "name": "python",
   "nbconvert_exporter": "python",
   "pygments_lexer": "ipython3",
   "version": "3.9.7"
  }
 },
 "nbformat": 4,
 "nbformat_minor": 5
}
