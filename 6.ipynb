{
 "cells": [
  {
   "cell_type": "code",
   "execution_count": 2,
   "id": "ba9260a8-e703-4eb6-8855-c3752ad82a1e",
   "metadata": {},
   "outputs": [
    {
     "name": "stdin",
     "output_type": "stream",
     "text": [
      " 5 10\n"
     ]
    },
    {
     "name": "stdout",
     "output_type": "stream",
     "text": [
      "Yes\n"
     ]
    }
   ],
   "source": [
    "#A36\n",
    "N, K = map(int, input().split())\n",
    "answer = \"Yes\"\n",
    "if K%2==1:\n",
    "    answer = \"No\"\n",
    "elif K<(2*N-2):\n",
    "    answer = \"No\"\n",
    "print(answer)"
   ]
  },
  {
   "cell_type": "code",
   "execution_count": 8,
   "id": "1f38d8ab-6b9d-41a8-913d-a4598d5d7122",
   "metadata": {},
   "outputs": [
    {
     "name": "stdin",
     "output_type": "stream",
     "text": [
      " 2 2\n",
      " 11\n"
     ]
    },
    {
     "name": "stdout",
     "output_type": "stream",
     "text": [
      "Yes\n"
     ]
    }
   ],
   "source": [
    "#B36\n",
    "N, K = map(int, input().split())\n",
    "S = list(str(input()))\n",
    "counter = {k: list() for k in range(2)}\n",
    "answer = \"Yes\"\n",
    "ON = S.count('1')\n",
    "if K%2!=ON%2:\n",
    "    answer = \"No\"\n",
    "    \n",
    "print(answer)\n",
    "    "
   ]
  },
  {
   "cell_type": "code",
   "execution_count": 9,
   "id": "253f4105-e10a-463f-ad87-9ce4e6772753",
   "metadata": {},
   "outputs": [
    {
     "name": "stdin",
     "output_type": "stream",
     "text": [
      " 2 3 100\n",
      " 10 20\n",
      " 1 2 3\n"
     ]
    },
    {
     "name": "stdout",
     "output_type": "stream",
     "text": [
      "702\n"
     ]
    }
   ],
   "source": [
    "N, M, B = map(int, input().split())\n",
    "A = list(map(int, input().split()))\n",
    "C = list(map(int, input().split()))\n",
    "\n",
    "# 組み合わせの数\n",
    "tc = int(N*M)\n",
    "#各駅から中継地点までの所要時間の合計\n",
    "sumA = sum(A)\n",
    "#中継地点から各バス停への所要時間の合計\n",
    "sumC = sum(C)\n",
    "\n",
    "answer = sumA*M + sumC*N + B*tc\n",
    "print(int(answer))"
   ]
  },
  {
   "cell_type": "code",
   "execution_count": 55,
   "id": "d2f0fcec-2fc8-4dc8-9fe3-f378e287ab47",
   "metadata": {},
   "outputs": [
    {
     "name": "stdin",
     "output_type": "stream",
     "text": [
      " 288\n"
     ]
    },
    {
     "name": "stdout",
     "output_type": "stream",
     "text": [
      "2856\n"
     ]
    }
   ],
   "source": [
    "import math\n",
    "N = int(input())\n",
    "cum = []\n",
    "for i in range(15):\n",
    "    cum.append(45*10**i)\n",
    "fcum = [1]\n",
    "for i in range(2, 10):\n",
    "    fcum.append(fcum[i-2]+i)\n",
    "# W = math.floor(math.log10(N))\n",
    "W = 1e14\n",
    "t = 13\n",
    "ans = 0\n",
    "while t>=0:\n",
    "    tmp = N//W\n",
    "    tmp2 = tmp%10\n",
    "    ans += tmp*cum[t]\n",
    "    if tmp2!=0:\n",
    "        ans += fcum[int(tmp2)-1]*W\n",
    "    W/=10\n",
    "    t-=1\n",
    "f = int(N%10) \n",
    "for i in range(1, f+1):\n",
    "    ans += int(i)\n",
    "print(int(ans))"
   ]
  },
  {
   "cell_type": "code",
   "execution_count": 56,
   "id": "0bf404b4-6654-4775-91fe-19546142965c",
   "metadata": {},
   "outputs": [
    {
     "name": "stdin",
     "output_type": "stream",
     "text": [
      " 288\n"
     ]
    },
    {
     "name": "stdout",
     "output_type": "stream",
     "text": [
      "2826\n"
     ]
    }
   ],
   "source": [
    "#B36\n",
    "N = int(input())\n",
    "D = len(str(N))\n",
    "ans = 0\n",
    "for i in range(D):\n",
    "    L = N//(10**(i+1))\n",
    "    M = (N//(10**i))%10\n",
    "    R = N - (N//(10**i)*(10**i))\n",
    "    #print(L,M,R)\n",
    "    ansL = L*45*(10**i)  \n",
    "    ansM = (M-1)*M//2*(10**i)\n",
    "    ansR = M*(R+1)\n",
    "    #print('ans',ansL,ansM,ansR)\n",
    "    ans += ansL + ansM + ansR\n",
    "print(ans)"
   ]
  },
  {
   "cell_type": "code",
   "execution_count": 69,
   "id": "34ed0f54-cd9c-46eb-83fe-9489144bdfe6",
   "metadata": {},
   "outputs": [
    {
     "name": "stdin",
     "output_type": "stream",
     "text": [
      " 5 3\n",
      " 1 2 22\n",
      " 2 3 16\n",
      " 3 5 23\n"
     ]
    },
    {
     "name": "stdout",
     "output_type": "stream",
     "text": [
      "100\n"
     ]
    }
   ],
   "source": [
    "#A38\n",
    "D, N = map(int, input().split())\n",
    "L, R, H = [], [], []\n",
    "for _ in range(N):\n",
    "    l, r, h = map(int, input().split())\n",
    "    L.append(l)\n",
    "    R.append(r)\n",
    "    H.append(h)\n",
    "LIM = [24]*D    \n",
    "for i in range(1, D+1):\n",
    "    for j in range(N):\n",
    "        if L[j] <= i <= R[j]:\n",
    "            LIM[i-1] = min(LIM[i-1], H[j])\n",
    "ans = sum(LIM)\n",
    "print(ans)\n",
    "    "
   ]
  },
  {
   "cell_type": "code",
   "execution_count": 78,
   "id": "c35b757f-87f5-40fa-ba7d-3ed769c0b533",
   "metadata": {},
   "outputs": [
    {
     "name": "stdin",
     "output_type": "stream",
     "text": [
      " 7\n",
      " AABBBA\n"
     ]
    },
    {
     "name": "stdout",
     "output_type": "stream",
     "text": [
      "15\n"
     ]
    }
   ],
   "source": [
    "#B38\n",
    "N = int(input())\n",
    "S = list(input())\n",
    "LIM = [1]*N\n",
    "LIM[0] = 1\n",
    "for i in range(1, N):\n",
    "    if S[i-1]==\"A\":\n",
    "        LIM[i] = LIM[i-1]+1\n",
    "for i in reversed(range(N-1)):\n",
    "    if S[i] == \"B\":\n",
    "        LIM[i] = max(LIM[i], LIM[i+1]+1)\n",
    "\n",
    "print(sum(LIM))"
   ]
  },
  {
   "cell_type": "code",
   "execution_count": 91,
   "id": "3a891027-12bf-4616-b0fc-f050d81a739f",
   "metadata": {},
   "outputs": [
    {
     "name": "stdin",
     "output_type": "stream",
     "text": [
      " 3\n",
      " 123 86399\n",
      " 1 86400\n",
      " 86399 86400\n"
     ]
    },
    {
     "name": "stdout",
     "output_type": "stream",
     "text": [
      "2\n"
     ]
    }
   ],
   "source": [
    "#A39\n",
    "N = int(input())\n",
    "L, R = [], []\n",
    "for _ in range(N):\n",
    "    l, r = map(int, input().split())\n",
    "    L.append(l); R.append(r)\n",
    "idx = []\n",
    "# Rを昇順に並べた時のインデックスの並びをidxに格納\n",
    "for i, _ in sorted(enumerate(R), key=lambda x: x[1]):\n",
    "    idx.append(i)\n",
    "R.sort()\n",
    "ct = 0\n",
    "ans = 0\n",
    "for i in range(N):\n",
    "    if ct<=L[idx[i]]:\n",
    "        ct = R[i]\n",
    "        ans += 1\n",
    "        \n",
    "print(ans)"
   ]
  },
  {
   "cell_type": "markdown",
   "id": "44d3fadc-6555-4b3b-8c2a-d99643241b5a",
   "metadata": {},
   "source": [
    "idx"
   ]
  },
  {
   "cell_type": "code",
   "execution_count": 40,
   "id": "0b41554e-a8f6-481c-89da-ff06e011c592",
   "metadata": {},
   "outputs": [
    {
     "name": "stdin",
     "output_type": "stream",
     "text": [
      " 5 4\n",
      " 1 1\n",
      " 2 4\n",
      " 2 3\n",
      " 3 4\n",
      " 4 2\n"
     ]
    },
    {
     "name": "stdout",
     "output_type": "stream",
     "text": [
      "12\n"
     ]
    }
   ],
   "source": [
    "#B39\n",
    "import heapq\n",
    "N,D = map(int,input().split())\n",
    "dic = {}\n",
    "for _ in range(N):\n",
    "    x,y = map(int,input().split())\n",
    "    if x not in dic:\n",
    "        dic[x] = [y]\n",
    "    else:\n",
    "        dic[x].append(y)\n",
    "ans = 0\n",
    "q = []\n",
    "for d in range(1, D+1):\n",
    "    if d in dic:\n",
    "        for y in dic[d]:\n",
    "            heapq.heappush(q,-y)\n",
    "    if len(q) > 0:\n",
    "        ma = heapq.heappop(q)\n",
    "        ans += -ma\n",
    "print(ans)"
   ]
  },
  {
   "cell_type": "code",
   "execution_count": 51,
   "id": "7010b4e0-e1d3-49be-b651-41aeec8b6984",
   "metadata": {},
   "outputs": [
    {
     "name": "stdin",
     "output_type": "stream",
     "text": [
      " 11\n",
      " 1 2 1 3 3 3 1 2 1 3 2\n"
     ]
    },
    {
     "name": "stdout",
     "output_type": "stream",
     "text": [
      "9\n"
     ]
    }
   ],
   "source": [
    "#A40\n",
    "import math\n",
    "\n",
    "N = int(input())\n",
    "A = list(map(int, input().split()))\n",
    "\n",
    "dic = {}\n",
    "for i in range(N):\n",
    "    x = A[i]\n",
    "    if x not in dic:\n",
    "        dic[x] = 1\n",
    "    else:\n",
    "        dic[x]+=1\n",
    "ans = 0\n",
    "for key in dic:\n",
    "    tmp = dic[key]\n",
    "    if tmp >=3:\n",
    "        ans += math.comb(tmp, 3)\n",
    "    else:\n",
    "        continue\n",
    "print(ans)"
   ]
  },
  {
   "cell_type": "code",
   "execution_count": 59,
   "id": "08352b43-3593-4702-9a12-d5bf4a0c49d8",
   "metadata": {},
   "outputs": [
    {
     "name": "stdin",
     "output_type": "stream",
     "text": [
      " 9\n",
      " 10 20 30 40 50 60 70 80 90\n"
     ]
    },
    {
     "name": "stdout",
     "output_type": "stream",
     "text": [
      "4\n"
     ]
    }
   ],
   "source": [
    "# import math\n",
    "#B40\n",
    "N = int(input())\n",
    "A = list(map(int, input().split()))\n",
    "\n",
    "dic = {}\n",
    "for i in range(N):\n",
    "    x = A[i]%100\n",
    "    if x not in dic:\n",
    "        dic[x] = 1\n",
    "    else:\n",
    "        dic[x]+=1\n",
    "ans = 0\n",
    "for key in dic:\n",
    "    tmp = dic[key]\n",
    "    if key != 50 and key!= 0:    \n",
    "        if 100 - key in dic and key<50:\n",
    "            tmp2 = dic[100 - key]\n",
    "            ans += tmp * tmp2\n",
    "    else:\n",
    "        ans += dic[key]*(dic[key]-1)//2\n",
    "print(int(ans))"
   ]
  },
  {
   "cell_type": "code",
   "execution_count": 61,
   "id": "b2661fdb-c3c3-4bff-bdc6-9bd7582a18a6",
   "metadata": {},
   "outputs": [
    {
     "name": "stdin",
     "output_type": "stream",
     "text": [
      " 5\n",
      " rbrbr\n"
     ]
    },
    {
     "name": "stdout",
     "output_type": "stream",
     "text": [
      "No\n"
     ]
    }
   ],
   "source": [
    "#A41\n",
    "N = int(input())\n",
    "S = input()\n",
    "answer = 'No'\n",
    "for i in range(N):\n",
    "    if i<N-2:\n",
    "        if S[i]==S[i+1] and S[i]==S[i+2]:\n",
    "            answer = \"Yes\"\n",
    "print(answer)"
   ]
  },
  {
   "cell_type": "code",
   "execution_count": 78,
   "id": "a61c8b51-48e7-4ded-9b40-bac9d4aad031",
   "metadata": {},
   "outputs": [
    {
     "name": "stdin",
     "output_type": "stream",
     "text": [
      " 5 2\n"
     ]
    },
    {
     "name": "stdout",
     "output_type": "stream",
     "text": [
      "3\n",
      "1 2\n",
      "3 2\n",
      "5 2\n"
     ]
    }
   ],
   "source": [
    "#B41\n",
    "X, Y = map(int, input().split())\n",
    "ans = []\n",
    "x, y = 1, 1\n",
    "while X!=1 or Y!=1:\n",
    "    ans.append([X, Y])\n",
    "    tmp = abs(X-Y)\n",
    "    if X>Y:\n",
    "        X = tmp\n",
    "    else:\n",
    "        Y = tmp\n",
    "print(len(ans))\n",
    "for item in reversed(ans):\n",
    "    print(' '.join(map(str, item)))"
   ]
  },
  {
   "cell_type": "code",
   "execution_count": 88,
   "id": "b1b4e184-5a3e-4e34-bd14-0d16b6bee8b4",
   "metadata": {},
   "outputs": [
    {
     "name": "stdin",
     "output_type": "stream",
     "text": [
      " 4 30\n",
      " 20 30\n",
      " 10 40\n",
      " 50 10\n",
      " 30 60\n"
     ]
    },
    {
     "name": "stdout",
     "output_type": "stream",
     "text": [
      "3\n"
     ]
    }
   ],
   "source": [
    "#A42\n",
    "def GetScore(List, K, a, b):\n",
    "    cnt = 0\n",
    "    for i in range(N):\n",
    "        if List[i][0]>=a and List[i][0]<=a+K and List[i][1]>=b and List[i][1]<=b+K:\n",
    "            cnt += 1\n",
    "    return cnt\n",
    "\n",
    "N, K = map(int, input().split())\n",
    "params = []\n",
    "ans = 1\n",
    "for _ in range(N):\n",
    "    a, b = map(int, input().split())\n",
    "    params.append([a, b])\n",
    "for a in range(1, 100):\n",
    "    for b in range(1, 100):\n",
    "        score = GetScore(params, K, a, b)\n",
    "        ans = max(ans, score)\n",
    "print(ans)\n",
    "\n",
    "    "
   ]
  },
  {
   "cell_type": "code",
   "execution_count": 91,
   "id": "17540931-e766-4e9d-a98e-964233756b90",
   "metadata": {},
   "outputs": [
    {
     "name": "stdin",
     "output_type": "stream",
     "text": [
      " 5\n",
      " 2 8\n",
      " 4 -5\n",
      " 5 -3\n",
      " -4 1\n",
      " -2 -3\n"
     ]
    },
    {
     "name": "stdout",
     "output_type": "stream",
     "text": [
      "18\n"
     ]
    }
   ],
   "source": [
    "#B42\n",
    "N = int(input())\n",
    "\n",
    "cards = []\n",
    "for _ in range(N):\n",
    "    a, b = map(int, input().split())\n",
    "    cards.append([a, b]) \n",
    "ans1 = 0\n",
    "#両方が正の時\n",
    "for i in range(N):\n",
    "    tmp = cards[i][0] + cards[i][1]\n",
    "    if tmp > 0:\n",
    "        ans1 += tmp\n",
    "#表が正、裏が負の数の時\n",
    "ans2 = 0\n",
    "for i in range(N):\n",
    "    tmp = cards[i][0] - cards[i][1]\n",
    "    if tmp > 0:\n",
    "        ans2 += tmp\n",
    "#表が負、裏が正の数の時\n",
    "ans3 = 0\n",
    "for i in range(N):\n",
    "    tmp = -cards[i][0] + cards[i][1]\n",
    "    if tmp > 0:\n",
    "        ans3 += tmp\n",
    "#両方が負の数の時\n",
    "ans4 = 0\n",
    "for i in range(N):\n",
    "    tmp = -cards[i][0] - cards[i][1]\n",
    "    if tmp > 0:\n",
    "        ans4 += tmp\n",
    "\n",
    "print(max(ans1, ans2, ans3, ans4))\n",
    "\n"
   ]
  },
  {
   "cell_type": "code",
   "execution_count": 2,
   "id": "4e1a516f-83c5-4387-a9b7-abfd84b0c00b",
   "metadata": {},
   "outputs": [
    {
     "name": "stdin",
     "output_type": "stream",
     "text": [
      " 3 100\n",
      " 20 E\n",
      " 50 E\n",
      " 70 W\n"
     ]
    },
    {
     "name": "stdout",
     "output_type": "stream",
     "text": [
      "80\n"
     ]
    }
   ],
   "source": [
    "#A43\n",
    "N, L = map(int, input().split())\n",
    "ab = []\n",
    "for i in range(N):\n",
    "    a, b = map(str, input().split())\n",
    "    ab.append([a, b])\n",
    "\n",
    "ans = 0\n",
    "for i in range(N):\n",
    "    if ab[i][1]==\"E\":\n",
    "        tmp = L - int(ab[i][0])\n",
    "        ans = max(ans, tmp)\n",
    "    elif ab[i][1]==\"W\":\n",
    "        tmp = int(ab[i][0])\n",
    "        ans = max(ans, tmp)\n",
    "        \n",
    "print(int(ans))"
   ]
  },
  {
   "cell_type": "code",
   "execution_count": 3,
   "id": "c053b6f1-7760-4d09-8b6f-a967679789b6",
   "metadata": {},
   "outputs": [
    {
     "name": "stdin",
     "output_type": "stream",
     "text": [
      " 4 6\n",
      " 1 4 1 4 2 1\n"
     ]
    },
    {
     "name": "stdout",
     "output_type": "stream",
     "text": [
      "3\n",
      "5\n",
      "6\n",
      "4\n"
     ]
    }
   ],
   "source": [
    "#B43\n",
    "N, M = map(int, input().split())\n",
    "A = list(map(int, input().split()))\n",
    "\n",
    "dic = {}\n",
    "for i in range(len(A)):\n",
    "    if A[i] not in dic:\n",
    "        dic[A[i]] = M-1\n",
    "    else:\n",
    "        dic[A[i]] -= 1\n",
    "\n",
    "for i in range(1, N+1):\n",
    "    if i in dic:\n",
    "        print(dic[i])\n",
    "    else:\n",
    "        print(M)"
   ]
  },
  {
   "cell_type": "code",
   "execution_count": 12,
   "id": "4cbb0e19-cfb4-4b5c-97a0-31cb0eb337ce",
   "metadata": {},
   "outputs": [
    {
     "name": "stdin",
     "output_type": "stream",
     "text": [
      " 5 4\n",
      " 1 4 8\n",
      " 3 2\n"
     ]
    },
    {
     "name": "stdout",
     "output_type": "stream",
     "text": [
      "2\n"
     ]
    },
    {
     "name": "stdin",
     "output_type": "stream",
     "text": [
      " 2\n",
      " 3 2\n"
     ]
    },
    {
     "name": "stdout",
     "output_type": "stream",
     "text": [
      "8\n"
     ]
    }
   ],
   "source": [
    "#A44\n",
    "N, Q = map(int, input().split())\n",
    "A = []\n",
    "for i in range(N):\n",
    "    A.append(i+1)\n",
    "r=True\n",
    "for i in range(Q):\n",
    "    tmp = list(map(int, input().split()))\n",
    "    if r == True:\n",
    "        if tmp[0]==1:\n",
    "            A[tmp[1]-1] = tmp[2]\n",
    "        elif tmp[0]==2:\n",
    "            r = False\n",
    "        else:\n",
    "            print(A[tmp[1]-1])\n",
    "    else:\n",
    "        if tmp[0]==1:\n",
    "            A[N-tmp[1]] = tmp[2]\n",
    "        elif tmp[0]==2:\n",
    "            r = True\n",
    "        else:\n",
    "            print(A[N-tmp[1]])\n",
    "\n",
    "\n",
    "    "
   ]
  },
  {
   "cell_type": "code",
   "execution_count": 15,
   "id": "5279368c-def8-403e-94b7-c2535ac0a624",
   "metadata": {},
   "outputs": [
    {
     "name": "stdin",
     "output_type": "stream",
     "text": [
      " 3\n",
      " 1 2 3\n",
      " 4 5 6\n",
      " 7 8 9\n",
      " 7\n",
      " 2 2 1\n"
     ]
    },
    {
     "name": "stdout",
     "output_type": "stream",
     "text": [
      "4\n"
     ]
    },
    {
     "name": "stdin",
     "output_type": "stream",
     "text": [
      " 1 1 2\n",
      " 2 2 1\n"
     ]
    },
    {
     "name": "stdout",
     "output_type": "stream",
     "text": [
      "1\n"
     ]
    },
    {
     "name": "stdin",
     "output_type": "stream",
     "text": [
      " 2 1 3\n"
     ]
    },
    {
     "name": "stdout",
     "output_type": "stream",
     "text": [
      "6\n"
     ]
    },
    {
     "name": "stdin",
     "output_type": "stream",
     "text": [
      " 1 2 3\n",
      " 2 2 3\n"
     ]
    },
    {
     "name": "stdout",
     "output_type": "stream",
     "text": [
      "9\n"
     ]
    },
    {
     "name": "stdin",
     "output_type": "stream",
     "text": [
      " 2 3 2\n"
     ]
    },
    {
     "name": "stdout",
     "output_type": "stream",
     "text": [
      "2\n"
     ]
    }
   ],
   "source": [
    "#B44\n",
    "N = int(input())\n",
    "A = [list(map(int, input().split())) for _ in range(N)]\n",
    "Q = int(input())\n",
    "idx = []\n",
    "for i in range(N):\n",
    "    idx.append(i)\n",
    "for i in range(Q):\n",
    "    tmp = list(map(int, input().split()))\n",
    "    if tmp[0]==1:\n",
    "        idx[tmp[1]-1], idx[tmp[2]-1] = idx[tmp[2]-1], idx[tmp[1]-1]\n",
    "    else:\n",
    "        print(A[idx[tmp[1]-1]][tmp[2]-1])\n",
    "\n",
    "                "
   ]
  },
  {
   "cell_type": "code",
   "execution_count": 16,
   "id": "d7928ce5-88d7-4a3d-a337-259359a6ca90",
   "metadata": {},
   "outputs": [
    {
     "name": "stdin",
     "output_type": "stream",
     "text": [
      " 4 B\n",
      " WBBR\n"
     ]
    },
    {
     "name": "stdout",
     "output_type": "stream",
     "text": [
      "Yes\n"
     ]
    }
   ],
   "source": [
    "#A45\n",
    "N, C = map(str, input().split())\n",
    "g = 0\n",
    "if C==\"R\":\n",
    "    g = 2\n",
    "elif C==\"B\":\n",
    "    g = 1\n",
    "N = int(N)\n",
    "A = input()\n",
    "score = 0\n",
    "for i in range(N):\n",
    "    if A[i]==\"R\":\n",
    "        score+=2\n",
    "    elif A[i]==\"B\":\n",
    "        score+=1\n",
    "if score%3 == g:\n",
    "    print(\"Yes\")\n",
    "else:\n",
    "    print(\"No\")"
   ]
  },
  {
   "cell_type": "code",
   "execution_count": 17,
   "id": "5b6a6b9b-db36-416e-b1ee-2050ce7c550c",
   "metadata": {},
   "outputs": [
    {
     "name": "stdin",
     "output_type": "stream",
     "text": [
      " 3 -4 1\n"
     ]
    },
    {
     "name": "stdout",
     "output_type": "stream",
     "text": [
      "Yes\n"
     ]
    }
   ],
   "source": [
    "#B45\n",
    "a, b, c = map(int, input().split())\n",
    "if a+b+c==0:\n",
    "    print(\"Yes\")\n",
    "else:\n",
    "    print(\"No\")"
   ]
  },
  {
   "cell_type": "code",
   "execution_count": 112,
   "id": "afbe50a9-105d-4445-821e-5314ef7019da",
   "metadata": {},
   "outputs": [
    {
     "name": "stdin",
     "output_type": "stream",
     "text": [
      " 125 175 250 300 400 525 600 650\n"
     ]
    },
    {
     "name": "stdout",
     "output_type": "stream",
     "text": [
      "Yes\n"
     ]
    }
   ],
   "source": [
    "S = list(map(int, input().split()))\n",
    "ans = \"Yes\"\n",
    "for i in range(len(S)):\n",
    "    \n",
    "    if i < 7 and S[i]>S[i+1]:\n",
    "        ans = \"No\"\n",
    "        break\n",
    "    if S[i]<100 or S[i]>675:\n",
    "        ans = \"No\"\n",
    "        break\n",
    "    if S[i]%25!=0:\n",
    "        ans = \"No\"\n",
    "        break\n",
    "        \n",
    "print(ans)"
   ]
  },
  {
   "cell_type": "code",
   "execution_count": 118,
   "id": "64d87144-217c-49c5-add0-263ccbb2f5f1",
   "metadata": {},
   "outputs": [
    {
     "name": "stdin",
     "output_type": "stream",
     "text": [
      " 3 2\n",
      " red green blue\n",
      " blue red\n",
      " 800 1600 2800\n"
     ]
    },
    {
     "name": "stdout",
     "output_type": "stream",
     "text": [
      "5200\n"
     ]
    }
   ],
   "source": [
    "N, M = map(int, input().split())\n",
    "C = list(map(str, input().split()))\n",
    "D = list(map(str, input().split()))\n",
    "P = list(map(int, input().split()))\n",
    "dic = {}\n",
    "for i in range(M):\n",
    "    if D[i] not in dic:\n",
    "        dic[D[i]] = P[i+1]\n",
    "ans = 0\n",
    "for i in range(N):\n",
    "    if C[i] in dic:\n",
    "        ans += dic[C[i]]\n",
    "    else:\n",
    "        ans += P[0]\n",
    "        \n",
    "print(ans)\n",
    "        "
   ]
  },
  {
   "cell_type": "code",
   "execution_count": 110,
   "id": "69855bef-a175-43ba-bc4a-34c0d145bf03",
   "metadata": {},
   "outputs": [
    {
     "name": "stdout",
     "output_type": "stream",
     "text": [
      "No\n"
     ]
    }
   ],
   "source": [
    "ans = \"Yes\"\n",
    "for i in range(len(S) - 1):\n",
    "    if S[i] > S[i+1]:\n",
    "        ans = \"No\"\n",
    "        break\n",
    "print(ans)"
   ]
  },
  {
   "cell_type": "code",
   "execution_count": 113,
   "id": "e32172d1-a085-4059-b6a8-60adf258f3c6",
   "metadata": {},
   "outputs": [
    {
     "data": {
      "text/plain": [
       "{'a': 3}"
      ]
     },
     "execution_count": 113,
     "metadata": {},
     "output_type": "execute_result"
    }
   ],
   "source": [
    "dic = {}\n",
    "dic[\"a\"] = 3\n",
    "dic"
   ]
  },
  {
   "cell_type": "code",
   "execution_count": 2,
   "id": "5a0cec03-31e6-42df-95c8-933a8fb92ddb",
   "metadata": {},
   "outputs": [
    {
     "name": "stdin",
     "output_type": "stream",
     "text": [
      " 3 100 50\n",
      " 60000 20000 40000\n"
     ]
    },
    {
     "name": "stdout",
     "output_type": "stream",
     "text": [
      "100\n"
     ]
    }
   ],
   "source": [
    "N, P, Q = map(int, input().split())\n",
    "price = list(map(int, input().split()))\n",
    "\n",
    "cost = P - Q\n",
    "dinner = min(price)\n",
    "if dinner < cost:\n",
    "    print(int(Q + dinner))\n",
    "else:\n",
    "    print(P)"
   ]
  },
  {
   "cell_type": "code",
   "execution_count": 18,
   "id": "d02e21c7-b80f-444e-bc97-996006d316d7",
   "metadata": {},
   "outputs": [
    {
     "name": "stdin",
     "output_type": "stream",
     "text": [
      " 4 4\n",
      " 3 1 1\n",
      " 3 1 2\n",
      " 3 1 2\n",
      " 4 2 2 3\n"
     ]
    },
    {
     "name": "stdout",
     "output_type": "stream",
     "text": [
      "No\n"
     ]
    }
   ],
   "source": [
    "# import copy\n",
    "N, M = map(int, input().split())\n",
    "items = [None]*N\n",
    "for i in range(N):\n",
    "    items[i] = (list(map(int, input().split())))\n",
    "items = sorted(items, key=lambda x: x[0], reverse=True)\n",
    "prices = [items[i][0] for i in range(N)]\n",
    "for i in range(N):\n",
    "    del items[i][0]\n",
    "functions = [items[i][0] for i in range(N)]\n",
    "for i in range(N):\n",
    "    del items[i][0]\n",
    "items = [sorted(items[i]) for i in range(N)]\n",
    "# tmp = copy.deepcopy(items[0])\n",
    "ans = \"No\"\n",
    "for i in range(N-1):\n",
    "    tmp = items[i]\n",
    "    p = prices[i]\n",
    "    l = functions[i]\n",
    "    for j in range(i+1, N):\n",
    "        if all(elem in items[j] for elem in tmp):\n",
    "            if p!=prices[j] or l<functions[j]:\n",
    "                ans = \"Yes\"\n",
    "                break\n",
    "print(ans)"
   ]
  },
  {
   "cell_type": "code",
   "execution_count": 27,
   "id": "279cd00a-5fed-41bd-a1fa-3df84b881dde",
   "metadata": {},
   "outputs": [
    {
     "name": "stdin",
     "output_type": "stream",
     "text": [
      " 6\n",
      " a\n",
      " abc\n",
      " de\n",
      " cba\n",
      " de\n",
      " abc\n"
     ]
    },
    {
     "name": "stdout",
     "output_type": "stream",
     "text": [
      "3\n"
     ]
    }
   ],
   "source": [
    "N = int(input())\n",
    "bars = {}\n",
    "for i in range(N):\n",
    "    tmp = input()\n",
    "    if tmp not in bars:\n",
    "        if tmp[::-1] not in bars:\n",
    "            bars[tmp] = 1\n",
    "print(len(bars))"
   ]
  },
  {
   "cell_type": "code",
   "execution_count": 30,
   "id": "3a9eb29a-805c-443e-abce-7b91745e219f",
   "metadata": {},
   "outputs": [
    {
     "data": {
      "text/plain": [
       "{'a': 1, 'abc': 1, 'de': 1}"
      ]
     },
     "execution_count": 30,
     "metadata": {},
     "output_type": "execute_result"
    }
   ],
   "source": [
    "bars"
   ]
  },
  {
   "cell_type": "code",
   "execution_count": 29,
   "id": "d53224ac-d8c8-48b1-9f3f-74ae332ab7ca",
   "metadata": {},
   "outputs": [
    {
     "name": "stdin",
     "output_type": "stream",
     "text": [
      " 30\n",
      " 101010000100101011010011000010\n"
     ]
    },
    {
     "name": "stdout",
     "output_type": "stream",
     "text": [
      "326\n"
     ]
    }
   ],
   "source": [
    "def nand(a, b):\n",
    "    return not (a and b)\n",
    "N = int(input())\n",
    "S = list(map(str, input()))\n",
    "ans = 0\n",
    "for i in range(N):\n",
    "    for j in range(i, N):\n",
    "        if j == i:\n",
    "            tmp = int(S[i])\n",
    "            ans += int(S[i])\n",
    "        else:\n",
    "            tmp = nand(tmp, int(S[j]))\n",
    "            ans += tmp\n",
    "print(ans)"
   ]
  },
  {
   "cell_type": "code",
   "execution_count": null,
   "id": "188d5034-16d6-4aba-ba61-0c323d273f5a",
   "metadata": {},
   "outputs": [],
   "source": []
  }
 ],
 "metadata": {
  "kernelspec": {
   "display_name": "Python 3 (ipykernel)",
   "language": "python",
   "name": "python3"
  },
  "language_info": {
   "codemirror_mode": {
    "name": "ipython",
    "version": 3
   },
   "file_extension": ".py",
   "mimetype": "text/x-python",
   "name": "python",
   "nbconvert_exporter": "python",
   "pygments_lexer": "ipython3",
   "version": "3.9.7"
  }
 },
 "nbformat": 4,
 "nbformat_minor": 5
}
