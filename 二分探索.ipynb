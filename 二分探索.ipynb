{
 "cells": [
  {
   "cell_type": "code",
   "execution_count": null,
   "id": "367a65b0-1bb6-4f18-8f21-ce0bf8b0da7e",
   "metadata": {},
   "outputs": [],
   "source": []
  },
  {
   "cell_type": "code",
   "execution_count": null,
   "id": "1a4dcd2a-afee-4a28-95b3-f70179cc63ed",
   "metadata": {},
   "outputs": [],
   "source": [
    "#x以下のものがK個以上あるか？→二分探索\n",
    "N,K = map(int,input().split())\n",
    "A = list(map(int,input().split()))\n",
    "AA = [A[i]**2 for i in range(N) if A[i] != 0]\n",
    "AA.sort()\n",
    "PA = [A[i] for i in range(N) if A[i] > 0] #非負\n",
    "MA = [-A[i] for i in range(N) if A[i] < 0] #負\n",
    "lpa = len(PA)\n",
    "lma = len(MA)\n",
    "lzero = N - lpa - lma\n",
    "ll = lpa*lma + lzero*(lpa+lma) + lzero*(lzero-1)//2\n",
    "MA_M = [-MA[i] for i in range(lma)]\n",
    "MA_M.sort()\n",
    "PA.sort()\n",
    "MA.sort()\n",
    " \n",
    "top = 10**18+1\n",
    "bot = -10**18-1\n",
    " \n",
    "from bisect import bisect\n",
    " \n",
    "def simple_bisect(L,val,l):\n",
    "    if l == 0:\n",
    "        return 0\n",
    "    if L[0]>val:\n",
    "        return 0\n",
    "    upper = l\n",
    "    lower = 0\n",
    "    while upper-lower>1:\n",
    "        cen = (upper+lower)//2\n",
    "        if L[cen] > val:\n",
    "            upper = cen\n",
    "        else:\n",
    "            lower = cen\n",
    "    return upper\n",
    " \n",
    "while top-bot > 1:\n",
    "    cen = (top+bot)//2\n",
    "    if cen >= 0:\n",
    "        S = 0\n",
    "        for a in PA:\n",
    "            S += simple_bisect(PA,cen//a,lpa)\n",
    "        for a in MA:\n",
    "            S += simple_bisect(MA,cen//a,lma)\n",
    "        S -= bisect(AA,cen)\n",
    "        S//=2\n",
    "        S += ll\n",
    "        #print(S)\n",
    "        if S >= K:\n",
    "            top = cen\n",
    "        else:\n",
    "            bot = cen\n",
    "    else:\n",
    "        S = 0\n",
    "        for a in PA:\n",
    "            S += simple_bisect(MA_M,cen//a,lma)\n",
    "        if S >= K:\n",
    "            top = cen\n",
    "        else:\n",
    "            bot = cen\n",
    "print(top)"
   ]
  },
  {
   "cell_type": "code",
   "execution_count": 1,
   "id": "467dfa2b-7a36-4637-81ad-85d405d7a75b",
   "metadata": {
    "tags": []
   },
   "outputs": [
    {
     "name": "stdin",
     "output_type": "stream",
     "text": [
      " 3 34\n",
      " 1\n",
      " 8 13 26\n"
     ]
    },
    {
     "name": "stdout",
     "output_type": "stream",
     "text": [
      "13\n"
     ]
    }
   ],
   "source": [
    "n, l = map(int, input().split())\n",
    "k = int(input())\n",
    "A = list(map(int, input().split()))\n",
    "A.append(l)\n",
    "def check(n, k):\n",
    "    left = 1\n",
    "    right = l+1\n",
    "    while right-left>1:\n",
    "        m = (right+left)//2\n",
    "        pre = 0\n",
    "        cut=0\n",
    "        for i in range(n+1):\n",
    "            if A[i]-pre<m:\n",
    "                continue\n",
    "            else:\n",
    "                pre = A[i]\n",
    "                cut+=1\n",
    "        if cut<=k:\n",
    "            right = m\n",
    "        else:\n",
    "            left = m\n",
    "    return left\n",
    "ans = check(n, k)\n",
    "print(ans)"
   ]
  },
  {
   "cell_type": "code",
   "execution_count": 6,
   "id": "7abd7999-20aa-48c2-bb3a-7e93bd58c670",
   "metadata": {
    "tags": []
   },
   "outputs": [
    {
     "name": "stdin",
     "output_type": "stream",
     "text": [
      " 3 100\n",
      " 3\n",
      " 25 50 75\n"
     ]
    },
    {
     "name": "stdout",
     "output_type": "stream",
     "text": [
      "26\n"
     ]
    }
   ],
   "source": [
    "n, l = map(int, input().split())\n",
    "k = int(input())\n",
    "A = list(map(int, input().split()))\n",
    "A.append(l)\n",
    "def check(n, k):\n",
    "    left = 1\n",
    "    right = l+1\n",
    "    while right-left>1:\n",
    "        m = (right+left)//2\n",
    "        pre = 0\n",
    "        cut=0\n",
    "        for i in range(n+1):\n",
    "            if A[i]-pre<m:\n",
    "                continue\n",
    "            else:\n",
    "                pre = A[i]\n",
    "                cut+=1\n",
    "        if cut<=k:\n",
    "            right = m\n",
    "        else:\n",
    "            left = m\n",
    "    return l\n",
    "ans = check(n, k)\n",
    "print(ans)"
   ]
  },
  {
   "cell_type": "code",
   "execution_count": 27,
   "id": "6dcb15db-634b-4c84-97a8-5045209127ed",
   "metadata": {
    "tags": []
   },
   "outputs": [
    {
     "name": "stdin",
     "output_type": "stream",
     "text": [
      " 6\n",
      " 3 14 159 2 6 53\n",
      " 58 9 79 323 84 6\n",
      " 2643 383 2 79 50 288\n"
     ]
    },
    {
     "name": "stdout",
     "output_type": "stream",
     "text": [
      "2 0 1\n",
      "3 1 1\n",
      "5 2 2\n",
      "5 3 3\n",
      "5 4 3\n",
      "6 5 4\n",
      "87\n"
     ]
    }
   ],
   "source": [
    "import bisect\n",
    "N = int(input())\n",
    "A = list(map(int, input().split()))\n",
    "B = list(map(int, input().split()))\n",
    "C = list(map(int, input().split()))\n",
    "A.sort()\n",
    "B.sort()\n",
    "C.sort()\n",
    "ans = 0\n",
    "for i in range(N):\n",
    "    b = B[i]\n",
    "    a = bisect.bisect_left(A, b)\n",
    "    c = bisect.bisect_right(C, b)\n",
    "    # print(a, i, c)\n",
    "    ans += a*(N-c)\n",
    "print(ans)"
   ]
  },
  {
   "cell_type": "code",
   "execution_count": 12,
   "id": "84ab7299-0251-40a5-aa26-494348ddc917",
   "metadata": {
    "tags": []
   },
   "outputs": [
    {
     "data": {
      "text/plain": [
       "[0, 1, 3, 8]"
      ]
     },
     "execution_count": 12,
     "metadata": {},
     "output_type": "execute_result"
    }
   ],
   "source": [
    "N = int(input())\n"
   ]
  },
  {
   "cell_type": "code",
   "execution_count": 13,
   "id": "4b0f0c70-3793-4254-9bf8-46823a768e8e",
   "metadata": {},
   "outputs": [
    {
     "data": {
      "text/plain": [
       "3"
      ]
     },
     "execution_count": 13,
     "metadata": {},
     "output_type": "execute_result"
    }
   ],
   "source": [
    "idx1"
   ]
  },
  {
   "cell_type": "code",
   "execution_count": null,
   "id": "804b8f8b-4df8-4667-bfa8-872e12c45411",
   "metadata": {},
   "outputs": [],
   "source": []
  }
 ],
 "metadata": {
  "kernelspec": {
   "display_name": "Python 3 (ipykernel)",
   "language": "python",
   "name": "python3"
  },
  "language_info": {
   "codemirror_mode": {
    "name": "ipython",
    "version": 3
   },
   "file_extension": ".py",
   "mimetype": "text/x-python",
   "name": "python",
   "nbconvert_exporter": "python",
   "pygments_lexer": "ipython3",
   "version": "3.11.4"
  }
 },
 "nbformat": 4,
 "nbformat_minor": 5
}
